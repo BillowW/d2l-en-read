{
 "metadata": {
  "language_info": {
   "codemirror_mode": {
    "name": "ipython",
    "version": 3
   },
   "file_extension": ".py",
   "mimetype": "text/x-python",
   "name": "python",
   "nbconvert_exporter": "python",
   "pygments_lexer": "ipython3",
   "version": "3.8.3-final"
  },
  "orig_nbformat": 2,
  "kernelspec": {
   "name": "python38364bitpytorchconda70fdc7f787194f4c972bb3207dd25917",
   "display_name": "Python 3.8.3 64-bit ('pytorch': conda)"
  }
 },
 "nbformat": 4,
 "nbformat_minor": 2,
 "cells": [
  {
   "cell_type": "code",
   "execution_count": 1,
   "metadata": {},
   "outputs": [],
   "source": [
    "%matplotlib inline\n",
    "from d2l import torch as d2l\n",
    "import torch"
   ]
  },
  {
   "cell_type": "markdown",
   "metadata": {},
   "source": [
    "https://pytorch.org/docs/stable/random.html\n",
    "https://blog.csdn.net/sinat_37145472/article/details/94755405\n",
    "https://numpy.org/doc/stable/reference/random/generated/numpy.random.normal.html\n",
    "https://pytorch.org/docs/master/generated/torch.normal.html\n",
    "http://preview.d2l.ai/d2l-en/master/chapter_optimization/sgd.html?highlight=random%20normal"
   ]
  },
  {
   "cell_type": "code",
   "execution_count": 2,
   "metadata": {},
   "outputs": [
    {
     "output_type": "error",
     "ename": "TypeError",
     "evalue": "normal() missing 1 required positional arguments: \"mean\"",
     "traceback": [
      "\u001b[1;31m---------------------------------------------------------------------------\u001b[0m",
      "\u001b[1;31mTypeError\u001b[0m                                 Traceback (most recent call last)",
      "\u001b[1;32m<ipython-input-2-aa3594271218>\u001b[0m in \u001b[0;36m<module>\u001b[1;34m\u001b[0m\n\u001b[1;32m----> 1\u001b[1;33m \u001b[0mX\u001b[0m \u001b[1;33m=\u001b[0m \u001b[0mtorch\u001b[0m\u001b[1;33m.\u001b[0m\u001b[0mnormal\u001b[0m\u001b[1;33m(\u001b[0m\u001b[0msize\u001b[0m\u001b[1;33m=\u001b[0m\u001b[1;33m(\u001b[0m\u001b[1;36m1000\u001b[0m\u001b[1;33m,\u001b[0m \u001b[1;36m2\u001b[0m\u001b[1;33m)\u001b[0m\u001b[1;33m)\u001b[0m\u001b[1;33m\u001b[0m\u001b[1;33m\u001b[0m\u001b[0m\n\u001b[0m",
      "\u001b[1;31mTypeError\u001b[0m: normal() missing 1 required positional arguments: \"mean\""
     ]
    }
   ],
   "source": [
    "X = torch.normal(size=(1000, 2))"
   ]
  },
  {
   "cell_type": "code",
   "execution_count": 3,
   "metadata": {},
   "outputs": [
    {
     "output_type": "error",
     "ename": "TypeError",
     "evalue": "normal() received an invalid combination of arguments - got (size=tuple, mean=float, ), but expected one of:\n * (Tensor mean, Tensor std, *, torch.Generator generator, Tensor out)\n * (Tensor mean, float std, *, torch.Generator generator, Tensor out)\n * (float mean, Tensor std, *, torch.Generator generator, Tensor out)\n * (float mean, float std, tuple of ints size, *, torch.Generator generator, Tensor out, torch.dtype dtype, torch.layout layout, torch.device device, bool pin_memory, bool requires_grad)\n",
     "traceback": [
      "\u001b[1;31m---------------------------------------------------------------------------\u001b[0m",
      "\u001b[1;31mTypeError\u001b[0m                                 Traceback (most recent call last)",
      "\u001b[1;32m<ipython-input-3-118e44b8b4d6>\u001b[0m in \u001b[0;36m<module>\u001b[1;34m\u001b[0m\n\u001b[1;32m----> 1\u001b[1;33m \u001b[0mX\u001b[0m \u001b[1;33m=\u001b[0m \u001b[0mtorch\u001b[0m\u001b[1;33m.\u001b[0m\u001b[0mnormal\u001b[0m\u001b[1;33m(\u001b[0m\u001b[0mmean\u001b[0m\u001b[1;33m=\u001b[0m\u001b[1;36m0.0\u001b[0m\u001b[1;33m,\u001b[0m\u001b[0msize\u001b[0m\u001b[1;33m=\u001b[0m\u001b[1;33m(\u001b[0m\u001b[1;36m1000\u001b[0m\u001b[1;33m,\u001b[0m \u001b[1;36m2\u001b[0m\u001b[1;33m)\u001b[0m\u001b[1;33m)\u001b[0m\u001b[1;33m\u001b[0m\u001b[1;33m\u001b[0m\u001b[0m\n\u001b[0m",
      "\u001b[1;31mTypeError\u001b[0m: normal() received an invalid combination of arguments - got (size=tuple, mean=float, ), but expected one of:\n * (Tensor mean, Tensor std, *, torch.Generator generator, Tensor out)\n * (Tensor mean, float std, *, torch.Generator generator, Tensor out)\n * (float mean, Tensor std, *, torch.Generator generator, Tensor out)\n * (float mean, float std, tuple of ints size, *, torch.Generator generator, Tensor out, torch.dtype dtype, torch.layout layout, torch.device device, bool pin_memory, bool requires_grad)\n"
     ]
    }
   ],
   "source": [
    "X = torch.normal(mean=0.0,size=(1000, 2))"
   ]
  },
  {
   "cell_type": "code",
   "execution_count": 4,
   "metadata": {},
   "outputs": [],
   "source": [
    "X = torch.normal(0.0, 1, (1000, 2))"
   ]
  },
  {
   "cell_type": "markdown",
   "metadata": {},
   "source": [
    "http://preview.d2l.ai/d2l-en/master/chapter_preliminaries/linear-algebra.html"
   ]
  },
  {
   "cell_type": "code",
   "execution_count": 5,
   "metadata": {},
   "outputs": [],
   "source": [
    "A = torch.tensor([[1, 2], [-0.1, 0.5]])\n",
    "b = torch.tensor([1, 2])"
   ]
  },
  {
   "cell_type": "code",
   "execution_count": 6,
   "metadata": {},
   "outputs": [
    {
     "output_type": "error",
     "ename": "RuntimeError",
     "evalue": "1D tensors expected, got 2D, 2D tensors at C:\\cb\\pytorch_1000000000000\\work\\aten\\src\\TH/generic/THTensorEvenMoreMath.cpp:431",
     "traceback": [
      "\u001b[1;31m---------------------------------------------------------------------------\u001b[0m",
      "\u001b[1;31mRuntimeError\u001b[0m                              Traceback (most recent call last)",
      "\u001b[1;32m<ipython-input-6-6fa27d70da5c>\u001b[0m in \u001b[0;36m<module>\u001b[1;34m\u001b[0m\n\u001b[1;32m----> 1\u001b[1;33m \u001b[0mdata\u001b[0m \u001b[1;33m=\u001b[0m \u001b[0mX\u001b[0m\u001b[1;33m.\u001b[0m\u001b[0mdot\u001b[0m\u001b[1;33m(\u001b[0m\u001b[0mA\u001b[0m\u001b[1;33m)\u001b[0m \u001b[1;33m+\u001b[0m \u001b[0mb\u001b[0m\u001b[1;33m\u001b[0m\u001b[1;33m\u001b[0m\u001b[0m\n\u001b[0m",
      "\u001b[1;31mRuntimeError\u001b[0m: 1D tensors expected, got 2D, 2D tensors at C:\\cb\\pytorch_1000000000000\\work\\aten\\src\\TH/generic/THTensorEvenMoreMath.cpp:431"
     ]
    }
   ],
   "source": [
    "data = X.dot(A) + b"
   ]
  },
  {
   "cell_type": "markdown",
   "metadata": {},
   "source": [
    "tensor.dot()方法进行了更新，只能对1维的tensor进行点乘运算\n",
    "https://blog.csdn.net/qq_36852840/article/details/105224662\n",
    "\n",
    "This function does not broadcast.\n",
    "https://pytorch.org/docs/stable/generated/torch.dot.html\n",
    "\n",
    "https://stackoom.com/question/3ErAp/%E5%A6%82%E4%BD%95%E5%9C%A8PyTorch%E4%B8%AD%E5%B0%86%E7%9F%A9%E9%98%B5%E4%B9%98%E4%BB%A5%E5%90%91%E9%87%8F"
   ]
  },
  {
   "cell_type": "code",
   "execution_count": 7,
   "metadata": {},
   "outputs": [
    {
     "output_type": "error",
     "ename": "NameError",
     "evalue": "name 'dot' is not defined",
     "traceback": [
      "\u001b[1;31m---------------------------------------------------------------------------\u001b[0m",
      "\u001b[1;31mNameError\u001b[0m                                 Traceback (most recent call last)",
      "\u001b[1;32m<ipython-input-7-b96a83e928ff>\u001b[0m in \u001b[0;36m<module>\u001b[1;34m\u001b[0m\n\u001b[1;32m----> 1\u001b[1;33m \u001b[0mdata\u001b[0m \u001b[1;33m=\u001b[0m \u001b[0mdot\u001b[0m\u001b[1;33m(\u001b[0m\u001b[0mX\u001b[0m\u001b[1;33m,\u001b[0m \u001b[0mA\u001b[0m\u001b[1;33m)\u001b[0m \u001b[1;33m+\u001b[0m \u001b[0mb\u001b[0m\u001b[1;33m\u001b[0m\u001b[1;33m\u001b[0m\u001b[0m\n\u001b[0m",
      "\u001b[1;31mNameError\u001b[0m: name 'dot' is not defined"
     ]
    }
   ],
   "source": [
    "data = dot(X, A) + b"
   ]
  },
  {
   "cell_type": "code",
   "execution_count": 8,
   "metadata": {},
   "outputs": [
    {
     "output_type": "error",
     "ename": "RuntimeError",
     "evalue": "1D tensors expected, got 2D, 2D tensors at C:\\cb\\pytorch_1000000000000\\work\\aten\\src\\TH/generic/THTensorEvenMoreMath.cpp:431",
     "traceback": [
      "\u001b[1;31m---------------------------------------------------------------------------\u001b[0m",
      "\u001b[1;31mRuntimeError\u001b[0m                              Traceback (most recent call last)",
      "\u001b[1;32m<ipython-input-8-adb408de6058>\u001b[0m in \u001b[0;36m<module>\u001b[1;34m\u001b[0m\n\u001b[1;32m----> 1\u001b[1;33m \u001b[0mdata\u001b[0m \u001b[1;33m=\u001b[0m \u001b[0mtorch\u001b[0m\u001b[1;33m.\u001b[0m\u001b[0mdot\u001b[0m\u001b[1;33m(\u001b[0m\u001b[0mX\u001b[0m\u001b[1;33m,\u001b[0m \u001b[0mA\u001b[0m\u001b[1;33m)\u001b[0m \u001b[1;33m+\u001b[0m \u001b[0mb\u001b[0m\u001b[1;33m\u001b[0m\u001b[1;33m\u001b[0m\u001b[0m\n\u001b[0m",
      "\u001b[1;31mRuntimeError\u001b[0m: 1D tensors expected, got 2D, 2D tensors at C:\\cb\\pytorch_1000000000000\\work\\aten\\src\\TH/generic/THTensorEvenMoreMath.cpp:431"
     ]
    }
   ],
   "source": [
    "data = torch.dot(X, A) + b"
   ]
  },
  {
   "cell_type": "code",
   "execution_count": 9,
   "metadata": {},
   "outputs": [],
   "source": [
    "data = torch.mm(X, A) + b"
   ]
  },
  {
   "cell_type": "markdown",
   "metadata": {},
   "source": [
    "X = np.random.normal(size=(1000, 2))\n",
    "A = np.array([[1, 2], [-0.1, 0.5]])\n",
    "b = np.array([1, 2])\n",
    "data = X.dot(A) + b"
   ]
  },
  {
   "cell_type": "code",
   "execution_count": 10,
   "metadata": {},
   "outputs": [
    {
     "output_type": "execute_result",
     "data": {
      "text/plain": "tensor([[1.3479, 3.0630],\n        [4.1393, 9.5028],\n        [3.0181, 5.7695],\n        ...,\n        [1.7863, 2.9430],\n        [0.6973, 1.5572],\n        [0.8790, 1.6683]])"
     },
     "metadata": {},
     "execution_count": 10
    }
   ],
   "source": [
    "data"
   ]
  },
  {
   "cell_type": "code",
   "execution_count": 11,
   "metadata": {},
   "outputs": [
    {
     "output_type": "execute_result",
     "data": {
      "text/plain": "1000"
     },
     "metadata": {},
     "execution_count": 11
    }
   ],
   "source": [
    "len(data)"
   ]
  },
  {
   "cell_type": "code",
   "execution_count": 12,
   "metadata": {},
   "outputs": [
    {
     "output_type": "error",
     "ename": "AttributeError",
     "evalue": "'Tensor' object has no attribute 'asnumpy'",
     "traceback": [
      "\u001b[1;31m---------------------------------------------------------------------------\u001b[0m",
      "\u001b[1;31mAttributeError\u001b[0m                            Traceback (most recent call last)",
      "\u001b[1;32m<ipython-input-12-58754157be3b>\u001b[0m in \u001b[0;36m<module>\u001b[1;34m\u001b[0m\n\u001b[0;32m      1\u001b[0m \u001b[0md2l\u001b[0m\u001b[1;33m.\u001b[0m\u001b[0mset_figsize\u001b[0m\u001b[1;33m(\u001b[0m\u001b[1;33m)\u001b[0m\u001b[1;33m\u001b[0m\u001b[1;33m\u001b[0m\u001b[0m\n\u001b[1;32m----> 2\u001b[1;33m \u001b[0md2l\u001b[0m\u001b[1;33m.\u001b[0m\u001b[0mplt\u001b[0m\u001b[1;33m.\u001b[0m\u001b[0mscatter\u001b[0m\u001b[1;33m(\u001b[0m\u001b[0mdata\u001b[0m\u001b[1;33m[\u001b[0m\u001b[1;33m:\u001b[0m\u001b[1;36m100\u001b[0m\u001b[1;33m,\u001b[0m \u001b[1;36m0\u001b[0m\u001b[1;33m]\u001b[0m\u001b[1;33m.\u001b[0m\u001b[0masnumpy\u001b[0m\u001b[1;33m(\u001b[0m\u001b[1;33m)\u001b[0m\u001b[1;33m,\u001b[0m \u001b[0mdata\u001b[0m\u001b[1;33m[\u001b[0m\u001b[1;33m:\u001b[0m\u001b[1;36m100\u001b[0m\u001b[1;33m,\u001b[0m \u001b[1;36m1\u001b[0m\u001b[1;33m]\u001b[0m\u001b[1;33m.\u001b[0m\u001b[0masnumpy\u001b[0m\u001b[1;33m(\u001b[0m\u001b[1;33m)\u001b[0m\u001b[1;33m)\u001b[0m\u001b[1;33m;\u001b[0m\u001b[1;33m\u001b[0m\u001b[1;33m\u001b[0m\u001b[0m\n\u001b[0m\u001b[0;32m      3\u001b[0m \u001b[0mprint\u001b[0m\u001b[1;33m(\u001b[0m\u001b[1;34mf'The covariance matrix is\\n{np.dot(A.T, A)}'\u001b[0m\u001b[1;33m)\u001b[0m\u001b[1;33m\u001b[0m\u001b[1;33m\u001b[0m\u001b[0m\n",
      "\u001b[1;31mAttributeError\u001b[0m: 'Tensor' object has no attribute 'asnumpy'"
     ]
    }
   ],
   "source": [
    "d2l.set_figsize()\n",
    "d2l.plt.scatter(data[:100, 0].asnumpy(), data[:100, 1].asnumpy());\n",
    "print(f'The covariance matrix is\\n{np.dot(A.T, A)}')"
   ]
  },
  {
   "cell_type": "code",
   "execution_count": 13,
   "metadata": {},
   "outputs": [],
   "source": [
    "d2l.set_figsize()"
   ]
  },
  {
   "cell_type": "code",
   "execution_count": 14,
   "metadata": {},
   "outputs": [
    {
     "output_type": "display_data",
     "data": {
      "text/plain": "<Figure size 252x180 with 1 Axes>",
      "image/svg+xml": "<?xml version=\"1.0\" encoding=\"utf-8\" standalone=\"no\"?>\r\n<!DOCTYPE svg PUBLIC \"-//W3C//DTD SVG 1.1//EN\"\r\n  \"http://www.w3.org/Graphics/SVG/1.1/DTD/svg11.dtd\">\r\n<!-- Created with matplotlib (https://matplotlib.org/) -->\r\n<svg height=\"169.452457pt\" version=\"1.1\" viewBox=\"0 0 240.982812 169.452457\" width=\"240.982812pt\" xmlns=\"http://www.w3.org/2000/svg\" xmlns:xlink=\"http://www.w3.org/1999/xlink\">\r\n <metadata>\r\n  <rdf:RDF xmlns:cc=\"http://creativecommons.org/ns#\" xmlns:dc=\"http://purl.org/dc/elements/1.1/\" xmlns:rdf=\"http://www.w3.org/1999/02/22-rdf-syntax-ns#\">\r\n   <cc:Work>\r\n    <dc:type rdf:resource=\"http://purl.org/dc/dcmitype/StillImage\"/>\r\n    <dc:date>2020-08-06T21:58:42.190035</dc:date>\r\n    <dc:format>image/svg+xml</dc:format>\r\n    <dc:creator>\r\n     <cc:Agent>\r\n      <dc:title>Matplotlib v3.3.0, https://matplotlib.org/</dc:title>\r\n     </cc:Agent>\r\n    </dc:creator>\r\n   </cc:Work>\r\n  </rdf:RDF>\r\n </metadata>\r\n <defs>\r\n  <style type=\"text/css\">*{stroke-linecap:butt;stroke-linejoin:round;}</style>\r\n </defs>\r\n <g id=\"figure_1\">\r\n  <g id=\"patch_1\">\r\n   <path d=\"M -0 169.452457 \r\nL 240.982813 169.452457 \r\nL 240.982813 0 \r\nL -0 0 \r\nz\r\n\" style=\"fill:none;\"/>\r\n  </g>\r\n  <g id=\"axes_1\">\r\n   <g id=\"patch_2\">\r\n    <path d=\"M 38.482813 145.574332 \r\nL 233.782813 145.574332 \r\nL 233.782813 9.674332 \r\nL 38.482813 9.674332 \r\nz\r\n\" style=\"fill:#ffffff;\"/>\r\n   </g>\r\n   <g id=\"PathCollection_1\">\r\n    <defs>\r\n     <path d=\"M 0 3 \r\nC 0.795609 3 1.55874 2.683901 2.12132 2.12132 \r\nC 2.683901 1.55874 3 0.795609 3 0 \r\nC 3 -0.795609 2.683901 -1.55874 2.12132 -2.12132 \r\nC 1.55874 -2.683901 0.795609 -3 0 -3 \r\nC -0.795609 -3 -1.55874 -2.683901 -2.12132 -2.12132 \r\nC -2.683901 -1.55874 -3 -0.795609 -3 0 \r\nC -3 0.795609 -2.683901 1.55874 -2.12132 2.12132 \r\nC -1.55874 2.683901 -0.795609 3 0 3 \r\nz\r\n\" id=\"m66c9b83c09\" style=\"stroke:#1f77b4;\"/>\r\n    </defs>\r\n    <g clip-path=\"url(#p0819654353)\">\r\n     <use style=\"fill:#1f77b4;stroke:#1f77b4;\" x=\"130.382745\" xlink:href=\"#m66c9b83c09\" y=\"78.704937\"/>\r\n     <use style=\"fill:#1f77b4;stroke:#1f77b4;\" x=\"224.90554\" xlink:href=\"#m66c9b83c09\" y=\"15.851605\"/>\r\n     <use style=\"fill:#1f77b4;stroke:#1f77b4;\" x=\"186.939076\" xlink:href=\"#m66c9b83c09\" y=\"52.28914\"/>\r\n     <use style=\"fill:#1f77b4;stroke:#1f77b4;\" x=\"130.95541\" xlink:href=\"#m66c9b83c09\" y=\"77.732665\"/>\r\n     <use style=\"fill:#1f77b4;stroke:#1f77b4;\" x=\"109.342332\" xlink:href=\"#m66c9b83c09\" y=\"95.536616\"/>\r\n     <use style=\"fill:#1f77b4;stroke:#1f77b4;\" x=\"110.899166\" xlink:href=\"#m66c9b83c09\" y=\"88.552146\"/>\r\n     <use style=\"fill:#1f77b4;stroke:#1f77b4;\" x=\"154.99706\" xlink:href=\"#m66c9b83c09\" y=\"77.549398\"/>\r\n     <use style=\"fill:#1f77b4;stroke:#1f77b4;\" x=\"156.925019\" xlink:href=\"#m66c9b83c09\" y=\"68.91674\"/>\r\n     <use style=\"fill:#1f77b4;stroke:#1f77b4;\" x=\"86.805147\" xlink:href=\"#m66c9b83c09\" y=\"110.89564\"/>\r\n     <use style=\"fill:#1f77b4;stroke:#1f77b4;\" x=\"142.037452\" xlink:href=\"#m66c9b83c09\" y=\"78.664694\"/>\r\n     <use style=\"fill:#1f77b4;stroke:#1f77b4;\" x=\"119.053247\" xlink:href=\"#m66c9b83c09\" y=\"84.331395\"/>\r\n     <use style=\"fill:#1f77b4;stroke:#1f77b4;\" x=\"141.141506\" xlink:href=\"#m66c9b83c09\" y=\"76.712034\"/>\r\n     <use style=\"fill:#1f77b4;stroke:#1f77b4;\" x=\"95.670006\" xlink:href=\"#m66c9b83c09\" y=\"97.646922\"/>\r\n     <use style=\"fill:#1f77b4;stroke:#1f77b4;\" x=\"117.444534\" xlink:href=\"#m66c9b83c09\" y=\"85.446032\"/>\r\n     <use style=\"fill:#1f77b4;stroke:#1f77b4;\" x=\"170.437884\" xlink:href=\"#m66c9b83c09\" y=\"57.697773\"/>\r\n     <use style=\"fill:#1f77b4;stroke:#1f77b4;\" x=\"120.363044\" xlink:href=\"#m66c9b83c09\" y=\"70.761118\"/>\r\n     <use style=\"fill:#1f77b4;stroke:#1f77b4;\" x=\"119.099294\" xlink:href=\"#m66c9b83c09\" y=\"89.585458\"/>\r\n     <use style=\"fill:#1f77b4;stroke:#1f77b4;\" x=\"94.788714\" xlink:href=\"#m66c9b83c09\" y=\"114.946095\"/>\r\n     <use style=\"fill:#1f77b4;stroke:#1f77b4;\" x=\"112.686563\" xlink:href=\"#m66c9b83c09\" y=\"83.486905\"/>\r\n     <use style=\"fill:#1f77b4;stroke:#1f77b4;\" x=\"187.317352\" xlink:href=\"#m66c9b83c09\" y=\"52.882042\"/>\r\n     <use style=\"fill:#1f77b4;stroke:#1f77b4;\" x=\"128.166588\" xlink:href=\"#m66c9b83c09\" y=\"86.347426\"/>\r\n     <use style=\"fill:#1f77b4;stroke:#1f77b4;\" x=\"87.29715\" xlink:href=\"#m66c9b83c09\" y=\"100.566746\"/>\r\n     <use style=\"fill:#1f77b4;stroke:#1f77b4;\" x=\"73.186566\" xlink:href=\"#m66c9b83c09\" y=\"114.730027\"/>\r\n     <use style=\"fill:#1f77b4;stroke:#1f77b4;\" x=\"178.951315\" xlink:href=\"#m66c9b83c09\" y=\"58.070124\"/>\r\n     <use style=\"fill:#1f77b4;stroke:#1f77b4;\" x=\"79.891216\" xlink:href=\"#m66c9b83c09\" y=\"108.988792\"/>\r\n     <use style=\"fill:#1f77b4;stroke:#1f77b4;\" x=\"84.035087\" xlink:href=\"#m66c9b83c09\" y=\"105.817054\"/>\r\n     <use style=\"fill:#1f77b4;stroke:#1f77b4;\" x=\"163.816123\" xlink:href=\"#m66c9b83c09\" y=\"66.548908\"/>\r\n     <use style=\"fill:#1f77b4;stroke:#1f77b4;\" x=\"135.465524\" xlink:href=\"#m66c9b83c09\" y=\"71.674971\"/>\r\n     <use style=\"fill:#1f77b4;stroke:#1f77b4;\" x=\"121.373264\" xlink:href=\"#m66c9b83c09\" y=\"92.381547\"/>\r\n     <use style=\"fill:#1f77b4;stroke:#1f77b4;\" x=\"122.941258\" xlink:href=\"#m66c9b83c09\" y=\"88.461537\"/>\r\n     <use style=\"fill:#1f77b4;stroke:#1f77b4;\" x=\"72.232137\" xlink:href=\"#m66c9b83c09\" y=\"112.016278\"/>\r\n     <use style=\"fill:#1f77b4;stroke:#1f77b4;\" x=\"150.417807\" xlink:href=\"#m66c9b83c09\" y=\"65.495992\"/>\r\n     <use style=\"fill:#1f77b4;stroke:#1f77b4;\" x=\"51.392919\" xlink:href=\"#m66c9b83c09\" y=\"139.397059\"/>\r\n     <use style=\"fill:#1f77b4;stroke:#1f77b4;\" x=\"101.82498\" xlink:href=\"#m66c9b83c09\" y=\"101.182951\"/>\r\n     <use style=\"fill:#1f77b4;stroke:#1f77b4;\" x=\"137.711819\" xlink:href=\"#m66c9b83c09\" y=\"72.076363\"/>\r\n     <use style=\"fill:#1f77b4;stroke:#1f77b4;\" x=\"132.190666\" xlink:href=\"#m66c9b83c09\" y=\"83.789419\"/>\r\n     <use style=\"fill:#1f77b4;stroke:#1f77b4;\" x=\"147.693195\" xlink:href=\"#m66c9b83c09\" y=\"77.467612\"/>\r\n     <use style=\"fill:#1f77b4;stroke:#1f77b4;\" x=\"96.758638\" xlink:href=\"#m66c9b83c09\" y=\"82.423825\"/>\r\n     <use style=\"fill:#1f77b4;stroke:#1f77b4;\" x=\"78.273914\" xlink:href=\"#m66c9b83c09\" y=\"111.516953\"/>\r\n     <use style=\"fill:#1f77b4;stroke:#1f77b4;\" x=\"99.063499\" xlink:href=\"#m66c9b83c09\" y=\"102.833342\"/>\r\n     <use style=\"fill:#1f77b4;stroke:#1f77b4;\" x=\"65.202612\" xlink:href=\"#m66c9b83c09\" y=\"129.498012\"/>\r\n     <use style=\"fill:#1f77b4;stroke:#1f77b4;\" x=\"90.005199\" xlink:href=\"#m66c9b83c09\" y=\"100.335151\"/>\r\n     <use style=\"fill:#1f77b4;stroke:#1f77b4;\" x=\"115.287891\" xlink:href=\"#m66c9b83c09\" y=\"84.85134\"/>\r\n     <use style=\"fill:#1f77b4;stroke:#1f77b4;\" x=\"123.836243\" xlink:href=\"#m66c9b83c09\" y=\"82.55315\"/>\r\n     <use style=\"fill:#1f77b4;stroke:#1f77b4;\" x=\"98.621646\" xlink:href=\"#m66c9b83c09\" y=\"100.390896\"/>\r\n     <use style=\"fill:#1f77b4;stroke:#1f77b4;\" x=\"189.498677\" xlink:href=\"#m66c9b83c09\" y=\"43.810202\"/>\r\n     <use style=\"fill:#1f77b4;stroke:#1f77b4;\" x=\"90.625929\" xlink:href=\"#m66c9b83c09\" y=\"109.889455\"/>\r\n     <use style=\"fill:#1f77b4;stroke:#1f77b4;\" x=\"168.530213\" xlink:href=\"#m66c9b83c09\" y=\"47.691522\"/>\r\n     <use style=\"fill:#1f77b4;stroke:#1f77b4;\" x=\"111.555457\" xlink:href=\"#m66c9b83c09\" y=\"93.065079\"/>\r\n     <use style=\"fill:#1f77b4;stroke:#1f77b4;\" x=\"144.905575\" xlink:href=\"#m66c9b83c09\" y=\"77.910752\"/>\r\n     <use style=\"fill:#1f77b4;stroke:#1f77b4;\" x=\"100.257961\" xlink:href=\"#m66c9b83c09\" y=\"108.775716\"/>\r\n     <use style=\"fill:#1f77b4;stroke:#1f77b4;\" x=\"112.642979\" xlink:href=\"#m66c9b83c09\" y=\"89.09372\"/>\r\n     <use style=\"fill:#1f77b4;stroke:#1f77b4;\" x=\"112.225043\" xlink:href=\"#m66c9b83c09\" y=\"81.631016\"/>\r\n     <use style=\"fill:#1f77b4;stroke:#1f77b4;\" x=\"119.391096\" xlink:href=\"#m66c9b83c09\" y=\"98.097551\"/>\r\n     <use style=\"fill:#1f77b4;stroke:#1f77b4;\" x=\"95.541864\" xlink:href=\"#m66c9b83c09\" y=\"100.164501\"/>\r\n     <use style=\"fill:#1f77b4;stroke:#1f77b4;\" x=\"132.749272\" xlink:href=\"#m66c9b83c09\" y=\"83.155761\"/>\r\n     <use style=\"fill:#1f77b4;stroke:#1f77b4;\" x=\"169.875746\" xlink:href=\"#m66c9b83c09\" y=\"52.295264\"/>\r\n     <use style=\"fill:#1f77b4;stroke:#1f77b4;\" x=\"157.528856\" xlink:href=\"#m66c9b83c09\" y=\"71.072027\"/>\r\n     <use style=\"fill:#1f77b4;stroke:#1f77b4;\" x=\"153.718519\" xlink:href=\"#m66c9b83c09\" y=\"71.796058\"/>\r\n     <use style=\"fill:#1f77b4;stroke:#1f77b4;\" x=\"96.462111\" xlink:href=\"#m66c9b83c09\" y=\"94.025135\"/>\r\n     <use style=\"fill:#1f77b4;stroke:#1f77b4;\" x=\"79.118482\" xlink:href=\"#m66c9b83c09\" y=\"118.562161\"/>\r\n     <use style=\"fill:#1f77b4;stroke:#1f77b4;\" x=\"124.62414\" xlink:href=\"#m66c9b83c09\" y=\"63.004401\"/>\r\n     <use style=\"fill:#1f77b4;stroke:#1f77b4;\" x=\"176.170505\" xlink:href=\"#m66c9b83c09\" y=\"67.738767\"/>\r\n     <use style=\"fill:#1f77b4;stroke:#1f77b4;\" x=\"157.63297\" xlink:href=\"#m66c9b83c09\" y=\"61.310354\"/>\r\n     <use style=\"fill:#1f77b4;stroke:#1f77b4;\" x=\"81.648687\" xlink:href=\"#m66c9b83c09\" y=\"116.289514\"/>\r\n     <use style=\"fill:#1f77b4;stroke:#1f77b4;\" x=\"159.339672\" xlink:href=\"#m66c9b83c09\" y=\"79.566348\"/>\r\n     <use style=\"fill:#1f77b4;stroke:#1f77b4;\" x=\"131.982742\" xlink:href=\"#m66c9b83c09\" y=\"82.059154\"/>\r\n     <use style=\"fill:#1f77b4;stroke:#1f77b4;\" x=\"160.436094\" xlink:href=\"#m66c9b83c09\" y=\"70.085289\"/>\r\n     <use style=\"fill:#1f77b4;stroke:#1f77b4;\" x=\"214.127806\" xlink:href=\"#m66c9b83c09\" y=\"25.77932\"/>\r\n     <use style=\"fill:#1f77b4;stroke:#1f77b4;\" x=\"99.45658\" xlink:href=\"#m66c9b83c09\" y=\"101.569325\"/>\r\n     <use style=\"fill:#1f77b4;stroke:#1f77b4;\" x=\"104.179801\" xlink:href=\"#m66c9b83c09\" y=\"101.413276\"/>\r\n     <use style=\"fill:#1f77b4;stroke:#1f77b4;\" x=\"116.171884\" xlink:href=\"#m66c9b83c09\" y=\"93.08069\"/>\r\n     <use style=\"fill:#1f77b4;stroke:#1f77b4;\" x=\"94.047509\" xlink:href=\"#m66c9b83c09\" y=\"108.543234\"/>\r\n     <use style=\"fill:#1f77b4;stroke:#1f77b4;\" x=\"62.256549\" xlink:href=\"#m66c9b83c09\" y=\"120.050554\"/>\r\n     <use style=\"fill:#1f77b4;stroke:#1f77b4;\" x=\"167.121167\" xlink:href=\"#m66c9b83c09\" y=\"65.996825\"/>\r\n     <use style=\"fill:#1f77b4;stroke:#1f77b4;\" x=\"141.995083\" xlink:href=\"#m66c9b83c09\" y=\"84.513854\"/>\r\n     <use style=\"fill:#1f77b4;stroke:#1f77b4;\" x=\"142.085044\" xlink:href=\"#m66c9b83c09\" y=\"71.383855\"/>\r\n     <use style=\"fill:#1f77b4;stroke:#1f77b4;\" x=\"154.067012\" xlink:href=\"#m66c9b83c09\" y=\"74.617653\"/>\r\n     <use style=\"fill:#1f77b4;stroke:#1f77b4;\" x=\"171.706656\" xlink:href=\"#m66c9b83c09\" y=\"53.767922\"/>\r\n     <use style=\"fill:#1f77b4;stroke:#1f77b4;\" x=\"140.184752\" xlink:href=\"#m66c9b83c09\" y=\"87.451917\"/>\r\n     <use style=\"fill:#1f77b4;stroke:#1f77b4;\" x=\"197.152718\" xlink:href=\"#m66c9b83c09\" y=\"35.081542\"/>\r\n     <use style=\"fill:#1f77b4;stroke:#1f77b4;\" x=\"47.360085\" xlink:href=\"#m66c9b83c09\" y=\"131.233378\"/>\r\n     <use style=\"fill:#1f77b4;stroke:#1f77b4;\" x=\"91.480324\" xlink:href=\"#m66c9b83c09\" y=\"101.298453\"/>\r\n     <use style=\"fill:#1f77b4;stroke:#1f77b4;\" x=\"113.78282\" xlink:href=\"#m66c9b83c09\" y=\"86.780639\"/>\r\n     <use style=\"fill:#1f77b4;stroke:#1f77b4;\" x=\"121.870577\" xlink:href=\"#m66c9b83c09\" y=\"82.064229\"/>\r\n     <use style=\"fill:#1f77b4;stroke:#1f77b4;\" x=\"58.969428\" xlink:href=\"#m66c9b83c09\" y=\"136.858989\"/>\r\n     <use style=\"fill:#1f77b4;stroke:#1f77b4;\" x=\"162.079106\" xlink:href=\"#m66c9b83c09\" y=\"71.202553\"/>\r\n     <use style=\"fill:#1f77b4;stroke:#1f77b4;\" x=\"105.479292\" xlink:href=\"#m66c9b83c09\" y=\"104.424424\"/>\r\n     <use style=\"fill:#1f77b4;stroke:#1f77b4;\" x=\"96.983462\" xlink:href=\"#m66c9b83c09\" y=\"92.426077\"/>\r\n     <use style=\"fill:#1f77b4;stroke:#1f77b4;\" x=\"164.282979\" xlink:href=\"#m66c9b83c09\" y=\"72.882017\"/>\r\n     <use style=\"fill:#1f77b4;stroke:#1f77b4;\" x=\"146.439568\" xlink:href=\"#m66c9b83c09\" y=\"76.67909\"/>\r\n     <use style=\"fill:#1f77b4;stroke:#1f77b4;\" x=\"123.567878\" xlink:href=\"#m66c9b83c09\" y=\"91.93044\"/>\r\n     <use style=\"fill:#1f77b4;stroke:#1f77b4;\" x=\"216.557701\" xlink:href=\"#m66c9b83c09\" y=\"39.828622\"/>\r\n     <use style=\"fill:#1f77b4;stroke:#1f77b4;\" x=\"101.706663\" xlink:href=\"#m66c9b83c09\" y=\"100.231813\"/>\r\n     <use style=\"fill:#1f77b4;stroke:#1f77b4;\" x=\"86.872267\" xlink:href=\"#m66c9b83c09\" y=\"95.834807\"/>\r\n     <use style=\"fill:#1f77b4;stroke:#1f77b4;\" x=\"114.764333\" xlink:href=\"#m66c9b83c09\" y=\"86.344066\"/>\r\n     <use style=\"fill:#1f77b4;stroke:#1f77b4;\" x=\"124.072485\" xlink:href=\"#m66c9b83c09\" y=\"85.146151\"/>\r\n     <use style=\"fill:#1f77b4;stroke:#1f77b4;\" x=\"116.920342\" xlink:href=\"#m66c9b83c09\" y=\"101.913945\"/>\r\n     <use style=\"fill:#1f77b4;stroke:#1f77b4;\" x=\"100.370519\" xlink:href=\"#m66c9b83c09\" y=\"106.413432\"/>\r\n     <use style=\"fill:#1f77b4;stroke:#1f77b4;\" x=\"173.942113\" xlink:href=\"#m66c9b83c09\" y=\"65.156531\"/>\r\n    </g>\r\n   </g>\r\n   <g id=\"matplotlib.axis_1\">\r\n    <g id=\"xtick_1\">\r\n     <g id=\"line2d_1\">\r\n      <defs>\r\n       <path d=\"M 0 0 \r\nL 0 3.5 \r\n\" id=\"m5ffa8c81cd\" style=\"stroke:#000000;stroke-width:0.8;\"/>\r\n      </defs>\r\n      <g>\r\n       <use style=\"stroke:#000000;stroke-width:0.8;\" x=\"50.877619\" xlink:href=\"#m5ffa8c81cd\" y=\"145.574332\"/>\r\n      </g>\r\n     </g>\r\n     <g id=\"text_1\">\r\n      <!-- −1 -->\r\n      <g transform=\"translate(43.506525 160.172769)scale(0.1 -0.1)\">\r\n       <defs>\r\n        <path d=\"M 10.59375 35.5 \r\nL 73.1875 35.5 \r\nL 73.1875 27.203125 \r\nL 10.59375 27.203125 \r\nz\r\n\" id=\"DejaVuSans-8722\"/>\r\n        <path d=\"M 12.40625 8.296875 \r\nL 28.515625 8.296875 \r\nL 28.515625 63.921875 \r\nL 10.984375 60.40625 \r\nL 10.984375 69.390625 \r\nL 28.421875 72.90625 \r\nL 38.28125 72.90625 \r\nL 38.28125 8.296875 \r\nL 54.390625 8.296875 \r\nL 54.390625 0 \r\nL 12.40625 0 \r\nz\r\n\" id=\"DejaVuSans-49\"/>\r\n       </defs>\r\n       <use xlink:href=\"#DejaVuSans-8722\"/>\r\n       <use x=\"83.789062\" xlink:href=\"#DejaVuSans-49\"/>\r\n      </g>\r\n     </g>\r\n    </g>\r\n    <g id=\"xtick_2\">\r\n     <g id=\"line2d_2\">\r\n      <g>\r\n       <use style=\"stroke:#000000;stroke-width:0.8;\" x=\"84.739618\" xlink:href=\"#m5ffa8c81cd\" y=\"145.574332\"/>\r\n      </g>\r\n     </g>\r\n     <g id=\"text_2\">\r\n      <!-- 0 -->\r\n      <g transform=\"translate(81.558368 160.172769)scale(0.1 -0.1)\">\r\n       <defs>\r\n        <path d=\"M 31.78125 66.40625 \r\nQ 24.171875 66.40625 20.328125 58.90625 \r\nQ 16.5 51.421875 16.5 36.375 \r\nQ 16.5 21.390625 20.328125 13.890625 \r\nQ 24.171875 6.390625 31.78125 6.390625 \r\nQ 39.453125 6.390625 43.28125 13.890625 \r\nQ 47.125 21.390625 47.125 36.375 \r\nQ 47.125 51.421875 43.28125 58.90625 \r\nQ 39.453125 66.40625 31.78125 66.40625 \r\nz\r\nM 31.78125 74.21875 \r\nQ 44.046875 74.21875 50.515625 64.515625 \r\nQ 56.984375 54.828125 56.984375 36.375 \r\nQ 56.984375 17.96875 50.515625 8.265625 \r\nQ 44.046875 -1.421875 31.78125 -1.421875 \r\nQ 19.53125 -1.421875 13.0625 8.265625 \r\nQ 6.59375 17.96875 6.59375 36.375 \r\nQ 6.59375 54.828125 13.0625 64.515625 \r\nQ 19.53125 74.21875 31.78125 74.21875 \r\nz\r\n\" id=\"DejaVuSans-48\"/>\r\n       </defs>\r\n       <use xlink:href=\"#DejaVuSans-48\"/>\r\n      </g>\r\n     </g>\r\n    </g>\r\n    <g id=\"xtick_3\">\r\n     <g id=\"line2d_3\">\r\n      <g>\r\n       <use style=\"stroke:#000000;stroke-width:0.8;\" x=\"118.601617\" xlink:href=\"#m5ffa8c81cd\" y=\"145.574332\"/>\r\n      </g>\r\n     </g>\r\n     <g id=\"text_3\">\r\n      <!-- 1 -->\r\n      <g transform=\"translate(115.420367 160.172769)scale(0.1 -0.1)\">\r\n       <use xlink:href=\"#DejaVuSans-49\"/>\r\n      </g>\r\n     </g>\r\n    </g>\r\n    <g id=\"xtick_4\">\r\n     <g id=\"line2d_4\">\r\n      <g>\r\n       <use style=\"stroke:#000000;stroke-width:0.8;\" x=\"152.463617\" xlink:href=\"#m5ffa8c81cd\" y=\"145.574332\"/>\r\n      </g>\r\n     </g>\r\n     <g id=\"text_4\">\r\n      <!-- 2 -->\r\n      <g transform=\"translate(149.282367 160.172769)scale(0.1 -0.1)\">\r\n       <defs>\r\n        <path d=\"M 19.1875 8.296875 \r\nL 53.609375 8.296875 \r\nL 53.609375 0 \r\nL 7.328125 0 \r\nL 7.328125 8.296875 \r\nQ 12.9375 14.109375 22.625 23.890625 \r\nQ 32.328125 33.6875 34.8125 36.53125 \r\nQ 39.546875 41.84375 41.421875 45.53125 \r\nQ 43.3125 49.21875 43.3125 52.78125 \r\nQ 43.3125 58.59375 39.234375 62.25 \r\nQ 35.15625 65.921875 28.609375 65.921875 \r\nQ 23.96875 65.921875 18.8125 64.3125 \r\nQ 13.671875 62.703125 7.8125 59.421875 \r\nL 7.8125 69.390625 \r\nQ 13.765625 71.78125 18.9375 73 \r\nQ 24.125 74.21875 28.421875 74.21875 \r\nQ 39.75 74.21875 46.484375 68.546875 \r\nQ 53.21875 62.890625 53.21875 53.421875 \r\nQ 53.21875 48.921875 51.53125 44.890625 \r\nQ 49.859375 40.875 45.40625 35.40625 \r\nQ 44.1875 33.984375 37.640625 27.21875 \r\nQ 31.109375 20.453125 19.1875 8.296875 \r\nz\r\n\" id=\"DejaVuSans-50\"/>\r\n       </defs>\r\n       <use xlink:href=\"#DejaVuSans-50\"/>\r\n      </g>\r\n     </g>\r\n    </g>\r\n    <g id=\"xtick_5\">\r\n     <g id=\"line2d_5\">\r\n      <g>\r\n       <use style=\"stroke:#000000;stroke-width:0.8;\" x=\"186.325616\" xlink:href=\"#m5ffa8c81cd\" y=\"145.574332\"/>\r\n      </g>\r\n     </g>\r\n     <g id=\"text_5\">\r\n      <!-- 3 -->\r\n      <g transform=\"translate(183.144366 160.172769)scale(0.1 -0.1)\">\r\n       <defs>\r\n        <path d=\"M 40.578125 39.3125 \r\nQ 47.65625 37.796875 51.625 33 \r\nQ 55.609375 28.21875 55.609375 21.1875 \r\nQ 55.609375 10.40625 48.1875 4.484375 \r\nQ 40.765625 -1.421875 27.09375 -1.421875 \r\nQ 22.515625 -1.421875 17.65625 -0.515625 \r\nQ 12.796875 0.390625 7.625 2.203125 \r\nL 7.625 11.71875 \r\nQ 11.71875 9.328125 16.59375 8.109375 \r\nQ 21.484375 6.890625 26.8125 6.890625 \r\nQ 36.078125 6.890625 40.9375 10.546875 \r\nQ 45.796875 14.203125 45.796875 21.1875 \r\nQ 45.796875 27.640625 41.28125 31.265625 \r\nQ 36.765625 34.90625 28.71875 34.90625 \r\nL 20.21875 34.90625 \r\nL 20.21875 43.015625 \r\nL 29.109375 43.015625 \r\nQ 36.375 43.015625 40.234375 45.921875 \r\nQ 44.09375 48.828125 44.09375 54.296875 \r\nQ 44.09375 59.90625 40.109375 62.90625 \r\nQ 36.140625 65.921875 28.71875 65.921875 \r\nQ 24.65625 65.921875 20.015625 65.03125 \r\nQ 15.375 64.15625 9.8125 62.3125 \r\nL 9.8125 71.09375 \r\nQ 15.4375 72.65625 20.34375 73.4375 \r\nQ 25.25 74.21875 29.59375 74.21875 \r\nQ 40.828125 74.21875 47.359375 69.109375 \r\nQ 53.90625 64.015625 53.90625 55.328125 \r\nQ 53.90625 49.265625 50.4375 45.09375 \r\nQ 46.96875 40.921875 40.578125 39.3125 \r\nz\r\n\" id=\"DejaVuSans-51\"/>\r\n       </defs>\r\n       <use xlink:href=\"#DejaVuSans-51\"/>\r\n      </g>\r\n     </g>\r\n    </g>\r\n    <g id=\"xtick_6\">\r\n     <g id=\"line2d_6\">\r\n      <g>\r\n       <use style=\"stroke:#000000;stroke-width:0.8;\" x=\"220.187615\" xlink:href=\"#m5ffa8c81cd\" y=\"145.574332\"/>\r\n      </g>\r\n     </g>\r\n     <g id=\"text_6\">\r\n      <!-- 4 -->\r\n      <g transform=\"translate(217.006365 160.172769)scale(0.1 -0.1)\">\r\n       <defs>\r\n        <path d=\"M 37.796875 64.3125 \r\nL 12.890625 25.390625 \r\nL 37.796875 25.390625 \r\nz\r\nM 35.203125 72.90625 \r\nL 47.609375 72.90625 \r\nL 47.609375 25.390625 \r\nL 58.015625 25.390625 \r\nL 58.015625 17.1875 \r\nL 47.609375 17.1875 \r\nL 47.609375 0 \r\nL 37.796875 0 \r\nL 37.796875 17.1875 \r\nL 4.890625 17.1875 \r\nL 4.890625 26.703125 \r\nz\r\n\" id=\"DejaVuSans-52\"/>\r\n       </defs>\r\n       <use xlink:href=\"#DejaVuSans-52\"/>\r\n      </g>\r\n     </g>\r\n    </g>\r\n   </g>\r\n   <g id=\"matplotlib.axis_2\">\r\n    <g id=\"ytick_1\">\r\n     <g id=\"line2d_7\">\r\n      <defs>\r\n       <path d=\"M 0 0 \r\nL -3.5 0 \r\n\" id=\"m860fe44bbf\" style=\"stroke:#000000;stroke-width:0.8;\"/>\r\n      </defs>\r\n      <g>\r\n       <use style=\"stroke:#000000;stroke-width:0.8;\" x=\"38.482813\" xlink:href=\"#m860fe44bbf\" y=\"133.000446\"/>\r\n      </g>\r\n     </g>\r\n     <g id=\"text_7\">\r\n      <!-- −2.5 -->\r\n      <g transform=\"translate(7.2 136.799665)scale(0.1 -0.1)\">\r\n       <defs>\r\n        <path d=\"M 10.6875 12.40625 \r\nL 21 12.40625 \r\nL 21 0 \r\nL 10.6875 0 \r\nz\r\n\" id=\"DejaVuSans-46\"/>\r\n        <path d=\"M 10.796875 72.90625 \r\nL 49.515625 72.90625 \r\nL 49.515625 64.59375 \r\nL 19.828125 64.59375 \r\nL 19.828125 46.734375 \r\nQ 21.96875 47.46875 24.109375 47.828125 \r\nQ 26.265625 48.1875 28.421875 48.1875 \r\nQ 40.625 48.1875 47.75 41.5 \r\nQ 54.890625 34.8125 54.890625 23.390625 \r\nQ 54.890625 11.625 47.5625 5.09375 \r\nQ 40.234375 -1.421875 26.90625 -1.421875 \r\nQ 22.3125 -1.421875 17.546875 -0.640625 \r\nQ 12.796875 0.140625 7.71875 1.703125 \r\nL 7.71875 11.625 \r\nQ 12.109375 9.234375 16.796875 8.0625 \r\nQ 21.484375 6.890625 26.703125 6.890625 \r\nQ 35.15625 6.890625 40.078125 11.328125 \r\nQ 45.015625 15.765625 45.015625 23.390625 \r\nQ 45.015625 31 40.078125 35.4375 \r\nQ 35.15625 39.890625 26.703125 39.890625 \r\nQ 22.75 39.890625 18.8125 39.015625 \r\nQ 14.890625 38.140625 10.796875 36.28125 \r\nz\r\n\" id=\"DejaVuSans-53\"/>\r\n       </defs>\r\n       <use xlink:href=\"#DejaVuSans-8722\"/>\r\n       <use x=\"83.789062\" xlink:href=\"#DejaVuSans-50\"/>\r\n       <use x=\"147.412109\" xlink:href=\"#DejaVuSans-46\"/>\r\n       <use x=\"179.199219\" xlink:href=\"#DejaVuSans-53\"/>\r\n      </g>\r\n     </g>\r\n    </g>\r\n    <g id=\"ytick_2\">\r\n     <g id=\"line2d_8\">\r\n      <g>\r\n       <use style=\"stroke:#000000;stroke-width:0.8;\" x=\"38.482813\" xlink:href=\"#m860fe44bbf\" y=\"108.600201\"/>\r\n      </g>\r\n     </g>\r\n     <g id=\"text_8\">\r\n      <!-- 0.0 -->\r\n      <g transform=\"translate(15.579688 112.39942)scale(0.1 -0.1)\">\r\n       <use xlink:href=\"#DejaVuSans-48\"/>\r\n       <use x=\"63.623047\" xlink:href=\"#DejaVuSans-46\"/>\r\n       <use x=\"95.410156\" xlink:href=\"#DejaVuSans-48\"/>\r\n      </g>\r\n     </g>\r\n    </g>\r\n    <g id=\"ytick_3\">\r\n     <g id=\"line2d_9\">\r\n      <g>\r\n       <use style=\"stroke:#000000;stroke-width:0.8;\" x=\"38.482813\" xlink:href=\"#m860fe44bbf\" y=\"84.199955\"/>\r\n      </g>\r\n     </g>\r\n     <g id=\"text_9\">\r\n      <!-- 2.5 -->\r\n      <g transform=\"translate(15.579688 87.999174)scale(0.1 -0.1)\">\r\n       <use xlink:href=\"#DejaVuSans-50\"/>\r\n       <use x=\"63.623047\" xlink:href=\"#DejaVuSans-46\"/>\r\n       <use x=\"95.410156\" xlink:href=\"#DejaVuSans-53\"/>\r\n      </g>\r\n     </g>\r\n    </g>\r\n    <g id=\"ytick_4\">\r\n     <g id=\"line2d_10\">\r\n      <g>\r\n       <use style=\"stroke:#000000;stroke-width:0.8;\" x=\"38.482813\" xlink:href=\"#m860fe44bbf\" y=\"59.79971\"/>\r\n      </g>\r\n     </g>\r\n     <g id=\"text_10\">\r\n      <!-- 5.0 -->\r\n      <g transform=\"translate(15.579688 63.598929)scale(0.1 -0.1)\">\r\n       <use xlink:href=\"#DejaVuSans-53\"/>\r\n       <use x=\"63.623047\" xlink:href=\"#DejaVuSans-46\"/>\r\n       <use x=\"95.410156\" xlink:href=\"#DejaVuSans-48\"/>\r\n      </g>\r\n     </g>\r\n    </g>\r\n    <g id=\"ytick_5\">\r\n     <g id=\"line2d_11\">\r\n      <g>\r\n       <use style=\"stroke:#000000;stroke-width:0.8;\" x=\"38.482813\" xlink:href=\"#m860fe44bbf\" y=\"35.399464\"/>\r\n      </g>\r\n     </g>\r\n     <g id=\"text_11\">\r\n      <!-- 7.5 -->\r\n      <g transform=\"translate(15.579688 39.198683)scale(0.1 -0.1)\">\r\n       <defs>\r\n        <path d=\"M 8.203125 72.90625 \r\nL 55.078125 72.90625 \r\nL 55.078125 68.703125 \r\nL 28.609375 0 \r\nL 18.3125 0 \r\nL 43.21875 64.59375 \r\nL 8.203125 64.59375 \r\nz\r\n\" id=\"DejaVuSans-55\"/>\r\n       </defs>\r\n       <use xlink:href=\"#DejaVuSans-55\"/>\r\n       <use x=\"63.623047\" xlink:href=\"#DejaVuSans-46\"/>\r\n       <use x=\"95.410156\" xlink:href=\"#DejaVuSans-53\"/>\r\n      </g>\r\n     </g>\r\n    </g>\r\n    <g id=\"ytick_6\">\r\n     <g id=\"line2d_12\">\r\n      <g>\r\n       <use style=\"stroke:#000000;stroke-width:0.8;\" x=\"38.482813\" xlink:href=\"#m860fe44bbf\" y=\"10.999219\"/>\r\n      </g>\r\n     </g>\r\n     <g id=\"text_12\">\r\n      <!-- 10.0 -->\r\n      <g transform=\"translate(9.217188 14.798437)scale(0.1 -0.1)\">\r\n       <use xlink:href=\"#DejaVuSans-49\"/>\r\n       <use x=\"63.623047\" xlink:href=\"#DejaVuSans-48\"/>\r\n       <use x=\"127.246094\" xlink:href=\"#DejaVuSans-46\"/>\r\n       <use x=\"159.033203\" xlink:href=\"#DejaVuSans-48\"/>\r\n      </g>\r\n     </g>\r\n    </g>\r\n   </g>\r\n   <g id=\"patch_3\">\r\n    <path d=\"M 38.482813 145.574332 \r\nL 38.482813 9.674332 \r\n\" style=\"fill:none;stroke:#000000;stroke-linecap:square;stroke-linejoin:miter;stroke-width:0.8;\"/>\r\n   </g>\r\n   <g id=\"patch_4\">\r\n    <path d=\"M 233.782813 145.574332 \r\nL 233.782813 9.674332 \r\n\" style=\"fill:none;stroke:#000000;stroke-linecap:square;stroke-linejoin:miter;stroke-width:0.8;\"/>\r\n   </g>\r\n   <g id=\"patch_5\">\r\n    <path d=\"M 38.482813 145.574332 \r\nL 233.782813 145.574332 \r\n\" style=\"fill:none;stroke:#000000;stroke-linecap:square;stroke-linejoin:miter;stroke-width:0.8;\"/>\r\n   </g>\r\n   <g id=\"patch_6\">\r\n    <path d=\"M 38.482813 9.674332 \r\nL 233.782813 9.674332 \r\n\" style=\"fill:none;stroke:#000000;stroke-linecap:square;stroke-linejoin:miter;stroke-width:0.8;\"/>\r\n   </g>\r\n  </g>\r\n </g>\r\n <defs>\r\n  <clipPath id=\"p0819654353\">\r\n   <rect height=\"135.9\" width=\"195.3\" x=\"38.482813\" y=\"9.674332\"/>\r\n  </clipPath>\r\n </defs>\r\n</svg>\r\n"
     },
     "metadata": {
      "needs_background": "light"
     }
    }
   ],
   "source": [
    "d2l.plt.scatter(data[:100, 0].numpy(), data[:100, 1].numpy());"
   ]
  },
  {
   "cell_type": "code",
   "execution_count": 15,
   "metadata": {},
   "outputs": [
    {
     "output_type": "execute_result",
     "data": {
      "text/plain": "<matplotlib.collections.PathCollection at 0x20e3c2e3e20>"
     },
     "metadata": {},
     "execution_count": 15
    },
    {
     "output_type": "display_data",
     "data": {
      "text/plain": "<Figure size 252x180 with 1 Axes>",
      "image/svg+xml": "<?xml version=\"1.0\" encoding=\"utf-8\" standalone=\"no\"?>\r\n<!DOCTYPE svg PUBLIC \"-//W3C//DTD SVG 1.1//EN\"\r\n  \"http://www.w3.org/Graphics/SVG/1.1/DTD/svg11.dtd\">\r\n<!-- Created with matplotlib (https://matplotlib.org/) -->\r\n<svg height=\"169.452457pt\" version=\"1.1\" viewBox=\"0 0 240.982812 169.452457\" width=\"240.982812pt\" xmlns=\"http://www.w3.org/2000/svg\" xmlns:xlink=\"http://www.w3.org/1999/xlink\">\r\n <metadata>\r\n  <rdf:RDF xmlns:cc=\"http://creativecommons.org/ns#\" xmlns:dc=\"http://purl.org/dc/elements/1.1/\" xmlns:rdf=\"http://www.w3.org/1999/02/22-rdf-syntax-ns#\">\r\n   <cc:Work>\r\n    <dc:type rdf:resource=\"http://purl.org/dc/dcmitype/StillImage\"/>\r\n    <dc:date>2020-08-06T21:58:42.580064</dc:date>\r\n    <dc:format>image/svg+xml</dc:format>\r\n    <dc:creator>\r\n     <cc:Agent>\r\n      <dc:title>Matplotlib v3.3.0, https://matplotlib.org/</dc:title>\r\n     </cc:Agent>\r\n    </dc:creator>\r\n   </cc:Work>\r\n  </rdf:RDF>\r\n </metadata>\r\n <defs>\r\n  <style type=\"text/css\">*{stroke-linecap:butt;stroke-linejoin:round;}</style>\r\n </defs>\r\n <g id=\"figure_1\">\r\n  <g id=\"patch_1\">\r\n   <path d=\"M -0 169.452457 \r\nL 240.982813 169.452457 \r\nL 240.982813 0 \r\nL -0 0 \r\nz\r\n\" style=\"fill:none;\"/>\r\n  </g>\r\n  <g id=\"axes_1\">\r\n   <g id=\"patch_2\">\r\n    <path d=\"M 38.482813 145.574332 \r\nL 233.782813 145.574332 \r\nL 233.782813 9.674332 \r\nL 38.482813 9.674332 \r\nz\r\n\" style=\"fill:#ffffff;\"/>\r\n   </g>\r\n   <g id=\"PathCollection_1\">\r\n    <defs>\r\n     <path d=\"M 0 3 \r\nC 0.795609 3 1.55874 2.683901 2.12132 2.12132 \r\nC 2.683901 1.55874 3 0.795609 3 0 \r\nC 3 -0.795609 2.683901 -1.55874 2.12132 -2.12132 \r\nC 1.55874 -2.683901 0.795609 -3 0 -3 \r\nC -0.795609 -3 -1.55874 -2.683901 -2.12132 -2.12132 \r\nC -2.683901 -1.55874 -3 -0.795609 -3 0 \r\nC -3 0.795609 -2.683901 1.55874 -2.12132 2.12132 \r\nC -1.55874 2.683901 -0.795609 3 0 3 \r\nz\r\n\" id=\"mabd7c86245\" style=\"stroke:#1f77b4;\"/>\r\n    </defs>\r\n    <g clip-path=\"url(#p1087d8246e)\">\r\n     <use style=\"fill:#1f77b4;stroke:#1f77b4;\" x=\"130.382745\" xlink:href=\"#mabd7c86245\" y=\"78.704937\"/>\r\n     <use style=\"fill:#1f77b4;stroke:#1f77b4;\" x=\"224.90554\" xlink:href=\"#mabd7c86245\" y=\"15.851605\"/>\r\n     <use style=\"fill:#1f77b4;stroke:#1f77b4;\" x=\"186.939076\" xlink:href=\"#mabd7c86245\" y=\"52.28914\"/>\r\n     <use style=\"fill:#1f77b4;stroke:#1f77b4;\" x=\"130.95541\" xlink:href=\"#mabd7c86245\" y=\"77.732665\"/>\r\n     <use style=\"fill:#1f77b4;stroke:#1f77b4;\" x=\"109.342332\" xlink:href=\"#mabd7c86245\" y=\"95.536616\"/>\r\n     <use style=\"fill:#1f77b4;stroke:#1f77b4;\" x=\"110.899166\" xlink:href=\"#mabd7c86245\" y=\"88.552146\"/>\r\n     <use style=\"fill:#1f77b4;stroke:#1f77b4;\" x=\"154.99706\" xlink:href=\"#mabd7c86245\" y=\"77.549398\"/>\r\n     <use style=\"fill:#1f77b4;stroke:#1f77b4;\" x=\"156.925019\" xlink:href=\"#mabd7c86245\" y=\"68.91674\"/>\r\n     <use style=\"fill:#1f77b4;stroke:#1f77b4;\" x=\"86.805147\" xlink:href=\"#mabd7c86245\" y=\"110.89564\"/>\r\n     <use style=\"fill:#1f77b4;stroke:#1f77b4;\" x=\"142.037452\" xlink:href=\"#mabd7c86245\" y=\"78.664694\"/>\r\n     <use style=\"fill:#1f77b4;stroke:#1f77b4;\" x=\"119.053247\" xlink:href=\"#mabd7c86245\" y=\"84.331395\"/>\r\n     <use style=\"fill:#1f77b4;stroke:#1f77b4;\" x=\"141.141506\" xlink:href=\"#mabd7c86245\" y=\"76.712034\"/>\r\n     <use style=\"fill:#1f77b4;stroke:#1f77b4;\" x=\"95.670006\" xlink:href=\"#mabd7c86245\" y=\"97.646922\"/>\r\n     <use style=\"fill:#1f77b4;stroke:#1f77b4;\" x=\"117.444534\" xlink:href=\"#mabd7c86245\" y=\"85.446032\"/>\r\n     <use style=\"fill:#1f77b4;stroke:#1f77b4;\" x=\"170.437884\" xlink:href=\"#mabd7c86245\" y=\"57.697773\"/>\r\n     <use style=\"fill:#1f77b4;stroke:#1f77b4;\" x=\"120.363044\" xlink:href=\"#mabd7c86245\" y=\"70.761118\"/>\r\n     <use style=\"fill:#1f77b4;stroke:#1f77b4;\" x=\"119.099294\" xlink:href=\"#mabd7c86245\" y=\"89.585458\"/>\r\n     <use style=\"fill:#1f77b4;stroke:#1f77b4;\" x=\"94.788714\" xlink:href=\"#mabd7c86245\" y=\"114.946095\"/>\r\n     <use style=\"fill:#1f77b4;stroke:#1f77b4;\" x=\"112.686563\" xlink:href=\"#mabd7c86245\" y=\"83.486905\"/>\r\n     <use style=\"fill:#1f77b4;stroke:#1f77b4;\" x=\"187.317352\" xlink:href=\"#mabd7c86245\" y=\"52.882042\"/>\r\n     <use style=\"fill:#1f77b4;stroke:#1f77b4;\" x=\"128.166588\" xlink:href=\"#mabd7c86245\" y=\"86.347426\"/>\r\n     <use style=\"fill:#1f77b4;stroke:#1f77b4;\" x=\"87.29715\" xlink:href=\"#mabd7c86245\" y=\"100.566746\"/>\r\n     <use style=\"fill:#1f77b4;stroke:#1f77b4;\" x=\"73.186566\" xlink:href=\"#mabd7c86245\" y=\"114.730027\"/>\r\n     <use style=\"fill:#1f77b4;stroke:#1f77b4;\" x=\"178.951315\" xlink:href=\"#mabd7c86245\" y=\"58.070124\"/>\r\n     <use style=\"fill:#1f77b4;stroke:#1f77b4;\" x=\"79.891216\" xlink:href=\"#mabd7c86245\" y=\"108.988792\"/>\r\n     <use style=\"fill:#1f77b4;stroke:#1f77b4;\" x=\"84.035087\" xlink:href=\"#mabd7c86245\" y=\"105.817054\"/>\r\n     <use style=\"fill:#1f77b4;stroke:#1f77b4;\" x=\"163.816123\" xlink:href=\"#mabd7c86245\" y=\"66.548908\"/>\r\n     <use style=\"fill:#1f77b4;stroke:#1f77b4;\" x=\"135.465524\" xlink:href=\"#mabd7c86245\" y=\"71.674971\"/>\r\n     <use style=\"fill:#1f77b4;stroke:#1f77b4;\" x=\"121.373264\" xlink:href=\"#mabd7c86245\" y=\"92.381547\"/>\r\n     <use style=\"fill:#1f77b4;stroke:#1f77b4;\" x=\"122.941258\" xlink:href=\"#mabd7c86245\" y=\"88.461537\"/>\r\n     <use style=\"fill:#1f77b4;stroke:#1f77b4;\" x=\"72.232137\" xlink:href=\"#mabd7c86245\" y=\"112.016278\"/>\r\n     <use style=\"fill:#1f77b4;stroke:#1f77b4;\" x=\"150.417807\" xlink:href=\"#mabd7c86245\" y=\"65.495992\"/>\r\n     <use style=\"fill:#1f77b4;stroke:#1f77b4;\" x=\"51.392919\" xlink:href=\"#mabd7c86245\" y=\"139.397059\"/>\r\n     <use style=\"fill:#1f77b4;stroke:#1f77b4;\" x=\"101.82498\" xlink:href=\"#mabd7c86245\" y=\"101.182951\"/>\r\n     <use style=\"fill:#1f77b4;stroke:#1f77b4;\" x=\"137.711819\" xlink:href=\"#mabd7c86245\" y=\"72.076363\"/>\r\n     <use style=\"fill:#1f77b4;stroke:#1f77b4;\" x=\"132.190666\" xlink:href=\"#mabd7c86245\" y=\"83.789419\"/>\r\n     <use style=\"fill:#1f77b4;stroke:#1f77b4;\" x=\"147.693195\" xlink:href=\"#mabd7c86245\" y=\"77.467612\"/>\r\n     <use style=\"fill:#1f77b4;stroke:#1f77b4;\" x=\"96.758638\" xlink:href=\"#mabd7c86245\" y=\"82.423825\"/>\r\n     <use style=\"fill:#1f77b4;stroke:#1f77b4;\" x=\"78.273914\" xlink:href=\"#mabd7c86245\" y=\"111.516953\"/>\r\n     <use style=\"fill:#1f77b4;stroke:#1f77b4;\" x=\"99.063499\" xlink:href=\"#mabd7c86245\" y=\"102.833342\"/>\r\n     <use style=\"fill:#1f77b4;stroke:#1f77b4;\" x=\"65.202612\" xlink:href=\"#mabd7c86245\" y=\"129.498012\"/>\r\n     <use style=\"fill:#1f77b4;stroke:#1f77b4;\" x=\"90.005199\" xlink:href=\"#mabd7c86245\" y=\"100.335151\"/>\r\n     <use style=\"fill:#1f77b4;stroke:#1f77b4;\" x=\"115.287891\" xlink:href=\"#mabd7c86245\" y=\"84.85134\"/>\r\n     <use style=\"fill:#1f77b4;stroke:#1f77b4;\" x=\"123.836243\" xlink:href=\"#mabd7c86245\" y=\"82.55315\"/>\r\n     <use style=\"fill:#1f77b4;stroke:#1f77b4;\" x=\"98.621646\" xlink:href=\"#mabd7c86245\" y=\"100.390896\"/>\r\n     <use style=\"fill:#1f77b4;stroke:#1f77b4;\" x=\"189.498677\" xlink:href=\"#mabd7c86245\" y=\"43.810202\"/>\r\n     <use style=\"fill:#1f77b4;stroke:#1f77b4;\" x=\"90.625929\" xlink:href=\"#mabd7c86245\" y=\"109.889455\"/>\r\n     <use style=\"fill:#1f77b4;stroke:#1f77b4;\" x=\"168.530213\" xlink:href=\"#mabd7c86245\" y=\"47.691522\"/>\r\n     <use style=\"fill:#1f77b4;stroke:#1f77b4;\" x=\"111.555457\" xlink:href=\"#mabd7c86245\" y=\"93.065079\"/>\r\n     <use style=\"fill:#1f77b4;stroke:#1f77b4;\" x=\"144.905575\" xlink:href=\"#mabd7c86245\" y=\"77.910752\"/>\r\n     <use style=\"fill:#1f77b4;stroke:#1f77b4;\" x=\"100.257961\" xlink:href=\"#mabd7c86245\" y=\"108.775716\"/>\r\n     <use style=\"fill:#1f77b4;stroke:#1f77b4;\" x=\"112.642979\" xlink:href=\"#mabd7c86245\" y=\"89.09372\"/>\r\n     <use style=\"fill:#1f77b4;stroke:#1f77b4;\" x=\"112.225043\" xlink:href=\"#mabd7c86245\" y=\"81.631016\"/>\r\n     <use style=\"fill:#1f77b4;stroke:#1f77b4;\" x=\"119.391096\" xlink:href=\"#mabd7c86245\" y=\"98.097551\"/>\r\n     <use style=\"fill:#1f77b4;stroke:#1f77b4;\" x=\"95.541864\" xlink:href=\"#mabd7c86245\" y=\"100.164501\"/>\r\n     <use style=\"fill:#1f77b4;stroke:#1f77b4;\" x=\"132.749272\" xlink:href=\"#mabd7c86245\" y=\"83.155761\"/>\r\n     <use style=\"fill:#1f77b4;stroke:#1f77b4;\" x=\"169.875746\" xlink:href=\"#mabd7c86245\" y=\"52.295264\"/>\r\n     <use style=\"fill:#1f77b4;stroke:#1f77b4;\" x=\"157.528856\" xlink:href=\"#mabd7c86245\" y=\"71.072027\"/>\r\n     <use style=\"fill:#1f77b4;stroke:#1f77b4;\" x=\"153.718519\" xlink:href=\"#mabd7c86245\" y=\"71.796058\"/>\r\n     <use style=\"fill:#1f77b4;stroke:#1f77b4;\" x=\"96.462111\" xlink:href=\"#mabd7c86245\" y=\"94.025135\"/>\r\n     <use style=\"fill:#1f77b4;stroke:#1f77b4;\" x=\"79.118482\" xlink:href=\"#mabd7c86245\" y=\"118.562161\"/>\r\n     <use style=\"fill:#1f77b4;stroke:#1f77b4;\" x=\"124.62414\" xlink:href=\"#mabd7c86245\" y=\"63.004401\"/>\r\n     <use style=\"fill:#1f77b4;stroke:#1f77b4;\" x=\"176.170505\" xlink:href=\"#mabd7c86245\" y=\"67.738767\"/>\r\n     <use style=\"fill:#1f77b4;stroke:#1f77b4;\" x=\"157.63297\" xlink:href=\"#mabd7c86245\" y=\"61.310354\"/>\r\n     <use style=\"fill:#1f77b4;stroke:#1f77b4;\" x=\"81.648687\" xlink:href=\"#mabd7c86245\" y=\"116.289514\"/>\r\n     <use style=\"fill:#1f77b4;stroke:#1f77b4;\" x=\"159.339672\" xlink:href=\"#mabd7c86245\" y=\"79.566348\"/>\r\n     <use style=\"fill:#1f77b4;stroke:#1f77b4;\" x=\"131.982742\" xlink:href=\"#mabd7c86245\" y=\"82.059154\"/>\r\n     <use style=\"fill:#1f77b4;stroke:#1f77b4;\" x=\"160.436094\" xlink:href=\"#mabd7c86245\" y=\"70.085289\"/>\r\n     <use style=\"fill:#1f77b4;stroke:#1f77b4;\" x=\"214.127806\" xlink:href=\"#mabd7c86245\" y=\"25.77932\"/>\r\n     <use style=\"fill:#1f77b4;stroke:#1f77b4;\" x=\"99.45658\" xlink:href=\"#mabd7c86245\" y=\"101.569325\"/>\r\n     <use style=\"fill:#1f77b4;stroke:#1f77b4;\" x=\"104.179801\" xlink:href=\"#mabd7c86245\" y=\"101.413276\"/>\r\n     <use style=\"fill:#1f77b4;stroke:#1f77b4;\" x=\"116.171884\" xlink:href=\"#mabd7c86245\" y=\"93.08069\"/>\r\n     <use style=\"fill:#1f77b4;stroke:#1f77b4;\" x=\"94.047509\" xlink:href=\"#mabd7c86245\" y=\"108.543234\"/>\r\n     <use style=\"fill:#1f77b4;stroke:#1f77b4;\" x=\"62.256549\" xlink:href=\"#mabd7c86245\" y=\"120.050554\"/>\r\n     <use style=\"fill:#1f77b4;stroke:#1f77b4;\" x=\"167.121167\" xlink:href=\"#mabd7c86245\" y=\"65.996825\"/>\r\n     <use style=\"fill:#1f77b4;stroke:#1f77b4;\" x=\"141.995083\" xlink:href=\"#mabd7c86245\" y=\"84.513854\"/>\r\n     <use style=\"fill:#1f77b4;stroke:#1f77b4;\" x=\"142.085044\" xlink:href=\"#mabd7c86245\" y=\"71.383855\"/>\r\n     <use style=\"fill:#1f77b4;stroke:#1f77b4;\" x=\"154.067012\" xlink:href=\"#mabd7c86245\" y=\"74.617653\"/>\r\n     <use style=\"fill:#1f77b4;stroke:#1f77b4;\" x=\"171.706656\" xlink:href=\"#mabd7c86245\" y=\"53.767922\"/>\r\n     <use style=\"fill:#1f77b4;stroke:#1f77b4;\" x=\"140.184752\" xlink:href=\"#mabd7c86245\" y=\"87.451917\"/>\r\n     <use style=\"fill:#1f77b4;stroke:#1f77b4;\" x=\"197.152718\" xlink:href=\"#mabd7c86245\" y=\"35.081542\"/>\r\n     <use style=\"fill:#1f77b4;stroke:#1f77b4;\" x=\"47.360085\" xlink:href=\"#mabd7c86245\" y=\"131.233378\"/>\r\n     <use style=\"fill:#1f77b4;stroke:#1f77b4;\" x=\"91.480324\" xlink:href=\"#mabd7c86245\" y=\"101.298453\"/>\r\n     <use style=\"fill:#1f77b4;stroke:#1f77b4;\" x=\"113.78282\" xlink:href=\"#mabd7c86245\" y=\"86.780639\"/>\r\n     <use style=\"fill:#1f77b4;stroke:#1f77b4;\" x=\"121.870577\" xlink:href=\"#mabd7c86245\" y=\"82.064229\"/>\r\n     <use style=\"fill:#1f77b4;stroke:#1f77b4;\" x=\"58.969428\" xlink:href=\"#mabd7c86245\" y=\"136.858989\"/>\r\n     <use style=\"fill:#1f77b4;stroke:#1f77b4;\" x=\"162.079106\" xlink:href=\"#mabd7c86245\" y=\"71.202553\"/>\r\n     <use style=\"fill:#1f77b4;stroke:#1f77b4;\" x=\"105.479292\" xlink:href=\"#mabd7c86245\" y=\"104.424424\"/>\r\n     <use style=\"fill:#1f77b4;stroke:#1f77b4;\" x=\"96.983462\" xlink:href=\"#mabd7c86245\" y=\"92.426077\"/>\r\n     <use style=\"fill:#1f77b4;stroke:#1f77b4;\" x=\"164.282979\" xlink:href=\"#mabd7c86245\" y=\"72.882017\"/>\r\n     <use style=\"fill:#1f77b4;stroke:#1f77b4;\" x=\"146.439568\" xlink:href=\"#mabd7c86245\" y=\"76.67909\"/>\r\n     <use style=\"fill:#1f77b4;stroke:#1f77b4;\" x=\"123.567878\" xlink:href=\"#mabd7c86245\" y=\"91.93044\"/>\r\n     <use style=\"fill:#1f77b4;stroke:#1f77b4;\" x=\"216.557701\" xlink:href=\"#mabd7c86245\" y=\"39.828622\"/>\r\n     <use style=\"fill:#1f77b4;stroke:#1f77b4;\" x=\"101.706663\" xlink:href=\"#mabd7c86245\" y=\"100.231813\"/>\r\n     <use style=\"fill:#1f77b4;stroke:#1f77b4;\" x=\"86.872267\" xlink:href=\"#mabd7c86245\" y=\"95.834807\"/>\r\n     <use style=\"fill:#1f77b4;stroke:#1f77b4;\" x=\"114.764333\" xlink:href=\"#mabd7c86245\" y=\"86.344066\"/>\r\n     <use style=\"fill:#1f77b4;stroke:#1f77b4;\" x=\"124.072485\" xlink:href=\"#mabd7c86245\" y=\"85.146151\"/>\r\n     <use style=\"fill:#1f77b4;stroke:#1f77b4;\" x=\"116.920342\" xlink:href=\"#mabd7c86245\" y=\"101.913945\"/>\r\n     <use style=\"fill:#1f77b4;stroke:#1f77b4;\" x=\"100.370519\" xlink:href=\"#mabd7c86245\" y=\"106.413432\"/>\r\n     <use style=\"fill:#1f77b4;stroke:#1f77b4;\" x=\"173.942113\" xlink:href=\"#mabd7c86245\" y=\"65.156531\"/>\r\n    </g>\r\n   </g>\r\n   <g id=\"matplotlib.axis_1\">\r\n    <g id=\"xtick_1\">\r\n     <g id=\"line2d_1\">\r\n      <defs>\r\n       <path d=\"M 0 0 \r\nL 0 3.5 \r\n\" id=\"m6090530e69\" style=\"stroke:#000000;stroke-width:0.8;\"/>\r\n      </defs>\r\n      <g>\r\n       <use style=\"stroke:#000000;stroke-width:0.8;\" x=\"50.877619\" xlink:href=\"#m6090530e69\" y=\"145.574332\"/>\r\n      </g>\r\n     </g>\r\n     <g id=\"text_1\">\r\n      <!-- −1 -->\r\n      <g transform=\"translate(43.506525 160.172769)scale(0.1 -0.1)\">\r\n       <defs>\r\n        <path d=\"M 10.59375 35.5 \r\nL 73.1875 35.5 \r\nL 73.1875 27.203125 \r\nL 10.59375 27.203125 \r\nz\r\n\" id=\"DejaVuSans-8722\"/>\r\n        <path d=\"M 12.40625 8.296875 \r\nL 28.515625 8.296875 \r\nL 28.515625 63.921875 \r\nL 10.984375 60.40625 \r\nL 10.984375 69.390625 \r\nL 28.421875 72.90625 \r\nL 38.28125 72.90625 \r\nL 38.28125 8.296875 \r\nL 54.390625 8.296875 \r\nL 54.390625 0 \r\nL 12.40625 0 \r\nz\r\n\" id=\"DejaVuSans-49\"/>\r\n       </defs>\r\n       <use xlink:href=\"#DejaVuSans-8722\"/>\r\n       <use x=\"83.789062\" xlink:href=\"#DejaVuSans-49\"/>\r\n      </g>\r\n     </g>\r\n    </g>\r\n    <g id=\"xtick_2\">\r\n     <g id=\"line2d_2\">\r\n      <g>\r\n       <use style=\"stroke:#000000;stroke-width:0.8;\" x=\"84.739618\" xlink:href=\"#m6090530e69\" y=\"145.574332\"/>\r\n      </g>\r\n     </g>\r\n     <g id=\"text_2\">\r\n      <!-- 0 -->\r\n      <g transform=\"translate(81.558368 160.172769)scale(0.1 -0.1)\">\r\n       <defs>\r\n        <path d=\"M 31.78125 66.40625 \r\nQ 24.171875 66.40625 20.328125 58.90625 \r\nQ 16.5 51.421875 16.5 36.375 \r\nQ 16.5 21.390625 20.328125 13.890625 \r\nQ 24.171875 6.390625 31.78125 6.390625 \r\nQ 39.453125 6.390625 43.28125 13.890625 \r\nQ 47.125 21.390625 47.125 36.375 \r\nQ 47.125 51.421875 43.28125 58.90625 \r\nQ 39.453125 66.40625 31.78125 66.40625 \r\nz\r\nM 31.78125 74.21875 \r\nQ 44.046875 74.21875 50.515625 64.515625 \r\nQ 56.984375 54.828125 56.984375 36.375 \r\nQ 56.984375 17.96875 50.515625 8.265625 \r\nQ 44.046875 -1.421875 31.78125 -1.421875 \r\nQ 19.53125 -1.421875 13.0625 8.265625 \r\nQ 6.59375 17.96875 6.59375 36.375 \r\nQ 6.59375 54.828125 13.0625 64.515625 \r\nQ 19.53125 74.21875 31.78125 74.21875 \r\nz\r\n\" id=\"DejaVuSans-48\"/>\r\n       </defs>\r\n       <use xlink:href=\"#DejaVuSans-48\"/>\r\n      </g>\r\n     </g>\r\n    </g>\r\n    <g id=\"xtick_3\">\r\n     <g id=\"line2d_3\">\r\n      <g>\r\n       <use style=\"stroke:#000000;stroke-width:0.8;\" x=\"118.601617\" xlink:href=\"#m6090530e69\" y=\"145.574332\"/>\r\n      </g>\r\n     </g>\r\n     <g id=\"text_3\">\r\n      <!-- 1 -->\r\n      <g transform=\"translate(115.420367 160.172769)scale(0.1 -0.1)\">\r\n       <use xlink:href=\"#DejaVuSans-49\"/>\r\n      </g>\r\n     </g>\r\n    </g>\r\n    <g id=\"xtick_4\">\r\n     <g id=\"line2d_4\">\r\n      <g>\r\n       <use style=\"stroke:#000000;stroke-width:0.8;\" x=\"152.463617\" xlink:href=\"#m6090530e69\" y=\"145.574332\"/>\r\n      </g>\r\n     </g>\r\n     <g id=\"text_4\">\r\n      <!-- 2 -->\r\n      <g transform=\"translate(149.282367 160.172769)scale(0.1 -0.1)\">\r\n       <defs>\r\n        <path d=\"M 19.1875 8.296875 \r\nL 53.609375 8.296875 \r\nL 53.609375 0 \r\nL 7.328125 0 \r\nL 7.328125 8.296875 \r\nQ 12.9375 14.109375 22.625 23.890625 \r\nQ 32.328125 33.6875 34.8125 36.53125 \r\nQ 39.546875 41.84375 41.421875 45.53125 \r\nQ 43.3125 49.21875 43.3125 52.78125 \r\nQ 43.3125 58.59375 39.234375 62.25 \r\nQ 35.15625 65.921875 28.609375 65.921875 \r\nQ 23.96875 65.921875 18.8125 64.3125 \r\nQ 13.671875 62.703125 7.8125 59.421875 \r\nL 7.8125 69.390625 \r\nQ 13.765625 71.78125 18.9375 73 \r\nQ 24.125 74.21875 28.421875 74.21875 \r\nQ 39.75 74.21875 46.484375 68.546875 \r\nQ 53.21875 62.890625 53.21875 53.421875 \r\nQ 53.21875 48.921875 51.53125 44.890625 \r\nQ 49.859375 40.875 45.40625 35.40625 \r\nQ 44.1875 33.984375 37.640625 27.21875 \r\nQ 31.109375 20.453125 19.1875 8.296875 \r\nz\r\n\" id=\"DejaVuSans-50\"/>\r\n       </defs>\r\n       <use xlink:href=\"#DejaVuSans-50\"/>\r\n      </g>\r\n     </g>\r\n    </g>\r\n    <g id=\"xtick_5\">\r\n     <g id=\"line2d_5\">\r\n      <g>\r\n       <use style=\"stroke:#000000;stroke-width:0.8;\" x=\"186.325616\" xlink:href=\"#m6090530e69\" y=\"145.574332\"/>\r\n      </g>\r\n     </g>\r\n     <g id=\"text_5\">\r\n      <!-- 3 -->\r\n      <g transform=\"translate(183.144366 160.172769)scale(0.1 -0.1)\">\r\n       <defs>\r\n        <path d=\"M 40.578125 39.3125 \r\nQ 47.65625 37.796875 51.625 33 \r\nQ 55.609375 28.21875 55.609375 21.1875 \r\nQ 55.609375 10.40625 48.1875 4.484375 \r\nQ 40.765625 -1.421875 27.09375 -1.421875 \r\nQ 22.515625 -1.421875 17.65625 -0.515625 \r\nQ 12.796875 0.390625 7.625 2.203125 \r\nL 7.625 11.71875 \r\nQ 11.71875 9.328125 16.59375 8.109375 \r\nQ 21.484375 6.890625 26.8125 6.890625 \r\nQ 36.078125 6.890625 40.9375 10.546875 \r\nQ 45.796875 14.203125 45.796875 21.1875 \r\nQ 45.796875 27.640625 41.28125 31.265625 \r\nQ 36.765625 34.90625 28.71875 34.90625 \r\nL 20.21875 34.90625 \r\nL 20.21875 43.015625 \r\nL 29.109375 43.015625 \r\nQ 36.375 43.015625 40.234375 45.921875 \r\nQ 44.09375 48.828125 44.09375 54.296875 \r\nQ 44.09375 59.90625 40.109375 62.90625 \r\nQ 36.140625 65.921875 28.71875 65.921875 \r\nQ 24.65625 65.921875 20.015625 65.03125 \r\nQ 15.375 64.15625 9.8125 62.3125 \r\nL 9.8125 71.09375 \r\nQ 15.4375 72.65625 20.34375 73.4375 \r\nQ 25.25 74.21875 29.59375 74.21875 \r\nQ 40.828125 74.21875 47.359375 69.109375 \r\nQ 53.90625 64.015625 53.90625 55.328125 \r\nQ 53.90625 49.265625 50.4375 45.09375 \r\nQ 46.96875 40.921875 40.578125 39.3125 \r\nz\r\n\" id=\"DejaVuSans-51\"/>\r\n       </defs>\r\n       <use xlink:href=\"#DejaVuSans-51\"/>\r\n      </g>\r\n     </g>\r\n    </g>\r\n    <g id=\"xtick_6\">\r\n     <g id=\"line2d_6\">\r\n      <g>\r\n       <use style=\"stroke:#000000;stroke-width:0.8;\" x=\"220.187615\" xlink:href=\"#m6090530e69\" y=\"145.574332\"/>\r\n      </g>\r\n     </g>\r\n     <g id=\"text_6\">\r\n      <!-- 4 -->\r\n      <g transform=\"translate(217.006365 160.172769)scale(0.1 -0.1)\">\r\n       <defs>\r\n        <path d=\"M 37.796875 64.3125 \r\nL 12.890625 25.390625 \r\nL 37.796875 25.390625 \r\nz\r\nM 35.203125 72.90625 \r\nL 47.609375 72.90625 \r\nL 47.609375 25.390625 \r\nL 58.015625 25.390625 \r\nL 58.015625 17.1875 \r\nL 47.609375 17.1875 \r\nL 47.609375 0 \r\nL 37.796875 0 \r\nL 37.796875 17.1875 \r\nL 4.890625 17.1875 \r\nL 4.890625 26.703125 \r\nz\r\n\" id=\"DejaVuSans-52\"/>\r\n       </defs>\r\n       <use xlink:href=\"#DejaVuSans-52\"/>\r\n      </g>\r\n     </g>\r\n    </g>\r\n   </g>\r\n   <g id=\"matplotlib.axis_2\">\r\n    <g id=\"ytick_1\">\r\n     <g id=\"line2d_7\">\r\n      <defs>\r\n       <path d=\"M 0 0 \r\nL -3.5 0 \r\n\" id=\"ma8bf5bf8f2\" style=\"stroke:#000000;stroke-width:0.8;\"/>\r\n      </defs>\r\n      <g>\r\n       <use style=\"stroke:#000000;stroke-width:0.8;\" x=\"38.482813\" xlink:href=\"#ma8bf5bf8f2\" y=\"133.000446\"/>\r\n      </g>\r\n     </g>\r\n     <g id=\"text_7\">\r\n      <!-- −2.5 -->\r\n      <g transform=\"translate(7.2 136.799665)scale(0.1 -0.1)\">\r\n       <defs>\r\n        <path d=\"M 10.6875 12.40625 \r\nL 21 12.40625 \r\nL 21 0 \r\nL 10.6875 0 \r\nz\r\n\" id=\"DejaVuSans-46\"/>\r\n        <path d=\"M 10.796875 72.90625 \r\nL 49.515625 72.90625 \r\nL 49.515625 64.59375 \r\nL 19.828125 64.59375 \r\nL 19.828125 46.734375 \r\nQ 21.96875 47.46875 24.109375 47.828125 \r\nQ 26.265625 48.1875 28.421875 48.1875 \r\nQ 40.625 48.1875 47.75 41.5 \r\nQ 54.890625 34.8125 54.890625 23.390625 \r\nQ 54.890625 11.625 47.5625 5.09375 \r\nQ 40.234375 -1.421875 26.90625 -1.421875 \r\nQ 22.3125 -1.421875 17.546875 -0.640625 \r\nQ 12.796875 0.140625 7.71875 1.703125 \r\nL 7.71875 11.625 \r\nQ 12.109375 9.234375 16.796875 8.0625 \r\nQ 21.484375 6.890625 26.703125 6.890625 \r\nQ 35.15625 6.890625 40.078125 11.328125 \r\nQ 45.015625 15.765625 45.015625 23.390625 \r\nQ 45.015625 31 40.078125 35.4375 \r\nQ 35.15625 39.890625 26.703125 39.890625 \r\nQ 22.75 39.890625 18.8125 39.015625 \r\nQ 14.890625 38.140625 10.796875 36.28125 \r\nz\r\n\" id=\"DejaVuSans-53\"/>\r\n       </defs>\r\n       <use xlink:href=\"#DejaVuSans-8722\"/>\r\n       <use x=\"83.789062\" xlink:href=\"#DejaVuSans-50\"/>\r\n       <use x=\"147.412109\" xlink:href=\"#DejaVuSans-46\"/>\r\n       <use x=\"179.199219\" xlink:href=\"#DejaVuSans-53\"/>\r\n      </g>\r\n     </g>\r\n    </g>\r\n    <g id=\"ytick_2\">\r\n     <g id=\"line2d_8\">\r\n      <g>\r\n       <use style=\"stroke:#000000;stroke-width:0.8;\" x=\"38.482813\" xlink:href=\"#ma8bf5bf8f2\" y=\"108.600201\"/>\r\n      </g>\r\n     </g>\r\n     <g id=\"text_8\">\r\n      <!-- 0.0 -->\r\n      <g transform=\"translate(15.579688 112.39942)scale(0.1 -0.1)\">\r\n       <use xlink:href=\"#DejaVuSans-48\"/>\r\n       <use x=\"63.623047\" xlink:href=\"#DejaVuSans-46\"/>\r\n       <use x=\"95.410156\" xlink:href=\"#DejaVuSans-48\"/>\r\n      </g>\r\n     </g>\r\n    </g>\r\n    <g id=\"ytick_3\">\r\n     <g id=\"line2d_9\">\r\n      <g>\r\n       <use style=\"stroke:#000000;stroke-width:0.8;\" x=\"38.482813\" xlink:href=\"#ma8bf5bf8f2\" y=\"84.199955\"/>\r\n      </g>\r\n     </g>\r\n     <g id=\"text_9\">\r\n      <!-- 2.5 -->\r\n      <g transform=\"translate(15.579688 87.999174)scale(0.1 -0.1)\">\r\n       <use xlink:href=\"#DejaVuSans-50\"/>\r\n       <use x=\"63.623047\" xlink:href=\"#DejaVuSans-46\"/>\r\n       <use x=\"95.410156\" xlink:href=\"#DejaVuSans-53\"/>\r\n      </g>\r\n     </g>\r\n    </g>\r\n    <g id=\"ytick_4\">\r\n     <g id=\"line2d_10\">\r\n      <g>\r\n       <use style=\"stroke:#000000;stroke-width:0.8;\" x=\"38.482813\" xlink:href=\"#ma8bf5bf8f2\" y=\"59.79971\"/>\r\n      </g>\r\n     </g>\r\n     <g id=\"text_10\">\r\n      <!-- 5.0 -->\r\n      <g transform=\"translate(15.579688 63.598929)scale(0.1 -0.1)\">\r\n       <use xlink:href=\"#DejaVuSans-53\"/>\r\n       <use x=\"63.623047\" xlink:href=\"#DejaVuSans-46\"/>\r\n       <use x=\"95.410156\" xlink:href=\"#DejaVuSans-48\"/>\r\n      </g>\r\n     </g>\r\n    </g>\r\n    <g id=\"ytick_5\">\r\n     <g id=\"line2d_11\">\r\n      <g>\r\n       <use style=\"stroke:#000000;stroke-width:0.8;\" x=\"38.482813\" xlink:href=\"#ma8bf5bf8f2\" y=\"35.399464\"/>\r\n      </g>\r\n     </g>\r\n     <g id=\"text_11\">\r\n      <!-- 7.5 -->\r\n      <g transform=\"translate(15.579688 39.198683)scale(0.1 -0.1)\">\r\n       <defs>\r\n        <path d=\"M 8.203125 72.90625 \r\nL 55.078125 72.90625 \r\nL 55.078125 68.703125 \r\nL 28.609375 0 \r\nL 18.3125 0 \r\nL 43.21875 64.59375 \r\nL 8.203125 64.59375 \r\nz\r\n\" id=\"DejaVuSans-55\"/>\r\n       </defs>\r\n       <use xlink:href=\"#DejaVuSans-55\"/>\r\n       <use x=\"63.623047\" xlink:href=\"#DejaVuSans-46\"/>\r\n       <use x=\"95.410156\" xlink:href=\"#DejaVuSans-53\"/>\r\n      </g>\r\n     </g>\r\n    </g>\r\n    <g id=\"ytick_6\">\r\n     <g id=\"line2d_12\">\r\n      <g>\r\n       <use style=\"stroke:#000000;stroke-width:0.8;\" x=\"38.482813\" xlink:href=\"#ma8bf5bf8f2\" y=\"10.999219\"/>\r\n      </g>\r\n     </g>\r\n     <g id=\"text_12\">\r\n      <!-- 10.0 -->\r\n      <g transform=\"translate(9.217188 14.798437)scale(0.1 -0.1)\">\r\n       <use xlink:href=\"#DejaVuSans-49\"/>\r\n       <use x=\"63.623047\" xlink:href=\"#DejaVuSans-48\"/>\r\n       <use x=\"127.246094\" xlink:href=\"#DejaVuSans-46\"/>\r\n       <use x=\"159.033203\" xlink:href=\"#DejaVuSans-48\"/>\r\n      </g>\r\n     </g>\r\n    </g>\r\n   </g>\r\n   <g id=\"patch_3\">\r\n    <path d=\"M 38.482813 145.574332 \r\nL 38.482813 9.674332 \r\n\" style=\"fill:none;stroke:#000000;stroke-linecap:square;stroke-linejoin:miter;stroke-width:0.8;\"/>\r\n   </g>\r\n   <g id=\"patch_4\">\r\n    <path d=\"M 233.782813 145.574332 \r\nL 233.782813 9.674332 \r\n\" style=\"fill:none;stroke:#000000;stroke-linecap:square;stroke-linejoin:miter;stroke-width:0.8;\"/>\r\n   </g>\r\n   <g id=\"patch_5\">\r\n    <path d=\"M 38.482813 145.574332 \r\nL 233.782813 145.574332 \r\n\" style=\"fill:none;stroke:#000000;stroke-linecap:square;stroke-linejoin:miter;stroke-width:0.8;\"/>\r\n   </g>\r\n   <g id=\"patch_6\">\r\n    <path d=\"M 38.482813 9.674332 \r\nL 233.782813 9.674332 \r\n\" style=\"fill:none;stroke:#000000;stroke-linecap:square;stroke-linejoin:miter;stroke-width:0.8;\"/>\r\n   </g>\r\n  </g>\r\n </g>\r\n <defs>\r\n  <clipPath id=\"p1087d8246e\">\r\n   <rect height=\"135.9\" width=\"195.3\" x=\"38.482813\" y=\"9.674332\"/>\r\n  </clipPath>\r\n </defs>\r\n</svg>\r\n"
     },
     "metadata": {
      "needs_background": "light"
     }
    }
   ],
   "source": [
    "d2l.plt.scatter(data[:100, 0].numpy(), data[:100, 1].numpy())"
   ]
  },
  {
   "cell_type": "code",
   "execution_count": 16,
   "metadata": {},
   "outputs": [
    {
     "output_type": "display_data",
     "data": {
      "text/plain": "<Figure size 252x180 with 1 Axes>",
      "image/svg+xml": "<?xml version=\"1.0\" encoding=\"utf-8\" standalone=\"no\"?>\r\n<!DOCTYPE svg PUBLIC \"-//W3C//DTD SVG 1.1//EN\"\r\n  \"http://www.w3.org/Graphics/SVG/1.1/DTD/svg11.dtd\">\r\n<!-- Created with matplotlib (https://matplotlib.org/) -->\r\n<svg height=\"169.452457pt\" version=\"1.1\" viewBox=\"0 0 240.982812 169.452457\" width=\"240.982812pt\" xmlns=\"http://www.w3.org/2000/svg\" xmlns:xlink=\"http://www.w3.org/1999/xlink\">\r\n <metadata>\r\n  <rdf:RDF xmlns:cc=\"http://creativecommons.org/ns#\" xmlns:dc=\"http://purl.org/dc/elements/1.1/\" xmlns:rdf=\"http://www.w3.org/1999/02/22-rdf-syntax-ns#\">\r\n   <cc:Work>\r\n    <dc:type rdf:resource=\"http://purl.org/dc/dcmitype/StillImage\"/>\r\n    <dc:date>2020-08-06T21:58:42.970121</dc:date>\r\n    <dc:format>image/svg+xml</dc:format>\r\n    <dc:creator>\r\n     <cc:Agent>\r\n      <dc:title>Matplotlib v3.3.0, https://matplotlib.org/</dc:title>\r\n     </cc:Agent>\r\n    </dc:creator>\r\n   </cc:Work>\r\n  </rdf:RDF>\r\n </metadata>\r\n <defs>\r\n  <style type=\"text/css\">*{stroke-linecap:butt;stroke-linejoin:round;}</style>\r\n </defs>\r\n <g id=\"figure_1\">\r\n  <g id=\"patch_1\">\r\n   <path d=\"M -0 169.452457 \r\nL 240.982813 169.452457 \r\nL 240.982813 0 \r\nL -0 0 \r\nz\r\n\" style=\"fill:none;\"/>\r\n  </g>\r\n  <g id=\"axes_1\">\r\n   <g id=\"patch_2\">\r\n    <path d=\"M 38.482813 145.574332 \r\nL 233.782813 145.574332 \r\nL 233.782813 9.674332 \r\nL 38.482813 9.674332 \r\nz\r\n\" style=\"fill:#ffffff;\"/>\r\n   </g>\r\n   <g id=\"PathCollection_1\">\r\n    <defs>\r\n     <path d=\"M 0 3 \r\nC 0.795609 3 1.55874 2.683901 2.12132 2.12132 \r\nC 2.683901 1.55874 3 0.795609 3 0 \r\nC 3 -0.795609 2.683901 -1.55874 2.12132 -2.12132 \r\nC 1.55874 -2.683901 0.795609 -3 0 -3 \r\nC -0.795609 -3 -1.55874 -2.683901 -2.12132 -2.12132 \r\nC -2.683901 -1.55874 -3 -0.795609 -3 0 \r\nC -3 0.795609 -2.683901 1.55874 -2.12132 2.12132 \r\nC -1.55874 2.683901 -0.795609 3 0 3 \r\nz\r\n\" id=\"ma6688f7e8b\" style=\"stroke:#1f77b4;\"/>\r\n    </defs>\r\n    <g clip-path=\"url(#p534ec45367)\">\r\n     <use style=\"fill:#1f77b4;stroke:#1f77b4;\" x=\"130.382745\" xlink:href=\"#ma6688f7e8b\" y=\"78.704937\"/>\r\n     <use style=\"fill:#1f77b4;stroke:#1f77b4;\" x=\"224.90554\" xlink:href=\"#ma6688f7e8b\" y=\"15.851605\"/>\r\n     <use style=\"fill:#1f77b4;stroke:#1f77b4;\" x=\"186.939076\" xlink:href=\"#ma6688f7e8b\" y=\"52.28914\"/>\r\n     <use style=\"fill:#1f77b4;stroke:#1f77b4;\" x=\"130.95541\" xlink:href=\"#ma6688f7e8b\" y=\"77.732665\"/>\r\n     <use style=\"fill:#1f77b4;stroke:#1f77b4;\" x=\"109.342332\" xlink:href=\"#ma6688f7e8b\" y=\"95.536616\"/>\r\n     <use style=\"fill:#1f77b4;stroke:#1f77b4;\" x=\"110.899166\" xlink:href=\"#ma6688f7e8b\" y=\"88.552146\"/>\r\n     <use style=\"fill:#1f77b4;stroke:#1f77b4;\" x=\"154.99706\" xlink:href=\"#ma6688f7e8b\" y=\"77.549398\"/>\r\n     <use style=\"fill:#1f77b4;stroke:#1f77b4;\" x=\"156.925019\" xlink:href=\"#ma6688f7e8b\" y=\"68.91674\"/>\r\n     <use style=\"fill:#1f77b4;stroke:#1f77b4;\" x=\"86.805147\" xlink:href=\"#ma6688f7e8b\" y=\"110.89564\"/>\r\n     <use style=\"fill:#1f77b4;stroke:#1f77b4;\" x=\"142.037452\" xlink:href=\"#ma6688f7e8b\" y=\"78.664694\"/>\r\n     <use style=\"fill:#1f77b4;stroke:#1f77b4;\" x=\"119.053247\" xlink:href=\"#ma6688f7e8b\" y=\"84.331395\"/>\r\n     <use style=\"fill:#1f77b4;stroke:#1f77b4;\" x=\"141.141506\" xlink:href=\"#ma6688f7e8b\" y=\"76.712034\"/>\r\n     <use style=\"fill:#1f77b4;stroke:#1f77b4;\" x=\"95.670006\" xlink:href=\"#ma6688f7e8b\" y=\"97.646922\"/>\r\n     <use style=\"fill:#1f77b4;stroke:#1f77b4;\" x=\"117.444534\" xlink:href=\"#ma6688f7e8b\" y=\"85.446032\"/>\r\n     <use style=\"fill:#1f77b4;stroke:#1f77b4;\" x=\"170.437884\" xlink:href=\"#ma6688f7e8b\" y=\"57.697773\"/>\r\n     <use style=\"fill:#1f77b4;stroke:#1f77b4;\" x=\"120.363044\" xlink:href=\"#ma6688f7e8b\" y=\"70.761118\"/>\r\n     <use style=\"fill:#1f77b4;stroke:#1f77b4;\" x=\"119.099294\" xlink:href=\"#ma6688f7e8b\" y=\"89.585458\"/>\r\n     <use style=\"fill:#1f77b4;stroke:#1f77b4;\" x=\"94.788714\" xlink:href=\"#ma6688f7e8b\" y=\"114.946095\"/>\r\n     <use style=\"fill:#1f77b4;stroke:#1f77b4;\" x=\"112.686563\" xlink:href=\"#ma6688f7e8b\" y=\"83.486905\"/>\r\n     <use style=\"fill:#1f77b4;stroke:#1f77b4;\" x=\"187.317352\" xlink:href=\"#ma6688f7e8b\" y=\"52.882042\"/>\r\n     <use style=\"fill:#1f77b4;stroke:#1f77b4;\" x=\"128.166588\" xlink:href=\"#ma6688f7e8b\" y=\"86.347426\"/>\r\n     <use style=\"fill:#1f77b4;stroke:#1f77b4;\" x=\"87.29715\" xlink:href=\"#ma6688f7e8b\" y=\"100.566746\"/>\r\n     <use style=\"fill:#1f77b4;stroke:#1f77b4;\" x=\"73.186566\" xlink:href=\"#ma6688f7e8b\" y=\"114.730027\"/>\r\n     <use style=\"fill:#1f77b4;stroke:#1f77b4;\" x=\"178.951315\" xlink:href=\"#ma6688f7e8b\" y=\"58.070124\"/>\r\n     <use style=\"fill:#1f77b4;stroke:#1f77b4;\" x=\"79.891216\" xlink:href=\"#ma6688f7e8b\" y=\"108.988792\"/>\r\n     <use style=\"fill:#1f77b4;stroke:#1f77b4;\" x=\"84.035087\" xlink:href=\"#ma6688f7e8b\" y=\"105.817054\"/>\r\n     <use style=\"fill:#1f77b4;stroke:#1f77b4;\" x=\"163.816123\" xlink:href=\"#ma6688f7e8b\" y=\"66.548908\"/>\r\n     <use style=\"fill:#1f77b4;stroke:#1f77b4;\" x=\"135.465524\" xlink:href=\"#ma6688f7e8b\" y=\"71.674971\"/>\r\n     <use style=\"fill:#1f77b4;stroke:#1f77b4;\" x=\"121.373264\" xlink:href=\"#ma6688f7e8b\" y=\"92.381547\"/>\r\n     <use style=\"fill:#1f77b4;stroke:#1f77b4;\" x=\"122.941258\" xlink:href=\"#ma6688f7e8b\" y=\"88.461537\"/>\r\n     <use style=\"fill:#1f77b4;stroke:#1f77b4;\" x=\"72.232137\" xlink:href=\"#ma6688f7e8b\" y=\"112.016278\"/>\r\n     <use style=\"fill:#1f77b4;stroke:#1f77b4;\" x=\"150.417807\" xlink:href=\"#ma6688f7e8b\" y=\"65.495992\"/>\r\n     <use style=\"fill:#1f77b4;stroke:#1f77b4;\" x=\"51.392919\" xlink:href=\"#ma6688f7e8b\" y=\"139.397059\"/>\r\n     <use style=\"fill:#1f77b4;stroke:#1f77b4;\" x=\"101.82498\" xlink:href=\"#ma6688f7e8b\" y=\"101.182951\"/>\r\n     <use style=\"fill:#1f77b4;stroke:#1f77b4;\" x=\"137.711819\" xlink:href=\"#ma6688f7e8b\" y=\"72.076363\"/>\r\n     <use style=\"fill:#1f77b4;stroke:#1f77b4;\" x=\"132.190666\" xlink:href=\"#ma6688f7e8b\" y=\"83.789419\"/>\r\n     <use style=\"fill:#1f77b4;stroke:#1f77b4;\" x=\"147.693195\" xlink:href=\"#ma6688f7e8b\" y=\"77.467612\"/>\r\n     <use style=\"fill:#1f77b4;stroke:#1f77b4;\" x=\"96.758638\" xlink:href=\"#ma6688f7e8b\" y=\"82.423825\"/>\r\n     <use style=\"fill:#1f77b4;stroke:#1f77b4;\" x=\"78.273914\" xlink:href=\"#ma6688f7e8b\" y=\"111.516953\"/>\r\n     <use style=\"fill:#1f77b4;stroke:#1f77b4;\" x=\"99.063499\" xlink:href=\"#ma6688f7e8b\" y=\"102.833342\"/>\r\n     <use style=\"fill:#1f77b4;stroke:#1f77b4;\" x=\"65.202612\" xlink:href=\"#ma6688f7e8b\" y=\"129.498012\"/>\r\n     <use style=\"fill:#1f77b4;stroke:#1f77b4;\" x=\"90.005199\" xlink:href=\"#ma6688f7e8b\" y=\"100.335151\"/>\r\n     <use style=\"fill:#1f77b4;stroke:#1f77b4;\" x=\"115.287891\" xlink:href=\"#ma6688f7e8b\" y=\"84.85134\"/>\r\n     <use style=\"fill:#1f77b4;stroke:#1f77b4;\" x=\"123.836243\" xlink:href=\"#ma6688f7e8b\" y=\"82.55315\"/>\r\n     <use style=\"fill:#1f77b4;stroke:#1f77b4;\" x=\"98.621646\" xlink:href=\"#ma6688f7e8b\" y=\"100.390896\"/>\r\n     <use style=\"fill:#1f77b4;stroke:#1f77b4;\" x=\"189.498677\" xlink:href=\"#ma6688f7e8b\" y=\"43.810202\"/>\r\n     <use style=\"fill:#1f77b4;stroke:#1f77b4;\" x=\"90.625929\" xlink:href=\"#ma6688f7e8b\" y=\"109.889455\"/>\r\n     <use style=\"fill:#1f77b4;stroke:#1f77b4;\" x=\"168.530213\" xlink:href=\"#ma6688f7e8b\" y=\"47.691522\"/>\r\n     <use style=\"fill:#1f77b4;stroke:#1f77b4;\" x=\"111.555457\" xlink:href=\"#ma6688f7e8b\" y=\"93.065079\"/>\r\n     <use style=\"fill:#1f77b4;stroke:#1f77b4;\" x=\"144.905575\" xlink:href=\"#ma6688f7e8b\" y=\"77.910752\"/>\r\n     <use style=\"fill:#1f77b4;stroke:#1f77b4;\" x=\"100.257961\" xlink:href=\"#ma6688f7e8b\" y=\"108.775716\"/>\r\n     <use style=\"fill:#1f77b4;stroke:#1f77b4;\" x=\"112.642979\" xlink:href=\"#ma6688f7e8b\" y=\"89.09372\"/>\r\n     <use style=\"fill:#1f77b4;stroke:#1f77b4;\" x=\"112.225043\" xlink:href=\"#ma6688f7e8b\" y=\"81.631016\"/>\r\n     <use style=\"fill:#1f77b4;stroke:#1f77b4;\" x=\"119.391096\" xlink:href=\"#ma6688f7e8b\" y=\"98.097551\"/>\r\n     <use style=\"fill:#1f77b4;stroke:#1f77b4;\" x=\"95.541864\" xlink:href=\"#ma6688f7e8b\" y=\"100.164501\"/>\r\n     <use style=\"fill:#1f77b4;stroke:#1f77b4;\" x=\"132.749272\" xlink:href=\"#ma6688f7e8b\" y=\"83.155761\"/>\r\n     <use style=\"fill:#1f77b4;stroke:#1f77b4;\" x=\"169.875746\" xlink:href=\"#ma6688f7e8b\" y=\"52.295264\"/>\r\n     <use style=\"fill:#1f77b4;stroke:#1f77b4;\" x=\"157.528856\" xlink:href=\"#ma6688f7e8b\" y=\"71.072027\"/>\r\n     <use style=\"fill:#1f77b4;stroke:#1f77b4;\" x=\"153.718519\" xlink:href=\"#ma6688f7e8b\" y=\"71.796058\"/>\r\n     <use style=\"fill:#1f77b4;stroke:#1f77b4;\" x=\"96.462111\" xlink:href=\"#ma6688f7e8b\" y=\"94.025135\"/>\r\n     <use style=\"fill:#1f77b4;stroke:#1f77b4;\" x=\"79.118482\" xlink:href=\"#ma6688f7e8b\" y=\"118.562161\"/>\r\n     <use style=\"fill:#1f77b4;stroke:#1f77b4;\" x=\"124.62414\" xlink:href=\"#ma6688f7e8b\" y=\"63.004401\"/>\r\n     <use style=\"fill:#1f77b4;stroke:#1f77b4;\" x=\"176.170505\" xlink:href=\"#ma6688f7e8b\" y=\"67.738767\"/>\r\n     <use style=\"fill:#1f77b4;stroke:#1f77b4;\" x=\"157.63297\" xlink:href=\"#ma6688f7e8b\" y=\"61.310354\"/>\r\n     <use style=\"fill:#1f77b4;stroke:#1f77b4;\" x=\"81.648687\" xlink:href=\"#ma6688f7e8b\" y=\"116.289514\"/>\r\n     <use style=\"fill:#1f77b4;stroke:#1f77b4;\" x=\"159.339672\" xlink:href=\"#ma6688f7e8b\" y=\"79.566348\"/>\r\n     <use style=\"fill:#1f77b4;stroke:#1f77b4;\" x=\"131.982742\" xlink:href=\"#ma6688f7e8b\" y=\"82.059154\"/>\r\n     <use style=\"fill:#1f77b4;stroke:#1f77b4;\" x=\"160.436094\" xlink:href=\"#ma6688f7e8b\" y=\"70.085289\"/>\r\n     <use style=\"fill:#1f77b4;stroke:#1f77b4;\" x=\"214.127806\" xlink:href=\"#ma6688f7e8b\" y=\"25.77932\"/>\r\n     <use style=\"fill:#1f77b4;stroke:#1f77b4;\" x=\"99.45658\" xlink:href=\"#ma6688f7e8b\" y=\"101.569325\"/>\r\n     <use style=\"fill:#1f77b4;stroke:#1f77b4;\" x=\"104.179801\" xlink:href=\"#ma6688f7e8b\" y=\"101.413276\"/>\r\n     <use style=\"fill:#1f77b4;stroke:#1f77b4;\" x=\"116.171884\" xlink:href=\"#ma6688f7e8b\" y=\"93.08069\"/>\r\n     <use style=\"fill:#1f77b4;stroke:#1f77b4;\" x=\"94.047509\" xlink:href=\"#ma6688f7e8b\" y=\"108.543234\"/>\r\n     <use style=\"fill:#1f77b4;stroke:#1f77b4;\" x=\"62.256549\" xlink:href=\"#ma6688f7e8b\" y=\"120.050554\"/>\r\n     <use style=\"fill:#1f77b4;stroke:#1f77b4;\" x=\"167.121167\" xlink:href=\"#ma6688f7e8b\" y=\"65.996825\"/>\r\n     <use style=\"fill:#1f77b4;stroke:#1f77b4;\" x=\"141.995083\" xlink:href=\"#ma6688f7e8b\" y=\"84.513854\"/>\r\n     <use style=\"fill:#1f77b4;stroke:#1f77b4;\" x=\"142.085044\" xlink:href=\"#ma6688f7e8b\" y=\"71.383855\"/>\r\n     <use style=\"fill:#1f77b4;stroke:#1f77b4;\" x=\"154.067012\" xlink:href=\"#ma6688f7e8b\" y=\"74.617653\"/>\r\n     <use style=\"fill:#1f77b4;stroke:#1f77b4;\" x=\"171.706656\" xlink:href=\"#ma6688f7e8b\" y=\"53.767922\"/>\r\n     <use style=\"fill:#1f77b4;stroke:#1f77b4;\" x=\"140.184752\" xlink:href=\"#ma6688f7e8b\" y=\"87.451917\"/>\r\n     <use style=\"fill:#1f77b4;stroke:#1f77b4;\" x=\"197.152718\" xlink:href=\"#ma6688f7e8b\" y=\"35.081542\"/>\r\n     <use style=\"fill:#1f77b4;stroke:#1f77b4;\" x=\"47.360085\" xlink:href=\"#ma6688f7e8b\" y=\"131.233378\"/>\r\n     <use style=\"fill:#1f77b4;stroke:#1f77b4;\" x=\"91.480324\" xlink:href=\"#ma6688f7e8b\" y=\"101.298453\"/>\r\n     <use style=\"fill:#1f77b4;stroke:#1f77b4;\" x=\"113.78282\" xlink:href=\"#ma6688f7e8b\" y=\"86.780639\"/>\r\n     <use style=\"fill:#1f77b4;stroke:#1f77b4;\" x=\"121.870577\" xlink:href=\"#ma6688f7e8b\" y=\"82.064229\"/>\r\n     <use style=\"fill:#1f77b4;stroke:#1f77b4;\" x=\"58.969428\" xlink:href=\"#ma6688f7e8b\" y=\"136.858989\"/>\r\n     <use style=\"fill:#1f77b4;stroke:#1f77b4;\" x=\"162.079106\" xlink:href=\"#ma6688f7e8b\" y=\"71.202553\"/>\r\n     <use style=\"fill:#1f77b4;stroke:#1f77b4;\" x=\"105.479292\" xlink:href=\"#ma6688f7e8b\" y=\"104.424424\"/>\r\n     <use style=\"fill:#1f77b4;stroke:#1f77b4;\" x=\"96.983462\" xlink:href=\"#ma6688f7e8b\" y=\"92.426077\"/>\r\n     <use style=\"fill:#1f77b4;stroke:#1f77b4;\" x=\"164.282979\" xlink:href=\"#ma6688f7e8b\" y=\"72.882017\"/>\r\n     <use style=\"fill:#1f77b4;stroke:#1f77b4;\" x=\"146.439568\" xlink:href=\"#ma6688f7e8b\" y=\"76.67909\"/>\r\n     <use style=\"fill:#1f77b4;stroke:#1f77b4;\" x=\"123.567878\" xlink:href=\"#ma6688f7e8b\" y=\"91.93044\"/>\r\n     <use style=\"fill:#1f77b4;stroke:#1f77b4;\" x=\"216.557701\" xlink:href=\"#ma6688f7e8b\" y=\"39.828622\"/>\r\n     <use style=\"fill:#1f77b4;stroke:#1f77b4;\" x=\"101.706663\" xlink:href=\"#ma6688f7e8b\" y=\"100.231813\"/>\r\n     <use style=\"fill:#1f77b4;stroke:#1f77b4;\" x=\"86.872267\" xlink:href=\"#ma6688f7e8b\" y=\"95.834807\"/>\r\n     <use style=\"fill:#1f77b4;stroke:#1f77b4;\" x=\"114.764333\" xlink:href=\"#ma6688f7e8b\" y=\"86.344066\"/>\r\n     <use style=\"fill:#1f77b4;stroke:#1f77b4;\" x=\"124.072485\" xlink:href=\"#ma6688f7e8b\" y=\"85.146151\"/>\r\n     <use style=\"fill:#1f77b4;stroke:#1f77b4;\" x=\"116.920342\" xlink:href=\"#ma6688f7e8b\" y=\"101.913945\"/>\r\n     <use style=\"fill:#1f77b4;stroke:#1f77b4;\" x=\"100.370519\" xlink:href=\"#ma6688f7e8b\" y=\"106.413432\"/>\r\n     <use style=\"fill:#1f77b4;stroke:#1f77b4;\" x=\"173.942113\" xlink:href=\"#ma6688f7e8b\" y=\"65.156531\"/>\r\n    </g>\r\n   </g>\r\n   <g id=\"matplotlib.axis_1\">\r\n    <g id=\"xtick_1\">\r\n     <g id=\"line2d_1\">\r\n      <defs>\r\n       <path d=\"M 0 0 \r\nL 0 3.5 \r\n\" id=\"m9cf8c9c451\" style=\"stroke:#000000;stroke-width:0.8;\"/>\r\n      </defs>\r\n      <g>\r\n       <use style=\"stroke:#000000;stroke-width:0.8;\" x=\"50.877619\" xlink:href=\"#m9cf8c9c451\" y=\"145.574332\"/>\r\n      </g>\r\n     </g>\r\n     <g id=\"text_1\">\r\n      <!-- −1 -->\r\n      <g transform=\"translate(43.506525 160.172769)scale(0.1 -0.1)\">\r\n       <defs>\r\n        <path d=\"M 10.59375 35.5 \r\nL 73.1875 35.5 \r\nL 73.1875 27.203125 \r\nL 10.59375 27.203125 \r\nz\r\n\" id=\"DejaVuSans-8722\"/>\r\n        <path d=\"M 12.40625 8.296875 \r\nL 28.515625 8.296875 \r\nL 28.515625 63.921875 \r\nL 10.984375 60.40625 \r\nL 10.984375 69.390625 \r\nL 28.421875 72.90625 \r\nL 38.28125 72.90625 \r\nL 38.28125 8.296875 \r\nL 54.390625 8.296875 \r\nL 54.390625 0 \r\nL 12.40625 0 \r\nz\r\n\" id=\"DejaVuSans-49\"/>\r\n       </defs>\r\n       <use xlink:href=\"#DejaVuSans-8722\"/>\r\n       <use x=\"83.789062\" xlink:href=\"#DejaVuSans-49\"/>\r\n      </g>\r\n     </g>\r\n    </g>\r\n    <g id=\"xtick_2\">\r\n     <g id=\"line2d_2\">\r\n      <g>\r\n       <use style=\"stroke:#000000;stroke-width:0.8;\" x=\"84.739618\" xlink:href=\"#m9cf8c9c451\" y=\"145.574332\"/>\r\n      </g>\r\n     </g>\r\n     <g id=\"text_2\">\r\n      <!-- 0 -->\r\n      <g transform=\"translate(81.558368 160.172769)scale(0.1 -0.1)\">\r\n       <defs>\r\n        <path d=\"M 31.78125 66.40625 \r\nQ 24.171875 66.40625 20.328125 58.90625 \r\nQ 16.5 51.421875 16.5 36.375 \r\nQ 16.5 21.390625 20.328125 13.890625 \r\nQ 24.171875 6.390625 31.78125 6.390625 \r\nQ 39.453125 6.390625 43.28125 13.890625 \r\nQ 47.125 21.390625 47.125 36.375 \r\nQ 47.125 51.421875 43.28125 58.90625 \r\nQ 39.453125 66.40625 31.78125 66.40625 \r\nz\r\nM 31.78125 74.21875 \r\nQ 44.046875 74.21875 50.515625 64.515625 \r\nQ 56.984375 54.828125 56.984375 36.375 \r\nQ 56.984375 17.96875 50.515625 8.265625 \r\nQ 44.046875 -1.421875 31.78125 -1.421875 \r\nQ 19.53125 -1.421875 13.0625 8.265625 \r\nQ 6.59375 17.96875 6.59375 36.375 \r\nQ 6.59375 54.828125 13.0625 64.515625 \r\nQ 19.53125 74.21875 31.78125 74.21875 \r\nz\r\n\" id=\"DejaVuSans-48\"/>\r\n       </defs>\r\n       <use xlink:href=\"#DejaVuSans-48\"/>\r\n      </g>\r\n     </g>\r\n    </g>\r\n    <g id=\"xtick_3\">\r\n     <g id=\"line2d_3\">\r\n      <g>\r\n       <use style=\"stroke:#000000;stroke-width:0.8;\" x=\"118.601617\" xlink:href=\"#m9cf8c9c451\" y=\"145.574332\"/>\r\n      </g>\r\n     </g>\r\n     <g id=\"text_3\">\r\n      <!-- 1 -->\r\n      <g transform=\"translate(115.420367 160.172769)scale(0.1 -0.1)\">\r\n       <use xlink:href=\"#DejaVuSans-49\"/>\r\n      </g>\r\n     </g>\r\n    </g>\r\n    <g id=\"xtick_4\">\r\n     <g id=\"line2d_4\">\r\n      <g>\r\n       <use style=\"stroke:#000000;stroke-width:0.8;\" x=\"152.463617\" xlink:href=\"#m9cf8c9c451\" y=\"145.574332\"/>\r\n      </g>\r\n     </g>\r\n     <g id=\"text_4\">\r\n      <!-- 2 -->\r\n      <g transform=\"translate(149.282367 160.172769)scale(0.1 -0.1)\">\r\n       <defs>\r\n        <path d=\"M 19.1875 8.296875 \r\nL 53.609375 8.296875 \r\nL 53.609375 0 \r\nL 7.328125 0 \r\nL 7.328125 8.296875 \r\nQ 12.9375 14.109375 22.625 23.890625 \r\nQ 32.328125 33.6875 34.8125 36.53125 \r\nQ 39.546875 41.84375 41.421875 45.53125 \r\nQ 43.3125 49.21875 43.3125 52.78125 \r\nQ 43.3125 58.59375 39.234375 62.25 \r\nQ 35.15625 65.921875 28.609375 65.921875 \r\nQ 23.96875 65.921875 18.8125 64.3125 \r\nQ 13.671875 62.703125 7.8125 59.421875 \r\nL 7.8125 69.390625 \r\nQ 13.765625 71.78125 18.9375 73 \r\nQ 24.125 74.21875 28.421875 74.21875 \r\nQ 39.75 74.21875 46.484375 68.546875 \r\nQ 53.21875 62.890625 53.21875 53.421875 \r\nQ 53.21875 48.921875 51.53125 44.890625 \r\nQ 49.859375 40.875 45.40625 35.40625 \r\nQ 44.1875 33.984375 37.640625 27.21875 \r\nQ 31.109375 20.453125 19.1875 8.296875 \r\nz\r\n\" id=\"DejaVuSans-50\"/>\r\n       </defs>\r\n       <use xlink:href=\"#DejaVuSans-50\"/>\r\n      </g>\r\n     </g>\r\n    </g>\r\n    <g id=\"xtick_5\">\r\n     <g id=\"line2d_5\">\r\n      <g>\r\n       <use style=\"stroke:#000000;stroke-width:0.8;\" x=\"186.325616\" xlink:href=\"#m9cf8c9c451\" y=\"145.574332\"/>\r\n      </g>\r\n     </g>\r\n     <g id=\"text_5\">\r\n      <!-- 3 -->\r\n      <g transform=\"translate(183.144366 160.172769)scale(0.1 -0.1)\">\r\n       <defs>\r\n        <path d=\"M 40.578125 39.3125 \r\nQ 47.65625 37.796875 51.625 33 \r\nQ 55.609375 28.21875 55.609375 21.1875 \r\nQ 55.609375 10.40625 48.1875 4.484375 \r\nQ 40.765625 -1.421875 27.09375 -1.421875 \r\nQ 22.515625 -1.421875 17.65625 -0.515625 \r\nQ 12.796875 0.390625 7.625 2.203125 \r\nL 7.625 11.71875 \r\nQ 11.71875 9.328125 16.59375 8.109375 \r\nQ 21.484375 6.890625 26.8125 6.890625 \r\nQ 36.078125 6.890625 40.9375 10.546875 \r\nQ 45.796875 14.203125 45.796875 21.1875 \r\nQ 45.796875 27.640625 41.28125 31.265625 \r\nQ 36.765625 34.90625 28.71875 34.90625 \r\nL 20.21875 34.90625 \r\nL 20.21875 43.015625 \r\nL 29.109375 43.015625 \r\nQ 36.375 43.015625 40.234375 45.921875 \r\nQ 44.09375 48.828125 44.09375 54.296875 \r\nQ 44.09375 59.90625 40.109375 62.90625 \r\nQ 36.140625 65.921875 28.71875 65.921875 \r\nQ 24.65625 65.921875 20.015625 65.03125 \r\nQ 15.375 64.15625 9.8125 62.3125 \r\nL 9.8125 71.09375 \r\nQ 15.4375 72.65625 20.34375 73.4375 \r\nQ 25.25 74.21875 29.59375 74.21875 \r\nQ 40.828125 74.21875 47.359375 69.109375 \r\nQ 53.90625 64.015625 53.90625 55.328125 \r\nQ 53.90625 49.265625 50.4375 45.09375 \r\nQ 46.96875 40.921875 40.578125 39.3125 \r\nz\r\n\" id=\"DejaVuSans-51\"/>\r\n       </defs>\r\n       <use xlink:href=\"#DejaVuSans-51\"/>\r\n      </g>\r\n     </g>\r\n    </g>\r\n    <g id=\"xtick_6\">\r\n     <g id=\"line2d_6\">\r\n      <g>\r\n       <use style=\"stroke:#000000;stroke-width:0.8;\" x=\"220.187615\" xlink:href=\"#m9cf8c9c451\" y=\"145.574332\"/>\r\n      </g>\r\n     </g>\r\n     <g id=\"text_6\">\r\n      <!-- 4 -->\r\n      <g transform=\"translate(217.006365 160.172769)scale(0.1 -0.1)\">\r\n       <defs>\r\n        <path d=\"M 37.796875 64.3125 \r\nL 12.890625 25.390625 \r\nL 37.796875 25.390625 \r\nz\r\nM 35.203125 72.90625 \r\nL 47.609375 72.90625 \r\nL 47.609375 25.390625 \r\nL 58.015625 25.390625 \r\nL 58.015625 17.1875 \r\nL 47.609375 17.1875 \r\nL 47.609375 0 \r\nL 37.796875 0 \r\nL 37.796875 17.1875 \r\nL 4.890625 17.1875 \r\nL 4.890625 26.703125 \r\nz\r\n\" id=\"DejaVuSans-52\"/>\r\n       </defs>\r\n       <use xlink:href=\"#DejaVuSans-52\"/>\r\n      </g>\r\n     </g>\r\n    </g>\r\n   </g>\r\n   <g id=\"matplotlib.axis_2\">\r\n    <g id=\"ytick_1\">\r\n     <g id=\"line2d_7\">\r\n      <defs>\r\n       <path d=\"M 0 0 \r\nL -3.5 0 \r\n\" id=\"m47ef1a4e7f\" style=\"stroke:#000000;stroke-width:0.8;\"/>\r\n      </defs>\r\n      <g>\r\n       <use style=\"stroke:#000000;stroke-width:0.8;\" x=\"38.482813\" xlink:href=\"#m47ef1a4e7f\" y=\"133.000446\"/>\r\n      </g>\r\n     </g>\r\n     <g id=\"text_7\">\r\n      <!-- −2.5 -->\r\n      <g transform=\"translate(7.2 136.799665)scale(0.1 -0.1)\">\r\n       <defs>\r\n        <path d=\"M 10.6875 12.40625 \r\nL 21 12.40625 \r\nL 21 0 \r\nL 10.6875 0 \r\nz\r\n\" id=\"DejaVuSans-46\"/>\r\n        <path d=\"M 10.796875 72.90625 \r\nL 49.515625 72.90625 \r\nL 49.515625 64.59375 \r\nL 19.828125 64.59375 \r\nL 19.828125 46.734375 \r\nQ 21.96875 47.46875 24.109375 47.828125 \r\nQ 26.265625 48.1875 28.421875 48.1875 \r\nQ 40.625 48.1875 47.75 41.5 \r\nQ 54.890625 34.8125 54.890625 23.390625 \r\nQ 54.890625 11.625 47.5625 5.09375 \r\nQ 40.234375 -1.421875 26.90625 -1.421875 \r\nQ 22.3125 -1.421875 17.546875 -0.640625 \r\nQ 12.796875 0.140625 7.71875 1.703125 \r\nL 7.71875 11.625 \r\nQ 12.109375 9.234375 16.796875 8.0625 \r\nQ 21.484375 6.890625 26.703125 6.890625 \r\nQ 35.15625 6.890625 40.078125 11.328125 \r\nQ 45.015625 15.765625 45.015625 23.390625 \r\nQ 45.015625 31 40.078125 35.4375 \r\nQ 35.15625 39.890625 26.703125 39.890625 \r\nQ 22.75 39.890625 18.8125 39.015625 \r\nQ 14.890625 38.140625 10.796875 36.28125 \r\nz\r\n\" id=\"DejaVuSans-53\"/>\r\n       </defs>\r\n       <use xlink:href=\"#DejaVuSans-8722\"/>\r\n       <use x=\"83.789062\" xlink:href=\"#DejaVuSans-50\"/>\r\n       <use x=\"147.412109\" xlink:href=\"#DejaVuSans-46\"/>\r\n       <use x=\"179.199219\" xlink:href=\"#DejaVuSans-53\"/>\r\n      </g>\r\n     </g>\r\n    </g>\r\n    <g id=\"ytick_2\">\r\n     <g id=\"line2d_8\">\r\n      <g>\r\n       <use style=\"stroke:#000000;stroke-width:0.8;\" x=\"38.482813\" xlink:href=\"#m47ef1a4e7f\" y=\"108.600201\"/>\r\n      </g>\r\n     </g>\r\n     <g id=\"text_8\">\r\n      <!-- 0.0 -->\r\n      <g transform=\"translate(15.579688 112.39942)scale(0.1 -0.1)\">\r\n       <use xlink:href=\"#DejaVuSans-48\"/>\r\n       <use x=\"63.623047\" xlink:href=\"#DejaVuSans-46\"/>\r\n       <use x=\"95.410156\" xlink:href=\"#DejaVuSans-48\"/>\r\n      </g>\r\n     </g>\r\n    </g>\r\n    <g id=\"ytick_3\">\r\n     <g id=\"line2d_9\">\r\n      <g>\r\n       <use style=\"stroke:#000000;stroke-width:0.8;\" x=\"38.482813\" xlink:href=\"#m47ef1a4e7f\" y=\"84.199955\"/>\r\n      </g>\r\n     </g>\r\n     <g id=\"text_9\">\r\n      <!-- 2.5 -->\r\n      <g transform=\"translate(15.579688 87.999174)scale(0.1 -0.1)\">\r\n       <use xlink:href=\"#DejaVuSans-50\"/>\r\n       <use x=\"63.623047\" xlink:href=\"#DejaVuSans-46\"/>\r\n       <use x=\"95.410156\" xlink:href=\"#DejaVuSans-53\"/>\r\n      </g>\r\n     </g>\r\n    </g>\r\n    <g id=\"ytick_4\">\r\n     <g id=\"line2d_10\">\r\n      <g>\r\n       <use style=\"stroke:#000000;stroke-width:0.8;\" x=\"38.482813\" xlink:href=\"#m47ef1a4e7f\" y=\"59.79971\"/>\r\n      </g>\r\n     </g>\r\n     <g id=\"text_10\">\r\n      <!-- 5.0 -->\r\n      <g transform=\"translate(15.579688 63.598929)scale(0.1 -0.1)\">\r\n       <use xlink:href=\"#DejaVuSans-53\"/>\r\n       <use x=\"63.623047\" xlink:href=\"#DejaVuSans-46\"/>\r\n       <use x=\"95.410156\" xlink:href=\"#DejaVuSans-48\"/>\r\n      </g>\r\n     </g>\r\n    </g>\r\n    <g id=\"ytick_5\">\r\n     <g id=\"line2d_11\">\r\n      <g>\r\n       <use style=\"stroke:#000000;stroke-width:0.8;\" x=\"38.482813\" xlink:href=\"#m47ef1a4e7f\" y=\"35.399464\"/>\r\n      </g>\r\n     </g>\r\n     <g id=\"text_11\">\r\n      <!-- 7.5 -->\r\n      <g transform=\"translate(15.579688 39.198683)scale(0.1 -0.1)\">\r\n       <defs>\r\n        <path d=\"M 8.203125 72.90625 \r\nL 55.078125 72.90625 \r\nL 55.078125 68.703125 \r\nL 28.609375 0 \r\nL 18.3125 0 \r\nL 43.21875 64.59375 \r\nL 8.203125 64.59375 \r\nz\r\n\" id=\"DejaVuSans-55\"/>\r\n       </defs>\r\n       <use xlink:href=\"#DejaVuSans-55\"/>\r\n       <use x=\"63.623047\" xlink:href=\"#DejaVuSans-46\"/>\r\n       <use x=\"95.410156\" xlink:href=\"#DejaVuSans-53\"/>\r\n      </g>\r\n     </g>\r\n    </g>\r\n    <g id=\"ytick_6\">\r\n     <g id=\"line2d_12\">\r\n      <g>\r\n       <use style=\"stroke:#000000;stroke-width:0.8;\" x=\"38.482813\" xlink:href=\"#m47ef1a4e7f\" y=\"10.999219\"/>\r\n      </g>\r\n     </g>\r\n     <g id=\"text_12\">\r\n      <!-- 10.0 -->\r\n      <g transform=\"translate(9.217188 14.798437)scale(0.1 -0.1)\">\r\n       <use xlink:href=\"#DejaVuSans-49\"/>\r\n       <use x=\"63.623047\" xlink:href=\"#DejaVuSans-48\"/>\r\n       <use x=\"127.246094\" xlink:href=\"#DejaVuSans-46\"/>\r\n       <use x=\"159.033203\" xlink:href=\"#DejaVuSans-48\"/>\r\n      </g>\r\n     </g>\r\n    </g>\r\n   </g>\r\n   <g id=\"patch_3\">\r\n    <path d=\"M 38.482813 145.574332 \r\nL 38.482813 9.674332 \r\n\" style=\"fill:none;stroke:#000000;stroke-linecap:square;stroke-linejoin:miter;stroke-width:0.8;\"/>\r\n   </g>\r\n   <g id=\"patch_4\">\r\n    <path d=\"M 233.782813 145.574332 \r\nL 233.782813 9.674332 \r\n\" style=\"fill:none;stroke:#000000;stroke-linecap:square;stroke-linejoin:miter;stroke-width:0.8;\"/>\r\n   </g>\r\n   <g id=\"patch_5\">\r\n    <path d=\"M 38.482813 145.574332 \r\nL 233.782813 145.574332 \r\n\" style=\"fill:none;stroke:#000000;stroke-linecap:square;stroke-linejoin:miter;stroke-width:0.8;\"/>\r\n   </g>\r\n   <g id=\"patch_6\">\r\n    <path d=\"M 38.482813 9.674332 \r\nL 233.782813 9.674332 \r\n\" style=\"fill:none;stroke:#000000;stroke-linecap:square;stroke-linejoin:miter;stroke-width:0.8;\"/>\r\n   </g>\r\n  </g>\r\n </g>\r\n <defs>\r\n  <clipPath id=\"p534ec45367\">\r\n   <rect height=\"135.9\" width=\"195.3\" x=\"38.482813\" y=\"9.674332\"/>\r\n  </clipPath>\r\n </defs>\r\n</svg>\r\n"
     },
     "metadata": {
      "needs_background": "light"
     }
    }
   ],
   "source": [
    "d2l.plt.scatter(data[:100, 0].numpy(), data[:100, 1].numpy());"
   ]
  },
  {
   "cell_type": "code",
   "execution_count": 17,
   "metadata": {},
   "outputs": [
    {
     "output_type": "execute_result",
     "data": {
      "text/plain": "<matplotlib.collections.PathCollection at 0x20e3c3a1880>"
     },
     "metadata": {},
     "execution_count": 17
    },
    {
     "output_type": "display_data",
     "data": {
      "text/plain": "<Figure size 252x180 with 1 Axes>",
      "image/svg+xml": "<?xml version=\"1.0\" encoding=\"utf-8\" standalone=\"no\"?>\r\n<!DOCTYPE svg PUBLIC \"-//W3C//DTD SVG 1.1//EN\"\r\n  \"http://www.w3.org/Graphics/SVG/1.1/DTD/svg11.dtd\">\r\n<!-- Created with matplotlib (https://matplotlib.org/) -->\r\n<svg height=\"169.452457pt\" version=\"1.1\" viewBox=\"0 0 240.982812 169.452457\" width=\"240.982812pt\" xmlns=\"http://www.w3.org/2000/svg\" xmlns:xlink=\"http://www.w3.org/1999/xlink\">\r\n <metadata>\r\n  <rdf:RDF xmlns:cc=\"http://creativecommons.org/ns#\" xmlns:dc=\"http://purl.org/dc/elements/1.1/\" xmlns:rdf=\"http://www.w3.org/1999/02/22-rdf-syntax-ns#\">\r\n   <cc:Work>\r\n    <dc:type rdf:resource=\"http://purl.org/dc/dcmitype/StillImage\"/>\r\n    <dc:date>2020-08-06T21:58:43.269143</dc:date>\r\n    <dc:format>image/svg+xml</dc:format>\r\n    <dc:creator>\r\n     <cc:Agent>\r\n      <dc:title>Matplotlib v3.3.0, https://matplotlib.org/</dc:title>\r\n     </cc:Agent>\r\n    </dc:creator>\r\n   </cc:Work>\r\n  </rdf:RDF>\r\n </metadata>\r\n <defs>\r\n  <style type=\"text/css\">*{stroke-linecap:butt;stroke-linejoin:round;}</style>\r\n </defs>\r\n <g id=\"figure_1\">\r\n  <g id=\"patch_1\">\r\n   <path d=\"M -0 169.452457 \r\nL 240.982813 169.452457 \r\nL 240.982813 0 \r\nL -0 0 \r\nz\r\n\" style=\"fill:none;\"/>\r\n  </g>\r\n  <g id=\"axes_1\">\r\n   <g id=\"patch_2\">\r\n    <path d=\"M 38.482813 145.574332 \r\nL 233.782813 145.574332 \r\nL 233.782813 9.674332 \r\nL 38.482813 9.674332 \r\nz\r\n\" style=\"fill:#ffffff;\"/>\r\n   </g>\r\n   <g id=\"PathCollection_1\">\r\n    <defs>\r\n     <path d=\"M 0 3 \r\nC 0.795609 3 1.55874 2.683901 2.12132 2.12132 \r\nC 2.683901 1.55874 3 0.795609 3 0 \r\nC 3 -0.795609 2.683901 -1.55874 2.12132 -2.12132 \r\nC 1.55874 -2.683901 0.795609 -3 0 -3 \r\nC -0.795609 -3 -1.55874 -2.683901 -2.12132 -2.12132 \r\nC -2.683901 -1.55874 -3 -0.795609 -3 0 \r\nC -3 0.795609 -2.683901 1.55874 -2.12132 2.12132 \r\nC -1.55874 2.683901 -0.795609 3 0 3 \r\nz\r\n\" id=\"m36ef956f75\" style=\"stroke:#1f77b4;\"/>\r\n    </defs>\r\n    <g clip-path=\"url(#pfd817ca5c5)\">\r\n     <use style=\"fill:#1f77b4;stroke:#1f77b4;\" x=\"130.382745\" xlink:href=\"#m36ef956f75\" y=\"78.704937\"/>\r\n     <use style=\"fill:#1f77b4;stroke:#1f77b4;\" x=\"224.90554\" xlink:href=\"#m36ef956f75\" y=\"15.851605\"/>\r\n     <use style=\"fill:#1f77b4;stroke:#1f77b4;\" x=\"186.939076\" xlink:href=\"#m36ef956f75\" y=\"52.28914\"/>\r\n     <use style=\"fill:#1f77b4;stroke:#1f77b4;\" x=\"130.95541\" xlink:href=\"#m36ef956f75\" y=\"77.732665\"/>\r\n     <use style=\"fill:#1f77b4;stroke:#1f77b4;\" x=\"109.342332\" xlink:href=\"#m36ef956f75\" y=\"95.536616\"/>\r\n     <use style=\"fill:#1f77b4;stroke:#1f77b4;\" x=\"110.899166\" xlink:href=\"#m36ef956f75\" y=\"88.552146\"/>\r\n     <use style=\"fill:#1f77b4;stroke:#1f77b4;\" x=\"154.99706\" xlink:href=\"#m36ef956f75\" y=\"77.549398\"/>\r\n     <use style=\"fill:#1f77b4;stroke:#1f77b4;\" x=\"156.925019\" xlink:href=\"#m36ef956f75\" y=\"68.91674\"/>\r\n     <use style=\"fill:#1f77b4;stroke:#1f77b4;\" x=\"86.805147\" xlink:href=\"#m36ef956f75\" y=\"110.89564\"/>\r\n     <use style=\"fill:#1f77b4;stroke:#1f77b4;\" x=\"142.037452\" xlink:href=\"#m36ef956f75\" y=\"78.664694\"/>\r\n     <use style=\"fill:#1f77b4;stroke:#1f77b4;\" x=\"119.053247\" xlink:href=\"#m36ef956f75\" y=\"84.331395\"/>\r\n     <use style=\"fill:#1f77b4;stroke:#1f77b4;\" x=\"141.141506\" xlink:href=\"#m36ef956f75\" y=\"76.712034\"/>\r\n     <use style=\"fill:#1f77b4;stroke:#1f77b4;\" x=\"95.670006\" xlink:href=\"#m36ef956f75\" y=\"97.646922\"/>\r\n     <use style=\"fill:#1f77b4;stroke:#1f77b4;\" x=\"117.444534\" xlink:href=\"#m36ef956f75\" y=\"85.446032\"/>\r\n     <use style=\"fill:#1f77b4;stroke:#1f77b4;\" x=\"170.437884\" xlink:href=\"#m36ef956f75\" y=\"57.697773\"/>\r\n     <use style=\"fill:#1f77b4;stroke:#1f77b4;\" x=\"120.363044\" xlink:href=\"#m36ef956f75\" y=\"70.761118\"/>\r\n     <use style=\"fill:#1f77b4;stroke:#1f77b4;\" x=\"119.099294\" xlink:href=\"#m36ef956f75\" y=\"89.585458\"/>\r\n     <use style=\"fill:#1f77b4;stroke:#1f77b4;\" x=\"94.788714\" xlink:href=\"#m36ef956f75\" y=\"114.946095\"/>\r\n     <use style=\"fill:#1f77b4;stroke:#1f77b4;\" x=\"112.686563\" xlink:href=\"#m36ef956f75\" y=\"83.486905\"/>\r\n     <use style=\"fill:#1f77b4;stroke:#1f77b4;\" x=\"187.317352\" xlink:href=\"#m36ef956f75\" y=\"52.882042\"/>\r\n     <use style=\"fill:#1f77b4;stroke:#1f77b4;\" x=\"128.166588\" xlink:href=\"#m36ef956f75\" y=\"86.347426\"/>\r\n     <use style=\"fill:#1f77b4;stroke:#1f77b4;\" x=\"87.29715\" xlink:href=\"#m36ef956f75\" y=\"100.566746\"/>\r\n     <use style=\"fill:#1f77b4;stroke:#1f77b4;\" x=\"73.186566\" xlink:href=\"#m36ef956f75\" y=\"114.730027\"/>\r\n     <use style=\"fill:#1f77b4;stroke:#1f77b4;\" x=\"178.951315\" xlink:href=\"#m36ef956f75\" y=\"58.070124\"/>\r\n     <use style=\"fill:#1f77b4;stroke:#1f77b4;\" x=\"79.891216\" xlink:href=\"#m36ef956f75\" y=\"108.988792\"/>\r\n     <use style=\"fill:#1f77b4;stroke:#1f77b4;\" x=\"84.035087\" xlink:href=\"#m36ef956f75\" y=\"105.817054\"/>\r\n     <use style=\"fill:#1f77b4;stroke:#1f77b4;\" x=\"163.816123\" xlink:href=\"#m36ef956f75\" y=\"66.548908\"/>\r\n     <use style=\"fill:#1f77b4;stroke:#1f77b4;\" x=\"135.465524\" xlink:href=\"#m36ef956f75\" y=\"71.674971\"/>\r\n     <use style=\"fill:#1f77b4;stroke:#1f77b4;\" x=\"121.373264\" xlink:href=\"#m36ef956f75\" y=\"92.381547\"/>\r\n     <use style=\"fill:#1f77b4;stroke:#1f77b4;\" x=\"122.941258\" xlink:href=\"#m36ef956f75\" y=\"88.461537\"/>\r\n     <use style=\"fill:#1f77b4;stroke:#1f77b4;\" x=\"72.232137\" xlink:href=\"#m36ef956f75\" y=\"112.016278\"/>\r\n     <use style=\"fill:#1f77b4;stroke:#1f77b4;\" x=\"150.417807\" xlink:href=\"#m36ef956f75\" y=\"65.495992\"/>\r\n     <use style=\"fill:#1f77b4;stroke:#1f77b4;\" x=\"51.392919\" xlink:href=\"#m36ef956f75\" y=\"139.397059\"/>\r\n     <use style=\"fill:#1f77b4;stroke:#1f77b4;\" x=\"101.82498\" xlink:href=\"#m36ef956f75\" y=\"101.182951\"/>\r\n     <use style=\"fill:#1f77b4;stroke:#1f77b4;\" x=\"137.711819\" xlink:href=\"#m36ef956f75\" y=\"72.076363\"/>\r\n     <use style=\"fill:#1f77b4;stroke:#1f77b4;\" x=\"132.190666\" xlink:href=\"#m36ef956f75\" y=\"83.789419\"/>\r\n     <use style=\"fill:#1f77b4;stroke:#1f77b4;\" x=\"147.693195\" xlink:href=\"#m36ef956f75\" y=\"77.467612\"/>\r\n     <use style=\"fill:#1f77b4;stroke:#1f77b4;\" x=\"96.758638\" xlink:href=\"#m36ef956f75\" y=\"82.423825\"/>\r\n     <use style=\"fill:#1f77b4;stroke:#1f77b4;\" x=\"78.273914\" xlink:href=\"#m36ef956f75\" y=\"111.516953\"/>\r\n     <use style=\"fill:#1f77b4;stroke:#1f77b4;\" x=\"99.063499\" xlink:href=\"#m36ef956f75\" y=\"102.833342\"/>\r\n     <use style=\"fill:#1f77b4;stroke:#1f77b4;\" x=\"65.202612\" xlink:href=\"#m36ef956f75\" y=\"129.498012\"/>\r\n     <use style=\"fill:#1f77b4;stroke:#1f77b4;\" x=\"90.005199\" xlink:href=\"#m36ef956f75\" y=\"100.335151\"/>\r\n     <use style=\"fill:#1f77b4;stroke:#1f77b4;\" x=\"115.287891\" xlink:href=\"#m36ef956f75\" y=\"84.85134\"/>\r\n     <use style=\"fill:#1f77b4;stroke:#1f77b4;\" x=\"123.836243\" xlink:href=\"#m36ef956f75\" y=\"82.55315\"/>\r\n     <use style=\"fill:#1f77b4;stroke:#1f77b4;\" x=\"98.621646\" xlink:href=\"#m36ef956f75\" y=\"100.390896\"/>\r\n     <use style=\"fill:#1f77b4;stroke:#1f77b4;\" x=\"189.498677\" xlink:href=\"#m36ef956f75\" y=\"43.810202\"/>\r\n     <use style=\"fill:#1f77b4;stroke:#1f77b4;\" x=\"90.625929\" xlink:href=\"#m36ef956f75\" y=\"109.889455\"/>\r\n     <use style=\"fill:#1f77b4;stroke:#1f77b4;\" x=\"168.530213\" xlink:href=\"#m36ef956f75\" y=\"47.691522\"/>\r\n     <use style=\"fill:#1f77b4;stroke:#1f77b4;\" x=\"111.555457\" xlink:href=\"#m36ef956f75\" y=\"93.065079\"/>\r\n     <use style=\"fill:#1f77b4;stroke:#1f77b4;\" x=\"144.905575\" xlink:href=\"#m36ef956f75\" y=\"77.910752\"/>\r\n     <use style=\"fill:#1f77b4;stroke:#1f77b4;\" x=\"100.257961\" xlink:href=\"#m36ef956f75\" y=\"108.775716\"/>\r\n     <use style=\"fill:#1f77b4;stroke:#1f77b4;\" x=\"112.642979\" xlink:href=\"#m36ef956f75\" y=\"89.09372\"/>\r\n     <use style=\"fill:#1f77b4;stroke:#1f77b4;\" x=\"112.225043\" xlink:href=\"#m36ef956f75\" y=\"81.631016\"/>\r\n     <use style=\"fill:#1f77b4;stroke:#1f77b4;\" x=\"119.391096\" xlink:href=\"#m36ef956f75\" y=\"98.097551\"/>\r\n     <use style=\"fill:#1f77b4;stroke:#1f77b4;\" x=\"95.541864\" xlink:href=\"#m36ef956f75\" y=\"100.164501\"/>\r\n     <use style=\"fill:#1f77b4;stroke:#1f77b4;\" x=\"132.749272\" xlink:href=\"#m36ef956f75\" y=\"83.155761\"/>\r\n     <use style=\"fill:#1f77b4;stroke:#1f77b4;\" x=\"169.875746\" xlink:href=\"#m36ef956f75\" y=\"52.295264\"/>\r\n     <use style=\"fill:#1f77b4;stroke:#1f77b4;\" x=\"157.528856\" xlink:href=\"#m36ef956f75\" y=\"71.072027\"/>\r\n     <use style=\"fill:#1f77b4;stroke:#1f77b4;\" x=\"153.718519\" xlink:href=\"#m36ef956f75\" y=\"71.796058\"/>\r\n     <use style=\"fill:#1f77b4;stroke:#1f77b4;\" x=\"96.462111\" xlink:href=\"#m36ef956f75\" y=\"94.025135\"/>\r\n     <use style=\"fill:#1f77b4;stroke:#1f77b4;\" x=\"79.118482\" xlink:href=\"#m36ef956f75\" y=\"118.562161\"/>\r\n     <use style=\"fill:#1f77b4;stroke:#1f77b4;\" x=\"124.62414\" xlink:href=\"#m36ef956f75\" y=\"63.004401\"/>\r\n     <use style=\"fill:#1f77b4;stroke:#1f77b4;\" x=\"176.170505\" xlink:href=\"#m36ef956f75\" y=\"67.738767\"/>\r\n     <use style=\"fill:#1f77b4;stroke:#1f77b4;\" x=\"157.63297\" xlink:href=\"#m36ef956f75\" y=\"61.310354\"/>\r\n     <use style=\"fill:#1f77b4;stroke:#1f77b4;\" x=\"81.648687\" xlink:href=\"#m36ef956f75\" y=\"116.289514\"/>\r\n     <use style=\"fill:#1f77b4;stroke:#1f77b4;\" x=\"159.339672\" xlink:href=\"#m36ef956f75\" y=\"79.566348\"/>\r\n     <use style=\"fill:#1f77b4;stroke:#1f77b4;\" x=\"131.982742\" xlink:href=\"#m36ef956f75\" y=\"82.059154\"/>\r\n     <use style=\"fill:#1f77b4;stroke:#1f77b4;\" x=\"160.436094\" xlink:href=\"#m36ef956f75\" y=\"70.085289\"/>\r\n     <use style=\"fill:#1f77b4;stroke:#1f77b4;\" x=\"214.127806\" xlink:href=\"#m36ef956f75\" y=\"25.77932\"/>\r\n     <use style=\"fill:#1f77b4;stroke:#1f77b4;\" x=\"99.45658\" xlink:href=\"#m36ef956f75\" y=\"101.569325\"/>\r\n     <use style=\"fill:#1f77b4;stroke:#1f77b4;\" x=\"104.179801\" xlink:href=\"#m36ef956f75\" y=\"101.413276\"/>\r\n     <use style=\"fill:#1f77b4;stroke:#1f77b4;\" x=\"116.171884\" xlink:href=\"#m36ef956f75\" y=\"93.08069\"/>\r\n     <use style=\"fill:#1f77b4;stroke:#1f77b4;\" x=\"94.047509\" xlink:href=\"#m36ef956f75\" y=\"108.543234\"/>\r\n     <use style=\"fill:#1f77b4;stroke:#1f77b4;\" x=\"62.256549\" xlink:href=\"#m36ef956f75\" y=\"120.050554\"/>\r\n     <use style=\"fill:#1f77b4;stroke:#1f77b4;\" x=\"167.121167\" xlink:href=\"#m36ef956f75\" y=\"65.996825\"/>\r\n     <use style=\"fill:#1f77b4;stroke:#1f77b4;\" x=\"141.995083\" xlink:href=\"#m36ef956f75\" y=\"84.513854\"/>\r\n     <use style=\"fill:#1f77b4;stroke:#1f77b4;\" x=\"142.085044\" xlink:href=\"#m36ef956f75\" y=\"71.383855\"/>\r\n     <use style=\"fill:#1f77b4;stroke:#1f77b4;\" x=\"154.067012\" xlink:href=\"#m36ef956f75\" y=\"74.617653\"/>\r\n     <use style=\"fill:#1f77b4;stroke:#1f77b4;\" x=\"171.706656\" xlink:href=\"#m36ef956f75\" y=\"53.767922\"/>\r\n     <use style=\"fill:#1f77b4;stroke:#1f77b4;\" x=\"140.184752\" xlink:href=\"#m36ef956f75\" y=\"87.451917\"/>\r\n     <use style=\"fill:#1f77b4;stroke:#1f77b4;\" x=\"197.152718\" xlink:href=\"#m36ef956f75\" y=\"35.081542\"/>\r\n     <use style=\"fill:#1f77b4;stroke:#1f77b4;\" x=\"47.360085\" xlink:href=\"#m36ef956f75\" y=\"131.233378\"/>\r\n     <use style=\"fill:#1f77b4;stroke:#1f77b4;\" x=\"91.480324\" xlink:href=\"#m36ef956f75\" y=\"101.298453\"/>\r\n     <use style=\"fill:#1f77b4;stroke:#1f77b4;\" x=\"113.78282\" xlink:href=\"#m36ef956f75\" y=\"86.780639\"/>\r\n     <use style=\"fill:#1f77b4;stroke:#1f77b4;\" x=\"121.870577\" xlink:href=\"#m36ef956f75\" y=\"82.064229\"/>\r\n     <use style=\"fill:#1f77b4;stroke:#1f77b4;\" x=\"58.969428\" xlink:href=\"#m36ef956f75\" y=\"136.858989\"/>\r\n     <use style=\"fill:#1f77b4;stroke:#1f77b4;\" x=\"162.079106\" xlink:href=\"#m36ef956f75\" y=\"71.202553\"/>\r\n     <use style=\"fill:#1f77b4;stroke:#1f77b4;\" x=\"105.479292\" xlink:href=\"#m36ef956f75\" y=\"104.424424\"/>\r\n     <use style=\"fill:#1f77b4;stroke:#1f77b4;\" x=\"96.983462\" xlink:href=\"#m36ef956f75\" y=\"92.426077\"/>\r\n     <use style=\"fill:#1f77b4;stroke:#1f77b4;\" x=\"164.282979\" xlink:href=\"#m36ef956f75\" y=\"72.882017\"/>\r\n     <use style=\"fill:#1f77b4;stroke:#1f77b4;\" x=\"146.439568\" xlink:href=\"#m36ef956f75\" y=\"76.67909\"/>\r\n     <use style=\"fill:#1f77b4;stroke:#1f77b4;\" x=\"123.567878\" xlink:href=\"#m36ef956f75\" y=\"91.93044\"/>\r\n     <use style=\"fill:#1f77b4;stroke:#1f77b4;\" x=\"216.557701\" xlink:href=\"#m36ef956f75\" y=\"39.828622\"/>\r\n     <use style=\"fill:#1f77b4;stroke:#1f77b4;\" x=\"101.706663\" xlink:href=\"#m36ef956f75\" y=\"100.231813\"/>\r\n     <use style=\"fill:#1f77b4;stroke:#1f77b4;\" x=\"86.872267\" xlink:href=\"#m36ef956f75\" y=\"95.834807\"/>\r\n     <use style=\"fill:#1f77b4;stroke:#1f77b4;\" x=\"114.764333\" xlink:href=\"#m36ef956f75\" y=\"86.344066\"/>\r\n     <use style=\"fill:#1f77b4;stroke:#1f77b4;\" x=\"124.072485\" xlink:href=\"#m36ef956f75\" y=\"85.146151\"/>\r\n     <use style=\"fill:#1f77b4;stroke:#1f77b4;\" x=\"116.920342\" xlink:href=\"#m36ef956f75\" y=\"101.913945\"/>\r\n     <use style=\"fill:#1f77b4;stroke:#1f77b4;\" x=\"100.370519\" xlink:href=\"#m36ef956f75\" y=\"106.413432\"/>\r\n     <use style=\"fill:#1f77b4;stroke:#1f77b4;\" x=\"173.942113\" xlink:href=\"#m36ef956f75\" y=\"65.156531\"/>\r\n    </g>\r\n   </g>\r\n   <g id=\"matplotlib.axis_1\">\r\n    <g id=\"xtick_1\">\r\n     <g id=\"line2d_1\">\r\n      <defs>\r\n       <path d=\"M 0 0 \r\nL 0 3.5 \r\n\" id=\"ma7583e4de6\" style=\"stroke:#000000;stroke-width:0.8;\"/>\r\n      </defs>\r\n      <g>\r\n       <use style=\"stroke:#000000;stroke-width:0.8;\" x=\"50.877619\" xlink:href=\"#ma7583e4de6\" y=\"145.574332\"/>\r\n      </g>\r\n     </g>\r\n     <g id=\"text_1\">\r\n      <!-- −1 -->\r\n      <g transform=\"translate(43.506525 160.172769)scale(0.1 -0.1)\">\r\n       <defs>\r\n        <path d=\"M 10.59375 35.5 \r\nL 73.1875 35.5 \r\nL 73.1875 27.203125 \r\nL 10.59375 27.203125 \r\nz\r\n\" id=\"DejaVuSans-8722\"/>\r\n        <path d=\"M 12.40625 8.296875 \r\nL 28.515625 8.296875 \r\nL 28.515625 63.921875 \r\nL 10.984375 60.40625 \r\nL 10.984375 69.390625 \r\nL 28.421875 72.90625 \r\nL 38.28125 72.90625 \r\nL 38.28125 8.296875 \r\nL 54.390625 8.296875 \r\nL 54.390625 0 \r\nL 12.40625 0 \r\nz\r\n\" id=\"DejaVuSans-49\"/>\r\n       </defs>\r\n       <use xlink:href=\"#DejaVuSans-8722\"/>\r\n       <use x=\"83.789062\" xlink:href=\"#DejaVuSans-49\"/>\r\n      </g>\r\n     </g>\r\n    </g>\r\n    <g id=\"xtick_2\">\r\n     <g id=\"line2d_2\">\r\n      <g>\r\n       <use style=\"stroke:#000000;stroke-width:0.8;\" x=\"84.739618\" xlink:href=\"#ma7583e4de6\" y=\"145.574332\"/>\r\n      </g>\r\n     </g>\r\n     <g id=\"text_2\">\r\n      <!-- 0 -->\r\n      <g transform=\"translate(81.558368 160.172769)scale(0.1 -0.1)\">\r\n       <defs>\r\n        <path d=\"M 31.78125 66.40625 \r\nQ 24.171875 66.40625 20.328125 58.90625 \r\nQ 16.5 51.421875 16.5 36.375 \r\nQ 16.5 21.390625 20.328125 13.890625 \r\nQ 24.171875 6.390625 31.78125 6.390625 \r\nQ 39.453125 6.390625 43.28125 13.890625 \r\nQ 47.125 21.390625 47.125 36.375 \r\nQ 47.125 51.421875 43.28125 58.90625 \r\nQ 39.453125 66.40625 31.78125 66.40625 \r\nz\r\nM 31.78125 74.21875 \r\nQ 44.046875 74.21875 50.515625 64.515625 \r\nQ 56.984375 54.828125 56.984375 36.375 \r\nQ 56.984375 17.96875 50.515625 8.265625 \r\nQ 44.046875 -1.421875 31.78125 -1.421875 \r\nQ 19.53125 -1.421875 13.0625 8.265625 \r\nQ 6.59375 17.96875 6.59375 36.375 \r\nQ 6.59375 54.828125 13.0625 64.515625 \r\nQ 19.53125 74.21875 31.78125 74.21875 \r\nz\r\n\" id=\"DejaVuSans-48\"/>\r\n       </defs>\r\n       <use xlink:href=\"#DejaVuSans-48\"/>\r\n      </g>\r\n     </g>\r\n    </g>\r\n    <g id=\"xtick_3\">\r\n     <g id=\"line2d_3\">\r\n      <g>\r\n       <use style=\"stroke:#000000;stroke-width:0.8;\" x=\"118.601617\" xlink:href=\"#ma7583e4de6\" y=\"145.574332\"/>\r\n      </g>\r\n     </g>\r\n     <g id=\"text_3\">\r\n      <!-- 1 -->\r\n      <g transform=\"translate(115.420367 160.172769)scale(0.1 -0.1)\">\r\n       <use xlink:href=\"#DejaVuSans-49\"/>\r\n      </g>\r\n     </g>\r\n    </g>\r\n    <g id=\"xtick_4\">\r\n     <g id=\"line2d_4\">\r\n      <g>\r\n       <use style=\"stroke:#000000;stroke-width:0.8;\" x=\"152.463617\" xlink:href=\"#ma7583e4de6\" y=\"145.574332\"/>\r\n      </g>\r\n     </g>\r\n     <g id=\"text_4\">\r\n      <!-- 2 -->\r\n      <g transform=\"translate(149.282367 160.172769)scale(0.1 -0.1)\">\r\n       <defs>\r\n        <path d=\"M 19.1875 8.296875 \r\nL 53.609375 8.296875 \r\nL 53.609375 0 \r\nL 7.328125 0 \r\nL 7.328125 8.296875 \r\nQ 12.9375 14.109375 22.625 23.890625 \r\nQ 32.328125 33.6875 34.8125 36.53125 \r\nQ 39.546875 41.84375 41.421875 45.53125 \r\nQ 43.3125 49.21875 43.3125 52.78125 \r\nQ 43.3125 58.59375 39.234375 62.25 \r\nQ 35.15625 65.921875 28.609375 65.921875 \r\nQ 23.96875 65.921875 18.8125 64.3125 \r\nQ 13.671875 62.703125 7.8125 59.421875 \r\nL 7.8125 69.390625 \r\nQ 13.765625 71.78125 18.9375 73 \r\nQ 24.125 74.21875 28.421875 74.21875 \r\nQ 39.75 74.21875 46.484375 68.546875 \r\nQ 53.21875 62.890625 53.21875 53.421875 \r\nQ 53.21875 48.921875 51.53125 44.890625 \r\nQ 49.859375 40.875 45.40625 35.40625 \r\nQ 44.1875 33.984375 37.640625 27.21875 \r\nQ 31.109375 20.453125 19.1875 8.296875 \r\nz\r\n\" id=\"DejaVuSans-50\"/>\r\n       </defs>\r\n       <use xlink:href=\"#DejaVuSans-50\"/>\r\n      </g>\r\n     </g>\r\n    </g>\r\n    <g id=\"xtick_5\">\r\n     <g id=\"line2d_5\">\r\n      <g>\r\n       <use style=\"stroke:#000000;stroke-width:0.8;\" x=\"186.325616\" xlink:href=\"#ma7583e4de6\" y=\"145.574332\"/>\r\n      </g>\r\n     </g>\r\n     <g id=\"text_5\">\r\n      <!-- 3 -->\r\n      <g transform=\"translate(183.144366 160.172769)scale(0.1 -0.1)\">\r\n       <defs>\r\n        <path d=\"M 40.578125 39.3125 \r\nQ 47.65625 37.796875 51.625 33 \r\nQ 55.609375 28.21875 55.609375 21.1875 \r\nQ 55.609375 10.40625 48.1875 4.484375 \r\nQ 40.765625 -1.421875 27.09375 -1.421875 \r\nQ 22.515625 -1.421875 17.65625 -0.515625 \r\nQ 12.796875 0.390625 7.625 2.203125 \r\nL 7.625 11.71875 \r\nQ 11.71875 9.328125 16.59375 8.109375 \r\nQ 21.484375 6.890625 26.8125 6.890625 \r\nQ 36.078125 6.890625 40.9375 10.546875 \r\nQ 45.796875 14.203125 45.796875 21.1875 \r\nQ 45.796875 27.640625 41.28125 31.265625 \r\nQ 36.765625 34.90625 28.71875 34.90625 \r\nL 20.21875 34.90625 \r\nL 20.21875 43.015625 \r\nL 29.109375 43.015625 \r\nQ 36.375 43.015625 40.234375 45.921875 \r\nQ 44.09375 48.828125 44.09375 54.296875 \r\nQ 44.09375 59.90625 40.109375 62.90625 \r\nQ 36.140625 65.921875 28.71875 65.921875 \r\nQ 24.65625 65.921875 20.015625 65.03125 \r\nQ 15.375 64.15625 9.8125 62.3125 \r\nL 9.8125 71.09375 \r\nQ 15.4375 72.65625 20.34375 73.4375 \r\nQ 25.25 74.21875 29.59375 74.21875 \r\nQ 40.828125 74.21875 47.359375 69.109375 \r\nQ 53.90625 64.015625 53.90625 55.328125 \r\nQ 53.90625 49.265625 50.4375 45.09375 \r\nQ 46.96875 40.921875 40.578125 39.3125 \r\nz\r\n\" id=\"DejaVuSans-51\"/>\r\n       </defs>\r\n       <use xlink:href=\"#DejaVuSans-51\"/>\r\n      </g>\r\n     </g>\r\n    </g>\r\n    <g id=\"xtick_6\">\r\n     <g id=\"line2d_6\">\r\n      <g>\r\n       <use style=\"stroke:#000000;stroke-width:0.8;\" x=\"220.187615\" xlink:href=\"#ma7583e4de6\" y=\"145.574332\"/>\r\n      </g>\r\n     </g>\r\n     <g id=\"text_6\">\r\n      <!-- 4 -->\r\n      <g transform=\"translate(217.006365 160.172769)scale(0.1 -0.1)\">\r\n       <defs>\r\n        <path d=\"M 37.796875 64.3125 \r\nL 12.890625 25.390625 \r\nL 37.796875 25.390625 \r\nz\r\nM 35.203125 72.90625 \r\nL 47.609375 72.90625 \r\nL 47.609375 25.390625 \r\nL 58.015625 25.390625 \r\nL 58.015625 17.1875 \r\nL 47.609375 17.1875 \r\nL 47.609375 0 \r\nL 37.796875 0 \r\nL 37.796875 17.1875 \r\nL 4.890625 17.1875 \r\nL 4.890625 26.703125 \r\nz\r\n\" id=\"DejaVuSans-52\"/>\r\n       </defs>\r\n       <use xlink:href=\"#DejaVuSans-52\"/>\r\n      </g>\r\n     </g>\r\n    </g>\r\n   </g>\r\n   <g id=\"matplotlib.axis_2\">\r\n    <g id=\"ytick_1\">\r\n     <g id=\"line2d_7\">\r\n      <defs>\r\n       <path d=\"M 0 0 \r\nL -3.5 0 \r\n\" id=\"m5a315d37dd\" style=\"stroke:#000000;stroke-width:0.8;\"/>\r\n      </defs>\r\n      <g>\r\n       <use style=\"stroke:#000000;stroke-width:0.8;\" x=\"38.482813\" xlink:href=\"#m5a315d37dd\" y=\"133.000446\"/>\r\n      </g>\r\n     </g>\r\n     <g id=\"text_7\">\r\n      <!-- −2.5 -->\r\n      <g transform=\"translate(7.2 136.799665)scale(0.1 -0.1)\">\r\n       <defs>\r\n        <path d=\"M 10.6875 12.40625 \r\nL 21 12.40625 \r\nL 21 0 \r\nL 10.6875 0 \r\nz\r\n\" id=\"DejaVuSans-46\"/>\r\n        <path d=\"M 10.796875 72.90625 \r\nL 49.515625 72.90625 \r\nL 49.515625 64.59375 \r\nL 19.828125 64.59375 \r\nL 19.828125 46.734375 \r\nQ 21.96875 47.46875 24.109375 47.828125 \r\nQ 26.265625 48.1875 28.421875 48.1875 \r\nQ 40.625 48.1875 47.75 41.5 \r\nQ 54.890625 34.8125 54.890625 23.390625 \r\nQ 54.890625 11.625 47.5625 5.09375 \r\nQ 40.234375 -1.421875 26.90625 -1.421875 \r\nQ 22.3125 -1.421875 17.546875 -0.640625 \r\nQ 12.796875 0.140625 7.71875 1.703125 \r\nL 7.71875 11.625 \r\nQ 12.109375 9.234375 16.796875 8.0625 \r\nQ 21.484375 6.890625 26.703125 6.890625 \r\nQ 35.15625 6.890625 40.078125 11.328125 \r\nQ 45.015625 15.765625 45.015625 23.390625 \r\nQ 45.015625 31 40.078125 35.4375 \r\nQ 35.15625 39.890625 26.703125 39.890625 \r\nQ 22.75 39.890625 18.8125 39.015625 \r\nQ 14.890625 38.140625 10.796875 36.28125 \r\nz\r\n\" id=\"DejaVuSans-53\"/>\r\n       </defs>\r\n       <use xlink:href=\"#DejaVuSans-8722\"/>\r\n       <use x=\"83.789062\" xlink:href=\"#DejaVuSans-50\"/>\r\n       <use x=\"147.412109\" xlink:href=\"#DejaVuSans-46\"/>\r\n       <use x=\"179.199219\" xlink:href=\"#DejaVuSans-53\"/>\r\n      </g>\r\n     </g>\r\n    </g>\r\n    <g id=\"ytick_2\">\r\n     <g id=\"line2d_8\">\r\n      <g>\r\n       <use style=\"stroke:#000000;stroke-width:0.8;\" x=\"38.482813\" xlink:href=\"#m5a315d37dd\" y=\"108.600201\"/>\r\n      </g>\r\n     </g>\r\n     <g id=\"text_8\">\r\n      <!-- 0.0 -->\r\n      <g transform=\"translate(15.579688 112.39942)scale(0.1 -0.1)\">\r\n       <use xlink:href=\"#DejaVuSans-48\"/>\r\n       <use x=\"63.623047\" xlink:href=\"#DejaVuSans-46\"/>\r\n       <use x=\"95.410156\" xlink:href=\"#DejaVuSans-48\"/>\r\n      </g>\r\n     </g>\r\n    </g>\r\n    <g id=\"ytick_3\">\r\n     <g id=\"line2d_9\">\r\n      <g>\r\n       <use style=\"stroke:#000000;stroke-width:0.8;\" x=\"38.482813\" xlink:href=\"#m5a315d37dd\" y=\"84.199955\"/>\r\n      </g>\r\n     </g>\r\n     <g id=\"text_9\">\r\n      <!-- 2.5 -->\r\n      <g transform=\"translate(15.579688 87.999174)scale(0.1 -0.1)\">\r\n       <use xlink:href=\"#DejaVuSans-50\"/>\r\n       <use x=\"63.623047\" xlink:href=\"#DejaVuSans-46\"/>\r\n       <use x=\"95.410156\" xlink:href=\"#DejaVuSans-53\"/>\r\n      </g>\r\n     </g>\r\n    </g>\r\n    <g id=\"ytick_4\">\r\n     <g id=\"line2d_10\">\r\n      <g>\r\n       <use style=\"stroke:#000000;stroke-width:0.8;\" x=\"38.482813\" xlink:href=\"#m5a315d37dd\" y=\"59.79971\"/>\r\n      </g>\r\n     </g>\r\n     <g id=\"text_10\">\r\n      <!-- 5.0 -->\r\n      <g transform=\"translate(15.579688 63.598929)scale(0.1 -0.1)\">\r\n       <use xlink:href=\"#DejaVuSans-53\"/>\r\n       <use x=\"63.623047\" xlink:href=\"#DejaVuSans-46\"/>\r\n       <use x=\"95.410156\" xlink:href=\"#DejaVuSans-48\"/>\r\n      </g>\r\n     </g>\r\n    </g>\r\n    <g id=\"ytick_5\">\r\n     <g id=\"line2d_11\">\r\n      <g>\r\n       <use style=\"stroke:#000000;stroke-width:0.8;\" x=\"38.482813\" xlink:href=\"#m5a315d37dd\" y=\"35.399464\"/>\r\n      </g>\r\n     </g>\r\n     <g id=\"text_11\">\r\n      <!-- 7.5 -->\r\n      <g transform=\"translate(15.579688 39.198683)scale(0.1 -0.1)\">\r\n       <defs>\r\n        <path d=\"M 8.203125 72.90625 \r\nL 55.078125 72.90625 \r\nL 55.078125 68.703125 \r\nL 28.609375 0 \r\nL 18.3125 0 \r\nL 43.21875 64.59375 \r\nL 8.203125 64.59375 \r\nz\r\n\" id=\"DejaVuSans-55\"/>\r\n       </defs>\r\n       <use xlink:href=\"#DejaVuSans-55\"/>\r\n       <use x=\"63.623047\" xlink:href=\"#DejaVuSans-46\"/>\r\n       <use x=\"95.410156\" xlink:href=\"#DejaVuSans-53\"/>\r\n      </g>\r\n     </g>\r\n    </g>\r\n    <g id=\"ytick_6\">\r\n     <g id=\"line2d_12\">\r\n      <g>\r\n       <use style=\"stroke:#000000;stroke-width:0.8;\" x=\"38.482813\" xlink:href=\"#m5a315d37dd\" y=\"10.999219\"/>\r\n      </g>\r\n     </g>\r\n     <g id=\"text_12\">\r\n      <!-- 10.0 -->\r\n      <g transform=\"translate(9.217188 14.798437)scale(0.1 -0.1)\">\r\n       <use xlink:href=\"#DejaVuSans-49\"/>\r\n       <use x=\"63.623047\" xlink:href=\"#DejaVuSans-48\"/>\r\n       <use x=\"127.246094\" xlink:href=\"#DejaVuSans-46\"/>\r\n       <use x=\"159.033203\" xlink:href=\"#DejaVuSans-48\"/>\r\n      </g>\r\n     </g>\r\n    </g>\r\n   </g>\r\n   <g id=\"patch_3\">\r\n    <path d=\"M 38.482813 145.574332 \r\nL 38.482813 9.674332 \r\n\" style=\"fill:none;stroke:#000000;stroke-linecap:square;stroke-linejoin:miter;stroke-width:0.8;\"/>\r\n   </g>\r\n   <g id=\"patch_4\">\r\n    <path d=\"M 233.782813 145.574332 \r\nL 233.782813 9.674332 \r\n\" style=\"fill:none;stroke:#000000;stroke-linecap:square;stroke-linejoin:miter;stroke-width:0.8;\"/>\r\n   </g>\r\n   <g id=\"patch_5\">\r\n    <path d=\"M 38.482813 145.574332 \r\nL 233.782813 145.574332 \r\n\" style=\"fill:none;stroke:#000000;stroke-linecap:square;stroke-linejoin:miter;stroke-width:0.8;\"/>\r\n   </g>\r\n   <g id=\"patch_6\">\r\n    <path d=\"M 38.482813 9.674332 \r\nL 233.782813 9.674332 \r\n\" style=\"fill:none;stroke:#000000;stroke-linecap:square;stroke-linejoin:miter;stroke-width:0.8;\"/>\r\n   </g>\r\n  </g>\r\n </g>\r\n <defs>\r\n  <clipPath id=\"pfd817ca5c5\">\r\n   <rect height=\"135.9\" width=\"195.3\" x=\"38.482813\" y=\"9.674332\"/>\r\n  </clipPath>\r\n </defs>\r\n</svg>\r\n"
     },
     "metadata": {
      "needs_background": "light"
     }
    }
   ],
   "source": [
    "d2l.plt.scatter(data[:100, 0].numpy(), data[:100, 1].numpy())"
   ]
  },
  {
   "cell_type": "code",
   "execution_count": 18,
   "metadata": {},
   "outputs": [
    {
     "output_type": "display_data",
     "data": {
      "text/plain": "<Figure size 252x180 with 1 Axes>",
      "image/svg+xml": "<?xml version=\"1.0\" encoding=\"utf-8\" standalone=\"no\"?>\r\n<!DOCTYPE svg PUBLIC \"-//W3C//DTD SVG 1.1//EN\"\r\n  \"http://www.w3.org/Graphics/SVG/1.1/DTD/svg11.dtd\">\r\n<!-- Created with matplotlib (https://matplotlib.org/) -->\r\n<svg height=\"169.452457pt\" version=\"1.1\" viewBox=\"0 0 240.982812 169.452457\" width=\"240.982812pt\" xmlns=\"http://www.w3.org/2000/svg\" xmlns:xlink=\"http://www.w3.org/1999/xlink\">\r\n <metadata>\r\n  <rdf:RDF xmlns:cc=\"http://creativecommons.org/ns#\" xmlns:dc=\"http://purl.org/dc/elements/1.1/\" xmlns:rdf=\"http://www.w3.org/1999/02/22-rdf-syntax-ns#\">\r\n   <cc:Work>\r\n    <dc:type rdf:resource=\"http://purl.org/dc/dcmitype/StillImage\"/>\r\n    <dc:date>2020-08-06T21:58:43.548668</dc:date>\r\n    <dc:format>image/svg+xml</dc:format>\r\n    <dc:creator>\r\n     <cc:Agent>\r\n      <dc:title>Matplotlib v3.3.0, https://matplotlib.org/</dc:title>\r\n     </cc:Agent>\r\n    </dc:creator>\r\n   </cc:Work>\r\n  </rdf:RDF>\r\n </metadata>\r\n <defs>\r\n  <style type=\"text/css\">*{stroke-linecap:butt;stroke-linejoin:round;}</style>\r\n </defs>\r\n <g id=\"figure_1\">\r\n  <g id=\"patch_1\">\r\n   <path d=\"M -0 169.452457 \r\nL 240.982813 169.452457 \r\nL 240.982813 0 \r\nL -0 0 \r\nz\r\n\" style=\"fill:none;\"/>\r\n  </g>\r\n  <g id=\"axes_1\">\r\n   <g id=\"patch_2\">\r\n    <path d=\"M 38.482813 145.574332 \r\nL 233.782813 145.574332 \r\nL 233.782813 9.674332 \r\nL 38.482813 9.674332 \r\nz\r\n\" style=\"fill:#ffffff;\"/>\r\n   </g>\r\n   <g id=\"PathCollection_1\">\r\n    <defs>\r\n     <path d=\"M 0 3 \r\nC 0.795609 3 1.55874 2.683901 2.12132 2.12132 \r\nC 2.683901 1.55874 3 0.795609 3 0 \r\nC 3 -0.795609 2.683901 -1.55874 2.12132 -2.12132 \r\nC 1.55874 -2.683901 0.795609 -3 0 -3 \r\nC -0.795609 -3 -1.55874 -2.683901 -2.12132 -2.12132 \r\nC -2.683901 -1.55874 -3 -0.795609 -3 0 \r\nC -3 0.795609 -2.683901 1.55874 -2.12132 2.12132 \r\nC -1.55874 2.683901 -0.795609 3 0 3 \r\nz\r\n\" id=\"m84f2ba6c6c\" style=\"stroke:#1f77b4;\"/>\r\n    </defs>\r\n    <g clip-path=\"url(#pe6d08e7a2f)\">\r\n     <use style=\"fill:#1f77b4;stroke:#1f77b4;\" x=\"130.382745\" xlink:href=\"#m84f2ba6c6c\" y=\"78.704937\"/>\r\n     <use style=\"fill:#1f77b4;stroke:#1f77b4;\" x=\"224.90554\" xlink:href=\"#m84f2ba6c6c\" y=\"15.851605\"/>\r\n     <use style=\"fill:#1f77b4;stroke:#1f77b4;\" x=\"186.939076\" xlink:href=\"#m84f2ba6c6c\" y=\"52.28914\"/>\r\n     <use style=\"fill:#1f77b4;stroke:#1f77b4;\" x=\"130.95541\" xlink:href=\"#m84f2ba6c6c\" y=\"77.732665\"/>\r\n     <use style=\"fill:#1f77b4;stroke:#1f77b4;\" x=\"109.342332\" xlink:href=\"#m84f2ba6c6c\" y=\"95.536616\"/>\r\n     <use style=\"fill:#1f77b4;stroke:#1f77b4;\" x=\"110.899166\" xlink:href=\"#m84f2ba6c6c\" y=\"88.552146\"/>\r\n     <use style=\"fill:#1f77b4;stroke:#1f77b4;\" x=\"154.99706\" xlink:href=\"#m84f2ba6c6c\" y=\"77.549398\"/>\r\n     <use style=\"fill:#1f77b4;stroke:#1f77b4;\" x=\"156.925019\" xlink:href=\"#m84f2ba6c6c\" y=\"68.91674\"/>\r\n     <use style=\"fill:#1f77b4;stroke:#1f77b4;\" x=\"86.805147\" xlink:href=\"#m84f2ba6c6c\" y=\"110.89564\"/>\r\n     <use style=\"fill:#1f77b4;stroke:#1f77b4;\" x=\"142.037452\" xlink:href=\"#m84f2ba6c6c\" y=\"78.664694\"/>\r\n     <use style=\"fill:#1f77b4;stroke:#1f77b4;\" x=\"119.053247\" xlink:href=\"#m84f2ba6c6c\" y=\"84.331395\"/>\r\n     <use style=\"fill:#1f77b4;stroke:#1f77b4;\" x=\"141.141506\" xlink:href=\"#m84f2ba6c6c\" y=\"76.712034\"/>\r\n     <use style=\"fill:#1f77b4;stroke:#1f77b4;\" x=\"95.670006\" xlink:href=\"#m84f2ba6c6c\" y=\"97.646922\"/>\r\n     <use style=\"fill:#1f77b4;stroke:#1f77b4;\" x=\"117.444534\" xlink:href=\"#m84f2ba6c6c\" y=\"85.446032\"/>\r\n     <use style=\"fill:#1f77b4;stroke:#1f77b4;\" x=\"170.437884\" xlink:href=\"#m84f2ba6c6c\" y=\"57.697773\"/>\r\n     <use style=\"fill:#1f77b4;stroke:#1f77b4;\" x=\"120.363044\" xlink:href=\"#m84f2ba6c6c\" y=\"70.761118\"/>\r\n     <use style=\"fill:#1f77b4;stroke:#1f77b4;\" x=\"119.099294\" xlink:href=\"#m84f2ba6c6c\" y=\"89.585458\"/>\r\n     <use style=\"fill:#1f77b4;stroke:#1f77b4;\" x=\"94.788714\" xlink:href=\"#m84f2ba6c6c\" y=\"114.946095\"/>\r\n     <use style=\"fill:#1f77b4;stroke:#1f77b4;\" x=\"112.686563\" xlink:href=\"#m84f2ba6c6c\" y=\"83.486905\"/>\r\n     <use style=\"fill:#1f77b4;stroke:#1f77b4;\" x=\"187.317352\" xlink:href=\"#m84f2ba6c6c\" y=\"52.882042\"/>\r\n     <use style=\"fill:#1f77b4;stroke:#1f77b4;\" x=\"128.166588\" xlink:href=\"#m84f2ba6c6c\" y=\"86.347426\"/>\r\n     <use style=\"fill:#1f77b4;stroke:#1f77b4;\" x=\"87.29715\" xlink:href=\"#m84f2ba6c6c\" y=\"100.566746\"/>\r\n     <use style=\"fill:#1f77b4;stroke:#1f77b4;\" x=\"73.186566\" xlink:href=\"#m84f2ba6c6c\" y=\"114.730027\"/>\r\n     <use style=\"fill:#1f77b4;stroke:#1f77b4;\" x=\"178.951315\" xlink:href=\"#m84f2ba6c6c\" y=\"58.070124\"/>\r\n     <use style=\"fill:#1f77b4;stroke:#1f77b4;\" x=\"79.891216\" xlink:href=\"#m84f2ba6c6c\" y=\"108.988792\"/>\r\n     <use style=\"fill:#1f77b4;stroke:#1f77b4;\" x=\"84.035087\" xlink:href=\"#m84f2ba6c6c\" y=\"105.817054\"/>\r\n     <use style=\"fill:#1f77b4;stroke:#1f77b4;\" x=\"163.816123\" xlink:href=\"#m84f2ba6c6c\" y=\"66.548908\"/>\r\n     <use style=\"fill:#1f77b4;stroke:#1f77b4;\" x=\"135.465524\" xlink:href=\"#m84f2ba6c6c\" y=\"71.674971\"/>\r\n     <use style=\"fill:#1f77b4;stroke:#1f77b4;\" x=\"121.373264\" xlink:href=\"#m84f2ba6c6c\" y=\"92.381547\"/>\r\n     <use style=\"fill:#1f77b4;stroke:#1f77b4;\" x=\"122.941258\" xlink:href=\"#m84f2ba6c6c\" y=\"88.461537\"/>\r\n     <use style=\"fill:#1f77b4;stroke:#1f77b4;\" x=\"72.232137\" xlink:href=\"#m84f2ba6c6c\" y=\"112.016278\"/>\r\n     <use style=\"fill:#1f77b4;stroke:#1f77b4;\" x=\"150.417807\" xlink:href=\"#m84f2ba6c6c\" y=\"65.495992\"/>\r\n     <use style=\"fill:#1f77b4;stroke:#1f77b4;\" x=\"51.392919\" xlink:href=\"#m84f2ba6c6c\" y=\"139.397059\"/>\r\n     <use style=\"fill:#1f77b4;stroke:#1f77b4;\" x=\"101.82498\" xlink:href=\"#m84f2ba6c6c\" y=\"101.182951\"/>\r\n     <use style=\"fill:#1f77b4;stroke:#1f77b4;\" x=\"137.711819\" xlink:href=\"#m84f2ba6c6c\" y=\"72.076363\"/>\r\n     <use style=\"fill:#1f77b4;stroke:#1f77b4;\" x=\"132.190666\" xlink:href=\"#m84f2ba6c6c\" y=\"83.789419\"/>\r\n     <use style=\"fill:#1f77b4;stroke:#1f77b4;\" x=\"147.693195\" xlink:href=\"#m84f2ba6c6c\" y=\"77.467612\"/>\r\n     <use style=\"fill:#1f77b4;stroke:#1f77b4;\" x=\"96.758638\" xlink:href=\"#m84f2ba6c6c\" y=\"82.423825\"/>\r\n     <use style=\"fill:#1f77b4;stroke:#1f77b4;\" x=\"78.273914\" xlink:href=\"#m84f2ba6c6c\" y=\"111.516953\"/>\r\n     <use style=\"fill:#1f77b4;stroke:#1f77b4;\" x=\"99.063499\" xlink:href=\"#m84f2ba6c6c\" y=\"102.833342\"/>\r\n     <use style=\"fill:#1f77b4;stroke:#1f77b4;\" x=\"65.202612\" xlink:href=\"#m84f2ba6c6c\" y=\"129.498012\"/>\r\n     <use style=\"fill:#1f77b4;stroke:#1f77b4;\" x=\"90.005199\" xlink:href=\"#m84f2ba6c6c\" y=\"100.335151\"/>\r\n     <use style=\"fill:#1f77b4;stroke:#1f77b4;\" x=\"115.287891\" xlink:href=\"#m84f2ba6c6c\" y=\"84.85134\"/>\r\n     <use style=\"fill:#1f77b4;stroke:#1f77b4;\" x=\"123.836243\" xlink:href=\"#m84f2ba6c6c\" y=\"82.55315\"/>\r\n     <use style=\"fill:#1f77b4;stroke:#1f77b4;\" x=\"98.621646\" xlink:href=\"#m84f2ba6c6c\" y=\"100.390896\"/>\r\n     <use style=\"fill:#1f77b4;stroke:#1f77b4;\" x=\"189.498677\" xlink:href=\"#m84f2ba6c6c\" y=\"43.810202\"/>\r\n     <use style=\"fill:#1f77b4;stroke:#1f77b4;\" x=\"90.625929\" xlink:href=\"#m84f2ba6c6c\" y=\"109.889455\"/>\r\n     <use style=\"fill:#1f77b4;stroke:#1f77b4;\" x=\"168.530213\" xlink:href=\"#m84f2ba6c6c\" y=\"47.691522\"/>\r\n     <use style=\"fill:#1f77b4;stroke:#1f77b4;\" x=\"111.555457\" xlink:href=\"#m84f2ba6c6c\" y=\"93.065079\"/>\r\n     <use style=\"fill:#1f77b4;stroke:#1f77b4;\" x=\"144.905575\" xlink:href=\"#m84f2ba6c6c\" y=\"77.910752\"/>\r\n     <use style=\"fill:#1f77b4;stroke:#1f77b4;\" x=\"100.257961\" xlink:href=\"#m84f2ba6c6c\" y=\"108.775716\"/>\r\n     <use style=\"fill:#1f77b4;stroke:#1f77b4;\" x=\"112.642979\" xlink:href=\"#m84f2ba6c6c\" y=\"89.09372\"/>\r\n     <use style=\"fill:#1f77b4;stroke:#1f77b4;\" x=\"112.225043\" xlink:href=\"#m84f2ba6c6c\" y=\"81.631016\"/>\r\n     <use style=\"fill:#1f77b4;stroke:#1f77b4;\" x=\"119.391096\" xlink:href=\"#m84f2ba6c6c\" y=\"98.097551\"/>\r\n     <use style=\"fill:#1f77b4;stroke:#1f77b4;\" x=\"95.541864\" xlink:href=\"#m84f2ba6c6c\" y=\"100.164501\"/>\r\n     <use style=\"fill:#1f77b4;stroke:#1f77b4;\" x=\"132.749272\" xlink:href=\"#m84f2ba6c6c\" y=\"83.155761\"/>\r\n     <use style=\"fill:#1f77b4;stroke:#1f77b4;\" x=\"169.875746\" xlink:href=\"#m84f2ba6c6c\" y=\"52.295264\"/>\r\n     <use style=\"fill:#1f77b4;stroke:#1f77b4;\" x=\"157.528856\" xlink:href=\"#m84f2ba6c6c\" y=\"71.072027\"/>\r\n     <use style=\"fill:#1f77b4;stroke:#1f77b4;\" x=\"153.718519\" xlink:href=\"#m84f2ba6c6c\" y=\"71.796058\"/>\r\n     <use style=\"fill:#1f77b4;stroke:#1f77b4;\" x=\"96.462111\" xlink:href=\"#m84f2ba6c6c\" y=\"94.025135\"/>\r\n     <use style=\"fill:#1f77b4;stroke:#1f77b4;\" x=\"79.118482\" xlink:href=\"#m84f2ba6c6c\" y=\"118.562161\"/>\r\n     <use style=\"fill:#1f77b4;stroke:#1f77b4;\" x=\"124.62414\" xlink:href=\"#m84f2ba6c6c\" y=\"63.004401\"/>\r\n     <use style=\"fill:#1f77b4;stroke:#1f77b4;\" x=\"176.170505\" xlink:href=\"#m84f2ba6c6c\" y=\"67.738767\"/>\r\n     <use style=\"fill:#1f77b4;stroke:#1f77b4;\" x=\"157.63297\" xlink:href=\"#m84f2ba6c6c\" y=\"61.310354\"/>\r\n     <use style=\"fill:#1f77b4;stroke:#1f77b4;\" x=\"81.648687\" xlink:href=\"#m84f2ba6c6c\" y=\"116.289514\"/>\r\n     <use style=\"fill:#1f77b4;stroke:#1f77b4;\" x=\"159.339672\" xlink:href=\"#m84f2ba6c6c\" y=\"79.566348\"/>\r\n     <use style=\"fill:#1f77b4;stroke:#1f77b4;\" x=\"131.982742\" xlink:href=\"#m84f2ba6c6c\" y=\"82.059154\"/>\r\n     <use style=\"fill:#1f77b4;stroke:#1f77b4;\" x=\"160.436094\" xlink:href=\"#m84f2ba6c6c\" y=\"70.085289\"/>\r\n     <use style=\"fill:#1f77b4;stroke:#1f77b4;\" x=\"214.127806\" xlink:href=\"#m84f2ba6c6c\" y=\"25.77932\"/>\r\n     <use style=\"fill:#1f77b4;stroke:#1f77b4;\" x=\"99.45658\" xlink:href=\"#m84f2ba6c6c\" y=\"101.569325\"/>\r\n     <use style=\"fill:#1f77b4;stroke:#1f77b4;\" x=\"104.179801\" xlink:href=\"#m84f2ba6c6c\" y=\"101.413276\"/>\r\n     <use style=\"fill:#1f77b4;stroke:#1f77b4;\" x=\"116.171884\" xlink:href=\"#m84f2ba6c6c\" y=\"93.08069\"/>\r\n     <use style=\"fill:#1f77b4;stroke:#1f77b4;\" x=\"94.047509\" xlink:href=\"#m84f2ba6c6c\" y=\"108.543234\"/>\r\n     <use style=\"fill:#1f77b4;stroke:#1f77b4;\" x=\"62.256549\" xlink:href=\"#m84f2ba6c6c\" y=\"120.050554\"/>\r\n     <use style=\"fill:#1f77b4;stroke:#1f77b4;\" x=\"167.121167\" xlink:href=\"#m84f2ba6c6c\" y=\"65.996825\"/>\r\n     <use style=\"fill:#1f77b4;stroke:#1f77b4;\" x=\"141.995083\" xlink:href=\"#m84f2ba6c6c\" y=\"84.513854\"/>\r\n     <use style=\"fill:#1f77b4;stroke:#1f77b4;\" x=\"142.085044\" xlink:href=\"#m84f2ba6c6c\" y=\"71.383855\"/>\r\n     <use style=\"fill:#1f77b4;stroke:#1f77b4;\" x=\"154.067012\" xlink:href=\"#m84f2ba6c6c\" y=\"74.617653\"/>\r\n     <use style=\"fill:#1f77b4;stroke:#1f77b4;\" x=\"171.706656\" xlink:href=\"#m84f2ba6c6c\" y=\"53.767922\"/>\r\n     <use style=\"fill:#1f77b4;stroke:#1f77b4;\" x=\"140.184752\" xlink:href=\"#m84f2ba6c6c\" y=\"87.451917\"/>\r\n     <use style=\"fill:#1f77b4;stroke:#1f77b4;\" x=\"197.152718\" xlink:href=\"#m84f2ba6c6c\" y=\"35.081542\"/>\r\n     <use style=\"fill:#1f77b4;stroke:#1f77b4;\" x=\"47.360085\" xlink:href=\"#m84f2ba6c6c\" y=\"131.233378\"/>\r\n     <use style=\"fill:#1f77b4;stroke:#1f77b4;\" x=\"91.480324\" xlink:href=\"#m84f2ba6c6c\" y=\"101.298453\"/>\r\n     <use style=\"fill:#1f77b4;stroke:#1f77b4;\" x=\"113.78282\" xlink:href=\"#m84f2ba6c6c\" y=\"86.780639\"/>\r\n     <use style=\"fill:#1f77b4;stroke:#1f77b4;\" x=\"121.870577\" xlink:href=\"#m84f2ba6c6c\" y=\"82.064229\"/>\r\n     <use style=\"fill:#1f77b4;stroke:#1f77b4;\" x=\"58.969428\" xlink:href=\"#m84f2ba6c6c\" y=\"136.858989\"/>\r\n     <use style=\"fill:#1f77b4;stroke:#1f77b4;\" x=\"162.079106\" xlink:href=\"#m84f2ba6c6c\" y=\"71.202553\"/>\r\n     <use style=\"fill:#1f77b4;stroke:#1f77b4;\" x=\"105.479292\" xlink:href=\"#m84f2ba6c6c\" y=\"104.424424\"/>\r\n     <use style=\"fill:#1f77b4;stroke:#1f77b4;\" x=\"96.983462\" xlink:href=\"#m84f2ba6c6c\" y=\"92.426077\"/>\r\n     <use style=\"fill:#1f77b4;stroke:#1f77b4;\" x=\"164.282979\" xlink:href=\"#m84f2ba6c6c\" y=\"72.882017\"/>\r\n     <use style=\"fill:#1f77b4;stroke:#1f77b4;\" x=\"146.439568\" xlink:href=\"#m84f2ba6c6c\" y=\"76.67909\"/>\r\n     <use style=\"fill:#1f77b4;stroke:#1f77b4;\" x=\"123.567878\" xlink:href=\"#m84f2ba6c6c\" y=\"91.93044\"/>\r\n     <use style=\"fill:#1f77b4;stroke:#1f77b4;\" x=\"216.557701\" xlink:href=\"#m84f2ba6c6c\" y=\"39.828622\"/>\r\n     <use style=\"fill:#1f77b4;stroke:#1f77b4;\" x=\"101.706663\" xlink:href=\"#m84f2ba6c6c\" y=\"100.231813\"/>\r\n     <use style=\"fill:#1f77b4;stroke:#1f77b4;\" x=\"86.872267\" xlink:href=\"#m84f2ba6c6c\" y=\"95.834807\"/>\r\n     <use style=\"fill:#1f77b4;stroke:#1f77b4;\" x=\"114.764333\" xlink:href=\"#m84f2ba6c6c\" y=\"86.344066\"/>\r\n     <use style=\"fill:#1f77b4;stroke:#1f77b4;\" x=\"124.072485\" xlink:href=\"#m84f2ba6c6c\" y=\"85.146151\"/>\r\n     <use style=\"fill:#1f77b4;stroke:#1f77b4;\" x=\"116.920342\" xlink:href=\"#m84f2ba6c6c\" y=\"101.913945\"/>\r\n     <use style=\"fill:#1f77b4;stroke:#1f77b4;\" x=\"100.370519\" xlink:href=\"#m84f2ba6c6c\" y=\"106.413432\"/>\r\n     <use style=\"fill:#1f77b4;stroke:#1f77b4;\" x=\"173.942113\" xlink:href=\"#m84f2ba6c6c\" y=\"65.156531\"/>\r\n    </g>\r\n   </g>\r\n   <g id=\"matplotlib.axis_1\">\r\n    <g id=\"xtick_1\">\r\n     <g id=\"line2d_1\">\r\n      <defs>\r\n       <path d=\"M 0 0 \r\nL 0 3.5 \r\n\" id=\"m4ace1c10e2\" style=\"stroke:#000000;stroke-width:0.8;\"/>\r\n      </defs>\r\n      <g>\r\n       <use style=\"stroke:#000000;stroke-width:0.8;\" x=\"50.877619\" xlink:href=\"#m4ace1c10e2\" y=\"145.574332\"/>\r\n      </g>\r\n     </g>\r\n     <g id=\"text_1\">\r\n      <!-- −1 -->\r\n      <g transform=\"translate(43.506525 160.172769)scale(0.1 -0.1)\">\r\n       <defs>\r\n        <path d=\"M 10.59375 35.5 \r\nL 73.1875 35.5 \r\nL 73.1875 27.203125 \r\nL 10.59375 27.203125 \r\nz\r\n\" id=\"DejaVuSans-8722\"/>\r\n        <path d=\"M 12.40625 8.296875 \r\nL 28.515625 8.296875 \r\nL 28.515625 63.921875 \r\nL 10.984375 60.40625 \r\nL 10.984375 69.390625 \r\nL 28.421875 72.90625 \r\nL 38.28125 72.90625 \r\nL 38.28125 8.296875 \r\nL 54.390625 8.296875 \r\nL 54.390625 0 \r\nL 12.40625 0 \r\nz\r\n\" id=\"DejaVuSans-49\"/>\r\n       </defs>\r\n       <use xlink:href=\"#DejaVuSans-8722\"/>\r\n       <use x=\"83.789062\" xlink:href=\"#DejaVuSans-49\"/>\r\n      </g>\r\n     </g>\r\n    </g>\r\n    <g id=\"xtick_2\">\r\n     <g id=\"line2d_2\">\r\n      <g>\r\n       <use style=\"stroke:#000000;stroke-width:0.8;\" x=\"84.739618\" xlink:href=\"#m4ace1c10e2\" y=\"145.574332\"/>\r\n      </g>\r\n     </g>\r\n     <g id=\"text_2\">\r\n      <!-- 0 -->\r\n      <g transform=\"translate(81.558368 160.172769)scale(0.1 -0.1)\">\r\n       <defs>\r\n        <path d=\"M 31.78125 66.40625 \r\nQ 24.171875 66.40625 20.328125 58.90625 \r\nQ 16.5 51.421875 16.5 36.375 \r\nQ 16.5 21.390625 20.328125 13.890625 \r\nQ 24.171875 6.390625 31.78125 6.390625 \r\nQ 39.453125 6.390625 43.28125 13.890625 \r\nQ 47.125 21.390625 47.125 36.375 \r\nQ 47.125 51.421875 43.28125 58.90625 \r\nQ 39.453125 66.40625 31.78125 66.40625 \r\nz\r\nM 31.78125 74.21875 \r\nQ 44.046875 74.21875 50.515625 64.515625 \r\nQ 56.984375 54.828125 56.984375 36.375 \r\nQ 56.984375 17.96875 50.515625 8.265625 \r\nQ 44.046875 -1.421875 31.78125 -1.421875 \r\nQ 19.53125 -1.421875 13.0625 8.265625 \r\nQ 6.59375 17.96875 6.59375 36.375 \r\nQ 6.59375 54.828125 13.0625 64.515625 \r\nQ 19.53125 74.21875 31.78125 74.21875 \r\nz\r\n\" id=\"DejaVuSans-48\"/>\r\n       </defs>\r\n       <use xlink:href=\"#DejaVuSans-48\"/>\r\n      </g>\r\n     </g>\r\n    </g>\r\n    <g id=\"xtick_3\">\r\n     <g id=\"line2d_3\">\r\n      <g>\r\n       <use style=\"stroke:#000000;stroke-width:0.8;\" x=\"118.601617\" xlink:href=\"#m4ace1c10e2\" y=\"145.574332\"/>\r\n      </g>\r\n     </g>\r\n     <g id=\"text_3\">\r\n      <!-- 1 -->\r\n      <g transform=\"translate(115.420367 160.172769)scale(0.1 -0.1)\">\r\n       <use xlink:href=\"#DejaVuSans-49\"/>\r\n      </g>\r\n     </g>\r\n    </g>\r\n    <g id=\"xtick_4\">\r\n     <g id=\"line2d_4\">\r\n      <g>\r\n       <use style=\"stroke:#000000;stroke-width:0.8;\" x=\"152.463617\" xlink:href=\"#m4ace1c10e2\" y=\"145.574332\"/>\r\n      </g>\r\n     </g>\r\n     <g id=\"text_4\">\r\n      <!-- 2 -->\r\n      <g transform=\"translate(149.282367 160.172769)scale(0.1 -0.1)\">\r\n       <defs>\r\n        <path d=\"M 19.1875 8.296875 \r\nL 53.609375 8.296875 \r\nL 53.609375 0 \r\nL 7.328125 0 \r\nL 7.328125 8.296875 \r\nQ 12.9375 14.109375 22.625 23.890625 \r\nQ 32.328125 33.6875 34.8125 36.53125 \r\nQ 39.546875 41.84375 41.421875 45.53125 \r\nQ 43.3125 49.21875 43.3125 52.78125 \r\nQ 43.3125 58.59375 39.234375 62.25 \r\nQ 35.15625 65.921875 28.609375 65.921875 \r\nQ 23.96875 65.921875 18.8125 64.3125 \r\nQ 13.671875 62.703125 7.8125 59.421875 \r\nL 7.8125 69.390625 \r\nQ 13.765625 71.78125 18.9375 73 \r\nQ 24.125 74.21875 28.421875 74.21875 \r\nQ 39.75 74.21875 46.484375 68.546875 \r\nQ 53.21875 62.890625 53.21875 53.421875 \r\nQ 53.21875 48.921875 51.53125 44.890625 \r\nQ 49.859375 40.875 45.40625 35.40625 \r\nQ 44.1875 33.984375 37.640625 27.21875 \r\nQ 31.109375 20.453125 19.1875 8.296875 \r\nz\r\n\" id=\"DejaVuSans-50\"/>\r\n       </defs>\r\n       <use xlink:href=\"#DejaVuSans-50\"/>\r\n      </g>\r\n     </g>\r\n    </g>\r\n    <g id=\"xtick_5\">\r\n     <g id=\"line2d_5\">\r\n      <g>\r\n       <use style=\"stroke:#000000;stroke-width:0.8;\" x=\"186.325616\" xlink:href=\"#m4ace1c10e2\" y=\"145.574332\"/>\r\n      </g>\r\n     </g>\r\n     <g id=\"text_5\">\r\n      <!-- 3 -->\r\n      <g transform=\"translate(183.144366 160.172769)scale(0.1 -0.1)\">\r\n       <defs>\r\n        <path d=\"M 40.578125 39.3125 \r\nQ 47.65625 37.796875 51.625 33 \r\nQ 55.609375 28.21875 55.609375 21.1875 \r\nQ 55.609375 10.40625 48.1875 4.484375 \r\nQ 40.765625 -1.421875 27.09375 -1.421875 \r\nQ 22.515625 -1.421875 17.65625 -0.515625 \r\nQ 12.796875 0.390625 7.625 2.203125 \r\nL 7.625 11.71875 \r\nQ 11.71875 9.328125 16.59375 8.109375 \r\nQ 21.484375 6.890625 26.8125 6.890625 \r\nQ 36.078125 6.890625 40.9375 10.546875 \r\nQ 45.796875 14.203125 45.796875 21.1875 \r\nQ 45.796875 27.640625 41.28125 31.265625 \r\nQ 36.765625 34.90625 28.71875 34.90625 \r\nL 20.21875 34.90625 \r\nL 20.21875 43.015625 \r\nL 29.109375 43.015625 \r\nQ 36.375 43.015625 40.234375 45.921875 \r\nQ 44.09375 48.828125 44.09375 54.296875 \r\nQ 44.09375 59.90625 40.109375 62.90625 \r\nQ 36.140625 65.921875 28.71875 65.921875 \r\nQ 24.65625 65.921875 20.015625 65.03125 \r\nQ 15.375 64.15625 9.8125 62.3125 \r\nL 9.8125 71.09375 \r\nQ 15.4375 72.65625 20.34375 73.4375 \r\nQ 25.25 74.21875 29.59375 74.21875 \r\nQ 40.828125 74.21875 47.359375 69.109375 \r\nQ 53.90625 64.015625 53.90625 55.328125 \r\nQ 53.90625 49.265625 50.4375 45.09375 \r\nQ 46.96875 40.921875 40.578125 39.3125 \r\nz\r\n\" id=\"DejaVuSans-51\"/>\r\n       </defs>\r\n       <use xlink:href=\"#DejaVuSans-51\"/>\r\n      </g>\r\n     </g>\r\n    </g>\r\n    <g id=\"xtick_6\">\r\n     <g id=\"line2d_6\">\r\n      <g>\r\n       <use style=\"stroke:#000000;stroke-width:0.8;\" x=\"220.187615\" xlink:href=\"#m4ace1c10e2\" y=\"145.574332\"/>\r\n      </g>\r\n     </g>\r\n     <g id=\"text_6\">\r\n      <!-- 4 -->\r\n      <g transform=\"translate(217.006365 160.172769)scale(0.1 -0.1)\">\r\n       <defs>\r\n        <path d=\"M 37.796875 64.3125 \r\nL 12.890625 25.390625 \r\nL 37.796875 25.390625 \r\nz\r\nM 35.203125 72.90625 \r\nL 47.609375 72.90625 \r\nL 47.609375 25.390625 \r\nL 58.015625 25.390625 \r\nL 58.015625 17.1875 \r\nL 47.609375 17.1875 \r\nL 47.609375 0 \r\nL 37.796875 0 \r\nL 37.796875 17.1875 \r\nL 4.890625 17.1875 \r\nL 4.890625 26.703125 \r\nz\r\n\" id=\"DejaVuSans-52\"/>\r\n       </defs>\r\n       <use xlink:href=\"#DejaVuSans-52\"/>\r\n      </g>\r\n     </g>\r\n    </g>\r\n   </g>\r\n   <g id=\"matplotlib.axis_2\">\r\n    <g id=\"ytick_1\">\r\n     <g id=\"line2d_7\">\r\n      <defs>\r\n       <path d=\"M 0 0 \r\nL -3.5 0 \r\n\" id=\"m296fcac69b\" style=\"stroke:#000000;stroke-width:0.8;\"/>\r\n      </defs>\r\n      <g>\r\n       <use style=\"stroke:#000000;stroke-width:0.8;\" x=\"38.482813\" xlink:href=\"#m296fcac69b\" y=\"133.000446\"/>\r\n      </g>\r\n     </g>\r\n     <g id=\"text_7\">\r\n      <!-- −2.5 -->\r\n      <g transform=\"translate(7.2 136.799665)scale(0.1 -0.1)\">\r\n       <defs>\r\n        <path d=\"M 10.6875 12.40625 \r\nL 21 12.40625 \r\nL 21 0 \r\nL 10.6875 0 \r\nz\r\n\" id=\"DejaVuSans-46\"/>\r\n        <path d=\"M 10.796875 72.90625 \r\nL 49.515625 72.90625 \r\nL 49.515625 64.59375 \r\nL 19.828125 64.59375 \r\nL 19.828125 46.734375 \r\nQ 21.96875 47.46875 24.109375 47.828125 \r\nQ 26.265625 48.1875 28.421875 48.1875 \r\nQ 40.625 48.1875 47.75 41.5 \r\nQ 54.890625 34.8125 54.890625 23.390625 \r\nQ 54.890625 11.625 47.5625 5.09375 \r\nQ 40.234375 -1.421875 26.90625 -1.421875 \r\nQ 22.3125 -1.421875 17.546875 -0.640625 \r\nQ 12.796875 0.140625 7.71875 1.703125 \r\nL 7.71875 11.625 \r\nQ 12.109375 9.234375 16.796875 8.0625 \r\nQ 21.484375 6.890625 26.703125 6.890625 \r\nQ 35.15625 6.890625 40.078125 11.328125 \r\nQ 45.015625 15.765625 45.015625 23.390625 \r\nQ 45.015625 31 40.078125 35.4375 \r\nQ 35.15625 39.890625 26.703125 39.890625 \r\nQ 22.75 39.890625 18.8125 39.015625 \r\nQ 14.890625 38.140625 10.796875 36.28125 \r\nz\r\n\" id=\"DejaVuSans-53\"/>\r\n       </defs>\r\n       <use xlink:href=\"#DejaVuSans-8722\"/>\r\n       <use x=\"83.789062\" xlink:href=\"#DejaVuSans-50\"/>\r\n       <use x=\"147.412109\" xlink:href=\"#DejaVuSans-46\"/>\r\n       <use x=\"179.199219\" xlink:href=\"#DejaVuSans-53\"/>\r\n      </g>\r\n     </g>\r\n    </g>\r\n    <g id=\"ytick_2\">\r\n     <g id=\"line2d_8\">\r\n      <g>\r\n       <use style=\"stroke:#000000;stroke-width:0.8;\" x=\"38.482813\" xlink:href=\"#m296fcac69b\" y=\"108.600201\"/>\r\n      </g>\r\n     </g>\r\n     <g id=\"text_8\">\r\n      <!-- 0.0 -->\r\n      <g transform=\"translate(15.579688 112.39942)scale(0.1 -0.1)\">\r\n       <use xlink:href=\"#DejaVuSans-48\"/>\r\n       <use x=\"63.623047\" xlink:href=\"#DejaVuSans-46\"/>\r\n       <use x=\"95.410156\" xlink:href=\"#DejaVuSans-48\"/>\r\n      </g>\r\n     </g>\r\n    </g>\r\n    <g id=\"ytick_3\">\r\n     <g id=\"line2d_9\">\r\n      <g>\r\n       <use style=\"stroke:#000000;stroke-width:0.8;\" x=\"38.482813\" xlink:href=\"#m296fcac69b\" y=\"84.199955\"/>\r\n      </g>\r\n     </g>\r\n     <g id=\"text_9\">\r\n      <!-- 2.5 -->\r\n      <g transform=\"translate(15.579688 87.999174)scale(0.1 -0.1)\">\r\n       <use xlink:href=\"#DejaVuSans-50\"/>\r\n       <use x=\"63.623047\" xlink:href=\"#DejaVuSans-46\"/>\r\n       <use x=\"95.410156\" xlink:href=\"#DejaVuSans-53\"/>\r\n      </g>\r\n     </g>\r\n    </g>\r\n    <g id=\"ytick_4\">\r\n     <g id=\"line2d_10\">\r\n      <g>\r\n       <use style=\"stroke:#000000;stroke-width:0.8;\" x=\"38.482813\" xlink:href=\"#m296fcac69b\" y=\"59.79971\"/>\r\n      </g>\r\n     </g>\r\n     <g id=\"text_10\">\r\n      <!-- 5.0 -->\r\n      <g transform=\"translate(15.579688 63.598929)scale(0.1 -0.1)\">\r\n       <use xlink:href=\"#DejaVuSans-53\"/>\r\n       <use x=\"63.623047\" xlink:href=\"#DejaVuSans-46\"/>\r\n       <use x=\"95.410156\" xlink:href=\"#DejaVuSans-48\"/>\r\n      </g>\r\n     </g>\r\n    </g>\r\n    <g id=\"ytick_5\">\r\n     <g id=\"line2d_11\">\r\n      <g>\r\n       <use style=\"stroke:#000000;stroke-width:0.8;\" x=\"38.482813\" xlink:href=\"#m296fcac69b\" y=\"35.399464\"/>\r\n      </g>\r\n     </g>\r\n     <g id=\"text_11\">\r\n      <!-- 7.5 -->\r\n      <g transform=\"translate(15.579688 39.198683)scale(0.1 -0.1)\">\r\n       <defs>\r\n        <path d=\"M 8.203125 72.90625 \r\nL 55.078125 72.90625 \r\nL 55.078125 68.703125 \r\nL 28.609375 0 \r\nL 18.3125 0 \r\nL 43.21875 64.59375 \r\nL 8.203125 64.59375 \r\nz\r\n\" id=\"DejaVuSans-55\"/>\r\n       </defs>\r\n       <use xlink:href=\"#DejaVuSans-55\"/>\r\n       <use x=\"63.623047\" xlink:href=\"#DejaVuSans-46\"/>\r\n       <use x=\"95.410156\" xlink:href=\"#DejaVuSans-53\"/>\r\n      </g>\r\n     </g>\r\n    </g>\r\n    <g id=\"ytick_6\">\r\n     <g id=\"line2d_12\">\r\n      <g>\r\n       <use style=\"stroke:#000000;stroke-width:0.8;\" x=\"38.482813\" xlink:href=\"#m296fcac69b\" y=\"10.999219\"/>\r\n      </g>\r\n     </g>\r\n     <g id=\"text_12\">\r\n      <!-- 10.0 -->\r\n      <g transform=\"translate(9.217188 14.798437)scale(0.1 -0.1)\">\r\n       <use xlink:href=\"#DejaVuSans-49\"/>\r\n       <use x=\"63.623047\" xlink:href=\"#DejaVuSans-48\"/>\r\n       <use x=\"127.246094\" xlink:href=\"#DejaVuSans-46\"/>\r\n       <use x=\"159.033203\" xlink:href=\"#DejaVuSans-48\"/>\r\n      </g>\r\n     </g>\r\n    </g>\r\n   </g>\r\n   <g id=\"patch_3\">\r\n    <path d=\"M 38.482813 145.574332 \r\nL 38.482813 9.674332 \r\n\" style=\"fill:none;stroke:#000000;stroke-linecap:square;stroke-linejoin:miter;stroke-width:0.8;\"/>\r\n   </g>\r\n   <g id=\"patch_4\">\r\n    <path d=\"M 233.782813 145.574332 \r\nL 233.782813 9.674332 \r\n\" style=\"fill:none;stroke:#000000;stroke-linecap:square;stroke-linejoin:miter;stroke-width:0.8;\"/>\r\n   </g>\r\n   <g id=\"patch_5\">\r\n    <path d=\"M 38.482813 145.574332 \r\nL 233.782813 145.574332 \r\n\" style=\"fill:none;stroke:#000000;stroke-linecap:square;stroke-linejoin:miter;stroke-width:0.8;\"/>\r\n   </g>\r\n   <g id=\"patch_6\">\r\n    <path d=\"M 38.482813 9.674332 \r\nL 233.782813 9.674332 \r\n\" style=\"fill:none;stroke:#000000;stroke-linecap:square;stroke-linejoin:miter;stroke-width:0.8;\"/>\r\n   </g>\r\n  </g>\r\n </g>\r\n <defs>\r\n  <clipPath id=\"pe6d08e7a2f\">\r\n   <rect height=\"135.9\" width=\"195.3\" x=\"38.482813\" y=\"9.674332\"/>\r\n  </clipPath>\r\n </defs>\r\n</svg>\r\n"
     },
     "metadata": {
      "needs_background": "light"
     }
    }
   ],
   "source": [
    "d2l.plt.scatter(data[:100, 0].numpy(), data[:100, 1].numpy());"
   ]
  },
  {
   "cell_type": "code",
   "execution_count": 19,
   "metadata": {
    "tags": []
   },
   "outputs": [
    {
     "output_type": "stream",
     "name": "stdout",
     "text": "The covariance matrix is\ntensor([[1.0100, 1.9500],\n        [1.9500, 4.2500]])\n"
    }
   ],
   "source": [
    "print(f'The covariance matrix is\\n{torch.mm(A.T, A)}')"
   ]
  },
  {
   "cell_type": "code",
   "execution_count": 20,
   "metadata": {},
   "outputs": [],
   "source": [
    "batch_size = 8\n",
    "data_iter = d2l.load_array((data,), batch_size)"
   ]
  },
  {
   "cell_type": "code",
   "execution_count": 21,
   "metadata": {},
   "outputs": [
    {
     "output_type": "error",
     "ename": "NameError",
     "evalue": "name 'nn' is not defined",
     "traceback": [
      "\u001b[1;31m---------------------------------------------------------------------------\u001b[0m",
      "\u001b[1;31mNameError\u001b[0m                                 Traceback (most recent call last)",
      "\u001b[1;32m<ipython-input-21-439d8ab57611>\u001b[0m in \u001b[0;36m<module>\u001b[1;34m\u001b[0m\n\u001b[1;32m----> 1\u001b[1;33m \u001b[0mnet_G\u001b[0m \u001b[1;33m=\u001b[0m \u001b[0mnn\u001b[0m\u001b[1;33m.\u001b[0m\u001b[0mSequential\u001b[0m\u001b[1;33m(\u001b[0m\u001b[1;33m)\u001b[0m\u001b[1;33m\u001b[0m\u001b[1;33m\u001b[0m\u001b[0m\n\u001b[0m\u001b[0;32m      2\u001b[0m \u001b[0mnet_G\u001b[0m\u001b[1;33m.\u001b[0m\u001b[0madd\u001b[0m\u001b[1;33m(\u001b[0m\u001b[0mnn\u001b[0m\u001b[1;33m.\u001b[0m\u001b[0mDense\u001b[0m\u001b[1;33m(\u001b[0m\u001b[1;36m2\u001b[0m\u001b[1;33m)\u001b[0m\u001b[1;33m)\u001b[0m\u001b[1;33m\u001b[0m\u001b[1;33m\u001b[0m\u001b[0m\n",
      "\u001b[1;31mNameError\u001b[0m: name 'nn' is not defined"
     ]
    }
   ],
   "source": [
    "net_G = nn.Sequential()\n",
    "net_G.add(nn.Dense(2))"
   ]
  },
  {
   "cell_type": "code",
   "execution_count": 22,
   "metadata": {},
   "outputs": [],
   "source": [
    "import torch.nn as nn"
   ]
  },
  {
   "cell_type": "markdown",
   "metadata": {},
   "source": [
    "https://pytorch.org/docs/master/generated/torch.nn.Sequential.html"
   ]
  },
  {
   "cell_type": "code",
   "execution_count": 23,
   "metadata": {},
   "outputs": [],
   "source": [
    "net_G = nn.Sequential()"
   ]
  },
  {
   "cell_type": "code",
   "execution_count": 24,
   "metadata": {},
   "outputs": [
    {
     "output_type": "error",
     "ename": "AttributeError",
     "evalue": "'Sequential' object has no attribute 'add'",
     "traceback": [
      "\u001b[1;31m---------------------------------------------------------------------------\u001b[0m",
      "\u001b[1;31mAttributeError\u001b[0m                            Traceback (most recent call last)",
      "\u001b[1;32m<ipython-input-24-a10719de175a>\u001b[0m in \u001b[0;36m<module>\u001b[1;34m\u001b[0m\n\u001b[1;32m----> 1\u001b[1;33m \u001b[0mnet_G\u001b[0m\u001b[1;33m.\u001b[0m\u001b[0madd\u001b[0m\u001b[1;33m(\u001b[0m\u001b[0mnn\u001b[0m\u001b[1;33m.\u001b[0m\u001b[0mDense\u001b[0m\u001b[1;33m(\u001b[0m\u001b[1;36m2\u001b[0m\u001b[1;33m)\u001b[0m\u001b[1;33m)\u001b[0m\u001b[1;33m\u001b[0m\u001b[1;33m\u001b[0m\u001b[0m\n\u001b[0m",
      "\u001b[1;32m~\\anaconda3\\envs\\pytorch\\lib\\site-packages\\torch\\nn\\modules\\module.py\u001b[0m in \u001b[0;36m__getattr__\u001b[1;34m(self, name)\u001b[0m\n\u001b[0;32m    591\u001b[0m             \u001b[1;32mif\u001b[0m \u001b[0mname\u001b[0m \u001b[1;32min\u001b[0m \u001b[0mmodules\u001b[0m\u001b[1;33m:\u001b[0m\u001b[1;33m\u001b[0m\u001b[1;33m\u001b[0m\u001b[0m\n\u001b[0;32m    592\u001b[0m                 \u001b[1;32mreturn\u001b[0m \u001b[0mmodules\u001b[0m\u001b[1;33m[\u001b[0m\u001b[0mname\u001b[0m\u001b[1;33m]\u001b[0m\u001b[1;33m\u001b[0m\u001b[1;33m\u001b[0m\u001b[0m\n\u001b[1;32m--> 593\u001b[1;33m         raise AttributeError(\"'{}' object has no attribute '{}'\".format(\n\u001b[0m\u001b[0;32m    594\u001b[0m             type(self).__name__, name))\n\u001b[0;32m    595\u001b[0m \u001b[1;33m\u001b[0m\u001b[0m\n",
      "\u001b[1;31mAttributeError\u001b[0m: 'Sequential' object has no attribute 'add'"
     ]
    }
   ],
   "source": [
    "net_G.add(nn.Dense(2))"
   ]
  },
  {
   "cell_type": "markdown",
   "metadata": {},
   "source": [
    "https://discuss.pytorch.org/t/add-sequential-model-to-sequential/71765"
   ]
  },
  {
   "cell_type": "code",
   "execution_count": 25,
   "metadata": {},
   "outputs": [
    {
     "output_type": "error",
     "ename": "SyntaxError",
     "evalue": "invalid syntax (<ipython-input-25-4081b43dc8a3>, line 1)",
     "traceback": [
      "\u001b[1;36m  File \u001b[1;32m\"<ipython-input-25-4081b43dc8a3>\"\u001b[1;36m, line \u001b[1;32m1\u001b[0m\n\u001b[1;33m    net_G..add_module(nn.Dense(2))\u001b[0m\n\u001b[1;37m          ^\u001b[0m\n\u001b[1;31mSyntaxError\u001b[0m\u001b[1;31m:\u001b[0m invalid syntax\n"
     ]
    }
   ],
   "source": [
    "net_G..add_module(nn.Dense(2))"
   ]
  },
  {
   "cell_type": "code",
   "execution_count": 26,
   "metadata": {},
   "outputs": [
    {
     "output_type": "error",
     "ename": "AttributeError",
     "evalue": "module 'torch.nn' has no attribute 'Dense'",
     "traceback": [
      "\u001b[1;31m---------------------------------------------------------------------------\u001b[0m",
      "\u001b[1;31mAttributeError\u001b[0m                            Traceback (most recent call last)",
      "\u001b[1;32m<ipython-input-26-832ac674afde>\u001b[0m in \u001b[0;36m<module>\u001b[1;34m\u001b[0m\n\u001b[1;32m----> 1\u001b[1;33m \u001b[0mnet_G\u001b[0m\u001b[1;33m.\u001b[0m\u001b[0madd_module\u001b[0m\u001b[1;33m(\u001b[0m\u001b[0mnn\u001b[0m\u001b[1;33m.\u001b[0m\u001b[0mDense\u001b[0m\u001b[1;33m(\u001b[0m\u001b[1;36m2\u001b[0m\u001b[1;33m)\u001b[0m\u001b[1;33m)\u001b[0m\u001b[1;33m\u001b[0m\u001b[1;33m\u001b[0m\u001b[0m\n\u001b[0m",
      "\u001b[1;31mAttributeError\u001b[0m: module 'torch.nn' has no attribute 'Dense'"
     ]
    }
   ],
   "source": [
    "net_G.add_module(nn.Dense(2))"
   ]
  },
  {
   "cell_type": "markdown",
   "metadata": {},
   "source": [
    "https://pytorch.org/hub/pytorch_vision_densenet/\n",
    "https://pypi.org/project/densenet-pytorch/\n",
    "\n",
    "https://mxnet.incubator.apache.org/versions/1.6/api/python/docs/api/gluon/nn/index.html\n",
    "https://discuss.pytorch.org/t/pytorch-equivalent-of-keras/29412\n",
    "\n",
    "PyTorch深度实践，GAN章节"
   ]
  },
  {
   "cell_type": "code",
   "execution_count": 27,
   "metadata": {},
   "outputs": [
    {
     "output_type": "error",
     "ename": "TypeError",
     "evalue": "__init__() missing 1 required positional argument: 'out_features'",
     "traceback": [
      "\u001b[1;31m---------------------------------------------------------------------------\u001b[0m",
      "\u001b[1;31mTypeError\u001b[0m                                 Traceback (most recent call last)",
      "\u001b[1;32m<ipython-input-27-cb7fb475a6f7>\u001b[0m in \u001b[0;36m<module>\u001b[1;34m\u001b[0m\n\u001b[1;32m----> 1\u001b[1;33m \u001b[0mnet_G\u001b[0m\u001b[1;33m.\u001b[0m\u001b[0madd_module\u001b[0m\u001b[1;33m(\u001b[0m\u001b[0mnn\u001b[0m\u001b[1;33m.\u001b[0m\u001b[0mLinear\u001b[0m\u001b[1;33m(\u001b[0m\u001b[1;36m2\u001b[0m\u001b[1;33m)\u001b[0m\u001b[1;33m)\u001b[0m\u001b[1;33m\u001b[0m\u001b[1;33m\u001b[0m\u001b[0m\n\u001b[0m",
      "\u001b[1;31mTypeError\u001b[0m: __init__() missing 1 required positional argument: 'out_features'"
     ]
    }
   ],
   "source": [
    "net_G.add_module(nn.Linear(2))"
   ]
  },
  {
   "cell_type": "code",
   "execution_count": 28,
   "metadata": {},
   "outputs": [
    {
     "output_type": "error",
     "ename": "NameError",
     "evalue": "name 'n_out' is not defined",
     "traceback": [
      "\u001b[1;31m---------------------------------------------------------------------------\u001b[0m",
      "\u001b[1;31mNameError\u001b[0m                                 Traceback (most recent call last)",
      "\u001b[1;32m<ipython-input-28-b81818d6ac3d>\u001b[0m in \u001b[0;36m<module>\u001b[1;34m\u001b[0m\n\u001b[1;32m----> 1\u001b[1;33m \u001b[0mnet_G\u001b[0m\u001b[1;33m.\u001b[0m\u001b[0madd_module\u001b[0m\u001b[1;33m(\u001b[0m\u001b[0mnn\u001b[0m\u001b[1;33m.\u001b[0m\u001b[0mLinear\u001b[0m\u001b[1;33m(\u001b[0m\u001b[1;36m2\u001b[0m\u001b[1;33m,\u001b[0m \u001b[0mn_out\u001b[0m\u001b[1;33m)\u001b[0m\u001b[1;33m)\u001b[0m\u001b[1;33m\u001b[0m\u001b[1;33m\u001b[0m\u001b[0m\n\u001b[0m",
      "\u001b[1;31mNameError\u001b[0m: name 'n_out' is not defined"
     ]
    }
   ],
   "source": [
    "net_G.add_module(nn.Linear(2, n_out))"
   ]
  },
  {
   "cell_type": "code",
   "execution_count": 29,
   "metadata": {},
   "outputs": [
    {
     "output_type": "error",
     "ename": "TypeError",
     "evalue": "add_module() missing 1 required positional argument: 'module'",
     "traceback": [
      "\u001b[1;31m---------------------------------------------------------------------------\u001b[0m",
      "\u001b[1;31mTypeError\u001b[0m                                 Traceback (most recent call last)",
      "\u001b[1;32m<ipython-input-29-9406985814c3>\u001b[0m in \u001b[0;36m<module>\u001b[1;34m\u001b[0m\n\u001b[1;32m----> 1\u001b[1;33m \u001b[0mnet_G\u001b[0m\u001b[1;33m.\u001b[0m\u001b[0madd_module\u001b[0m\u001b[1;33m(\u001b[0m\u001b[0mnn\u001b[0m\u001b[1;33m.\u001b[0m\u001b[0mLinear\u001b[0m\u001b[1;33m(\u001b[0m\u001b[1;36m2\u001b[0m\u001b[1;33m,\u001b[0m \u001b[1;36m1\u001b[0m\u001b[1;33m)\u001b[0m\u001b[1;33m)\u001b[0m\u001b[1;33m\u001b[0m\u001b[1;33m\u001b[0m\u001b[0m\n\u001b[0m",
      "\u001b[1;31mTypeError\u001b[0m: add_module() missing 1 required positional argument: 'module'"
     ]
    }
   ],
   "source": [
    "net_G.add_module(nn.Linear(2, 1))"
   ]
  },
  {
   "cell_type": "markdown",
   "metadata": {},
   "source": [
    ".add_module expects a name and module as the arguments.\n",
    "https://discuss.pytorch.org/t/add-module-missing-1-required-positional-argument-module/73999"
   ]
  },
  {
   "cell_type": "code",
   "execution_count": 30,
   "metadata": {},
   "outputs": [],
   "source": [
    "net_G.add_module(\"Linear\", nn.Linear(2, 1))"
   ]
  },
  {
   "cell_type": "markdown",
   "metadata": {},
   "source": [
    "TODO：net_G.add_module(nn.Linear(2, "
   ]
  },
  {
   "cell_type": "code",
   "execution_count": 31,
   "metadata": {},
   "outputs": [],
   "source": [
    "net_D = nn.Sequential()\n"
   ]
  },
  {
   "cell_type": "code",
   "execution_count": 32,
   "metadata": {},
   "outputs": [
    {
     "output_type": "error",
     "ename": "SyntaxError",
     "evalue": "invalid syntax (<ipython-input-32-c6126a5943b2>, line 1)",
     "traceback": [
      "\u001b[1;36m  File \u001b[1;32m\"<ipython-input-32-c6126a5943b2>\"\u001b[1;36m, line \u001b[1;32m1\u001b[0m\n\u001b[1;33m    https://pytorch.org/docs/master/generated/torch.nn.Sequential.html\u001b[0m\n\u001b[1;37m          ^\u001b[0m\n\u001b[1;31mSyntaxError\u001b[0m\u001b[1;31m:\u001b[0m invalid syntax\n"
     ]
    }
   ],
   "source": [
    "https://pytorch.org/docs/master/generated/torch.nn.Sequential.html\n",
    "https://pytorch.org/docs/master/generated/torch.nn.Tanh.html"
   ]
  },
  {
   "cell_type": "code",
   "execution_count": 33,
   "metadata": {},
   "outputs": [
    {
     "output_type": "error",
     "ename": "TypeError",
     "evalue": "__init__() takes 1 positional argument but 3 were given",
     "traceback": [
      "\u001b[1;31m---------------------------------------------------------------------------\u001b[0m",
      "\u001b[1;31mTypeError\u001b[0m                                 Traceback (most recent call last)",
      "\u001b[1;32m<ipython-input-33-7e163c8110ac>\u001b[0m in \u001b[0;36m<module>\u001b[1;34m\u001b[0m\n\u001b[1;32m----> 1\u001b[1;33m net_D.add_module(nn.Tanh(5, 3),\n\u001b[0m\u001b[0;32m      2\u001b[0m           \u001b[0mnn\u001b[0m\u001b[1;33m.\u001b[0m\u001b[0mTanh\u001b[0m\u001b[1;33m(\u001b[0m\u001b[1;36m3\u001b[0m\u001b[1;33m,\u001b[0m \u001b[1;36m1\u001b[0m\u001b[1;33m)\u001b[0m\u001b[1;33m,\u001b[0m\u001b[1;33m\u001b[0m\u001b[1;33m\u001b[0m\u001b[0m\n\u001b[0;32m      3\u001b[0m           nn.Tanh(1))\n",
      "\u001b[1;31mTypeError\u001b[0m: __init__() takes 1 positional argument but 3 were given"
     ]
    }
   ],
   "source": [
    "net_D.add_module(nn.Tanh(5, 3),\n",
    "          nn.Tanh(3, 1),\n",
    "          nn.Tanh(1))"
   ]
  },
  {
   "cell_type": "code",
   "execution_count": 34,
   "metadata": {},
   "outputs": [
    {
     "output_type": "error",
     "ename": "TypeError",
     "evalue": "__init__() takes 1 positional argument but 3 were given",
     "traceback": [
      "\u001b[1;31m---------------------------------------------------------------------------\u001b[0m",
      "\u001b[1;31mTypeError\u001b[0m                                 Traceback (most recent call last)",
      "\u001b[1;32m<ipython-input-34-649539707699>\u001b[0m in \u001b[0;36m<module>\u001b[1;34m\u001b[0m\n\u001b[1;32m----> 1\u001b[1;33m \u001b[0mnet_D\u001b[0m\u001b[1;33m.\u001b[0m\u001b[0madd_module\u001b[0m\u001b[1;33m(\u001b[0m\u001b[1;34m\"Tanh1\"\u001b[0m\u001b[1;33m,\u001b[0m\u001b[0mnn\u001b[0m\u001b[1;33m.\u001b[0m\u001b[0mTanh\u001b[0m\u001b[1;33m(\u001b[0m\u001b[1;36m5\u001b[0m\u001b[1;33m,\u001b[0m \u001b[1;36m3\u001b[0m\u001b[1;33m)\u001b[0m\u001b[1;33m)\u001b[0m\u001b[1;33m\u001b[0m\u001b[1;33m\u001b[0m\u001b[0m\n\u001b[0m\u001b[0;32m      2\u001b[0m \u001b[0mnet_D\u001b[0m\u001b[1;33m.\u001b[0m\u001b[0madd_module\u001b[0m\u001b[1;33m(\u001b[0m\u001b[1;34m\"Tanh2\"\u001b[0m\u001b[1;33m,\u001b[0m\u001b[0mnn\u001b[0m\u001b[1;33m.\u001b[0m\u001b[0mTanh\u001b[0m\u001b[1;33m(\u001b[0m\u001b[1;36m3\u001b[0m\u001b[1;33m,\u001b[0m \u001b[1;36m1\u001b[0m\u001b[1;33m)\u001b[0m\u001b[1;33m)\u001b[0m\u001b[1;33m\u001b[0m\u001b[1;33m\u001b[0m\u001b[0m\n\u001b[0;32m      3\u001b[0m \u001b[0mnet_D\u001b[0m\u001b[1;33m.\u001b[0m\u001b[0madd_module\u001b[0m\u001b[1;33m(\u001b[0m\u001b[1;34m\"Tanh3\"\u001b[0m\u001b[1;33m,\u001b[0m\u001b[0mnn\u001b[0m\u001b[1;33m.\u001b[0m\u001b[0mTanh\u001b[0m\u001b[1;33m(\u001b[0m\u001b[1;36m1\u001b[0m\u001b[1;33m,\u001b[0m \u001b[1;36m1\u001b[0m\u001b[1;33m)\u001b[0m\u001b[1;33m)\u001b[0m\u001b[1;33m\u001b[0m\u001b[1;33m\u001b[0m\u001b[0m\n",
      "\u001b[1;31mTypeError\u001b[0m: __init__() takes 1 positional argument but 3 were given"
     ]
    }
   ],
   "source": [
    "net_D.add_module(\"Tanh1\",nn.Tanh(5, 3))\n",
    "net_D.add_module(\"Tanh2\",nn.Tanh(3, 1))\n",
    "net_D.add_module(\"Tanh3\",nn.Tanh(1, 1))"
   ]
  },
  {
   "cell_type": "code",
   "execution_count": 35,
   "metadata": {},
   "outputs": [
    {
     "output_type": "error",
     "ename": "TypeError",
     "evalue": "__init__() takes 1 positional argument but 2 were given",
     "traceback": [
      "\u001b[1;31m---------------------------------------------------------------------------\u001b[0m",
      "\u001b[1;31mTypeError\u001b[0m                                 Traceback (most recent call last)",
      "\u001b[1;32m<ipython-input-35-cea9161463d8>\u001b[0m in \u001b[0;36m<module>\u001b[1;34m\u001b[0m\n\u001b[1;32m----> 1\u001b[1;33m \u001b[0mnet_D\u001b[0m\u001b[1;33m.\u001b[0m\u001b[0madd_module\u001b[0m\u001b[1;33m(\u001b[0m\u001b[1;34m\"Tanh1\"\u001b[0m\u001b[1;33m,\u001b[0m\u001b[0mnn\u001b[0m\u001b[1;33m.\u001b[0m\u001b[0mTanh\u001b[0m\u001b[1;33m(\u001b[0m\u001b[1;36m5\u001b[0m\u001b[1;33m)\u001b[0m\u001b[1;33m)\u001b[0m\u001b[1;33m\u001b[0m\u001b[1;33m\u001b[0m\u001b[0m\n\u001b[0m\u001b[0;32m      2\u001b[0m \u001b[0mnet_D\u001b[0m\u001b[1;33m.\u001b[0m\u001b[0madd_module\u001b[0m\u001b[1;33m(\u001b[0m\u001b[1;34m\"Tanh2\"\u001b[0m\u001b[1;33m,\u001b[0m\u001b[0mnn\u001b[0m\u001b[1;33m.\u001b[0m\u001b[0mTanh\u001b[0m\u001b[1;33m(\u001b[0m\u001b[1;36m3\u001b[0m\u001b[1;33m)\u001b[0m\u001b[1;33m)\u001b[0m\u001b[1;33m\u001b[0m\u001b[1;33m\u001b[0m\u001b[0m\n\u001b[0;32m      3\u001b[0m \u001b[0mnet_D\u001b[0m\u001b[1;33m.\u001b[0m\u001b[0madd_module\u001b[0m\u001b[1;33m(\u001b[0m\u001b[1;34m\"Tanh3\"\u001b[0m\u001b[1;33m,\u001b[0m\u001b[0mnn\u001b[0m\u001b[1;33m.\u001b[0m\u001b[0mTanh\u001b[0m\u001b[1;33m(\u001b[0m\u001b[1;36m1\u001b[0m\u001b[1;33m)\u001b[0m\u001b[1;33m)\u001b[0m\u001b[1;33m\u001b[0m\u001b[1;33m\u001b[0m\u001b[0m\n",
      "\u001b[1;31mTypeError\u001b[0m: __init__() takes 1 positional argument but 2 were given"
     ]
    }
   ],
   "source": [
    "net_D.add_module(\"Tanh1\",nn.Tanh(5))\n",
    "net_D.add_module(\"Tanh2\",nn.Tanh(3))\n",
    "net_D.add_module(\"Tanh3\",nn.Tanh(1))"
   ]
  },
  {
   "cell_type": "code",
   "execution_count": 36,
   "metadata": {},
   "outputs": [
    {
     "output_type": "error",
     "ename": "TypeError",
     "evalue": "__init__() takes 1 positional argument but 2 were given",
     "traceback": [
      "\u001b[1;31m---------------------------------------------------------------------------\u001b[0m",
      "\u001b[1;31mTypeError\u001b[0m                                 Traceback (most recent call last)",
      "\u001b[1;32m<ipython-input-36-1747ec577406>\u001b[0m in \u001b[0;36m<module>\u001b[1;34m\u001b[0m\n\u001b[1;32m----> 1\u001b[1;33m \u001b[0mnet_D\u001b[0m\u001b[1;33m.\u001b[0m\u001b[0madd_module\u001b[0m\u001b[1;33m(\u001b[0m\u001b[0mnn\u001b[0m\u001b[1;33m.\u001b[0m\u001b[0mTanh\u001b[0m\u001b[1;33m(\u001b[0m\u001b[1;36m5\u001b[0m\u001b[1;33m)\u001b[0m\u001b[1;33m)\u001b[0m\u001b[1;33m\u001b[0m\u001b[1;33m\u001b[0m\u001b[0m\n\u001b[0m\u001b[0;32m      2\u001b[0m \u001b[0mnet_D\u001b[0m\u001b[1;33m.\u001b[0m\u001b[0madd_module\u001b[0m\u001b[1;33m(\u001b[0m\u001b[0mnn\u001b[0m\u001b[1;33m.\u001b[0m\u001b[0mTanh\u001b[0m\u001b[1;33m(\u001b[0m\u001b[1;36m3\u001b[0m\u001b[1;33m)\u001b[0m\u001b[1;33m)\u001b[0m\u001b[1;33m\u001b[0m\u001b[1;33m\u001b[0m\u001b[0m\n\u001b[0;32m      3\u001b[0m \u001b[0mnet_D\u001b[0m\u001b[1;33m.\u001b[0m\u001b[0madd_module\u001b[0m\u001b[1;33m(\u001b[0m\u001b[0mnn\u001b[0m\u001b[1;33m.\u001b[0m\u001b[0mTanh\u001b[0m\u001b[1;33m(\u001b[0m\u001b[1;36m1\u001b[0m\u001b[1;33m)\u001b[0m\u001b[1;33m)\u001b[0m\u001b[1;33m\u001b[0m\u001b[1;33m\u001b[0m\u001b[0m\n",
      "\u001b[1;31mTypeError\u001b[0m: __init__() takes 1 positional argument but 2 were given"
     ]
    }
   ],
   "source": [
    "net_D.add_module(nn.Tanh(5))\n",
    "net_D.add_module(nn.Tanh(3))\n",
    "net_D.add_module(nn.Tanh(1))"
   ]
  },
  {
   "cell_type": "code",
   "execution_count": 37,
   "metadata": {},
   "outputs": [
    {
     "output_type": "error",
     "ename": "TypeError",
     "evalue": "__init__() takes 1 positional argument but 2 were given",
     "traceback": [
      "\u001b[1;31m---------------------------------------------------------------------------\u001b[0m",
      "\u001b[1;31mTypeError\u001b[0m                                 Traceback (most recent call last)",
      "\u001b[1;32m<ipython-input-37-b441e4914b2c>\u001b[0m in \u001b[0;36m<module>\u001b[1;34m\u001b[0m\n\u001b[1;32m----> 1\u001b[1;33m \u001b[0mnn\u001b[0m\u001b[1;33m.\u001b[0m\u001b[0mTanh\u001b[0m\u001b[1;33m(\u001b[0m\u001b[1;36m5\u001b[0m\u001b[1;33m)\u001b[0m\u001b[1;33m\u001b[0m\u001b[1;33m\u001b[0m\u001b[0m\n\u001b[0m",
      "\u001b[1;31mTypeError\u001b[0m: __init__() takes 1 positional argument but 2 were given"
     ]
    }
   ],
   "source": [
    "nn.Tanh(5)"
   ]
  },
  {
   "cell_type": "markdown",
   "metadata": {},
   "source": [
    "给类的实例化传进来两个参数，一个是self，一个是input。所以会报错需要一个参数，却给了两个,https://blog.csdn.net/york1996/article/details/81875736"
   ]
  },
  {
   "cell_type": "code",
   "execution_count": 38,
   "metadata": {},
   "outputs": [
    {
     "output_type": "execute_result",
     "data": {
      "text/plain": "Tanh()"
     },
     "metadata": {},
     "execution_count": 38
    }
   ],
   "source": [
    "nn.Tanh()"
   ]
  },
  {
   "cell_type": "markdown",
   "metadata": {},
   "source": [
    "https://discuss.pytorch.org/t/torch-tanh-vs-torch-nn-functional-tanh/15897/2"
   ]
  },
  {
   "cell_type": "code",
   "execution_count": 39,
   "metadata": {},
   "outputs": [
    {
     "output_type": "error",
     "ename": "AttributeError",
     "evalue": "'int' object has no attribute 'tanh'",
     "traceback": [
      "\u001b[1;31m---------------------------------------------------------------------------\u001b[0m",
      "\u001b[1;31mAttributeError\u001b[0m                            Traceback (most recent call last)",
      "\u001b[1;32m<ipython-input-39-e92aa00d0645>\u001b[0m in \u001b[0;36m<module>\u001b[1;34m\u001b[0m\n\u001b[1;32m----> 1\u001b[1;33m \u001b[0mnn\u001b[0m\u001b[1;33m.\u001b[0m\u001b[0mfunctional\u001b[0m\u001b[1;33m.\u001b[0m\u001b[0mtanh\u001b[0m\u001b[1;33m(\u001b[0m\u001b[1;36m5\u001b[0m\u001b[1;33m)\u001b[0m\u001b[1;33m\u001b[0m\u001b[1;33m\u001b[0m\u001b[0m\n\u001b[0m",
      "\u001b[1;32m~\\anaconda3\\envs\\pytorch\\lib\\site-packages\\torch\\nn\\functional.py\u001b[0m in \u001b[0;36mtanh\u001b[1;34m(input)\u001b[0m\n\u001b[0;32m   1557\u001b[0m     \"\"\"\n\u001b[0;32m   1558\u001b[0m     \u001b[0mwarnings\u001b[0m\u001b[1;33m.\u001b[0m\u001b[0mwarn\u001b[0m\u001b[1;33m(\u001b[0m\u001b[1;34m\"nn.functional.tanh is deprecated. Use torch.tanh instead.\"\u001b[0m\u001b[1;33m)\u001b[0m\u001b[1;33m\u001b[0m\u001b[1;33m\u001b[0m\u001b[0m\n\u001b[1;32m-> 1559\u001b[1;33m     \u001b[1;32mreturn\u001b[0m \u001b[0minput\u001b[0m\u001b[1;33m.\u001b[0m\u001b[0mtanh\u001b[0m\u001b[1;33m(\u001b[0m\u001b[1;33m)\u001b[0m\u001b[1;33m\u001b[0m\u001b[1;33m\u001b[0m\u001b[0m\n\u001b[0m\u001b[0;32m   1560\u001b[0m \u001b[1;33m\u001b[0m\u001b[0m\n\u001b[0;32m   1561\u001b[0m \u001b[1;33m\u001b[0m\u001b[0m\n",
      "\u001b[1;31mAttributeError\u001b[0m: 'int' object has no attribute 'tanh'"
     ]
    }
   ],
   "source": [
    "nn.functional.tanh(5)"
   ]
  },
  {
   "cell_type": "code",
   "execution_count": 40,
   "metadata": {},
   "outputs": [
    {
     "output_type": "error",
     "ename": "AttributeError",
     "evalue": "module 'torch.nn' has no attribute 'tanh'",
     "traceback": [
      "\u001b[1;31m---------------------------------------------------------------------------\u001b[0m",
      "\u001b[1;31mAttributeError\u001b[0m                            Traceback (most recent call last)",
      "\u001b[1;32m<ipython-input-40-384cfdcc09b3>\u001b[0m in \u001b[0;36m<module>\u001b[1;34m\u001b[0m\n\u001b[1;32m----> 1\u001b[1;33m \u001b[0mnn\u001b[0m\u001b[1;33m.\u001b[0m\u001b[0mtanh\u001b[0m\u001b[1;33m(\u001b[0m\u001b[1;33m)\u001b[0m\u001b[1;33m(\u001b[0m\u001b[1;36m5\u001b[0m\u001b[1;33m)\u001b[0m\u001b[1;33m\u001b[0m\u001b[1;33m\u001b[0m\u001b[0m\n\u001b[0m",
      "\u001b[1;31mAttributeError\u001b[0m: module 'torch.nn' has no attribute 'tanh'"
     ]
    }
   ],
   "source": [
    "nn.tanh()(5)"
   ]
  },
  {
   "cell_type": "markdown",
   "metadata": {},
   "source": [
    "https://gist.github.com/zhanghang1989/3d646f71d60c17048cf8ad582393ac6c"
   ]
  },
  {
   "cell_type": "code",
   "execution_count": 41,
   "metadata": {},
   "outputs": [
    {
     "output_type": "error",
     "ename": "SyntaxError",
     "evalue": "invalid syntax (<ipython-input-41-695bb03d9167>, line 2)",
     "traceback": [
      "\u001b[1;36m  File \u001b[1;32m\"<ipython-input-41-695bb03d9167>\"\u001b[1;36m, line \u001b[1;32m2\u001b[0m\n\u001b[1;33m    net_D.add_module(\"Tanh2\",nn.Linear(3, nonlinearity='tanh')\u001b[0m\n\u001b[1;37m    ^\u001b[0m\n\u001b[1;31mSyntaxError\u001b[0m\u001b[1;31m:\u001b[0m invalid syntax\n"
     ]
    }
   ],
   "source": [
    "net_D.add_module(\"Tanh1\",nn.Linear(5, nonlinearity='tanh')\n",
    "net_D.add_module(\"Tanh2\",nn.Linear(3, nonlinearity='tanh')\n",
    "net_D.add_module(\"Tanh3\",nn.Linear(1, nonlinearity='tanh')"
   ]
  },
  {
   "cell_type": "code",
   "execution_count": 42,
   "metadata": {},
   "outputs": [
    {
     "output_type": "error",
     "ename": "SyntaxError",
     "evalue": "invalid syntax (<ipython-input-42-695bb03d9167>, line 2)",
     "traceback": [
      "\u001b[1;36m  File \u001b[1;32m\"<ipython-input-42-695bb03d9167>\"\u001b[1;36m, line \u001b[1;32m2\u001b[0m\n\u001b[1;33m    net_D.add_module(\"Tanh2\",nn.Linear(3, nonlinearity='tanh')\u001b[0m\n\u001b[1;37m    ^\u001b[0m\n\u001b[1;31mSyntaxError\u001b[0m\u001b[1;31m:\u001b[0m invalid syntax\n"
     ]
    }
   ],
   "source": [
    "net_D.add_module(\"Tanh1\",nn.Linear(5, nonlinearity='tanh')\n",
    "net_D.add_module(\"Tanh2\",nn.Linear(3, nonlinearity='tanh')\n",
    "net_D.add_module(\"Tanh3\",nn.Linear(1, nonlinearity='tanh')"
   ]
  },
  {
   "cell_type": "code",
   "execution_count": 43,
   "metadata": {},
   "outputs": [
    {
     "output_type": "error",
     "ename": "TypeError",
     "evalue": "__init__() got an unexpected keyword argument 'nonlinearity'",
     "traceback": [
      "\u001b[1;31m---------------------------------------------------------------------------\u001b[0m",
      "\u001b[1;31mTypeError\u001b[0m                                 Traceback (most recent call last)",
      "\u001b[1;32m<ipython-input-43-efa7849edbed>\u001b[0m in \u001b[0;36m<module>\u001b[1;34m\u001b[0m\n\u001b[1;32m----> 1\u001b[1;33m \u001b[0mnet_D\u001b[0m\u001b[1;33m.\u001b[0m\u001b[0madd_module\u001b[0m\u001b[1;33m(\u001b[0m\u001b[1;34m\"Tanh1\"\u001b[0m\u001b[1;33m,\u001b[0m\u001b[0mnn\u001b[0m\u001b[1;33m.\u001b[0m\u001b[0mLinear\u001b[0m\u001b[1;33m(\u001b[0m\u001b[1;36m5\u001b[0m\u001b[1;33m,\u001b[0m \u001b[0mnonlinearity\u001b[0m\u001b[1;33m=\u001b[0m\u001b[1;34m'tanh'\u001b[0m\u001b[1;33m)\u001b[0m\u001b[1;33m)\u001b[0m\u001b[1;33m\u001b[0m\u001b[1;33m\u001b[0m\u001b[0m\n\u001b[0m\u001b[0;32m      2\u001b[0m \u001b[0mnet_D\u001b[0m\u001b[1;33m.\u001b[0m\u001b[0madd_module\u001b[0m\u001b[1;33m(\u001b[0m\u001b[1;34m\"Tanh2\"\u001b[0m\u001b[1;33m,\u001b[0m\u001b[0mnn\u001b[0m\u001b[1;33m.\u001b[0m\u001b[0mLinear\u001b[0m\u001b[1;33m(\u001b[0m\u001b[1;36m3\u001b[0m\u001b[1;33m,\u001b[0m \u001b[0mnonlinearity\u001b[0m\u001b[1;33m=\u001b[0m\u001b[1;34m'tanh'\u001b[0m\u001b[1;33m)\u001b[0m\u001b[1;33m)\u001b[0m\u001b[1;33m\u001b[0m\u001b[1;33m\u001b[0m\u001b[0m\n\u001b[0;32m      3\u001b[0m \u001b[0mnet_D\u001b[0m\u001b[1;33m.\u001b[0m\u001b[0madd_module\u001b[0m\u001b[1;33m(\u001b[0m\u001b[1;34m\"Tanh3\"\u001b[0m\u001b[1;33m,\u001b[0m\u001b[0mnn\u001b[0m\u001b[1;33m.\u001b[0m\u001b[0mLinear\u001b[0m\u001b[1;33m(\u001b[0m\u001b[1;36m1\u001b[0m\u001b[1;33m,\u001b[0m \u001b[0mnonlinearity\u001b[0m\u001b[1;33m=\u001b[0m\u001b[1;34m'tanh'\u001b[0m\u001b[1;33m)\u001b[0m\u001b[1;33m)\u001b[0m\u001b[1;33m\u001b[0m\u001b[1;33m\u001b[0m\u001b[0m\n",
      "\u001b[1;31mTypeError\u001b[0m: __init__() got an unexpected keyword argument 'nonlinearity'"
     ]
    }
   ],
   "source": [
    "net_D.add_module(\"Tanh1\",nn.Linear(5, nonlinearity='tanh'))\n",
    "net_D.add_module(\"Tanh2\",nn.Linear(3, nonlinearity='tanh'))\n",
    "net_D.add_module(\"Tanh3\",nn.Linear(1, nonlinearity='tanh'))"
   ]
  },
  {
   "cell_type": "markdown",
   "metadata": {},
   "source": [
    "https://docs.dgl.ai/en/0.4.x/api/python/nn.pytorch.html"
   ]
  },
  {
   "cell_type": "code",
   "execution_count": 44,
   "metadata": {},
   "outputs": [
    {
     "output_type": "error",
     "ename": "TypeError",
     "evalue": "__init__() got an unexpected keyword argument 'activation'",
     "traceback": [
      "\u001b[1;31m---------------------------------------------------------------------------\u001b[0m",
      "\u001b[1;31mTypeError\u001b[0m                                 Traceback (most recent call last)",
      "\u001b[1;32m<ipython-input-44-859f06cee248>\u001b[0m in \u001b[0;36m<module>\u001b[1;34m\u001b[0m\n\u001b[1;32m----> 1\u001b[1;33m \u001b[0mnet_D\u001b[0m\u001b[1;33m.\u001b[0m\u001b[0madd_module\u001b[0m\u001b[1;33m(\u001b[0m\u001b[1;34m\"Tanh1\"\u001b[0m\u001b[1;33m,\u001b[0m\u001b[0mnn\u001b[0m\u001b[1;33m.\u001b[0m\u001b[0mLinear\u001b[0m\u001b[1;33m(\u001b[0m\u001b[1;36m5\u001b[0m\u001b[1;33m,\u001b[0m \u001b[0mactivation\u001b[0m\u001b[1;33m=\u001b[0m\u001b[1;34m'tanh'\u001b[0m\u001b[1;33m)\u001b[0m\u001b[1;33m)\u001b[0m\u001b[1;33m\u001b[0m\u001b[1;33m\u001b[0m\u001b[0m\n\u001b[0m\u001b[0;32m      2\u001b[0m \u001b[0mnet_D\u001b[0m\u001b[1;33m.\u001b[0m\u001b[0madd_module\u001b[0m\u001b[1;33m(\u001b[0m\u001b[1;34m\"Tanh2\"\u001b[0m\u001b[1;33m,\u001b[0m\u001b[0mnn\u001b[0m\u001b[1;33m.\u001b[0m\u001b[0mLinear\u001b[0m\u001b[1;33m(\u001b[0m\u001b[1;36m3\u001b[0m\u001b[1;33m,\u001b[0m \u001b[0mactivation\u001b[0m\u001b[1;33m=\u001b[0m\u001b[1;34m'tanh'\u001b[0m\u001b[1;33m)\u001b[0m\u001b[1;33m)\u001b[0m\u001b[1;33m\u001b[0m\u001b[1;33m\u001b[0m\u001b[0m\n\u001b[0;32m      3\u001b[0m \u001b[0mnet_D\u001b[0m\u001b[1;33m.\u001b[0m\u001b[0madd_module\u001b[0m\u001b[1;33m(\u001b[0m\u001b[1;34m\"Tanh3\"\u001b[0m\u001b[1;33m,\u001b[0m\u001b[0mnn\u001b[0m\u001b[1;33m.\u001b[0m\u001b[0mLinear\u001b[0m\u001b[1;33m(\u001b[0m\u001b[1;36m1\u001b[0m\u001b[1;33m,\u001b[0m \u001b[0mactivation\u001b[0m\u001b[1;33m=\u001b[0m\u001b[1;34m'tanh'\u001b[0m\u001b[1;33m)\u001b[0m\u001b[1;33m)\u001b[0m\u001b[1;33m\u001b[0m\u001b[1;33m\u001b[0m\u001b[0m\n",
      "\u001b[1;31mTypeError\u001b[0m: __init__() got an unexpected keyword argument 'activation'"
     ]
    }
   ],
   "source": [
    "net_D.add_module(\"Tanh1\",nn.Linear(5, activation='tanh'))\n",
    "net_D.add_module(\"Tanh2\",nn.Linear(3, activation='tanh'))\n",
    "net_D.add_module(\"Tanh3\",nn.Linear(1, activation='tanh'))"
   ]
  },
  {
   "cell_type": "markdown",
   "metadata": {},
   "source": [
    "https://discuss.pytorch.org/t/cant-recover-keras-results-using-pytorch/40035"
   ]
  },
  {
   "cell_type": "code",
   "execution_count": 45,
   "metadata": {},
   "outputs": [
    {
     "output_type": "error",
     "ename": "SyntaxError",
     "evalue": "unexpected EOF while parsing (<ipython-input-45-e89c0dc14f38>, line 1)",
     "traceback": [
      "\u001b[1;36m  File \u001b[1;32m\"<ipython-input-45-e89c0dc14f38>\"\u001b[1;36m, line \u001b[1;32m1\u001b[0m\n\u001b[1;33m    net_D.add_module(torch.tanh(nn.Linear(5, 3))\u001b[0m\n\u001b[1;37m                                                ^\u001b[0m\n\u001b[1;31mSyntaxError\u001b[0m\u001b[1;31m:\u001b[0m unexpected EOF while parsing\n"
     ]
    }
   ],
   "source": [
    "net_D.add_module(torch.tanh(nn.Linear(5, 3))"
   ]
  },
  {
   "cell_type": "code",
   "execution_count": 46,
   "metadata": {},
   "outputs": [
    {
     "output_type": "error",
     "ename": "TypeError",
     "evalue": "tanh(): argument 'input' (position 1) must be Tensor, not Linear",
     "traceback": [
      "\u001b[1;31m---------------------------------------------------------------------------\u001b[0m",
      "\u001b[1;31mTypeError\u001b[0m                                 Traceback (most recent call last)",
      "\u001b[1;32m<ipython-input-46-2fc3200c4ccf>\u001b[0m in \u001b[0;36m<module>\u001b[1;34m\u001b[0m\n\u001b[1;32m----> 1\u001b[1;33m \u001b[0mnet_D\u001b[0m\u001b[1;33m.\u001b[0m\u001b[0madd_module\u001b[0m\u001b[1;33m(\u001b[0m\u001b[0mtorch\u001b[0m\u001b[1;33m.\u001b[0m\u001b[0mtanh\u001b[0m\u001b[1;33m(\u001b[0m\u001b[0mnn\u001b[0m\u001b[1;33m.\u001b[0m\u001b[0mLinear\u001b[0m\u001b[1;33m(\u001b[0m\u001b[1;36m5\u001b[0m\u001b[1;33m,\u001b[0m \u001b[1;36m3\u001b[0m\u001b[1;33m)\u001b[0m\u001b[1;33m)\u001b[0m\u001b[1;33m)\u001b[0m\u001b[1;33m\u001b[0m\u001b[1;33m\u001b[0m\u001b[0m\n\u001b[0m",
      "\u001b[1;31mTypeError\u001b[0m: tanh(): argument 'input' (position 1) must be Tensor, not Linear"
     ]
    }
   ],
   "source": [
    "net_D.add_module(torch.tanh(nn.Linear(5, 3)))"
   ]
  },
  {
   "cell_type": "markdown",
   "metadata": {},
   "source": [
    "PyTorch深度学习 布拉马尼亚 DCGAN"
   ]
  },
  {
   "cell_type": "code",
   "execution_count": 47,
   "metadata": {},
   "outputs": [],
   "source": [
    "net_D.add_module(\"Linear1t\", nn.Linear(5, 3))"
   ]
  },
  {
   "cell_type": "code",
   "execution_count": 48,
   "metadata": {},
   "outputs": [],
   "source": [
    "net_D.add_module(\"1t\", nn.Tanh())"
   ]
  },
  {
   "cell_type": "code",
   "execution_count": 49,
   "metadata": {},
   "outputs": [],
   "source": [
    "net_D.add_module(\"Linear2t\", nn.Linear(3, 1))\n",
    "net_D.add_module(\"2t\", nn.Tanh())"
   ]
  },
  {
   "cell_type": "code",
   "execution_count": 50,
   "metadata": {},
   "outputs": [],
   "source": [
    "net_D.add_module(\"Linear3t\", nn.Linear(1, 1))\n",
    "net_D.add_module(\"3t\", nn.Tanh())"
   ]
  },
  {
   "cell_type": "markdown",
   "metadata": {},
   "source": [
    "net_D.add(nn.Dense(5, activation='tanh'),\n",
    "          nn.Dense(3, activation='tanh'),\n",
    "          nn.Dense(1))"
   ]
  },
  {
   "cell_type": "markdown",
   "metadata": {},
   "source": [
    "https://github.com/pytorch/pytorch/issues/5544\n",
    "\n",
    "ctx is a context object that can be used to stash information for backward computation. \n",
    "https://pytorch.org/tutorials/beginner/examples_autograd/two_layer_net_custom_function.html\n",
    "\n",
    "https://mxnet.apache.org/versions/1.6/api/python/docs/tutorials/getting-started/to-mxnet/pytorch.html"
   ]
  },
  {
   "cell_type": "code",
   "execution_count": 51,
   "metadata": {},
   "outputs": [],
   "source": [
    "#@save\n",
    "def update_D(X, Z, net_D, net_G, loss, trainer_D):\n",
    "    \"\"\"Update discriminator.\"\"\"\n",
    "    batch_size = X.shape[0]\n",
    "    ones = torch.ones((batch_size,), ctx=X.ctx)\n",
    "    zeros = torch.zeros((batch_size,), ctx=X.ctx)\n",
    "    trainer_D.zero_grad()\n",
    "    real_Y = net_D(X)\n",
    "    fake_X = net_G(Z)\n",
    "    # Do not need to compute gradient for `net_G`, detach it from\n",
    "    # computing gradients.\n",
    "    fake_Y = net_D(fake_X.detach())\n",
    "    loss_D = (loss(real_Y, ones) + loss(fake_Y, zeros)) / 2\n",
    "    loss_D.backward()\n",
    "    trainer_D.step(batch_size)\n",
    "    return float(loss_D.sum())"
   ]
  },
  {
   "cell_type": "markdown",
   "metadata": {},
   "source": [
    "#@save\n",
    "def update_D(X, Z, net_D, net_G, loss, trainer_D):\n",
    "    \"\"\"Update discriminator.\"\"\"\n",
    "    batch_size = X.shape[0]\n",
    "    ones = np.ones((batch_size,), ctx=X.ctx)\n",
    "    zeros = np.zeros((batch_size,), ctx=X.ctx)\n",
    "    with autograd.record():\n",
    "        real_Y = net_D(X)\n",
    "        fake_X = net_G(Z)\n",
    "        # Do not need to compute gradient for `net_G`, detach it from\n",
    "        # computing gradients.\n",
    "        fake_Y = net_D(fake_X.detach())\n",
    "        loss_D = (loss(real_Y, ones) + loss(fake_Y, zeros)) / 2\n",
    "    loss_D.backward()\n",
    "    trainer_D.step(batch_size)\n",
    "    return float(loss_D.sum())"
   ]
  },
  {
   "cell_type": "markdown",
   "metadata": {},
   "source": [
    "https://discuss.pytorch.org/t/should-i-use-optimizer-step-or-model-step-function-to-train-my-model/29591"
   ]
  },
  {
   "cell_type": "code",
   "execution_count": 52,
   "metadata": {},
   "outputs": [],
   "source": [
    "#@save\n",
    "def update_G(Z, net_D, net_G, loss, trainer_G):\n",
    "    \"\"\"Update generator.\"\"\"\n",
    "    batch_size = Z.shape[0]\n",
    "    ones = torch.ones((batch_size,), ctx=Z.ctx)\n",
    "    trainer_D.zero_grad()\n",
    "    # We could reuse `fake_X` from `update_D` to save computation\n",
    "    fake_X = net_G(Z)\n",
    "    # Recomputing `fake_Y` is needed since `net_D` is changed\n",
    "    fake_Y = net_D(fake_X)\n",
    "    loss_G = (loss(real_Y, ones) + loss(fake_Y, zeros)) / 2\n",
    "    loss_G.backward()\n",
    "    trainer_G.step(batch_size)\n",
    "    return float(loss_G.sum())"
   ]
  },
  {
   "cell_type": "markdown",
   "metadata": {},
   "source": [
    "def update_G(Z, net_D, net_G, loss, trainer_G):  #@save\n",
    "    \"\"\"Update generator.\"\"\"\n",
    "    batch_size = Z.shape[0]\n",
    "    ones = np.ones((batch_size,), ctx=Z.ctx)\n",
    "    with autograd.record():\n",
    "        # We could reuse `fake_X` from `update_D` to save computation\n",
    "        fake_X = net_G(Z)\n",
    "        # Recomputing `fake_Y` is needed since `net_D` is changed\n",
    "        fake_Y = net_D(fake_X)\n",
    "        loss_G = loss(fake_Y, ones)\n",
    "    loss_G.backward()\n",
    "    trainer_G.step(batch_size)\n",
    "    return float(loss_G.sum())"
   ]
  },
  {
   "cell_type": "markdown",
   "metadata": {},
   "source": [
    "https://mxnet.apache.org/versions/1.6/api/python/docs/api/gluon/loss/index.html#mxnet.gluon.loss.SigmoidBCELoss\n",
    "\n",
    "https://discuss.pytorch.org/t/hello-how-to-combine-different-two-losses/29483\n",
    "\n",
    "https://medium.com/apache-mxnet/mxnet-for-pytorch-users-in-10-minutes-a7353863406a\n",
    "https://pytorch.org/docs/stable/optim.html#adam\n"
   ]
  },
  {
   "cell_type": "code",
   "execution_count": 53,
   "metadata": {},
   "outputs": [
    {
     "output_type": "error",
     "ename": "SyntaxError",
     "evalue": "closing parenthesis '}' does not match opening parenthesis '(' (<ipython-input-53-4bf25143ba55>, line 5)",
     "traceback": [
      "\u001b[1;36m  File \u001b[1;32m\"<ipython-input-53-4bf25143ba55>\"\u001b[1;36m, line \u001b[1;32m5\u001b[0m\n\u001b[1;33m    trainer_D = torch.optim.Adam(net_D.parameters(),lr=lr_D})\u001b[0m\n\u001b[1;37m                                                           ^\u001b[0m\n\u001b[1;31mSyntaxError\u001b[0m\u001b[1;31m:\u001b[0m closing parenthesis '}' does not match opening parenthesis '('\n"
     ]
    }
   ],
   "source": [
    "def train(net_D, net_G, data_iter, num_epochs, lr_D, lr_G, latent_dim, data):\n",
    "    loss = nn.BCELoss()\n",
    "    net_D.initialize(init=init.Normal(0.02), force_reinit=True)\n",
    "    net_G.initialize(init=init.Normal(0.02), force_reinit=True)\n",
    "    trainer_D = torch.optim.Adam(net_D.parameters(),lr=lr_D})\n",
    "    trainer_G = torch.optim.Adam(net_G.parameters(),lr=lr_G})\n",
    "    animator = d2l.Animator(xlabel='epoch', ylabel='loss',\n",
    "                            xlim=[1, num_epochs], nrows=2, figsize=(5, 5),\n",
    "                            legend=['generator', 'discriminator'])\n",
    "    animator.fig.subplots_adjust(hspace=0.3)\n",
    "    for epoch in range(num_epochs):\n",
    "        # Train one epoch\n",
    "        timer = d2l.Timer()\n",
    "        metric = d2l.Accumulator(3)  # loss_D, loss_G, num_examples\n",
    "        for X in data_iter:\n",
    "            batch_size = X.shape[0]\n",
    "            Z = torch.normal(0, 1, size=(batch_size, latent_dim))\n",
    "            metric.add(update_D(X, Z, net_D, net_G, loss, trainer_D),\n",
    "                       update_G(Z, net_D, net_G, loss, trainer_G),\n",
    "                       batch_size)\n",
    "        # Visualize generated examples\n",
    "        Z = torch.normal(0, 1, size=(100, latent_dim))\n",
    "        fake_X = net_G(Z).numpy()\n",
    "        animator.axes[1].cla()\n",
    "        animator.axes[1].scatter(data[:, 0], data[:, 1])\n",
    "        animator.axes[1].scatter(fake_X[:, 0], fake_X[:, 1])\n",
    "        animator.axes[1].legend(['real', 'generated'])\n",
    "        # Show the losses\n",
    "        loss_D, loss_G = metric[0]/metric[2], metric[1]/metric[2]\n",
    "        animator.add(epoch + 1, (loss_D, loss_G))\n",
    "    print(f'loss_D {loss_D:.3f}, loss_G {loss_G:.3f}, '\n",
    "          f'{metric[2] / timer.stop():.1f} examples/sec')"
   ]
  },
  {
   "cell_type": "code",
   "execution_count": 54,
   "metadata": {},
   "outputs": [],
   "source": [
    "def train(net_D, net_G, data_iter, num_epochs, lr_D, lr_G, latent_dim, data):\n",
    "    loss = nn.BCELoss()\n",
    "    net_D.initialize(init=init.Normal(0.02), force_reinit=True)\n",
    "    net_G.initialize(init=init.Normal(0.02), force_reinit=True)\n",
    "    trainer_D = torch.optim.Adam(net_D.parameters(), lr=lr_D)\n",
    "    trainer_G = torch.optim.Adam(net_G.parameters(), lr=lr_G)\n",
    "    animator = d2l.Animator(xlabel='epoch', ylabel='loss',\n",
    "                            xlim=[1, num_epochs], nrows=2, figsize=(5, 5),\n",
    "                            legend=['generator', 'discriminator'])\n",
    "    animator.fig.subplots_adjust(hspace=0.3)\n",
    "    for epoch in range(num_epochs):\n",
    "        # Train one epoch\n",
    "        timer = d2l.Timer()\n",
    "        metric = d2l.Accumulator(3)  # loss_D, loss_G, num_examples\n",
    "        for X in data_iter:\n",
    "            batch_size = X.shape[0]\n",
    "            Z = torch.normal(0, 1, size=(batch_size, latent_dim))\n",
    "            metric.add(update_D(X, Z, net_D, net_G, loss, trainer_D),\n",
    "                       update_G(Z, net_D, net_G, loss, trainer_G),\n",
    "                       batch_size)\n",
    "        # Visualize generated examples\n",
    "        Z = torch.normal(0, 1, size=(100, latent_dim))\n",
    "        fake_X = net_G(Z).numpy()\n",
    "        animator.axes[1].cla()\n",
    "        animator.axes[1].scatter(data[:, 0], data[:, 1])\n",
    "        animator.axes[1].scatter(fake_X[:, 0], fake_X[:, 1])\n",
    "        animator.axes[1].legend(['real', 'generated'])\n",
    "        # Show the losses\n",
    "        loss_D, loss_G = metric[0]/metric[2], metric[1]/metric[2]\n",
    "        animator.add(epoch + 1, (loss_D, loss_G))\n",
    "    print(f'loss_D {loss_D:.3f}, loss_G {loss_G:.3f}, '\n",
    "          f'{metric[2] / timer.stop():.1f} examples/sec')"
   ]
  },
  {
   "cell_type": "code",
   "execution_count": 55,
   "metadata": {},
   "outputs": [
    {
     "output_type": "error",
     "ename": "AttributeError",
     "evalue": "'Sequential' object has no attribute 'initialize'",
     "traceback": [
      "\u001b[1;31m---------------------------------------------------------------------------\u001b[0m",
      "\u001b[1;31mAttributeError\u001b[0m                            Traceback (most recent call last)",
      "\u001b[1;32m<ipython-input-55-46803ce9c191>\u001b[0m in \u001b[0;36m<module>\u001b[1;34m\u001b[0m\n\u001b[0;32m      1\u001b[0m \u001b[0mlr_D\u001b[0m\u001b[1;33m,\u001b[0m \u001b[0mlr_G\u001b[0m\u001b[1;33m,\u001b[0m \u001b[0mlatent_dim\u001b[0m\u001b[1;33m,\u001b[0m \u001b[0mnum_epochs\u001b[0m \u001b[1;33m=\u001b[0m \u001b[1;36m0.05\u001b[0m\u001b[1;33m,\u001b[0m \u001b[1;36m0.005\u001b[0m\u001b[1;33m,\u001b[0m \u001b[1;36m2\u001b[0m\u001b[1;33m,\u001b[0m \u001b[1;36m20\u001b[0m\u001b[1;33m\u001b[0m\u001b[1;33m\u001b[0m\u001b[0m\n\u001b[1;32m----> 2\u001b[1;33m train(net_D, net_G, data_iter, num_epochs, lr_D, lr_G,\n\u001b[0m\u001b[0;32m      3\u001b[0m       latent_dim, data[:100].numpy())\n",
      "\u001b[1;32m<ipython-input-54-249616757bcd>\u001b[0m in \u001b[0;36mtrain\u001b[1;34m(net_D, net_G, data_iter, num_epochs, lr_D, lr_G, latent_dim, data)\u001b[0m\n\u001b[0;32m      1\u001b[0m \u001b[1;32mdef\u001b[0m \u001b[0mtrain\u001b[0m\u001b[1;33m(\u001b[0m\u001b[0mnet_D\u001b[0m\u001b[1;33m,\u001b[0m \u001b[0mnet_G\u001b[0m\u001b[1;33m,\u001b[0m \u001b[0mdata_iter\u001b[0m\u001b[1;33m,\u001b[0m \u001b[0mnum_epochs\u001b[0m\u001b[1;33m,\u001b[0m \u001b[0mlr_D\u001b[0m\u001b[1;33m,\u001b[0m \u001b[0mlr_G\u001b[0m\u001b[1;33m,\u001b[0m \u001b[0mlatent_dim\u001b[0m\u001b[1;33m,\u001b[0m \u001b[0mdata\u001b[0m\u001b[1;33m)\u001b[0m\u001b[1;33m:\u001b[0m\u001b[1;33m\u001b[0m\u001b[1;33m\u001b[0m\u001b[0m\n\u001b[0;32m      2\u001b[0m     \u001b[0mloss\u001b[0m \u001b[1;33m=\u001b[0m \u001b[0mnn\u001b[0m\u001b[1;33m.\u001b[0m\u001b[0mBCELoss\u001b[0m\u001b[1;33m(\u001b[0m\u001b[1;33m)\u001b[0m\u001b[1;33m\u001b[0m\u001b[1;33m\u001b[0m\u001b[0m\n\u001b[1;32m----> 3\u001b[1;33m     \u001b[0mnet_D\u001b[0m\u001b[1;33m.\u001b[0m\u001b[0minitialize\u001b[0m\u001b[1;33m(\u001b[0m\u001b[0minit\u001b[0m\u001b[1;33m=\u001b[0m\u001b[0minit\u001b[0m\u001b[1;33m.\u001b[0m\u001b[0mNormal\u001b[0m\u001b[1;33m(\u001b[0m\u001b[1;36m0.02\u001b[0m\u001b[1;33m)\u001b[0m\u001b[1;33m,\u001b[0m \u001b[0mforce_reinit\u001b[0m\u001b[1;33m=\u001b[0m\u001b[1;32mTrue\u001b[0m\u001b[1;33m)\u001b[0m\u001b[1;33m\u001b[0m\u001b[1;33m\u001b[0m\u001b[0m\n\u001b[0m\u001b[0;32m      4\u001b[0m     \u001b[0mnet_G\u001b[0m\u001b[1;33m.\u001b[0m\u001b[0minitialize\u001b[0m\u001b[1;33m(\u001b[0m\u001b[0minit\u001b[0m\u001b[1;33m=\u001b[0m\u001b[0minit\u001b[0m\u001b[1;33m.\u001b[0m\u001b[0mNormal\u001b[0m\u001b[1;33m(\u001b[0m\u001b[1;36m0.02\u001b[0m\u001b[1;33m)\u001b[0m\u001b[1;33m,\u001b[0m \u001b[0mforce_reinit\u001b[0m\u001b[1;33m=\u001b[0m\u001b[1;32mTrue\u001b[0m\u001b[1;33m)\u001b[0m\u001b[1;33m\u001b[0m\u001b[1;33m\u001b[0m\u001b[0m\n\u001b[0;32m      5\u001b[0m     \u001b[0mtrainer_D\u001b[0m \u001b[1;33m=\u001b[0m \u001b[0mtorch\u001b[0m\u001b[1;33m.\u001b[0m\u001b[0moptim\u001b[0m\u001b[1;33m.\u001b[0m\u001b[0mAdam\u001b[0m\u001b[1;33m(\u001b[0m\u001b[0mnet_D\u001b[0m\u001b[1;33m.\u001b[0m\u001b[0mparameters\u001b[0m\u001b[1;33m(\u001b[0m\u001b[1;33m)\u001b[0m\u001b[1;33m,\u001b[0m \u001b[0mlr\u001b[0m\u001b[1;33m=\u001b[0m\u001b[0mlr_D\u001b[0m\u001b[1;33m)\u001b[0m\u001b[1;33m\u001b[0m\u001b[1;33m\u001b[0m\u001b[0m\n",
      "\u001b[1;32m~\\anaconda3\\envs\\pytorch\\lib\\site-packages\\torch\\nn\\modules\\module.py\u001b[0m in \u001b[0;36m__getattr__\u001b[1;34m(self, name)\u001b[0m\n\u001b[0;32m    591\u001b[0m             \u001b[1;32mif\u001b[0m \u001b[0mname\u001b[0m \u001b[1;32min\u001b[0m \u001b[0mmodules\u001b[0m\u001b[1;33m:\u001b[0m\u001b[1;33m\u001b[0m\u001b[1;33m\u001b[0m\u001b[0m\n\u001b[0;32m    592\u001b[0m                 \u001b[1;32mreturn\u001b[0m \u001b[0mmodules\u001b[0m\u001b[1;33m[\u001b[0m\u001b[0mname\u001b[0m\u001b[1;33m]\u001b[0m\u001b[1;33m\u001b[0m\u001b[1;33m\u001b[0m\u001b[0m\n\u001b[1;32m--> 593\u001b[1;33m         raise AttributeError(\"'{}' object has no attribute '{}'\".format(\n\u001b[0m\u001b[0;32m    594\u001b[0m             type(self).__name__, name))\n\u001b[0;32m    595\u001b[0m \u001b[1;33m\u001b[0m\u001b[0m\n",
      "\u001b[1;31mAttributeError\u001b[0m: 'Sequential' object has no attribute 'initialize'"
     ]
    }
   ],
   "source": [
    "lr_D, lr_G, latent_dim, num_epochs = 0.05, 0.005, 2, 20\n",
    "train(net_D, net_G, data_iter, num_epochs, lr_D, lr_G,\n",
    "      latent_dim, data[:100].numpy())"
   ]
  },
  {
   "cell_type": "markdown",
   "metadata": {},
   "source": [
    "Don't need initialize()\n",
    "https://medium.com/apache-mxnet/mxnet-for-pytorch-users-in-10-minutes-a7353863406a\n",
    "\n",
    "https://mxnet.apache.org/versions/1.6/api/python/docs/api/initializer/index.html#mxnet.initializer.Initializer\n",
    "https://pytorch.org/docs/stable/_modules/torch/nn/init.html#normal_"
   ]
  },
  {
   "cell_type": "code",
   "execution_count": 56,
   "metadata": {},
   "outputs": [],
   "source": [
    "def train(net_D, net_G, data_iter, num_epochs, lr_D, lr_G, latent_dim, data):\n",
    "    loss = nn.BCELoss()\n",
    "    nn.init.normal_(net_D, 0, 0.02)\n",
    "    nn.init.normal_(net_G, 0, 0.02)\n",
    "    trainer_D = torch.optim.Adam(net_D.parameters(), lr=lr_D)\n",
    "    trainer_G = torch.optim.Adam(net_G.parameters(), lr=lr_G)\n",
    "    animator = d2l.Animator(xlabel='epoch', ylabel='loss',\n",
    "                            xlim=[1, num_epochs], nrows=2, figsize=(5, 5),\n",
    "                            legend=['generator', 'discriminator'])\n",
    "    animator.fig.subplots_adjust(hspace=0.3)\n",
    "    for epoch in range(num_epochs):\n",
    "        # Train one epoch\n",
    "        timer = d2l.Timer()\n",
    "        metric = d2l.Accumulator(3)  # loss_D, loss_G, num_examples\n",
    "        for X in data_iter:\n",
    "            batch_size = X.shape[0]\n",
    "            Z = torch.normal(0, 1, size=(batch_size, latent_dim))\n",
    "            metric.add(update_D(X, Z, net_D, net_G, loss, trainer_D),\n",
    "                       update_G(Z, net_D, net_G, loss, trainer_G),\n",
    "                       batch_size)\n",
    "        # Visualize generated examples\n",
    "        Z = torch.normal(0, 1, size=(100, latent_dim))\n",
    "        fake_X = net_G(Z).numpy()\n",
    "        animator.axes[1].cla()\n",
    "        animator.axes[1].scatter(data[:, 0], data[:, 1])\n",
    "        animator.axes[1].scatter(fake_X[:, 0], fake_X[:, 1])\n",
    "        animator.axes[1].legend(['real', 'generated'])\n",
    "        # Show the losses\n",
    "        loss_D, loss_G = metric[0]/metric[2], metric[1]/metric[2]\n",
    "        animator.add(epoch + 1, (loss_D, loss_G))\n",
    "    print(f'loss_D {loss_D:.3f}, loss_G {loss_G:.3f}, '\n",
    "          f'{metric[2] / timer.stop():.1f} examples/sec')"
   ]
  },
  {
   "cell_type": "code",
   "execution_count": 57,
   "metadata": {},
   "outputs": [
    {
     "output_type": "error",
     "ename": "AttributeError",
     "evalue": "'Sequential' object has no attribute 'normal_'",
     "traceback": [
      "\u001b[1;31m---------------------------------------------------------------------------\u001b[0m",
      "\u001b[1;31mAttributeError\u001b[0m                            Traceback (most recent call last)",
      "\u001b[1;32m<ipython-input-57-46803ce9c191>\u001b[0m in \u001b[0;36m<module>\u001b[1;34m\u001b[0m\n\u001b[0;32m      1\u001b[0m \u001b[0mlr_D\u001b[0m\u001b[1;33m,\u001b[0m \u001b[0mlr_G\u001b[0m\u001b[1;33m,\u001b[0m \u001b[0mlatent_dim\u001b[0m\u001b[1;33m,\u001b[0m \u001b[0mnum_epochs\u001b[0m \u001b[1;33m=\u001b[0m \u001b[1;36m0.05\u001b[0m\u001b[1;33m,\u001b[0m \u001b[1;36m0.005\u001b[0m\u001b[1;33m,\u001b[0m \u001b[1;36m2\u001b[0m\u001b[1;33m,\u001b[0m \u001b[1;36m20\u001b[0m\u001b[1;33m\u001b[0m\u001b[1;33m\u001b[0m\u001b[0m\n\u001b[1;32m----> 2\u001b[1;33m train(net_D, net_G, data_iter, num_epochs, lr_D, lr_G,\n\u001b[0m\u001b[0;32m      3\u001b[0m       latent_dim, data[:100].numpy())\n",
      "\u001b[1;32m<ipython-input-56-46717d36f396>\u001b[0m in \u001b[0;36mtrain\u001b[1;34m(net_D, net_G, data_iter, num_epochs, lr_D, lr_G, latent_dim, data)\u001b[0m\n\u001b[0;32m      1\u001b[0m \u001b[1;32mdef\u001b[0m \u001b[0mtrain\u001b[0m\u001b[1;33m(\u001b[0m\u001b[0mnet_D\u001b[0m\u001b[1;33m,\u001b[0m \u001b[0mnet_G\u001b[0m\u001b[1;33m,\u001b[0m \u001b[0mdata_iter\u001b[0m\u001b[1;33m,\u001b[0m \u001b[0mnum_epochs\u001b[0m\u001b[1;33m,\u001b[0m \u001b[0mlr_D\u001b[0m\u001b[1;33m,\u001b[0m \u001b[0mlr_G\u001b[0m\u001b[1;33m,\u001b[0m \u001b[0mlatent_dim\u001b[0m\u001b[1;33m,\u001b[0m \u001b[0mdata\u001b[0m\u001b[1;33m)\u001b[0m\u001b[1;33m:\u001b[0m\u001b[1;33m\u001b[0m\u001b[1;33m\u001b[0m\u001b[0m\n\u001b[0;32m      2\u001b[0m     \u001b[0mloss\u001b[0m \u001b[1;33m=\u001b[0m \u001b[0mnn\u001b[0m\u001b[1;33m.\u001b[0m\u001b[0mBCELoss\u001b[0m\u001b[1;33m(\u001b[0m\u001b[1;33m)\u001b[0m\u001b[1;33m\u001b[0m\u001b[1;33m\u001b[0m\u001b[0m\n\u001b[1;32m----> 3\u001b[1;33m     \u001b[0mnn\u001b[0m\u001b[1;33m.\u001b[0m\u001b[0minit\u001b[0m\u001b[1;33m.\u001b[0m\u001b[0mnormal_\u001b[0m\u001b[1;33m(\u001b[0m\u001b[0mnet_D\u001b[0m\u001b[1;33m,\u001b[0m \u001b[1;36m0\u001b[0m\u001b[1;33m,\u001b[0m \u001b[1;36m0.02\u001b[0m\u001b[1;33m)\u001b[0m\u001b[1;33m\u001b[0m\u001b[1;33m\u001b[0m\u001b[0m\n\u001b[0m\u001b[0;32m      4\u001b[0m     \u001b[0mnn\u001b[0m\u001b[1;33m.\u001b[0m\u001b[0minit\u001b[0m\u001b[1;33m.\u001b[0m\u001b[0mnormal_\u001b[0m\u001b[1;33m(\u001b[0m\u001b[0mnet_G\u001b[0m\u001b[1;33m,\u001b[0m \u001b[1;36m0\u001b[0m\u001b[1;33m,\u001b[0m \u001b[1;36m0.02\u001b[0m\u001b[1;33m)\u001b[0m\u001b[1;33m\u001b[0m\u001b[1;33m\u001b[0m\u001b[0m\n\u001b[0;32m      5\u001b[0m     \u001b[0mtrainer_D\u001b[0m \u001b[1;33m=\u001b[0m \u001b[0mtorch\u001b[0m\u001b[1;33m.\u001b[0m\u001b[0moptim\u001b[0m\u001b[1;33m.\u001b[0m\u001b[0mAdam\u001b[0m\u001b[1;33m(\u001b[0m\u001b[0mnet_D\u001b[0m\u001b[1;33m.\u001b[0m\u001b[0mparameters\u001b[0m\u001b[1;33m(\u001b[0m\u001b[1;33m)\u001b[0m\u001b[1;33m,\u001b[0m \u001b[0mlr\u001b[0m\u001b[1;33m=\u001b[0m\u001b[0mlr_D\u001b[0m\u001b[1;33m)\u001b[0m\u001b[1;33m\u001b[0m\u001b[1;33m\u001b[0m\u001b[0m\n",
      "\u001b[1;32m~\\anaconda3\\envs\\pytorch\\lib\\site-packages\\torch\\nn\\init.py\u001b[0m in \u001b[0;36mnormal_\u001b[1;34m(tensor, mean, std)\u001b[0m\n\u001b[0;32m    103\u001b[0m         \u001b[1;33m>>\u001b[0m\u001b[1;33m>\u001b[0m \u001b[0mnn\u001b[0m\u001b[1;33m.\u001b[0m\u001b[0minit\u001b[0m\u001b[1;33m.\u001b[0m\u001b[0mnormal_\u001b[0m\u001b[1;33m(\u001b[0m\u001b[0mw\u001b[0m\u001b[1;33m)\u001b[0m\u001b[1;33m\u001b[0m\u001b[1;33m\u001b[0m\u001b[0m\n\u001b[0;32m    104\u001b[0m     \"\"\"\n\u001b[1;32m--> 105\u001b[1;33m     \u001b[1;32mreturn\u001b[0m \u001b[0m_no_grad_normal_\u001b[0m\u001b[1;33m(\u001b[0m\u001b[0mtensor\u001b[0m\u001b[1;33m,\u001b[0m \u001b[0mmean\u001b[0m\u001b[1;33m,\u001b[0m \u001b[0mstd\u001b[0m\u001b[1;33m)\u001b[0m\u001b[1;33m\u001b[0m\u001b[1;33m\u001b[0m\u001b[0m\n\u001b[0m\u001b[0;32m    106\u001b[0m \u001b[1;33m\u001b[0m\u001b[0m\n\u001b[0;32m    107\u001b[0m \u001b[1;33m\u001b[0m\u001b[0m\n",
      "\u001b[1;32m~\\anaconda3\\envs\\pytorch\\lib\\site-packages\\torch\\nn\\init.py\u001b[0m in \u001b[0;36m_no_grad_normal_\u001b[1;34m(tensor, mean, std)\u001b[0m\n\u001b[0;32m     17\u001b[0m \u001b[1;32mdef\u001b[0m \u001b[0m_no_grad_normal_\u001b[0m\u001b[1;33m(\u001b[0m\u001b[0mtensor\u001b[0m\u001b[1;33m,\u001b[0m \u001b[0mmean\u001b[0m\u001b[1;33m,\u001b[0m \u001b[0mstd\u001b[0m\u001b[1;33m)\u001b[0m\u001b[1;33m:\u001b[0m\u001b[1;33m\u001b[0m\u001b[1;33m\u001b[0m\u001b[0m\n\u001b[0;32m     18\u001b[0m     \u001b[1;32mwith\u001b[0m \u001b[0mtorch\u001b[0m\u001b[1;33m.\u001b[0m\u001b[0mno_grad\u001b[0m\u001b[1;33m(\u001b[0m\u001b[1;33m)\u001b[0m\u001b[1;33m:\u001b[0m\u001b[1;33m\u001b[0m\u001b[1;33m\u001b[0m\u001b[0m\n\u001b[1;32m---> 19\u001b[1;33m         \u001b[1;32mreturn\u001b[0m \u001b[0mtensor\u001b[0m\u001b[1;33m.\u001b[0m\u001b[0mnormal_\u001b[0m\u001b[1;33m(\u001b[0m\u001b[0mmean\u001b[0m\u001b[1;33m,\u001b[0m \u001b[0mstd\u001b[0m\u001b[1;33m)\u001b[0m\u001b[1;33m\u001b[0m\u001b[1;33m\u001b[0m\u001b[0m\n\u001b[0m\u001b[0;32m     20\u001b[0m \u001b[1;33m\u001b[0m\u001b[0m\n\u001b[0;32m     21\u001b[0m \u001b[1;33m\u001b[0m\u001b[0m\n",
      "\u001b[1;32m~\\anaconda3\\envs\\pytorch\\lib\\site-packages\\torch\\nn\\modules\\module.py\u001b[0m in \u001b[0;36m__getattr__\u001b[1;34m(self, name)\u001b[0m\n\u001b[0;32m    591\u001b[0m             \u001b[1;32mif\u001b[0m \u001b[0mname\u001b[0m \u001b[1;32min\u001b[0m \u001b[0mmodules\u001b[0m\u001b[1;33m:\u001b[0m\u001b[1;33m\u001b[0m\u001b[1;33m\u001b[0m\u001b[0m\n\u001b[0;32m    592\u001b[0m                 \u001b[1;32mreturn\u001b[0m \u001b[0mmodules\u001b[0m\u001b[1;33m[\u001b[0m\u001b[0mname\u001b[0m\u001b[1;33m]\u001b[0m\u001b[1;33m\u001b[0m\u001b[1;33m\u001b[0m\u001b[0m\n\u001b[1;32m--> 593\u001b[1;33m         raise AttributeError(\"'{}' object has no attribute '{}'\".format(\n\u001b[0m\u001b[0;32m    594\u001b[0m             type(self).__name__, name))\n\u001b[0;32m    595\u001b[0m \u001b[1;33m\u001b[0m\u001b[0m\n",
      "\u001b[1;31mAttributeError\u001b[0m: 'Sequential' object has no attribute 'normal_'"
     ]
    }
   ],
   "source": [
    "lr_D, lr_G, latent_dim, num_epochs = 0.05, 0.005, 2, 20\n",
    "train(net_D, net_G, data_iter, num_epochs, lr_D, lr_G,\n",
    "      latent_dim, data[:100].numpy())"
   ]
  },
  {
   "cell_type": "markdown",
   "metadata": {},
   "source": [
    "https://stackoverflow.com/questions/49433936/how-to-initialize-weights-in-pytorch\n",
    "\n",
    "different init method\n",
    "\n",
    "https://discuss.pytorch.org/t/how-to-use-torch-nn-init-normal-with-nn-linear/5828"
   ]
  },
  {
   "cell_type": "code",
   "execution_count": 58,
   "metadata": {},
   "outputs": [],
   "source": [
    "def train(net_D, net_G, data_iter, num_epochs, lr_D, lr_G, latent_dim, data):\n",
    "    loss = nn.BCELoss()\n",
    "    for w in net_D.parameters():\n",
    "        nn.init.normal_(w, 0, 0.02)\n",
    "    for w in net_G.parameters():\n",
    "        nn.init.normal_(w, 0, 0.02)\n",
    "    trainer_D = torch.optim.Adam(net_D.parameters(), lr=lr_D)\n",
    "    trainer_G = torch.optim.Adam(net_G.parameters(), lr=lr_G)\n",
    "    animator = d2l.Animator(xlabel='epoch', ylabel='loss',\n",
    "                            xlim=[1, num_epochs], nrows=2, figsize=(5, 5),\n",
    "                            legend=['generator', 'discriminator'])\n",
    "    animator.fig.subplots_adjust(hspace=0.3)\n",
    "    for epoch in range(num_epochs):\n",
    "        # Train one epoch\n",
    "        timer = d2l.Timer()\n",
    "        metric = d2l.Accumulator(3)  # loss_D, loss_G, num_examples\n",
    "        for X in data_iter:\n",
    "            batch_size = X.shape[0]\n",
    "            Z = torch.normal(0, 1, size=(batch_size, latent_dim))\n",
    "            metric.add(update_D(X, Z, net_D, net_G, loss, trainer_D),\n",
    "                       update_G(Z, net_D, net_G, loss, trainer_G),\n",
    "                       batch_size)\n",
    "        # Visualize generated examples\n",
    "        Z = torch.normal(0, 1, size=(100, latent_dim))\n",
    "        fake_X = net_G(Z).numpy()\n",
    "        animator.axes[1].cla()\n",
    "        animator.axes[1].scatter(data[:, 0], data[:, 1])\n",
    "        animator.axes[1].scatter(fake_X[:, 0], fake_X[:, 1])\n",
    "        animator.axes[1].legend(['real', 'generated'])\n",
    "        # Show the losses\n",
    "        loss_D, loss_G = metric[0]/metric[2], metric[1]/metric[2]\n",
    "        animator.add(epoch + 1, (loss_D, loss_G))\n",
    "    print(f'loss_D {loss_D:.3f}, loss_G {loss_G:.3f}, '\n",
    "          f'{metric[2] / timer.stop():.1f} examples/sec')"
   ]
  },
  {
   "cell_type": "code",
   "execution_count": 59,
   "metadata": {},
   "outputs": [
    {
     "output_type": "error",
     "ename": "AttributeError",
     "evalue": "'list' object has no attribute 'shape'",
     "traceback": [
      "\u001b[1;31m---------------------------------------------------------------------------\u001b[0m",
      "\u001b[1;31mAttributeError\u001b[0m                            Traceback (most recent call last)",
      "\u001b[1;32m<ipython-input-59-46803ce9c191>\u001b[0m in \u001b[0;36m<module>\u001b[1;34m\u001b[0m\n\u001b[0;32m      1\u001b[0m \u001b[0mlr_D\u001b[0m\u001b[1;33m,\u001b[0m \u001b[0mlr_G\u001b[0m\u001b[1;33m,\u001b[0m \u001b[0mlatent_dim\u001b[0m\u001b[1;33m,\u001b[0m \u001b[0mnum_epochs\u001b[0m \u001b[1;33m=\u001b[0m \u001b[1;36m0.05\u001b[0m\u001b[1;33m,\u001b[0m \u001b[1;36m0.005\u001b[0m\u001b[1;33m,\u001b[0m \u001b[1;36m2\u001b[0m\u001b[1;33m,\u001b[0m \u001b[1;36m20\u001b[0m\u001b[1;33m\u001b[0m\u001b[1;33m\u001b[0m\u001b[0m\n\u001b[1;32m----> 2\u001b[1;33m train(net_D, net_G, data_iter, num_epochs, lr_D, lr_G,\n\u001b[0m\u001b[0;32m      3\u001b[0m       latent_dim, data[:100].numpy())\n",
      "\u001b[1;32m<ipython-input-58-de749b49e1c1>\u001b[0m in \u001b[0;36mtrain\u001b[1;34m(net_D, net_G, data_iter, num_epochs, lr_D, lr_G, latent_dim, data)\u001b[0m\n\u001b[0;32m     16\u001b[0m         \u001b[0mmetric\u001b[0m \u001b[1;33m=\u001b[0m \u001b[0md2l\u001b[0m\u001b[1;33m.\u001b[0m\u001b[0mAccumulator\u001b[0m\u001b[1;33m(\u001b[0m\u001b[1;36m3\u001b[0m\u001b[1;33m)\u001b[0m  \u001b[1;31m# loss_D, loss_G, num_examples\u001b[0m\u001b[1;33m\u001b[0m\u001b[1;33m\u001b[0m\u001b[0m\n\u001b[0;32m     17\u001b[0m         \u001b[1;32mfor\u001b[0m \u001b[0mX\u001b[0m \u001b[1;32min\u001b[0m \u001b[0mdata_iter\u001b[0m\u001b[1;33m:\u001b[0m\u001b[1;33m\u001b[0m\u001b[1;33m\u001b[0m\u001b[0m\n\u001b[1;32m---> 18\u001b[1;33m             \u001b[0mbatch_size\u001b[0m \u001b[1;33m=\u001b[0m \u001b[0mX\u001b[0m\u001b[1;33m.\u001b[0m\u001b[0mshape\u001b[0m\u001b[1;33m[\u001b[0m\u001b[1;36m0\u001b[0m\u001b[1;33m]\u001b[0m\u001b[1;33m\u001b[0m\u001b[1;33m\u001b[0m\u001b[0m\n\u001b[0m\u001b[0;32m     19\u001b[0m             \u001b[0mZ\u001b[0m \u001b[1;33m=\u001b[0m \u001b[0mtorch\u001b[0m\u001b[1;33m.\u001b[0m\u001b[0mnormal\u001b[0m\u001b[1;33m(\u001b[0m\u001b[1;36m0\u001b[0m\u001b[1;33m,\u001b[0m \u001b[1;36m1\u001b[0m\u001b[1;33m,\u001b[0m \u001b[0msize\u001b[0m\u001b[1;33m=\u001b[0m\u001b[1;33m(\u001b[0m\u001b[0mbatch_size\u001b[0m\u001b[1;33m,\u001b[0m \u001b[0mlatent_dim\u001b[0m\u001b[1;33m)\u001b[0m\u001b[1;33m)\u001b[0m\u001b[1;33m\u001b[0m\u001b[1;33m\u001b[0m\u001b[0m\n\u001b[0;32m     20\u001b[0m             metric.add(update_D(X, Z, net_D, net_G, loss, trainer_D),\n",
      "\u001b[1;31mAttributeError\u001b[0m: 'list' object has no attribute 'shape'"
     ]
    }
   ],
   "source": [
    "lr_D, lr_G, latent_dim, num_epochs = 0.05, 0.005, 2, 20\n",
    "train(net_D, net_G, data_iter, num_epochs, lr_D, lr_G,\n",
    "      latent_dim, data[:100].numpy())"
   ]
  },
  {
   "cell_type": "markdown",
   "metadata": {},
   "source": [
    "https://blog.csdn.net/weixin_38648232/article/details/85084020\n",
    "\n",
    "改为size()：https://blog.csdn.net/a738833592/article/details/83785799"
   ]
  },
  {
   "cell_type": "code",
   "execution_count": 60,
   "metadata": {},
   "outputs": [],
   "source": [
    "def train(net_D, net_G, data_iter, num_epochs, lr_D, lr_G, latent_dim, data):\n",
    "    loss = nn.BCELoss()\n",
    "    for w in net_D.parameters():\n",
    "        nn.init.normal_(w, 0, 0.02)\n",
    "    for w in net_G.parameters():\n",
    "        nn.init.normal_(w, 0, 0.02)\n",
    "    trainer_D = torch.optim.Adam(net_D.parameters(), lr=lr_D)\n",
    "    trainer_G = torch.optim.Adam(net_G.parameters(), lr=lr_G)\n",
    "    animator = d2l.Animator(xlabel='epoch', ylabel='loss',\n",
    "                            xlim=[1, num_epochs], nrows=2, figsize=(5, 5),\n",
    "                            legend=['generator', 'discriminator'])\n",
    "    animator.fig.subplots_adjust(hspace=0.3)\n",
    "    for epoch in range(num_epochs):\n",
    "        # Train one epoch\n",
    "        timer = d2l.Timer()\n",
    "        metric = d2l.Accumulator(3)  # loss_D, loss_G, num_examples\n",
    "        for X in data_iter:\n",
    "            batch_size = X.size[0]\n",
    "            Z = torch.normal(0, 1, size=(batch_size, latent_dim))\n",
    "            metric.add(update_D(X, Z, net_D, net_G, loss, trainer_D),\n",
    "                       update_G(Z, net_D, net_G, loss, trainer_G),\n",
    "                       batch_size)\n",
    "        # Visualize generated examples\n",
    "        Z = torch.normal(0, 1, size=(100, latent_dim))\n",
    "        fake_X = net_G(Z).numpy()\n",
    "        animator.axes[1].cla()\n",
    "        animator.axes[1].scatter(data[:, 0], data[:, 1])\n",
    "        animator.axes[1].scatter(fake_X[:, 0], fake_X[:, 1])\n",
    "        animator.axes[1].legend(['real', 'generated'])\n",
    "        # Show the losses\n",
    "        loss_D, loss_G = metric[0]/metric[2], metric[1]/metric[2]\n",
    "        animator.add(epoch + 1, (loss_D, loss_G))\n",
    "    print(f'loss_D {loss_D:.3f}, loss_G {loss_G:.3f}, '\n",
    "          f'{metric[2] / timer.stop():.1f} examples/sec')"
   ]
  },
  {
   "cell_type": "code",
   "execution_count": 61,
   "metadata": {},
   "outputs": [
    {
     "output_type": "error",
     "ename": "AttributeError",
     "evalue": "'list' object has no attribute 'size'",
     "traceback": [
      "\u001b[1;31m---------------------------------------------------------------------------\u001b[0m",
      "\u001b[1;31mAttributeError\u001b[0m                            Traceback (most recent call last)",
      "\u001b[1;32m<ipython-input-61-46803ce9c191>\u001b[0m in \u001b[0;36m<module>\u001b[1;34m\u001b[0m\n\u001b[0;32m      1\u001b[0m \u001b[0mlr_D\u001b[0m\u001b[1;33m,\u001b[0m \u001b[0mlr_G\u001b[0m\u001b[1;33m,\u001b[0m \u001b[0mlatent_dim\u001b[0m\u001b[1;33m,\u001b[0m \u001b[0mnum_epochs\u001b[0m \u001b[1;33m=\u001b[0m \u001b[1;36m0.05\u001b[0m\u001b[1;33m,\u001b[0m \u001b[1;36m0.005\u001b[0m\u001b[1;33m,\u001b[0m \u001b[1;36m2\u001b[0m\u001b[1;33m,\u001b[0m \u001b[1;36m20\u001b[0m\u001b[1;33m\u001b[0m\u001b[1;33m\u001b[0m\u001b[0m\n\u001b[1;32m----> 2\u001b[1;33m train(net_D, net_G, data_iter, num_epochs, lr_D, lr_G,\n\u001b[0m\u001b[0;32m      3\u001b[0m       latent_dim, data[:100].numpy())\n",
      "\u001b[1;32m<ipython-input-60-2d36483818f6>\u001b[0m in \u001b[0;36mtrain\u001b[1;34m(net_D, net_G, data_iter, num_epochs, lr_D, lr_G, latent_dim, data)\u001b[0m\n\u001b[0;32m     16\u001b[0m         \u001b[0mmetric\u001b[0m \u001b[1;33m=\u001b[0m \u001b[0md2l\u001b[0m\u001b[1;33m.\u001b[0m\u001b[0mAccumulator\u001b[0m\u001b[1;33m(\u001b[0m\u001b[1;36m3\u001b[0m\u001b[1;33m)\u001b[0m  \u001b[1;31m# loss_D, loss_G, num_examples\u001b[0m\u001b[1;33m\u001b[0m\u001b[1;33m\u001b[0m\u001b[0m\n\u001b[0;32m     17\u001b[0m         \u001b[1;32mfor\u001b[0m \u001b[0mX\u001b[0m \u001b[1;32min\u001b[0m \u001b[0mdata_iter\u001b[0m\u001b[1;33m:\u001b[0m\u001b[1;33m\u001b[0m\u001b[1;33m\u001b[0m\u001b[0m\n\u001b[1;32m---> 18\u001b[1;33m             \u001b[0mbatch_size\u001b[0m \u001b[1;33m=\u001b[0m \u001b[0mX\u001b[0m\u001b[1;33m.\u001b[0m\u001b[0msize\u001b[0m\u001b[1;33m[\u001b[0m\u001b[1;36m0\u001b[0m\u001b[1;33m]\u001b[0m\u001b[1;33m\u001b[0m\u001b[1;33m\u001b[0m\u001b[0m\n\u001b[0m\u001b[0;32m     19\u001b[0m             \u001b[0mZ\u001b[0m \u001b[1;33m=\u001b[0m \u001b[0mtorch\u001b[0m\u001b[1;33m.\u001b[0m\u001b[0mnormal\u001b[0m\u001b[1;33m(\u001b[0m\u001b[1;36m0\u001b[0m\u001b[1;33m,\u001b[0m \u001b[1;36m1\u001b[0m\u001b[1;33m,\u001b[0m \u001b[0msize\u001b[0m\u001b[1;33m=\u001b[0m\u001b[1;33m(\u001b[0m\u001b[0mbatch_size\u001b[0m\u001b[1;33m,\u001b[0m \u001b[0mlatent_dim\u001b[0m\u001b[1;33m)\u001b[0m\u001b[1;33m)\u001b[0m\u001b[1;33m\u001b[0m\u001b[1;33m\u001b[0m\u001b[0m\n\u001b[0;32m     20\u001b[0m             metric.add(update_D(X, Z, net_D, net_G, loss, trainer_D),\n",
      "\u001b[1;31mAttributeError\u001b[0m: 'list' object has no attribute 'size'"
     ]
    }
   ],
   "source": [
    "lr_D, lr_G, latent_dim, num_epochs = 0.05, 0.005, 2, 20\n",
    "train(net_D, net_G, data_iter, num_epochs, lr_D, lr_G,\n",
    "      latent_dim, data[:100].numpy())"
   ]
  },
  {
   "cell_type": "markdown",
   "metadata": {},
   "source": [
    "X=Variable(X)\n",
    "https://www.pythonf.cn/read/33854"
   ]
  },
  {
   "cell_type": "code",
   "execution_count": 62,
   "metadata": {},
   "outputs": [],
   "source": [
    "def train(net_D, net_G, data_iter, num_epochs, lr_D, lr_G, latent_dim, data):\n",
    "    loss = nn.BCELoss()\n",
    "    for w in net_D.parameters():\n",
    "        nn.init.normal_(w, 0, 0.02)\n",
    "    for w in net_G.parameters():\n",
    "        nn.init.normal_(w, 0, 0.02)\n",
    "    trainer_D = torch.optim.Adam(net_D.parameters(), lr=lr_D)\n",
    "    trainer_G = torch.optim.Adam(net_G.parameters(), lr=lr_G)\n",
    "    animator = d2l.Animator(xlabel='epoch', ylabel='loss',\n",
    "                            xlim=[1, num_epochs], nrows=2, figsize=(5, 5),\n",
    "                            legend=['generator', 'discriminator'])\n",
    "    animator.fig.subplots_adjust(hspace=0.3)\n",
    "    for epoch in range(num_epochs):\n",
    "        # Train one epoch\n",
    "        timer = d2l.Timer()\n",
    "        metric = d2l.Accumulator(3)  # loss_D, loss_G, num_examples\n",
    "        for X in data_iter:\n",
    "            X=Variable(X)\n",
    "            batch_size = X.shape[0]\n",
    "            Z = torch.normal(0, 1, size=(batch_size, latent_dim))\n",
    "            metric.add(update_D(X, Z, net_D, net_G, loss, trainer_D),\n",
    "                       update_G(Z, net_D, net_G, loss, trainer_G),\n",
    "                       batch_size)\n",
    "        # Visualize generated examples\n",
    "        Z = torch.normal(0, 1, size=(100, latent_dim))\n",
    "        fake_X = net_G(Z).numpy()\n",
    "        animator.axes[1].cla()\n",
    "        animator.axes[1].scatter(data[:, 0], data[:, 1])\n",
    "        animator.axes[1].scatter(fake_X[:, 0], fake_X[:, 1])\n",
    "        animator.axes[1].legend(['real', 'generated'])\n",
    "        # Show the losses\n",
    "        loss_D, loss_G = metric[0]/metric[2], metric[1]/metric[2]\n",
    "        animator.add(epoch + 1, (loss_D, loss_G))\n",
    "    print(f'loss_D {loss_D:.3f}, loss_G {loss_G:.3f}, '\n",
    "          f'{metric[2] / timer.stop():.1f} examples/sec')"
   ]
  },
  {
   "cell_type": "code",
   "execution_count": 63,
   "metadata": {},
   "outputs": [
    {
     "output_type": "error",
     "ename": "NameError",
     "evalue": "name 'Variable' is not defined",
     "traceback": [
      "\u001b[1;31m---------------------------------------------------------------------------\u001b[0m",
      "\u001b[1;31mNameError\u001b[0m                                 Traceback (most recent call last)",
      "\u001b[1;32m<ipython-input-63-46803ce9c191>\u001b[0m in \u001b[0;36m<module>\u001b[1;34m\u001b[0m\n\u001b[0;32m      1\u001b[0m \u001b[0mlr_D\u001b[0m\u001b[1;33m,\u001b[0m \u001b[0mlr_G\u001b[0m\u001b[1;33m,\u001b[0m \u001b[0mlatent_dim\u001b[0m\u001b[1;33m,\u001b[0m \u001b[0mnum_epochs\u001b[0m \u001b[1;33m=\u001b[0m \u001b[1;36m0.05\u001b[0m\u001b[1;33m,\u001b[0m \u001b[1;36m0.005\u001b[0m\u001b[1;33m,\u001b[0m \u001b[1;36m2\u001b[0m\u001b[1;33m,\u001b[0m \u001b[1;36m20\u001b[0m\u001b[1;33m\u001b[0m\u001b[1;33m\u001b[0m\u001b[0m\n\u001b[1;32m----> 2\u001b[1;33m train(net_D, net_G, data_iter, num_epochs, lr_D, lr_G,\n\u001b[0m\u001b[0;32m      3\u001b[0m       latent_dim, data[:100].numpy())\n",
      "\u001b[1;32m<ipython-input-62-a330d9ff6bd2>\u001b[0m in \u001b[0;36mtrain\u001b[1;34m(net_D, net_G, data_iter, num_epochs, lr_D, lr_G, latent_dim, data)\u001b[0m\n\u001b[0;32m     16\u001b[0m         \u001b[0mmetric\u001b[0m \u001b[1;33m=\u001b[0m \u001b[0md2l\u001b[0m\u001b[1;33m.\u001b[0m\u001b[0mAccumulator\u001b[0m\u001b[1;33m(\u001b[0m\u001b[1;36m3\u001b[0m\u001b[1;33m)\u001b[0m  \u001b[1;31m# loss_D, loss_G, num_examples\u001b[0m\u001b[1;33m\u001b[0m\u001b[1;33m\u001b[0m\u001b[0m\n\u001b[0;32m     17\u001b[0m         \u001b[1;32mfor\u001b[0m \u001b[0mX\u001b[0m \u001b[1;32min\u001b[0m \u001b[0mdata_iter\u001b[0m\u001b[1;33m:\u001b[0m\u001b[1;33m\u001b[0m\u001b[1;33m\u001b[0m\u001b[0m\n\u001b[1;32m---> 18\u001b[1;33m             \u001b[0mX\u001b[0m\u001b[1;33m=\u001b[0m\u001b[0mVariable\u001b[0m\u001b[1;33m(\u001b[0m\u001b[0mX\u001b[0m\u001b[1;33m)\u001b[0m\u001b[1;33m\u001b[0m\u001b[1;33m\u001b[0m\u001b[0m\n\u001b[0m\u001b[0;32m     19\u001b[0m             \u001b[0mbatch_size\u001b[0m \u001b[1;33m=\u001b[0m \u001b[0mX\u001b[0m\u001b[1;33m.\u001b[0m\u001b[0mshape\u001b[0m\u001b[1;33m[\u001b[0m\u001b[1;36m0\u001b[0m\u001b[1;33m]\u001b[0m\u001b[1;33m\u001b[0m\u001b[1;33m\u001b[0m\u001b[0m\n\u001b[0;32m     20\u001b[0m             \u001b[0mZ\u001b[0m \u001b[1;33m=\u001b[0m \u001b[0mtorch\u001b[0m\u001b[1;33m.\u001b[0m\u001b[0mnormal\u001b[0m\u001b[1;33m(\u001b[0m\u001b[1;36m0\u001b[0m\u001b[1;33m,\u001b[0m \u001b[1;36m1\u001b[0m\u001b[1;33m,\u001b[0m \u001b[0msize\u001b[0m\u001b[1;33m=\u001b[0m\u001b[1;33m(\u001b[0m\u001b[0mbatch_size\u001b[0m\u001b[1;33m,\u001b[0m \u001b[0mlatent_dim\u001b[0m\u001b[1;33m)\u001b[0m\u001b[1;33m)\u001b[0m\u001b[1;33m\u001b[0m\u001b[1;33m\u001b[0m\u001b[0m\n",
      "\u001b[1;31mNameError\u001b[0m: name 'Variable' is not defined"
     ]
    }
   ],
   "source": [
    "lr_D, lr_G, latent_dim, num_epochs = 0.05, 0.005, 2, 20\n",
    "train(net_D, net_G, data_iter, num_epochs, lr_D, lr_G,\n",
    "      latent_dim, data[:100].numpy())"
   ]
  },
  {
   "cell_type": "markdown",
   "metadata": {},
   "source": [
    "https://discuss.pytorch.org/t/best-way-to-convert-a-list-to-a-tensor/59949"
   ]
  },
  {
   "cell_type": "code",
   "execution_count": 64,
   "metadata": {},
   "outputs": [],
   "source": [
    "def train(net_D, net_G, data_iter, num_epochs, lr_D, lr_G, latent_dim, data):\n",
    "    loss = nn.BCELoss()\n",
    "    for w in net_D.parameters():\n",
    "        nn.init.normal_(w, 0, 0.02)\n",
    "    for w in net_G.parameters():\n",
    "        nn.init.normal_(w, 0, 0.02)\n",
    "    trainer_D = torch.optim.Adam(net_D.parameters(), lr=lr_D)\n",
    "    trainer_G = torch.optim.Adam(net_G.parameters(), lr=lr_G)\n",
    "    animator = d2l.Animator(xlabel='epoch', ylabel='loss',\n",
    "                            xlim=[1, num_epochs], nrows=2, figsize=(5, 5),\n",
    "                            legend=['generator', 'discriminator'])\n",
    "    animator.fig.subplots_adjust(hspace=0.3)\n",
    "    for epoch in range(num_epochs):\n",
    "        # Train one epoch\n",
    "        timer = d2l.Timer()\n",
    "        metric = d2l.Accumulator(3)  # loss_D, loss_G, num_examples\n",
    "        for X in data_iter:\n",
    "            X = torch.FloatTensor(X)\n",
    "            batch_size = X.shape[0]\n",
    "            Z = torch.normal(0, 1, size=(batch_size, latent_dim))\n",
    "            metric.add(update_D(X, Z, net_D, net_G, loss, trainer_D),\n",
    "                       update_G(Z, net_D, net_G, loss, trainer_G),\n",
    "                       batch_size)\n",
    "        # Visualize generated examples\n",
    "        Z = torch.normal(0, 1, size=(100, latent_dim))\n",
    "        fake_X = net_G(Z).numpy()\n",
    "        animator.axes[1].cla()\n",
    "        animator.axes[1].scatter(data[:, 0], data[:, 1])\n",
    "        animator.axes[1].scatter(fake_X[:, 0], fake_X[:, 1])\n",
    "        animator.axes[1].legend(['real', 'generated'])\n",
    "        # Show the losses\n",
    "        loss_D, loss_G = metric[0]/metric[2], metric[1]/metric[2]\n",
    "        animator.add(epoch + 1, (loss_D, loss_G))\n",
    "    print(f'loss_D {loss_D:.3f}, loss_G {loss_G:.3f}, '\n",
    "          f'{metric[2] / timer.stop():.1f} examples/sec')"
   ]
  },
  {
   "cell_type": "code",
   "execution_count": 65,
   "metadata": {},
   "outputs": [
    {
     "output_type": "error",
     "ename": "ValueError",
     "evalue": "only one element tensors can be converted to Python scalars",
     "traceback": [
      "\u001b[1;31m---------------------------------------------------------------------------\u001b[0m",
      "\u001b[1;31mValueError\u001b[0m                                Traceback (most recent call last)",
      "\u001b[1;32m<ipython-input-65-46803ce9c191>\u001b[0m in \u001b[0;36m<module>\u001b[1;34m\u001b[0m\n\u001b[0;32m      1\u001b[0m \u001b[0mlr_D\u001b[0m\u001b[1;33m,\u001b[0m \u001b[0mlr_G\u001b[0m\u001b[1;33m,\u001b[0m \u001b[0mlatent_dim\u001b[0m\u001b[1;33m,\u001b[0m \u001b[0mnum_epochs\u001b[0m \u001b[1;33m=\u001b[0m \u001b[1;36m0.05\u001b[0m\u001b[1;33m,\u001b[0m \u001b[1;36m0.005\u001b[0m\u001b[1;33m,\u001b[0m \u001b[1;36m2\u001b[0m\u001b[1;33m,\u001b[0m \u001b[1;36m20\u001b[0m\u001b[1;33m\u001b[0m\u001b[1;33m\u001b[0m\u001b[0m\n\u001b[1;32m----> 2\u001b[1;33m train(net_D, net_G, data_iter, num_epochs, lr_D, lr_G,\n\u001b[0m\u001b[0;32m      3\u001b[0m       latent_dim, data[:100].numpy())\n",
      "\u001b[1;32m<ipython-input-64-42121a8ebac0>\u001b[0m in \u001b[0;36mtrain\u001b[1;34m(net_D, net_G, data_iter, num_epochs, lr_D, lr_G, latent_dim, data)\u001b[0m\n\u001b[0;32m     16\u001b[0m         \u001b[0mmetric\u001b[0m \u001b[1;33m=\u001b[0m \u001b[0md2l\u001b[0m\u001b[1;33m.\u001b[0m\u001b[0mAccumulator\u001b[0m\u001b[1;33m(\u001b[0m\u001b[1;36m3\u001b[0m\u001b[1;33m)\u001b[0m  \u001b[1;31m# loss_D, loss_G, num_examples\u001b[0m\u001b[1;33m\u001b[0m\u001b[1;33m\u001b[0m\u001b[0m\n\u001b[0;32m     17\u001b[0m         \u001b[1;32mfor\u001b[0m \u001b[0mX\u001b[0m \u001b[1;32min\u001b[0m \u001b[0mdata_iter\u001b[0m\u001b[1;33m:\u001b[0m\u001b[1;33m\u001b[0m\u001b[1;33m\u001b[0m\u001b[0m\n\u001b[1;32m---> 18\u001b[1;33m             \u001b[0mX\u001b[0m \u001b[1;33m=\u001b[0m \u001b[0mtorch\u001b[0m\u001b[1;33m.\u001b[0m\u001b[0mFloatTensor\u001b[0m\u001b[1;33m(\u001b[0m\u001b[0mX\u001b[0m\u001b[1;33m)\u001b[0m\u001b[1;33m\u001b[0m\u001b[1;33m\u001b[0m\u001b[0m\n\u001b[0m\u001b[0;32m     19\u001b[0m             \u001b[0mbatch_size\u001b[0m \u001b[1;33m=\u001b[0m \u001b[0mX\u001b[0m\u001b[1;33m.\u001b[0m\u001b[0mshape\u001b[0m\u001b[1;33m[\u001b[0m\u001b[1;36m0\u001b[0m\u001b[1;33m]\u001b[0m\u001b[1;33m\u001b[0m\u001b[1;33m\u001b[0m\u001b[0m\n\u001b[0;32m     20\u001b[0m             \u001b[0mZ\u001b[0m \u001b[1;33m=\u001b[0m \u001b[0mtorch\u001b[0m\u001b[1;33m.\u001b[0m\u001b[0mnormal\u001b[0m\u001b[1;33m(\u001b[0m\u001b[1;36m0\u001b[0m\u001b[1;33m,\u001b[0m \u001b[1;36m1\u001b[0m\u001b[1;33m,\u001b[0m \u001b[0msize\u001b[0m\u001b[1;33m=\u001b[0m\u001b[1;33m(\u001b[0m\u001b[0mbatch_size\u001b[0m\u001b[1;33m,\u001b[0m \u001b[0mlatent_dim\u001b[0m\u001b[1;33m)\u001b[0m\u001b[1;33m)\u001b[0m\u001b[1;33m\u001b[0m\u001b[1;33m\u001b[0m\u001b[0m\n",
      "\u001b[1;31mValueError\u001b[0m: only one element tensors can be converted to Python scalars"
     ]
    }
   ],
   "source": [
    "lr_D, lr_G, latent_dim, num_epochs = 0.05, 0.005, 2, 20\n",
    "train(net_D, net_G, data_iter, num_epochs, lr_D, lr_G,\n",
    "      latent_dim, data[:100].numpy())"
   ]
  },
  {
   "cell_type": "markdown",
   "metadata": {},
   "source": [
    "https://www.pythonf.cn/read/33854"
   ]
  },
  {
   "cell_type": "code",
   "execution_count": 66,
   "metadata": {},
   "outputs": [],
   "source": [
    "from torch.autograd import Variable"
   ]
  },
  {
   "cell_type": "code",
   "execution_count": 67,
   "metadata": {},
   "outputs": [],
   "source": [
    "def train(net_D, net_G, data_iter, num_epochs, lr_D, lr_G, latent_dim, data):\n",
    "    loss = nn.BCELoss()\n",
    "    for w in net_D.parameters():\n",
    "        nn.init.normal_(w, 0, 0.02)\n",
    "    for w in net_G.parameters():\n",
    "        nn.init.normal_(w, 0, 0.02)\n",
    "    trainer_D = torch.optim.Adam(net_D.parameters(), lr=lr_D)\n",
    "    trainer_G = torch.optim.Adam(net_G.parameters(), lr=lr_G)\n",
    "    animator = d2l.Animator(xlabel='epoch', ylabel='loss',\n",
    "                            xlim=[1, num_epochs], nrows=2, figsize=(5, 5),\n",
    "                            legend=['generator', 'discriminator'])\n",
    "    animator.fig.subplots_adjust(hspace=0.3)\n",
    "    for epoch in range(num_epochs):\n",
    "        # Train one epoch\n",
    "        timer = d2l.Timer()\n",
    "        metric = d2l.Accumulator(3)  # loss_D, loss_G, num_examples\n",
    "        for X in data_iter:\n",
    "            X = Variable(X)\n",
    "            batch_size = X.shape[0]\n",
    "            Z = torch.normal(0, 1, size=(batch_size, latent_dim))\n",
    "            metric.add(update_D(X, Z, net_D, net_G, loss, trainer_D),\n",
    "                       update_G(Z, net_D, net_G, loss, trainer_G),\n",
    "                       batch_size)\n",
    "        # Visualize generated examples\n",
    "        Z = torch.normal(0, 1, size=(100, latent_dim))\n",
    "        fake_X = net_G(Z).numpy()\n",
    "        animator.axes[1].cla()\n",
    "        animator.axes[1].scatter(data[:, 0], data[:, 1])\n",
    "        animator.axes[1].scatter(fake_X[:, 0], fake_X[:, 1])\n",
    "        animator.axes[1].legend(['real', 'generated'])\n",
    "        # Show the losses\n",
    "        loss_D, loss_G = metric[0]/metric[2], metric[1]/metric[2]\n",
    "        animator.add(epoch + 1, (loss_D, loss_G))\n",
    "    print(f'loss_D {loss_D:.3f}, loss_G {loss_G:.3f}, '\n",
    "          f'{metric[2] / timer.stop():.1f} examples/sec')"
   ]
  },
  {
   "cell_type": "code",
   "execution_count": 68,
   "metadata": {},
   "outputs": [
    {
     "output_type": "error",
     "ename": "TypeError",
     "evalue": "Variable data has to be a tensor, but got list",
     "traceback": [
      "\u001b[1;31m---------------------------------------------------------------------------\u001b[0m",
      "\u001b[1;31mTypeError\u001b[0m                                 Traceback (most recent call last)",
      "\u001b[1;32m<ipython-input-68-46803ce9c191>\u001b[0m in \u001b[0;36m<module>\u001b[1;34m\u001b[0m\n\u001b[0;32m      1\u001b[0m \u001b[0mlr_D\u001b[0m\u001b[1;33m,\u001b[0m \u001b[0mlr_G\u001b[0m\u001b[1;33m,\u001b[0m \u001b[0mlatent_dim\u001b[0m\u001b[1;33m,\u001b[0m \u001b[0mnum_epochs\u001b[0m \u001b[1;33m=\u001b[0m \u001b[1;36m0.05\u001b[0m\u001b[1;33m,\u001b[0m \u001b[1;36m0.005\u001b[0m\u001b[1;33m,\u001b[0m \u001b[1;36m2\u001b[0m\u001b[1;33m,\u001b[0m \u001b[1;36m20\u001b[0m\u001b[1;33m\u001b[0m\u001b[1;33m\u001b[0m\u001b[0m\n\u001b[1;32m----> 2\u001b[1;33m train(net_D, net_G, data_iter, num_epochs, lr_D, lr_G,\n\u001b[0m\u001b[0;32m      3\u001b[0m       latent_dim, data[:100].numpy())\n",
      "\u001b[1;32m<ipython-input-67-af00191c3363>\u001b[0m in \u001b[0;36mtrain\u001b[1;34m(net_D, net_G, data_iter, num_epochs, lr_D, lr_G, latent_dim, data)\u001b[0m\n\u001b[0;32m     16\u001b[0m         \u001b[0mmetric\u001b[0m \u001b[1;33m=\u001b[0m \u001b[0md2l\u001b[0m\u001b[1;33m.\u001b[0m\u001b[0mAccumulator\u001b[0m\u001b[1;33m(\u001b[0m\u001b[1;36m3\u001b[0m\u001b[1;33m)\u001b[0m  \u001b[1;31m# loss_D, loss_G, num_examples\u001b[0m\u001b[1;33m\u001b[0m\u001b[1;33m\u001b[0m\u001b[0m\n\u001b[0;32m     17\u001b[0m         \u001b[1;32mfor\u001b[0m \u001b[0mX\u001b[0m \u001b[1;32min\u001b[0m \u001b[0mdata_iter\u001b[0m\u001b[1;33m:\u001b[0m\u001b[1;33m\u001b[0m\u001b[1;33m\u001b[0m\u001b[0m\n\u001b[1;32m---> 18\u001b[1;33m             \u001b[0mX\u001b[0m \u001b[1;33m=\u001b[0m \u001b[0mVariable\u001b[0m\u001b[1;33m(\u001b[0m\u001b[0mX\u001b[0m\u001b[1;33m)\u001b[0m\u001b[1;33m\u001b[0m\u001b[1;33m\u001b[0m\u001b[0m\n\u001b[0m\u001b[0;32m     19\u001b[0m             \u001b[0mbatch_size\u001b[0m \u001b[1;33m=\u001b[0m \u001b[0mX\u001b[0m\u001b[1;33m.\u001b[0m\u001b[0mshape\u001b[0m\u001b[1;33m[\u001b[0m\u001b[1;36m0\u001b[0m\u001b[1;33m]\u001b[0m\u001b[1;33m\u001b[0m\u001b[1;33m\u001b[0m\u001b[0m\n\u001b[0;32m     20\u001b[0m             \u001b[0mZ\u001b[0m \u001b[1;33m=\u001b[0m \u001b[0mtorch\u001b[0m\u001b[1;33m.\u001b[0m\u001b[0mnormal\u001b[0m\u001b[1;33m(\u001b[0m\u001b[1;36m0\u001b[0m\u001b[1;33m,\u001b[0m \u001b[1;36m1\u001b[0m\u001b[1;33m,\u001b[0m \u001b[0msize\u001b[0m\u001b[1;33m=\u001b[0m\u001b[1;33m(\u001b[0m\u001b[0mbatch_size\u001b[0m\u001b[1;33m,\u001b[0m \u001b[0mlatent_dim\u001b[0m\u001b[1;33m)\u001b[0m\u001b[1;33m)\u001b[0m\u001b[1;33m\u001b[0m\u001b[1;33m\u001b[0m\u001b[0m\n",
      "\u001b[1;31mTypeError\u001b[0m: Variable data has to be a tensor, but got list"
     ]
    }
   ],
   "source": [
    "lr_D, lr_G, latent_dim, num_epochs = 0.05, 0.005, 2, 20\n",
    "train(net_D, net_G, data_iter, num_epochs, lr_D, lr_G,\n",
    "      latent_dim, data[:100].numpy())"
   ]
  },
  {
   "cell_type": "code",
   "execution_count": 69,
   "metadata": {},
   "outputs": [
    {
     "output_type": "error",
     "ename": "NameError",
     "evalue": "name 'DataLoader' is not defined",
     "traceback": [
      "\u001b[1;31m---------------------------------------------------------------------------\u001b[0m",
      "\u001b[1;31mNameError\u001b[0m                                 Traceback (most recent call last)",
      "\u001b[1;32m<ipython-input-69-9a71093903eb>\u001b[0m in \u001b[0;36m<module>\u001b[1;34m\u001b[0m\n\u001b[1;32m----> 1\u001b[1;33m \u001b[0mdata_iter\u001b[0m\u001b[1;33m=\u001b[0m\u001b[0mDataLoader\u001b[0m\u001b[1;33m(\u001b[0m\u001b[0mdata\u001b[0m\u001b[1;33m,\u001b[0m\u001b[0mbatch_size\u001b[0m\u001b[1;33m=\u001b[0m\u001b[0mbatch_size\u001b[0m\u001b[1;33m)\u001b[0m\u001b[1;33m\u001b[0m\u001b[1;33m\u001b[0m\u001b[0m\n\u001b[0m",
      "\u001b[1;31mNameError\u001b[0m: name 'DataLoader' is not defined"
     ]
    }
   ],
   "source": [
    "data_iter=DataLoader(data,batch_size=batch_size)"
   ]
  },
  {
   "cell_type": "code",
   "execution_count": 70,
   "metadata": {},
   "outputs": [],
   "source": [
    "from torch.utils.data import DataLoader"
   ]
  },
  {
   "cell_type": "code",
   "execution_count": 71,
   "metadata": {},
   "outputs": [],
   "source": [
    "data_iter=DataLoader(data,batch_size=batch_size)"
   ]
  },
  {
   "cell_type": "code",
   "execution_count": 72,
   "metadata": {},
   "outputs": [],
   "source": [
    "def train(net_D, net_G, data_iter, num_epochs, lr_D, lr_G, latent_dim, data):\n",
    "    loss = nn.BCELoss()\n",
    "    for w in net_D.parameters():\n",
    "        nn.init.normal_(w, 0, 0.02)\n",
    "    for w in net_G.parameters():\n",
    "        nn.init.normal_(w, 0, 0.02)\n",
    "    trainer_D = torch.optim.Adam(net_D.parameters(), lr=lr_D)\n",
    "    trainer_G = torch.optim.Adam(net_G.parameters(), lr=lr_G)\n",
    "    animator = d2l.Animator(xlabel='epoch', ylabel='loss',\n",
    "                            xlim=[1, num_epochs], nrows=2, figsize=(5, 5),\n",
    "                            legend=['generator', 'discriminator'])\n",
    "    animator.fig.subplots_adjust(hspace=0.3)\n",
    "    for epoch in range(num_epochs):\n",
    "        # Train one epoch\n",
    "        timer = d2l.Timer()\n",
    "        metric = d2l.Accumulator(3)  # loss_D, loss_G, num_examples\n",
    "        for X in data_iter:\n",
    "            X = Variable(X)\n",
    "            batch_size = X.shape[0]\n",
    "            Z = torch.normal(0, 1, size=(batch_size, latent_dim))\n",
    "            metric.add(update_D(X, Z, net_D, net_G, loss, trainer_D),\n",
    "                       update_G(Z, net_D, net_G, loss, trainer_G),\n",
    "                       batch_size)\n",
    "        # Visualize generated examples\n",
    "        Z = torch.normal(0, 1, size=(100, latent_dim))\n",
    "        fake_X = net_G(Z).numpy()\n",
    "        animator.axes[1].cla()\n",
    "        animator.axes[1].scatter(data[:, 0], data[:, 1])\n",
    "        animator.axes[1].scatter(fake_X[:, 0], fake_X[:, 1])\n",
    "        animator.axes[1].legend(['real', 'generated'])\n",
    "        # Show the losses\n",
    "        loss_D, loss_G = metric[0]/metric[2], metric[1]/metric[2]\n",
    "        animator.add(epoch + 1, (loss_D, loss_G))\n",
    "    print(f'loss_D {loss_D:.3f}, loss_G {loss_G:.3f}, '\n",
    "          f'{metric[2] / timer.stop():.1f} examples/sec')"
   ]
  },
  {
   "cell_type": "code",
   "execution_count": 73,
   "metadata": {},
   "outputs": [
    {
     "output_type": "error",
     "ename": "AttributeError",
     "evalue": "'Tensor' object has no attribute 'ctx'",
     "traceback": [
      "\u001b[1;31m---------------------------------------------------------------------------\u001b[0m",
      "\u001b[1;31mAttributeError\u001b[0m                            Traceback (most recent call last)",
      "\u001b[1;32m<ipython-input-73-46803ce9c191>\u001b[0m in \u001b[0;36m<module>\u001b[1;34m\u001b[0m\n\u001b[0;32m      1\u001b[0m \u001b[0mlr_D\u001b[0m\u001b[1;33m,\u001b[0m \u001b[0mlr_G\u001b[0m\u001b[1;33m,\u001b[0m \u001b[0mlatent_dim\u001b[0m\u001b[1;33m,\u001b[0m \u001b[0mnum_epochs\u001b[0m \u001b[1;33m=\u001b[0m \u001b[1;36m0.05\u001b[0m\u001b[1;33m,\u001b[0m \u001b[1;36m0.005\u001b[0m\u001b[1;33m,\u001b[0m \u001b[1;36m2\u001b[0m\u001b[1;33m,\u001b[0m \u001b[1;36m20\u001b[0m\u001b[1;33m\u001b[0m\u001b[1;33m\u001b[0m\u001b[0m\n\u001b[1;32m----> 2\u001b[1;33m train(net_D, net_G, data_iter, num_epochs, lr_D, lr_G,\n\u001b[0m\u001b[0;32m      3\u001b[0m       latent_dim, data[:100].numpy())\n",
      "\u001b[1;32m<ipython-input-72-af00191c3363>\u001b[0m in \u001b[0;36mtrain\u001b[1;34m(net_D, net_G, data_iter, num_epochs, lr_D, lr_G, latent_dim, data)\u001b[0m\n\u001b[0;32m     19\u001b[0m             \u001b[0mbatch_size\u001b[0m \u001b[1;33m=\u001b[0m \u001b[0mX\u001b[0m\u001b[1;33m.\u001b[0m\u001b[0mshape\u001b[0m\u001b[1;33m[\u001b[0m\u001b[1;36m0\u001b[0m\u001b[1;33m]\u001b[0m\u001b[1;33m\u001b[0m\u001b[1;33m\u001b[0m\u001b[0m\n\u001b[0;32m     20\u001b[0m             \u001b[0mZ\u001b[0m \u001b[1;33m=\u001b[0m \u001b[0mtorch\u001b[0m\u001b[1;33m.\u001b[0m\u001b[0mnormal\u001b[0m\u001b[1;33m(\u001b[0m\u001b[1;36m0\u001b[0m\u001b[1;33m,\u001b[0m \u001b[1;36m1\u001b[0m\u001b[1;33m,\u001b[0m \u001b[0msize\u001b[0m\u001b[1;33m=\u001b[0m\u001b[1;33m(\u001b[0m\u001b[0mbatch_size\u001b[0m\u001b[1;33m,\u001b[0m \u001b[0mlatent_dim\u001b[0m\u001b[1;33m)\u001b[0m\u001b[1;33m)\u001b[0m\u001b[1;33m\u001b[0m\u001b[1;33m\u001b[0m\u001b[0m\n\u001b[1;32m---> 21\u001b[1;33m             metric.add(update_D(X, Z, net_D, net_G, loss, trainer_D),\n\u001b[0m\u001b[0;32m     22\u001b[0m                        \u001b[0mupdate_G\u001b[0m\u001b[1;33m(\u001b[0m\u001b[0mZ\u001b[0m\u001b[1;33m,\u001b[0m \u001b[0mnet_D\u001b[0m\u001b[1;33m,\u001b[0m \u001b[0mnet_G\u001b[0m\u001b[1;33m,\u001b[0m \u001b[0mloss\u001b[0m\u001b[1;33m,\u001b[0m \u001b[0mtrainer_G\u001b[0m\u001b[1;33m)\u001b[0m\u001b[1;33m,\u001b[0m\u001b[1;33m\u001b[0m\u001b[1;33m\u001b[0m\u001b[0m\n\u001b[0;32m     23\u001b[0m                        batch_size)\n",
      "\u001b[1;32m<ipython-input-51-1c1a5d6aabf5>\u001b[0m in \u001b[0;36mupdate_D\u001b[1;34m(X, Z, net_D, net_G, loss, trainer_D)\u001b[0m\n\u001b[0;32m      3\u001b[0m     \u001b[1;34m\"\"\"Update discriminator.\"\"\"\u001b[0m\u001b[1;33m\u001b[0m\u001b[1;33m\u001b[0m\u001b[0m\n\u001b[0;32m      4\u001b[0m     \u001b[0mbatch_size\u001b[0m \u001b[1;33m=\u001b[0m \u001b[0mX\u001b[0m\u001b[1;33m.\u001b[0m\u001b[0mshape\u001b[0m\u001b[1;33m[\u001b[0m\u001b[1;36m0\u001b[0m\u001b[1;33m]\u001b[0m\u001b[1;33m\u001b[0m\u001b[1;33m\u001b[0m\u001b[0m\n\u001b[1;32m----> 5\u001b[1;33m     \u001b[0mones\u001b[0m \u001b[1;33m=\u001b[0m \u001b[0mtorch\u001b[0m\u001b[1;33m.\u001b[0m\u001b[0mones\u001b[0m\u001b[1;33m(\u001b[0m\u001b[1;33m(\u001b[0m\u001b[0mbatch_size\u001b[0m\u001b[1;33m,\u001b[0m\u001b[1;33m)\u001b[0m\u001b[1;33m,\u001b[0m \u001b[0mctx\u001b[0m\u001b[1;33m=\u001b[0m\u001b[0mX\u001b[0m\u001b[1;33m.\u001b[0m\u001b[0mctx\u001b[0m\u001b[1;33m)\u001b[0m\u001b[1;33m\u001b[0m\u001b[1;33m\u001b[0m\u001b[0m\n\u001b[0m\u001b[0;32m      6\u001b[0m     \u001b[0mzeros\u001b[0m \u001b[1;33m=\u001b[0m \u001b[0mtorch\u001b[0m\u001b[1;33m.\u001b[0m\u001b[0mzeros\u001b[0m\u001b[1;33m(\u001b[0m\u001b[1;33m(\u001b[0m\u001b[0mbatch_size\u001b[0m\u001b[1;33m,\u001b[0m\u001b[1;33m)\u001b[0m\u001b[1;33m,\u001b[0m \u001b[0mctx\u001b[0m\u001b[1;33m=\u001b[0m\u001b[0mX\u001b[0m\u001b[1;33m.\u001b[0m\u001b[0mctx\u001b[0m\u001b[1;33m)\u001b[0m\u001b[1;33m\u001b[0m\u001b[1;33m\u001b[0m\u001b[0m\n\u001b[0;32m      7\u001b[0m     \u001b[0mtrainer_D\u001b[0m\u001b[1;33m.\u001b[0m\u001b[0mzero_grad\u001b[0m\u001b[1;33m(\u001b[0m\u001b[1;33m)\u001b[0m\u001b[1;33m\u001b[0m\u001b[1;33m\u001b[0m\u001b[0m\n",
      "\u001b[1;31mAttributeError\u001b[0m: 'Tensor' object has no attribute 'ctx'"
     ]
    }
   ],
   "source": [
    "lr_D, lr_G, latent_dim, num_epochs = 0.05, 0.005, 2, 20\n",
    "train(net_D, net_G, data_iter, num_epochs, lr_D, lr_G,\n",
    "      latent_dim, data[:100].numpy())"
   ]
  },
  {
   "cell_type": "code",
   "execution_count": 74,
   "metadata": {},
   "outputs": [],
   "source": [
    "#@save\n",
    "def update_D(X, Z, net_D, net_G, loss, trainer_D):\n",
    "    \"\"\"Update discriminator.\"\"\"\n",
    "    batch_size = X.shape[0]\n",
    "    ones = torch.ones(batch_size,)\n",
    "    zeros = torch.zeros(batch_size,)\n",
    "    trainer_D.zero_grad()\n",
    "    real_Y = net_D(X)\n",
    "    fake_X = net_G(Z)\n",
    "    # Do not need to compute gradient for `net_G`, detach it from\n",
    "    # computing gradients.\n",
    "    fake_Y = net_D(fake_X.detach())\n",
    "    loss_D = (loss(real_Y, ones) + loss(fake_Y, zeros)) / 2\n",
    "    loss_D.backward()\n",
    "    trainer_D.step(batch_size)\n",
    "    return float(loss_D.sum())"
   ]
  },
  {
   "cell_type": "code",
   "execution_count": 75,
   "metadata": {},
   "outputs": [],
   "source": [
    "#@save\n",
    "def update_D(X, Z, net_D, net_G, loss, trainer_D):\n",
    "    \"\"\"Update discriminator.\"\"\"\n",
    "    batch_size = X.shape[0]\n",
    "    ones = torch.ones(batch_size)\n",
    "    zeros = torch.zeros(batch_size)\n",
    "    trainer_D.zero_grad()\n",
    "    real_Y = net_D(X)\n",
    "    fake_X = net_G(Z)\n",
    "    # Do not need to compute gradient for `net_G`, detach it from\n",
    "    # computing gradients.\n",
    "    fake_Y = net_D(fake_X.detach())\n",
    "    loss_D = (loss(real_Y, ones) + loss(fake_Y, zeros)) / 2\n",
    "    loss_D.backward()\n",
    "    trainer_D.step(batch_size)\n",
    "    return float(loss_D.sum())"
   ]
  },
  {
   "cell_type": "code",
   "execution_count": 76,
   "metadata": {},
   "outputs": [],
   "source": [
    "#@save\n",
    "def update_G(Z, net_D, net_G, loss, trainer_G):\n",
    "    \"\"\"Update generator.\"\"\"\n",
    "    batch_size = Z.shape[0]\n",
    "    ones = torch.ones(batch_size)\n",
    "    trainer_D.zero_grad()\n",
    "    # We could reuse `fake_X` from `update_D` to save computation\n",
    "    fake_X = net_G(Z)\n",
    "    # Recomputing `fake_Y` is needed since `net_D` is changed\n",
    "    fake_Y = net_D(fake_X)\n",
    "    loss_G = (loss(real_Y, ones) + loss(fake_Y, zeros)) / 2\n",
    "    loss_G.backward()\n",
    "    trainer_G.step(batch_size)\n",
    "    return float(loss_G.sum())"
   ]
  },
  {
   "cell_type": "code",
   "execution_count": 77,
   "metadata": {},
   "outputs": [
    {
     "output_type": "error",
     "ename": "ValueError",
     "evalue": "too many values to unpack (expected 3)",
     "traceback": [
      "\u001b[1;31m---------------------------------------------------------------------------\u001b[0m",
      "\u001b[1;31mValueError\u001b[0m                                Traceback (most recent call last)",
      "\u001b[1;32m<ipython-input-77-f4f48dfa10c7>\u001b[0m in \u001b[0;36m<module>\u001b[1;34m\u001b[0m\n\u001b[1;32m----> 1\u001b[1;33m \u001b[0mlr_G\u001b[0m\u001b[1;33m,\u001b[0m \u001b[0mlatent_dim\u001b[0m\u001b[1;33m,\u001b[0m \u001b[0mnum_epochs\u001b[0m \u001b[1;33m=\u001b[0m \u001b[1;36m0.05\u001b[0m\u001b[1;33m,\u001b[0m \u001b[1;36m0.005\u001b[0m\u001b[1;33m,\u001b[0m \u001b[1;36m2\u001b[0m\u001b[1;33m,\u001b[0m \u001b[1;36m20\u001b[0m\u001b[1;33m\u001b[0m\u001b[1;33m\u001b[0m\u001b[0m\n\u001b[0m\u001b[0;32m      2\u001b[0m train(net_D, net_G, data_iter, num_epochs, lr_D, lr_G,\n\u001b[0;32m      3\u001b[0m      latent_dim, data[:100].numpy())\n",
      "\u001b[1;31mValueError\u001b[0m: too many values to unpack (expected 3)"
     ]
    }
   ],
   "source": [
    " lr_G, latent_dim, num_epochs = 0.05, 0.005, 2, 20\n",
    "train(net_D, net_G, data_iter, num_epochs, lr_D, lr_G,\n",
    "      latent_dim, data[:100].numpy())"
   ]
  },
  {
   "cell_type": "code",
   "execution_count": 78,
   "metadata": {},
   "outputs": [
    {
     "output_type": "error",
     "ename": "RuntimeError",
     "evalue": "size mismatch, m1: [8 x 2], m2: [5 x 3] at C:\\cb\\pytorch_1000000000000\\work\\aten\\src\\TH/generic/THTensorMath.cpp:41",
     "traceback": [
      "\u001b[1;31m---------------------------------------------------------------------------\u001b[0m",
      "\u001b[1;31mRuntimeError\u001b[0m                              Traceback (most recent call last)",
      "\u001b[1;32m<ipython-input-78-46803ce9c191>\u001b[0m in \u001b[0;36m<module>\u001b[1;34m\u001b[0m\n\u001b[0;32m      1\u001b[0m \u001b[0mlr_D\u001b[0m\u001b[1;33m,\u001b[0m \u001b[0mlr_G\u001b[0m\u001b[1;33m,\u001b[0m \u001b[0mlatent_dim\u001b[0m\u001b[1;33m,\u001b[0m \u001b[0mnum_epochs\u001b[0m \u001b[1;33m=\u001b[0m \u001b[1;36m0.05\u001b[0m\u001b[1;33m,\u001b[0m \u001b[1;36m0.005\u001b[0m\u001b[1;33m,\u001b[0m \u001b[1;36m2\u001b[0m\u001b[1;33m,\u001b[0m \u001b[1;36m20\u001b[0m\u001b[1;33m\u001b[0m\u001b[1;33m\u001b[0m\u001b[0m\n\u001b[1;32m----> 2\u001b[1;33m train(net_D, net_G, data_iter, num_epochs, lr_D, lr_G,\n\u001b[0m\u001b[0;32m      3\u001b[0m       latent_dim, data[:100].numpy())\n",
      "\u001b[1;32m<ipython-input-72-af00191c3363>\u001b[0m in \u001b[0;36mtrain\u001b[1;34m(net_D, net_G, data_iter, num_epochs, lr_D, lr_G, latent_dim, data)\u001b[0m\n\u001b[0;32m     19\u001b[0m             \u001b[0mbatch_size\u001b[0m \u001b[1;33m=\u001b[0m \u001b[0mX\u001b[0m\u001b[1;33m.\u001b[0m\u001b[0mshape\u001b[0m\u001b[1;33m[\u001b[0m\u001b[1;36m0\u001b[0m\u001b[1;33m]\u001b[0m\u001b[1;33m\u001b[0m\u001b[1;33m\u001b[0m\u001b[0m\n\u001b[0;32m     20\u001b[0m             \u001b[0mZ\u001b[0m \u001b[1;33m=\u001b[0m \u001b[0mtorch\u001b[0m\u001b[1;33m.\u001b[0m\u001b[0mnormal\u001b[0m\u001b[1;33m(\u001b[0m\u001b[1;36m0\u001b[0m\u001b[1;33m,\u001b[0m \u001b[1;36m1\u001b[0m\u001b[1;33m,\u001b[0m \u001b[0msize\u001b[0m\u001b[1;33m=\u001b[0m\u001b[1;33m(\u001b[0m\u001b[0mbatch_size\u001b[0m\u001b[1;33m,\u001b[0m \u001b[0mlatent_dim\u001b[0m\u001b[1;33m)\u001b[0m\u001b[1;33m)\u001b[0m\u001b[1;33m\u001b[0m\u001b[1;33m\u001b[0m\u001b[0m\n\u001b[1;32m---> 21\u001b[1;33m             metric.add(update_D(X, Z, net_D, net_G, loss, trainer_D),\n\u001b[0m\u001b[0;32m     22\u001b[0m                        \u001b[0mupdate_G\u001b[0m\u001b[1;33m(\u001b[0m\u001b[0mZ\u001b[0m\u001b[1;33m,\u001b[0m \u001b[0mnet_D\u001b[0m\u001b[1;33m,\u001b[0m \u001b[0mnet_G\u001b[0m\u001b[1;33m,\u001b[0m \u001b[0mloss\u001b[0m\u001b[1;33m,\u001b[0m \u001b[0mtrainer_G\u001b[0m\u001b[1;33m)\u001b[0m\u001b[1;33m,\u001b[0m\u001b[1;33m\u001b[0m\u001b[1;33m\u001b[0m\u001b[0m\n\u001b[0;32m     23\u001b[0m                        batch_size)\n",
      "\u001b[1;32m<ipython-input-75-662dc7b5fcea>\u001b[0m in \u001b[0;36mupdate_D\u001b[1;34m(X, Z, net_D, net_G, loss, trainer_D)\u001b[0m\n\u001b[0;32m      6\u001b[0m     \u001b[0mzeros\u001b[0m \u001b[1;33m=\u001b[0m \u001b[0mtorch\u001b[0m\u001b[1;33m.\u001b[0m\u001b[0mzeros\u001b[0m\u001b[1;33m(\u001b[0m\u001b[0mbatch_size\u001b[0m\u001b[1;33m)\u001b[0m\u001b[1;33m\u001b[0m\u001b[1;33m\u001b[0m\u001b[0m\n\u001b[0;32m      7\u001b[0m     \u001b[0mtrainer_D\u001b[0m\u001b[1;33m.\u001b[0m\u001b[0mzero_grad\u001b[0m\u001b[1;33m(\u001b[0m\u001b[1;33m)\u001b[0m\u001b[1;33m\u001b[0m\u001b[1;33m\u001b[0m\u001b[0m\n\u001b[1;32m----> 8\u001b[1;33m     \u001b[0mreal_Y\u001b[0m \u001b[1;33m=\u001b[0m \u001b[0mnet_D\u001b[0m\u001b[1;33m(\u001b[0m\u001b[0mX\u001b[0m\u001b[1;33m)\u001b[0m\u001b[1;33m\u001b[0m\u001b[1;33m\u001b[0m\u001b[0m\n\u001b[0m\u001b[0;32m      9\u001b[0m     \u001b[0mfake_X\u001b[0m \u001b[1;33m=\u001b[0m \u001b[0mnet_G\u001b[0m\u001b[1;33m(\u001b[0m\u001b[0mZ\u001b[0m\u001b[1;33m)\u001b[0m\u001b[1;33m\u001b[0m\u001b[1;33m\u001b[0m\u001b[0m\n\u001b[0;32m     10\u001b[0m     \u001b[1;31m# Do not need to compute gradient for `net_G`, detach it from\u001b[0m\u001b[1;33m\u001b[0m\u001b[1;33m\u001b[0m\u001b[1;33m\u001b[0m\u001b[0m\n",
      "\u001b[1;32m~\\anaconda3\\envs\\pytorch\\lib\\site-packages\\torch\\nn\\modules\\module.py\u001b[0m in \u001b[0;36m__call__\u001b[1;34m(self, *input, **kwargs)\u001b[0m\n\u001b[0;32m    548\u001b[0m             \u001b[0mresult\u001b[0m \u001b[1;33m=\u001b[0m \u001b[0mself\u001b[0m\u001b[1;33m.\u001b[0m\u001b[0m_slow_forward\u001b[0m\u001b[1;33m(\u001b[0m\u001b[1;33m*\u001b[0m\u001b[0minput\u001b[0m\u001b[1;33m,\u001b[0m \u001b[1;33m**\u001b[0m\u001b[0mkwargs\u001b[0m\u001b[1;33m)\u001b[0m\u001b[1;33m\u001b[0m\u001b[1;33m\u001b[0m\u001b[0m\n\u001b[0;32m    549\u001b[0m         \u001b[1;32melse\u001b[0m\u001b[1;33m:\u001b[0m\u001b[1;33m\u001b[0m\u001b[1;33m\u001b[0m\u001b[0m\n\u001b[1;32m--> 550\u001b[1;33m             \u001b[0mresult\u001b[0m \u001b[1;33m=\u001b[0m \u001b[0mself\u001b[0m\u001b[1;33m.\u001b[0m\u001b[0mforward\u001b[0m\u001b[1;33m(\u001b[0m\u001b[1;33m*\u001b[0m\u001b[0minput\u001b[0m\u001b[1;33m,\u001b[0m \u001b[1;33m**\u001b[0m\u001b[0mkwargs\u001b[0m\u001b[1;33m)\u001b[0m\u001b[1;33m\u001b[0m\u001b[1;33m\u001b[0m\u001b[0m\n\u001b[0m\u001b[0;32m    551\u001b[0m         \u001b[1;32mfor\u001b[0m \u001b[0mhook\u001b[0m \u001b[1;32min\u001b[0m \u001b[0mself\u001b[0m\u001b[1;33m.\u001b[0m\u001b[0m_forward_hooks\u001b[0m\u001b[1;33m.\u001b[0m\u001b[0mvalues\u001b[0m\u001b[1;33m(\u001b[0m\u001b[1;33m)\u001b[0m\u001b[1;33m:\u001b[0m\u001b[1;33m\u001b[0m\u001b[1;33m\u001b[0m\u001b[0m\n\u001b[0;32m    552\u001b[0m             \u001b[0mhook_result\u001b[0m \u001b[1;33m=\u001b[0m \u001b[0mhook\u001b[0m\u001b[1;33m(\u001b[0m\u001b[0mself\u001b[0m\u001b[1;33m,\u001b[0m \u001b[0minput\u001b[0m\u001b[1;33m,\u001b[0m \u001b[0mresult\u001b[0m\u001b[1;33m)\u001b[0m\u001b[1;33m\u001b[0m\u001b[1;33m\u001b[0m\u001b[0m\n",
      "\u001b[1;32m~\\anaconda3\\envs\\pytorch\\lib\\site-packages\\torch\\nn\\modules\\container.py\u001b[0m in \u001b[0;36mforward\u001b[1;34m(self, input)\u001b[0m\n\u001b[0;32m     98\u001b[0m     \u001b[1;32mdef\u001b[0m \u001b[0mforward\u001b[0m\u001b[1;33m(\u001b[0m\u001b[0mself\u001b[0m\u001b[1;33m,\u001b[0m \u001b[0minput\u001b[0m\u001b[1;33m)\u001b[0m\u001b[1;33m:\u001b[0m\u001b[1;33m\u001b[0m\u001b[1;33m\u001b[0m\u001b[0m\n\u001b[0;32m     99\u001b[0m         \u001b[1;32mfor\u001b[0m \u001b[0mmodule\u001b[0m \u001b[1;32min\u001b[0m \u001b[0mself\u001b[0m\u001b[1;33m:\u001b[0m\u001b[1;33m\u001b[0m\u001b[1;33m\u001b[0m\u001b[0m\n\u001b[1;32m--> 100\u001b[1;33m             \u001b[0minput\u001b[0m \u001b[1;33m=\u001b[0m \u001b[0mmodule\u001b[0m\u001b[1;33m(\u001b[0m\u001b[0minput\u001b[0m\u001b[1;33m)\u001b[0m\u001b[1;33m\u001b[0m\u001b[1;33m\u001b[0m\u001b[0m\n\u001b[0m\u001b[0;32m    101\u001b[0m         \u001b[1;32mreturn\u001b[0m \u001b[0minput\u001b[0m\u001b[1;33m\u001b[0m\u001b[1;33m\u001b[0m\u001b[0m\n\u001b[0;32m    102\u001b[0m \u001b[1;33m\u001b[0m\u001b[0m\n",
      "\u001b[1;32m~\\anaconda3\\envs\\pytorch\\lib\\site-packages\\torch\\nn\\modules\\module.py\u001b[0m in \u001b[0;36m__call__\u001b[1;34m(self, *input, **kwargs)\u001b[0m\n\u001b[0;32m    548\u001b[0m             \u001b[0mresult\u001b[0m \u001b[1;33m=\u001b[0m \u001b[0mself\u001b[0m\u001b[1;33m.\u001b[0m\u001b[0m_slow_forward\u001b[0m\u001b[1;33m(\u001b[0m\u001b[1;33m*\u001b[0m\u001b[0minput\u001b[0m\u001b[1;33m,\u001b[0m \u001b[1;33m**\u001b[0m\u001b[0mkwargs\u001b[0m\u001b[1;33m)\u001b[0m\u001b[1;33m\u001b[0m\u001b[1;33m\u001b[0m\u001b[0m\n\u001b[0;32m    549\u001b[0m         \u001b[1;32melse\u001b[0m\u001b[1;33m:\u001b[0m\u001b[1;33m\u001b[0m\u001b[1;33m\u001b[0m\u001b[0m\n\u001b[1;32m--> 550\u001b[1;33m             \u001b[0mresult\u001b[0m \u001b[1;33m=\u001b[0m \u001b[0mself\u001b[0m\u001b[1;33m.\u001b[0m\u001b[0mforward\u001b[0m\u001b[1;33m(\u001b[0m\u001b[1;33m*\u001b[0m\u001b[0minput\u001b[0m\u001b[1;33m,\u001b[0m \u001b[1;33m**\u001b[0m\u001b[0mkwargs\u001b[0m\u001b[1;33m)\u001b[0m\u001b[1;33m\u001b[0m\u001b[1;33m\u001b[0m\u001b[0m\n\u001b[0m\u001b[0;32m    551\u001b[0m         \u001b[1;32mfor\u001b[0m \u001b[0mhook\u001b[0m \u001b[1;32min\u001b[0m \u001b[0mself\u001b[0m\u001b[1;33m.\u001b[0m\u001b[0m_forward_hooks\u001b[0m\u001b[1;33m.\u001b[0m\u001b[0mvalues\u001b[0m\u001b[1;33m(\u001b[0m\u001b[1;33m)\u001b[0m\u001b[1;33m:\u001b[0m\u001b[1;33m\u001b[0m\u001b[1;33m\u001b[0m\u001b[0m\n\u001b[0;32m    552\u001b[0m             \u001b[0mhook_result\u001b[0m \u001b[1;33m=\u001b[0m \u001b[0mhook\u001b[0m\u001b[1;33m(\u001b[0m\u001b[0mself\u001b[0m\u001b[1;33m,\u001b[0m \u001b[0minput\u001b[0m\u001b[1;33m,\u001b[0m \u001b[0mresult\u001b[0m\u001b[1;33m)\u001b[0m\u001b[1;33m\u001b[0m\u001b[1;33m\u001b[0m\u001b[0m\n",
      "\u001b[1;32m~\\anaconda3\\envs\\pytorch\\lib\\site-packages\\torch\\nn\\modules\\linear.py\u001b[0m in \u001b[0;36mforward\u001b[1;34m(self, input)\u001b[0m\n\u001b[0;32m     85\u001b[0m \u001b[1;33m\u001b[0m\u001b[0m\n\u001b[0;32m     86\u001b[0m     \u001b[1;32mdef\u001b[0m \u001b[0mforward\u001b[0m\u001b[1;33m(\u001b[0m\u001b[0mself\u001b[0m\u001b[1;33m,\u001b[0m \u001b[0minput\u001b[0m\u001b[1;33m)\u001b[0m\u001b[1;33m:\u001b[0m\u001b[1;33m\u001b[0m\u001b[1;33m\u001b[0m\u001b[0m\n\u001b[1;32m---> 87\u001b[1;33m         \u001b[1;32mreturn\u001b[0m \u001b[0mF\u001b[0m\u001b[1;33m.\u001b[0m\u001b[0mlinear\u001b[0m\u001b[1;33m(\u001b[0m\u001b[0minput\u001b[0m\u001b[1;33m,\u001b[0m \u001b[0mself\u001b[0m\u001b[1;33m.\u001b[0m\u001b[0mweight\u001b[0m\u001b[1;33m,\u001b[0m \u001b[0mself\u001b[0m\u001b[1;33m.\u001b[0m\u001b[0mbias\u001b[0m\u001b[1;33m)\u001b[0m\u001b[1;33m\u001b[0m\u001b[1;33m\u001b[0m\u001b[0m\n\u001b[0m\u001b[0;32m     88\u001b[0m \u001b[1;33m\u001b[0m\u001b[0m\n\u001b[0;32m     89\u001b[0m     \u001b[1;32mdef\u001b[0m \u001b[0mextra_repr\u001b[0m\u001b[1;33m(\u001b[0m\u001b[0mself\u001b[0m\u001b[1;33m)\u001b[0m\u001b[1;33m:\u001b[0m\u001b[1;33m\u001b[0m\u001b[1;33m\u001b[0m\u001b[0m\n",
      "\u001b[1;32m~\\anaconda3\\envs\\pytorch\\lib\\site-packages\\torch\\nn\\functional.py\u001b[0m in \u001b[0;36mlinear\u001b[1;34m(input, weight, bias)\u001b[0m\n\u001b[0;32m   1608\u001b[0m     \u001b[1;32mif\u001b[0m \u001b[0minput\u001b[0m\u001b[1;33m.\u001b[0m\u001b[0mdim\u001b[0m\u001b[1;33m(\u001b[0m\u001b[1;33m)\u001b[0m \u001b[1;33m==\u001b[0m \u001b[1;36m2\u001b[0m \u001b[1;32mand\u001b[0m \u001b[0mbias\u001b[0m \u001b[1;32mis\u001b[0m \u001b[1;32mnot\u001b[0m \u001b[1;32mNone\u001b[0m\u001b[1;33m:\u001b[0m\u001b[1;33m\u001b[0m\u001b[1;33m\u001b[0m\u001b[0m\n\u001b[0;32m   1609\u001b[0m         \u001b[1;31m# fused op is marginally faster\u001b[0m\u001b[1;33m\u001b[0m\u001b[1;33m\u001b[0m\u001b[1;33m\u001b[0m\u001b[0m\n\u001b[1;32m-> 1610\u001b[1;33m         \u001b[0mret\u001b[0m \u001b[1;33m=\u001b[0m \u001b[0mtorch\u001b[0m\u001b[1;33m.\u001b[0m\u001b[0maddmm\u001b[0m\u001b[1;33m(\u001b[0m\u001b[0mbias\u001b[0m\u001b[1;33m,\u001b[0m \u001b[0minput\u001b[0m\u001b[1;33m,\u001b[0m \u001b[0mweight\u001b[0m\u001b[1;33m.\u001b[0m\u001b[0mt\u001b[0m\u001b[1;33m(\u001b[0m\u001b[1;33m)\u001b[0m\u001b[1;33m)\u001b[0m\u001b[1;33m\u001b[0m\u001b[1;33m\u001b[0m\u001b[0m\n\u001b[0m\u001b[0;32m   1611\u001b[0m     \u001b[1;32melse\u001b[0m\u001b[1;33m:\u001b[0m\u001b[1;33m\u001b[0m\u001b[1;33m\u001b[0m\u001b[0m\n\u001b[0;32m   1612\u001b[0m         \u001b[0moutput\u001b[0m \u001b[1;33m=\u001b[0m \u001b[0minput\u001b[0m\u001b[1;33m.\u001b[0m\u001b[0mmatmul\u001b[0m\u001b[1;33m(\u001b[0m\u001b[0mweight\u001b[0m\u001b[1;33m.\u001b[0m\u001b[0mt\u001b[0m\u001b[1;33m(\u001b[0m\u001b[1;33m)\u001b[0m\u001b[1;33m)\u001b[0m\u001b[1;33m\u001b[0m\u001b[1;33m\u001b[0m\u001b[0m\n",
      "\u001b[1;31mRuntimeError\u001b[0m: size mismatch, m1: [8 x 2], m2: [5 x 3] at C:\\cb\\pytorch_1000000000000\\work\\aten\\src\\TH/generic/THTensorMath.cpp:41"
     ]
    }
   ],
   "source": [
    "lr_D, lr_G, latent_dim, num_epochs = 0.05, 0.005, 2, 20\n",
    "train(net_D, net_G, data_iter, num_epochs, lr_D, lr_G,\n",
    "      latent_dim, data[:100].numpy())"
   ]
  },
  {
   "cell_type": "code",
   "execution_count": null,
   "metadata": {},
   "outputs": [],
   "source": []
  }
 ]
}