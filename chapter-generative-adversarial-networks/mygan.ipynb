{
 "metadata": {
  "language_info": {
   "codemirror_mode": {
    "name": "ipython",
    "version": 3
   },
   "file_extension": ".py",
   "mimetype": "text/x-python",
   "name": "python",
   "nbconvert_exporter": "python",
   "pygments_lexer": "ipython3",
   "version": "3.8.3-final"
  },
  "orig_nbformat": 2,
  "kernelspec": {
   "name": "python38364bitpytorchconda70fdc7f787194f4c972bb3207dd25917",
   "display_name": "Python 3.8.3 64-bit ('pytorch': conda)"
  }
 },
 "nbformat": 4,
 "nbformat_minor": 2,
 "cells": [
  {
   "cell_type": "code",
   "execution_count": 1,
   "metadata": {},
   "outputs": [],
   "source": [
    "%matplotlib inline\n",
    "from d2l import torch as d2l\n",
    "import torch\n",
    "from torch.utils.data import DataLoader\n",
    "from torch.autograd import Variable\n",
    "from torch import nn"
   ]
  },
  {
   "cell_type": "code",
   "execution_count": 2,
   "metadata": {},
   "outputs": [],
   "source": [
    "X = torch.normal(0.0, 1, (1000, 2))\n",
    "A = torch.tensor([[1, 2], [-0.1, 0.5]])\n",
    "b = torch.tensor([1, 2])\n",
    "data = torch.mm(X, A) + b"
   ]
  },
  {
   "cell_type": "code",
   "execution_count": 3,
   "metadata": {
    "tags": []
   },
   "outputs": [
    {
     "output_type": "stream",
     "name": "stdout",
     "text": "The covariance matrix is\ntensor([[1.0100, 1.9500],\n        [1.9500, 4.2500]])\n"
    },
    {
     "output_type": "display_data",
     "data": {
      "text/plain": "<Figure size 252x180 with 1 Axes>",
      "image/svg+xml": "<?xml version=\"1.0\" encoding=\"utf-8\" standalone=\"no\"?>\r\n<!DOCTYPE svg PUBLIC \"-//W3C//DTD SVG 1.1//EN\"\r\n  \"http://www.w3.org/Graphics/SVG/1.1/DTD/svg11.dtd\">\r\n<!-- Created with matplotlib (https://matplotlib.org/) -->\r\n<svg height=\"166.978125pt\" version=\"1.1\" viewBox=\"0 0 240.982812 166.978125\" width=\"240.982812pt\" xmlns=\"http://www.w3.org/2000/svg\" xmlns:xlink=\"http://www.w3.org/1999/xlink\">\r\n <metadata>\r\n  <rdf:RDF xmlns:cc=\"http://creativecommons.org/ns#\" xmlns:dc=\"http://purl.org/dc/elements/1.1/\" xmlns:rdf=\"http://www.w3.org/1999/02/22-rdf-syntax-ns#\">\r\n   <cc:Work>\r\n    <dc:type rdf:resource=\"http://purl.org/dc/dcmitype/StillImage\"/>\r\n    <dc:date>2020-08-06T22:45:28.514689</dc:date>\r\n    <dc:format>image/svg+xml</dc:format>\r\n    <dc:creator>\r\n     <cc:Agent>\r\n      <dc:title>Matplotlib v3.3.0, https://matplotlib.org/</dc:title>\r\n     </cc:Agent>\r\n    </dc:creator>\r\n   </cc:Work>\r\n  </rdf:RDF>\r\n </metadata>\r\n <defs>\r\n  <style type=\"text/css\">*{stroke-linecap:butt;stroke-linejoin:round;}</style>\r\n </defs>\r\n <g id=\"figure_1\">\r\n  <g id=\"patch_1\">\r\n   <path d=\"M -0 166.978125 \r\nL 240.982813 166.978125 \r\nL 240.982813 0 \r\nL -0 0 \r\nz\r\n\" style=\"fill:none;\"/>\r\n  </g>\r\n  <g id=\"axes_1\">\r\n   <g id=\"patch_2\">\r\n    <path d=\"M 38.482813 143.1 \r\nL 233.782813 143.1 \r\nL 233.782813 7.2 \r\nL 38.482813 7.2 \r\nz\r\n\" style=\"fill:#ffffff;\"/>\r\n   </g>\r\n   <g id=\"PathCollection_1\">\r\n    <defs>\r\n     <path d=\"M 0 3 \r\nC 0.795609 3 1.55874 2.683901 2.12132 2.12132 \r\nC 2.683901 1.55874 3 0.795609 3 0 \r\nC 3 -0.795609 2.683901 -1.55874 2.12132 -2.12132 \r\nC 1.55874 -2.683901 0.795609 -3 0 -3 \r\nC -0.795609 -3 -1.55874 -2.683901 -2.12132 -2.12132 \r\nC -2.683901 -1.55874 -3 -0.795609 -3 0 \r\nC -3 0.795609 -2.683901 1.55874 -2.12132 2.12132 \r\nC -1.55874 2.683901 -0.795609 3 0 3 \r\nz\r\n\" id=\"me0e66805c8\" style=\"stroke:#1f77b4;\"/>\r\n    </defs>\r\n    <g clip-path=\"url(#p9636af0493)\">\r\n     <use style=\"fill:#1f77b4;stroke:#1f77b4;\" x=\"147.04463\" xlink:href=\"#me0e66805c8\" y=\"71.90358\"/>\r\n     <use style=\"fill:#1f77b4;stroke:#1f77b4;\" x=\"132.811345\" xlink:href=\"#me0e66805c8\" y=\"86.767875\"/>\r\n     <use style=\"fill:#1f77b4;stroke:#1f77b4;\" x=\"153.881708\" xlink:href=\"#me0e66805c8\" y=\"66.07013\"/>\r\n     <use style=\"fill:#1f77b4;stroke:#1f77b4;\" x=\"95.481279\" xlink:href=\"#me0e66805c8\" y=\"114.587313\"/>\r\n     <use style=\"fill:#1f77b4;stroke:#1f77b4;\" x=\"175.035666\" xlink:href=\"#me0e66805c8\" y=\"60.874668\"/>\r\n     <use style=\"fill:#1f77b4;stroke:#1f77b4;\" x=\"152.486032\" xlink:href=\"#me0e66805c8\" y=\"67.32685\"/>\r\n     <use style=\"fill:#1f77b4;stroke:#1f77b4;\" x=\"141.675795\" xlink:href=\"#me0e66805c8\" y=\"67.979429\"/>\r\n     <use style=\"fill:#1f77b4;stroke:#1f77b4;\" x=\"98.879221\" xlink:href=\"#me0e66805c8\" y=\"111.277686\"/>\r\n     <use style=\"fill:#1f77b4;stroke:#1f77b4;\" x=\"148.694707\" xlink:href=\"#me0e66805c8\" y=\"50.753376\"/>\r\n     <use style=\"fill:#1f77b4;stroke:#1f77b4;\" x=\"145.581274\" xlink:href=\"#me0e66805c8\" y=\"70.275858\"/>\r\n     <use style=\"fill:#1f77b4;stroke:#1f77b4;\" x=\"153.701163\" xlink:href=\"#me0e66805c8\" y=\"66.496308\"/>\r\n     <use style=\"fill:#1f77b4;stroke:#1f77b4;\" x=\"162.229606\" xlink:href=\"#me0e66805c8\" y=\"68.675972\"/>\r\n     <use style=\"fill:#1f77b4;stroke:#1f77b4;\" x=\"191.607407\" xlink:href=\"#me0e66805c8\" y=\"57.8241\"/>\r\n     <use style=\"fill:#1f77b4;stroke:#1f77b4;\" x=\"171.7095\" xlink:href=\"#me0e66805c8\" y=\"61.530616\"/>\r\n     <use style=\"fill:#1f77b4;stroke:#1f77b4;\" x=\"114.67102\" xlink:href=\"#me0e66805c8\" y=\"99.428984\"/>\r\n     <use style=\"fill:#1f77b4;stroke:#1f77b4;\" x=\"166.159122\" xlink:href=\"#me0e66805c8\" y=\"55.137868\"/>\r\n     <use style=\"fill:#1f77b4;stroke:#1f77b4;\" x=\"142.952951\" xlink:href=\"#me0e66805c8\" y=\"67.37304\"/>\r\n     <use style=\"fill:#1f77b4;stroke:#1f77b4;\" x=\"82.205836\" xlink:href=\"#me0e66805c8\" y=\"126.956826\"/>\r\n     <use style=\"fill:#1f77b4;stroke:#1f77b4;\" x=\"163.448563\" xlink:href=\"#me0e66805c8\" y=\"53.254288\"/>\r\n     <use style=\"fill:#1f77b4;stroke:#1f77b4;\" x=\"118.953649\" xlink:href=\"#me0e66805c8\" y=\"90.53389\"/>\r\n     <use style=\"fill:#1f77b4;stroke:#1f77b4;\" x=\"132.167566\" xlink:href=\"#me0e66805c8\" y=\"77.944568\"/>\r\n     <use style=\"fill:#1f77b4;stroke:#1f77b4;\" x=\"113.250113\" xlink:href=\"#me0e66805c8\" y=\"91.792625\"/>\r\n     <use style=\"fill:#1f77b4;stroke:#1f77b4;\" x=\"151.452769\" xlink:href=\"#me0e66805c8\" y=\"68.215001\"/>\r\n     <use style=\"fill:#1f77b4;stroke:#1f77b4;\" x=\"94.95832\" xlink:href=\"#me0e66805c8\" y=\"117.05465\"/>\r\n     <use style=\"fill:#1f77b4;stroke:#1f77b4;\" x=\"111.761145\" xlink:href=\"#me0e66805c8\" y=\"94.35732\"/>\r\n     <use style=\"fill:#1f77b4;stroke:#1f77b4;\" x=\"146.573144\" xlink:href=\"#me0e66805c8\" y=\"59.803672\"/>\r\n     <use style=\"fill:#1f77b4;stroke:#1f77b4;\" x=\"105.680752\" xlink:href=\"#me0e66805c8\" y=\"101.315057\"/>\r\n     <use style=\"fill:#1f77b4;stroke:#1f77b4;\" x=\"124.932131\" xlink:href=\"#me0e66805c8\" y=\"83.685142\"/>\r\n     <use style=\"fill:#1f77b4;stroke:#1f77b4;\" x=\"121.080563\" xlink:href=\"#me0e66805c8\" y=\"89.765151\"/>\r\n     <use style=\"fill:#1f77b4;stroke:#1f77b4;\" x=\"175.797524\" xlink:href=\"#me0e66805c8\" y=\"66.660929\"/>\r\n     <use style=\"fill:#1f77b4;stroke:#1f77b4;\" x=\"131.656273\" xlink:href=\"#me0e66805c8\" y=\"79.00644\"/>\r\n     <use style=\"fill:#1f77b4;stroke:#1f77b4;\" x=\"117.482576\" xlink:href=\"#me0e66805c8\" y=\"88.404845\"/>\r\n     <use style=\"fill:#1f77b4;stroke:#1f77b4;\" x=\"162.174371\" xlink:href=\"#me0e66805c8\" y=\"73.235959\"/>\r\n     <use style=\"fill:#1f77b4;stroke:#1f77b4;\" x=\"161.231732\" xlink:href=\"#me0e66805c8\" y=\"58.923854\"/>\r\n     <use style=\"fill:#1f77b4;stroke:#1f77b4;\" x=\"157.363047\" xlink:href=\"#me0e66805c8\" y=\"64.555066\"/>\r\n     <use style=\"fill:#1f77b4;stroke:#1f77b4;\" x=\"131.63252\" xlink:href=\"#me0e66805c8\" y=\"75.561273\"/>\r\n     <use style=\"fill:#1f77b4;stroke:#1f77b4;\" x=\"102.620573\" xlink:href=\"#me0e66805c8\" y=\"110.974674\"/>\r\n     <use style=\"fill:#1f77b4;stroke:#1f77b4;\" x=\"183.981609\" xlink:href=\"#me0e66805c8\" y=\"34.247394\"/>\r\n     <use style=\"fill:#1f77b4;stroke:#1f77b4;\" x=\"135.73757\" xlink:href=\"#me0e66805c8\" y=\"84.823967\"/>\r\n     <use style=\"fill:#1f77b4;stroke:#1f77b4;\" x=\"136.207582\" xlink:href=\"#me0e66805c8\" y=\"84.542984\"/>\r\n     <use style=\"fill:#1f77b4;stroke:#1f77b4;\" x=\"210.70107\" xlink:href=\"#me0e66805c8\" y=\"31.034773\"/>\r\n     <use style=\"fill:#1f77b4;stroke:#1f77b4;\" x=\"83.644197\" xlink:href=\"#me0e66805c8\" y=\"122.115386\"/>\r\n     <use style=\"fill:#1f77b4;stroke:#1f77b4;\" x=\"146.784853\" xlink:href=\"#me0e66805c8\" y=\"61.342142\"/>\r\n     <use style=\"fill:#1f77b4;stroke:#1f77b4;\" x=\"132.258976\" xlink:href=\"#me0e66805c8\" y=\"70.737642\"/>\r\n     <use style=\"fill:#1f77b4;stroke:#1f77b4;\" x=\"224.90554\" xlink:href=\"#me0e66805c8\" y=\"13.377273\"/>\r\n     <use style=\"fill:#1f77b4;stroke:#1f77b4;\" x=\"130.561188\" xlink:href=\"#me0e66805c8\" y=\"102.533069\"/>\r\n     <use style=\"fill:#1f77b4;stroke:#1f77b4;\" x=\"166.057333\" xlink:href=\"#me0e66805c8\" y=\"57.418616\"/>\r\n     <use style=\"fill:#1f77b4;stroke:#1f77b4;\" x=\"161.449812\" xlink:href=\"#me0e66805c8\" y=\"77.085481\"/>\r\n     <use style=\"fill:#1f77b4;stroke:#1f77b4;\" x=\"133.697023\" xlink:href=\"#me0e66805c8\" y=\"76.798265\"/>\r\n     <use style=\"fill:#1f77b4;stroke:#1f77b4;\" x=\"149.573792\" xlink:href=\"#me0e66805c8\" y=\"80.988358\"/>\r\n     <use style=\"fill:#1f77b4;stroke:#1f77b4;\" x=\"186.975748\" xlink:href=\"#me0e66805c8\" y=\"47.466758\"/>\r\n     <use style=\"fill:#1f77b4;stroke:#1f77b4;\" x=\"117.919823\" xlink:href=\"#me0e66805c8\" y=\"83.322026\"/>\r\n     <use style=\"fill:#1f77b4;stroke:#1f77b4;\" x=\"157.087961\" xlink:href=\"#me0e66805c8\" y=\"67.647905\"/>\r\n     <use style=\"fill:#1f77b4;stroke:#1f77b4;\" x=\"190.250902\" xlink:href=\"#me0e66805c8\" y=\"50.843973\"/>\r\n     <use style=\"fill:#1f77b4;stroke:#1f77b4;\" x=\"141.65919\" xlink:href=\"#me0e66805c8\" y=\"71.335933\"/>\r\n     <use style=\"fill:#1f77b4;stroke:#1f77b4;\" x=\"121.022102\" xlink:href=\"#me0e66805c8\" y=\"84.917024\"/>\r\n     <use style=\"fill:#1f77b4;stroke:#1f77b4;\" x=\"141.031024\" xlink:href=\"#me0e66805c8\" y=\"81.924231\"/>\r\n     <use style=\"fill:#1f77b4;stroke:#1f77b4;\" x=\"118.599546\" xlink:href=\"#me0e66805c8\" y=\"87.356653\"/>\r\n     <use style=\"fill:#1f77b4;stroke:#1f77b4;\" x=\"122.026916\" xlink:href=\"#me0e66805c8\" y=\"93.509472\"/>\r\n     <use style=\"fill:#1f77b4;stroke:#1f77b4;\" x=\"145.509639\" xlink:href=\"#me0e66805c8\" y=\"82.588047\"/>\r\n     <use style=\"fill:#1f77b4;stroke:#1f77b4;\" x=\"113.295812\" xlink:href=\"#me0e66805c8\" y=\"94.271874\"/>\r\n     <use style=\"fill:#1f77b4;stroke:#1f77b4;\" x=\"123.871498\" xlink:href=\"#me0e66805c8\" y=\"83.506369\"/>\r\n     <use style=\"fill:#1f77b4;stroke:#1f77b4;\" x=\"144.301992\" xlink:href=\"#me0e66805c8\" y=\"70.730714\"/>\r\n     <use style=\"fill:#1f77b4;stroke:#1f77b4;\" x=\"96.481566\" xlink:href=\"#me0e66805c8\" y=\"116.125783\"/>\r\n     <use style=\"fill:#1f77b4;stroke:#1f77b4;\" x=\"110.660272\" xlink:href=\"#me0e66805c8\" y=\"88.153696\"/>\r\n     <use style=\"fill:#1f77b4;stroke:#1f77b4;\" x=\"155.691557\" xlink:href=\"#me0e66805c8\" y=\"57.411485\"/>\r\n     <use style=\"fill:#1f77b4;stroke:#1f77b4;\" x=\"122.907027\" xlink:href=\"#me0e66805c8\" y=\"84.74751\"/>\r\n     <use style=\"fill:#1f77b4;stroke:#1f77b4;\" x=\"166.678503\" xlink:href=\"#me0e66805c8\" y=\"58.982635\"/>\r\n     <use style=\"fill:#1f77b4;stroke:#1f77b4;\" x=\"153.773526\" xlink:href=\"#me0e66805c8\" y=\"77.993765\"/>\r\n     <use style=\"fill:#1f77b4;stroke:#1f77b4;\" x=\"167.074079\" xlink:href=\"#me0e66805c8\" y=\"57.803733\"/>\r\n     <use style=\"fill:#1f77b4;stroke:#1f77b4;\" x=\"194.72096\" xlink:href=\"#me0e66805c8\" y=\"54.580483\"/>\r\n     <use style=\"fill:#1f77b4;stroke:#1f77b4;\" x=\"150.857532\" xlink:href=\"#me0e66805c8\" y=\"59.779429\"/>\r\n     <use style=\"fill:#1f77b4;stroke:#1f77b4;\" x=\"138.316173\" xlink:href=\"#me0e66805c8\" y=\"73.493044\"/>\r\n     <use style=\"fill:#1f77b4;stroke:#1f77b4;\" x=\"107.573391\" xlink:href=\"#me0e66805c8\" y=\"101.780631\"/>\r\n     <use style=\"fill:#1f77b4;stroke:#1f77b4;\" x=\"104.610388\" xlink:href=\"#me0e66805c8\" y=\"102.126376\"/>\r\n     <use style=\"fill:#1f77b4;stroke:#1f77b4;\" x=\"47.360085\" xlink:href=\"#me0e66805c8\" y=\"136.922727\"/>\r\n     <use style=\"fill:#1f77b4;stroke:#1f77b4;\" x=\"130.745099\" xlink:href=\"#me0e66805c8\" y=\"87.972183\"/>\r\n     <use style=\"fill:#1f77b4;stroke:#1f77b4;\" x=\"167.442134\" xlink:href=\"#me0e66805c8\" y=\"54.647729\"/>\r\n     <use style=\"fill:#1f77b4;stroke:#1f77b4;\" x=\"148.88689\" xlink:href=\"#me0e66805c8\" y=\"70.440183\"/>\r\n     <use style=\"fill:#1f77b4;stroke:#1f77b4;\" x=\"146.284577\" xlink:href=\"#me0e66805c8\" y=\"88.465592\"/>\r\n     <use style=\"fill:#1f77b4;stroke:#1f77b4;\" x=\"123.146553\" xlink:href=\"#me0e66805c8\" y=\"89.146489\"/>\r\n     <use style=\"fill:#1f77b4;stroke:#1f77b4;\" x=\"130.542763\" xlink:href=\"#me0e66805c8\" y=\"87.347431\"/>\r\n     <use style=\"fill:#1f77b4;stroke:#1f77b4;\" x=\"179.242453\" xlink:href=\"#me0e66805c8\" y=\"41.101665\"/>\r\n     <use style=\"fill:#1f77b4;stroke:#1f77b4;\" x=\"105.812645\" xlink:href=\"#me0e66805c8\" y=\"94.616299\"/>\r\n     <use style=\"fill:#1f77b4;stroke:#1f77b4;\" x=\"139.017918\" xlink:href=\"#me0e66805c8\" y=\"80.739775\"/>\r\n     <use style=\"fill:#1f77b4;stroke:#1f77b4;\" x=\"148.109201\" xlink:href=\"#me0e66805c8\" y=\"73.703738\"/>\r\n     <use style=\"fill:#1f77b4;stroke:#1f77b4;\" x=\"128.581094\" xlink:href=\"#me0e66805c8\" y=\"83.954764\"/>\r\n     <use style=\"fill:#1f77b4;stroke:#1f77b4;\" x=\"134.420953\" xlink:href=\"#me0e66805c8\" y=\"73.578949\"/>\r\n     <use style=\"fill:#1f77b4;stroke:#1f77b4;\" x=\"103.970551\" xlink:href=\"#me0e66805c8\" y=\"95.664277\"/>\r\n     <use style=\"fill:#1f77b4;stroke:#1f77b4;\" x=\"105.0355\" xlink:href=\"#me0e66805c8\" y=\"111.221754\"/>\r\n     <use style=\"fill:#1f77b4;stroke:#1f77b4;\" x=\"137.68759\" xlink:href=\"#me0e66805c8\" y=\"79.839409\"/>\r\n     <use style=\"fill:#1f77b4;stroke:#1f77b4;\" x=\"144.390285\" xlink:href=\"#me0e66805c8\" y=\"84.499725\"/>\r\n     <use style=\"fill:#1f77b4;stroke:#1f77b4;\" x=\"150.213121\" xlink:href=\"#me0e66805c8\" y=\"66.530455\"/>\r\n     <use style=\"fill:#1f77b4;stroke:#1f77b4;\" x=\"155.945761\" xlink:href=\"#me0e66805c8\" y=\"59.023473\"/>\r\n     <use style=\"fill:#1f77b4;stroke:#1f77b4;\" x=\"153.885311\" xlink:href=\"#me0e66805c8\" y=\"64.527339\"/>\r\n     <use style=\"fill:#1f77b4;stroke:#1f77b4;\" x=\"128.088871\" xlink:href=\"#me0e66805c8\" y=\"77.419701\"/>\r\n     <use style=\"fill:#1f77b4;stroke:#1f77b4;\" x=\"117.65139\" xlink:href=\"#me0e66805c8\" y=\"83.557383\"/>\r\n     <use style=\"fill:#1f77b4;stroke:#1f77b4;\" x=\"168.66368\" xlink:href=\"#me0e66805c8\" y=\"55.333638\"/>\r\n     <use style=\"fill:#1f77b4;stroke:#1f77b4;\" x=\"124.976795\" xlink:href=\"#me0e66805c8\" y=\"77.695753\"/>\r\n     <use style=\"fill:#1f77b4;stroke:#1f77b4;\" x=\"146.564469\" xlink:href=\"#me0e66805c8\" y=\"77.735777\"/>\r\n    </g>\r\n   </g>\r\n   <g id=\"matplotlib.axis_1\">\r\n    <g id=\"xtick_1\">\r\n     <g id=\"line2d_1\">\r\n      <defs>\r\n       <path d=\"M 0 0 \r\nL 0 3.5 \r\n\" id=\"m51c3fb2fc3\" style=\"stroke:#000000;stroke-width:0.8;\"/>\r\n      </defs>\r\n      <g>\r\n       <use style=\"stroke:#000000;stroke-width:0.8;\" x=\"49.342574\" xlink:href=\"#m51c3fb2fc3\" y=\"143.1\"/>\r\n      </g>\r\n     </g>\r\n     <g id=\"text_1\">\r\n      <!-- −2 -->\r\n      <g transform=\"translate(41.971481 157.698438)scale(0.1 -0.1)\">\r\n       <defs>\r\n        <path d=\"M 10.59375 35.5 \r\nL 73.1875 35.5 \r\nL 73.1875 27.203125 \r\nL 10.59375 27.203125 \r\nz\r\n\" id=\"DejaVuSans-8722\"/>\r\n        <path d=\"M 19.1875 8.296875 \r\nL 53.609375 8.296875 \r\nL 53.609375 0 \r\nL 7.328125 0 \r\nL 7.328125 8.296875 \r\nQ 12.9375 14.109375 22.625 23.890625 \r\nQ 32.328125 33.6875 34.8125 36.53125 \r\nQ 39.546875 41.84375 41.421875 45.53125 \r\nQ 43.3125 49.21875 43.3125 52.78125 \r\nQ 43.3125 58.59375 39.234375 62.25 \r\nQ 35.15625 65.921875 28.609375 65.921875 \r\nQ 23.96875 65.921875 18.8125 64.3125 \r\nQ 13.671875 62.703125 7.8125 59.421875 \r\nL 7.8125 69.390625 \r\nQ 13.765625 71.78125 18.9375 73 \r\nQ 24.125 74.21875 28.421875 74.21875 \r\nQ 39.75 74.21875 46.484375 68.546875 \r\nQ 53.21875 62.890625 53.21875 53.421875 \r\nQ 53.21875 48.921875 51.53125 44.890625 \r\nQ 49.859375 40.875 45.40625 35.40625 \r\nQ 44.1875 33.984375 37.640625 27.21875 \r\nQ 31.109375 20.453125 19.1875 8.296875 \r\nz\r\n\" id=\"DejaVuSans-50\"/>\r\n       </defs>\r\n       <use xlink:href=\"#DejaVuSans-8722\"/>\r\n       <use x=\"83.789062\" xlink:href=\"#DejaVuSans-50\"/>\r\n      </g>\r\n     </g>\r\n    </g>\r\n    <g id=\"xtick_2\">\r\n     <g id=\"line2d_2\">\r\n      <g>\r\n       <use style=\"stroke:#000000;stroke-width:0.8;\" x=\"108.601772\" xlink:href=\"#m51c3fb2fc3\" y=\"143.1\"/>\r\n      </g>\r\n     </g>\r\n     <g id=\"text_2\">\r\n      <!-- 0 -->\r\n      <g transform=\"translate(105.420522 157.698438)scale(0.1 -0.1)\">\r\n       <defs>\r\n        <path d=\"M 31.78125 66.40625 \r\nQ 24.171875 66.40625 20.328125 58.90625 \r\nQ 16.5 51.421875 16.5 36.375 \r\nQ 16.5 21.390625 20.328125 13.890625 \r\nQ 24.171875 6.390625 31.78125 6.390625 \r\nQ 39.453125 6.390625 43.28125 13.890625 \r\nQ 47.125 21.390625 47.125 36.375 \r\nQ 47.125 51.421875 43.28125 58.90625 \r\nQ 39.453125 66.40625 31.78125 66.40625 \r\nz\r\nM 31.78125 74.21875 \r\nQ 44.046875 74.21875 50.515625 64.515625 \r\nQ 56.984375 54.828125 56.984375 36.375 \r\nQ 56.984375 17.96875 50.515625 8.265625 \r\nQ 44.046875 -1.421875 31.78125 -1.421875 \r\nQ 19.53125 -1.421875 13.0625 8.265625 \r\nQ 6.59375 17.96875 6.59375 36.375 \r\nQ 6.59375 54.828125 13.0625 64.515625 \r\nQ 19.53125 74.21875 31.78125 74.21875 \r\nz\r\n\" id=\"DejaVuSans-48\"/>\r\n       </defs>\r\n       <use xlink:href=\"#DejaVuSans-48\"/>\r\n      </g>\r\n     </g>\r\n    </g>\r\n    <g id=\"xtick_3\">\r\n     <g id=\"line2d_3\">\r\n      <g>\r\n       <use style=\"stroke:#000000;stroke-width:0.8;\" x=\"167.860969\" xlink:href=\"#m51c3fb2fc3\" y=\"143.1\"/>\r\n      </g>\r\n     </g>\r\n     <g id=\"text_3\">\r\n      <!-- 2 -->\r\n      <g transform=\"translate(164.679719 157.698438)scale(0.1 -0.1)\">\r\n       <use xlink:href=\"#DejaVuSans-50\"/>\r\n      </g>\r\n     </g>\r\n    </g>\r\n    <g id=\"xtick_4\">\r\n     <g id=\"line2d_4\">\r\n      <g>\r\n       <use style=\"stroke:#000000;stroke-width:0.8;\" x=\"227.120167\" xlink:href=\"#m51c3fb2fc3\" y=\"143.1\"/>\r\n      </g>\r\n     </g>\r\n     <g id=\"text_4\">\r\n      <!-- 4 -->\r\n      <g transform=\"translate(223.938917 157.698438)scale(0.1 -0.1)\">\r\n       <defs>\r\n        <path d=\"M 37.796875 64.3125 \r\nL 12.890625 25.390625 \r\nL 37.796875 25.390625 \r\nz\r\nM 35.203125 72.90625 \r\nL 47.609375 72.90625 \r\nL 47.609375 25.390625 \r\nL 58.015625 25.390625 \r\nL 58.015625 17.1875 \r\nL 47.609375 17.1875 \r\nL 47.609375 0 \r\nL 37.796875 0 \r\nL 37.796875 17.1875 \r\nL 4.890625 17.1875 \r\nL 4.890625 26.703125 \r\nz\r\n\" id=\"DejaVuSans-52\"/>\r\n       </defs>\r\n       <use xlink:href=\"#DejaVuSans-52\"/>\r\n      </g>\r\n     </g>\r\n    </g>\r\n   </g>\r\n   <g id=\"matplotlib.axis_2\">\r\n    <g id=\"ytick_1\">\r\n     <g id=\"line2d_5\">\r\n      <defs>\r\n       <path d=\"M 0 0 \r\nL -3.5 0 \r\n\" id=\"m252ef25ba0\" style=\"stroke:#000000;stroke-width:0.8;\"/>\r\n      </defs>\r\n      <g>\r\n       <use style=\"stroke:#000000;stroke-width:0.8;\" x=\"38.482813\" xlink:href=\"#m252ef25ba0\" y=\"126.594409\"/>\r\n      </g>\r\n     </g>\r\n     <g id=\"text_5\">\r\n      <!-- −2.5 -->\r\n      <g transform=\"translate(7.2 130.393628)scale(0.1 -0.1)\">\r\n       <defs>\r\n        <path d=\"M 10.6875 12.40625 \r\nL 21 12.40625 \r\nL 21 0 \r\nL 10.6875 0 \r\nz\r\n\" id=\"DejaVuSans-46\"/>\r\n        <path d=\"M 10.796875 72.90625 \r\nL 49.515625 72.90625 \r\nL 49.515625 64.59375 \r\nL 19.828125 64.59375 \r\nL 19.828125 46.734375 \r\nQ 21.96875 47.46875 24.109375 47.828125 \r\nQ 26.265625 48.1875 28.421875 48.1875 \r\nQ 40.625 48.1875 47.75 41.5 \r\nQ 54.890625 34.8125 54.890625 23.390625 \r\nQ 54.890625 11.625 47.5625 5.09375 \r\nQ 40.234375 -1.421875 26.90625 -1.421875 \r\nQ 22.3125 -1.421875 17.546875 -0.640625 \r\nQ 12.796875 0.140625 7.71875 1.703125 \r\nL 7.71875 11.625 \r\nQ 12.109375 9.234375 16.796875 8.0625 \r\nQ 21.484375 6.890625 26.703125 6.890625 \r\nQ 35.15625 6.890625 40.078125 11.328125 \r\nQ 45.015625 15.765625 45.015625 23.390625 \r\nQ 45.015625 31 40.078125 35.4375 \r\nQ 35.15625 39.890625 26.703125 39.890625 \r\nQ 22.75 39.890625 18.8125 39.015625 \r\nQ 14.890625 38.140625 10.796875 36.28125 \r\nz\r\n\" id=\"DejaVuSans-53\"/>\r\n       </defs>\r\n       <use xlink:href=\"#DejaVuSans-8722\"/>\r\n       <use x=\"83.789062\" xlink:href=\"#DejaVuSans-50\"/>\r\n       <use x=\"147.412109\" xlink:href=\"#DejaVuSans-46\"/>\r\n       <use x=\"179.199219\" xlink:href=\"#DejaVuSans-53\"/>\r\n      </g>\r\n     </g>\r\n    </g>\r\n    <g id=\"ytick_2\">\r\n     <g id=\"line2d_6\">\r\n      <g>\r\n       <use style=\"stroke:#000000;stroke-width:0.8;\" x=\"38.482813\" xlink:href=\"#m252ef25ba0\" y=\"99.945668\"/>\r\n      </g>\r\n     </g>\r\n     <g id=\"text_6\">\r\n      <!-- 0.0 -->\r\n      <g transform=\"translate(15.579688 103.744887)scale(0.1 -0.1)\">\r\n       <use xlink:href=\"#DejaVuSans-48\"/>\r\n       <use x=\"63.623047\" xlink:href=\"#DejaVuSans-46\"/>\r\n       <use x=\"95.410156\" xlink:href=\"#DejaVuSans-48\"/>\r\n      </g>\r\n     </g>\r\n    </g>\r\n    <g id=\"ytick_3\">\r\n     <g id=\"line2d_7\">\r\n      <g>\r\n       <use style=\"stroke:#000000;stroke-width:0.8;\" x=\"38.482813\" xlink:href=\"#m252ef25ba0\" y=\"73.296927\"/>\r\n      </g>\r\n     </g>\r\n     <g id=\"text_7\">\r\n      <!-- 2.5 -->\r\n      <g transform=\"translate(15.579688 77.096146)scale(0.1 -0.1)\">\r\n       <use xlink:href=\"#DejaVuSans-50\"/>\r\n       <use x=\"63.623047\" xlink:href=\"#DejaVuSans-46\"/>\r\n       <use x=\"95.410156\" xlink:href=\"#DejaVuSans-53\"/>\r\n      </g>\r\n     </g>\r\n    </g>\r\n    <g id=\"ytick_4\">\r\n     <g id=\"line2d_8\">\r\n      <g>\r\n       <use style=\"stroke:#000000;stroke-width:0.8;\" x=\"38.482813\" xlink:href=\"#m252ef25ba0\" y=\"46.648187\"/>\r\n      </g>\r\n     </g>\r\n     <g id=\"text_8\">\r\n      <!-- 5.0 -->\r\n      <g transform=\"translate(15.579688 50.447405)scale(0.1 -0.1)\">\r\n       <use xlink:href=\"#DejaVuSans-53\"/>\r\n       <use x=\"63.623047\" xlink:href=\"#DejaVuSans-46\"/>\r\n       <use x=\"95.410156\" xlink:href=\"#DejaVuSans-48\"/>\r\n      </g>\r\n     </g>\r\n    </g>\r\n    <g id=\"ytick_5\">\r\n     <g id=\"line2d_9\">\r\n      <g>\r\n       <use style=\"stroke:#000000;stroke-width:0.8;\" x=\"38.482813\" xlink:href=\"#m252ef25ba0\" y=\"19.999446\"/>\r\n      </g>\r\n     </g>\r\n     <g id=\"text_9\">\r\n      <!-- 7.5 -->\r\n      <g transform=\"translate(15.579688 23.798665)scale(0.1 -0.1)\">\r\n       <defs>\r\n        <path d=\"M 8.203125 72.90625 \r\nL 55.078125 72.90625 \r\nL 55.078125 68.703125 \r\nL 28.609375 0 \r\nL 18.3125 0 \r\nL 43.21875 64.59375 \r\nL 8.203125 64.59375 \r\nz\r\n\" id=\"DejaVuSans-55\"/>\r\n       </defs>\r\n       <use xlink:href=\"#DejaVuSans-55\"/>\r\n       <use x=\"63.623047\" xlink:href=\"#DejaVuSans-46\"/>\r\n       <use x=\"95.410156\" xlink:href=\"#DejaVuSans-53\"/>\r\n      </g>\r\n     </g>\r\n    </g>\r\n   </g>\r\n   <g id=\"patch_3\">\r\n    <path d=\"M 38.482813 143.1 \r\nL 38.482813 7.2 \r\n\" style=\"fill:none;stroke:#000000;stroke-linecap:square;stroke-linejoin:miter;stroke-width:0.8;\"/>\r\n   </g>\r\n   <g id=\"patch_4\">\r\n    <path d=\"M 233.782813 143.1 \r\nL 233.782813 7.2 \r\n\" style=\"fill:none;stroke:#000000;stroke-linecap:square;stroke-linejoin:miter;stroke-width:0.8;\"/>\r\n   </g>\r\n   <g id=\"patch_5\">\r\n    <path d=\"M 38.482813 143.1 \r\nL 233.782813 143.1 \r\n\" style=\"fill:none;stroke:#000000;stroke-linecap:square;stroke-linejoin:miter;stroke-width:0.8;\"/>\r\n   </g>\r\n   <g id=\"patch_6\">\r\n    <path d=\"M 38.482813 7.2 \r\nL 233.782813 7.2 \r\n\" style=\"fill:none;stroke:#000000;stroke-linecap:square;stroke-linejoin:miter;stroke-width:0.8;\"/>\r\n   </g>\r\n  </g>\r\n </g>\r\n <defs>\r\n  <clipPath id=\"p9636af0493\">\r\n   <rect height=\"135.9\" width=\"195.3\" x=\"38.482813\" y=\"7.2\"/>\r\n  </clipPath>\r\n </defs>\r\n</svg>\r\n"
     },
     "metadata": {
      "needs_background": "light"
     }
    }
   ],
   "source": [
    "d2l.set_figsize()\n",
    "d2l.plt.scatter(data[:100, 0].numpy(), data[:100, 1].numpy());\n",
    "print(f'The covariance matrix is\\n{torch.mm(A.T, A)}')"
   ]
  },
  {
   "cell_type": "code",
   "execution_count": 4,
   "metadata": {},
   "outputs": [],
   "source": [
    "batch_size = 8\n",
    "data_iter = DataLoader(data, batch_size=batch_size)"
   ]
  },
  {
   "cell_type": "code",
   "execution_count": 5,
   "metadata": {},
   "outputs": [],
   "source": [
    "net_G = nn.Sequential()\n",
    "net_G.add_module(\"Linear\", nn.Linear(2, 2))"
   ]
  },
  {
   "cell_type": "code",
   "execution_count": 6,
   "metadata": {},
   "outputs": [],
   "source": [
    "net_D = nn.Sequential()\n",
    "net_D.add_module(\"Linear1t\", nn.Linear(2, 5))\n",
    "net_D.add_module(\"Tanh1\", nn.Tanh())\n",
    "net_D.add_module(\"Linear2t\", nn.Linear(5, 3))\n",
    "net_D.add_module(\"Tanh2\", nn.Tanh())\n",
    "net_D.add_module(\"Linear3\", nn.Linear(3, 1))\n",
    "net_D.add_module(\"Sigmoid\", nn.Sigmoid())\n"
   ]
  },
  {
   "cell_type": "code",
   "execution_count": 7,
   "metadata": {},
   "outputs": [],
   "source": [
    "#@save\n",
    "def update_D(X, Z, net_D, net_G, loss, trainer_D):\n",
    "    \"\"\"Update discriminator.\"\"\"\n",
    "    batch_size = X.shape[0]\n",
    "    ones = torch.ones(batch_size)\n",
    "    zeros = torch.zeros(batch_size)\n",
    "    trainer_D.zero_grad()\n",
    "    real_Y = net_D(X)\n",
    "    fake_X = net_G(Z)\n",
    "    # Do not need to compute gradient for `net_G`, detach it from\n",
    "    # computing gradients.\n",
    "    fake_Y = net_D(fake_X.detach())\n",
    "    loss_D = (loss(real_Y, ones) + loss(fake_Y, zeros)) / 2\n",
    "    loss_D.backward()\n",
    "    trainer_D.step(batch_size)\n",
    "    return float(loss_D.sum())"
   ]
  },
  {
   "cell_type": "code",
   "execution_count": 8,
   "metadata": {},
   "outputs": [],
   "source": [
    "#@save\n",
    "def update_G(Z, net_D, net_G, loss, trainer_G):\n",
    "    \"\"\"Update generator.\"\"\"\n",
    "    batch_size = Z.shape[0]\n",
    "    ones = torch.ones(batch_size)\n",
    "    trainer_D.zero_grad()\n",
    "    # We could reuse `fake_X` from `update_D` to save computation\n",
    "    fake_X = net_G(Z)\n",
    "    # Recomputing `fake_Y` is needed since `net_D` is changed\n",
    "    fake_Y = net_D(fake_X)\n",
    "    loss_G = (loss(real_Y, ones) + loss(fake_Y, zeros)) / 2\n",
    "    loss_G.backward()\n",
    "    trainer_G.step(batch_size)\n",
    "    return float(loss_G.sum())"
   ]
  },
  {
   "cell_type": "code",
   "execution_count": 9,
   "metadata": {},
   "outputs": [],
   "source": [
    "def train(net_D, net_G, data_iter, num_epochs, lr_D, lr_G, latent_dim, data):\n",
    "    loss = nn.BCELoss()\n",
    "    for w in net_D.parameters():\n",
    "        nn.init.normal_(w, 0, 0.02)\n",
    "    for w in net_G.parameters():\n",
    "        nn.init.normal_(w, 0, 0.02)\n",
    "    trainer_D = torch.optim.Adam(net_D.parameters(), lr=lr_D)\n",
    "    trainer_G = torch.optim.Adam(net_G.parameters(), lr=lr_G)\n",
    "    animator = d2l.Animator(xlabel='epoch', ylabel='loss',\n",
    "                            xlim=[1, num_epochs], nrows=2, figsize=(5, 5),\n",
    "                            legend=['generator', 'discriminator'])\n",
    "    animator.fig.subplots_adjust(hspace=0.3)\n",
    "    for epoch in range(num_epochs):\n",
    "        # Train one epoch\n",
    "        timer = d2l.Timer()\n",
    "        metric = d2l.Accumulator(3)  # loss_D, loss_G, num_examples\n",
    "        for X in data_iter:\n",
    "            X = Variable(X)\n",
    "            batch_size = X.shape[0]\n",
    "            Z = torch.normal(0, 1, size=(batch_size, latent_dim))\n",
    "            metric.add(update_D(X, Z, net_D, net_G, loss, trainer_D),\n",
    "                       update_G(Z, net_D, net_G, loss, trainer_G),\n",
    "                       batch_size)\n",
    "        # Visualize generated examples\n",
    "        Z = torch.normal(0, 1, size=(100, latent_dim))\n",
    "        fake_X = net_G(Z).numpy()\n",
    "        animator.axes[1].cla()\n",
    "        animator.axes[1].scatter(data[:, 0], data[:, 1])\n",
    "        animator.axes[1].scatter(fake_X[:, 0], fake_X[:, 1])\n",
    "        animator.axes[1].legend(['real', 'generated'])\n",
    "        # Show the losses\n",
    "        loss_D, loss_G = metric[0]/metric[2], metric[1]/metric[2]\n",
    "        animator.add(epoch + 1, (loss_D, loss_G))\n",
    "    print(f'loss_D {loss_D:.3f}, loss_G {loss_G:.3f}, '\n",
    "          f'{metric[2] / timer.stop():.1f} examples/sec')"
   ]
  },
  {
   "cell_type": "code",
   "execution_count": 10,
   "metadata": {},
   "outputs": [
    {
     "output_type": "error",
     "ename": "TypeError",
     "evalue": "'int' object is not callable",
     "traceback": [
      "\u001b[1;31m---------------------------------------------------------------------------\u001b[0m",
      "\u001b[1;31mTypeError\u001b[0m                                 Traceback (most recent call last)",
      "\u001b[1;32m<ipython-input-10-46803ce9c191>\u001b[0m in \u001b[0;36m<module>\u001b[1;34m\u001b[0m\n\u001b[0;32m      1\u001b[0m \u001b[0mlr_D\u001b[0m\u001b[1;33m,\u001b[0m \u001b[0mlr_G\u001b[0m\u001b[1;33m,\u001b[0m \u001b[0mlatent_dim\u001b[0m\u001b[1;33m,\u001b[0m \u001b[0mnum_epochs\u001b[0m \u001b[1;33m=\u001b[0m \u001b[1;36m0.05\u001b[0m\u001b[1;33m,\u001b[0m \u001b[1;36m0.005\u001b[0m\u001b[1;33m,\u001b[0m \u001b[1;36m2\u001b[0m\u001b[1;33m,\u001b[0m \u001b[1;36m20\u001b[0m\u001b[1;33m\u001b[0m\u001b[1;33m\u001b[0m\u001b[0m\n\u001b[1;32m----> 2\u001b[1;33m train(net_D, net_G, data_iter, num_epochs, lr_D, lr_G,\n\u001b[0m\u001b[0;32m      3\u001b[0m       latent_dim, data[:100].numpy())\n",
      "\u001b[1;32m<ipython-input-9-af00191c3363>\u001b[0m in \u001b[0;36mtrain\u001b[1;34m(net_D, net_G, data_iter, num_epochs, lr_D, lr_G, latent_dim, data)\u001b[0m\n\u001b[0;32m     19\u001b[0m             \u001b[0mbatch_size\u001b[0m \u001b[1;33m=\u001b[0m \u001b[0mX\u001b[0m\u001b[1;33m.\u001b[0m\u001b[0mshape\u001b[0m\u001b[1;33m[\u001b[0m\u001b[1;36m0\u001b[0m\u001b[1;33m]\u001b[0m\u001b[1;33m\u001b[0m\u001b[1;33m\u001b[0m\u001b[0m\n\u001b[0;32m     20\u001b[0m             \u001b[0mZ\u001b[0m \u001b[1;33m=\u001b[0m \u001b[0mtorch\u001b[0m\u001b[1;33m.\u001b[0m\u001b[0mnormal\u001b[0m\u001b[1;33m(\u001b[0m\u001b[1;36m0\u001b[0m\u001b[1;33m,\u001b[0m \u001b[1;36m1\u001b[0m\u001b[1;33m,\u001b[0m \u001b[0msize\u001b[0m\u001b[1;33m=\u001b[0m\u001b[1;33m(\u001b[0m\u001b[0mbatch_size\u001b[0m\u001b[1;33m,\u001b[0m \u001b[0mlatent_dim\u001b[0m\u001b[1;33m)\u001b[0m\u001b[1;33m)\u001b[0m\u001b[1;33m\u001b[0m\u001b[1;33m\u001b[0m\u001b[0m\n\u001b[1;32m---> 21\u001b[1;33m             metric.add(update_D(X, Z, net_D, net_G, loss, trainer_D),\n\u001b[0m\u001b[0;32m     22\u001b[0m                        \u001b[0mupdate_G\u001b[0m\u001b[1;33m(\u001b[0m\u001b[0mZ\u001b[0m\u001b[1;33m,\u001b[0m \u001b[0mnet_D\u001b[0m\u001b[1;33m,\u001b[0m \u001b[0mnet_G\u001b[0m\u001b[1;33m,\u001b[0m \u001b[0mloss\u001b[0m\u001b[1;33m,\u001b[0m \u001b[0mtrainer_G\u001b[0m\u001b[1;33m)\u001b[0m\u001b[1;33m,\u001b[0m\u001b[1;33m\u001b[0m\u001b[1;33m\u001b[0m\u001b[0m\n\u001b[0;32m     23\u001b[0m                        batch_size)\n",
      "\u001b[1;32m<ipython-input-7-662dc7b5fcea>\u001b[0m in \u001b[0;36mupdate_D\u001b[1;34m(X, Z, net_D, net_G, loss, trainer_D)\u001b[0m\n\u001b[0;32m     13\u001b[0m     \u001b[0mloss_D\u001b[0m \u001b[1;33m=\u001b[0m \u001b[1;33m(\u001b[0m\u001b[0mloss\u001b[0m\u001b[1;33m(\u001b[0m\u001b[0mreal_Y\u001b[0m\u001b[1;33m,\u001b[0m \u001b[0mones\u001b[0m\u001b[1;33m)\u001b[0m \u001b[1;33m+\u001b[0m \u001b[0mloss\u001b[0m\u001b[1;33m(\u001b[0m\u001b[0mfake_Y\u001b[0m\u001b[1;33m,\u001b[0m \u001b[0mzeros\u001b[0m\u001b[1;33m)\u001b[0m\u001b[1;33m)\u001b[0m \u001b[1;33m/\u001b[0m \u001b[1;36m2\u001b[0m\u001b[1;33m\u001b[0m\u001b[1;33m\u001b[0m\u001b[0m\n\u001b[0;32m     14\u001b[0m     \u001b[0mloss_D\u001b[0m\u001b[1;33m.\u001b[0m\u001b[0mbackward\u001b[0m\u001b[1;33m(\u001b[0m\u001b[1;33m)\u001b[0m\u001b[1;33m\u001b[0m\u001b[1;33m\u001b[0m\u001b[0m\n\u001b[1;32m---> 15\u001b[1;33m     \u001b[0mtrainer_D\u001b[0m\u001b[1;33m.\u001b[0m\u001b[0mstep\u001b[0m\u001b[1;33m(\u001b[0m\u001b[0mbatch_size\u001b[0m\u001b[1;33m)\u001b[0m\u001b[1;33m\u001b[0m\u001b[1;33m\u001b[0m\u001b[0m\n\u001b[0m\u001b[0;32m     16\u001b[0m     \u001b[1;32mreturn\u001b[0m \u001b[0mfloat\u001b[0m\u001b[1;33m(\u001b[0m\u001b[0mloss_D\u001b[0m\u001b[1;33m.\u001b[0m\u001b[0msum\u001b[0m\u001b[1;33m(\u001b[0m\u001b[1;33m)\u001b[0m\u001b[1;33m)\u001b[0m\u001b[1;33m\u001b[0m\u001b[1;33m\u001b[0m\u001b[0m\n",
      "\u001b[1;32m~\\anaconda3\\envs\\pytorch\\lib\\site-packages\\torch\\autograd\\grad_mode.py\u001b[0m in \u001b[0;36mdecorate_context\u001b[1;34m(*args, **kwargs)\u001b[0m\n\u001b[0;32m     13\u001b[0m         \u001b[1;32mdef\u001b[0m \u001b[0mdecorate_context\u001b[0m\u001b[1;33m(\u001b[0m\u001b[1;33m*\u001b[0m\u001b[0margs\u001b[0m\u001b[1;33m,\u001b[0m \u001b[1;33m**\u001b[0m\u001b[0mkwargs\u001b[0m\u001b[1;33m)\u001b[0m\u001b[1;33m:\u001b[0m\u001b[1;33m\u001b[0m\u001b[1;33m\u001b[0m\u001b[0m\n\u001b[0;32m     14\u001b[0m             \u001b[1;32mwith\u001b[0m \u001b[0mself\u001b[0m\u001b[1;33m:\u001b[0m\u001b[1;33m\u001b[0m\u001b[1;33m\u001b[0m\u001b[0m\n\u001b[1;32m---> 15\u001b[1;33m                 \u001b[1;32mreturn\u001b[0m \u001b[0mfunc\u001b[0m\u001b[1;33m(\u001b[0m\u001b[1;33m*\u001b[0m\u001b[0margs\u001b[0m\u001b[1;33m,\u001b[0m \u001b[1;33m**\u001b[0m\u001b[0mkwargs\u001b[0m\u001b[1;33m)\u001b[0m\u001b[1;33m\u001b[0m\u001b[1;33m\u001b[0m\u001b[0m\n\u001b[0m\u001b[0;32m     16\u001b[0m         \u001b[1;32mreturn\u001b[0m \u001b[0mdecorate_context\u001b[0m\u001b[1;33m\u001b[0m\u001b[1;33m\u001b[0m\u001b[0m\n\u001b[0;32m     17\u001b[0m \u001b[1;33m\u001b[0m\u001b[0m\n",
      "\u001b[1;32m~\\anaconda3\\envs\\pytorch\\lib\\site-packages\\torch\\optim\\adam.py\u001b[0m in \u001b[0;36mstep\u001b[1;34m(self, closure)\u001b[0m\n\u001b[0;32m     60\u001b[0m         \u001b[1;32mif\u001b[0m \u001b[0mclosure\u001b[0m \u001b[1;32mis\u001b[0m \u001b[1;32mnot\u001b[0m \u001b[1;32mNone\u001b[0m\u001b[1;33m:\u001b[0m\u001b[1;33m\u001b[0m\u001b[1;33m\u001b[0m\u001b[0m\n\u001b[0;32m     61\u001b[0m             \u001b[1;32mwith\u001b[0m \u001b[0mtorch\u001b[0m\u001b[1;33m.\u001b[0m\u001b[0menable_grad\u001b[0m\u001b[1;33m(\u001b[0m\u001b[1;33m)\u001b[0m\u001b[1;33m:\u001b[0m\u001b[1;33m\u001b[0m\u001b[1;33m\u001b[0m\u001b[0m\n\u001b[1;32m---> 62\u001b[1;33m                 \u001b[0mloss\u001b[0m \u001b[1;33m=\u001b[0m \u001b[0mclosure\u001b[0m\u001b[1;33m(\u001b[0m\u001b[1;33m)\u001b[0m\u001b[1;33m\u001b[0m\u001b[1;33m\u001b[0m\u001b[0m\n\u001b[0m\u001b[0;32m     63\u001b[0m \u001b[1;33m\u001b[0m\u001b[0m\n\u001b[0;32m     64\u001b[0m         \u001b[1;32mfor\u001b[0m \u001b[0mgroup\u001b[0m \u001b[1;32min\u001b[0m \u001b[0mself\u001b[0m\u001b[1;33m.\u001b[0m\u001b[0mparam_groups\u001b[0m\u001b[1;33m:\u001b[0m\u001b[1;33m\u001b[0m\u001b[1;33m\u001b[0m\u001b[0m\n",
      "\u001b[1;31mTypeError\u001b[0m: 'int' object is not callable"
     ]
    }
   ],
   "source": [
    "lr_D, lr_G, latent_dim, num_epochs = 0.05, 0.005, 2, 20\n",
    "train(net_D, net_G, data_iter, num_epochs, lr_D, lr_G,\n",
    "      latent_dim, data[:100].numpy())"
   ]
  },
  {
   "cell_type": "code",
   "execution_count": null,
   "metadata": {},
   "outputs": [],
   "source": []
  }
 ]
}