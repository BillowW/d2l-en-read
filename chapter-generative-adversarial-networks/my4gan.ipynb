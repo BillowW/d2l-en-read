{
 "metadata": {
  "language_info": {
   "codemirror_mode": {
    "name": "ipython",
    "version": 3
   },
   "file_extension": ".py",
   "mimetype": "text/x-python",
   "name": "python",
   "nbconvert_exporter": "python",
   "pygments_lexer": "ipython3",
   "version": "3.8.3-final"
  },
  "orig_nbformat": 2,
  "kernelspec": {
   "name": "python38364bitpytorchconda70fdc7f787194f4c972bb3207dd25917",
   "display_name": "Python 3.8.3 64-bit ('pytorch': conda)"
  }
 },
 "nbformat": 4,
 "nbformat_minor": 2,
 "cells": [
  {
   "cell_type": "code",
   "execution_count": 1,
   "metadata": {},
   "outputs": [],
   "source": [
    "%matplotlib inline\n",
    "from d2l import torch as d2l\n",
    "import torch\n",
    "from torch.utils.data import DataLoader\n",
    "from torch.autograd import Variable\n",
    "from torch import nn"
   ]
  },
  {
   "cell_type": "code",
   "execution_count": 2,
   "metadata": {},
   "outputs": [],
   "source": [
    "X = torch.normal(0.0, 1, (1000, 2))\n",
    "A = torch.tensor([[1, 2], [-0.1, 0.5]])\n",
    "b = torch.tensor([1, 2])\n",
    "data = torch.mm(X, A) + b"
   ]
  },
  {
   "cell_type": "code",
   "execution_count": 3,
   "metadata": {
    "tags": []
   },
   "outputs": [
    {
     "output_type": "stream",
     "name": "stdout",
     "text": "The covariance matrix is\ntensor([[1.0100, 1.9500],\n        [1.9500, 4.2500]])\n"
    },
    {
     "output_type": "display_data",
     "data": {
      "text/plain": "<Figure size 252x180 with 1 Axes>",
      "image/svg+xml": "<?xml version=\"1.0\" encoding=\"utf-8\" standalone=\"no\"?>\r\n<!DOCTYPE svg PUBLIC \"-//W3C//DTD SVG 1.1//EN\"\r\n  \"http://www.w3.org/Graphics/SVG/1.1/DTD/svg11.dtd\">\r\n<!-- Created with matplotlib (https://matplotlib.org/) -->\r\n<svg height=\"166.978125pt\" version=\"1.1\" viewBox=\"0 0 231.442187 166.978125\" width=\"231.442187pt\" xmlns=\"http://www.w3.org/2000/svg\" xmlns:xlink=\"http://www.w3.org/1999/xlink\">\r\n <metadata>\r\n  <rdf:RDF xmlns:cc=\"http://creativecommons.org/ns#\" xmlns:dc=\"http://purl.org/dc/elements/1.1/\" xmlns:rdf=\"http://www.w3.org/1999/02/22-rdf-syntax-ns#\">\r\n   <cc:Work>\r\n    <dc:type rdf:resource=\"http://purl.org/dc/dcmitype/StillImage\"/>\r\n    <dc:date>2020-08-06T22:55:09.203977</dc:date>\r\n    <dc:format>image/svg+xml</dc:format>\r\n    <dc:creator>\r\n     <cc:Agent>\r\n      <dc:title>Matplotlib v3.3.0, https://matplotlib.org/</dc:title>\r\n     </cc:Agent>\r\n    </dc:creator>\r\n   </cc:Work>\r\n  </rdf:RDF>\r\n </metadata>\r\n <defs>\r\n  <style type=\"text/css\">*{stroke-linecap:butt;stroke-linejoin:round;}</style>\r\n </defs>\r\n <g id=\"figure_1\">\r\n  <g id=\"patch_1\">\r\n   <path d=\"M 0 166.978125 \r\nL 231.442187 166.978125 \r\nL 231.442187 0 \r\nL 0 0 \r\nz\r\n\" style=\"fill:none;\"/>\r\n  </g>\r\n  <g id=\"axes_1\">\r\n   <g id=\"patch_2\">\r\n    <path d=\"M 28.942188 143.1 \r\nL 224.242188 143.1 \r\nL 224.242188 7.2 \r\nL 28.942188 7.2 \r\nz\r\n\" style=\"fill:#ffffff;\"/>\r\n   </g>\r\n   <g id=\"PathCollection_1\">\r\n    <defs>\r\n     <path d=\"M 0 3 \r\nC 0.795609 3 1.55874 2.683901 2.12132 2.12132 \r\nC 2.683901 1.55874 3 0.795609 3 0 \r\nC 3 -0.795609 2.683901 -1.55874 2.12132 -2.12132 \r\nC 1.55874 -2.683901 0.795609 -3 0 -3 \r\nC -0.795609 -3 -1.55874 -2.683901 -2.12132 -2.12132 \r\nC -2.683901 -1.55874 -3 -0.795609 -3 0 \r\nC -3 0.795609 -2.683901 1.55874 -2.12132 2.12132 \r\nC -1.55874 2.683901 -0.795609 3 0 3 \r\nz\r\n\" id=\"m8362200d38\" style=\"stroke:#1f77b4;\"/>\r\n    </defs>\r\n    <g clip-path=\"url(#p92b0575102)\">\r\n     <use style=\"fill:#1f77b4;stroke:#1f77b4;\" x=\"171.120798\" xlink:href=\"#m8362200d38\" y=\"39.958391\"/>\r\n     <use style=\"fill:#1f77b4;stroke:#1f77b4;\" x=\"93.156179\" xlink:href=\"#m8362200d38\" y=\"89.392132\"/>\r\n     <use style=\"fill:#1f77b4;stroke:#1f77b4;\" x=\"104.937247\" xlink:href=\"#m8362200d38\" y=\"86.080309\"/>\r\n     <use style=\"fill:#1f77b4;stroke:#1f77b4;\" x=\"137.304059\" xlink:href=\"#m8362200d38\" y=\"61.13055\"/>\r\n     <use style=\"fill:#1f77b4;stroke:#1f77b4;\" x=\"112.769122\" xlink:href=\"#m8362200d38\" y=\"73.403012\"/>\r\n     <use style=\"fill:#1f77b4;stroke:#1f77b4;\" x=\"166.554837\" xlink:href=\"#m8362200d38\" y=\"48.982703\"/>\r\n     <use style=\"fill:#1f77b4;stroke:#1f77b4;\" x=\"158.460319\" xlink:href=\"#m8362200d38\" y=\"42.532574\"/>\r\n     <use style=\"fill:#1f77b4;stroke:#1f77b4;\" x=\"99.629717\" xlink:href=\"#m8362200d38\" y=\"71.636052\"/>\r\n     <use style=\"fill:#1f77b4;stroke:#1f77b4;\" x=\"84.49577\" xlink:href=\"#m8362200d38\" y=\"89.241797\"/>\r\n     <use style=\"fill:#1f77b4;stroke:#1f77b4;\" x=\"117.442896\" xlink:href=\"#m8362200d38\" y=\"63.517171\"/>\r\n     <use style=\"fill:#1f77b4;stroke:#1f77b4;\" x=\"100.233436\" xlink:href=\"#m8362200d38\" y=\"78.834931\"/>\r\n     <use style=\"fill:#1f77b4;stroke:#1f77b4;\" x=\"142.015854\" xlink:href=\"#m8362200d38\" y=\"63.106786\"/>\r\n     <use style=\"fill:#1f77b4;stroke:#1f77b4;\" x=\"83.928756\" xlink:href=\"#m8362200d38\" y=\"98.642427\"/>\r\n     <use style=\"fill:#1f77b4;stroke:#1f77b4;\" x=\"107.938995\" xlink:href=\"#m8362200d38\" y=\"85.181129\"/>\r\n     <use style=\"fill:#1f77b4;stroke:#1f77b4;\" x=\"128.656456\" xlink:href=\"#m8362200d38\" y=\"65.024654\"/>\r\n     <use style=\"fill:#1f77b4;stroke:#1f77b4;\" x=\"92.911993\" xlink:href=\"#m8362200d38\" y=\"86.091845\"/>\r\n     <use style=\"fill:#1f77b4;stroke:#1f77b4;\" x=\"148.751243\" xlink:href=\"#m8362200d38\" y=\"55.631406\"/>\r\n     <use style=\"fill:#1f77b4;stroke:#1f77b4;\" x=\"84.685783\" xlink:href=\"#m8362200d38\" y=\"97.33418\"/>\r\n     <use style=\"fill:#1f77b4;stroke:#1f77b4;\" x=\"105.385995\" xlink:href=\"#m8362200d38\" y=\"83.301568\"/>\r\n     <use style=\"fill:#1f77b4;stroke:#1f77b4;\" x=\"115.338654\" xlink:href=\"#m8362200d38\" y=\"81.595122\"/>\r\n     <use style=\"fill:#1f77b4;stroke:#1f77b4;\" x=\"134.405596\" xlink:href=\"#m8362200d38\" y=\"59.855339\"/>\r\n     <use style=\"fill:#1f77b4;stroke:#1f77b4;\" x=\"124.677864\" xlink:href=\"#m8362200d38\" y=\"77.383013\"/>\r\n     <use style=\"fill:#1f77b4;stroke:#1f77b4;\" x=\"124.942991\" xlink:href=\"#m8362200d38\" y=\"70.16594\"/>\r\n     <use style=\"fill:#1f77b4;stroke:#1f77b4;\" x=\"108.55061\" xlink:href=\"#m8362200d38\" y=\"79.096578\"/>\r\n     <use style=\"fill:#1f77b4;stroke:#1f77b4;\" x=\"96.951703\" xlink:href=\"#m8362200d38\" y=\"88.730345\"/>\r\n     <use style=\"fill:#1f77b4;stroke:#1f77b4;\" x=\"119.894356\" xlink:href=\"#m8362200d38\" y=\"73.112144\"/>\r\n     <use style=\"fill:#1f77b4;stroke:#1f77b4;\" x=\"82.492551\" xlink:href=\"#m8362200d38\" y=\"106.236588\"/>\r\n     <use style=\"fill:#1f77b4;stroke:#1f77b4;\" x=\"103.997507\" xlink:href=\"#m8362200d38\" y=\"82.243172\"/>\r\n     <use style=\"fill:#1f77b4;stroke:#1f77b4;\" x=\"118.171845\" xlink:href=\"#m8362200d38\" y=\"74.67794\"/>\r\n     <use style=\"fill:#1f77b4;stroke:#1f77b4;\" x=\"100.241246\" xlink:href=\"#m8362200d38\" y=\"81.703313\"/>\r\n     <use style=\"fill:#1f77b4;stroke:#1f77b4;\" x=\"85.534983\" xlink:href=\"#m8362200d38\" y=\"98.003696\"/>\r\n     <use style=\"fill:#1f77b4;stroke:#1f77b4;\" x=\"108.627501\" xlink:href=\"#m8362200d38\" y=\"80.872036\"/>\r\n     <use style=\"fill:#1f77b4;stroke:#1f77b4;\" x=\"113.293711\" xlink:href=\"#m8362200d38\" y=\"75.015406\"/>\r\n     <use style=\"fill:#1f77b4;stroke:#1f77b4;\" x=\"99.752639\" xlink:href=\"#m8362200d38\" y=\"81.554691\"/>\r\n     <use style=\"fill:#1f77b4;stroke:#1f77b4;\" x=\"128.279084\" xlink:href=\"#m8362200d38\" y=\"60.699905\"/>\r\n     <use style=\"fill:#1f77b4;stroke:#1f77b4;\" x=\"158.277081\" xlink:href=\"#m8362200d38\" y=\"55.330722\"/>\r\n     <use style=\"fill:#1f77b4;stroke:#1f77b4;\" x=\"101.63648\" xlink:href=\"#m8362200d38\" y=\"80.410595\"/>\r\n     <use style=\"fill:#1f77b4;stroke:#1f77b4;\" x=\"129.916689\" xlink:href=\"#m8362200d38\" y=\"68.264409\"/>\r\n     <use style=\"fill:#1f77b4;stroke:#1f77b4;\" x=\"114.373722\" xlink:href=\"#m8362200d38\" y=\"70.85975\"/>\r\n     <use style=\"fill:#1f77b4;stroke:#1f77b4;\" x=\"80.111303\" xlink:href=\"#m8362200d38\" y=\"105.757327\"/>\r\n     <use style=\"fill:#1f77b4;stroke:#1f77b4;\" x=\"120.099195\" xlink:href=\"#m8362200d38\" y=\"73.285939\"/>\r\n     <use style=\"fill:#1f77b4;stroke:#1f77b4;\" x=\"71.35524\" xlink:href=\"#m8362200d38\" y=\"100.921706\"/>\r\n     <use style=\"fill:#1f77b4;stroke:#1f77b4;\" x=\"146.484397\" xlink:href=\"#m8362200d38\" y=\"59.172349\"/>\r\n     <use style=\"fill:#1f77b4;stroke:#1f77b4;\" x=\"115.237285\" xlink:href=\"#m8362200d38\" y=\"76.175115\"/>\r\n     <use style=\"fill:#1f77b4;stroke:#1f77b4;\" x=\"93.934681\" xlink:href=\"#m8362200d38\" y=\"89.78021\"/>\r\n     <use style=\"fill:#1f77b4;stroke:#1f77b4;\" x=\"215.364915\" xlink:href=\"#m8362200d38\" y=\"13.377273\"/>\r\n     <use style=\"fill:#1f77b4;stroke:#1f77b4;\" x=\"135.006568\" xlink:href=\"#m8362200d38\" y=\"58.665496\"/>\r\n     <use style=\"fill:#1f77b4;stroke:#1f77b4;\" x=\"92.411758\" xlink:href=\"#m8362200d38\" y=\"87.507387\"/>\r\n     <use style=\"fill:#1f77b4;stroke:#1f77b4;\" x=\"140.952202\" xlink:href=\"#m8362200d38\" y=\"52.166657\"/>\r\n     <use style=\"fill:#1f77b4;stroke:#1f77b4;\" x=\"69.130327\" xlink:href=\"#m8362200d38\" y=\"108.254615\"/>\r\n     <use style=\"fill:#1f77b4;stroke:#1f77b4;\" x=\"77.309568\" xlink:href=\"#m8362200d38\" y=\"105.022932\"/>\r\n     <use style=\"fill:#1f77b4;stroke:#1f77b4;\" x=\"87.495956\" xlink:href=\"#m8362200d38\" y=\"93.092707\"/>\r\n     <use style=\"fill:#1f77b4;stroke:#1f77b4;\" x=\"99.725411\" xlink:href=\"#m8362200d38\" y=\"84.883413\"/>\r\n     <use style=\"fill:#1f77b4;stroke:#1f77b4;\" x=\"109.028924\" xlink:href=\"#m8362200d38\" y=\"87.717\"/>\r\n     <use style=\"fill:#1f77b4;stroke:#1f77b4;\" x=\"105.837686\" xlink:href=\"#m8362200d38\" y=\"76.682835\"/>\r\n     <use style=\"fill:#1f77b4;stroke:#1f77b4;\" x=\"121.025361\" xlink:href=\"#m8362200d38\" y=\"72.573289\"/>\r\n     <use style=\"fill:#1f77b4;stroke:#1f77b4;\" x=\"125.588259\" xlink:href=\"#m8362200d38\" y=\"53.772212\"/>\r\n     <use style=\"fill:#1f77b4;stroke:#1f77b4;\" x=\"90.628111\" xlink:href=\"#m8362200d38\" y=\"92.470791\"/>\r\n     <use style=\"fill:#1f77b4;stroke:#1f77b4;\" x=\"122.717578\" xlink:href=\"#m8362200d38\" y=\"58.41236\"/>\r\n     <use style=\"fill:#1f77b4;stroke:#1f77b4;\" x=\"109.665738\" xlink:href=\"#m8362200d38\" y=\"77.940102\"/>\r\n     <use style=\"fill:#1f77b4;stroke:#1f77b4;\" x=\"141.062637\" xlink:href=\"#m8362200d38\" y=\"57.761937\"/>\r\n     <use style=\"fill:#1f77b4;stroke:#1f77b4;\" x=\"132.735293\" xlink:href=\"#m8362200d38\" y=\"66.407155\"/>\r\n     <use style=\"fill:#1f77b4;stroke:#1f77b4;\" x=\"76.304179\" xlink:href=\"#m8362200d38\" y=\"87.755527\"/>\r\n     <use style=\"fill:#1f77b4;stroke:#1f77b4;\" x=\"125.731045\" xlink:href=\"#m8362200d38\" y=\"62.392539\"/>\r\n     <use style=\"fill:#1f77b4;stroke:#1f77b4;\" x=\"142.325086\" xlink:href=\"#m8362200d38\" y=\"49.478797\"/>\r\n     <use style=\"fill:#1f77b4;stroke:#1f77b4;\" x=\"121.651842\" xlink:href=\"#m8362200d38\" y=\"79.427054\"/>\r\n     <use style=\"fill:#1f77b4;stroke:#1f77b4;\" x=\"97.103187\" xlink:href=\"#m8362200d38\" y=\"95.101999\"/>\r\n     <use style=\"fill:#1f77b4;stroke:#1f77b4;\" x=\"128.365939\" xlink:href=\"#m8362200d38\" y=\"53.17339\"/>\r\n     <use style=\"fill:#1f77b4;stroke:#1f77b4;\" x=\"101.997151\" xlink:href=\"#m8362200d38\" y=\"81.409112\"/>\r\n     <use style=\"fill:#1f77b4;stroke:#1f77b4;\" x=\"182.126639\" xlink:href=\"#m8362200d38\" y=\"44.667115\"/>\r\n     <use style=\"fill:#1f77b4;stroke:#1f77b4;\" x=\"37.81946\" xlink:href=\"#m8362200d38\" y=\"136.922727\"/>\r\n     <use style=\"fill:#1f77b4;stroke:#1f77b4;\" x=\"156.207727\" xlink:href=\"#m8362200d38\" y=\"51.211787\"/>\r\n     <use style=\"fill:#1f77b4;stroke:#1f77b4;\" x=\"132.335227\" xlink:href=\"#m8362200d38\" y=\"55.78741\"/>\r\n     <use style=\"fill:#1f77b4;stroke:#1f77b4;\" x=\"105.785804\" xlink:href=\"#m8362200d38\" y=\"77.410136\"/>\r\n     <use style=\"fill:#1f77b4;stroke:#1f77b4;\" x=\"113.326476\" xlink:href=\"#m8362200d38\" y=\"74.9626\"/>\r\n     <use style=\"fill:#1f77b4;stroke:#1f77b4;\" x=\"74.80469\" xlink:href=\"#m8362200d38\" y=\"102.192101\"/>\r\n     <use style=\"fill:#1f77b4;stroke:#1f77b4;\" x=\"166.235078\" xlink:href=\"#m8362200d38\" y=\"52.026769\"/>\r\n     <use style=\"fill:#1f77b4;stroke:#1f77b4;\" x=\"158.476161\" xlink:href=\"#m8362200d38\" y=\"41.020465\"/>\r\n     <use style=\"fill:#1f77b4;stroke:#1f77b4;\" x=\"79.364555\" xlink:href=\"#m8362200d38\" y=\"109.138482\"/>\r\n     <use style=\"fill:#1f77b4;stroke:#1f77b4;\" x=\"114.261942\" xlink:href=\"#m8362200d38\" y=\"83.847068\"/>\r\n     <use style=\"fill:#1f77b4;stroke:#1f77b4;\" x=\"116.75411\" xlink:href=\"#m8362200d38\" y=\"74.648193\"/>\r\n     <use style=\"fill:#1f77b4;stroke:#1f77b4;\" x=\"107.002346\" xlink:href=\"#m8362200d38\" y=\"93.653266\"/>\r\n     <use style=\"fill:#1f77b4;stroke:#1f77b4;\" x=\"144.409146\" xlink:href=\"#m8362200d38\" y=\"56.240005\"/>\r\n     <use style=\"fill:#1f77b4;stroke:#1f77b4;\" x=\"153.061683\" xlink:href=\"#m8362200d38\" y=\"55.369729\"/>\r\n     <use style=\"fill:#1f77b4;stroke:#1f77b4;\" x=\"132.775125\" xlink:href=\"#m8362200d38\" y=\"77.439915\"/>\r\n     <use style=\"fill:#1f77b4;stroke:#1f77b4;\" x=\"113.319832\" xlink:href=\"#m8362200d38\" y=\"81.404521\"/>\r\n     <use style=\"fill:#1f77b4;stroke:#1f77b4;\" x=\"90.647193\" xlink:href=\"#m8362200d38\" y=\"89.363499\"/>\r\n     <use style=\"fill:#1f77b4;stroke:#1f77b4;\" x=\"103.385127\" xlink:href=\"#m8362200d38\" y=\"90.905378\"/>\r\n     <use style=\"fill:#1f77b4;stroke:#1f77b4;\" x=\"129.961968\" xlink:href=\"#m8362200d38\" y=\"72.925681\"/>\r\n     <use style=\"fill:#1f77b4;stroke:#1f77b4;\" x=\"144.775519\" xlink:href=\"#m8362200d38\" y=\"55.890084\"/>\r\n     <use style=\"fill:#1f77b4;stroke:#1f77b4;\" x=\"132.822395\" xlink:href=\"#m8362200d38\" y=\"80.562571\"/>\r\n     <use style=\"fill:#1f77b4;stroke:#1f77b4;\" x=\"91.194201\" xlink:href=\"#m8362200d38\" y=\"74.10747\"/>\r\n     <use style=\"fill:#1f77b4;stroke:#1f77b4;\" x=\"121.437962\" xlink:href=\"#m8362200d38\" y=\"69.066495\"/>\r\n     <use style=\"fill:#1f77b4;stroke:#1f77b4;\" x=\"110.140277\" xlink:href=\"#m8362200d38\" y=\"85.26123\"/>\r\n     <use style=\"fill:#1f77b4;stroke:#1f77b4;\" x=\"132.957891\" xlink:href=\"#m8362200d38\" y=\"55.859928\"/>\r\n     <use style=\"fill:#1f77b4;stroke:#1f77b4;\" x=\"121.305116\" xlink:href=\"#m8362200d38\" y=\"70.939348\"/>\r\n     <use style=\"fill:#1f77b4;stroke:#1f77b4;\" x=\"87.886153\" xlink:href=\"#m8362200d38\" y=\"94.596514\"/>\r\n     <use style=\"fill:#1f77b4;stroke:#1f77b4;\" x=\"115.579272\" xlink:href=\"#m8362200d38\" y=\"76.28965\"/>\r\n     <use style=\"fill:#1f77b4;stroke:#1f77b4;\" x=\"136.2722\" xlink:href=\"#m8362200d38\" y=\"63.896369\"/>\r\n     <use style=\"fill:#1f77b4;stroke:#1f77b4;\" x=\"113.340807\" xlink:href=\"#m8362200d38\" y=\"68.562525\"/>\r\n    </g>\r\n   </g>\r\n   <g id=\"matplotlib.axis_1\">\r\n    <g id=\"xtick_1\">\r\n     <g id=\"line2d_1\">\r\n      <defs>\r\n       <path d=\"M 0 0 \r\nL 0 3.5 \r\n\" id=\"m60deca62bc\" style=\"stroke:#000000;stroke-width:0.8;\"/>\r\n      </defs>\r\n      <g>\r\n       <use style=\"stroke:#000000;stroke-width:0.8;\" x=\"36.867492\" xlink:href=\"#m60deca62bc\" y=\"143.1\"/>\r\n      </g>\r\n     </g>\r\n     <g id=\"text_1\">\r\n      <!-- −2 -->\r\n      <g transform=\"translate(29.496398 157.698438)scale(0.1 -0.1)\">\r\n       <defs>\r\n        <path d=\"M 10.59375 35.5 \r\nL 73.1875 35.5 \r\nL 73.1875 27.203125 \r\nL 10.59375 27.203125 \r\nz\r\n\" id=\"DejaVuSans-8722\"/>\r\n        <path d=\"M 19.1875 8.296875 \r\nL 53.609375 8.296875 \r\nL 53.609375 0 \r\nL 7.328125 0 \r\nL 7.328125 8.296875 \r\nQ 12.9375 14.109375 22.625 23.890625 \r\nQ 32.328125 33.6875 34.8125 36.53125 \r\nQ 39.546875 41.84375 41.421875 45.53125 \r\nQ 43.3125 49.21875 43.3125 52.78125 \r\nQ 43.3125 58.59375 39.234375 62.25 \r\nQ 35.15625 65.921875 28.609375 65.921875 \r\nQ 23.96875 65.921875 18.8125 64.3125 \r\nQ 13.671875 62.703125 7.8125 59.421875 \r\nL 7.8125 69.390625 \r\nQ 13.765625 71.78125 18.9375 73 \r\nQ 24.125 74.21875 28.421875 74.21875 \r\nQ 39.75 74.21875 46.484375 68.546875 \r\nQ 53.21875 62.890625 53.21875 53.421875 \r\nQ 53.21875 48.921875 51.53125 44.890625 \r\nQ 49.859375 40.875 45.40625 35.40625 \r\nQ 44.1875 33.984375 37.640625 27.21875 \r\nQ 31.109375 20.453125 19.1875 8.296875 \r\nz\r\n\" id=\"DejaVuSans-50\"/>\r\n       </defs>\r\n       <use xlink:href=\"#DejaVuSans-8722\"/>\r\n       <use x=\"83.789062\" xlink:href=\"#DejaVuSans-50\"/>\r\n      </g>\r\n     </g>\r\n    </g>\r\n    <g id=\"xtick_2\">\r\n     <g id=\"line2d_2\">\r\n      <g>\r\n       <use style=\"stroke:#000000;stroke-width:0.8;\" x=\"91.464134\" xlink:href=\"#m60deca62bc\" y=\"143.1\"/>\r\n      </g>\r\n     </g>\r\n     <g id=\"text_2\">\r\n      <!-- 0 -->\r\n      <g transform=\"translate(88.282884 157.698438)scale(0.1 -0.1)\">\r\n       <defs>\r\n        <path d=\"M 31.78125 66.40625 \r\nQ 24.171875 66.40625 20.328125 58.90625 \r\nQ 16.5 51.421875 16.5 36.375 \r\nQ 16.5 21.390625 20.328125 13.890625 \r\nQ 24.171875 6.390625 31.78125 6.390625 \r\nQ 39.453125 6.390625 43.28125 13.890625 \r\nQ 47.125 21.390625 47.125 36.375 \r\nQ 47.125 51.421875 43.28125 58.90625 \r\nQ 39.453125 66.40625 31.78125 66.40625 \r\nz\r\nM 31.78125 74.21875 \r\nQ 44.046875 74.21875 50.515625 64.515625 \r\nQ 56.984375 54.828125 56.984375 36.375 \r\nQ 56.984375 17.96875 50.515625 8.265625 \r\nQ 44.046875 -1.421875 31.78125 -1.421875 \r\nQ 19.53125 -1.421875 13.0625 8.265625 \r\nQ 6.59375 17.96875 6.59375 36.375 \r\nQ 6.59375 54.828125 13.0625 64.515625 \r\nQ 19.53125 74.21875 31.78125 74.21875 \r\nz\r\n\" id=\"DejaVuSans-48\"/>\r\n       </defs>\r\n       <use xlink:href=\"#DejaVuSans-48\"/>\r\n      </g>\r\n     </g>\r\n    </g>\r\n    <g id=\"xtick_3\">\r\n     <g id=\"line2d_3\">\r\n      <g>\r\n       <use style=\"stroke:#000000;stroke-width:0.8;\" x=\"146.060777\" xlink:href=\"#m60deca62bc\" y=\"143.1\"/>\r\n      </g>\r\n     </g>\r\n     <g id=\"text_3\">\r\n      <!-- 2 -->\r\n      <g transform=\"translate(142.879527 157.698438)scale(0.1 -0.1)\">\r\n       <use xlink:href=\"#DejaVuSans-50\"/>\r\n      </g>\r\n     </g>\r\n    </g>\r\n    <g id=\"xtick_4\">\r\n     <g id=\"line2d_4\">\r\n      <g>\r\n       <use style=\"stroke:#000000;stroke-width:0.8;\" x=\"200.657419\" xlink:href=\"#m60deca62bc\" y=\"143.1\"/>\r\n      </g>\r\n     </g>\r\n     <g id=\"text_4\">\r\n      <!-- 4 -->\r\n      <g transform=\"translate(197.476169 157.698438)scale(0.1 -0.1)\">\r\n       <defs>\r\n        <path d=\"M 37.796875 64.3125 \r\nL 12.890625 25.390625 \r\nL 37.796875 25.390625 \r\nz\r\nM 35.203125 72.90625 \r\nL 47.609375 72.90625 \r\nL 47.609375 25.390625 \r\nL 58.015625 25.390625 \r\nL 58.015625 17.1875 \r\nL 47.609375 17.1875 \r\nL 47.609375 0 \r\nL 37.796875 0 \r\nL 37.796875 17.1875 \r\nL 4.890625 17.1875 \r\nL 4.890625 26.703125 \r\nz\r\n\" id=\"DejaVuSans-52\"/>\r\n       </defs>\r\n       <use xlink:href=\"#DejaVuSans-52\"/>\r\n      </g>\r\n     </g>\r\n    </g>\r\n   </g>\r\n   <g id=\"matplotlib.axis_2\">\r\n    <g id=\"ytick_1\">\r\n     <g id=\"line2d_5\">\r\n      <defs>\r\n       <path d=\"M 0 0 \r\nL -3.5 0 \r\n\" id=\"m9a3b99637a\" style=\"stroke:#000000;stroke-width:0.8;\"/>\r\n      </defs>\r\n      <g>\r\n       <use style=\"stroke:#000000;stroke-width:0.8;\" x=\"28.942188\" xlink:href=\"#m9a3b99637a\" y=\"135.430528\"/>\r\n      </g>\r\n     </g>\r\n     <g id=\"text_5\">\r\n      <!-- −5 -->\r\n      <g transform=\"translate(7.2 139.229747)scale(0.1 -0.1)\">\r\n       <defs>\r\n        <path d=\"M 10.796875 72.90625 \r\nL 49.515625 72.90625 \r\nL 49.515625 64.59375 \r\nL 19.828125 64.59375 \r\nL 19.828125 46.734375 \r\nQ 21.96875 47.46875 24.109375 47.828125 \r\nQ 26.265625 48.1875 28.421875 48.1875 \r\nQ 40.625 48.1875 47.75 41.5 \r\nQ 54.890625 34.8125 54.890625 23.390625 \r\nQ 54.890625 11.625 47.5625 5.09375 \r\nQ 40.234375 -1.421875 26.90625 -1.421875 \r\nQ 22.3125 -1.421875 17.546875 -0.640625 \r\nQ 12.796875 0.140625 7.71875 1.703125 \r\nL 7.71875 11.625 \r\nQ 12.109375 9.234375 16.796875 8.0625 \r\nQ 21.484375 6.890625 26.703125 6.890625 \r\nQ 35.15625 6.890625 40.078125 11.328125 \r\nQ 45.015625 15.765625 45.015625 23.390625 \r\nQ 45.015625 31 40.078125 35.4375 \r\nQ 35.15625 39.890625 26.703125 39.890625 \r\nQ 22.75 39.890625 18.8125 39.015625 \r\nQ 14.890625 38.140625 10.796875 36.28125 \r\nz\r\n\" id=\"DejaVuSans-53\"/>\r\n       </defs>\r\n       <use xlink:href=\"#DejaVuSans-8722\"/>\r\n       <use x=\"83.789062\" xlink:href=\"#DejaVuSans-53\"/>\r\n      </g>\r\n     </g>\r\n    </g>\r\n    <g id=\"ytick_2\">\r\n     <g id=\"line2d_6\">\r\n      <g>\r\n       <use style=\"stroke:#000000;stroke-width:0.8;\" x=\"28.942188\" xlink:href=\"#m9a3b99637a\" y=\"91.001226\"/>\r\n      </g>\r\n     </g>\r\n     <g id=\"text_6\">\r\n      <!-- 0 -->\r\n      <g transform=\"translate(15.579688 94.800445)scale(0.1 -0.1)\">\r\n       <use xlink:href=\"#DejaVuSans-48\"/>\r\n      </g>\r\n     </g>\r\n    </g>\r\n    <g id=\"ytick_3\">\r\n     <g id=\"line2d_7\">\r\n      <g>\r\n       <use style=\"stroke:#000000;stroke-width:0.8;\" x=\"28.942188\" xlink:href=\"#m9a3b99637a\" y=\"46.571924\"/>\r\n      </g>\r\n     </g>\r\n     <g id=\"text_7\">\r\n      <!-- 5 -->\r\n      <g transform=\"translate(15.579688 50.371143)scale(0.1 -0.1)\">\r\n       <use xlink:href=\"#DejaVuSans-53\"/>\r\n      </g>\r\n     </g>\r\n    </g>\r\n   </g>\r\n   <g id=\"patch_3\">\r\n    <path d=\"M 28.942188 143.1 \r\nL 28.942188 7.2 \r\n\" style=\"fill:none;stroke:#000000;stroke-linecap:square;stroke-linejoin:miter;stroke-width:0.8;\"/>\r\n   </g>\r\n   <g id=\"patch_4\">\r\n    <path d=\"M 224.242188 143.1 \r\nL 224.242188 7.2 \r\n\" style=\"fill:none;stroke:#000000;stroke-linecap:square;stroke-linejoin:miter;stroke-width:0.8;\"/>\r\n   </g>\r\n   <g id=\"patch_5\">\r\n    <path d=\"M 28.942188 143.1 \r\nL 224.242188 143.1 \r\n\" style=\"fill:none;stroke:#000000;stroke-linecap:square;stroke-linejoin:miter;stroke-width:0.8;\"/>\r\n   </g>\r\n   <g id=\"patch_6\">\r\n    <path d=\"M 28.942188 7.2 \r\nL 224.242188 7.2 \r\n\" style=\"fill:none;stroke:#000000;stroke-linecap:square;stroke-linejoin:miter;stroke-width:0.8;\"/>\r\n   </g>\r\n  </g>\r\n </g>\r\n <defs>\r\n  <clipPath id=\"p92b0575102\">\r\n   <rect height=\"135.9\" width=\"195.3\" x=\"28.942188\" y=\"7.2\"/>\r\n  </clipPath>\r\n </defs>\r\n</svg>\r\n"
     },
     "metadata": {
      "needs_background": "light"
     }
    }
   ],
   "source": [
    "d2l.set_figsize()\n",
    "d2l.plt.scatter(data[:100, 0].numpy(), data[:100, 1].numpy());\n",
    "print(f'The covariance matrix is\\n{torch.mm(A.T, A)}')"
   ]
  },
  {
   "cell_type": "code",
   "execution_count": 4,
   "metadata": {},
   "outputs": [],
   "source": [
    "batch_size = 8\n",
    "data_iter = DataLoader(data, batch_size=batch_size)"
   ]
  },
  {
   "cell_type": "code",
   "execution_count": 5,
   "metadata": {},
   "outputs": [],
   "source": [
    "net_G = nn.Sequential()\n",
    "net_G.add_module(\"Linear\", nn.Linear(2, 2))"
   ]
  },
  {
   "cell_type": "code",
   "execution_count": 6,
   "metadata": {},
   "outputs": [],
   "source": [
    "net_D = nn.Sequential()\n",
    "net_D.add_module(\"Linear1t\", nn.Linear(2, 5))\n",
    "net_D.add_module(\"Tanh1\", nn.Tanh())\n",
    "net_D.add_module(\"Linear2t\", nn.Linear(5, 3))\n",
    "net_D.add_module(\"Tanh2\", nn.Tanh())\n",
    "net_D.add_module(\"Linear3\", nn.Linear(3, 1))\n",
    "net_D.add_module(\"Sigmoid\", nn.Sigmoid())\n"
   ]
  },
  {
   "cell_type": "code",
   "execution_count": 7,
   "metadata": {},
   "outputs": [],
   "source": [
    "#@save\n",
    "def update_D(X, Z, net_D, net_G, loss, trainer_D):\n",
    "    \"\"\"Update discriminator.\"\"\"\n",
    "    batch_size = X.shape[0]\n",
    "    ones = torch.ones(batch_size)\n",
    "    zeros = torch.zeros(batch_size)\n",
    "    trainer_D.zero_grad()\n",
    "    real_Y = net_D(X)\n",
    "    fake_X = net_G(Z)\n",
    "    # Do not need to compute gradient for `net_G`, detach it from\n",
    "    # computing gradients.\n",
    "    fake_Y = net_D(fake_X.detach())\n",
    "    loss_D = (loss(real_Y, ones) + loss(fake_Y, zeros)) / 2\n",
    "    loss_D.backward()\n",
    "    trainer_D.step()\n",
    "    return float(loss_D.sum())"
   ]
  },
  {
   "cell_type": "code",
   "execution_count": 8,
   "metadata": {},
   "outputs": [],
   "source": [
    "#@save\n",
    "def update_G(Z, net_D, net_G, loss, trainer_G):\n",
    "    \"\"\"Update generator.\"\"\"\n",
    "    batch_size = Z.shape[0]\n",
    "    ones = torch.ones(batch_size)\n",
    "    trainer_G.zero_grad()\n",
    "    # We could reuse `fake_X` from `update_D` to save computation\n",
    "    fake_X = net_G(Z)\n",
    "    # Recomputing `fake_Y` is needed since `net_D` is changed\n",
    "    fake_Y = net_D(fake_X)\n",
    "    loss_G=loss(fake_Y,ones)\n",
    "    loss_G.backward()\n",
    "    trainer_G.step()\n",
    "    return float(loss_G.sum())"
   ]
  },
  {
   "cell_type": "code",
   "execution_count": 9,
   "metadata": {},
   "outputs": [],
   "source": [
    "def train(net_D, net_G, data_iter, num_epochs, lr_D, lr_G, latent_dim, data):\n",
    "    loss = nn.BCELoss()\n",
    "    for w in net_D.parameters():\n",
    "        nn.init.normal_(w, 0, 0.02)\n",
    "    for w in net_G.parameters():\n",
    "        nn.init.normal_(w, 0, 0.02)\n",
    "    trainer_D = torch.optim.Adam(net_D.parameters(), lr=lr_D)\n",
    "    trainer_G = torch.optim.Adam(net_G.parameters(), lr=lr_G)\n",
    "    animator = d2l.Animator(xlabel='epoch', ylabel='loss',\n",
    "                            xlim=[1, num_epochs], nrows=2, figsize=(5, 5),\n",
    "                            legend=['generator', 'discriminator'])\n",
    "    animator.fig.subplots_adjust(hspace=0.3)\n",
    "    for epoch in range(num_epochs):\n",
    "        # Train one epoch\n",
    "        timer = d2l.Timer()\n",
    "        metric = d2l.Accumulator(3)  # loss_D, loss_G, num_examples\n",
    "        for X in data_iter:\n",
    "            X = Variable(X)\n",
    "            batch_size = X.shape[0]\n",
    "            Z = torch.normal(0, 1, size=(batch_size, latent_dim))\n",
    "            metric.add(update_D(X, Z, net_D, net_G, loss, trainer_D),\n",
    "                       update_G(Z, net_D, net_G, loss, trainer_G),\n",
    "                       batch_size)\n",
    "        # Visualize generated examples\n",
    "        Z = torch.normal(0, 1, size=(100, latent_dim))\n",
    "        fake_X = net_G(Z).numpy()\n",
    "        animator.axes[1].cla()\n",
    "        animator.axes[1].scatter(data[:, 0], data[:, 1])\n",
    "        animator.axes[1].scatter(fake_X[:, 0], fake_X[:, 1])\n",
    "        animator.axes[1].legend(['real', 'generated'])\n",
    "        # Show the losses\n",
    "        loss_D, loss_G = metric[0]/metric[2], metric[1]/metric[2]\n",
    "        animator.add(epoch + 1, (loss_D, loss_G))\n",
    "    print(f'loss_D {loss_D:.3f}, loss_G {loss_G:.3f}, '\n",
    "          f'{metric[2] / timer.stop():.1f} examples/sec')"
   ]
  },
  {
   "cell_type": "code",
   "execution_count": 10,
   "metadata": {},
   "outputs": [
    {
     "output_type": "error",
     "ename": "RuntimeError",
     "evalue": "Can't call numpy() on Variable that requires grad. Use var.detach().numpy() instead.",
     "traceback": [
      "\u001b[1;31m---------------------------------------------------------------------------\u001b[0m",
      "\u001b[1;31mRuntimeError\u001b[0m                              Traceback (most recent call last)",
      "\u001b[1;32m<ipython-input-10-46803ce9c191>\u001b[0m in \u001b[0;36m<module>\u001b[1;34m\u001b[0m\n\u001b[0;32m      1\u001b[0m \u001b[0mlr_D\u001b[0m\u001b[1;33m,\u001b[0m \u001b[0mlr_G\u001b[0m\u001b[1;33m,\u001b[0m \u001b[0mlatent_dim\u001b[0m\u001b[1;33m,\u001b[0m \u001b[0mnum_epochs\u001b[0m \u001b[1;33m=\u001b[0m \u001b[1;36m0.05\u001b[0m\u001b[1;33m,\u001b[0m \u001b[1;36m0.005\u001b[0m\u001b[1;33m,\u001b[0m \u001b[1;36m2\u001b[0m\u001b[1;33m,\u001b[0m \u001b[1;36m20\u001b[0m\u001b[1;33m\u001b[0m\u001b[1;33m\u001b[0m\u001b[0m\n\u001b[1;32m----> 2\u001b[1;33m train(net_D, net_G, data_iter, num_epochs, lr_D, lr_G,\n\u001b[0m\u001b[0;32m      3\u001b[0m       latent_dim, data[:100].numpy())\n",
      "\u001b[1;32m<ipython-input-9-af00191c3363>\u001b[0m in \u001b[0;36mtrain\u001b[1;34m(net_D, net_G, data_iter, num_epochs, lr_D, lr_G, latent_dim, data)\u001b[0m\n\u001b[0;32m     24\u001b[0m         \u001b[1;31m# Visualize generated examples\u001b[0m\u001b[1;33m\u001b[0m\u001b[1;33m\u001b[0m\u001b[1;33m\u001b[0m\u001b[0m\n\u001b[0;32m     25\u001b[0m         \u001b[0mZ\u001b[0m \u001b[1;33m=\u001b[0m \u001b[0mtorch\u001b[0m\u001b[1;33m.\u001b[0m\u001b[0mnormal\u001b[0m\u001b[1;33m(\u001b[0m\u001b[1;36m0\u001b[0m\u001b[1;33m,\u001b[0m \u001b[1;36m1\u001b[0m\u001b[1;33m,\u001b[0m \u001b[0msize\u001b[0m\u001b[1;33m=\u001b[0m\u001b[1;33m(\u001b[0m\u001b[1;36m100\u001b[0m\u001b[1;33m,\u001b[0m \u001b[0mlatent_dim\u001b[0m\u001b[1;33m)\u001b[0m\u001b[1;33m)\u001b[0m\u001b[1;33m\u001b[0m\u001b[1;33m\u001b[0m\u001b[0m\n\u001b[1;32m---> 26\u001b[1;33m         \u001b[0mfake_X\u001b[0m \u001b[1;33m=\u001b[0m \u001b[0mnet_G\u001b[0m\u001b[1;33m(\u001b[0m\u001b[0mZ\u001b[0m\u001b[1;33m)\u001b[0m\u001b[1;33m.\u001b[0m\u001b[0mnumpy\u001b[0m\u001b[1;33m(\u001b[0m\u001b[1;33m)\u001b[0m\u001b[1;33m\u001b[0m\u001b[1;33m\u001b[0m\u001b[0m\n\u001b[0m\u001b[0;32m     27\u001b[0m         \u001b[0manimator\u001b[0m\u001b[1;33m.\u001b[0m\u001b[0maxes\u001b[0m\u001b[1;33m[\u001b[0m\u001b[1;36m1\u001b[0m\u001b[1;33m]\u001b[0m\u001b[1;33m.\u001b[0m\u001b[0mcla\u001b[0m\u001b[1;33m(\u001b[0m\u001b[1;33m)\u001b[0m\u001b[1;33m\u001b[0m\u001b[1;33m\u001b[0m\u001b[0m\n\u001b[0;32m     28\u001b[0m         \u001b[0manimator\u001b[0m\u001b[1;33m.\u001b[0m\u001b[0maxes\u001b[0m\u001b[1;33m[\u001b[0m\u001b[1;36m1\u001b[0m\u001b[1;33m]\u001b[0m\u001b[1;33m.\u001b[0m\u001b[0mscatter\u001b[0m\u001b[1;33m(\u001b[0m\u001b[0mdata\u001b[0m\u001b[1;33m[\u001b[0m\u001b[1;33m:\u001b[0m\u001b[1;33m,\u001b[0m \u001b[1;36m0\u001b[0m\u001b[1;33m]\u001b[0m\u001b[1;33m,\u001b[0m \u001b[0mdata\u001b[0m\u001b[1;33m[\u001b[0m\u001b[1;33m:\u001b[0m\u001b[1;33m,\u001b[0m \u001b[1;36m1\u001b[0m\u001b[1;33m]\u001b[0m\u001b[1;33m)\u001b[0m\u001b[1;33m\u001b[0m\u001b[1;33m\u001b[0m\u001b[0m\n",
      "\u001b[1;31mRuntimeError\u001b[0m: Can't call numpy() on Variable that requires grad. Use var.detach().numpy() instead."
     ]
    }
   ],
   "source": [
    "lr_D, lr_G, latent_dim, num_epochs = 0.05, 0.005, 2, 20\n",
    "train(net_D, net_G, data_iter, num_epochs, lr_D, lr_G,\n",
    "      latent_dim, data[:100].numpy())"
   ]
  },
  {
   "cell_type": "code",
   "execution_count": null,
   "metadata": {},
   "outputs": [],
   "source": []
  }
 ]
}