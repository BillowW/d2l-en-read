{
 "metadata": {
  "language_info": {
   "codemirror_mode": {
    "name": "ipython",
    "version": 3
   },
   "file_extension": ".py",
   "mimetype": "text/x-python",
   "name": "python",
   "nbconvert_exporter": "python",
   "pygments_lexer": "ipython3",
   "version": "3.8.3-final"
  },
  "orig_nbformat": 2,
  "kernelspec": {
   "name": "python38364bitpytorchconda70fdc7f787194f4c972bb3207dd25917",
   "display_name": "Python 3.8.3 64-bit ('pytorch': conda)"
  }
 },
 "nbformat": 4,
 "nbformat_minor": 2,
 "cells": [
  {
   "cell_type": "code",
   "execution_count": 1,
   "metadata": {},
   "outputs": [],
   "source": [
    "%matplotlib inline\n",
    "from d2l import torch as d2l\n",
    "import torch\n",
    "from torch.utils.data import DataLoader\n",
    "from torch.autograd import Variable\n",
    "from torch import nn"
   ]
  },
  {
   "cell_type": "code",
   "execution_count": 2,
   "metadata": {},
   "outputs": [],
   "source": [
    "X = torch.normal(0.0, 1, (1000, 2))\n",
    "A = torch.tensor([[1, 2], [-0.1, 0.5]])\n",
    "b = torch.tensor([1, 2])\n",
    "data = torch.mm(X, A) + b"
   ]
  },
  {
   "cell_type": "code",
   "execution_count": 3,
   "metadata": {
    "tags": []
   },
   "outputs": [
    {
     "output_type": "stream",
     "name": "stdout",
     "text": "The covariance matrix is\ntensor([[1.0100, 1.9500],\n        [1.9500, 4.2500]])\n"
    },
    {
     "output_type": "display_data",
     "data": {
      "text/plain": "<Figure size 252x180 with 1 Axes>",
      "image/svg+xml": "<?xml version=\"1.0\" encoding=\"utf-8\" standalone=\"no\"?>\r\n<!DOCTYPE svg PUBLIC \"-//W3C//DTD SVG 1.1//EN\"\r\n  \"http://www.w3.org/Graphics/SVG/1.1/DTD/svg11.dtd\">\r\n<!-- Created with matplotlib (https://matplotlib.org/) -->\r\n<svg height=\"166.978125pt\" version=\"1.1\" viewBox=\"0 0 233.887398 166.978125\" width=\"233.887398pt\" xmlns=\"http://www.w3.org/2000/svg\" xmlns:xlink=\"http://www.w3.org/1999/xlink\">\r\n <metadata>\r\n  <rdf:RDF xmlns:cc=\"http://creativecommons.org/ns#\" xmlns:dc=\"http://purl.org/dc/elements/1.1/\" xmlns:rdf=\"http://www.w3.org/1999/02/22-rdf-syntax-ns#\">\r\n   <cc:Work>\r\n    <dc:type rdf:resource=\"http://purl.org/dc/dcmitype/StillImage\"/>\r\n    <dc:date>2020-08-06T22:52:26.926674</dc:date>\r\n    <dc:format>image/svg+xml</dc:format>\r\n    <dc:creator>\r\n     <cc:Agent>\r\n      <dc:title>Matplotlib v3.3.0, https://matplotlib.org/</dc:title>\r\n     </cc:Agent>\r\n    </dc:creator>\r\n   </cc:Work>\r\n  </rdf:RDF>\r\n </metadata>\r\n <defs>\r\n  <style type=\"text/css\">*{stroke-linecap:butt;stroke-linejoin:round;}</style>\r\n </defs>\r\n <g id=\"figure_1\">\r\n  <g id=\"patch_1\">\r\n   <path d=\"M 0 166.978125 \r\nL 233.887398 166.978125 \r\nL 233.887398 0 \r\nL 0 0 \r\nz\r\n\" style=\"fill:none;\"/>\r\n  </g>\r\n  <g id=\"axes_1\">\r\n   <g id=\"patch_2\">\r\n    <path d=\"M 28.942188 143.1 \r\nL 224.242188 143.1 \r\nL 224.242188 7.2 \r\nL 28.942188 7.2 \r\nz\r\n\" style=\"fill:#ffffff;\"/>\r\n   </g>\r\n   <g id=\"PathCollection_1\">\r\n    <defs>\r\n     <path d=\"M 0 3 \r\nC 0.795609 3 1.55874 2.683901 2.12132 2.12132 \r\nC 2.683901 1.55874 3 0.795609 3 0 \r\nC 3 -0.795609 2.683901 -1.55874 2.12132 -2.12132 \r\nC 1.55874 -2.683901 0.795609 -3 0 -3 \r\nC -0.795609 -3 -1.55874 -2.683901 -2.12132 -2.12132 \r\nC -2.683901 -1.55874 -3 -0.795609 -3 0 \r\nC -3 0.795609 -2.683901 1.55874 -2.12132 2.12132 \r\nC -1.55874 2.683901 -0.795609 3 0 3 \r\nz\r\n\" id=\"mc588afb341\" style=\"stroke:#1f77b4;\"/>\r\n    </defs>\r\n    <g clip-path=\"url(#p8d31691f0a)\">\r\n     <use style=\"fill:#1f77b4;stroke:#1f77b4;\" x=\"114.506635\" xlink:href=\"#mc588afb341\" y=\"86.042609\"/>\r\n     <use style=\"fill:#1f77b4;stroke:#1f77b4;\" x=\"80.801914\" xlink:href=\"#mc588afb341\" y=\"110.503493\"/>\r\n     <use style=\"fill:#1f77b4;stroke:#1f77b4;\" x=\"106.053045\" xlink:href=\"#mc588afb341\" y=\"88.666983\"/>\r\n     <use style=\"fill:#1f77b4;stroke:#1f77b4;\" x=\"141.805951\" xlink:href=\"#mc588afb341\" y=\"47.825515\"/>\r\n     <use style=\"fill:#1f77b4;stroke:#1f77b4;\" x=\"136.838517\" xlink:href=\"#mc588afb341\" y=\"75.065224\"/>\r\n     <use style=\"fill:#1f77b4;stroke:#1f77b4;\" x=\"96.249422\" xlink:href=\"#mc588afb341\" y=\"104.610278\"/>\r\n     <use style=\"fill:#1f77b4;stroke:#1f77b4;\" x=\"94.146633\" xlink:href=\"#mc588afb341\" y=\"94.152014\"/>\r\n     <use style=\"fill:#1f77b4;stroke:#1f77b4;\" x=\"107.740067\" xlink:href=\"#mc588afb341\" y=\"98.050018\"/>\r\n     <use style=\"fill:#1f77b4;stroke:#1f77b4;\" x=\"128.461027\" xlink:href=\"#mc588afb341\" y=\"85.651682\"/>\r\n     <use style=\"fill:#1f77b4;stroke:#1f77b4;\" x=\"89.817746\" xlink:href=\"#mc588afb341\" y=\"104.168653\"/>\r\n     <use style=\"fill:#1f77b4;stroke:#1f77b4;\" x=\"86.722453\" xlink:href=\"#mc588afb341\" y=\"115.100778\"/>\r\n     <use style=\"fill:#1f77b4;stroke:#1f77b4;\" x=\"107.669166\" xlink:href=\"#mc588afb341\" y=\"84.892844\"/>\r\n     <use style=\"fill:#1f77b4;stroke:#1f77b4;\" x=\"75.842444\" xlink:href=\"#mc588afb341\" y=\"113.745334\"/>\r\n     <use style=\"fill:#1f77b4;stroke:#1f77b4;\" x=\"79.498598\" xlink:href=\"#mc588afb341\" y=\"120.922274\"/>\r\n     <use style=\"fill:#1f77b4;stroke:#1f77b4;\" x=\"110.705326\" xlink:href=\"#mc588afb341\" y=\"116.798894\"/>\r\n     <use style=\"fill:#1f77b4;stroke:#1f77b4;\" x=\"75.755352\" xlink:href=\"#mc588afb341\" y=\"109.072647\"/>\r\n     <use style=\"fill:#1f77b4;stroke:#1f77b4;\" x=\"109.33659\" xlink:href=\"#mc588afb341\" y=\"87.342673\"/>\r\n     <use style=\"fill:#1f77b4;stroke:#1f77b4;\" x=\"145.417566\" xlink:href=\"#mc588afb341\" y=\"53.861138\"/>\r\n     <use style=\"fill:#1f77b4;stroke:#1f77b4;\" x=\"59.507497\" xlink:href=\"#mc588afb341\" y=\"135.794353\"/>\r\n     <use style=\"fill:#1f77b4;stroke:#1f77b4;\" x=\"126.977105\" xlink:href=\"#mc588afb341\" y=\"91.527695\"/>\r\n     <use style=\"fill:#1f77b4;stroke:#1f77b4;\" x=\"59.867128\" xlink:href=\"#mc588afb341\" y=\"121.679415\"/>\r\n     <use style=\"fill:#1f77b4;stroke:#1f77b4;\" x=\"154.692634\" xlink:href=\"#mc588afb341\" y=\"63.782385\"/>\r\n     <use style=\"fill:#1f77b4;stroke:#1f77b4;\" x=\"37.81946\" xlink:href=\"#mc588afb341\" y=\"129.603336\"/>\r\n     <use style=\"fill:#1f77b4;stroke:#1f77b4;\" x=\"118.312551\" xlink:href=\"#mc588afb341\" y=\"90.807379\"/>\r\n     <use style=\"fill:#1f77b4;stroke:#1f77b4;\" x=\"99.100723\" xlink:href=\"#mc588afb341\" y=\"86.287391\"/>\r\n     <use style=\"fill:#1f77b4;stroke:#1f77b4;\" x=\"207.477172\" xlink:href=\"#mc588afb341\" y=\"28.726242\"/>\r\n     <use style=\"fill:#1f77b4;stroke:#1f77b4;\" x=\"141.325422\" xlink:href=\"#mc588afb341\" y=\"69.013538\"/>\r\n     <use style=\"fill:#1f77b4;stroke:#1f77b4;\" x=\"91.582027\" xlink:href=\"#mc588afb341\" y=\"93.489006\"/>\r\n     <use style=\"fill:#1f77b4;stroke:#1f77b4;\" x=\"86.053015\" xlink:href=\"#mc588afb341\" y=\"95.700366\"/>\r\n     <use style=\"fill:#1f77b4;stroke:#1f77b4;\" x=\"67.478784\" xlink:href=\"#mc588afb341\" y=\"108.840677\"/>\r\n     <use style=\"fill:#1f77b4;stroke:#1f77b4;\" x=\"138.328119\" xlink:href=\"#mc588afb341\" y=\"67.223771\"/>\r\n     <use style=\"fill:#1f77b4;stroke:#1f77b4;\" x=\"157.022484\" xlink:href=\"#mc588afb341\" y=\"39.905418\"/>\r\n     <use style=\"fill:#1f77b4;stroke:#1f77b4;\" x=\"131.495583\" xlink:href=\"#mc588afb341\" y=\"76.486168\"/>\r\n     <use style=\"fill:#1f77b4;stroke:#1f77b4;\" x=\"143.338657\" xlink:href=\"#mc588afb341\" y=\"74.95932\"/>\r\n     <use style=\"fill:#1f77b4;stroke:#1f77b4;\" x=\"116.345651\" xlink:href=\"#mc588afb341\" y=\"83.241181\"/>\r\n     <use style=\"fill:#1f77b4;stroke:#1f77b4;\" x=\"113.073291\" xlink:href=\"#mc588afb341\" y=\"98.15995\"/>\r\n     <use style=\"fill:#1f77b4;stroke:#1f77b4;\" x=\"215.364915\" xlink:href=\"#mc588afb341\" y=\"13.377273\"/>\r\n     <use style=\"fill:#1f77b4;stroke:#1f77b4;\" x=\"118.735156\" xlink:href=\"#mc588afb341\" y=\"89.662913\"/>\r\n     <use style=\"fill:#1f77b4;stroke:#1f77b4;\" x=\"87.314194\" xlink:href=\"#mc588afb341\" y=\"107.206011\"/>\r\n     <use style=\"fill:#1f77b4;stroke:#1f77b4;\" x=\"129.610429\" xlink:href=\"#mc588afb341\" y=\"76.464859\"/>\r\n     <use style=\"fill:#1f77b4;stroke:#1f77b4;\" x=\"122.695562\" xlink:href=\"#mc588afb341\" y=\"78.363416\"/>\r\n     <use style=\"fill:#1f77b4;stroke:#1f77b4;\" x=\"150.458297\" xlink:href=\"#mc588afb341\" y=\"64.722193\"/>\r\n     <use style=\"fill:#1f77b4;stroke:#1f77b4;\" x=\"95.222681\" xlink:href=\"#mc588afb341\" y=\"106.653086\"/>\r\n     <use style=\"fill:#1f77b4;stroke:#1f77b4;\" x=\"59.844356\" xlink:href=\"#mc588afb341\" y=\"115.691251\"/>\r\n     <use style=\"fill:#1f77b4;stroke:#1f77b4;\" x=\"120.419046\" xlink:href=\"#mc588afb341\" y=\"83.333647\"/>\r\n     <use style=\"fill:#1f77b4;stroke:#1f77b4;\" x=\"167.363898\" xlink:href=\"#mc588afb341\" y=\"49.406328\"/>\r\n     <use style=\"fill:#1f77b4;stroke:#1f77b4;\" x=\"92.566216\" xlink:href=\"#mc588afb341\" y=\"104.729557\"/>\r\n     <use style=\"fill:#1f77b4;stroke:#1f77b4;\" x=\"127.162912\" xlink:href=\"#mc588afb341\" y=\"62.139461\"/>\r\n     <use style=\"fill:#1f77b4;stroke:#1f77b4;\" x=\"163.779425\" xlink:href=\"#mc588afb341\" y=\"40.438531\"/>\r\n     <use style=\"fill:#1f77b4;stroke:#1f77b4;\" x=\"132.532764\" xlink:href=\"#mc588afb341\" y=\"59.047695\"/>\r\n     <use style=\"fill:#1f77b4;stroke:#1f77b4;\" x=\"190.708625\" xlink:href=\"#mc588afb341\" y=\"35.139806\"/>\r\n     <use style=\"fill:#1f77b4;stroke:#1f77b4;\" x=\"143.502994\" xlink:href=\"#mc588afb341\" y=\"80.843406\"/>\r\n     <use style=\"fill:#1f77b4;stroke:#1f77b4;\" x=\"85.671547\" xlink:href=\"#mc588afb341\" y=\"95.444363\"/>\r\n     <use style=\"fill:#1f77b4;stroke:#1f77b4;\" x=\"121.833447\" xlink:href=\"#mc588afb341\" y=\"73.222287\"/>\r\n     <use style=\"fill:#1f77b4;stroke:#1f77b4;\" x=\"116.94408\" xlink:href=\"#mc588afb341\" y=\"75.208376\"/>\r\n     <use style=\"fill:#1f77b4;stroke:#1f77b4;\" x=\"124.474069\" xlink:href=\"#mc588afb341\" y=\"72.766985\"/>\r\n     <use style=\"fill:#1f77b4;stroke:#1f77b4;\" x=\"123.606332\" xlink:href=\"#mc588afb341\" y=\"96.542098\"/>\r\n     <use style=\"fill:#1f77b4;stroke:#1f77b4;\" x=\"107.48812\" xlink:href=\"#mc588afb341\" y=\"82.447908\"/>\r\n     <use style=\"fill:#1f77b4;stroke:#1f77b4;\" x=\"99.811548\" xlink:href=\"#mc588afb341\" y=\"84.132663\"/>\r\n     <use style=\"fill:#1f77b4;stroke:#1f77b4;\" x=\"139.838955\" xlink:href=\"#mc588afb341\" y=\"59.79597\"/>\r\n     <use style=\"fill:#1f77b4;stroke:#1f77b4;\" x=\"105.759794\" xlink:href=\"#mc588afb341\" y=\"83.674995\"/>\r\n     <use style=\"fill:#1f77b4;stroke:#1f77b4;\" x=\"103.16818\" xlink:href=\"#mc588afb341\" y=\"96.322178\"/>\r\n     <use style=\"fill:#1f77b4;stroke:#1f77b4;\" x=\"116.389525\" xlink:href=\"#mc588afb341\" y=\"87.326525\"/>\r\n     <use style=\"fill:#1f77b4;stroke:#1f77b4;\" x=\"101.474459\" xlink:href=\"#mc588afb341\" y=\"111.730121\"/>\r\n     <use style=\"fill:#1f77b4;stroke:#1f77b4;\" x=\"100.468661\" xlink:href=\"#mc588afb341\" y=\"102.325221\"/>\r\n     <use style=\"fill:#1f77b4;stroke:#1f77b4;\" x=\"130.478861\" xlink:href=\"#mc588afb341\" y=\"75.97956\"/>\r\n     <use style=\"fill:#1f77b4;stroke:#1f77b4;\" x=\"74.767323\" xlink:href=\"#mc588afb341\" y=\"115.072639\"/>\r\n     <use style=\"fill:#1f77b4;stroke:#1f77b4;\" x=\"61.992631\" xlink:href=\"#mc588afb341\" y=\"128.861029\"/>\r\n     <use style=\"fill:#1f77b4;stroke:#1f77b4;\" x=\"88.958113\" xlink:href=\"#mc588afb341\" y=\"117.889706\"/>\r\n     <use style=\"fill:#1f77b4;stroke:#1f77b4;\" x=\"139.075745\" xlink:href=\"#mc588afb341\" y=\"66.075204\"/>\r\n     <use style=\"fill:#1f77b4;stroke:#1f77b4;\" x=\"119.77768\" xlink:href=\"#mc588afb341\" y=\"66.133755\"/>\r\n     <use style=\"fill:#1f77b4;stroke:#1f77b4;\" x=\"61.439711\" xlink:href=\"#mc588afb341\" y=\"120.441199\"/>\r\n     <use style=\"fill:#1f77b4;stroke:#1f77b4;\" x=\"133.689341\" xlink:href=\"#mc588afb341\" y=\"79.490001\"/>\r\n     <use style=\"fill:#1f77b4;stroke:#1f77b4;\" x=\"52.27583\" xlink:href=\"#mc588afb341\" y=\"118.894847\"/>\r\n     <use style=\"fill:#1f77b4;stroke:#1f77b4;\" x=\"134.511371\" xlink:href=\"#mc588afb341\" y=\"68.470672\"/>\r\n     <use style=\"fill:#1f77b4;stroke:#1f77b4;\" x=\"121.832603\" xlink:href=\"#mc588afb341\" y=\"74.073242\"/>\r\n     <use style=\"fill:#1f77b4;stroke:#1f77b4;\" x=\"136.438249\" xlink:href=\"#mc588afb341\" y=\"47.364572\"/>\r\n     <use style=\"fill:#1f77b4;stroke:#1f77b4;\" x=\"93.535159\" xlink:href=\"#mc588afb341\" y=\"98.887857\"/>\r\n     <use style=\"fill:#1f77b4;stroke:#1f77b4;\" x=\"145.506228\" xlink:href=\"#mc588afb341\" y=\"66.819123\"/>\r\n     <use style=\"fill:#1f77b4;stroke:#1f77b4;\" x=\"159.580177\" xlink:href=\"#mc588afb341\" y=\"62.159627\"/>\r\n     <use style=\"fill:#1f77b4;stroke:#1f77b4;\" x=\"124.984316\" xlink:href=\"#mc588afb341\" y=\"70.161837\"/>\r\n     <use style=\"fill:#1f77b4;stroke:#1f77b4;\" x=\"137.013207\" xlink:href=\"#mc588afb341\" y=\"75.051278\"/>\r\n     <use style=\"fill:#1f77b4;stroke:#1f77b4;\" x=\"57.574122\" xlink:href=\"#mc588afb341\" y=\"109.690883\"/>\r\n     <use style=\"fill:#1f77b4;stroke:#1f77b4;\" x=\"142.044525\" xlink:href=\"#mc588afb341\" y=\"55.497295\"/>\r\n     <use style=\"fill:#1f77b4;stroke:#1f77b4;\" x=\"185.848954\" xlink:href=\"#mc588afb341\" y=\"37.230489\"/>\r\n     <use style=\"fill:#1f77b4;stroke:#1f77b4;\" x=\"105.117342\" xlink:href=\"#mc588afb341\" y=\"94.910082\"/>\r\n     <use style=\"fill:#1f77b4;stroke:#1f77b4;\" x=\"146.567175\" xlink:href=\"#mc588afb341\" y=\"62.640757\"/>\r\n     <use style=\"fill:#1f77b4;stroke:#1f77b4;\" x=\"161.322632\" xlink:href=\"#mc588afb341\" y=\"56.408997\"/>\r\n     <use style=\"fill:#1f77b4;stroke:#1f77b4;\" x=\"96.742375\" xlink:href=\"#mc588afb341\" y=\"91.23278\"/>\r\n     <use style=\"fill:#1f77b4;stroke:#1f77b4;\" x=\"176.931881\" xlink:href=\"#mc588afb341\" y=\"40.889479\"/>\r\n     <use style=\"fill:#1f77b4;stroke:#1f77b4;\" x=\"83.491836\" xlink:href=\"#mc588afb341\" y=\"90.619768\"/>\r\n     <use style=\"fill:#1f77b4;stroke:#1f77b4;\" x=\"105.992935\" xlink:href=\"#mc588afb341\" y=\"100.70939\"/>\r\n     <use style=\"fill:#1f77b4;stroke:#1f77b4;\" x=\"136.908878\" xlink:href=\"#mc588afb341\" y=\"66.870301\"/>\r\n     <use style=\"fill:#1f77b4;stroke:#1f77b4;\" x=\"109.719887\" xlink:href=\"#mc588afb341\" y=\"87.566494\"/>\r\n     <use style=\"fill:#1f77b4;stroke:#1f77b4;\" x=\"124.19396\" xlink:href=\"#mc588afb341\" y=\"90.154462\"/>\r\n     <use style=\"fill:#1f77b4;stroke:#1f77b4;\" x=\"101.890424\" xlink:href=\"#mc588afb341\" y=\"78.268946\"/>\r\n     <use style=\"fill:#1f77b4;stroke:#1f77b4;\" x=\"114.729014\" xlink:href=\"#mc588afb341\" y=\"88.139241\"/>\r\n     <use style=\"fill:#1f77b4;stroke:#1f77b4;\" x=\"105.043126\" xlink:href=\"#mc588afb341\" y=\"113.000395\"/>\r\n     <use style=\"fill:#1f77b4;stroke:#1f77b4;\" x=\"38.156556\" xlink:href=\"#mc588afb341\" y=\"136.922727\"/>\r\n     <use style=\"fill:#1f77b4;stroke:#1f77b4;\" x=\"177.596719\" xlink:href=\"#mc588afb341\" y=\"44.738119\"/>\r\n    </g>\r\n   </g>\r\n   <g id=\"matplotlib.axis_1\">\r\n    <g id=\"xtick_1\">\r\n     <g id=\"line2d_1\">\r\n      <defs>\r\n       <path d=\"M 0 0 \r\nL 0 3.5 \r\n\" id=\"mb1b48f0792\" style=\"stroke:#000000;stroke-width:0.8;\"/>\r\n      </defs>\r\n      <g>\r\n       <use style=\"stroke:#000000;stroke-width:0.8;\" x=\"39.118591\" xlink:href=\"#mb1b48f0792\" y=\"143.1\"/>\r\n      </g>\r\n     </g>\r\n     <g id=\"text_1\">\r\n      <!-- −1 -->\r\n      <g transform=\"translate(31.747497 157.698438)scale(0.1 -0.1)\">\r\n       <defs>\r\n        <path d=\"M 10.59375 35.5 \r\nL 73.1875 35.5 \r\nL 73.1875 27.203125 \r\nL 10.59375 27.203125 \r\nz\r\n\" id=\"DejaVuSans-8722\"/>\r\n        <path d=\"M 12.40625 8.296875 \r\nL 28.515625 8.296875 \r\nL 28.515625 63.921875 \r\nL 10.984375 60.40625 \r\nL 10.984375 69.390625 \r\nL 28.421875 72.90625 \r\nL 38.28125 72.90625 \r\nL 38.28125 8.296875 \r\nL 54.390625 8.296875 \r\nL 54.390625 0 \r\nL 12.40625 0 \r\nz\r\n\" id=\"DejaVuSans-49\"/>\r\n       </defs>\r\n       <use xlink:href=\"#DejaVuSans-8722\"/>\r\n       <use x=\"83.789062\" xlink:href=\"#DejaVuSans-49\"/>\r\n      </g>\r\n     </g>\r\n    </g>\r\n    <g id=\"xtick_2\">\r\n     <g id=\"line2d_2\">\r\n      <g>\r\n       <use style=\"stroke:#000000;stroke-width:0.8;\" x=\"75.996102\" xlink:href=\"#mb1b48f0792\" y=\"143.1\"/>\r\n      </g>\r\n     </g>\r\n     <g id=\"text_2\">\r\n      <!-- 0 -->\r\n      <g transform=\"translate(72.814852 157.698438)scale(0.1 -0.1)\">\r\n       <defs>\r\n        <path d=\"M 31.78125 66.40625 \r\nQ 24.171875 66.40625 20.328125 58.90625 \r\nQ 16.5 51.421875 16.5 36.375 \r\nQ 16.5 21.390625 20.328125 13.890625 \r\nQ 24.171875 6.390625 31.78125 6.390625 \r\nQ 39.453125 6.390625 43.28125 13.890625 \r\nQ 47.125 21.390625 47.125 36.375 \r\nQ 47.125 51.421875 43.28125 58.90625 \r\nQ 39.453125 66.40625 31.78125 66.40625 \r\nz\r\nM 31.78125 74.21875 \r\nQ 44.046875 74.21875 50.515625 64.515625 \r\nQ 56.984375 54.828125 56.984375 36.375 \r\nQ 56.984375 17.96875 50.515625 8.265625 \r\nQ 44.046875 -1.421875 31.78125 -1.421875 \r\nQ 19.53125 -1.421875 13.0625 8.265625 \r\nQ 6.59375 17.96875 6.59375 36.375 \r\nQ 6.59375 54.828125 13.0625 64.515625 \r\nQ 19.53125 74.21875 31.78125 74.21875 \r\nz\r\n\" id=\"DejaVuSans-48\"/>\r\n       </defs>\r\n       <use xlink:href=\"#DejaVuSans-48\"/>\r\n      </g>\r\n     </g>\r\n    </g>\r\n    <g id=\"xtick_3\">\r\n     <g id=\"line2d_3\">\r\n      <g>\r\n       <use style=\"stroke:#000000;stroke-width:0.8;\" x=\"112.873613\" xlink:href=\"#mb1b48f0792\" y=\"143.1\"/>\r\n      </g>\r\n     </g>\r\n     <g id=\"text_3\">\r\n      <!-- 1 -->\r\n      <g transform=\"translate(109.692363 157.698438)scale(0.1 -0.1)\">\r\n       <use xlink:href=\"#DejaVuSans-49\"/>\r\n      </g>\r\n     </g>\r\n    </g>\r\n    <g id=\"xtick_4\">\r\n     <g id=\"line2d_4\">\r\n      <g>\r\n       <use style=\"stroke:#000000;stroke-width:0.8;\" x=\"149.751125\" xlink:href=\"#mb1b48f0792\" y=\"143.1\"/>\r\n      </g>\r\n     </g>\r\n     <g id=\"text_4\">\r\n      <!-- 2 -->\r\n      <g transform=\"translate(146.569875 157.698438)scale(0.1 -0.1)\">\r\n       <defs>\r\n        <path d=\"M 19.1875 8.296875 \r\nL 53.609375 8.296875 \r\nL 53.609375 0 \r\nL 7.328125 0 \r\nL 7.328125 8.296875 \r\nQ 12.9375 14.109375 22.625 23.890625 \r\nQ 32.328125 33.6875 34.8125 36.53125 \r\nQ 39.546875 41.84375 41.421875 45.53125 \r\nQ 43.3125 49.21875 43.3125 52.78125 \r\nQ 43.3125 58.59375 39.234375 62.25 \r\nQ 35.15625 65.921875 28.609375 65.921875 \r\nQ 23.96875 65.921875 18.8125 64.3125 \r\nQ 13.671875 62.703125 7.8125 59.421875 \r\nL 7.8125 69.390625 \r\nQ 13.765625 71.78125 18.9375 73 \r\nQ 24.125 74.21875 28.421875 74.21875 \r\nQ 39.75 74.21875 46.484375 68.546875 \r\nQ 53.21875 62.890625 53.21875 53.421875 \r\nQ 53.21875 48.921875 51.53125 44.890625 \r\nQ 49.859375 40.875 45.40625 35.40625 \r\nQ 44.1875 33.984375 37.640625 27.21875 \r\nQ 31.109375 20.453125 19.1875 8.296875 \r\nz\r\n\" id=\"DejaVuSans-50\"/>\r\n       </defs>\r\n       <use xlink:href=\"#DejaVuSans-50\"/>\r\n      </g>\r\n     </g>\r\n    </g>\r\n    <g id=\"xtick_5\">\r\n     <g id=\"line2d_5\">\r\n      <g>\r\n       <use style=\"stroke:#000000;stroke-width:0.8;\" x=\"186.628636\" xlink:href=\"#mb1b48f0792\" y=\"143.1\"/>\r\n      </g>\r\n     </g>\r\n     <g id=\"text_5\">\r\n      <!-- 3 -->\r\n      <g transform=\"translate(183.447386 157.698438)scale(0.1 -0.1)\">\r\n       <defs>\r\n        <path d=\"M 40.578125 39.3125 \r\nQ 47.65625 37.796875 51.625 33 \r\nQ 55.609375 28.21875 55.609375 21.1875 \r\nQ 55.609375 10.40625 48.1875 4.484375 \r\nQ 40.765625 -1.421875 27.09375 -1.421875 \r\nQ 22.515625 -1.421875 17.65625 -0.515625 \r\nQ 12.796875 0.390625 7.625 2.203125 \r\nL 7.625 11.71875 \r\nQ 11.71875 9.328125 16.59375 8.109375 \r\nQ 21.484375 6.890625 26.8125 6.890625 \r\nQ 36.078125 6.890625 40.9375 10.546875 \r\nQ 45.796875 14.203125 45.796875 21.1875 \r\nQ 45.796875 27.640625 41.28125 31.265625 \r\nQ 36.765625 34.90625 28.71875 34.90625 \r\nL 20.21875 34.90625 \r\nL 20.21875 43.015625 \r\nL 29.109375 43.015625 \r\nQ 36.375 43.015625 40.234375 45.921875 \r\nQ 44.09375 48.828125 44.09375 54.296875 \r\nQ 44.09375 59.90625 40.109375 62.90625 \r\nQ 36.140625 65.921875 28.71875 65.921875 \r\nQ 24.65625 65.921875 20.015625 65.03125 \r\nQ 15.375 64.15625 9.8125 62.3125 \r\nL 9.8125 71.09375 \r\nQ 15.4375 72.65625 20.34375 73.4375 \r\nQ 25.25 74.21875 29.59375 74.21875 \r\nQ 40.828125 74.21875 47.359375 69.109375 \r\nQ 53.90625 64.015625 53.90625 55.328125 \r\nQ 53.90625 49.265625 50.4375 45.09375 \r\nQ 46.96875 40.921875 40.578125 39.3125 \r\nz\r\n\" id=\"DejaVuSans-51\"/>\r\n       </defs>\r\n       <use xlink:href=\"#DejaVuSans-51\"/>\r\n      </g>\r\n     </g>\r\n    </g>\r\n    <g id=\"xtick_6\">\r\n     <g id=\"line2d_6\">\r\n      <g>\r\n       <use style=\"stroke:#000000;stroke-width:0.8;\" x=\"223.506148\" xlink:href=\"#mb1b48f0792\" y=\"143.1\"/>\r\n      </g>\r\n     </g>\r\n     <g id=\"text_6\">\r\n      <!-- 4 -->\r\n      <g transform=\"translate(220.324898 157.698438)scale(0.1 -0.1)\">\r\n       <defs>\r\n        <path d=\"M 37.796875 64.3125 \r\nL 12.890625 25.390625 \r\nL 37.796875 25.390625 \r\nz\r\nM 35.203125 72.90625 \r\nL 47.609375 72.90625 \r\nL 47.609375 25.390625 \r\nL 58.015625 25.390625 \r\nL 58.015625 17.1875 \r\nL 47.609375 17.1875 \r\nL 47.609375 0 \r\nL 37.796875 0 \r\nL 37.796875 17.1875 \r\nL 4.890625 17.1875 \r\nL 4.890625 26.703125 \r\nz\r\n\" id=\"DejaVuSans-52\"/>\r\n       </defs>\r\n       <use xlink:href=\"#DejaVuSans-52\"/>\r\n      </g>\r\n     </g>\r\n    </g>\r\n   </g>\r\n   <g id=\"matplotlib.axis_2\">\r\n    <g id=\"ytick_1\">\r\n     <g id=\"line2d_7\">\r\n      <defs>\r\n       <path d=\"M 0 0 \r\nL -3.5 0 \r\n\" id=\"mec9b5027e6\" style=\"stroke:#000000;stroke-width:0.8;\"/>\r\n      </defs>\r\n      <g>\r\n       <use style=\"stroke:#000000;stroke-width:0.8;\" x=\"28.942188\" xlink:href=\"#mec9b5027e6\" y=\"139.719113\"/>\r\n      </g>\r\n     </g>\r\n     <g id=\"text_7\">\r\n      <!-- −2 -->\r\n      <g transform=\"translate(7.2 143.518332)scale(0.1 -0.1)\">\r\n       <use xlink:href=\"#DejaVuSans-8722\"/>\r\n       <use x=\"83.789062\" xlink:href=\"#DejaVuSans-50\"/>\r\n      </g>\r\n     </g>\r\n    </g>\r\n    <g id=\"ytick_2\">\r\n     <g id=\"line2d_8\">\r\n      <g>\r\n       <use style=\"stroke:#000000;stroke-width:0.8;\" x=\"28.942188\" xlink:href=\"#mec9b5027e6\" y=\"113.119908\"/>\r\n      </g>\r\n     </g>\r\n     <g id=\"text_8\">\r\n      <!-- 0 -->\r\n      <g transform=\"translate(15.579688 116.919127)scale(0.1 -0.1)\">\r\n       <use xlink:href=\"#DejaVuSans-48\"/>\r\n      </g>\r\n     </g>\r\n    </g>\r\n    <g id=\"ytick_3\">\r\n     <g id=\"line2d_9\">\r\n      <g>\r\n       <use style=\"stroke:#000000;stroke-width:0.8;\" x=\"28.942188\" xlink:href=\"#mec9b5027e6\" y=\"86.520704\"/>\r\n      </g>\r\n     </g>\r\n     <g id=\"text_9\">\r\n      <!-- 2 -->\r\n      <g transform=\"translate(15.579688 90.319922)scale(0.1 -0.1)\">\r\n       <use xlink:href=\"#DejaVuSans-50\"/>\r\n      </g>\r\n     </g>\r\n    </g>\r\n    <g id=\"ytick_4\">\r\n     <g id=\"line2d_10\">\r\n      <g>\r\n       <use style=\"stroke:#000000;stroke-width:0.8;\" x=\"28.942188\" xlink:href=\"#mec9b5027e6\" y=\"59.921499\"/>\r\n      </g>\r\n     </g>\r\n     <g id=\"text_10\">\r\n      <!-- 4 -->\r\n      <g transform=\"translate(15.579688 63.720718)scale(0.1 -0.1)\">\r\n       <use xlink:href=\"#DejaVuSans-52\"/>\r\n      </g>\r\n     </g>\r\n    </g>\r\n    <g id=\"ytick_5\">\r\n     <g id=\"line2d_11\">\r\n      <g>\r\n       <use style=\"stroke:#000000;stroke-width:0.8;\" x=\"28.942188\" xlink:href=\"#mec9b5027e6\" y=\"33.322294\"/>\r\n      </g>\r\n     </g>\r\n     <g id=\"text_11\">\r\n      <!-- 6 -->\r\n      <g transform=\"translate(15.579688 37.121513)scale(0.1 -0.1)\">\r\n       <defs>\r\n        <path d=\"M 33.015625 40.375 \r\nQ 26.375 40.375 22.484375 35.828125 \r\nQ 18.609375 31.296875 18.609375 23.390625 \r\nQ 18.609375 15.53125 22.484375 10.953125 \r\nQ 26.375 6.390625 33.015625 6.390625 \r\nQ 39.65625 6.390625 43.53125 10.953125 \r\nQ 47.40625 15.53125 47.40625 23.390625 \r\nQ 47.40625 31.296875 43.53125 35.828125 \r\nQ 39.65625 40.375 33.015625 40.375 \r\nz\r\nM 52.59375 71.296875 \r\nL 52.59375 62.3125 \r\nQ 48.875 64.0625 45.09375 64.984375 \r\nQ 41.3125 65.921875 37.59375 65.921875 \r\nQ 27.828125 65.921875 22.671875 59.328125 \r\nQ 17.53125 52.734375 16.796875 39.40625 \r\nQ 19.671875 43.65625 24.015625 45.921875 \r\nQ 28.375 48.1875 33.59375 48.1875 \r\nQ 44.578125 48.1875 50.953125 41.515625 \r\nQ 57.328125 34.859375 57.328125 23.390625 \r\nQ 57.328125 12.15625 50.6875 5.359375 \r\nQ 44.046875 -1.421875 33.015625 -1.421875 \r\nQ 20.359375 -1.421875 13.671875 8.265625 \r\nQ 6.984375 17.96875 6.984375 36.375 \r\nQ 6.984375 53.65625 15.1875 63.9375 \r\nQ 23.390625 74.21875 37.203125 74.21875 \r\nQ 40.921875 74.21875 44.703125 73.484375 \r\nQ 48.484375 72.75 52.59375 71.296875 \r\nz\r\n\" id=\"DejaVuSans-54\"/>\r\n       </defs>\r\n       <use xlink:href=\"#DejaVuSans-54\"/>\r\n      </g>\r\n     </g>\r\n    </g>\r\n   </g>\r\n   <g id=\"patch_3\">\r\n    <path d=\"M 28.942188 143.1 \r\nL 28.942188 7.2 \r\n\" style=\"fill:none;stroke:#000000;stroke-linecap:square;stroke-linejoin:miter;stroke-width:0.8;\"/>\r\n   </g>\r\n   <g id=\"patch_4\">\r\n    <path d=\"M 224.242188 143.1 \r\nL 224.242188 7.2 \r\n\" style=\"fill:none;stroke:#000000;stroke-linecap:square;stroke-linejoin:miter;stroke-width:0.8;\"/>\r\n   </g>\r\n   <g id=\"patch_5\">\r\n    <path d=\"M 28.942187 143.1 \r\nL 224.242188 143.1 \r\n\" style=\"fill:none;stroke:#000000;stroke-linecap:square;stroke-linejoin:miter;stroke-width:0.8;\"/>\r\n   </g>\r\n   <g id=\"patch_6\">\r\n    <path d=\"M 28.942187 7.2 \r\nL 224.242188 7.2 \r\n\" style=\"fill:none;stroke:#000000;stroke-linecap:square;stroke-linejoin:miter;stroke-width:0.8;\"/>\r\n   </g>\r\n  </g>\r\n </g>\r\n <defs>\r\n  <clipPath id=\"p8d31691f0a\">\r\n   <rect height=\"135.9\" width=\"195.3\" x=\"28.942188\" y=\"7.2\"/>\r\n  </clipPath>\r\n </defs>\r\n</svg>\r\n"
     },
     "metadata": {
      "needs_background": "light"
     }
    }
   ],
   "source": [
    "d2l.set_figsize()\n",
    "d2l.plt.scatter(data[:100, 0].numpy(), data[:100, 1].numpy());\n",
    "print(f'The covariance matrix is\\n{torch.mm(A.T, A)}')"
   ]
  },
  {
   "cell_type": "code",
   "execution_count": 4,
   "metadata": {},
   "outputs": [],
   "source": [
    "batch_size = 8\n",
    "data_iter = DataLoader(data, batch_size=batch_size)"
   ]
  },
  {
   "cell_type": "code",
   "execution_count": 5,
   "metadata": {},
   "outputs": [],
   "source": [
    "net_G = nn.Sequential()\n",
    "net_G.add_module(\"Linear\", nn.Linear(2, 2))"
   ]
  },
  {
   "cell_type": "code",
   "execution_count": 6,
   "metadata": {},
   "outputs": [],
   "source": [
    "net_D = nn.Sequential()\n",
    "net_D.add_module(\"Linear1t\", nn.Linear(2, 5))\n",
    "net_D.add_module(\"Tanh1\", nn.Tanh())\n",
    "net_D.add_module(\"Linear2t\", nn.Linear(5, 3))\n",
    "net_D.add_module(\"Tanh2\", nn.Tanh())\n",
    "net_D.add_module(\"Linear3\", nn.Linear(3, 1))\n",
    "net_D.add_module(\"Sigmoid\", nn.Sigmoid())\n"
   ]
  },
  {
   "cell_type": "code",
   "execution_count": 7,
   "metadata": {},
   "outputs": [],
   "source": [
    "#@save\n",
    "def update_D(X, Z, net_D, net_G, loss, trainer_D):\n",
    "    \"\"\"Update discriminator.\"\"\"\n",
    "    batch_size = X.shape[0]\n",
    "    ones = torch.ones(batch_size)\n",
    "    zeros = torch.zeros(batch_size)\n",
    "    trainer_D.zero_grad()\n",
    "    real_Y = net_D(X)\n",
    "    fake_X = net_G(Z)\n",
    "    # Do not need to compute gradient for `net_G`, detach it from\n",
    "    # computing gradients.\n",
    "    fake_Y = net_D(fake_X.detach())\n",
    "    loss_D = (loss(real_Y, ones) + loss(fake_Y, zeros)) / 2\n",
    "    loss_D.backward()\n",
    "    trainer_D.step()\n",
    "    return float(loss_D.sum())"
   ]
  },
  {
   "cell_type": "code",
   "execution_count": 8,
   "metadata": {},
   "outputs": [],
   "source": [
    "#@save\n",
    "def update_G(Z, net_D, net_G, loss, trainer_G):\n",
    "    \"\"\"Update generator.\"\"\"\n",
    "    batch_size = Z.shape[0]\n",
    "    ones = torch.ones(batch_size)\n",
    "    trainer_G.zero_grad()\n",
    "    # We could reuse `fake_X` from `update_D` to save computation\n",
    "    fake_X = net_G(Z)\n",
    "    # Recomputing `fake_Y` is needed since `net_D` is changed\n",
    "    fake_Y = net_D(fake_X)\n",
    "    loss_G = (loss(real_Y, ones) + loss(fake_Y, zeros)) / 2\n",
    "    loss_G.backward()\n",
    "    trainer_G.step()\n",
    "    return float(loss_G.sum())"
   ]
  },
  {
   "cell_type": "code",
   "execution_count": 9,
   "metadata": {},
   "outputs": [],
   "source": [
    "def train(net_D, net_G, data_iter, num_epochs, lr_D, lr_G, latent_dim, data):\n",
    "    loss = nn.BCELoss()\n",
    "    for w in net_D.parameters():\n",
    "        nn.init.normal_(w, 0, 0.02)\n",
    "    for w in net_G.parameters():\n",
    "        nn.init.normal_(w, 0, 0.02)\n",
    "    trainer_D = torch.optim.Adam(net_D.parameters(), lr=lr_D)\n",
    "    trainer_G = torch.optim.Adam(net_G.parameters(), lr=lr_G)\n",
    "    animator = d2l.Animator(xlabel='epoch', ylabel='loss',\n",
    "                            xlim=[1, num_epochs], nrows=2, figsize=(5, 5),\n",
    "                            legend=['generator', 'discriminator'])\n",
    "    animator.fig.subplots_adjust(hspace=0.3)\n",
    "    for epoch in range(num_epochs):\n",
    "        # Train one epoch\n",
    "        timer = d2l.Timer()\n",
    "        metric = d2l.Accumulator(3)  # loss_D, loss_G, num_examples\n",
    "        for X in data_iter:\n",
    "            X = Variable(X)\n",
    "            batch_size = X.shape[0]\n",
    "            Z = torch.normal(0, 1, size=(batch_size, latent_dim))\n",
    "            metric.add(update_D(X, Z, net_D, net_G, loss, trainer_D),\n",
    "                       update_G(Z, net_D, net_G, loss, trainer_G),\n",
    "                       batch_size)\n",
    "        # Visualize generated examples\n",
    "        Z = torch.normal(0, 1, size=(100, latent_dim))\n",
    "        fake_X = net_G(Z).numpy()\n",
    "        animator.axes[1].cla()\n",
    "        animator.axes[1].scatter(data[:, 0], data[:, 1])\n",
    "        animator.axes[1].scatter(fake_X[:, 0], fake_X[:, 1])\n",
    "        animator.axes[1].legend(['real', 'generated'])\n",
    "        # Show the losses\n",
    "        loss_D, loss_G = metric[0]/metric[2], metric[1]/metric[2]\n",
    "        animator.add(epoch + 1, (loss_D, loss_G))\n",
    "    print(f'loss_D {loss_D:.3f}, loss_G {loss_G:.3f}, '\n",
    "          f'{metric[2] / timer.stop():.1f} examples/sec')"
   ]
  },
  {
   "cell_type": "code",
   "execution_count": 10,
   "metadata": {},
   "outputs": [
    {
     "output_type": "error",
     "ename": "NameError",
     "evalue": "name 'real_Y' is not defined",
     "traceback": [
      "\u001b[1;31m---------------------------------------------------------------------------\u001b[0m",
      "\u001b[1;31mNameError\u001b[0m                                 Traceback (most recent call last)",
      "\u001b[1;32m<ipython-input-10-46803ce9c191>\u001b[0m in \u001b[0;36m<module>\u001b[1;34m\u001b[0m\n\u001b[0;32m      1\u001b[0m \u001b[0mlr_D\u001b[0m\u001b[1;33m,\u001b[0m \u001b[0mlr_G\u001b[0m\u001b[1;33m,\u001b[0m \u001b[0mlatent_dim\u001b[0m\u001b[1;33m,\u001b[0m \u001b[0mnum_epochs\u001b[0m \u001b[1;33m=\u001b[0m \u001b[1;36m0.05\u001b[0m\u001b[1;33m,\u001b[0m \u001b[1;36m0.005\u001b[0m\u001b[1;33m,\u001b[0m \u001b[1;36m2\u001b[0m\u001b[1;33m,\u001b[0m \u001b[1;36m20\u001b[0m\u001b[1;33m\u001b[0m\u001b[1;33m\u001b[0m\u001b[0m\n\u001b[1;32m----> 2\u001b[1;33m train(net_D, net_G, data_iter, num_epochs, lr_D, lr_G,\n\u001b[0m\u001b[0;32m      3\u001b[0m       latent_dim, data[:100].numpy())\n",
      "\u001b[1;32m<ipython-input-9-af00191c3363>\u001b[0m in \u001b[0;36mtrain\u001b[1;34m(net_D, net_G, data_iter, num_epochs, lr_D, lr_G, latent_dim, data)\u001b[0m\n\u001b[0;32m     20\u001b[0m             \u001b[0mZ\u001b[0m \u001b[1;33m=\u001b[0m \u001b[0mtorch\u001b[0m\u001b[1;33m.\u001b[0m\u001b[0mnormal\u001b[0m\u001b[1;33m(\u001b[0m\u001b[1;36m0\u001b[0m\u001b[1;33m,\u001b[0m \u001b[1;36m1\u001b[0m\u001b[1;33m,\u001b[0m \u001b[0msize\u001b[0m\u001b[1;33m=\u001b[0m\u001b[1;33m(\u001b[0m\u001b[0mbatch_size\u001b[0m\u001b[1;33m,\u001b[0m \u001b[0mlatent_dim\u001b[0m\u001b[1;33m)\u001b[0m\u001b[1;33m)\u001b[0m\u001b[1;33m\u001b[0m\u001b[1;33m\u001b[0m\u001b[0m\n\u001b[0;32m     21\u001b[0m             metric.add(update_D(X, Z, net_D, net_G, loss, trainer_D),\n\u001b[1;32m---> 22\u001b[1;33m                        \u001b[0mupdate_G\u001b[0m\u001b[1;33m(\u001b[0m\u001b[0mZ\u001b[0m\u001b[1;33m,\u001b[0m \u001b[0mnet_D\u001b[0m\u001b[1;33m,\u001b[0m \u001b[0mnet_G\u001b[0m\u001b[1;33m,\u001b[0m \u001b[0mloss\u001b[0m\u001b[1;33m,\u001b[0m \u001b[0mtrainer_G\u001b[0m\u001b[1;33m)\u001b[0m\u001b[1;33m,\u001b[0m\u001b[1;33m\u001b[0m\u001b[1;33m\u001b[0m\u001b[0m\n\u001b[0m\u001b[0;32m     23\u001b[0m                        batch_size)\n\u001b[0;32m     24\u001b[0m         \u001b[1;31m# Visualize generated examples\u001b[0m\u001b[1;33m\u001b[0m\u001b[1;33m\u001b[0m\u001b[1;33m\u001b[0m\u001b[0m\n",
      "\u001b[1;32m<ipython-input-8-55e07a7351c1>\u001b[0m in \u001b[0;36mupdate_G\u001b[1;34m(Z, net_D, net_G, loss, trainer_G)\u001b[0m\n\u001b[0;32m      9\u001b[0m     \u001b[1;31m# Recomputing `fake_Y` is needed since `net_D` is changed\u001b[0m\u001b[1;33m\u001b[0m\u001b[1;33m\u001b[0m\u001b[1;33m\u001b[0m\u001b[0m\n\u001b[0;32m     10\u001b[0m     \u001b[0mfake_Y\u001b[0m \u001b[1;33m=\u001b[0m \u001b[0mnet_D\u001b[0m\u001b[1;33m(\u001b[0m\u001b[0mfake_X\u001b[0m\u001b[1;33m)\u001b[0m\u001b[1;33m\u001b[0m\u001b[1;33m\u001b[0m\u001b[0m\n\u001b[1;32m---> 11\u001b[1;33m     \u001b[0mloss_G\u001b[0m \u001b[1;33m=\u001b[0m \u001b[1;33m(\u001b[0m\u001b[0mloss\u001b[0m\u001b[1;33m(\u001b[0m\u001b[0mreal_Y\u001b[0m\u001b[1;33m,\u001b[0m \u001b[0mones\u001b[0m\u001b[1;33m)\u001b[0m \u001b[1;33m+\u001b[0m \u001b[0mloss\u001b[0m\u001b[1;33m(\u001b[0m\u001b[0mfake_Y\u001b[0m\u001b[1;33m,\u001b[0m \u001b[0mzeros\u001b[0m\u001b[1;33m)\u001b[0m\u001b[1;33m)\u001b[0m \u001b[1;33m/\u001b[0m \u001b[1;36m2\u001b[0m\u001b[1;33m\u001b[0m\u001b[1;33m\u001b[0m\u001b[0m\n\u001b[0m\u001b[0;32m     12\u001b[0m     \u001b[0mloss_G\u001b[0m\u001b[1;33m.\u001b[0m\u001b[0mbackward\u001b[0m\u001b[1;33m(\u001b[0m\u001b[1;33m)\u001b[0m\u001b[1;33m\u001b[0m\u001b[1;33m\u001b[0m\u001b[0m\n\u001b[0;32m     13\u001b[0m     \u001b[0mtrainer_G\u001b[0m\u001b[1;33m.\u001b[0m\u001b[0mstep\u001b[0m\u001b[1;33m(\u001b[0m\u001b[1;33m)\u001b[0m\u001b[1;33m\u001b[0m\u001b[1;33m\u001b[0m\u001b[0m\n",
      "\u001b[1;31mNameError\u001b[0m: name 'real_Y' is not defined"
     ]
    }
   ],
   "source": [
    "lr_D, lr_G, latent_dim, num_epochs = 0.05, 0.005, 2, 20\n",
    "train(net_D, net_G, data_iter, num_epochs, lr_D, lr_G,\n",
    "      latent_dim, data[:100].numpy())"
   ]
  },
  {
   "cell_type": "code",
   "execution_count": null,
   "metadata": {},
   "outputs": [],
   "source": []
  }
 ]
}