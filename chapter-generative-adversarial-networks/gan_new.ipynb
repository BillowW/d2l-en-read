{
 "metadata": {
  "language_info": {
   "codemirror_mode": {
    "name": "ipython",
    "version": 3
   },
   "file_extension": ".py",
   "mimetype": "text/x-python",
   "name": "python",
   "nbconvert_exporter": "python",
   "pygments_lexer": "ipython3",
   "version": "3.8.3-final"
  },
  "orig_nbformat": 2,
  "kernelspec": {
   "name": "python38364bitpytorchconda70fdc7f787194f4c972bb3207dd25917",
   "display_name": "Python 3.8.3 64-bit ('pytorch': conda)"
  }
 },
 "nbformat": 4,
 "nbformat_minor": 2,
 "cells": [
  {
   "cell_type": "code",
   "execution_count": 1,
   "metadata": {},
   "outputs": [],
   "source": [
    "%matplotlib inline\n",
    "from d2l import torch as d2l\n",
    "import torch\n",
    "from torch.utils.data import DataLoader\n",
    "from torch.autograd import Variable\n",
    "from torch import nn"
   ]
  },
  {
   "cell_type": "code",
   "execution_count": 2,
   "metadata": {},
   "outputs": [],
   "source": [
    "X = torch.normal(0.0, 1, (1000, 2))\n",
    "A = torch.tensor([[1, 2], [-0.1, 0.5]])\n",
    "b = torch.tensor([1, 2])\n",
    "data = torch.mm(X, A) + b"
   ]
  },
  {
   "cell_type": "code",
   "execution_count": 3,
   "metadata": {
    "tags": []
   },
   "outputs": [
    {
     "output_type": "stream",
     "name": "stdout",
     "text": "The covariance matrix is\ntensor([[1.0100, 1.9500],\n        [1.9500, 4.2500]])\n"
    },
    {
     "output_type": "display_data",
     "data": {
      "text/plain": "<Figure size 252x180 with 1 Axes>",
      "image/svg+xml": "<?xml version=\"1.0\" encoding=\"utf-8\" standalone=\"no\"?>\r\n<!DOCTYPE svg PUBLIC \"-//W3C//DTD SVG 1.1//EN\"\r\n  \"http://www.w3.org/Graphics/SVG/1.1/DTD/svg11.dtd\">\r\n<!-- Created with matplotlib (https://matplotlib.org/) -->\r\n<svg height=\"166.978125pt\" version=\"1.1\" viewBox=\"0 0 231.442187 166.978125\" width=\"231.442187pt\" xmlns=\"http://www.w3.org/2000/svg\" xmlns:xlink=\"http://www.w3.org/1999/xlink\">\r\n <metadata>\r\n  <rdf:RDF xmlns:cc=\"http://creativecommons.org/ns#\" xmlns:dc=\"http://purl.org/dc/elements/1.1/\" xmlns:rdf=\"http://www.w3.org/1999/02/22-rdf-syntax-ns#\">\r\n   <cc:Work>\r\n    <dc:type rdf:resource=\"http://purl.org/dc/dcmitype/StillImage\"/>\r\n    <dc:date>2020-08-06T22:22:08.291643</dc:date>\r\n    <dc:format>image/svg+xml</dc:format>\r\n    <dc:creator>\r\n     <cc:Agent>\r\n      <dc:title>Matplotlib v3.3.0, https://matplotlib.org/</dc:title>\r\n     </cc:Agent>\r\n    </dc:creator>\r\n   </cc:Work>\r\n  </rdf:RDF>\r\n </metadata>\r\n <defs>\r\n  <style type=\"text/css\">*{stroke-linecap:butt;stroke-linejoin:round;}</style>\r\n </defs>\r\n <g id=\"figure_1\">\r\n  <g id=\"patch_1\">\r\n   <path d=\"M 0 166.978125 \r\nL 231.442187 166.978125 \r\nL 231.442187 0 \r\nL 0 0 \r\nz\r\n\" style=\"fill:none;\"/>\r\n  </g>\r\n  <g id=\"axes_1\">\r\n   <g id=\"patch_2\">\r\n    <path d=\"M 28.942188 143.1 \r\nL 224.242188 143.1 \r\nL 224.242188 7.2 \r\nL 28.942188 7.2 \r\nz\r\n\" style=\"fill:#ffffff;\"/>\r\n   </g>\r\n   <g id=\"PathCollection_1\">\r\n    <defs>\r\n     <path d=\"M 0 3 \r\nC 0.795609 3 1.55874 2.683901 2.12132 2.12132 \r\nC 2.683901 1.55874 3 0.795609 3 0 \r\nC 3 -0.795609 2.683901 -1.55874 2.12132 -2.12132 \r\nC 1.55874 -2.683901 0.795609 -3 0 -3 \r\nC -0.795609 -3 -1.55874 -2.683901 -2.12132 -2.12132 \r\nC -2.683901 -1.55874 -3 -0.795609 -3 0 \r\nC -3 0.795609 -2.683901 1.55874 -2.12132 2.12132 \r\nC -1.55874 2.683901 -0.795609 3 0 3 \r\nz\r\n\" id=\"m2675dd91d3\" style=\"stroke:#1f77b4;\"/>\r\n    </defs>\r\n    <g clip-path=\"url(#pcb82799867)\">\r\n     <use style=\"fill:#1f77b4;stroke:#1f77b4;\" x=\"82.923147\" xlink:href=\"#m2675dd91d3\" y=\"87.613612\"/>\r\n     <use style=\"fill:#1f77b4;stroke:#1f77b4;\" x=\"81.294639\" xlink:href=\"#m2675dd91d3\" y=\"96.511671\"/>\r\n     <use style=\"fill:#1f77b4;stroke:#1f77b4;\" x=\"88.53118\" xlink:href=\"#m2675dd91d3\" y=\"86.480231\"/>\r\n     <use style=\"fill:#1f77b4;stroke:#1f77b4;\" x=\"138.358922\" xlink:href=\"#m2675dd91d3\" y=\"79.08532\"/>\r\n     <use style=\"fill:#1f77b4;stroke:#1f77b4;\" x=\"152.585887\" xlink:href=\"#m2675dd91d3\" y=\"49.324446\"/>\r\n     <use style=\"fill:#1f77b4;stroke:#1f77b4;\" x=\"152.748369\" xlink:href=\"#m2675dd91d3\" y=\"68.554166\"/>\r\n     <use style=\"fill:#1f77b4;stroke:#1f77b4;\" x=\"137.89047\" xlink:href=\"#m2675dd91d3\" y=\"66.677072\"/>\r\n     <use style=\"fill:#1f77b4;stroke:#1f77b4;\" x=\"118.83194\" xlink:href=\"#m2675dd91d3\" y=\"94.186705\"/>\r\n     <use style=\"fill:#1f77b4;stroke:#1f77b4;\" x=\"121.377668\" xlink:href=\"#m2675dd91d3\" y=\"86.654821\"/>\r\n     <use style=\"fill:#1f77b4;stroke:#1f77b4;\" x=\"137.463002\" xlink:href=\"#m2675dd91d3\" y=\"55.012282\"/>\r\n     <use style=\"fill:#1f77b4;stroke:#1f77b4;\" x=\"95.920577\" xlink:href=\"#m2675dd91d3\" y=\"99.178083\"/>\r\n     <use style=\"fill:#1f77b4;stroke:#1f77b4;\" x=\"139.315167\" xlink:href=\"#m2675dd91d3\" y=\"51.619165\"/>\r\n     <use style=\"fill:#1f77b4;stroke:#1f77b4;\" x=\"149.34755\" xlink:href=\"#m2675dd91d3\" y=\"65.498496\"/>\r\n     <use style=\"fill:#1f77b4;stroke:#1f77b4;\" x=\"133.09444\" xlink:href=\"#m2675dd91d3\" y=\"51.727947\"/>\r\n     <use style=\"fill:#1f77b4;stroke:#1f77b4;\" x=\"120.561791\" xlink:href=\"#m2675dd91d3\" y=\"91.45038\"/>\r\n     <use style=\"fill:#1f77b4;stroke:#1f77b4;\" x=\"39.599763\" xlink:href=\"#m2675dd91d3\" y=\"127.835993\"/>\r\n     <use style=\"fill:#1f77b4;stroke:#1f77b4;\" x=\"112.157762\" xlink:href=\"#m2675dd91d3\" y=\"71.615477\"/>\r\n     <use style=\"fill:#1f77b4;stroke:#1f77b4;\" x=\"99.115965\" xlink:href=\"#m2675dd91d3\" y=\"87.762308\"/>\r\n     <use style=\"fill:#1f77b4;stroke:#1f77b4;\" x=\"107.495358\" xlink:href=\"#m2675dd91d3\" y=\"66.909721\"/>\r\n     <use style=\"fill:#1f77b4;stroke:#1f77b4;\" x=\"206.800093\" xlink:href=\"#m2675dd91d3\" y=\"24.156247\"/>\r\n     <use style=\"fill:#1f77b4;stroke:#1f77b4;\" x=\"141.923794\" xlink:href=\"#m2675dd91d3\" y=\"58.706576\"/>\r\n     <use style=\"fill:#1f77b4;stroke:#1f77b4;\" x=\"191.713875\" xlink:href=\"#m2675dd91d3\" y=\"28.045111\"/>\r\n     <use style=\"fill:#1f77b4;stroke:#1f77b4;\" x=\"124.514328\" xlink:href=\"#m2675dd91d3\" y=\"73.088994\"/>\r\n     <use style=\"fill:#1f77b4;stroke:#1f77b4;\" x=\"104.148442\" xlink:href=\"#m2675dd91d3\" y=\"82.91842\"/>\r\n     <use style=\"fill:#1f77b4;stroke:#1f77b4;\" x=\"95.125077\" xlink:href=\"#m2675dd91d3\" y=\"93.131089\"/>\r\n     <use style=\"fill:#1f77b4;stroke:#1f77b4;\" x=\"174.278985\" xlink:href=\"#m2675dd91d3\" y=\"42.239897\"/>\r\n     <use style=\"fill:#1f77b4;stroke:#1f77b4;\" x=\"109.81981\" xlink:href=\"#m2675dd91d3\" y=\"95.702091\"/>\r\n     <use style=\"fill:#1f77b4;stroke:#1f77b4;\" x=\"100.237424\" xlink:href=\"#m2675dd91d3\" y=\"88.404102\"/>\r\n     <use style=\"fill:#1f77b4;stroke:#1f77b4;\" x=\"178.70973\" xlink:href=\"#m2675dd91d3\" y=\"51.681284\"/>\r\n     <use style=\"fill:#1f77b4;stroke:#1f77b4;\" x=\"176.858244\" xlink:href=\"#m2675dd91d3\" y=\"43.087241\"/>\r\n     <use style=\"fill:#1f77b4;stroke:#1f77b4;\" x=\"165.061732\" xlink:href=\"#m2675dd91d3\" y=\"42.354084\"/>\r\n     <use style=\"fill:#1f77b4;stroke:#1f77b4;\" x=\"146.699286\" xlink:href=\"#m2675dd91d3\" y=\"58.602387\"/>\r\n     <use style=\"fill:#1f77b4;stroke:#1f77b4;\" x=\"179.112925\" xlink:href=\"#m2675dd91d3\" y=\"38.792962\"/>\r\n     <use style=\"fill:#1f77b4;stroke:#1f77b4;\" x=\"111.417679\" xlink:href=\"#m2675dd91d3\" y=\"91.494577\"/>\r\n     <use style=\"fill:#1f77b4;stroke:#1f77b4;\" x=\"154.021415\" xlink:href=\"#m2675dd91d3\" y=\"62.409687\"/>\r\n     <use style=\"fill:#1f77b4;stroke:#1f77b4;\" x=\"112.680629\" xlink:href=\"#m2675dd91d3\" y=\"75.384941\"/>\r\n     <use style=\"fill:#1f77b4;stroke:#1f77b4;\" x=\"147.213801\" xlink:href=\"#m2675dd91d3\" y=\"44.986477\"/>\r\n     <use style=\"fill:#1f77b4;stroke:#1f77b4;\" x=\"204.864472\" xlink:href=\"#m2675dd91d3\" y=\"13.377273\"/>\r\n     <use style=\"fill:#1f77b4;stroke:#1f77b4;\" x=\"169.487734\" xlink:href=\"#m2675dd91d3\" y=\"30.364259\"/>\r\n     <use style=\"fill:#1f77b4;stroke:#1f77b4;\" x=\"111.448512\" xlink:href=\"#m2675dd91d3\" y=\"87.692674\"/>\r\n     <use style=\"fill:#1f77b4;stroke:#1f77b4;\" x=\"81.89404\" xlink:href=\"#m2675dd91d3\" y=\"95.457804\"/>\r\n     <use style=\"fill:#1f77b4;stroke:#1f77b4;\" x=\"155.908957\" xlink:href=\"#m2675dd91d3\" y=\"55.014174\"/>\r\n     <use style=\"fill:#1f77b4;stroke:#1f77b4;\" x=\"94.812128\" xlink:href=\"#m2675dd91d3\" y=\"95.13002\"/>\r\n     <use style=\"fill:#1f77b4;stroke:#1f77b4;\" x=\"156.124878\" xlink:href=\"#m2675dd91d3\" y=\"70.138922\"/>\r\n     <use style=\"fill:#1f77b4;stroke:#1f77b4;\" x=\"111.750147\" xlink:href=\"#m2675dd91d3\" y=\"83.290798\"/>\r\n     <use style=\"fill:#1f77b4;stroke:#1f77b4;\" x=\"188.545286\" xlink:href=\"#m2675dd91d3\" y=\"25.091706\"/>\r\n     <use style=\"fill:#1f77b4;stroke:#1f77b4;\" x=\"161.085214\" xlink:href=\"#m2675dd91d3\" y=\"48.53849\"/>\r\n     <use style=\"fill:#1f77b4;stroke:#1f77b4;\" x=\"153.399878\" xlink:href=\"#m2675dd91d3\" y=\"65.479798\"/>\r\n     <use style=\"fill:#1f77b4;stroke:#1f77b4;\" x=\"94.611498\" xlink:href=\"#m2675dd91d3\" y=\"106.227791\"/>\r\n     <use style=\"fill:#1f77b4;stroke:#1f77b4;\" x=\"173.14376\" xlink:href=\"#m2675dd91d3\" y=\"60.661854\"/>\r\n     <use style=\"fill:#1f77b4;stroke:#1f77b4;\" x=\"116.935963\" xlink:href=\"#m2675dd91d3\" y=\"79.174933\"/>\r\n     <use style=\"fill:#1f77b4;stroke:#1f77b4;\" x=\"140.212064\" xlink:href=\"#m2675dd91d3\" y=\"61.561681\"/>\r\n     <use style=\"fill:#1f77b4;stroke:#1f77b4;\" x=\"156.205557\" xlink:href=\"#m2675dd91d3\" y=\"44.23108\"/>\r\n     <use style=\"fill:#1f77b4;stroke:#1f77b4;\" x=\"124.187404\" xlink:href=\"#m2675dd91d3\" y=\"74.978498\"/>\r\n     <use style=\"fill:#1f77b4;stroke:#1f77b4;\" x=\"148.962284\" xlink:href=\"#m2675dd91d3\" y=\"55.444103\"/>\r\n     <use style=\"fill:#1f77b4;stroke:#1f77b4;\" x=\"97.254659\" xlink:href=\"#m2675dd91d3\" y=\"97.608287\"/>\r\n     <use style=\"fill:#1f77b4;stroke:#1f77b4;\" x=\"148.894696\" xlink:href=\"#m2675dd91d3\" y=\"60.946325\"/>\r\n     <use style=\"fill:#1f77b4;stroke:#1f77b4;\" x=\"37.81946\" xlink:href=\"#m2675dd91d3\" y=\"129.083398\"/>\r\n     <use style=\"fill:#1f77b4;stroke:#1f77b4;\" x=\"117.267099\" xlink:href=\"#m2675dd91d3\" y=\"69.786142\"/>\r\n     <use style=\"fill:#1f77b4;stroke:#1f77b4;\" x=\"80.703995\" xlink:href=\"#m2675dd91d3\" y=\"109.661718\"/>\r\n     <use style=\"fill:#1f77b4;stroke:#1f77b4;\" x=\"151.977552\" xlink:href=\"#m2675dd91d3\" y=\"58.334528\"/>\r\n     <use style=\"fill:#1f77b4;stroke:#1f77b4;\" x=\"214.488376\" xlink:href=\"#m2675dd91d3\" y=\"18.247899\"/>\r\n     <use style=\"fill:#1f77b4;stroke:#1f77b4;\" x=\"148.30515\" xlink:href=\"#m2675dd91d3\" y=\"69.338015\"/>\r\n     <use style=\"fill:#1f77b4;stroke:#1f77b4;\" x=\"206.989459\" xlink:href=\"#m2675dd91d3\" y=\"23.096953\"/>\r\n     <use style=\"fill:#1f77b4;stroke:#1f77b4;\" x=\"215.364915\" xlink:href=\"#m2675dd91d3\" y=\"22.223461\"/>\r\n     <use style=\"fill:#1f77b4;stroke:#1f77b4;\" x=\"185.049662\" xlink:href=\"#m2675dd91d3\" y=\"42.959597\"/>\r\n     <use style=\"fill:#1f77b4;stroke:#1f77b4;\" x=\"114.617382\" xlink:href=\"#m2675dd91d3\" y=\"85.438541\"/>\r\n     <use style=\"fill:#1f77b4;stroke:#1f77b4;\" x=\"47.365593\" xlink:href=\"#m2675dd91d3\" y=\"136.875242\"/>\r\n     <use style=\"fill:#1f77b4;stroke:#1f77b4;\" x=\"154.099529\" xlink:href=\"#m2675dd91d3\" y=\"51.454477\"/>\r\n     <use style=\"fill:#1f77b4;stroke:#1f77b4;\" x=\"198.985877\" xlink:href=\"#m2675dd91d3\" y=\"36.845935\"/>\r\n     <use style=\"fill:#1f77b4;stroke:#1f77b4;\" x=\"96.493864\" xlink:href=\"#m2675dd91d3\" y=\"114.395656\"/>\r\n     <use style=\"fill:#1f77b4;stroke:#1f77b4;\" x=\"182.609521\" xlink:href=\"#m2675dd91d3\" y=\"29.177366\"/>\r\n     <use style=\"fill:#1f77b4;stroke:#1f77b4;\" x=\"211.461164\" xlink:href=\"#m2675dd91d3\" y=\"18.692152\"/>\r\n     <use style=\"fill:#1f77b4;stroke:#1f77b4;\" x=\"56.583405\" xlink:href=\"#m2675dd91d3\" y=\"131.60286\"/>\r\n     <use style=\"fill:#1f77b4;stroke:#1f77b4;\" x=\"74.816476\" xlink:href=\"#m2675dd91d3\" y=\"105.381671\"/>\r\n     <use style=\"fill:#1f77b4;stroke:#1f77b4;\" x=\"113.646986\" xlink:href=\"#m2675dd91d3\" y=\"74.698059\"/>\r\n     <use style=\"fill:#1f77b4;stroke:#1f77b4;\" x=\"168.142451\" xlink:href=\"#m2675dd91d3\" y=\"46.990547\"/>\r\n     <use style=\"fill:#1f77b4;stroke:#1f77b4;\" x=\"102.948811\" xlink:href=\"#m2675dd91d3\" y=\"99.744144\"/>\r\n     <use style=\"fill:#1f77b4;stroke:#1f77b4;\" x=\"113.869071\" xlink:href=\"#m2675dd91d3\" y=\"86.029916\"/>\r\n     <use style=\"fill:#1f77b4;stroke:#1f77b4;\" x=\"130.530452\" xlink:href=\"#m2675dd91d3\" y=\"71.478067\"/>\r\n     <use style=\"fill:#1f77b4;stroke:#1f77b4;\" x=\"103.097275\" xlink:href=\"#m2675dd91d3\" y=\"106.569969\"/>\r\n     <use style=\"fill:#1f77b4;stroke:#1f77b4;\" x=\"207.21974\" xlink:href=\"#m2675dd91d3\" y=\"28.173793\"/>\r\n     <use style=\"fill:#1f77b4;stroke:#1f77b4;\" x=\"152.227756\" xlink:href=\"#m2675dd91d3\" y=\"52.484907\"/>\r\n     <use style=\"fill:#1f77b4;stroke:#1f77b4;\" x=\"127.469428\" xlink:href=\"#m2675dd91d3\" y=\"73.72171\"/>\r\n     <use style=\"fill:#1f77b4;stroke:#1f77b4;\" x=\"135.969232\" xlink:href=\"#m2675dd91d3\" y=\"88.124369\"/>\r\n     <use style=\"fill:#1f77b4;stroke:#1f77b4;\" x=\"101.361529\" xlink:href=\"#m2675dd91d3\" y=\"87.021061\"/>\r\n     <use style=\"fill:#1f77b4;stroke:#1f77b4;\" x=\"137.592907\" xlink:href=\"#m2675dd91d3\" y=\"55.602623\"/>\r\n     <use style=\"fill:#1f77b4;stroke:#1f77b4;\" x=\"109.769595\" xlink:href=\"#m2675dd91d3\" y=\"85.386959\"/>\r\n     <use style=\"fill:#1f77b4;stroke:#1f77b4;\" x=\"140.785176\" xlink:href=\"#m2675dd91d3\" y=\"54.295277\"/>\r\n     <use style=\"fill:#1f77b4;stroke:#1f77b4;\" x=\"133.472123\" xlink:href=\"#m2675dd91d3\" y=\"79.406108\"/>\r\n     <use style=\"fill:#1f77b4;stroke:#1f77b4;\" x=\"108.666022\" xlink:href=\"#m2675dd91d3\" y=\"85.339063\"/>\r\n     <use style=\"fill:#1f77b4;stroke:#1f77b4;\" x=\"104.826169\" xlink:href=\"#m2675dd91d3\" y=\"111.342549\"/>\r\n     <use style=\"fill:#1f77b4;stroke:#1f77b4;\" x=\"41.458161\" xlink:href=\"#m2675dd91d3\" y=\"136.922727\"/>\r\n     <use style=\"fill:#1f77b4;stroke:#1f77b4;\" x=\"171.897247\" xlink:href=\"#m2675dd91d3\" y=\"41.619818\"/>\r\n     <use style=\"fill:#1f77b4;stroke:#1f77b4;\" x=\"66.179453\" xlink:href=\"#m2675dd91d3\" y=\"123.530694\"/>\r\n     <use style=\"fill:#1f77b4;stroke:#1f77b4;\" x=\"187.277361\" xlink:href=\"#m2675dd91d3\" y=\"46.263817\"/>\r\n     <use style=\"fill:#1f77b4;stroke:#1f77b4;\" x=\"43.486782\" xlink:href=\"#m2675dd91d3\" y=\"130.707942\"/>\r\n     <use style=\"fill:#1f77b4;stroke:#1f77b4;\" x=\"137.002763\" xlink:href=\"#m2675dd91d3\" y=\"69.850138\"/>\r\n     <use style=\"fill:#1f77b4;stroke:#1f77b4;\" x=\"106.847004\" xlink:href=\"#m2675dd91d3\" y=\"82.237658\"/>\r\n     <use style=\"fill:#1f77b4;stroke:#1f77b4;\" x=\"188.228511\" xlink:href=\"#m2675dd91d3\" y=\"27.786583\"/>\r\n    </g>\r\n   </g>\r\n   <g id=\"matplotlib.axis_1\">\r\n    <g id=\"xtick_1\">\r\n     <g id=\"line2d_1\">\r\n      <defs>\r\n       <path d=\"M 0 0 \r\nL 0 3.5 \r\n\" id=\"mef4574b48b\" style=\"stroke:#000000;stroke-width:0.8;\"/>\r\n      </defs>\r\n      <g>\r\n       <use style=\"stroke:#000000;stroke-width:0.8;\" x=\"57.376465\" xlink:href=\"#mef4574b48b\" y=\"143.1\"/>\r\n      </g>\r\n     </g>\r\n     <g id=\"text_1\">\r\n      <!-- −1 -->\r\n      <g transform=\"translate(50.005372 157.698438)scale(0.1 -0.1)\">\r\n       <defs>\r\n        <path d=\"M 10.59375 35.5 \r\nL 73.1875 35.5 \r\nL 73.1875 27.203125 \r\nL 10.59375 27.203125 \r\nz\r\n\" id=\"DejaVuSans-8722\"/>\r\n        <path d=\"M 12.40625 8.296875 \r\nL 28.515625 8.296875 \r\nL 28.515625 63.921875 \r\nL 10.984375 60.40625 \r\nL 10.984375 69.390625 \r\nL 28.421875 72.90625 \r\nL 38.28125 72.90625 \r\nL 38.28125 8.296875 \r\nL 54.390625 8.296875 \r\nL 54.390625 0 \r\nL 12.40625 0 \r\nz\r\n\" id=\"DejaVuSans-49\"/>\r\n       </defs>\r\n       <use xlink:href=\"#DejaVuSans-8722\"/>\r\n       <use x=\"83.789062\" xlink:href=\"#DejaVuSans-49\"/>\r\n      </g>\r\n     </g>\r\n    </g>\r\n    <g id=\"xtick_2\">\r\n     <g id=\"line2d_2\">\r\n      <g>\r\n       <use style=\"stroke:#000000;stroke-width:0.8;\" x=\"95.126428\" xlink:href=\"#mef4574b48b\" y=\"143.1\"/>\r\n      </g>\r\n     </g>\r\n     <g id=\"text_2\">\r\n      <!-- 0 -->\r\n      <g transform=\"translate(91.945178 157.698438)scale(0.1 -0.1)\">\r\n       <defs>\r\n        <path d=\"M 31.78125 66.40625 \r\nQ 24.171875 66.40625 20.328125 58.90625 \r\nQ 16.5 51.421875 16.5 36.375 \r\nQ 16.5 21.390625 20.328125 13.890625 \r\nQ 24.171875 6.390625 31.78125 6.390625 \r\nQ 39.453125 6.390625 43.28125 13.890625 \r\nQ 47.125 21.390625 47.125 36.375 \r\nQ 47.125 51.421875 43.28125 58.90625 \r\nQ 39.453125 66.40625 31.78125 66.40625 \r\nz\r\nM 31.78125 74.21875 \r\nQ 44.046875 74.21875 50.515625 64.515625 \r\nQ 56.984375 54.828125 56.984375 36.375 \r\nQ 56.984375 17.96875 50.515625 8.265625 \r\nQ 44.046875 -1.421875 31.78125 -1.421875 \r\nQ 19.53125 -1.421875 13.0625 8.265625 \r\nQ 6.59375 17.96875 6.59375 36.375 \r\nQ 6.59375 54.828125 13.0625 64.515625 \r\nQ 19.53125 74.21875 31.78125 74.21875 \r\nz\r\n\" id=\"DejaVuSans-48\"/>\r\n       </defs>\r\n       <use xlink:href=\"#DejaVuSans-48\"/>\r\n      </g>\r\n     </g>\r\n    </g>\r\n    <g id=\"xtick_3\">\r\n     <g id=\"line2d_3\">\r\n      <g>\r\n       <use style=\"stroke:#000000;stroke-width:0.8;\" x=\"132.87639\" xlink:href=\"#mef4574b48b\" y=\"143.1\"/>\r\n      </g>\r\n     </g>\r\n     <g id=\"text_3\">\r\n      <!-- 1 -->\r\n      <g transform=\"translate(129.69514 157.698438)scale(0.1 -0.1)\">\r\n       <use xlink:href=\"#DejaVuSans-49\"/>\r\n      </g>\r\n     </g>\r\n    </g>\r\n    <g id=\"xtick_4\">\r\n     <g id=\"line2d_4\">\r\n      <g>\r\n       <use style=\"stroke:#000000;stroke-width:0.8;\" x=\"170.626352\" xlink:href=\"#mef4574b48b\" y=\"143.1\"/>\r\n      </g>\r\n     </g>\r\n     <g id=\"text_4\">\r\n      <!-- 2 -->\r\n      <g transform=\"translate(167.445102 157.698438)scale(0.1 -0.1)\">\r\n       <defs>\r\n        <path d=\"M 19.1875 8.296875 \r\nL 53.609375 8.296875 \r\nL 53.609375 0 \r\nL 7.328125 0 \r\nL 7.328125 8.296875 \r\nQ 12.9375 14.109375 22.625 23.890625 \r\nQ 32.328125 33.6875 34.8125 36.53125 \r\nQ 39.546875 41.84375 41.421875 45.53125 \r\nQ 43.3125 49.21875 43.3125 52.78125 \r\nQ 43.3125 58.59375 39.234375 62.25 \r\nQ 35.15625 65.921875 28.609375 65.921875 \r\nQ 23.96875 65.921875 18.8125 64.3125 \r\nQ 13.671875 62.703125 7.8125 59.421875 \r\nL 7.8125 69.390625 \r\nQ 13.765625 71.78125 18.9375 73 \r\nQ 24.125 74.21875 28.421875 74.21875 \r\nQ 39.75 74.21875 46.484375 68.546875 \r\nQ 53.21875 62.890625 53.21875 53.421875 \r\nQ 53.21875 48.921875 51.53125 44.890625 \r\nQ 49.859375 40.875 45.40625 35.40625 \r\nQ 44.1875 33.984375 37.640625 27.21875 \r\nQ 31.109375 20.453125 19.1875 8.296875 \r\nz\r\n\" id=\"DejaVuSans-50\"/>\r\n       </defs>\r\n       <use xlink:href=\"#DejaVuSans-50\"/>\r\n      </g>\r\n     </g>\r\n    </g>\r\n    <g id=\"xtick_5\">\r\n     <g id=\"line2d_5\">\r\n      <g>\r\n       <use style=\"stroke:#000000;stroke-width:0.8;\" x=\"208.376314\" xlink:href=\"#mef4574b48b\" y=\"143.1\"/>\r\n      </g>\r\n     </g>\r\n     <g id=\"text_5\">\r\n      <!-- 3 -->\r\n      <g transform=\"translate(205.195064 157.698438)scale(0.1 -0.1)\">\r\n       <defs>\r\n        <path d=\"M 40.578125 39.3125 \r\nQ 47.65625 37.796875 51.625 33 \r\nQ 55.609375 28.21875 55.609375 21.1875 \r\nQ 55.609375 10.40625 48.1875 4.484375 \r\nQ 40.765625 -1.421875 27.09375 -1.421875 \r\nQ 22.515625 -1.421875 17.65625 -0.515625 \r\nQ 12.796875 0.390625 7.625 2.203125 \r\nL 7.625 11.71875 \r\nQ 11.71875 9.328125 16.59375 8.109375 \r\nQ 21.484375 6.890625 26.8125 6.890625 \r\nQ 36.078125 6.890625 40.9375 10.546875 \r\nQ 45.796875 14.203125 45.796875 21.1875 \r\nQ 45.796875 27.640625 41.28125 31.265625 \r\nQ 36.765625 34.90625 28.71875 34.90625 \r\nL 20.21875 34.90625 \r\nL 20.21875 43.015625 \r\nL 29.109375 43.015625 \r\nQ 36.375 43.015625 40.234375 45.921875 \r\nQ 44.09375 48.828125 44.09375 54.296875 \r\nQ 44.09375 59.90625 40.109375 62.90625 \r\nQ 36.140625 65.921875 28.71875 65.921875 \r\nQ 24.65625 65.921875 20.015625 65.03125 \r\nQ 15.375 64.15625 9.8125 62.3125 \r\nL 9.8125 71.09375 \r\nQ 15.4375 72.65625 20.34375 73.4375 \r\nQ 25.25 74.21875 29.59375 74.21875 \r\nQ 40.828125 74.21875 47.359375 69.109375 \r\nQ 53.90625 64.015625 53.90625 55.328125 \r\nQ 53.90625 49.265625 50.4375 45.09375 \r\nQ 46.96875 40.921875 40.578125 39.3125 \r\nz\r\n\" id=\"DejaVuSans-51\"/>\r\n       </defs>\r\n       <use xlink:href=\"#DejaVuSans-51\"/>\r\n      </g>\r\n     </g>\r\n    </g>\r\n   </g>\r\n   <g id=\"matplotlib.axis_2\">\r\n    <g id=\"ytick_1\">\r\n     <g id=\"line2d_6\">\r\n      <defs>\r\n       <path d=\"M 0 0 \r\nL -3.5 0 \r\n\" id=\"m3d8149a3fa\" style=\"stroke:#000000;stroke-width:0.8;\"/>\r\n      </defs>\r\n      <g>\r\n       <use style=\"stroke:#000000;stroke-width:0.8;\" x=\"28.942188\" xlink:href=\"#m3d8149a3fa\" y=\"124.0149\"/>\r\n      </g>\r\n     </g>\r\n     <g id=\"text_6\">\r\n      <!-- −2 -->\r\n      <g transform=\"translate(7.2 127.814119)scale(0.1 -0.1)\">\r\n       <use xlink:href=\"#DejaVuSans-8722\"/>\r\n       <use x=\"83.789062\" xlink:href=\"#DejaVuSans-50\"/>\r\n      </g>\r\n     </g>\r\n    </g>\r\n    <g id=\"ytick_2\">\r\n     <g id=\"line2d_7\">\r\n      <g>\r\n       <use style=\"stroke:#000000;stroke-width:0.8;\" x=\"28.942188\" xlink:href=\"#m3d8149a3fa\" y=\"97.466399\"/>\r\n      </g>\r\n     </g>\r\n     <g id=\"text_7\">\r\n      <!-- 0 -->\r\n      <g transform=\"translate(15.579688 101.265617)scale(0.1 -0.1)\">\r\n       <use xlink:href=\"#DejaVuSans-48\"/>\r\n      </g>\r\n     </g>\r\n    </g>\r\n    <g id=\"ytick_3\">\r\n     <g id=\"line2d_8\">\r\n      <g>\r\n       <use style=\"stroke:#000000;stroke-width:0.8;\" x=\"28.942188\" xlink:href=\"#m3d8149a3fa\" y=\"70.917897\"/>\r\n      </g>\r\n     </g>\r\n     <g id=\"text_8\">\r\n      <!-- 2 -->\r\n      <g transform=\"translate(15.579688 74.717116)scale(0.1 -0.1)\">\r\n       <use xlink:href=\"#DejaVuSans-50\"/>\r\n      </g>\r\n     </g>\r\n    </g>\r\n    <g id=\"ytick_4\">\r\n     <g id=\"line2d_9\">\r\n      <g>\r\n       <use style=\"stroke:#000000;stroke-width:0.8;\" x=\"28.942188\" xlink:href=\"#m3d8149a3fa\" y=\"44.369395\"/>\r\n      </g>\r\n     </g>\r\n     <g id=\"text_9\">\r\n      <!-- 4 -->\r\n      <g transform=\"translate(15.579688 48.168614)scale(0.1 -0.1)\">\r\n       <defs>\r\n        <path d=\"M 37.796875 64.3125 \r\nL 12.890625 25.390625 \r\nL 37.796875 25.390625 \r\nz\r\nM 35.203125 72.90625 \r\nL 47.609375 72.90625 \r\nL 47.609375 25.390625 \r\nL 58.015625 25.390625 \r\nL 58.015625 17.1875 \r\nL 47.609375 17.1875 \r\nL 47.609375 0 \r\nL 37.796875 0 \r\nL 37.796875 17.1875 \r\nL 4.890625 17.1875 \r\nL 4.890625 26.703125 \r\nz\r\n\" id=\"DejaVuSans-52\"/>\r\n       </defs>\r\n       <use xlink:href=\"#DejaVuSans-52\"/>\r\n      </g>\r\n     </g>\r\n    </g>\r\n    <g id=\"ytick_5\">\r\n     <g id=\"line2d_10\">\r\n      <g>\r\n       <use style=\"stroke:#000000;stroke-width:0.8;\" x=\"28.942188\" xlink:href=\"#m3d8149a3fa\" y=\"17.820894\"/>\r\n      </g>\r\n     </g>\r\n     <g id=\"text_10\">\r\n      <!-- 6 -->\r\n      <g transform=\"translate(15.579688 21.620113)scale(0.1 -0.1)\">\r\n       <defs>\r\n        <path d=\"M 33.015625 40.375 \r\nQ 26.375 40.375 22.484375 35.828125 \r\nQ 18.609375 31.296875 18.609375 23.390625 \r\nQ 18.609375 15.53125 22.484375 10.953125 \r\nQ 26.375 6.390625 33.015625 6.390625 \r\nQ 39.65625 6.390625 43.53125 10.953125 \r\nQ 47.40625 15.53125 47.40625 23.390625 \r\nQ 47.40625 31.296875 43.53125 35.828125 \r\nQ 39.65625 40.375 33.015625 40.375 \r\nz\r\nM 52.59375 71.296875 \r\nL 52.59375 62.3125 \r\nQ 48.875 64.0625 45.09375 64.984375 \r\nQ 41.3125 65.921875 37.59375 65.921875 \r\nQ 27.828125 65.921875 22.671875 59.328125 \r\nQ 17.53125 52.734375 16.796875 39.40625 \r\nQ 19.671875 43.65625 24.015625 45.921875 \r\nQ 28.375 48.1875 33.59375 48.1875 \r\nQ 44.578125 48.1875 50.953125 41.515625 \r\nQ 57.328125 34.859375 57.328125 23.390625 \r\nQ 57.328125 12.15625 50.6875 5.359375 \r\nQ 44.046875 -1.421875 33.015625 -1.421875 \r\nQ 20.359375 -1.421875 13.671875 8.265625 \r\nQ 6.984375 17.96875 6.984375 36.375 \r\nQ 6.984375 53.65625 15.1875 63.9375 \r\nQ 23.390625 74.21875 37.203125 74.21875 \r\nQ 40.921875 74.21875 44.703125 73.484375 \r\nQ 48.484375 72.75 52.59375 71.296875 \r\nz\r\n\" id=\"DejaVuSans-54\"/>\r\n       </defs>\r\n       <use xlink:href=\"#DejaVuSans-54\"/>\r\n      </g>\r\n     </g>\r\n    </g>\r\n   </g>\r\n   <g id=\"patch_3\">\r\n    <path d=\"M 28.942188 143.1 \r\nL 28.942188 7.2 \r\n\" style=\"fill:none;stroke:#000000;stroke-linecap:square;stroke-linejoin:miter;stroke-width:0.8;\"/>\r\n   </g>\r\n   <g id=\"patch_4\">\r\n    <path d=\"M 224.242188 143.1 \r\nL 224.242188 7.2 \r\n\" style=\"fill:none;stroke:#000000;stroke-linecap:square;stroke-linejoin:miter;stroke-width:0.8;\"/>\r\n   </g>\r\n   <g id=\"patch_5\">\r\n    <path d=\"M 28.942188 143.1 \r\nL 224.242188 143.1 \r\n\" style=\"fill:none;stroke:#000000;stroke-linecap:square;stroke-linejoin:miter;stroke-width:0.8;\"/>\r\n   </g>\r\n   <g id=\"patch_6\">\r\n    <path d=\"M 28.942188 7.2 \r\nL 224.242188 7.2 \r\n\" style=\"fill:none;stroke:#000000;stroke-linecap:square;stroke-linejoin:miter;stroke-width:0.8;\"/>\r\n   </g>\r\n  </g>\r\n </g>\r\n <defs>\r\n  <clipPath id=\"pcb82799867\">\r\n   <rect height=\"135.9\" width=\"195.3\" x=\"28.942188\" y=\"7.2\"/>\r\n  </clipPath>\r\n </defs>\r\n</svg>\r\n"
     },
     "metadata": {
      "needs_background": "light"
     }
    }
   ],
   "source": [
    "d2l.set_figsize()\n",
    "d2l.plt.scatter(data[:100, 0].numpy(), data[:100, 1].numpy());\n",
    "print(f'The covariance matrix is\\n{torch.mm(A.T, A)}')"
   ]
  },
  {
   "cell_type": "code",
   "execution_count": 4,
   "metadata": {},
   "outputs": [],
   "source": [
    "batch_size = 8\n",
    "data_iter = DataLoader(data, batch_size=batch_size)"
   ]
  },
  {
   "cell_type": "code",
   "execution_count": 5,
   "metadata": {},
   "outputs": [],
   "source": [
    "net_G = nn.Sequential()\n",
    "net_G.add_module(\"Linear\", nn.Linear(2, 2))"
   ]
  },
  {
   "cell_type": "code",
   "execution_count": 6,
   "metadata": {},
   "outputs": [],
   "source": [
    "net_D = nn.Sequential()\n",
    "net_D.add_module(\"Linear1t\", nn.Linear(2, 5))\n",
    "net_D.add_module(\"Tanh1\", nn.Tanh())\n",
    "net_D.add_module(\"Linear2t\", nn.Linear(5, 3))\n",
    "net_D.add_module(\"Tanh2\", nn.Tanh())\n",
    "net_D.add_module(\"Linear3\", nn.Linear(3, 1))\n",
    "\n",
    "\n",
    "\n"
   ]
  },
  {
   "cell_type": "code",
   "execution_count": 7,
   "metadata": {},
   "outputs": [],
   "source": [
    "#@save\n",
    "def update_D(X, Z, net_D, net_G, loss, trainer_D):\n",
    "    \"\"\"Update discriminator.\"\"\"\n",
    "    batch_size = X.shape[0]\n",
    "    ones = torch.ones(batch_size)\n",
    "    zeros = torch.zeros(batch_size)\n",
    "    trainer_D.zero_grad()\n",
    "    real_Y = net_D(X)\n",
    "    fake_X = net_G(Z)\n",
    "    # Do not need to compute gradient for `net_G`, detach it from\n",
    "    # computing gradients.\n",
    "    fake_Y = net_D(fake_X.detach())\n",
    "    loss_D = (loss(real_Y, ones) + loss(fake_Y, zeros)) / 2\n",
    "    loss_D.backward()\n",
    "    trainer_D.step(batch_size)\n",
    "    return float(loss_D.sum())"
   ]
  },
  {
   "cell_type": "code",
   "execution_count": 8,
   "metadata": {},
   "outputs": [],
   "source": [
    "#@save\n",
    "def update_G(Z, net_D, net_G, loss, trainer_G):\n",
    "    \"\"\"Update generator.\"\"\"\n",
    "    batch_size = Z.shape[0]\n",
    "    ones = torch.ones(batch_size)\n",
    "    trainer_D.zero_grad()\n",
    "    # We could reuse `fake_X` from `update_D` to save computation\n",
    "    fake_X = net_G(Z)\n",
    "    # Recomputing `fake_Y` is needed since `net_D` is changed\n",
    "    fake_Y = net_D(fake_X)\n",
    "    loss_G = (loss(real_Y, ones) + loss(fake_Y, zeros)) / 2\n",
    "    loss_G.backward()\n",
    "    trainer_G.step(batch_size)\n",
    "    return float(loss_G.sum())"
   ]
  },
  {
   "cell_type": "code",
   "execution_count": 9,
   "metadata": {},
   "outputs": [],
   "source": [
    "def train(net_D, net_G, data_iter, num_epochs, lr_D, lr_G, latent_dim, data):\n",
    "    loss = nn.BCELoss()\n",
    "    for w in net_D.parameters():\n",
    "        nn.init.normal_(w, 0, 0.02)\n",
    "    for w in net_G.parameters():\n",
    "        nn.init.normal_(w, 0, 0.02)\n",
    "    trainer_D = torch.optim.Adam(net_D.parameters(), lr=lr_D)\n",
    "    trainer_G = torch.optim.Adam(net_G.parameters(), lr=lr_G)\n",
    "    animator = d2l.Animator(xlabel='epoch', ylabel='loss',\n",
    "                            xlim=[1, num_epochs], nrows=2, figsize=(5, 5),\n",
    "                            legend=['generator', 'discriminator'])\n",
    "    animator.fig.subplots_adjust(hspace=0.3)\n",
    "    for epoch in range(num_epochs):\n",
    "        # Train one epoch\n",
    "        timer = d2l.Timer()\n",
    "        metric = d2l.Accumulator(3)  # loss_D, loss_G, num_examples\n",
    "        for X in data_iter:\n",
    "            X = Variable(X)\n",
    "            batch_size = X.shape[0]\n",
    "            Z = torch.normal(0, 1, size=(batch_size, latent_dim))\n",
    "            metric.add(update_D(X, Z, net_D, net_G, loss, trainer_D),\n",
    "                       update_G(Z, net_D, net_G, loss, trainer_G),\n",
    "                       batch_size)\n",
    "        # Visualize generated examples\n",
    "        Z = torch.normal(0, 1, size=(100, latent_dim))\n",
    "        fake_X = net_G(Z).numpy()\n",
    "        animator.axes[1].cla()\n",
    "        animator.axes[1].scatter(data[:, 0], data[:, 1])\n",
    "        animator.axes[1].scatter(fake_X[:, 0], fake_X[:, 1])\n",
    "        animator.axes[1].legend(['real', 'generated'])\n",
    "        # Show the losses\n",
    "        loss_D, loss_G = metric[0]/metric[2], metric[1]/metric[2]\n",
    "        animator.add(epoch + 1, (loss_D, loss_G))\n",
    "    print(f'loss_D {loss_D:.3f}, loss_G {loss_G:.3f}, '\n",
    "          f'{metric[2] / timer.stop():.1f} examples/sec')"
   ]
  },
  {
   "cell_type": "code",
   "execution_count": 10,
   "metadata": {},
   "outputs": [
    {
     "output_type": "error",
     "ename": "RuntimeError",
     "evalue": "all elements of input should be between 0 and 1",
     "traceback": [
      "\u001b[1;31m---------------------------------------------------------------------------\u001b[0m",
      "\u001b[1;31mRuntimeError\u001b[0m                              Traceback (most recent call last)",
      "\u001b[1;32m<ipython-input-10-46803ce9c191>\u001b[0m in \u001b[0;36m<module>\u001b[1;34m\u001b[0m\n\u001b[0;32m      1\u001b[0m \u001b[0mlr_D\u001b[0m\u001b[1;33m,\u001b[0m \u001b[0mlr_G\u001b[0m\u001b[1;33m,\u001b[0m \u001b[0mlatent_dim\u001b[0m\u001b[1;33m,\u001b[0m \u001b[0mnum_epochs\u001b[0m \u001b[1;33m=\u001b[0m \u001b[1;36m0.05\u001b[0m\u001b[1;33m,\u001b[0m \u001b[1;36m0.005\u001b[0m\u001b[1;33m,\u001b[0m \u001b[1;36m2\u001b[0m\u001b[1;33m,\u001b[0m \u001b[1;36m20\u001b[0m\u001b[1;33m\u001b[0m\u001b[1;33m\u001b[0m\u001b[0m\n\u001b[1;32m----> 2\u001b[1;33m train(net_D, net_G, data_iter, num_epochs, lr_D, lr_G,\n\u001b[0m\u001b[0;32m      3\u001b[0m       latent_dim, data[:100].numpy())\n",
      "\u001b[1;32m<ipython-input-9-af00191c3363>\u001b[0m in \u001b[0;36mtrain\u001b[1;34m(net_D, net_G, data_iter, num_epochs, lr_D, lr_G, latent_dim, data)\u001b[0m\n\u001b[0;32m     19\u001b[0m             \u001b[0mbatch_size\u001b[0m \u001b[1;33m=\u001b[0m \u001b[0mX\u001b[0m\u001b[1;33m.\u001b[0m\u001b[0mshape\u001b[0m\u001b[1;33m[\u001b[0m\u001b[1;36m0\u001b[0m\u001b[1;33m]\u001b[0m\u001b[1;33m\u001b[0m\u001b[1;33m\u001b[0m\u001b[0m\n\u001b[0;32m     20\u001b[0m             \u001b[0mZ\u001b[0m \u001b[1;33m=\u001b[0m \u001b[0mtorch\u001b[0m\u001b[1;33m.\u001b[0m\u001b[0mnormal\u001b[0m\u001b[1;33m(\u001b[0m\u001b[1;36m0\u001b[0m\u001b[1;33m,\u001b[0m \u001b[1;36m1\u001b[0m\u001b[1;33m,\u001b[0m \u001b[0msize\u001b[0m\u001b[1;33m=\u001b[0m\u001b[1;33m(\u001b[0m\u001b[0mbatch_size\u001b[0m\u001b[1;33m,\u001b[0m \u001b[0mlatent_dim\u001b[0m\u001b[1;33m)\u001b[0m\u001b[1;33m)\u001b[0m\u001b[1;33m\u001b[0m\u001b[1;33m\u001b[0m\u001b[0m\n\u001b[1;32m---> 21\u001b[1;33m             metric.add(update_D(X, Z, net_D, net_G, loss, trainer_D),\n\u001b[0m\u001b[0;32m     22\u001b[0m                        \u001b[0mupdate_G\u001b[0m\u001b[1;33m(\u001b[0m\u001b[0mZ\u001b[0m\u001b[1;33m,\u001b[0m \u001b[0mnet_D\u001b[0m\u001b[1;33m,\u001b[0m \u001b[0mnet_G\u001b[0m\u001b[1;33m,\u001b[0m \u001b[0mloss\u001b[0m\u001b[1;33m,\u001b[0m \u001b[0mtrainer_G\u001b[0m\u001b[1;33m)\u001b[0m\u001b[1;33m,\u001b[0m\u001b[1;33m\u001b[0m\u001b[1;33m\u001b[0m\u001b[0m\n\u001b[0;32m     23\u001b[0m                        batch_size)\n",
      "\u001b[1;32m<ipython-input-7-662dc7b5fcea>\u001b[0m in \u001b[0;36mupdate_D\u001b[1;34m(X, Z, net_D, net_G, loss, trainer_D)\u001b[0m\n\u001b[0;32m     11\u001b[0m     \u001b[1;31m# computing gradients.\u001b[0m\u001b[1;33m\u001b[0m\u001b[1;33m\u001b[0m\u001b[1;33m\u001b[0m\u001b[0m\n\u001b[0;32m     12\u001b[0m     \u001b[0mfake_Y\u001b[0m \u001b[1;33m=\u001b[0m \u001b[0mnet_D\u001b[0m\u001b[1;33m(\u001b[0m\u001b[0mfake_X\u001b[0m\u001b[1;33m.\u001b[0m\u001b[0mdetach\u001b[0m\u001b[1;33m(\u001b[0m\u001b[1;33m)\u001b[0m\u001b[1;33m)\u001b[0m\u001b[1;33m\u001b[0m\u001b[1;33m\u001b[0m\u001b[0m\n\u001b[1;32m---> 13\u001b[1;33m     \u001b[0mloss_D\u001b[0m \u001b[1;33m=\u001b[0m \u001b[1;33m(\u001b[0m\u001b[0mloss\u001b[0m\u001b[1;33m(\u001b[0m\u001b[0mreal_Y\u001b[0m\u001b[1;33m,\u001b[0m \u001b[0mones\u001b[0m\u001b[1;33m)\u001b[0m \u001b[1;33m+\u001b[0m \u001b[0mloss\u001b[0m\u001b[1;33m(\u001b[0m\u001b[0mfake_Y\u001b[0m\u001b[1;33m,\u001b[0m \u001b[0mzeros\u001b[0m\u001b[1;33m)\u001b[0m\u001b[1;33m)\u001b[0m \u001b[1;33m/\u001b[0m \u001b[1;36m2\u001b[0m\u001b[1;33m\u001b[0m\u001b[1;33m\u001b[0m\u001b[0m\n\u001b[0m\u001b[0;32m     14\u001b[0m     \u001b[0mloss_D\u001b[0m\u001b[1;33m.\u001b[0m\u001b[0mbackward\u001b[0m\u001b[1;33m(\u001b[0m\u001b[1;33m)\u001b[0m\u001b[1;33m\u001b[0m\u001b[1;33m\u001b[0m\u001b[0m\n\u001b[0;32m     15\u001b[0m     \u001b[0mtrainer_D\u001b[0m\u001b[1;33m.\u001b[0m\u001b[0mstep\u001b[0m\u001b[1;33m(\u001b[0m\u001b[0mbatch_size\u001b[0m\u001b[1;33m)\u001b[0m\u001b[1;33m\u001b[0m\u001b[1;33m\u001b[0m\u001b[0m\n",
      "\u001b[1;32m~\\anaconda3\\envs\\pytorch\\lib\\site-packages\\torch\\nn\\modules\\module.py\u001b[0m in \u001b[0;36m__call__\u001b[1;34m(self, *input, **kwargs)\u001b[0m\n\u001b[0;32m    548\u001b[0m             \u001b[0mresult\u001b[0m \u001b[1;33m=\u001b[0m \u001b[0mself\u001b[0m\u001b[1;33m.\u001b[0m\u001b[0m_slow_forward\u001b[0m\u001b[1;33m(\u001b[0m\u001b[1;33m*\u001b[0m\u001b[0minput\u001b[0m\u001b[1;33m,\u001b[0m \u001b[1;33m**\u001b[0m\u001b[0mkwargs\u001b[0m\u001b[1;33m)\u001b[0m\u001b[1;33m\u001b[0m\u001b[1;33m\u001b[0m\u001b[0m\n\u001b[0;32m    549\u001b[0m         \u001b[1;32melse\u001b[0m\u001b[1;33m:\u001b[0m\u001b[1;33m\u001b[0m\u001b[1;33m\u001b[0m\u001b[0m\n\u001b[1;32m--> 550\u001b[1;33m             \u001b[0mresult\u001b[0m \u001b[1;33m=\u001b[0m \u001b[0mself\u001b[0m\u001b[1;33m.\u001b[0m\u001b[0mforward\u001b[0m\u001b[1;33m(\u001b[0m\u001b[1;33m*\u001b[0m\u001b[0minput\u001b[0m\u001b[1;33m,\u001b[0m \u001b[1;33m**\u001b[0m\u001b[0mkwargs\u001b[0m\u001b[1;33m)\u001b[0m\u001b[1;33m\u001b[0m\u001b[1;33m\u001b[0m\u001b[0m\n\u001b[0m\u001b[0;32m    551\u001b[0m         \u001b[1;32mfor\u001b[0m \u001b[0mhook\u001b[0m \u001b[1;32min\u001b[0m \u001b[0mself\u001b[0m\u001b[1;33m.\u001b[0m\u001b[0m_forward_hooks\u001b[0m\u001b[1;33m.\u001b[0m\u001b[0mvalues\u001b[0m\u001b[1;33m(\u001b[0m\u001b[1;33m)\u001b[0m\u001b[1;33m:\u001b[0m\u001b[1;33m\u001b[0m\u001b[1;33m\u001b[0m\u001b[0m\n\u001b[0;32m    552\u001b[0m             \u001b[0mhook_result\u001b[0m \u001b[1;33m=\u001b[0m \u001b[0mhook\u001b[0m\u001b[1;33m(\u001b[0m\u001b[0mself\u001b[0m\u001b[1;33m,\u001b[0m \u001b[0minput\u001b[0m\u001b[1;33m,\u001b[0m \u001b[0mresult\u001b[0m\u001b[1;33m)\u001b[0m\u001b[1;33m\u001b[0m\u001b[1;33m\u001b[0m\u001b[0m\n",
      "\u001b[1;32m~\\anaconda3\\envs\\pytorch\\lib\\site-packages\\torch\\nn\\modules\\loss.py\u001b[0m in \u001b[0;36mforward\u001b[1;34m(self, input, target)\u001b[0m\n\u001b[0;32m    514\u001b[0m \u001b[1;33m\u001b[0m\u001b[0m\n\u001b[0;32m    515\u001b[0m     \u001b[1;32mdef\u001b[0m \u001b[0mforward\u001b[0m\u001b[1;33m(\u001b[0m\u001b[0mself\u001b[0m\u001b[1;33m,\u001b[0m \u001b[0minput\u001b[0m\u001b[1;33m,\u001b[0m \u001b[0mtarget\u001b[0m\u001b[1;33m)\u001b[0m\u001b[1;33m:\u001b[0m\u001b[1;33m\u001b[0m\u001b[1;33m\u001b[0m\u001b[0m\n\u001b[1;32m--> 516\u001b[1;33m         \u001b[1;32mreturn\u001b[0m \u001b[0mF\u001b[0m\u001b[1;33m.\u001b[0m\u001b[0mbinary_cross_entropy\u001b[0m\u001b[1;33m(\u001b[0m\u001b[0minput\u001b[0m\u001b[1;33m,\u001b[0m \u001b[0mtarget\u001b[0m\u001b[1;33m,\u001b[0m \u001b[0mweight\u001b[0m\u001b[1;33m=\u001b[0m\u001b[0mself\u001b[0m\u001b[1;33m.\u001b[0m\u001b[0mweight\u001b[0m\u001b[1;33m,\u001b[0m \u001b[0mreduction\u001b[0m\u001b[1;33m=\u001b[0m\u001b[0mself\u001b[0m\u001b[1;33m.\u001b[0m\u001b[0mreduction\u001b[0m\u001b[1;33m)\u001b[0m\u001b[1;33m\u001b[0m\u001b[1;33m\u001b[0m\u001b[0m\n\u001b[0m\u001b[0;32m    517\u001b[0m \u001b[1;33m\u001b[0m\u001b[0m\n\u001b[0;32m    518\u001b[0m \u001b[1;33m\u001b[0m\u001b[0m\n",
      "\u001b[1;32m~\\anaconda3\\envs\\pytorch\\lib\\site-packages\\torch\\nn\\functional.py\u001b[0m in \u001b[0;36mbinary_cross_entropy\u001b[1;34m(input, target, weight, size_average, reduce, reduction)\u001b[0m\n\u001b[0;32m   2376\u001b[0m         \u001b[0mweight\u001b[0m \u001b[1;33m=\u001b[0m \u001b[0mweight\u001b[0m\u001b[1;33m.\u001b[0m\u001b[0mexpand\u001b[0m\u001b[1;33m(\u001b[0m\u001b[0mnew_size\u001b[0m\u001b[1;33m)\u001b[0m\u001b[1;33m\u001b[0m\u001b[1;33m\u001b[0m\u001b[0m\n\u001b[0;32m   2377\u001b[0m \u001b[1;33m\u001b[0m\u001b[0m\n\u001b[1;32m-> 2378\u001b[1;33m     return torch._C._nn.binary_cross_entropy(\n\u001b[0m\u001b[0;32m   2379\u001b[0m         input, target, weight, reduction_enum)\n\u001b[0;32m   2380\u001b[0m \u001b[1;33m\u001b[0m\u001b[0m\n",
      "\u001b[1;31mRuntimeError\u001b[0m: all elements of input should be between 0 and 1"
     ]
    }
   ],
   "source": [
    "lr_D, lr_G, latent_dim, num_epochs = 0.05, 0.005, 2, 20\n",
    "train(net_D, net_G, data_iter, num_epochs, lr_D, lr_G,\n",
    "      latent_dim, data[:100].numpy())"
   ]
  },
  {
   "cell_type": "code",
   "execution_count": null,
   "metadata": {},
   "outputs": [],
   "source": []
  }
 ]
}