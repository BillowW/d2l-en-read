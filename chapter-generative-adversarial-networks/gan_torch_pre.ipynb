{
 "metadata": {
  "language_info": {
   "codemirror_mode": {
    "name": "ipython",
    "version": 3
   },
   "file_extension": ".py",
   "mimetype": "text/x-python",
   "name": "python",
   "nbconvert_exporter": "python",
   "pygments_lexer": "ipython3",
   "version": "3.8.3-final"
  },
  "orig_nbformat": 2,
  "kernelspec": {
   "name": "python38364bitpytorchconda70fdc7f787194f4c972bb3207dd25917",
   "display_name": "Python 3.8.3 64-bit ('pytorch': conda)"
  }
 },
 "nbformat": 4,
 "nbformat_minor": 2,
 "cells": [
  {
   "cell_type": "code",
   "execution_count": 1,
   "metadata": {},
   "outputs": [],
   "source": [
    "%matplotlib inline\n",
    "from d2l import torch as d2l\n",
    "import torch"
   ]
  },
  {
   "cell_type": "markdown",
   "metadata": {},
   "source": [
    "https://pytorch.org/docs/stable/random.html\n",
    "https://blog.csdn.net/sinat_37145472/article/details/94755405\n",
    "https://numpy.org/doc/stable/reference/random/generated/numpy.random.normal.html\n",
    "https://pytorch.org/docs/master/generated/torch.normal.html\n",
    "http://preview.d2l.ai/d2l-en/master/chapter_optimization/sgd.html?highlight=random%20normal"
   ]
  },
  {
   "cell_type": "code",
   "execution_count": 2,
   "metadata": {},
   "outputs": [
    {
     "output_type": "error",
     "ename": "TypeError",
     "evalue": "normal() missing 1 required positional arguments: \"mean\"",
     "traceback": [
      "\u001b[1;31m---------------------------------------------------------------------------\u001b[0m",
      "\u001b[1;31mTypeError\u001b[0m                                 Traceback (most recent call last)",
      "\u001b[1;32m<ipython-input-2-aa3594271218>\u001b[0m in \u001b[0;36m<module>\u001b[1;34m\u001b[0m\n\u001b[1;32m----> 1\u001b[1;33m \u001b[0mX\u001b[0m \u001b[1;33m=\u001b[0m \u001b[0mtorch\u001b[0m\u001b[1;33m.\u001b[0m\u001b[0mnormal\u001b[0m\u001b[1;33m(\u001b[0m\u001b[0msize\u001b[0m\u001b[1;33m=\u001b[0m\u001b[1;33m(\u001b[0m\u001b[1;36m1000\u001b[0m\u001b[1;33m,\u001b[0m \u001b[1;36m2\u001b[0m\u001b[1;33m)\u001b[0m\u001b[1;33m)\u001b[0m\u001b[1;33m\u001b[0m\u001b[1;33m\u001b[0m\u001b[0m\n\u001b[0m",
      "\u001b[1;31mTypeError\u001b[0m: normal() missing 1 required positional arguments: \"mean\""
     ]
    }
   ],
   "source": [
    "X = torch.normal(size=(1000, 2))"
   ]
  },
  {
   "cell_type": "code",
   "execution_count": 3,
   "metadata": {},
   "outputs": [
    {
     "output_type": "error",
     "ename": "TypeError",
     "evalue": "normal() received an invalid combination of arguments - got (size=tuple, mean=float, ), but expected one of:\n * (Tensor mean, Tensor std, *, torch.Generator generator, Tensor out)\n * (Tensor mean, float std, *, torch.Generator generator, Tensor out)\n * (float mean, Tensor std, *, torch.Generator generator, Tensor out)\n * (float mean, float std, tuple of ints size, *, torch.Generator generator, Tensor out, torch.dtype dtype, torch.layout layout, torch.device device, bool pin_memory, bool requires_grad)\n",
     "traceback": [
      "\u001b[1;31m---------------------------------------------------------------------------\u001b[0m",
      "\u001b[1;31mTypeError\u001b[0m                                 Traceback (most recent call last)",
      "\u001b[1;32m<ipython-input-3-118e44b8b4d6>\u001b[0m in \u001b[0;36m<module>\u001b[1;34m\u001b[0m\n\u001b[1;32m----> 1\u001b[1;33m \u001b[0mX\u001b[0m \u001b[1;33m=\u001b[0m \u001b[0mtorch\u001b[0m\u001b[1;33m.\u001b[0m\u001b[0mnormal\u001b[0m\u001b[1;33m(\u001b[0m\u001b[0mmean\u001b[0m\u001b[1;33m=\u001b[0m\u001b[1;36m0.0\u001b[0m\u001b[1;33m,\u001b[0m\u001b[0msize\u001b[0m\u001b[1;33m=\u001b[0m\u001b[1;33m(\u001b[0m\u001b[1;36m1000\u001b[0m\u001b[1;33m,\u001b[0m \u001b[1;36m2\u001b[0m\u001b[1;33m)\u001b[0m\u001b[1;33m)\u001b[0m\u001b[1;33m\u001b[0m\u001b[1;33m\u001b[0m\u001b[0m\n\u001b[0m",
      "\u001b[1;31mTypeError\u001b[0m: normal() received an invalid combination of arguments - got (size=tuple, mean=float, ), but expected one of:\n * (Tensor mean, Tensor std, *, torch.Generator generator, Tensor out)\n * (Tensor mean, float std, *, torch.Generator generator, Tensor out)\n * (float mean, Tensor std, *, torch.Generator generator, Tensor out)\n * (float mean, float std, tuple of ints size, *, torch.Generator generator, Tensor out, torch.dtype dtype, torch.layout layout, torch.device device, bool pin_memory, bool requires_grad)\n"
     ]
    }
   ],
   "source": [
    "X = torch.normal(mean=0.0,size=(1000, 2))"
   ]
  },
  {
   "cell_type": "code",
   "execution_count": 4,
   "metadata": {},
   "outputs": [],
   "source": [
    "X = torch.normal(0.0, 1, (1000, 2))"
   ]
  },
  {
   "cell_type": "markdown",
   "metadata": {},
   "source": [
    "http://preview.d2l.ai/d2l-en/master/chapter_preliminaries/linear-algebra.html"
   ]
  },
  {
   "cell_type": "code",
   "execution_count": 5,
   "metadata": {},
   "outputs": [],
   "source": [
    "A = torch.tensor([[1, 2], [-0.1, 0.5]])\n",
    "b = torch.tensor([1, 2])"
   ]
  },
  {
   "cell_type": "code",
   "execution_count": 6,
   "metadata": {},
   "outputs": [
    {
     "output_type": "error",
     "ename": "RuntimeError",
     "evalue": "1D tensors expected, got 2D, 2D tensors at C:\\cb\\pytorch_1000000000000\\work\\aten\\src\\TH/generic/THTensorEvenMoreMath.cpp:431",
     "traceback": [
      "\u001b[1;31m---------------------------------------------------------------------------\u001b[0m",
      "\u001b[1;31mRuntimeError\u001b[0m                              Traceback (most recent call last)",
      "\u001b[1;32m<ipython-input-6-6fa27d70da5c>\u001b[0m in \u001b[0;36m<module>\u001b[1;34m\u001b[0m\n\u001b[1;32m----> 1\u001b[1;33m \u001b[0mdata\u001b[0m \u001b[1;33m=\u001b[0m \u001b[0mX\u001b[0m\u001b[1;33m.\u001b[0m\u001b[0mdot\u001b[0m\u001b[1;33m(\u001b[0m\u001b[0mA\u001b[0m\u001b[1;33m)\u001b[0m \u001b[1;33m+\u001b[0m \u001b[0mb\u001b[0m\u001b[1;33m\u001b[0m\u001b[1;33m\u001b[0m\u001b[0m\n\u001b[0m",
      "\u001b[1;31mRuntimeError\u001b[0m: 1D tensors expected, got 2D, 2D tensors at C:\\cb\\pytorch_1000000000000\\work\\aten\\src\\TH/generic/THTensorEvenMoreMath.cpp:431"
     ]
    }
   ],
   "source": [
    "data = X.dot(A) + b"
   ]
  },
  {
   "cell_type": "markdown",
   "metadata": {},
   "source": [
    "tensor.dot()方法进行了更新，只能对1维的tensor进行点乘运算\n",
    "https://blog.csdn.net/qq_36852840/article/details/105224662\n",
    "\n",
    "This function does not broadcast.\n",
    "https://pytorch.org/docs/stable/generated/torch.dot.html\n",
    "\n",
    "https://stackoom.com/question/3ErAp/%E5%A6%82%E4%BD%95%E5%9C%A8PyTorch%E4%B8%AD%E5%B0%86%E7%9F%A9%E9%98%B5%E4%B9%98%E4%BB%A5%E5%90%91%E9%87%8F"
   ]
  },
  {
   "cell_type": "code",
   "execution_count": 7,
   "metadata": {},
   "outputs": [
    {
     "output_type": "error",
     "ename": "NameError",
     "evalue": "name 'dot' is not defined",
     "traceback": [
      "\u001b[1;31m---------------------------------------------------------------------------\u001b[0m",
      "\u001b[1;31mNameError\u001b[0m                                 Traceback (most recent call last)",
      "\u001b[1;32m<ipython-input-7-b96a83e928ff>\u001b[0m in \u001b[0;36m<module>\u001b[1;34m\u001b[0m\n\u001b[1;32m----> 1\u001b[1;33m \u001b[0mdata\u001b[0m \u001b[1;33m=\u001b[0m \u001b[0mdot\u001b[0m\u001b[1;33m(\u001b[0m\u001b[0mX\u001b[0m\u001b[1;33m,\u001b[0m \u001b[0mA\u001b[0m\u001b[1;33m)\u001b[0m \u001b[1;33m+\u001b[0m \u001b[0mb\u001b[0m\u001b[1;33m\u001b[0m\u001b[1;33m\u001b[0m\u001b[0m\n\u001b[0m",
      "\u001b[1;31mNameError\u001b[0m: name 'dot' is not defined"
     ]
    }
   ],
   "source": [
    "data = dot(X, A) + b"
   ]
  },
  {
   "cell_type": "code",
   "execution_count": 8,
   "metadata": {},
   "outputs": [
    {
     "output_type": "error",
     "ename": "RuntimeError",
     "evalue": "1D tensors expected, got 2D, 2D tensors at C:\\cb\\pytorch_1000000000000\\work\\aten\\src\\TH/generic/THTensorEvenMoreMath.cpp:431",
     "traceback": [
      "\u001b[1;31m---------------------------------------------------------------------------\u001b[0m",
      "\u001b[1;31mRuntimeError\u001b[0m                              Traceback (most recent call last)",
      "\u001b[1;32m<ipython-input-8-adb408de6058>\u001b[0m in \u001b[0;36m<module>\u001b[1;34m\u001b[0m\n\u001b[1;32m----> 1\u001b[1;33m \u001b[0mdata\u001b[0m \u001b[1;33m=\u001b[0m \u001b[0mtorch\u001b[0m\u001b[1;33m.\u001b[0m\u001b[0mdot\u001b[0m\u001b[1;33m(\u001b[0m\u001b[0mX\u001b[0m\u001b[1;33m,\u001b[0m \u001b[0mA\u001b[0m\u001b[1;33m)\u001b[0m \u001b[1;33m+\u001b[0m \u001b[0mb\u001b[0m\u001b[1;33m\u001b[0m\u001b[1;33m\u001b[0m\u001b[0m\n\u001b[0m",
      "\u001b[1;31mRuntimeError\u001b[0m: 1D tensors expected, got 2D, 2D tensors at C:\\cb\\pytorch_1000000000000\\work\\aten\\src\\TH/generic/THTensorEvenMoreMath.cpp:431"
     ]
    }
   ],
   "source": [
    "data = torch.dot(X, A) + b"
   ]
  },
  {
   "cell_type": "code",
   "execution_count": 9,
   "metadata": {},
   "outputs": [],
   "source": [
    "data = torch.mm(X, A) + b"
   ]
  },
  {
   "cell_type": "markdown",
   "metadata": {},
   "source": [
    "X = np.random.normal(size=(1000, 2))\n",
    "A = np.array([[1, 2], [-0.1, 0.5]])\n",
    "b = np.array([1, 2])\n",
    "data = X.dot(A) + b"
   ]
  },
  {
   "cell_type": "code",
   "execution_count": 10,
   "metadata": {},
   "outputs": [
    {
     "output_type": "execute_result",
     "data": {
      "text/plain": "tensor([[-0.1602,  0.6406],\n        [ 0.4636,  2.7085],\n        [ 0.6748,  1.5830],\n        ...,\n        [-0.1584,  0.3040],\n        [-0.7507, -0.2883],\n        [ 1.1551,  3.2193]])"
     },
     "metadata": {},
     "execution_count": 10
    }
   ],
   "source": [
    "data"
   ]
  },
  {
   "cell_type": "code",
   "execution_count": 11,
   "metadata": {},
   "outputs": [
    {
     "output_type": "execute_result",
     "data": {
      "text/plain": "1000"
     },
     "metadata": {},
     "execution_count": 11
    }
   ],
   "source": [
    "len(data)"
   ]
  },
  {
   "cell_type": "code",
   "execution_count": 12,
   "metadata": {},
   "outputs": [
    {
     "output_type": "error",
     "ename": "AttributeError",
     "evalue": "'Tensor' object has no attribute 'asnumpy'",
     "traceback": [
      "\u001b[1;31m---------------------------------------------------------------------------\u001b[0m",
      "\u001b[1;31mAttributeError\u001b[0m                            Traceback (most recent call last)",
      "\u001b[1;32m<ipython-input-12-58754157be3b>\u001b[0m in \u001b[0;36m<module>\u001b[1;34m\u001b[0m\n\u001b[0;32m      1\u001b[0m \u001b[0md2l\u001b[0m\u001b[1;33m.\u001b[0m\u001b[0mset_figsize\u001b[0m\u001b[1;33m(\u001b[0m\u001b[1;33m)\u001b[0m\u001b[1;33m\u001b[0m\u001b[1;33m\u001b[0m\u001b[0m\n\u001b[1;32m----> 2\u001b[1;33m \u001b[0md2l\u001b[0m\u001b[1;33m.\u001b[0m\u001b[0mplt\u001b[0m\u001b[1;33m.\u001b[0m\u001b[0mscatter\u001b[0m\u001b[1;33m(\u001b[0m\u001b[0mdata\u001b[0m\u001b[1;33m[\u001b[0m\u001b[1;33m:\u001b[0m\u001b[1;36m100\u001b[0m\u001b[1;33m,\u001b[0m \u001b[1;36m0\u001b[0m\u001b[1;33m]\u001b[0m\u001b[1;33m.\u001b[0m\u001b[0masnumpy\u001b[0m\u001b[1;33m(\u001b[0m\u001b[1;33m)\u001b[0m\u001b[1;33m,\u001b[0m \u001b[0mdata\u001b[0m\u001b[1;33m[\u001b[0m\u001b[1;33m:\u001b[0m\u001b[1;36m100\u001b[0m\u001b[1;33m,\u001b[0m \u001b[1;36m1\u001b[0m\u001b[1;33m]\u001b[0m\u001b[1;33m.\u001b[0m\u001b[0masnumpy\u001b[0m\u001b[1;33m(\u001b[0m\u001b[1;33m)\u001b[0m\u001b[1;33m)\u001b[0m\u001b[1;33m;\u001b[0m\u001b[1;33m\u001b[0m\u001b[1;33m\u001b[0m\u001b[0m\n\u001b[0m\u001b[0;32m      3\u001b[0m \u001b[0mprint\u001b[0m\u001b[1;33m(\u001b[0m\u001b[1;34mf'The covariance matrix is\\n{np.dot(A.T, A)}'\u001b[0m\u001b[1;33m)\u001b[0m\u001b[1;33m\u001b[0m\u001b[1;33m\u001b[0m\u001b[0m\n",
      "\u001b[1;31mAttributeError\u001b[0m: 'Tensor' object has no attribute 'asnumpy'"
     ]
    }
   ],
   "source": [
    "d2l.set_figsize()\n",
    "d2l.plt.scatter(data[:100, 0].asnumpy(), data[:100, 1].asnumpy());\n",
    "print(f'The covariance matrix is\\n{np.dot(A.T, A)}')"
   ]
  },
  {
   "cell_type": "code",
   "execution_count": 13,
   "metadata": {},
   "outputs": [],
   "source": [
    "d2l.set_figsize()"
   ]
  },
  {
   "cell_type": "code",
   "execution_count": 14,
   "metadata": {},
   "outputs": [
    {
     "output_type": "display_data",
     "data": {
      "text/plain": "<Figure size 252x180 with 1 Axes>",
      "image/svg+xml": "<?xml version=\"1.0\" encoding=\"utf-8\" standalone=\"no\"?>\r\n<!DOCTYPE svg PUBLIC \"-//W3C//DTD SVG 1.1//EN\"\r\n  \"http://www.w3.org/Graphics/SVG/1.1/DTD/svg11.dtd\">\r\n<!-- Created with matplotlib (https://matplotlib.org/) -->\r\n<svg height=\"166.978125pt\" version=\"1.1\" viewBox=\"0 0 231.442187 166.978125\" width=\"231.442187pt\" xmlns=\"http://www.w3.org/2000/svg\" xmlns:xlink=\"http://www.w3.org/1999/xlink\">\r\n <metadata>\r\n  <rdf:RDF xmlns:cc=\"http://creativecommons.org/ns#\" xmlns:dc=\"http://purl.org/dc/elements/1.1/\" xmlns:rdf=\"http://www.w3.org/1999/02/22-rdf-syntax-ns#\">\r\n   <cc:Work>\r\n    <dc:type rdf:resource=\"http://purl.org/dc/dcmitype/StillImage\"/>\r\n    <dc:date>2020-08-06T18:57:29.962485</dc:date>\r\n    <dc:format>image/svg+xml</dc:format>\r\n    <dc:creator>\r\n     <cc:Agent>\r\n      <dc:title>Matplotlib v3.3.0, https://matplotlib.org/</dc:title>\r\n     </cc:Agent>\r\n    </dc:creator>\r\n   </cc:Work>\r\n  </rdf:RDF>\r\n </metadata>\r\n <defs>\r\n  <style type=\"text/css\">*{stroke-linecap:butt;stroke-linejoin:round;}</style>\r\n </defs>\r\n <g id=\"figure_1\">\r\n  <g id=\"patch_1\">\r\n   <path d=\"M 0 166.978125 \r\nL 231.442187 166.978125 \r\nL 231.442187 0 \r\nL 0 0 \r\nz\r\n\" style=\"fill:none;\"/>\r\n  </g>\r\n  <g id=\"axes_1\">\r\n   <g id=\"patch_2\">\r\n    <path d=\"M 28.942188 143.1 \r\nL 224.242188 143.1 \r\nL 224.242188 7.2 \r\nL 28.942188 7.2 \r\nz\r\n\" style=\"fill:#ffffff;\"/>\r\n   </g>\r\n   <g id=\"PathCollection_1\">\r\n    <defs>\r\n     <path d=\"M 0 3 \r\nC 0.795609 3 1.55874 2.683901 2.12132 2.12132 \r\nC 2.683901 1.55874 3 0.795609 3 0 \r\nC 3 -0.795609 2.683901 -1.55874 2.12132 -2.12132 \r\nC 1.55874 -2.683901 0.795609 -3 0 -3 \r\nC -0.795609 -3 -1.55874 -2.683901 -2.12132 -2.12132 \r\nC -2.683901 -1.55874 -3 -0.795609 -3 0 \r\nC -3 0.795609 -2.683901 1.55874 -2.12132 2.12132 \r\nC -1.55874 2.683901 -0.795609 3 0 3 \r\nz\r\n\" id=\"m5227715fa6\" style=\"stroke:#1f77b4;\"/>\r\n    </defs>\r\n    <g clip-path=\"url(#p8d59378144)\">\r\n     <use style=\"fill:#1f77b4;stroke:#1f77b4;\" x=\"78.087095\" xlink:href=\"#m5227715fa6\" y=\"94.607061\"/>\r\n     <use style=\"fill:#1f77b4;stroke:#1f77b4;\" x=\"103.97979\" xlink:href=\"#m5227715fa6\" y=\"68.685032\"/>\r\n     <use style=\"fill:#1f77b4;stroke:#1f77b4;\" x=\"112.748547\" xlink:href=\"#m5227715fa6\" y=\"82.793763\"/>\r\n     <use style=\"fill:#1f77b4;stroke:#1f77b4;\" x=\"158.026822\" xlink:href=\"#m5227715fa6\" y=\"63.101305\"/>\r\n     <use style=\"fill:#1f77b4;stroke:#1f77b4;\" x=\"152.95663\" xlink:href=\"#m5227715fa6\" y=\"72.86084\"/>\r\n     <use style=\"fill:#1f77b4;stroke:#1f77b4;\" x=\"215.364915\" xlink:href=\"#m5227715fa6\" y=\"13.377273\"/>\r\n     <use style=\"fill:#1f77b4;stroke:#1f77b4;\" x=\"151.390013\" xlink:href=\"#m5227715fa6\" y=\"68.541762\"/>\r\n     <use style=\"fill:#1f77b4;stroke:#1f77b4;\" x=\"126.485441\" xlink:href=\"#m5227715fa6\" y=\"75.989936\"/>\r\n     <use style=\"fill:#1f77b4;stroke:#1f77b4;\" x=\"172.175174\" xlink:href=\"#m5227715fa6\" y=\"56.399946\"/>\r\n     <use style=\"fill:#1f77b4;stroke:#1f77b4;\" x=\"144.962784\" xlink:href=\"#m5227715fa6\" y=\"76.332546\"/>\r\n     <use style=\"fill:#1f77b4;stroke:#1f77b4;\" x=\"66.548798\" xlink:href=\"#m5227715fa6\" y=\"115.605887\"/>\r\n     <use style=\"fill:#1f77b4;stroke:#1f77b4;\" x=\"100.746552\" xlink:href=\"#m5227715fa6\" y=\"95.054039\"/>\r\n     <use style=\"fill:#1f77b4;stroke:#1f77b4;\" x=\"126.964844\" xlink:href=\"#m5227715fa6\" y=\"89.930796\"/>\r\n     <use style=\"fill:#1f77b4;stroke:#1f77b4;\" x=\"126.006498\" xlink:href=\"#m5227715fa6\" y=\"85.776414\"/>\r\n     <use style=\"fill:#1f77b4;stroke:#1f77b4;\" x=\"205.126786\" xlink:href=\"#m5227715fa6\" y=\"24.434175\"/>\r\n     <use style=\"fill:#1f77b4;stroke:#1f77b4;\" x=\"110.369106\" xlink:href=\"#m5227715fa6\" y=\"73.904407\"/>\r\n     <use style=\"fill:#1f77b4;stroke:#1f77b4;\" x=\"166.201645\" xlink:href=\"#m5227715fa6\" y=\"51.265623\"/>\r\n     <use style=\"fill:#1f77b4;stroke:#1f77b4;\" x=\"110.290113\" xlink:href=\"#m5227715fa6\" y=\"90.184837\"/>\r\n     <use style=\"fill:#1f77b4;stroke:#1f77b4;\" x=\"71.531825\" xlink:href=\"#m5227715fa6\" y=\"107.3545\"/>\r\n     <use style=\"fill:#1f77b4;stroke:#1f77b4;\" x=\"152.105565\" xlink:href=\"#m5227715fa6\" y=\"57.668478\"/>\r\n     <use style=\"fill:#1f77b4;stroke:#1f77b4;\" x=\"117.958379\" xlink:href=\"#m5227715fa6\" y=\"78.630371\"/>\r\n     <use style=\"fill:#1f77b4;stroke:#1f77b4;\" x=\"125.739994\" xlink:href=\"#m5227715fa6\" y=\"73.968004\"/>\r\n     <use style=\"fill:#1f77b4;stroke:#1f77b4;\" x=\"104.938122\" xlink:href=\"#m5227715fa6\" y=\"96.111609\"/>\r\n     <use style=\"fill:#1f77b4;stroke:#1f77b4;\" x=\"184.84112\" xlink:href=\"#m5227715fa6\" y=\"43.158146\"/>\r\n     <use style=\"fill:#1f77b4;stroke:#1f77b4;\" x=\"205.319327\" xlink:href=\"#m5227715fa6\" y=\"24.427295\"/>\r\n     <use style=\"fill:#1f77b4;stroke:#1f77b4;\" x=\"43.803975\" xlink:href=\"#m5227715fa6\" y=\"136.922727\"/>\r\n     <use style=\"fill:#1f77b4;stroke:#1f77b4;\" x=\"189.213837\" xlink:href=\"#m5227715fa6\" y=\"37.614978\"/>\r\n     <use style=\"fill:#1f77b4;stroke:#1f77b4;\" x=\"200.045732\" xlink:href=\"#m5227715fa6\" y=\"42.517702\"/>\r\n     <use style=\"fill:#1f77b4;stroke:#1f77b4;\" x=\"157.33727\" xlink:href=\"#m5227715fa6\" y=\"62.082792\"/>\r\n     <use style=\"fill:#1f77b4;stroke:#1f77b4;\" x=\"93.173997\" xlink:href=\"#m5227715fa6\" y=\"107.983505\"/>\r\n     <use style=\"fill:#1f77b4;stroke:#1f77b4;\" x=\"125.428456\" xlink:href=\"#m5227715fa6\" y=\"60.936129\"/>\r\n     <use style=\"fill:#1f77b4;stroke:#1f77b4;\" x=\"138.612189\" xlink:href=\"#m5227715fa6\" y=\"67.374479\"/>\r\n     <use style=\"fill:#1f77b4;stroke:#1f77b4;\" x=\"125.842547\" xlink:href=\"#m5227715fa6\" y=\"74.387795\"/>\r\n     <use style=\"fill:#1f77b4;stroke:#1f77b4;\" x=\"108.903408\" xlink:href=\"#m5227715fa6\" y=\"91.492389\"/>\r\n     <use style=\"fill:#1f77b4;stroke:#1f77b4;\" x=\"167.981775\" xlink:href=\"#m5227715fa6\" y=\"49.320549\"/>\r\n     <use style=\"fill:#1f77b4;stroke:#1f77b4;\" x=\"122.8656\" xlink:href=\"#m5227715fa6\" y=\"88.646435\"/>\r\n     <use style=\"fill:#1f77b4;stroke:#1f77b4;\" x=\"145.285405\" xlink:href=\"#m5227715fa6\" y=\"53.404623\"/>\r\n     <use style=\"fill:#1f77b4;stroke:#1f77b4;\" x=\"163.952216\" xlink:href=\"#m5227715fa6\" y=\"49.466836\"/>\r\n     <use style=\"fill:#1f77b4;stroke:#1f77b4;\" x=\"142.672479\" xlink:href=\"#m5227715fa6\" y=\"76.132426\"/>\r\n     <use style=\"fill:#1f77b4;stroke:#1f77b4;\" x=\"81.519459\" xlink:href=\"#m5227715fa6\" y=\"113.167759\"/>\r\n     <use style=\"fill:#1f77b4;stroke:#1f77b4;\" x=\"185.323958\" xlink:href=\"#m5227715fa6\" y=\"47.715025\"/>\r\n     <use style=\"fill:#1f77b4;stroke:#1f77b4;\" x=\"73.14006\" xlink:href=\"#m5227715fa6\" y=\"122.134281\"/>\r\n     <use style=\"fill:#1f77b4;stroke:#1f77b4;\" x=\"113.510037\" xlink:href=\"#m5227715fa6\" y=\"78.918739\"/>\r\n     <use style=\"fill:#1f77b4;stroke:#1f77b4;\" x=\"194.02432\" xlink:href=\"#m5227715fa6\" y=\"32.115082\"/>\r\n     <use style=\"fill:#1f77b4;stroke:#1f77b4;\" x=\"153.324823\" xlink:href=\"#m5227715fa6\" y=\"53.522726\"/>\r\n     <use style=\"fill:#1f77b4;stroke:#1f77b4;\" x=\"180.674068\" xlink:href=\"#m5227715fa6\" y=\"45.740507\"/>\r\n     <use style=\"fill:#1f77b4;stroke:#1f77b4;\" x=\"134.385199\" xlink:href=\"#m5227715fa6\" y=\"50.740873\"/>\r\n     <use style=\"fill:#1f77b4;stroke:#1f77b4;\" x=\"105.865836\" xlink:href=\"#m5227715fa6\" y=\"72.433002\"/>\r\n     <use style=\"fill:#1f77b4;stroke:#1f77b4;\" x=\"126.998826\" xlink:href=\"#m5227715fa6\" y=\"63.128368\"/>\r\n     <use style=\"fill:#1f77b4;stroke:#1f77b4;\" x=\"162.334687\" xlink:href=\"#m5227715fa6\" y=\"42.386598\"/>\r\n     <use style=\"fill:#1f77b4;stroke:#1f77b4;\" x=\"134.403014\" xlink:href=\"#m5227715fa6\" y=\"90.294081\"/>\r\n     <use style=\"fill:#1f77b4;stroke:#1f77b4;\" x=\"152.12387\" xlink:href=\"#m5227715fa6\" y=\"77.517119\"/>\r\n     <use style=\"fill:#1f77b4;stroke:#1f77b4;\" x=\"105.770605\" xlink:href=\"#m5227715fa6\" y=\"86.154619\"/>\r\n     <use style=\"fill:#1f77b4;stroke:#1f77b4;\" x=\"127.555552\" xlink:href=\"#m5227715fa6\" y=\"72.845836\"/>\r\n     <use style=\"fill:#1f77b4;stroke:#1f77b4;\" x=\"139.721236\" xlink:href=\"#m5227715fa6\" y=\"71.032512\"/>\r\n     <use style=\"fill:#1f77b4;stroke:#1f77b4;\" x=\"59.771206\" xlink:href=\"#m5227715fa6\" y=\"112.736509\"/>\r\n     <use style=\"fill:#1f77b4;stroke:#1f77b4;\" x=\"155.828285\" xlink:href=\"#m5227715fa6\" y=\"55.781078\"/>\r\n     <use style=\"fill:#1f77b4;stroke:#1f77b4;\" x=\"152.878214\" xlink:href=\"#m5227715fa6\" y=\"56.691506\"/>\r\n     <use style=\"fill:#1f77b4;stroke:#1f77b4;\" x=\"92.405774\" xlink:href=\"#m5227715fa6\" y=\"114.44549\"/>\r\n     <use style=\"fill:#1f77b4;stroke:#1f77b4;\" x=\"195.744899\" xlink:href=\"#m5227715fa6\" y=\"41.989216\"/>\r\n     <use style=\"fill:#1f77b4;stroke:#1f77b4;\" x=\"37.81946\" xlink:href=\"#m5227715fa6\" y=\"136.544162\"/>\r\n     <use style=\"fill:#1f77b4;stroke:#1f77b4;\" x=\"121.162795\" xlink:href=\"#m5227715fa6\" y=\"76.609255\"/>\r\n     <use style=\"fill:#1f77b4;stroke:#1f77b4;\" x=\"149.964115\" xlink:href=\"#m5227715fa6\" y=\"44.50726\"/>\r\n     <use style=\"fill:#1f77b4;stroke:#1f77b4;\" x=\"65.911806\" xlink:href=\"#m5227715fa6\" y=\"110.69995\"/>\r\n     <use style=\"fill:#1f77b4;stroke:#1f77b4;\" x=\"87.384096\" xlink:href=\"#m5227715fa6\" y=\"111.05326\"/>\r\n     <use style=\"fill:#1f77b4;stroke:#1f77b4;\" x=\"76.453993\" xlink:href=\"#m5227715fa6\" y=\"123.572678\"/>\r\n     <use style=\"fill:#1f77b4;stroke:#1f77b4;\" x=\"182.683528\" xlink:href=\"#m5227715fa6\" y=\"50.458593\"/>\r\n     <use style=\"fill:#1f77b4;stroke:#1f77b4;\" x=\"155.734513\" xlink:href=\"#m5227715fa6\" y=\"53.008389\"/>\r\n     <use style=\"fill:#1f77b4;stroke:#1f77b4;\" x=\"173.011581\" xlink:href=\"#m5227715fa6\" y=\"46.145946\"/>\r\n     <use style=\"fill:#1f77b4;stroke:#1f77b4;\" x=\"93.165074\" xlink:href=\"#m5227715fa6\" y=\"102.609449\"/>\r\n     <use style=\"fill:#1f77b4;stroke:#1f77b4;\" x=\"114.672683\" xlink:href=\"#m5227715fa6\" y=\"90.935323\"/>\r\n     <use style=\"fill:#1f77b4;stroke:#1f77b4;\" x=\"177.002086\" xlink:href=\"#m5227715fa6\" y=\"30.261702\"/>\r\n     <use style=\"fill:#1f77b4;stroke:#1f77b4;\" x=\"82.380931\" xlink:href=\"#m5227715fa6\" y=\"90.544742\"/>\r\n     <use style=\"fill:#1f77b4;stroke:#1f77b4;\" x=\"166.733538\" xlink:href=\"#m5227715fa6\" y=\"36.48596\"/>\r\n     <use style=\"fill:#1f77b4;stroke:#1f77b4;\" x=\"112.213398\" xlink:href=\"#m5227715fa6\" y=\"89.441578\"/>\r\n     <use style=\"fill:#1f77b4;stroke:#1f77b4;\" x=\"155.485093\" xlink:href=\"#m5227715fa6\" y=\"53.782737\"/>\r\n     <use style=\"fill:#1f77b4;stroke:#1f77b4;\" x=\"100.07669\" xlink:href=\"#m5227715fa6\" y=\"92.606986\"/>\r\n     <use style=\"fill:#1f77b4;stroke:#1f77b4;\" x=\"133.861159\" xlink:href=\"#m5227715fa6\" y=\"74.700127\"/>\r\n     <use style=\"fill:#1f77b4;stroke:#1f77b4;\" x=\"155.372259\" xlink:href=\"#m5227715fa6\" y=\"55.172662\"/>\r\n     <use style=\"fill:#1f77b4;stroke:#1f77b4;\" x=\"71.165973\" xlink:href=\"#m5227715fa6\" y=\"89.8201\"/>\r\n     <use style=\"fill:#1f77b4;stroke:#1f77b4;\" x=\"130.326685\" xlink:href=\"#m5227715fa6\" y=\"83.157533\"/>\r\n     <use style=\"fill:#1f77b4;stroke:#1f77b4;\" x=\"201.02368\" xlink:href=\"#m5227715fa6\" y=\"29.06291\"/>\r\n     <use style=\"fill:#1f77b4;stroke:#1f77b4;\" x=\"57.721979\" xlink:href=\"#m5227715fa6\" y=\"112.897195\"/>\r\n     <use style=\"fill:#1f77b4;stroke:#1f77b4;\" x=\"143.964329\" xlink:href=\"#m5227715fa6\" y=\"75.845311\"/>\r\n     <use style=\"fill:#1f77b4;stroke:#1f77b4;\" x=\"150.033114\" xlink:href=\"#m5227715fa6\" y=\"73.766731\"/>\r\n     <use style=\"fill:#1f77b4;stroke:#1f77b4;\" x=\"62.979936\" xlink:href=\"#m5227715fa6\" y=\"114.725839\"/>\r\n     <use style=\"fill:#1f77b4;stroke:#1f77b4;\" x=\"153.124844\" xlink:href=\"#m5227715fa6\" y=\"65.560321\"/>\r\n     <use style=\"fill:#1f77b4;stroke:#1f77b4;\" x=\"164.507556\" xlink:href=\"#m5227715fa6\" y=\"63.84226\"/>\r\n     <use style=\"fill:#1f77b4;stroke:#1f77b4;\" x=\"136.137998\" xlink:href=\"#m5227715fa6\" y=\"64.079161\"/>\r\n     <use style=\"fill:#1f77b4;stroke:#1f77b4;\" x=\"150.71603\" xlink:href=\"#m5227715fa6\" y=\"57.824622\"/>\r\n     <use style=\"fill:#1f77b4;stroke:#1f77b4;\" x=\"195.638483\" xlink:href=\"#m5227715fa6\" y=\"46.049183\"/>\r\n     <use style=\"fill:#1f77b4;stroke:#1f77b4;\" x=\"95.101794\" xlink:href=\"#m5227715fa6\" y=\"102.603895\"/>\r\n     <use style=\"fill:#1f77b4;stroke:#1f77b4;\" x=\"125.317104\" xlink:href=\"#m5227715fa6\" y=\"81.230082\"/>\r\n     <use style=\"fill:#1f77b4;stroke:#1f77b4;\" x=\"168.656125\" xlink:href=\"#m5227715fa6\" y=\"37.703373\"/>\r\n     <use style=\"fill:#1f77b4;stroke:#1f77b4;\" x=\"88.422685\" xlink:href=\"#m5227715fa6\" y=\"85.649315\"/>\r\n     <use style=\"fill:#1f77b4;stroke:#1f77b4;\" x=\"137.705946\" xlink:href=\"#m5227715fa6\" y=\"61.909494\"/>\r\n     <use style=\"fill:#1f77b4;stroke:#1f77b4;\" x=\"121.229458\" xlink:href=\"#m5227715fa6\" y=\"91.750941\"/>\r\n     <use style=\"fill:#1f77b4;stroke:#1f77b4;\" x=\"114.105795\" xlink:href=\"#m5227715fa6\" y=\"85.499582\"/>\r\n     <use style=\"fill:#1f77b4;stroke:#1f77b4;\" x=\"103.14916\" xlink:href=\"#m5227715fa6\" y=\"81.879388\"/>\r\n     <use style=\"fill:#1f77b4;stroke:#1f77b4;\" x=\"188.568229\" xlink:href=\"#m5227715fa6\" y=\"43.405661\"/>\r\n    </g>\r\n   </g>\r\n   <g id=\"matplotlib.axis_1\">\r\n    <g id=\"xtick_1\">\r\n     <g id=\"line2d_1\">\r\n      <defs>\r\n       <path d=\"M 0 0 \r\nL 0 3.5 \r\n\" id=\"me9a54bcf4c\" style=\"stroke:#000000;stroke-width:0.8;\"/>\r\n      </defs>\r\n      <g>\r\n       <use style=\"stroke:#000000;stroke-width:0.8;\" x=\"43.224442\" xlink:href=\"#me9a54bcf4c\" y=\"143.1\"/>\r\n      </g>\r\n     </g>\r\n     <g id=\"text_1\">\r\n      <!-- −1 -->\r\n      <g transform=\"translate(35.853348 157.698438)scale(0.1 -0.1)\">\r\n       <defs>\r\n        <path d=\"M 10.59375 35.5 \r\nL 73.1875 35.5 \r\nL 73.1875 27.203125 \r\nL 10.59375 27.203125 \r\nz\r\n\" id=\"DejaVuSans-8722\"/>\r\n        <path d=\"M 12.40625 8.296875 \r\nL 28.515625 8.296875 \r\nL 28.515625 63.921875 \r\nL 10.984375 60.40625 \r\nL 10.984375 69.390625 \r\nL 28.421875 72.90625 \r\nL 38.28125 72.90625 \r\nL 38.28125 8.296875 \r\nL 54.390625 8.296875 \r\nL 54.390625 0 \r\nL 12.40625 0 \r\nz\r\n\" id=\"DejaVuSans-49\"/>\r\n       </defs>\r\n       <use xlink:href=\"#DejaVuSans-8722\"/>\r\n       <use x=\"83.789062\" xlink:href=\"#DejaVuSans-49\"/>\r\n      </g>\r\n     </g>\r\n    </g>\r\n    <g id=\"xtick_2\">\r\n     <g id=\"line2d_2\">\r\n      <g>\r\n       <use style=\"stroke:#000000;stroke-width:0.8;\" x=\"84.736548\" xlink:href=\"#me9a54bcf4c\" y=\"143.1\"/>\r\n      </g>\r\n     </g>\r\n     <g id=\"text_2\">\r\n      <!-- 0 -->\r\n      <g transform=\"translate(81.555298 157.698438)scale(0.1 -0.1)\">\r\n       <defs>\r\n        <path d=\"M 31.78125 66.40625 \r\nQ 24.171875 66.40625 20.328125 58.90625 \r\nQ 16.5 51.421875 16.5 36.375 \r\nQ 16.5 21.390625 20.328125 13.890625 \r\nQ 24.171875 6.390625 31.78125 6.390625 \r\nQ 39.453125 6.390625 43.28125 13.890625 \r\nQ 47.125 21.390625 47.125 36.375 \r\nQ 47.125 51.421875 43.28125 58.90625 \r\nQ 39.453125 66.40625 31.78125 66.40625 \r\nz\r\nM 31.78125 74.21875 \r\nQ 44.046875 74.21875 50.515625 64.515625 \r\nQ 56.984375 54.828125 56.984375 36.375 \r\nQ 56.984375 17.96875 50.515625 8.265625 \r\nQ 44.046875 -1.421875 31.78125 -1.421875 \r\nQ 19.53125 -1.421875 13.0625 8.265625 \r\nQ 6.59375 17.96875 6.59375 36.375 \r\nQ 6.59375 54.828125 13.0625 64.515625 \r\nQ 19.53125 74.21875 31.78125 74.21875 \r\nz\r\n\" id=\"DejaVuSans-48\"/>\r\n       </defs>\r\n       <use xlink:href=\"#DejaVuSans-48\"/>\r\n      </g>\r\n     </g>\r\n    </g>\r\n    <g id=\"xtick_3\">\r\n     <g id=\"line2d_3\">\r\n      <g>\r\n       <use style=\"stroke:#000000;stroke-width:0.8;\" x=\"126.248654\" xlink:href=\"#me9a54bcf4c\" y=\"143.1\"/>\r\n      </g>\r\n     </g>\r\n     <g id=\"text_3\">\r\n      <!-- 1 -->\r\n      <g transform=\"translate(123.067404 157.698438)scale(0.1 -0.1)\">\r\n       <use xlink:href=\"#DejaVuSans-49\"/>\r\n      </g>\r\n     </g>\r\n    </g>\r\n    <g id=\"xtick_4\">\r\n     <g id=\"line2d_4\">\r\n      <g>\r\n       <use style=\"stroke:#000000;stroke-width:0.8;\" x=\"167.76076\" xlink:href=\"#me9a54bcf4c\" y=\"143.1\"/>\r\n      </g>\r\n     </g>\r\n     <g id=\"text_4\">\r\n      <!-- 2 -->\r\n      <g transform=\"translate(164.57951 157.698438)scale(0.1 -0.1)\">\r\n       <defs>\r\n        <path d=\"M 19.1875 8.296875 \r\nL 53.609375 8.296875 \r\nL 53.609375 0 \r\nL 7.328125 0 \r\nL 7.328125 8.296875 \r\nQ 12.9375 14.109375 22.625 23.890625 \r\nQ 32.328125 33.6875 34.8125 36.53125 \r\nQ 39.546875 41.84375 41.421875 45.53125 \r\nQ 43.3125 49.21875 43.3125 52.78125 \r\nQ 43.3125 58.59375 39.234375 62.25 \r\nQ 35.15625 65.921875 28.609375 65.921875 \r\nQ 23.96875 65.921875 18.8125 64.3125 \r\nQ 13.671875 62.703125 7.8125 59.421875 \r\nL 7.8125 69.390625 \r\nQ 13.765625 71.78125 18.9375 73 \r\nQ 24.125 74.21875 28.421875 74.21875 \r\nQ 39.75 74.21875 46.484375 68.546875 \r\nQ 53.21875 62.890625 53.21875 53.421875 \r\nQ 53.21875 48.921875 51.53125 44.890625 \r\nQ 49.859375 40.875 45.40625 35.40625 \r\nQ 44.1875 33.984375 37.640625 27.21875 \r\nQ 31.109375 20.453125 19.1875 8.296875 \r\nz\r\n\" id=\"DejaVuSans-50\"/>\r\n       </defs>\r\n       <use xlink:href=\"#DejaVuSans-50\"/>\r\n      </g>\r\n     </g>\r\n    </g>\r\n    <g id=\"xtick_5\">\r\n     <g id=\"line2d_5\">\r\n      <g>\r\n       <use style=\"stroke:#000000;stroke-width:0.8;\" x=\"209.272866\" xlink:href=\"#me9a54bcf4c\" y=\"143.1\"/>\r\n      </g>\r\n     </g>\r\n     <g id=\"text_5\">\r\n      <!-- 3 -->\r\n      <g transform=\"translate(206.091616 157.698438)scale(0.1 -0.1)\">\r\n       <defs>\r\n        <path d=\"M 40.578125 39.3125 \r\nQ 47.65625 37.796875 51.625 33 \r\nQ 55.609375 28.21875 55.609375 21.1875 \r\nQ 55.609375 10.40625 48.1875 4.484375 \r\nQ 40.765625 -1.421875 27.09375 -1.421875 \r\nQ 22.515625 -1.421875 17.65625 -0.515625 \r\nQ 12.796875 0.390625 7.625 2.203125 \r\nL 7.625 11.71875 \r\nQ 11.71875 9.328125 16.59375 8.109375 \r\nQ 21.484375 6.890625 26.8125 6.890625 \r\nQ 36.078125 6.890625 40.9375 10.546875 \r\nQ 45.796875 14.203125 45.796875 21.1875 \r\nQ 45.796875 27.640625 41.28125 31.265625 \r\nQ 36.765625 34.90625 28.71875 34.90625 \r\nL 20.21875 34.90625 \r\nL 20.21875 43.015625 \r\nL 29.109375 43.015625 \r\nQ 36.375 43.015625 40.234375 45.921875 \r\nQ 44.09375 48.828125 44.09375 54.296875 \r\nQ 44.09375 59.90625 40.109375 62.90625 \r\nQ 36.140625 65.921875 28.71875 65.921875 \r\nQ 24.65625 65.921875 20.015625 65.03125 \r\nQ 15.375 64.15625 9.8125 62.3125 \r\nL 9.8125 71.09375 \r\nQ 15.4375 72.65625 20.34375 73.4375 \r\nQ 25.25 74.21875 29.59375 74.21875 \r\nQ 40.828125 74.21875 47.359375 69.109375 \r\nQ 53.90625 64.015625 53.90625 55.328125 \r\nQ 53.90625 49.265625 50.4375 45.09375 \r\nQ 46.96875 40.921875 40.578125 39.3125 \r\nz\r\n\" id=\"DejaVuSans-51\"/>\r\n       </defs>\r\n       <use xlink:href=\"#DejaVuSans-51\"/>\r\n      </g>\r\n     </g>\r\n    </g>\r\n   </g>\r\n   <g id=\"matplotlib.axis_2\">\r\n    <g id=\"ytick_1\">\r\n     <g id=\"line2d_6\">\r\n      <defs>\r\n       <path d=\"M 0 0 \r\nL -3.5 0 \r\n\" id=\"mdda90b8b97\" style=\"stroke:#000000;stroke-width:0.8;\"/>\r\n      </defs>\r\n      <g>\r\n       <use style=\"stroke:#000000;stroke-width:0.8;\" x=\"28.942188\" xlink:href=\"#mdda90b8b97\" y=\"127.709144\"/>\r\n      </g>\r\n     </g>\r\n     <g id=\"text_6\">\r\n      <!-- −2 -->\r\n      <g transform=\"translate(7.2 131.508363)scale(0.1 -0.1)\">\r\n       <use xlink:href=\"#DejaVuSans-8722\"/>\r\n       <use x=\"83.789062\" xlink:href=\"#DejaVuSans-50\"/>\r\n      </g>\r\n     </g>\r\n    </g>\r\n    <g id=\"ytick_2\">\r\n     <g id=\"line2d_7\">\r\n      <g>\r\n       <use style=\"stroke:#000000;stroke-width:0.8;\" x=\"28.942188\" xlink:href=\"#mdda90b8b97\" y=\"102.637833\"/>\r\n      </g>\r\n     </g>\r\n     <g id=\"text_7\">\r\n      <!-- 0 -->\r\n      <g transform=\"translate(15.579688 106.437052)scale(0.1 -0.1)\">\r\n       <use xlink:href=\"#DejaVuSans-48\"/>\r\n      </g>\r\n     </g>\r\n    </g>\r\n    <g id=\"ytick_3\">\r\n     <g id=\"line2d_8\">\r\n      <g>\r\n       <use style=\"stroke:#000000;stroke-width:0.8;\" x=\"28.942188\" xlink:href=\"#mdda90b8b97\" y=\"77.566522\"/>\r\n      </g>\r\n     </g>\r\n     <g id=\"text_8\">\r\n      <!-- 2 -->\r\n      <g transform=\"translate(15.579688 81.365741)scale(0.1 -0.1)\">\r\n       <use xlink:href=\"#DejaVuSans-50\"/>\r\n      </g>\r\n     </g>\r\n    </g>\r\n    <g id=\"ytick_4\">\r\n     <g id=\"line2d_9\">\r\n      <g>\r\n       <use style=\"stroke:#000000;stroke-width:0.8;\" x=\"28.942188\" xlink:href=\"#mdda90b8b97\" y=\"52.495211\"/>\r\n      </g>\r\n     </g>\r\n     <g id=\"text_9\">\r\n      <!-- 4 -->\r\n      <g transform=\"translate(15.579688 56.29443)scale(0.1 -0.1)\">\r\n       <defs>\r\n        <path d=\"M 37.796875 64.3125 \r\nL 12.890625 25.390625 \r\nL 37.796875 25.390625 \r\nz\r\nM 35.203125 72.90625 \r\nL 47.609375 72.90625 \r\nL 47.609375 25.390625 \r\nL 58.015625 25.390625 \r\nL 58.015625 17.1875 \r\nL 47.609375 17.1875 \r\nL 47.609375 0 \r\nL 37.796875 0 \r\nL 37.796875 17.1875 \r\nL 4.890625 17.1875 \r\nL 4.890625 26.703125 \r\nz\r\n\" id=\"DejaVuSans-52\"/>\r\n       </defs>\r\n       <use xlink:href=\"#DejaVuSans-52\"/>\r\n      </g>\r\n     </g>\r\n    </g>\r\n    <g id=\"ytick_5\">\r\n     <g id=\"line2d_10\">\r\n      <g>\r\n       <use style=\"stroke:#000000;stroke-width:0.8;\" x=\"28.942188\" xlink:href=\"#mdda90b8b97\" y=\"27.4239\"/>\r\n      </g>\r\n     </g>\r\n     <g id=\"text_10\">\r\n      <!-- 6 -->\r\n      <g transform=\"translate(15.579688 31.223119)scale(0.1 -0.1)\">\r\n       <defs>\r\n        <path d=\"M 33.015625 40.375 \r\nQ 26.375 40.375 22.484375 35.828125 \r\nQ 18.609375 31.296875 18.609375 23.390625 \r\nQ 18.609375 15.53125 22.484375 10.953125 \r\nQ 26.375 6.390625 33.015625 6.390625 \r\nQ 39.65625 6.390625 43.53125 10.953125 \r\nQ 47.40625 15.53125 47.40625 23.390625 \r\nQ 47.40625 31.296875 43.53125 35.828125 \r\nQ 39.65625 40.375 33.015625 40.375 \r\nz\r\nM 52.59375 71.296875 \r\nL 52.59375 62.3125 \r\nQ 48.875 64.0625 45.09375 64.984375 \r\nQ 41.3125 65.921875 37.59375 65.921875 \r\nQ 27.828125 65.921875 22.671875 59.328125 \r\nQ 17.53125 52.734375 16.796875 39.40625 \r\nQ 19.671875 43.65625 24.015625 45.921875 \r\nQ 28.375 48.1875 33.59375 48.1875 \r\nQ 44.578125 48.1875 50.953125 41.515625 \r\nQ 57.328125 34.859375 57.328125 23.390625 \r\nQ 57.328125 12.15625 50.6875 5.359375 \r\nQ 44.046875 -1.421875 33.015625 -1.421875 \r\nQ 20.359375 -1.421875 13.671875 8.265625 \r\nQ 6.984375 17.96875 6.984375 36.375 \r\nQ 6.984375 53.65625 15.1875 63.9375 \r\nQ 23.390625 74.21875 37.203125 74.21875 \r\nQ 40.921875 74.21875 44.703125 73.484375 \r\nQ 48.484375 72.75 52.59375 71.296875 \r\nz\r\n\" id=\"DejaVuSans-54\"/>\r\n       </defs>\r\n       <use xlink:href=\"#DejaVuSans-54\"/>\r\n      </g>\r\n     </g>\r\n    </g>\r\n   </g>\r\n   <g id=\"patch_3\">\r\n    <path d=\"M 28.942188 143.1 \r\nL 28.942188 7.2 \r\n\" style=\"fill:none;stroke:#000000;stroke-linecap:square;stroke-linejoin:miter;stroke-width:0.8;\"/>\r\n   </g>\r\n   <g id=\"patch_4\">\r\n    <path d=\"M 224.242188 143.1 \r\nL 224.242188 7.2 \r\n\" style=\"fill:none;stroke:#000000;stroke-linecap:square;stroke-linejoin:miter;stroke-width:0.8;\"/>\r\n   </g>\r\n   <g id=\"patch_5\">\r\n    <path d=\"M 28.942187 143.1 \r\nL 224.242188 143.1 \r\n\" style=\"fill:none;stroke:#000000;stroke-linecap:square;stroke-linejoin:miter;stroke-width:0.8;\"/>\r\n   </g>\r\n   <g id=\"patch_6\">\r\n    <path d=\"M 28.942187 7.2 \r\nL 224.242188 7.2 \r\n\" style=\"fill:none;stroke:#000000;stroke-linecap:square;stroke-linejoin:miter;stroke-width:0.8;\"/>\r\n   </g>\r\n  </g>\r\n </g>\r\n <defs>\r\n  <clipPath id=\"p8d59378144\">\r\n   <rect height=\"135.9\" width=\"195.3\" x=\"28.942188\" y=\"7.2\"/>\r\n  </clipPath>\r\n </defs>\r\n</svg>\r\n"
     },
     "metadata": {
      "needs_background": "light"
     }
    }
   ],
   "source": [
    "d2l.plt.scatter(data[:100, 0].numpy(), data[:100, 1].numpy());"
   ]
  },
  {
   "cell_type": "code",
   "execution_count": 15,
   "metadata": {},
   "outputs": [
    {
     "output_type": "execute_result",
     "data": {
      "text/plain": "<matplotlib.collections.PathCollection at 0x1ccfc97a0a0>"
     },
     "metadata": {},
     "execution_count": 15
    },
    {
     "output_type": "display_data",
     "data": {
      "text/plain": "<Figure size 252x180 with 1 Axes>",
      "image/svg+xml": "<?xml version=\"1.0\" encoding=\"utf-8\" standalone=\"no\"?>\r\n<!DOCTYPE svg PUBLIC \"-//W3C//DTD SVG 1.1//EN\"\r\n  \"http://www.w3.org/Graphics/SVG/1.1/DTD/svg11.dtd\">\r\n<!-- Created with matplotlib (https://matplotlib.org/) -->\r\n<svg height=\"166.978125pt\" version=\"1.1\" viewBox=\"0 0 231.442187 166.978125\" width=\"231.442187pt\" xmlns=\"http://www.w3.org/2000/svg\" xmlns:xlink=\"http://www.w3.org/1999/xlink\">\r\n <metadata>\r\n  <rdf:RDF xmlns:cc=\"http://creativecommons.org/ns#\" xmlns:dc=\"http://purl.org/dc/elements/1.1/\" xmlns:rdf=\"http://www.w3.org/1999/02/22-rdf-syntax-ns#\">\r\n   <cc:Work>\r\n    <dc:type rdf:resource=\"http://purl.org/dc/dcmitype/StillImage\"/>\r\n    <dc:date>2020-08-06T18:57:45.212942</dc:date>\r\n    <dc:format>image/svg+xml</dc:format>\r\n    <dc:creator>\r\n     <cc:Agent>\r\n      <dc:title>Matplotlib v3.3.0, https://matplotlib.org/</dc:title>\r\n     </cc:Agent>\r\n    </dc:creator>\r\n   </cc:Work>\r\n  </rdf:RDF>\r\n </metadata>\r\n <defs>\r\n  <style type=\"text/css\">*{stroke-linecap:butt;stroke-linejoin:round;}</style>\r\n </defs>\r\n <g id=\"figure_1\">\r\n  <g id=\"patch_1\">\r\n   <path d=\"M 0 166.978125 \r\nL 231.442187 166.978125 \r\nL 231.442187 0 \r\nL 0 0 \r\nz\r\n\" style=\"fill:none;\"/>\r\n  </g>\r\n  <g id=\"axes_1\">\r\n   <g id=\"patch_2\">\r\n    <path d=\"M 28.942188 143.1 \r\nL 224.242188 143.1 \r\nL 224.242188 7.2 \r\nL 28.942188 7.2 \r\nz\r\n\" style=\"fill:#ffffff;\"/>\r\n   </g>\r\n   <g id=\"PathCollection_1\">\r\n    <defs>\r\n     <path d=\"M 0 3 \r\nC 0.795609 3 1.55874 2.683901 2.12132 2.12132 \r\nC 2.683901 1.55874 3 0.795609 3 0 \r\nC 3 -0.795609 2.683901 -1.55874 2.12132 -2.12132 \r\nC 1.55874 -2.683901 0.795609 -3 0 -3 \r\nC -0.795609 -3 -1.55874 -2.683901 -2.12132 -2.12132 \r\nC -2.683901 -1.55874 -3 -0.795609 -3 0 \r\nC -3 0.795609 -2.683901 1.55874 -2.12132 2.12132 \r\nC -1.55874 2.683901 -0.795609 3 0 3 \r\nz\r\n\" id=\"mb3634c6f9e\" style=\"stroke:#1f77b4;\"/>\r\n    </defs>\r\n    <g clip-path=\"url(#pf62bff8879)\">\r\n     <use style=\"fill:#1f77b4;stroke:#1f77b4;\" x=\"78.087095\" xlink:href=\"#mb3634c6f9e\" y=\"94.607061\"/>\r\n     <use style=\"fill:#1f77b4;stroke:#1f77b4;\" x=\"103.97979\" xlink:href=\"#mb3634c6f9e\" y=\"68.685032\"/>\r\n     <use style=\"fill:#1f77b4;stroke:#1f77b4;\" x=\"112.748547\" xlink:href=\"#mb3634c6f9e\" y=\"82.793763\"/>\r\n     <use style=\"fill:#1f77b4;stroke:#1f77b4;\" x=\"158.026822\" xlink:href=\"#mb3634c6f9e\" y=\"63.101305\"/>\r\n     <use style=\"fill:#1f77b4;stroke:#1f77b4;\" x=\"152.95663\" xlink:href=\"#mb3634c6f9e\" y=\"72.86084\"/>\r\n     <use style=\"fill:#1f77b4;stroke:#1f77b4;\" x=\"215.364915\" xlink:href=\"#mb3634c6f9e\" y=\"13.377273\"/>\r\n     <use style=\"fill:#1f77b4;stroke:#1f77b4;\" x=\"151.390013\" xlink:href=\"#mb3634c6f9e\" y=\"68.541762\"/>\r\n     <use style=\"fill:#1f77b4;stroke:#1f77b4;\" x=\"126.485441\" xlink:href=\"#mb3634c6f9e\" y=\"75.989936\"/>\r\n     <use style=\"fill:#1f77b4;stroke:#1f77b4;\" x=\"172.175174\" xlink:href=\"#mb3634c6f9e\" y=\"56.399946\"/>\r\n     <use style=\"fill:#1f77b4;stroke:#1f77b4;\" x=\"144.962784\" xlink:href=\"#mb3634c6f9e\" y=\"76.332546\"/>\r\n     <use style=\"fill:#1f77b4;stroke:#1f77b4;\" x=\"66.548798\" xlink:href=\"#mb3634c6f9e\" y=\"115.605887\"/>\r\n     <use style=\"fill:#1f77b4;stroke:#1f77b4;\" x=\"100.746552\" xlink:href=\"#mb3634c6f9e\" y=\"95.054039\"/>\r\n     <use style=\"fill:#1f77b4;stroke:#1f77b4;\" x=\"126.964844\" xlink:href=\"#mb3634c6f9e\" y=\"89.930796\"/>\r\n     <use style=\"fill:#1f77b4;stroke:#1f77b4;\" x=\"126.006498\" xlink:href=\"#mb3634c6f9e\" y=\"85.776414\"/>\r\n     <use style=\"fill:#1f77b4;stroke:#1f77b4;\" x=\"205.126786\" xlink:href=\"#mb3634c6f9e\" y=\"24.434175\"/>\r\n     <use style=\"fill:#1f77b4;stroke:#1f77b4;\" x=\"110.369106\" xlink:href=\"#mb3634c6f9e\" y=\"73.904407\"/>\r\n     <use style=\"fill:#1f77b4;stroke:#1f77b4;\" x=\"166.201645\" xlink:href=\"#mb3634c6f9e\" y=\"51.265623\"/>\r\n     <use style=\"fill:#1f77b4;stroke:#1f77b4;\" x=\"110.290113\" xlink:href=\"#mb3634c6f9e\" y=\"90.184837\"/>\r\n     <use style=\"fill:#1f77b4;stroke:#1f77b4;\" x=\"71.531825\" xlink:href=\"#mb3634c6f9e\" y=\"107.3545\"/>\r\n     <use style=\"fill:#1f77b4;stroke:#1f77b4;\" x=\"152.105565\" xlink:href=\"#mb3634c6f9e\" y=\"57.668478\"/>\r\n     <use style=\"fill:#1f77b4;stroke:#1f77b4;\" x=\"117.958379\" xlink:href=\"#mb3634c6f9e\" y=\"78.630371\"/>\r\n     <use style=\"fill:#1f77b4;stroke:#1f77b4;\" x=\"125.739994\" xlink:href=\"#mb3634c6f9e\" y=\"73.968004\"/>\r\n     <use style=\"fill:#1f77b4;stroke:#1f77b4;\" x=\"104.938122\" xlink:href=\"#mb3634c6f9e\" y=\"96.111609\"/>\r\n     <use style=\"fill:#1f77b4;stroke:#1f77b4;\" x=\"184.84112\" xlink:href=\"#mb3634c6f9e\" y=\"43.158146\"/>\r\n     <use style=\"fill:#1f77b4;stroke:#1f77b4;\" x=\"205.319327\" xlink:href=\"#mb3634c6f9e\" y=\"24.427295\"/>\r\n     <use style=\"fill:#1f77b4;stroke:#1f77b4;\" x=\"43.803975\" xlink:href=\"#mb3634c6f9e\" y=\"136.922727\"/>\r\n     <use style=\"fill:#1f77b4;stroke:#1f77b4;\" x=\"189.213837\" xlink:href=\"#mb3634c6f9e\" y=\"37.614978\"/>\r\n     <use style=\"fill:#1f77b4;stroke:#1f77b4;\" x=\"200.045732\" xlink:href=\"#mb3634c6f9e\" y=\"42.517702\"/>\r\n     <use style=\"fill:#1f77b4;stroke:#1f77b4;\" x=\"157.33727\" xlink:href=\"#mb3634c6f9e\" y=\"62.082792\"/>\r\n     <use style=\"fill:#1f77b4;stroke:#1f77b4;\" x=\"93.173997\" xlink:href=\"#mb3634c6f9e\" y=\"107.983505\"/>\r\n     <use style=\"fill:#1f77b4;stroke:#1f77b4;\" x=\"125.428456\" xlink:href=\"#mb3634c6f9e\" y=\"60.936129\"/>\r\n     <use style=\"fill:#1f77b4;stroke:#1f77b4;\" x=\"138.612189\" xlink:href=\"#mb3634c6f9e\" y=\"67.374479\"/>\r\n     <use style=\"fill:#1f77b4;stroke:#1f77b4;\" x=\"125.842547\" xlink:href=\"#mb3634c6f9e\" y=\"74.387795\"/>\r\n     <use style=\"fill:#1f77b4;stroke:#1f77b4;\" x=\"108.903408\" xlink:href=\"#mb3634c6f9e\" y=\"91.492389\"/>\r\n     <use style=\"fill:#1f77b4;stroke:#1f77b4;\" x=\"167.981775\" xlink:href=\"#mb3634c6f9e\" y=\"49.320549\"/>\r\n     <use style=\"fill:#1f77b4;stroke:#1f77b4;\" x=\"122.8656\" xlink:href=\"#mb3634c6f9e\" y=\"88.646435\"/>\r\n     <use style=\"fill:#1f77b4;stroke:#1f77b4;\" x=\"145.285405\" xlink:href=\"#mb3634c6f9e\" y=\"53.404623\"/>\r\n     <use style=\"fill:#1f77b4;stroke:#1f77b4;\" x=\"163.952216\" xlink:href=\"#mb3634c6f9e\" y=\"49.466836\"/>\r\n     <use style=\"fill:#1f77b4;stroke:#1f77b4;\" x=\"142.672479\" xlink:href=\"#mb3634c6f9e\" y=\"76.132426\"/>\r\n     <use style=\"fill:#1f77b4;stroke:#1f77b4;\" x=\"81.519459\" xlink:href=\"#mb3634c6f9e\" y=\"113.167759\"/>\r\n     <use style=\"fill:#1f77b4;stroke:#1f77b4;\" x=\"185.323958\" xlink:href=\"#mb3634c6f9e\" y=\"47.715025\"/>\r\n     <use style=\"fill:#1f77b4;stroke:#1f77b4;\" x=\"73.14006\" xlink:href=\"#mb3634c6f9e\" y=\"122.134281\"/>\r\n     <use style=\"fill:#1f77b4;stroke:#1f77b4;\" x=\"113.510037\" xlink:href=\"#mb3634c6f9e\" y=\"78.918739\"/>\r\n     <use style=\"fill:#1f77b4;stroke:#1f77b4;\" x=\"194.02432\" xlink:href=\"#mb3634c6f9e\" y=\"32.115082\"/>\r\n     <use style=\"fill:#1f77b4;stroke:#1f77b4;\" x=\"153.324823\" xlink:href=\"#mb3634c6f9e\" y=\"53.522726\"/>\r\n     <use style=\"fill:#1f77b4;stroke:#1f77b4;\" x=\"180.674068\" xlink:href=\"#mb3634c6f9e\" y=\"45.740507\"/>\r\n     <use style=\"fill:#1f77b4;stroke:#1f77b4;\" x=\"134.385199\" xlink:href=\"#mb3634c6f9e\" y=\"50.740873\"/>\r\n     <use style=\"fill:#1f77b4;stroke:#1f77b4;\" x=\"105.865836\" xlink:href=\"#mb3634c6f9e\" y=\"72.433002\"/>\r\n     <use style=\"fill:#1f77b4;stroke:#1f77b4;\" x=\"126.998826\" xlink:href=\"#mb3634c6f9e\" y=\"63.128368\"/>\r\n     <use style=\"fill:#1f77b4;stroke:#1f77b4;\" x=\"162.334687\" xlink:href=\"#mb3634c6f9e\" y=\"42.386598\"/>\r\n     <use style=\"fill:#1f77b4;stroke:#1f77b4;\" x=\"134.403014\" xlink:href=\"#mb3634c6f9e\" y=\"90.294081\"/>\r\n     <use style=\"fill:#1f77b4;stroke:#1f77b4;\" x=\"152.12387\" xlink:href=\"#mb3634c6f9e\" y=\"77.517119\"/>\r\n     <use style=\"fill:#1f77b4;stroke:#1f77b4;\" x=\"105.770605\" xlink:href=\"#mb3634c6f9e\" y=\"86.154619\"/>\r\n     <use style=\"fill:#1f77b4;stroke:#1f77b4;\" x=\"127.555552\" xlink:href=\"#mb3634c6f9e\" y=\"72.845836\"/>\r\n     <use style=\"fill:#1f77b4;stroke:#1f77b4;\" x=\"139.721236\" xlink:href=\"#mb3634c6f9e\" y=\"71.032512\"/>\r\n     <use style=\"fill:#1f77b4;stroke:#1f77b4;\" x=\"59.771206\" xlink:href=\"#mb3634c6f9e\" y=\"112.736509\"/>\r\n     <use style=\"fill:#1f77b4;stroke:#1f77b4;\" x=\"155.828285\" xlink:href=\"#mb3634c6f9e\" y=\"55.781078\"/>\r\n     <use style=\"fill:#1f77b4;stroke:#1f77b4;\" x=\"152.878214\" xlink:href=\"#mb3634c6f9e\" y=\"56.691506\"/>\r\n     <use style=\"fill:#1f77b4;stroke:#1f77b4;\" x=\"92.405774\" xlink:href=\"#mb3634c6f9e\" y=\"114.44549\"/>\r\n     <use style=\"fill:#1f77b4;stroke:#1f77b4;\" x=\"195.744899\" xlink:href=\"#mb3634c6f9e\" y=\"41.989216\"/>\r\n     <use style=\"fill:#1f77b4;stroke:#1f77b4;\" x=\"37.81946\" xlink:href=\"#mb3634c6f9e\" y=\"136.544162\"/>\r\n     <use style=\"fill:#1f77b4;stroke:#1f77b4;\" x=\"121.162795\" xlink:href=\"#mb3634c6f9e\" y=\"76.609255\"/>\r\n     <use style=\"fill:#1f77b4;stroke:#1f77b4;\" x=\"149.964115\" xlink:href=\"#mb3634c6f9e\" y=\"44.50726\"/>\r\n     <use style=\"fill:#1f77b4;stroke:#1f77b4;\" x=\"65.911806\" xlink:href=\"#mb3634c6f9e\" y=\"110.69995\"/>\r\n     <use style=\"fill:#1f77b4;stroke:#1f77b4;\" x=\"87.384096\" xlink:href=\"#mb3634c6f9e\" y=\"111.05326\"/>\r\n     <use style=\"fill:#1f77b4;stroke:#1f77b4;\" x=\"76.453993\" xlink:href=\"#mb3634c6f9e\" y=\"123.572678\"/>\r\n     <use style=\"fill:#1f77b4;stroke:#1f77b4;\" x=\"182.683528\" xlink:href=\"#mb3634c6f9e\" y=\"50.458593\"/>\r\n     <use style=\"fill:#1f77b4;stroke:#1f77b4;\" x=\"155.734513\" xlink:href=\"#mb3634c6f9e\" y=\"53.008389\"/>\r\n     <use style=\"fill:#1f77b4;stroke:#1f77b4;\" x=\"173.011581\" xlink:href=\"#mb3634c6f9e\" y=\"46.145946\"/>\r\n     <use style=\"fill:#1f77b4;stroke:#1f77b4;\" x=\"93.165074\" xlink:href=\"#mb3634c6f9e\" y=\"102.609449\"/>\r\n     <use style=\"fill:#1f77b4;stroke:#1f77b4;\" x=\"114.672683\" xlink:href=\"#mb3634c6f9e\" y=\"90.935323\"/>\r\n     <use style=\"fill:#1f77b4;stroke:#1f77b4;\" x=\"177.002086\" xlink:href=\"#mb3634c6f9e\" y=\"30.261702\"/>\r\n     <use style=\"fill:#1f77b4;stroke:#1f77b4;\" x=\"82.380931\" xlink:href=\"#mb3634c6f9e\" y=\"90.544742\"/>\r\n     <use style=\"fill:#1f77b4;stroke:#1f77b4;\" x=\"166.733538\" xlink:href=\"#mb3634c6f9e\" y=\"36.48596\"/>\r\n     <use style=\"fill:#1f77b4;stroke:#1f77b4;\" x=\"112.213398\" xlink:href=\"#mb3634c6f9e\" y=\"89.441578\"/>\r\n     <use style=\"fill:#1f77b4;stroke:#1f77b4;\" x=\"155.485093\" xlink:href=\"#mb3634c6f9e\" y=\"53.782737\"/>\r\n     <use style=\"fill:#1f77b4;stroke:#1f77b4;\" x=\"100.07669\" xlink:href=\"#mb3634c6f9e\" y=\"92.606986\"/>\r\n     <use style=\"fill:#1f77b4;stroke:#1f77b4;\" x=\"133.861159\" xlink:href=\"#mb3634c6f9e\" y=\"74.700127\"/>\r\n     <use style=\"fill:#1f77b4;stroke:#1f77b4;\" x=\"155.372259\" xlink:href=\"#mb3634c6f9e\" y=\"55.172662\"/>\r\n     <use style=\"fill:#1f77b4;stroke:#1f77b4;\" x=\"71.165973\" xlink:href=\"#mb3634c6f9e\" y=\"89.8201\"/>\r\n     <use style=\"fill:#1f77b4;stroke:#1f77b4;\" x=\"130.326685\" xlink:href=\"#mb3634c6f9e\" y=\"83.157533\"/>\r\n     <use style=\"fill:#1f77b4;stroke:#1f77b4;\" x=\"201.02368\" xlink:href=\"#mb3634c6f9e\" y=\"29.06291\"/>\r\n     <use style=\"fill:#1f77b4;stroke:#1f77b4;\" x=\"57.721979\" xlink:href=\"#mb3634c6f9e\" y=\"112.897195\"/>\r\n     <use style=\"fill:#1f77b4;stroke:#1f77b4;\" x=\"143.964329\" xlink:href=\"#mb3634c6f9e\" y=\"75.845311\"/>\r\n     <use style=\"fill:#1f77b4;stroke:#1f77b4;\" x=\"150.033114\" xlink:href=\"#mb3634c6f9e\" y=\"73.766731\"/>\r\n     <use style=\"fill:#1f77b4;stroke:#1f77b4;\" x=\"62.979936\" xlink:href=\"#mb3634c6f9e\" y=\"114.725839\"/>\r\n     <use style=\"fill:#1f77b4;stroke:#1f77b4;\" x=\"153.124844\" xlink:href=\"#mb3634c6f9e\" y=\"65.560321\"/>\r\n     <use style=\"fill:#1f77b4;stroke:#1f77b4;\" x=\"164.507556\" xlink:href=\"#mb3634c6f9e\" y=\"63.84226\"/>\r\n     <use style=\"fill:#1f77b4;stroke:#1f77b4;\" x=\"136.137998\" xlink:href=\"#mb3634c6f9e\" y=\"64.079161\"/>\r\n     <use style=\"fill:#1f77b4;stroke:#1f77b4;\" x=\"150.71603\" xlink:href=\"#mb3634c6f9e\" y=\"57.824622\"/>\r\n     <use style=\"fill:#1f77b4;stroke:#1f77b4;\" x=\"195.638483\" xlink:href=\"#mb3634c6f9e\" y=\"46.049183\"/>\r\n     <use style=\"fill:#1f77b4;stroke:#1f77b4;\" x=\"95.101794\" xlink:href=\"#mb3634c6f9e\" y=\"102.603895\"/>\r\n     <use style=\"fill:#1f77b4;stroke:#1f77b4;\" x=\"125.317104\" xlink:href=\"#mb3634c6f9e\" y=\"81.230082\"/>\r\n     <use style=\"fill:#1f77b4;stroke:#1f77b4;\" x=\"168.656125\" xlink:href=\"#mb3634c6f9e\" y=\"37.703373\"/>\r\n     <use style=\"fill:#1f77b4;stroke:#1f77b4;\" x=\"88.422685\" xlink:href=\"#mb3634c6f9e\" y=\"85.649315\"/>\r\n     <use style=\"fill:#1f77b4;stroke:#1f77b4;\" x=\"137.705946\" xlink:href=\"#mb3634c6f9e\" y=\"61.909494\"/>\r\n     <use style=\"fill:#1f77b4;stroke:#1f77b4;\" x=\"121.229458\" xlink:href=\"#mb3634c6f9e\" y=\"91.750941\"/>\r\n     <use style=\"fill:#1f77b4;stroke:#1f77b4;\" x=\"114.105795\" xlink:href=\"#mb3634c6f9e\" y=\"85.499582\"/>\r\n     <use style=\"fill:#1f77b4;stroke:#1f77b4;\" x=\"103.14916\" xlink:href=\"#mb3634c6f9e\" y=\"81.879388\"/>\r\n     <use style=\"fill:#1f77b4;stroke:#1f77b4;\" x=\"188.568229\" xlink:href=\"#mb3634c6f9e\" y=\"43.405661\"/>\r\n    </g>\r\n   </g>\r\n   <g id=\"matplotlib.axis_1\">\r\n    <g id=\"xtick_1\">\r\n     <g id=\"line2d_1\">\r\n      <defs>\r\n       <path d=\"M 0 0 \r\nL 0 3.5 \r\n\" id=\"md55c673308\" style=\"stroke:#000000;stroke-width:0.8;\"/>\r\n      </defs>\r\n      <g>\r\n       <use style=\"stroke:#000000;stroke-width:0.8;\" x=\"43.224442\" xlink:href=\"#md55c673308\" y=\"143.1\"/>\r\n      </g>\r\n     </g>\r\n     <g id=\"text_1\">\r\n      <!-- −1 -->\r\n      <g transform=\"translate(35.853348 157.698438)scale(0.1 -0.1)\">\r\n       <defs>\r\n        <path d=\"M 10.59375 35.5 \r\nL 73.1875 35.5 \r\nL 73.1875 27.203125 \r\nL 10.59375 27.203125 \r\nz\r\n\" id=\"DejaVuSans-8722\"/>\r\n        <path d=\"M 12.40625 8.296875 \r\nL 28.515625 8.296875 \r\nL 28.515625 63.921875 \r\nL 10.984375 60.40625 \r\nL 10.984375 69.390625 \r\nL 28.421875 72.90625 \r\nL 38.28125 72.90625 \r\nL 38.28125 8.296875 \r\nL 54.390625 8.296875 \r\nL 54.390625 0 \r\nL 12.40625 0 \r\nz\r\n\" id=\"DejaVuSans-49\"/>\r\n       </defs>\r\n       <use xlink:href=\"#DejaVuSans-8722\"/>\r\n       <use x=\"83.789062\" xlink:href=\"#DejaVuSans-49\"/>\r\n      </g>\r\n     </g>\r\n    </g>\r\n    <g id=\"xtick_2\">\r\n     <g id=\"line2d_2\">\r\n      <g>\r\n       <use style=\"stroke:#000000;stroke-width:0.8;\" x=\"84.736548\" xlink:href=\"#md55c673308\" y=\"143.1\"/>\r\n      </g>\r\n     </g>\r\n     <g id=\"text_2\">\r\n      <!-- 0 -->\r\n      <g transform=\"translate(81.555298 157.698438)scale(0.1 -0.1)\">\r\n       <defs>\r\n        <path d=\"M 31.78125 66.40625 \r\nQ 24.171875 66.40625 20.328125 58.90625 \r\nQ 16.5 51.421875 16.5 36.375 \r\nQ 16.5 21.390625 20.328125 13.890625 \r\nQ 24.171875 6.390625 31.78125 6.390625 \r\nQ 39.453125 6.390625 43.28125 13.890625 \r\nQ 47.125 21.390625 47.125 36.375 \r\nQ 47.125 51.421875 43.28125 58.90625 \r\nQ 39.453125 66.40625 31.78125 66.40625 \r\nz\r\nM 31.78125 74.21875 \r\nQ 44.046875 74.21875 50.515625 64.515625 \r\nQ 56.984375 54.828125 56.984375 36.375 \r\nQ 56.984375 17.96875 50.515625 8.265625 \r\nQ 44.046875 -1.421875 31.78125 -1.421875 \r\nQ 19.53125 -1.421875 13.0625 8.265625 \r\nQ 6.59375 17.96875 6.59375 36.375 \r\nQ 6.59375 54.828125 13.0625 64.515625 \r\nQ 19.53125 74.21875 31.78125 74.21875 \r\nz\r\n\" id=\"DejaVuSans-48\"/>\r\n       </defs>\r\n       <use xlink:href=\"#DejaVuSans-48\"/>\r\n      </g>\r\n     </g>\r\n    </g>\r\n    <g id=\"xtick_3\">\r\n     <g id=\"line2d_3\">\r\n      <g>\r\n       <use style=\"stroke:#000000;stroke-width:0.8;\" x=\"126.248654\" xlink:href=\"#md55c673308\" y=\"143.1\"/>\r\n      </g>\r\n     </g>\r\n     <g id=\"text_3\">\r\n      <!-- 1 -->\r\n      <g transform=\"translate(123.067404 157.698438)scale(0.1 -0.1)\">\r\n       <use xlink:href=\"#DejaVuSans-49\"/>\r\n      </g>\r\n     </g>\r\n    </g>\r\n    <g id=\"xtick_4\">\r\n     <g id=\"line2d_4\">\r\n      <g>\r\n       <use style=\"stroke:#000000;stroke-width:0.8;\" x=\"167.76076\" xlink:href=\"#md55c673308\" y=\"143.1\"/>\r\n      </g>\r\n     </g>\r\n     <g id=\"text_4\">\r\n      <!-- 2 -->\r\n      <g transform=\"translate(164.57951 157.698438)scale(0.1 -0.1)\">\r\n       <defs>\r\n        <path d=\"M 19.1875 8.296875 \r\nL 53.609375 8.296875 \r\nL 53.609375 0 \r\nL 7.328125 0 \r\nL 7.328125 8.296875 \r\nQ 12.9375 14.109375 22.625 23.890625 \r\nQ 32.328125 33.6875 34.8125 36.53125 \r\nQ 39.546875 41.84375 41.421875 45.53125 \r\nQ 43.3125 49.21875 43.3125 52.78125 \r\nQ 43.3125 58.59375 39.234375 62.25 \r\nQ 35.15625 65.921875 28.609375 65.921875 \r\nQ 23.96875 65.921875 18.8125 64.3125 \r\nQ 13.671875 62.703125 7.8125 59.421875 \r\nL 7.8125 69.390625 \r\nQ 13.765625 71.78125 18.9375 73 \r\nQ 24.125 74.21875 28.421875 74.21875 \r\nQ 39.75 74.21875 46.484375 68.546875 \r\nQ 53.21875 62.890625 53.21875 53.421875 \r\nQ 53.21875 48.921875 51.53125 44.890625 \r\nQ 49.859375 40.875 45.40625 35.40625 \r\nQ 44.1875 33.984375 37.640625 27.21875 \r\nQ 31.109375 20.453125 19.1875 8.296875 \r\nz\r\n\" id=\"DejaVuSans-50\"/>\r\n       </defs>\r\n       <use xlink:href=\"#DejaVuSans-50\"/>\r\n      </g>\r\n     </g>\r\n    </g>\r\n    <g id=\"xtick_5\">\r\n     <g id=\"line2d_5\">\r\n      <g>\r\n       <use style=\"stroke:#000000;stroke-width:0.8;\" x=\"209.272866\" xlink:href=\"#md55c673308\" y=\"143.1\"/>\r\n      </g>\r\n     </g>\r\n     <g id=\"text_5\">\r\n      <!-- 3 -->\r\n      <g transform=\"translate(206.091616 157.698438)scale(0.1 -0.1)\">\r\n       <defs>\r\n        <path d=\"M 40.578125 39.3125 \r\nQ 47.65625 37.796875 51.625 33 \r\nQ 55.609375 28.21875 55.609375 21.1875 \r\nQ 55.609375 10.40625 48.1875 4.484375 \r\nQ 40.765625 -1.421875 27.09375 -1.421875 \r\nQ 22.515625 -1.421875 17.65625 -0.515625 \r\nQ 12.796875 0.390625 7.625 2.203125 \r\nL 7.625 11.71875 \r\nQ 11.71875 9.328125 16.59375 8.109375 \r\nQ 21.484375 6.890625 26.8125 6.890625 \r\nQ 36.078125 6.890625 40.9375 10.546875 \r\nQ 45.796875 14.203125 45.796875 21.1875 \r\nQ 45.796875 27.640625 41.28125 31.265625 \r\nQ 36.765625 34.90625 28.71875 34.90625 \r\nL 20.21875 34.90625 \r\nL 20.21875 43.015625 \r\nL 29.109375 43.015625 \r\nQ 36.375 43.015625 40.234375 45.921875 \r\nQ 44.09375 48.828125 44.09375 54.296875 \r\nQ 44.09375 59.90625 40.109375 62.90625 \r\nQ 36.140625 65.921875 28.71875 65.921875 \r\nQ 24.65625 65.921875 20.015625 65.03125 \r\nQ 15.375 64.15625 9.8125 62.3125 \r\nL 9.8125 71.09375 \r\nQ 15.4375 72.65625 20.34375 73.4375 \r\nQ 25.25 74.21875 29.59375 74.21875 \r\nQ 40.828125 74.21875 47.359375 69.109375 \r\nQ 53.90625 64.015625 53.90625 55.328125 \r\nQ 53.90625 49.265625 50.4375 45.09375 \r\nQ 46.96875 40.921875 40.578125 39.3125 \r\nz\r\n\" id=\"DejaVuSans-51\"/>\r\n       </defs>\r\n       <use xlink:href=\"#DejaVuSans-51\"/>\r\n      </g>\r\n     </g>\r\n    </g>\r\n   </g>\r\n   <g id=\"matplotlib.axis_2\">\r\n    <g id=\"ytick_1\">\r\n     <g id=\"line2d_6\">\r\n      <defs>\r\n       <path d=\"M 0 0 \r\nL -3.5 0 \r\n\" id=\"m79399801e5\" style=\"stroke:#000000;stroke-width:0.8;\"/>\r\n      </defs>\r\n      <g>\r\n       <use style=\"stroke:#000000;stroke-width:0.8;\" x=\"28.942188\" xlink:href=\"#m79399801e5\" y=\"127.709144\"/>\r\n      </g>\r\n     </g>\r\n     <g id=\"text_6\">\r\n      <!-- −2 -->\r\n      <g transform=\"translate(7.2 131.508363)scale(0.1 -0.1)\">\r\n       <use xlink:href=\"#DejaVuSans-8722\"/>\r\n       <use x=\"83.789062\" xlink:href=\"#DejaVuSans-50\"/>\r\n      </g>\r\n     </g>\r\n    </g>\r\n    <g id=\"ytick_2\">\r\n     <g id=\"line2d_7\">\r\n      <g>\r\n       <use style=\"stroke:#000000;stroke-width:0.8;\" x=\"28.942188\" xlink:href=\"#m79399801e5\" y=\"102.637833\"/>\r\n      </g>\r\n     </g>\r\n     <g id=\"text_7\">\r\n      <!-- 0 -->\r\n      <g transform=\"translate(15.579688 106.437052)scale(0.1 -0.1)\">\r\n       <use xlink:href=\"#DejaVuSans-48\"/>\r\n      </g>\r\n     </g>\r\n    </g>\r\n    <g id=\"ytick_3\">\r\n     <g id=\"line2d_8\">\r\n      <g>\r\n       <use style=\"stroke:#000000;stroke-width:0.8;\" x=\"28.942188\" xlink:href=\"#m79399801e5\" y=\"77.566522\"/>\r\n      </g>\r\n     </g>\r\n     <g id=\"text_8\">\r\n      <!-- 2 -->\r\n      <g transform=\"translate(15.579688 81.365741)scale(0.1 -0.1)\">\r\n       <use xlink:href=\"#DejaVuSans-50\"/>\r\n      </g>\r\n     </g>\r\n    </g>\r\n    <g id=\"ytick_4\">\r\n     <g id=\"line2d_9\">\r\n      <g>\r\n       <use style=\"stroke:#000000;stroke-width:0.8;\" x=\"28.942188\" xlink:href=\"#m79399801e5\" y=\"52.495211\"/>\r\n      </g>\r\n     </g>\r\n     <g id=\"text_9\">\r\n      <!-- 4 -->\r\n      <g transform=\"translate(15.579688 56.29443)scale(0.1 -0.1)\">\r\n       <defs>\r\n        <path d=\"M 37.796875 64.3125 \r\nL 12.890625 25.390625 \r\nL 37.796875 25.390625 \r\nz\r\nM 35.203125 72.90625 \r\nL 47.609375 72.90625 \r\nL 47.609375 25.390625 \r\nL 58.015625 25.390625 \r\nL 58.015625 17.1875 \r\nL 47.609375 17.1875 \r\nL 47.609375 0 \r\nL 37.796875 0 \r\nL 37.796875 17.1875 \r\nL 4.890625 17.1875 \r\nL 4.890625 26.703125 \r\nz\r\n\" id=\"DejaVuSans-52\"/>\r\n       </defs>\r\n       <use xlink:href=\"#DejaVuSans-52\"/>\r\n      </g>\r\n     </g>\r\n    </g>\r\n    <g id=\"ytick_5\">\r\n     <g id=\"line2d_10\">\r\n      <g>\r\n       <use style=\"stroke:#000000;stroke-width:0.8;\" x=\"28.942188\" xlink:href=\"#m79399801e5\" y=\"27.4239\"/>\r\n      </g>\r\n     </g>\r\n     <g id=\"text_10\">\r\n      <!-- 6 -->\r\n      <g transform=\"translate(15.579688 31.223119)scale(0.1 -0.1)\">\r\n       <defs>\r\n        <path d=\"M 33.015625 40.375 \r\nQ 26.375 40.375 22.484375 35.828125 \r\nQ 18.609375 31.296875 18.609375 23.390625 \r\nQ 18.609375 15.53125 22.484375 10.953125 \r\nQ 26.375 6.390625 33.015625 6.390625 \r\nQ 39.65625 6.390625 43.53125 10.953125 \r\nQ 47.40625 15.53125 47.40625 23.390625 \r\nQ 47.40625 31.296875 43.53125 35.828125 \r\nQ 39.65625 40.375 33.015625 40.375 \r\nz\r\nM 52.59375 71.296875 \r\nL 52.59375 62.3125 \r\nQ 48.875 64.0625 45.09375 64.984375 \r\nQ 41.3125 65.921875 37.59375 65.921875 \r\nQ 27.828125 65.921875 22.671875 59.328125 \r\nQ 17.53125 52.734375 16.796875 39.40625 \r\nQ 19.671875 43.65625 24.015625 45.921875 \r\nQ 28.375 48.1875 33.59375 48.1875 \r\nQ 44.578125 48.1875 50.953125 41.515625 \r\nQ 57.328125 34.859375 57.328125 23.390625 \r\nQ 57.328125 12.15625 50.6875 5.359375 \r\nQ 44.046875 -1.421875 33.015625 -1.421875 \r\nQ 20.359375 -1.421875 13.671875 8.265625 \r\nQ 6.984375 17.96875 6.984375 36.375 \r\nQ 6.984375 53.65625 15.1875 63.9375 \r\nQ 23.390625 74.21875 37.203125 74.21875 \r\nQ 40.921875 74.21875 44.703125 73.484375 \r\nQ 48.484375 72.75 52.59375 71.296875 \r\nz\r\n\" id=\"DejaVuSans-54\"/>\r\n       </defs>\r\n       <use xlink:href=\"#DejaVuSans-54\"/>\r\n      </g>\r\n     </g>\r\n    </g>\r\n   </g>\r\n   <g id=\"patch_3\">\r\n    <path d=\"M 28.942188 143.1 \r\nL 28.942188 7.2 \r\n\" style=\"fill:none;stroke:#000000;stroke-linecap:square;stroke-linejoin:miter;stroke-width:0.8;\"/>\r\n   </g>\r\n   <g id=\"patch_4\">\r\n    <path d=\"M 224.242188 143.1 \r\nL 224.242188 7.2 \r\n\" style=\"fill:none;stroke:#000000;stroke-linecap:square;stroke-linejoin:miter;stroke-width:0.8;\"/>\r\n   </g>\r\n   <g id=\"patch_5\">\r\n    <path d=\"M 28.942187 143.1 \r\nL 224.242188 143.1 \r\n\" style=\"fill:none;stroke:#000000;stroke-linecap:square;stroke-linejoin:miter;stroke-width:0.8;\"/>\r\n   </g>\r\n   <g id=\"patch_6\">\r\n    <path d=\"M 28.942187 7.2 \r\nL 224.242188 7.2 \r\n\" style=\"fill:none;stroke:#000000;stroke-linecap:square;stroke-linejoin:miter;stroke-width:0.8;\"/>\r\n   </g>\r\n  </g>\r\n </g>\r\n <defs>\r\n  <clipPath id=\"pf62bff8879\">\r\n   <rect height=\"135.9\" width=\"195.3\" x=\"28.942188\" y=\"7.2\"/>\r\n  </clipPath>\r\n </defs>\r\n</svg>\r\n"
     },
     "metadata": {
      "needs_background": "light"
     }
    }
   ],
   "source": [
    "d2l.plt.scatter(data[:100, 0].numpy(), data[:100, 1].numpy())"
   ]
  },
  {
   "cell_type": "code",
   "execution_count": 16,
   "metadata": {},
   "outputs": [
    {
     "output_type": "display_data",
     "data": {
      "text/plain": "<Figure size 252x180 with 1 Axes>",
      "image/svg+xml": "<?xml version=\"1.0\" encoding=\"utf-8\" standalone=\"no\"?>\r\n<!DOCTYPE svg PUBLIC \"-//W3C//DTD SVG 1.1//EN\"\r\n  \"http://www.w3.org/Graphics/SVG/1.1/DTD/svg11.dtd\">\r\n<!-- Created with matplotlib (https://matplotlib.org/) -->\r\n<svg height=\"166.978125pt\" version=\"1.1\" viewBox=\"0 0 231.442187 166.978125\" width=\"231.442187pt\" xmlns=\"http://www.w3.org/2000/svg\" xmlns:xlink=\"http://www.w3.org/1999/xlink\">\r\n <metadata>\r\n  <rdf:RDF xmlns:cc=\"http://creativecommons.org/ns#\" xmlns:dc=\"http://purl.org/dc/elements/1.1/\" xmlns:rdf=\"http://www.w3.org/1999/02/22-rdf-syntax-ns#\">\r\n   <cc:Work>\r\n    <dc:type rdf:resource=\"http://purl.org/dc/dcmitype/StillImage\"/>\r\n    <dc:date>2020-08-06T18:57:58.775863</dc:date>\r\n    <dc:format>image/svg+xml</dc:format>\r\n    <dc:creator>\r\n     <cc:Agent>\r\n      <dc:title>Matplotlib v3.3.0, https://matplotlib.org/</dc:title>\r\n     </cc:Agent>\r\n    </dc:creator>\r\n   </cc:Work>\r\n  </rdf:RDF>\r\n </metadata>\r\n <defs>\r\n  <style type=\"text/css\">*{stroke-linecap:butt;stroke-linejoin:round;}</style>\r\n </defs>\r\n <g id=\"figure_1\">\r\n  <g id=\"patch_1\">\r\n   <path d=\"M 0 166.978125 \r\nL 231.442187 166.978125 \r\nL 231.442187 0 \r\nL 0 0 \r\nz\r\n\" style=\"fill:none;\"/>\r\n  </g>\r\n  <g id=\"axes_1\">\r\n   <g id=\"patch_2\">\r\n    <path d=\"M 28.942188 143.1 \r\nL 224.242188 143.1 \r\nL 224.242188 7.2 \r\nL 28.942188 7.2 \r\nz\r\n\" style=\"fill:#ffffff;\"/>\r\n   </g>\r\n   <g id=\"PathCollection_1\">\r\n    <defs>\r\n     <path d=\"M 0 3 \r\nC 0.795609 3 1.55874 2.683901 2.12132 2.12132 \r\nC 2.683901 1.55874 3 0.795609 3 0 \r\nC 3 -0.795609 2.683901 -1.55874 2.12132 -2.12132 \r\nC 1.55874 -2.683901 0.795609 -3 0 -3 \r\nC -0.795609 -3 -1.55874 -2.683901 -2.12132 -2.12132 \r\nC -2.683901 -1.55874 -3 -0.795609 -3 0 \r\nC -3 0.795609 -2.683901 1.55874 -2.12132 2.12132 \r\nC -1.55874 2.683901 -0.795609 3 0 3 \r\nz\r\n\" id=\"mb769ed0fde\" style=\"stroke:#1f77b4;\"/>\r\n    </defs>\r\n    <g clip-path=\"url(#p3e34382084)\">\r\n     <use style=\"fill:#1f77b4;stroke:#1f77b4;\" x=\"78.087095\" xlink:href=\"#mb769ed0fde\" y=\"94.607061\"/>\r\n     <use style=\"fill:#1f77b4;stroke:#1f77b4;\" x=\"103.97979\" xlink:href=\"#mb769ed0fde\" y=\"68.685032\"/>\r\n     <use style=\"fill:#1f77b4;stroke:#1f77b4;\" x=\"112.748547\" xlink:href=\"#mb769ed0fde\" y=\"82.793763\"/>\r\n     <use style=\"fill:#1f77b4;stroke:#1f77b4;\" x=\"158.026822\" xlink:href=\"#mb769ed0fde\" y=\"63.101305\"/>\r\n     <use style=\"fill:#1f77b4;stroke:#1f77b4;\" x=\"152.95663\" xlink:href=\"#mb769ed0fde\" y=\"72.86084\"/>\r\n     <use style=\"fill:#1f77b4;stroke:#1f77b4;\" x=\"215.364915\" xlink:href=\"#mb769ed0fde\" y=\"13.377273\"/>\r\n     <use style=\"fill:#1f77b4;stroke:#1f77b4;\" x=\"151.390013\" xlink:href=\"#mb769ed0fde\" y=\"68.541762\"/>\r\n     <use style=\"fill:#1f77b4;stroke:#1f77b4;\" x=\"126.485441\" xlink:href=\"#mb769ed0fde\" y=\"75.989936\"/>\r\n     <use style=\"fill:#1f77b4;stroke:#1f77b4;\" x=\"172.175174\" xlink:href=\"#mb769ed0fde\" y=\"56.399946\"/>\r\n     <use style=\"fill:#1f77b4;stroke:#1f77b4;\" x=\"144.962784\" xlink:href=\"#mb769ed0fde\" y=\"76.332546\"/>\r\n     <use style=\"fill:#1f77b4;stroke:#1f77b4;\" x=\"66.548798\" xlink:href=\"#mb769ed0fde\" y=\"115.605887\"/>\r\n     <use style=\"fill:#1f77b4;stroke:#1f77b4;\" x=\"100.746552\" xlink:href=\"#mb769ed0fde\" y=\"95.054039\"/>\r\n     <use style=\"fill:#1f77b4;stroke:#1f77b4;\" x=\"126.964844\" xlink:href=\"#mb769ed0fde\" y=\"89.930796\"/>\r\n     <use style=\"fill:#1f77b4;stroke:#1f77b4;\" x=\"126.006498\" xlink:href=\"#mb769ed0fde\" y=\"85.776414\"/>\r\n     <use style=\"fill:#1f77b4;stroke:#1f77b4;\" x=\"205.126786\" xlink:href=\"#mb769ed0fde\" y=\"24.434175\"/>\r\n     <use style=\"fill:#1f77b4;stroke:#1f77b4;\" x=\"110.369106\" xlink:href=\"#mb769ed0fde\" y=\"73.904407\"/>\r\n     <use style=\"fill:#1f77b4;stroke:#1f77b4;\" x=\"166.201645\" xlink:href=\"#mb769ed0fde\" y=\"51.265623\"/>\r\n     <use style=\"fill:#1f77b4;stroke:#1f77b4;\" x=\"110.290113\" xlink:href=\"#mb769ed0fde\" y=\"90.184837\"/>\r\n     <use style=\"fill:#1f77b4;stroke:#1f77b4;\" x=\"71.531825\" xlink:href=\"#mb769ed0fde\" y=\"107.3545\"/>\r\n     <use style=\"fill:#1f77b4;stroke:#1f77b4;\" x=\"152.105565\" xlink:href=\"#mb769ed0fde\" y=\"57.668478\"/>\r\n     <use style=\"fill:#1f77b4;stroke:#1f77b4;\" x=\"117.958379\" xlink:href=\"#mb769ed0fde\" y=\"78.630371\"/>\r\n     <use style=\"fill:#1f77b4;stroke:#1f77b4;\" x=\"125.739994\" xlink:href=\"#mb769ed0fde\" y=\"73.968004\"/>\r\n     <use style=\"fill:#1f77b4;stroke:#1f77b4;\" x=\"104.938122\" xlink:href=\"#mb769ed0fde\" y=\"96.111609\"/>\r\n     <use style=\"fill:#1f77b4;stroke:#1f77b4;\" x=\"184.84112\" xlink:href=\"#mb769ed0fde\" y=\"43.158146\"/>\r\n     <use style=\"fill:#1f77b4;stroke:#1f77b4;\" x=\"205.319327\" xlink:href=\"#mb769ed0fde\" y=\"24.427295\"/>\r\n     <use style=\"fill:#1f77b4;stroke:#1f77b4;\" x=\"43.803975\" xlink:href=\"#mb769ed0fde\" y=\"136.922727\"/>\r\n     <use style=\"fill:#1f77b4;stroke:#1f77b4;\" x=\"189.213837\" xlink:href=\"#mb769ed0fde\" y=\"37.614978\"/>\r\n     <use style=\"fill:#1f77b4;stroke:#1f77b4;\" x=\"200.045732\" xlink:href=\"#mb769ed0fde\" y=\"42.517702\"/>\r\n     <use style=\"fill:#1f77b4;stroke:#1f77b4;\" x=\"157.33727\" xlink:href=\"#mb769ed0fde\" y=\"62.082792\"/>\r\n     <use style=\"fill:#1f77b4;stroke:#1f77b4;\" x=\"93.173997\" xlink:href=\"#mb769ed0fde\" y=\"107.983505\"/>\r\n     <use style=\"fill:#1f77b4;stroke:#1f77b4;\" x=\"125.428456\" xlink:href=\"#mb769ed0fde\" y=\"60.936129\"/>\r\n     <use style=\"fill:#1f77b4;stroke:#1f77b4;\" x=\"138.612189\" xlink:href=\"#mb769ed0fde\" y=\"67.374479\"/>\r\n     <use style=\"fill:#1f77b4;stroke:#1f77b4;\" x=\"125.842547\" xlink:href=\"#mb769ed0fde\" y=\"74.387795\"/>\r\n     <use style=\"fill:#1f77b4;stroke:#1f77b4;\" x=\"108.903408\" xlink:href=\"#mb769ed0fde\" y=\"91.492389\"/>\r\n     <use style=\"fill:#1f77b4;stroke:#1f77b4;\" x=\"167.981775\" xlink:href=\"#mb769ed0fde\" y=\"49.320549\"/>\r\n     <use style=\"fill:#1f77b4;stroke:#1f77b4;\" x=\"122.8656\" xlink:href=\"#mb769ed0fde\" y=\"88.646435\"/>\r\n     <use style=\"fill:#1f77b4;stroke:#1f77b4;\" x=\"145.285405\" xlink:href=\"#mb769ed0fde\" y=\"53.404623\"/>\r\n     <use style=\"fill:#1f77b4;stroke:#1f77b4;\" x=\"163.952216\" xlink:href=\"#mb769ed0fde\" y=\"49.466836\"/>\r\n     <use style=\"fill:#1f77b4;stroke:#1f77b4;\" x=\"142.672479\" xlink:href=\"#mb769ed0fde\" y=\"76.132426\"/>\r\n     <use style=\"fill:#1f77b4;stroke:#1f77b4;\" x=\"81.519459\" xlink:href=\"#mb769ed0fde\" y=\"113.167759\"/>\r\n     <use style=\"fill:#1f77b4;stroke:#1f77b4;\" x=\"185.323958\" xlink:href=\"#mb769ed0fde\" y=\"47.715025\"/>\r\n     <use style=\"fill:#1f77b4;stroke:#1f77b4;\" x=\"73.14006\" xlink:href=\"#mb769ed0fde\" y=\"122.134281\"/>\r\n     <use style=\"fill:#1f77b4;stroke:#1f77b4;\" x=\"113.510037\" xlink:href=\"#mb769ed0fde\" y=\"78.918739\"/>\r\n     <use style=\"fill:#1f77b4;stroke:#1f77b4;\" x=\"194.02432\" xlink:href=\"#mb769ed0fde\" y=\"32.115082\"/>\r\n     <use style=\"fill:#1f77b4;stroke:#1f77b4;\" x=\"153.324823\" xlink:href=\"#mb769ed0fde\" y=\"53.522726\"/>\r\n     <use style=\"fill:#1f77b4;stroke:#1f77b4;\" x=\"180.674068\" xlink:href=\"#mb769ed0fde\" y=\"45.740507\"/>\r\n     <use style=\"fill:#1f77b4;stroke:#1f77b4;\" x=\"134.385199\" xlink:href=\"#mb769ed0fde\" y=\"50.740873\"/>\r\n     <use style=\"fill:#1f77b4;stroke:#1f77b4;\" x=\"105.865836\" xlink:href=\"#mb769ed0fde\" y=\"72.433002\"/>\r\n     <use style=\"fill:#1f77b4;stroke:#1f77b4;\" x=\"126.998826\" xlink:href=\"#mb769ed0fde\" y=\"63.128368\"/>\r\n     <use style=\"fill:#1f77b4;stroke:#1f77b4;\" x=\"162.334687\" xlink:href=\"#mb769ed0fde\" y=\"42.386598\"/>\r\n     <use style=\"fill:#1f77b4;stroke:#1f77b4;\" x=\"134.403014\" xlink:href=\"#mb769ed0fde\" y=\"90.294081\"/>\r\n     <use style=\"fill:#1f77b4;stroke:#1f77b4;\" x=\"152.12387\" xlink:href=\"#mb769ed0fde\" y=\"77.517119\"/>\r\n     <use style=\"fill:#1f77b4;stroke:#1f77b4;\" x=\"105.770605\" xlink:href=\"#mb769ed0fde\" y=\"86.154619\"/>\r\n     <use style=\"fill:#1f77b4;stroke:#1f77b4;\" x=\"127.555552\" xlink:href=\"#mb769ed0fde\" y=\"72.845836\"/>\r\n     <use style=\"fill:#1f77b4;stroke:#1f77b4;\" x=\"139.721236\" xlink:href=\"#mb769ed0fde\" y=\"71.032512\"/>\r\n     <use style=\"fill:#1f77b4;stroke:#1f77b4;\" x=\"59.771206\" xlink:href=\"#mb769ed0fde\" y=\"112.736509\"/>\r\n     <use style=\"fill:#1f77b4;stroke:#1f77b4;\" x=\"155.828285\" xlink:href=\"#mb769ed0fde\" y=\"55.781078\"/>\r\n     <use style=\"fill:#1f77b4;stroke:#1f77b4;\" x=\"152.878214\" xlink:href=\"#mb769ed0fde\" y=\"56.691506\"/>\r\n     <use style=\"fill:#1f77b4;stroke:#1f77b4;\" x=\"92.405774\" xlink:href=\"#mb769ed0fde\" y=\"114.44549\"/>\r\n     <use style=\"fill:#1f77b4;stroke:#1f77b4;\" x=\"195.744899\" xlink:href=\"#mb769ed0fde\" y=\"41.989216\"/>\r\n     <use style=\"fill:#1f77b4;stroke:#1f77b4;\" x=\"37.81946\" xlink:href=\"#mb769ed0fde\" y=\"136.544162\"/>\r\n     <use style=\"fill:#1f77b4;stroke:#1f77b4;\" x=\"121.162795\" xlink:href=\"#mb769ed0fde\" y=\"76.609255\"/>\r\n     <use style=\"fill:#1f77b4;stroke:#1f77b4;\" x=\"149.964115\" xlink:href=\"#mb769ed0fde\" y=\"44.50726\"/>\r\n     <use style=\"fill:#1f77b4;stroke:#1f77b4;\" x=\"65.911806\" xlink:href=\"#mb769ed0fde\" y=\"110.69995\"/>\r\n     <use style=\"fill:#1f77b4;stroke:#1f77b4;\" x=\"87.384096\" xlink:href=\"#mb769ed0fde\" y=\"111.05326\"/>\r\n     <use style=\"fill:#1f77b4;stroke:#1f77b4;\" x=\"76.453993\" xlink:href=\"#mb769ed0fde\" y=\"123.572678\"/>\r\n     <use style=\"fill:#1f77b4;stroke:#1f77b4;\" x=\"182.683528\" xlink:href=\"#mb769ed0fde\" y=\"50.458593\"/>\r\n     <use style=\"fill:#1f77b4;stroke:#1f77b4;\" x=\"155.734513\" xlink:href=\"#mb769ed0fde\" y=\"53.008389\"/>\r\n     <use style=\"fill:#1f77b4;stroke:#1f77b4;\" x=\"173.011581\" xlink:href=\"#mb769ed0fde\" y=\"46.145946\"/>\r\n     <use style=\"fill:#1f77b4;stroke:#1f77b4;\" x=\"93.165074\" xlink:href=\"#mb769ed0fde\" y=\"102.609449\"/>\r\n     <use style=\"fill:#1f77b4;stroke:#1f77b4;\" x=\"114.672683\" xlink:href=\"#mb769ed0fde\" y=\"90.935323\"/>\r\n     <use style=\"fill:#1f77b4;stroke:#1f77b4;\" x=\"177.002086\" xlink:href=\"#mb769ed0fde\" y=\"30.261702\"/>\r\n     <use style=\"fill:#1f77b4;stroke:#1f77b4;\" x=\"82.380931\" xlink:href=\"#mb769ed0fde\" y=\"90.544742\"/>\r\n     <use style=\"fill:#1f77b4;stroke:#1f77b4;\" x=\"166.733538\" xlink:href=\"#mb769ed0fde\" y=\"36.48596\"/>\r\n     <use style=\"fill:#1f77b4;stroke:#1f77b4;\" x=\"112.213398\" xlink:href=\"#mb769ed0fde\" y=\"89.441578\"/>\r\n     <use style=\"fill:#1f77b4;stroke:#1f77b4;\" x=\"155.485093\" xlink:href=\"#mb769ed0fde\" y=\"53.782737\"/>\r\n     <use style=\"fill:#1f77b4;stroke:#1f77b4;\" x=\"100.07669\" xlink:href=\"#mb769ed0fde\" y=\"92.606986\"/>\r\n     <use style=\"fill:#1f77b4;stroke:#1f77b4;\" x=\"133.861159\" xlink:href=\"#mb769ed0fde\" y=\"74.700127\"/>\r\n     <use style=\"fill:#1f77b4;stroke:#1f77b4;\" x=\"155.372259\" xlink:href=\"#mb769ed0fde\" y=\"55.172662\"/>\r\n     <use style=\"fill:#1f77b4;stroke:#1f77b4;\" x=\"71.165973\" xlink:href=\"#mb769ed0fde\" y=\"89.8201\"/>\r\n     <use style=\"fill:#1f77b4;stroke:#1f77b4;\" x=\"130.326685\" xlink:href=\"#mb769ed0fde\" y=\"83.157533\"/>\r\n     <use style=\"fill:#1f77b4;stroke:#1f77b4;\" x=\"201.02368\" xlink:href=\"#mb769ed0fde\" y=\"29.06291\"/>\r\n     <use style=\"fill:#1f77b4;stroke:#1f77b4;\" x=\"57.721979\" xlink:href=\"#mb769ed0fde\" y=\"112.897195\"/>\r\n     <use style=\"fill:#1f77b4;stroke:#1f77b4;\" x=\"143.964329\" xlink:href=\"#mb769ed0fde\" y=\"75.845311\"/>\r\n     <use style=\"fill:#1f77b4;stroke:#1f77b4;\" x=\"150.033114\" xlink:href=\"#mb769ed0fde\" y=\"73.766731\"/>\r\n     <use style=\"fill:#1f77b4;stroke:#1f77b4;\" x=\"62.979936\" xlink:href=\"#mb769ed0fde\" y=\"114.725839\"/>\r\n     <use style=\"fill:#1f77b4;stroke:#1f77b4;\" x=\"153.124844\" xlink:href=\"#mb769ed0fde\" y=\"65.560321\"/>\r\n     <use style=\"fill:#1f77b4;stroke:#1f77b4;\" x=\"164.507556\" xlink:href=\"#mb769ed0fde\" y=\"63.84226\"/>\r\n     <use style=\"fill:#1f77b4;stroke:#1f77b4;\" x=\"136.137998\" xlink:href=\"#mb769ed0fde\" y=\"64.079161\"/>\r\n     <use style=\"fill:#1f77b4;stroke:#1f77b4;\" x=\"150.71603\" xlink:href=\"#mb769ed0fde\" y=\"57.824622\"/>\r\n     <use style=\"fill:#1f77b4;stroke:#1f77b4;\" x=\"195.638483\" xlink:href=\"#mb769ed0fde\" y=\"46.049183\"/>\r\n     <use style=\"fill:#1f77b4;stroke:#1f77b4;\" x=\"95.101794\" xlink:href=\"#mb769ed0fde\" y=\"102.603895\"/>\r\n     <use style=\"fill:#1f77b4;stroke:#1f77b4;\" x=\"125.317104\" xlink:href=\"#mb769ed0fde\" y=\"81.230082\"/>\r\n     <use style=\"fill:#1f77b4;stroke:#1f77b4;\" x=\"168.656125\" xlink:href=\"#mb769ed0fde\" y=\"37.703373\"/>\r\n     <use style=\"fill:#1f77b4;stroke:#1f77b4;\" x=\"88.422685\" xlink:href=\"#mb769ed0fde\" y=\"85.649315\"/>\r\n     <use style=\"fill:#1f77b4;stroke:#1f77b4;\" x=\"137.705946\" xlink:href=\"#mb769ed0fde\" y=\"61.909494\"/>\r\n     <use style=\"fill:#1f77b4;stroke:#1f77b4;\" x=\"121.229458\" xlink:href=\"#mb769ed0fde\" y=\"91.750941\"/>\r\n     <use style=\"fill:#1f77b4;stroke:#1f77b4;\" x=\"114.105795\" xlink:href=\"#mb769ed0fde\" y=\"85.499582\"/>\r\n     <use style=\"fill:#1f77b4;stroke:#1f77b4;\" x=\"103.14916\" xlink:href=\"#mb769ed0fde\" y=\"81.879388\"/>\r\n     <use style=\"fill:#1f77b4;stroke:#1f77b4;\" x=\"188.568229\" xlink:href=\"#mb769ed0fde\" y=\"43.405661\"/>\r\n    </g>\r\n   </g>\r\n   <g id=\"matplotlib.axis_1\">\r\n    <g id=\"xtick_1\">\r\n     <g id=\"line2d_1\">\r\n      <defs>\r\n       <path d=\"M 0 0 \r\nL 0 3.5 \r\n\" id=\"m2da23900da\" style=\"stroke:#000000;stroke-width:0.8;\"/>\r\n      </defs>\r\n      <g>\r\n       <use style=\"stroke:#000000;stroke-width:0.8;\" x=\"43.224442\" xlink:href=\"#m2da23900da\" y=\"143.1\"/>\r\n      </g>\r\n     </g>\r\n     <g id=\"text_1\">\r\n      <!-- −1 -->\r\n      <g transform=\"translate(35.853348 157.698438)scale(0.1 -0.1)\">\r\n       <defs>\r\n        <path d=\"M 10.59375 35.5 \r\nL 73.1875 35.5 \r\nL 73.1875 27.203125 \r\nL 10.59375 27.203125 \r\nz\r\n\" id=\"DejaVuSans-8722\"/>\r\n        <path d=\"M 12.40625 8.296875 \r\nL 28.515625 8.296875 \r\nL 28.515625 63.921875 \r\nL 10.984375 60.40625 \r\nL 10.984375 69.390625 \r\nL 28.421875 72.90625 \r\nL 38.28125 72.90625 \r\nL 38.28125 8.296875 \r\nL 54.390625 8.296875 \r\nL 54.390625 0 \r\nL 12.40625 0 \r\nz\r\n\" id=\"DejaVuSans-49\"/>\r\n       </defs>\r\n       <use xlink:href=\"#DejaVuSans-8722\"/>\r\n       <use x=\"83.789062\" xlink:href=\"#DejaVuSans-49\"/>\r\n      </g>\r\n     </g>\r\n    </g>\r\n    <g id=\"xtick_2\">\r\n     <g id=\"line2d_2\">\r\n      <g>\r\n       <use style=\"stroke:#000000;stroke-width:0.8;\" x=\"84.736548\" xlink:href=\"#m2da23900da\" y=\"143.1\"/>\r\n      </g>\r\n     </g>\r\n     <g id=\"text_2\">\r\n      <!-- 0 -->\r\n      <g transform=\"translate(81.555298 157.698438)scale(0.1 -0.1)\">\r\n       <defs>\r\n        <path d=\"M 31.78125 66.40625 \r\nQ 24.171875 66.40625 20.328125 58.90625 \r\nQ 16.5 51.421875 16.5 36.375 \r\nQ 16.5 21.390625 20.328125 13.890625 \r\nQ 24.171875 6.390625 31.78125 6.390625 \r\nQ 39.453125 6.390625 43.28125 13.890625 \r\nQ 47.125 21.390625 47.125 36.375 \r\nQ 47.125 51.421875 43.28125 58.90625 \r\nQ 39.453125 66.40625 31.78125 66.40625 \r\nz\r\nM 31.78125 74.21875 \r\nQ 44.046875 74.21875 50.515625 64.515625 \r\nQ 56.984375 54.828125 56.984375 36.375 \r\nQ 56.984375 17.96875 50.515625 8.265625 \r\nQ 44.046875 -1.421875 31.78125 -1.421875 \r\nQ 19.53125 -1.421875 13.0625 8.265625 \r\nQ 6.59375 17.96875 6.59375 36.375 \r\nQ 6.59375 54.828125 13.0625 64.515625 \r\nQ 19.53125 74.21875 31.78125 74.21875 \r\nz\r\n\" id=\"DejaVuSans-48\"/>\r\n       </defs>\r\n       <use xlink:href=\"#DejaVuSans-48\"/>\r\n      </g>\r\n     </g>\r\n    </g>\r\n    <g id=\"xtick_3\">\r\n     <g id=\"line2d_3\">\r\n      <g>\r\n       <use style=\"stroke:#000000;stroke-width:0.8;\" x=\"126.248654\" xlink:href=\"#m2da23900da\" y=\"143.1\"/>\r\n      </g>\r\n     </g>\r\n     <g id=\"text_3\">\r\n      <!-- 1 -->\r\n      <g transform=\"translate(123.067404 157.698438)scale(0.1 -0.1)\">\r\n       <use xlink:href=\"#DejaVuSans-49\"/>\r\n      </g>\r\n     </g>\r\n    </g>\r\n    <g id=\"xtick_4\">\r\n     <g id=\"line2d_4\">\r\n      <g>\r\n       <use style=\"stroke:#000000;stroke-width:0.8;\" x=\"167.76076\" xlink:href=\"#m2da23900da\" y=\"143.1\"/>\r\n      </g>\r\n     </g>\r\n     <g id=\"text_4\">\r\n      <!-- 2 -->\r\n      <g transform=\"translate(164.57951 157.698438)scale(0.1 -0.1)\">\r\n       <defs>\r\n        <path d=\"M 19.1875 8.296875 \r\nL 53.609375 8.296875 \r\nL 53.609375 0 \r\nL 7.328125 0 \r\nL 7.328125 8.296875 \r\nQ 12.9375 14.109375 22.625 23.890625 \r\nQ 32.328125 33.6875 34.8125 36.53125 \r\nQ 39.546875 41.84375 41.421875 45.53125 \r\nQ 43.3125 49.21875 43.3125 52.78125 \r\nQ 43.3125 58.59375 39.234375 62.25 \r\nQ 35.15625 65.921875 28.609375 65.921875 \r\nQ 23.96875 65.921875 18.8125 64.3125 \r\nQ 13.671875 62.703125 7.8125 59.421875 \r\nL 7.8125 69.390625 \r\nQ 13.765625 71.78125 18.9375 73 \r\nQ 24.125 74.21875 28.421875 74.21875 \r\nQ 39.75 74.21875 46.484375 68.546875 \r\nQ 53.21875 62.890625 53.21875 53.421875 \r\nQ 53.21875 48.921875 51.53125 44.890625 \r\nQ 49.859375 40.875 45.40625 35.40625 \r\nQ 44.1875 33.984375 37.640625 27.21875 \r\nQ 31.109375 20.453125 19.1875 8.296875 \r\nz\r\n\" id=\"DejaVuSans-50\"/>\r\n       </defs>\r\n       <use xlink:href=\"#DejaVuSans-50\"/>\r\n      </g>\r\n     </g>\r\n    </g>\r\n    <g id=\"xtick_5\">\r\n     <g id=\"line2d_5\">\r\n      <g>\r\n       <use style=\"stroke:#000000;stroke-width:0.8;\" x=\"209.272866\" xlink:href=\"#m2da23900da\" y=\"143.1\"/>\r\n      </g>\r\n     </g>\r\n     <g id=\"text_5\">\r\n      <!-- 3 -->\r\n      <g transform=\"translate(206.091616 157.698438)scale(0.1 -0.1)\">\r\n       <defs>\r\n        <path d=\"M 40.578125 39.3125 \r\nQ 47.65625 37.796875 51.625 33 \r\nQ 55.609375 28.21875 55.609375 21.1875 \r\nQ 55.609375 10.40625 48.1875 4.484375 \r\nQ 40.765625 -1.421875 27.09375 -1.421875 \r\nQ 22.515625 -1.421875 17.65625 -0.515625 \r\nQ 12.796875 0.390625 7.625 2.203125 \r\nL 7.625 11.71875 \r\nQ 11.71875 9.328125 16.59375 8.109375 \r\nQ 21.484375 6.890625 26.8125 6.890625 \r\nQ 36.078125 6.890625 40.9375 10.546875 \r\nQ 45.796875 14.203125 45.796875 21.1875 \r\nQ 45.796875 27.640625 41.28125 31.265625 \r\nQ 36.765625 34.90625 28.71875 34.90625 \r\nL 20.21875 34.90625 \r\nL 20.21875 43.015625 \r\nL 29.109375 43.015625 \r\nQ 36.375 43.015625 40.234375 45.921875 \r\nQ 44.09375 48.828125 44.09375 54.296875 \r\nQ 44.09375 59.90625 40.109375 62.90625 \r\nQ 36.140625 65.921875 28.71875 65.921875 \r\nQ 24.65625 65.921875 20.015625 65.03125 \r\nQ 15.375 64.15625 9.8125 62.3125 \r\nL 9.8125 71.09375 \r\nQ 15.4375 72.65625 20.34375 73.4375 \r\nQ 25.25 74.21875 29.59375 74.21875 \r\nQ 40.828125 74.21875 47.359375 69.109375 \r\nQ 53.90625 64.015625 53.90625 55.328125 \r\nQ 53.90625 49.265625 50.4375 45.09375 \r\nQ 46.96875 40.921875 40.578125 39.3125 \r\nz\r\n\" id=\"DejaVuSans-51\"/>\r\n       </defs>\r\n       <use xlink:href=\"#DejaVuSans-51\"/>\r\n      </g>\r\n     </g>\r\n    </g>\r\n   </g>\r\n   <g id=\"matplotlib.axis_2\">\r\n    <g id=\"ytick_1\">\r\n     <g id=\"line2d_6\">\r\n      <defs>\r\n       <path d=\"M 0 0 \r\nL -3.5 0 \r\n\" id=\"m5972d16059\" style=\"stroke:#000000;stroke-width:0.8;\"/>\r\n      </defs>\r\n      <g>\r\n       <use style=\"stroke:#000000;stroke-width:0.8;\" x=\"28.942188\" xlink:href=\"#m5972d16059\" y=\"127.709144\"/>\r\n      </g>\r\n     </g>\r\n     <g id=\"text_6\">\r\n      <!-- −2 -->\r\n      <g transform=\"translate(7.2 131.508363)scale(0.1 -0.1)\">\r\n       <use xlink:href=\"#DejaVuSans-8722\"/>\r\n       <use x=\"83.789062\" xlink:href=\"#DejaVuSans-50\"/>\r\n      </g>\r\n     </g>\r\n    </g>\r\n    <g id=\"ytick_2\">\r\n     <g id=\"line2d_7\">\r\n      <g>\r\n       <use style=\"stroke:#000000;stroke-width:0.8;\" x=\"28.942188\" xlink:href=\"#m5972d16059\" y=\"102.637833\"/>\r\n      </g>\r\n     </g>\r\n     <g id=\"text_7\">\r\n      <!-- 0 -->\r\n      <g transform=\"translate(15.579688 106.437052)scale(0.1 -0.1)\">\r\n       <use xlink:href=\"#DejaVuSans-48\"/>\r\n      </g>\r\n     </g>\r\n    </g>\r\n    <g id=\"ytick_3\">\r\n     <g id=\"line2d_8\">\r\n      <g>\r\n       <use style=\"stroke:#000000;stroke-width:0.8;\" x=\"28.942188\" xlink:href=\"#m5972d16059\" y=\"77.566522\"/>\r\n      </g>\r\n     </g>\r\n     <g id=\"text_8\">\r\n      <!-- 2 -->\r\n      <g transform=\"translate(15.579688 81.365741)scale(0.1 -0.1)\">\r\n       <use xlink:href=\"#DejaVuSans-50\"/>\r\n      </g>\r\n     </g>\r\n    </g>\r\n    <g id=\"ytick_4\">\r\n     <g id=\"line2d_9\">\r\n      <g>\r\n       <use style=\"stroke:#000000;stroke-width:0.8;\" x=\"28.942188\" xlink:href=\"#m5972d16059\" y=\"52.495211\"/>\r\n      </g>\r\n     </g>\r\n     <g id=\"text_9\">\r\n      <!-- 4 -->\r\n      <g transform=\"translate(15.579688 56.29443)scale(0.1 -0.1)\">\r\n       <defs>\r\n        <path d=\"M 37.796875 64.3125 \r\nL 12.890625 25.390625 \r\nL 37.796875 25.390625 \r\nz\r\nM 35.203125 72.90625 \r\nL 47.609375 72.90625 \r\nL 47.609375 25.390625 \r\nL 58.015625 25.390625 \r\nL 58.015625 17.1875 \r\nL 47.609375 17.1875 \r\nL 47.609375 0 \r\nL 37.796875 0 \r\nL 37.796875 17.1875 \r\nL 4.890625 17.1875 \r\nL 4.890625 26.703125 \r\nz\r\n\" id=\"DejaVuSans-52\"/>\r\n       </defs>\r\n       <use xlink:href=\"#DejaVuSans-52\"/>\r\n      </g>\r\n     </g>\r\n    </g>\r\n    <g id=\"ytick_5\">\r\n     <g id=\"line2d_10\">\r\n      <g>\r\n       <use style=\"stroke:#000000;stroke-width:0.8;\" x=\"28.942188\" xlink:href=\"#m5972d16059\" y=\"27.4239\"/>\r\n      </g>\r\n     </g>\r\n     <g id=\"text_10\">\r\n      <!-- 6 -->\r\n      <g transform=\"translate(15.579688 31.223119)scale(0.1 -0.1)\">\r\n       <defs>\r\n        <path d=\"M 33.015625 40.375 \r\nQ 26.375 40.375 22.484375 35.828125 \r\nQ 18.609375 31.296875 18.609375 23.390625 \r\nQ 18.609375 15.53125 22.484375 10.953125 \r\nQ 26.375 6.390625 33.015625 6.390625 \r\nQ 39.65625 6.390625 43.53125 10.953125 \r\nQ 47.40625 15.53125 47.40625 23.390625 \r\nQ 47.40625 31.296875 43.53125 35.828125 \r\nQ 39.65625 40.375 33.015625 40.375 \r\nz\r\nM 52.59375 71.296875 \r\nL 52.59375 62.3125 \r\nQ 48.875 64.0625 45.09375 64.984375 \r\nQ 41.3125 65.921875 37.59375 65.921875 \r\nQ 27.828125 65.921875 22.671875 59.328125 \r\nQ 17.53125 52.734375 16.796875 39.40625 \r\nQ 19.671875 43.65625 24.015625 45.921875 \r\nQ 28.375 48.1875 33.59375 48.1875 \r\nQ 44.578125 48.1875 50.953125 41.515625 \r\nQ 57.328125 34.859375 57.328125 23.390625 \r\nQ 57.328125 12.15625 50.6875 5.359375 \r\nQ 44.046875 -1.421875 33.015625 -1.421875 \r\nQ 20.359375 -1.421875 13.671875 8.265625 \r\nQ 6.984375 17.96875 6.984375 36.375 \r\nQ 6.984375 53.65625 15.1875 63.9375 \r\nQ 23.390625 74.21875 37.203125 74.21875 \r\nQ 40.921875 74.21875 44.703125 73.484375 \r\nQ 48.484375 72.75 52.59375 71.296875 \r\nz\r\n\" id=\"DejaVuSans-54\"/>\r\n       </defs>\r\n       <use xlink:href=\"#DejaVuSans-54\"/>\r\n      </g>\r\n     </g>\r\n    </g>\r\n   </g>\r\n   <g id=\"patch_3\">\r\n    <path d=\"M 28.942188 143.1 \r\nL 28.942188 7.2 \r\n\" style=\"fill:none;stroke:#000000;stroke-linecap:square;stroke-linejoin:miter;stroke-width:0.8;\"/>\r\n   </g>\r\n   <g id=\"patch_4\">\r\n    <path d=\"M 224.242188 143.1 \r\nL 224.242188 7.2 \r\n\" style=\"fill:none;stroke:#000000;stroke-linecap:square;stroke-linejoin:miter;stroke-width:0.8;\"/>\r\n   </g>\r\n   <g id=\"patch_5\">\r\n    <path d=\"M 28.942187 143.1 \r\nL 224.242188 143.1 \r\n\" style=\"fill:none;stroke:#000000;stroke-linecap:square;stroke-linejoin:miter;stroke-width:0.8;\"/>\r\n   </g>\r\n   <g id=\"patch_6\">\r\n    <path d=\"M 28.942187 7.2 \r\nL 224.242188 7.2 \r\n\" style=\"fill:none;stroke:#000000;stroke-linecap:square;stroke-linejoin:miter;stroke-width:0.8;\"/>\r\n   </g>\r\n  </g>\r\n </g>\r\n <defs>\r\n  <clipPath id=\"p3e34382084\">\r\n   <rect height=\"135.9\" width=\"195.3\" x=\"28.942188\" y=\"7.2\"/>\r\n  </clipPath>\r\n </defs>\r\n</svg>\r\n"
     },
     "metadata": {
      "needs_background": "light"
     }
    }
   ],
   "source": [
    "d2l.plt.scatter(data[:100, 0].numpy(), data[:100, 1].numpy());"
   ]
  },
  {
   "cell_type": "code",
   "execution_count": 17,
   "metadata": {},
   "outputs": [
    {
     "output_type": "execute_result",
     "data": {
      "text/plain": "<matplotlib.collections.PathCollection at 0x1ccfc5972e0>"
     },
     "metadata": {},
     "execution_count": 17
    },
    {
     "output_type": "display_data",
     "data": {
      "text/plain": "<Figure size 252x180 with 1 Axes>",
      "image/svg+xml": "<?xml version=\"1.0\" encoding=\"utf-8\" standalone=\"no\"?>\r\n<!DOCTYPE svg PUBLIC \"-//W3C//DTD SVG 1.1//EN\"\r\n  \"http://www.w3.org/Graphics/SVG/1.1/DTD/svg11.dtd\">\r\n<!-- Created with matplotlib (https://matplotlib.org/) -->\r\n<svg height=\"166.978125pt\" version=\"1.1\" viewBox=\"0 0 231.442187 166.978125\" width=\"231.442187pt\" xmlns=\"http://www.w3.org/2000/svg\" xmlns:xlink=\"http://www.w3.org/1999/xlink\">\r\n <metadata>\r\n  <rdf:RDF xmlns:cc=\"http://creativecommons.org/ns#\" xmlns:dc=\"http://purl.org/dc/elements/1.1/\" xmlns:rdf=\"http://www.w3.org/1999/02/22-rdf-syntax-ns#\">\r\n   <cc:Work>\r\n    <dc:type rdf:resource=\"http://purl.org/dc/dcmitype/StillImage\"/>\r\n    <dc:date>2020-08-06T18:58:08.634918</dc:date>\r\n    <dc:format>image/svg+xml</dc:format>\r\n    <dc:creator>\r\n     <cc:Agent>\r\n      <dc:title>Matplotlib v3.3.0, https://matplotlib.org/</dc:title>\r\n     </cc:Agent>\r\n    </dc:creator>\r\n   </cc:Work>\r\n  </rdf:RDF>\r\n </metadata>\r\n <defs>\r\n  <style type=\"text/css\">*{stroke-linecap:butt;stroke-linejoin:round;}</style>\r\n </defs>\r\n <g id=\"figure_1\">\r\n  <g id=\"patch_1\">\r\n   <path d=\"M 0 166.978125 \r\nL 231.442187 166.978125 \r\nL 231.442187 0 \r\nL 0 0 \r\nz\r\n\" style=\"fill:none;\"/>\r\n  </g>\r\n  <g id=\"axes_1\">\r\n   <g id=\"patch_2\">\r\n    <path d=\"M 28.942188 143.1 \r\nL 224.242188 143.1 \r\nL 224.242188 7.2 \r\nL 28.942188 7.2 \r\nz\r\n\" style=\"fill:#ffffff;\"/>\r\n   </g>\r\n   <g id=\"PathCollection_1\">\r\n    <defs>\r\n     <path d=\"M 0 3 \r\nC 0.795609 3 1.55874 2.683901 2.12132 2.12132 \r\nC 2.683901 1.55874 3 0.795609 3 0 \r\nC 3 -0.795609 2.683901 -1.55874 2.12132 -2.12132 \r\nC 1.55874 -2.683901 0.795609 -3 0 -3 \r\nC -0.795609 -3 -1.55874 -2.683901 -2.12132 -2.12132 \r\nC -2.683901 -1.55874 -3 -0.795609 -3 0 \r\nC -3 0.795609 -2.683901 1.55874 -2.12132 2.12132 \r\nC -1.55874 2.683901 -0.795609 3 0 3 \r\nz\r\n\" id=\"mf20c30d07e\" style=\"stroke:#1f77b4;\"/>\r\n    </defs>\r\n    <g clip-path=\"url(#pdf62068710)\">\r\n     <use style=\"fill:#1f77b4;stroke:#1f77b4;\" x=\"78.087095\" xlink:href=\"#mf20c30d07e\" y=\"94.607061\"/>\r\n     <use style=\"fill:#1f77b4;stroke:#1f77b4;\" x=\"103.97979\" xlink:href=\"#mf20c30d07e\" y=\"68.685032\"/>\r\n     <use style=\"fill:#1f77b4;stroke:#1f77b4;\" x=\"112.748547\" xlink:href=\"#mf20c30d07e\" y=\"82.793763\"/>\r\n     <use style=\"fill:#1f77b4;stroke:#1f77b4;\" x=\"158.026822\" xlink:href=\"#mf20c30d07e\" y=\"63.101305\"/>\r\n     <use style=\"fill:#1f77b4;stroke:#1f77b4;\" x=\"152.95663\" xlink:href=\"#mf20c30d07e\" y=\"72.86084\"/>\r\n     <use style=\"fill:#1f77b4;stroke:#1f77b4;\" x=\"215.364915\" xlink:href=\"#mf20c30d07e\" y=\"13.377273\"/>\r\n     <use style=\"fill:#1f77b4;stroke:#1f77b4;\" x=\"151.390013\" xlink:href=\"#mf20c30d07e\" y=\"68.541762\"/>\r\n     <use style=\"fill:#1f77b4;stroke:#1f77b4;\" x=\"126.485441\" xlink:href=\"#mf20c30d07e\" y=\"75.989936\"/>\r\n     <use style=\"fill:#1f77b4;stroke:#1f77b4;\" x=\"172.175174\" xlink:href=\"#mf20c30d07e\" y=\"56.399946\"/>\r\n     <use style=\"fill:#1f77b4;stroke:#1f77b4;\" x=\"144.962784\" xlink:href=\"#mf20c30d07e\" y=\"76.332546\"/>\r\n     <use style=\"fill:#1f77b4;stroke:#1f77b4;\" x=\"66.548798\" xlink:href=\"#mf20c30d07e\" y=\"115.605887\"/>\r\n     <use style=\"fill:#1f77b4;stroke:#1f77b4;\" x=\"100.746552\" xlink:href=\"#mf20c30d07e\" y=\"95.054039\"/>\r\n     <use style=\"fill:#1f77b4;stroke:#1f77b4;\" x=\"126.964844\" xlink:href=\"#mf20c30d07e\" y=\"89.930796\"/>\r\n     <use style=\"fill:#1f77b4;stroke:#1f77b4;\" x=\"126.006498\" xlink:href=\"#mf20c30d07e\" y=\"85.776414\"/>\r\n     <use style=\"fill:#1f77b4;stroke:#1f77b4;\" x=\"205.126786\" xlink:href=\"#mf20c30d07e\" y=\"24.434175\"/>\r\n     <use style=\"fill:#1f77b4;stroke:#1f77b4;\" x=\"110.369106\" xlink:href=\"#mf20c30d07e\" y=\"73.904407\"/>\r\n     <use style=\"fill:#1f77b4;stroke:#1f77b4;\" x=\"166.201645\" xlink:href=\"#mf20c30d07e\" y=\"51.265623\"/>\r\n     <use style=\"fill:#1f77b4;stroke:#1f77b4;\" x=\"110.290113\" xlink:href=\"#mf20c30d07e\" y=\"90.184837\"/>\r\n     <use style=\"fill:#1f77b4;stroke:#1f77b4;\" x=\"71.531825\" xlink:href=\"#mf20c30d07e\" y=\"107.3545\"/>\r\n     <use style=\"fill:#1f77b4;stroke:#1f77b4;\" x=\"152.105565\" xlink:href=\"#mf20c30d07e\" y=\"57.668478\"/>\r\n     <use style=\"fill:#1f77b4;stroke:#1f77b4;\" x=\"117.958379\" xlink:href=\"#mf20c30d07e\" y=\"78.630371\"/>\r\n     <use style=\"fill:#1f77b4;stroke:#1f77b4;\" x=\"125.739994\" xlink:href=\"#mf20c30d07e\" y=\"73.968004\"/>\r\n     <use style=\"fill:#1f77b4;stroke:#1f77b4;\" x=\"104.938122\" xlink:href=\"#mf20c30d07e\" y=\"96.111609\"/>\r\n     <use style=\"fill:#1f77b4;stroke:#1f77b4;\" x=\"184.84112\" xlink:href=\"#mf20c30d07e\" y=\"43.158146\"/>\r\n     <use style=\"fill:#1f77b4;stroke:#1f77b4;\" x=\"205.319327\" xlink:href=\"#mf20c30d07e\" y=\"24.427295\"/>\r\n     <use style=\"fill:#1f77b4;stroke:#1f77b4;\" x=\"43.803975\" xlink:href=\"#mf20c30d07e\" y=\"136.922727\"/>\r\n     <use style=\"fill:#1f77b4;stroke:#1f77b4;\" x=\"189.213837\" xlink:href=\"#mf20c30d07e\" y=\"37.614978\"/>\r\n     <use style=\"fill:#1f77b4;stroke:#1f77b4;\" x=\"200.045732\" xlink:href=\"#mf20c30d07e\" y=\"42.517702\"/>\r\n     <use style=\"fill:#1f77b4;stroke:#1f77b4;\" x=\"157.33727\" xlink:href=\"#mf20c30d07e\" y=\"62.082792\"/>\r\n     <use style=\"fill:#1f77b4;stroke:#1f77b4;\" x=\"93.173997\" xlink:href=\"#mf20c30d07e\" y=\"107.983505\"/>\r\n     <use style=\"fill:#1f77b4;stroke:#1f77b4;\" x=\"125.428456\" xlink:href=\"#mf20c30d07e\" y=\"60.936129\"/>\r\n     <use style=\"fill:#1f77b4;stroke:#1f77b4;\" x=\"138.612189\" xlink:href=\"#mf20c30d07e\" y=\"67.374479\"/>\r\n     <use style=\"fill:#1f77b4;stroke:#1f77b4;\" x=\"125.842547\" xlink:href=\"#mf20c30d07e\" y=\"74.387795\"/>\r\n     <use style=\"fill:#1f77b4;stroke:#1f77b4;\" x=\"108.903408\" xlink:href=\"#mf20c30d07e\" y=\"91.492389\"/>\r\n     <use style=\"fill:#1f77b4;stroke:#1f77b4;\" x=\"167.981775\" xlink:href=\"#mf20c30d07e\" y=\"49.320549\"/>\r\n     <use style=\"fill:#1f77b4;stroke:#1f77b4;\" x=\"122.8656\" xlink:href=\"#mf20c30d07e\" y=\"88.646435\"/>\r\n     <use style=\"fill:#1f77b4;stroke:#1f77b4;\" x=\"145.285405\" xlink:href=\"#mf20c30d07e\" y=\"53.404623\"/>\r\n     <use style=\"fill:#1f77b4;stroke:#1f77b4;\" x=\"163.952216\" xlink:href=\"#mf20c30d07e\" y=\"49.466836\"/>\r\n     <use style=\"fill:#1f77b4;stroke:#1f77b4;\" x=\"142.672479\" xlink:href=\"#mf20c30d07e\" y=\"76.132426\"/>\r\n     <use style=\"fill:#1f77b4;stroke:#1f77b4;\" x=\"81.519459\" xlink:href=\"#mf20c30d07e\" y=\"113.167759\"/>\r\n     <use style=\"fill:#1f77b4;stroke:#1f77b4;\" x=\"185.323958\" xlink:href=\"#mf20c30d07e\" y=\"47.715025\"/>\r\n     <use style=\"fill:#1f77b4;stroke:#1f77b4;\" x=\"73.14006\" xlink:href=\"#mf20c30d07e\" y=\"122.134281\"/>\r\n     <use style=\"fill:#1f77b4;stroke:#1f77b4;\" x=\"113.510037\" xlink:href=\"#mf20c30d07e\" y=\"78.918739\"/>\r\n     <use style=\"fill:#1f77b4;stroke:#1f77b4;\" x=\"194.02432\" xlink:href=\"#mf20c30d07e\" y=\"32.115082\"/>\r\n     <use style=\"fill:#1f77b4;stroke:#1f77b4;\" x=\"153.324823\" xlink:href=\"#mf20c30d07e\" y=\"53.522726\"/>\r\n     <use style=\"fill:#1f77b4;stroke:#1f77b4;\" x=\"180.674068\" xlink:href=\"#mf20c30d07e\" y=\"45.740507\"/>\r\n     <use style=\"fill:#1f77b4;stroke:#1f77b4;\" x=\"134.385199\" xlink:href=\"#mf20c30d07e\" y=\"50.740873\"/>\r\n     <use style=\"fill:#1f77b4;stroke:#1f77b4;\" x=\"105.865836\" xlink:href=\"#mf20c30d07e\" y=\"72.433002\"/>\r\n     <use style=\"fill:#1f77b4;stroke:#1f77b4;\" x=\"126.998826\" xlink:href=\"#mf20c30d07e\" y=\"63.128368\"/>\r\n     <use style=\"fill:#1f77b4;stroke:#1f77b4;\" x=\"162.334687\" xlink:href=\"#mf20c30d07e\" y=\"42.386598\"/>\r\n     <use style=\"fill:#1f77b4;stroke:#1f77b4;\" x=\"134.403014\" xlink:href=\"#mf20c30d07e\" y=\"90.294081\"/>\r\n     <use style=\"fill:#1f77b4;stroke:#1f77b4;\" x=\"152.12387\" xlink:href=\"#mf20c30d07e\" y=\"77.517119\"/>\r\n     <use style=\"fill:#1f77b4;stroke:#1f77b4;\" x=\"105.770605\" xlink:href=\"#mf20c30d07e\" y=\"86.154619\"/>\r\n     <use style=\"fill:#1f77b4;stroke:#1f77b4;\" x=\"127.555552\" xlink:href=\"#mf20c30d07e\" y=\"72.845836\"/>\r\n     <use style=\"fill:#1f77b4;stroke:#1f77b4;\" x=\"139.721236\" xlink:href=\"#mf20c30d07e\" y=\"71.032512\"/>\r\n     <use style=\"fill:#1f77b4;stroke:#1f77b4;\" x=\"59.771206\" xlink:href=\"#mf20c30d07e\" y=\"112.736509\"/>\r\n     <use style=\"fill:#1f77b4;stroke:#1f77b4;\" x=\"155.828285\" xlink:href=\"#mf20c30d07e\" y=\"55.781078\"/>\r\n     <use style=\"fill:#1f77b4;stroke:#1f77b4;\" x=\"152.878214\" xlink:href=\"#mf20c30d07e\" y=\"56.691506\"/>\r\n     <use style=\"fill:#1f77b4;stroke:#1f77b4;\" x=\"92.405774\" xlink:href=\"#mf20c30d07e\" y=\"114.44549\"/>\r\n     <use style=\"fill:#1f77b4;stroke:#1f77b4;\" x=\"195.744899\" xlink:href=\"#mf20c30d07e\" y=\"41.989216\"/>\r\n     <use style=\"fill:#1f77b4;stroke:#1f77b4;\" x=\"37.81946\" xlink:href=\"#mf20c30d07e\" y=\"136.544162\"/>\r\n     <use style=\"fill:#1f77b4;stroke:#1f77b4;\" x=\"121.162795\" xlink:href=\"#mf20c30d07e\" y=\"76.609255\"/>\r\n     <use style=\"fill:#1f77b4;stroke:#1f77b4;\" x=\"149.964115\" xlink:href=\"#mf20c30d07e\" y=\"44.50726\"/>\r\n     <use style=\"fill:#1f77b4;stroke:#1f77b4;\" x=\"65.911806\" xlink:href=\"#mf20c30d07e\" y=\"110.69995\"/>\r\n     <use style=\"fill:#1f77b4;stroke:#1f77b4;\" x=\"87.384096\" xlink:href=\"#mf20c30d07e\" y=\"111.05326\"/>\r\n     <use style=\"fill:#1f77b4;stroke:#1f77b4;\" x=\"76.453993\" xlink:href=\"#mf20c30d07e\" y=\"123.572678\"/>\r\n     <use style=\"fill:#1f77b4;stroke:#1f77b4;\" x=\"182.683528\" xlink:href=\"#mf20c30d07e\" y=\"50.458593\"/>\r\n     <use style=\"fill:#1f77b4;stroke:#1f77b4;\" x=\"155.734513\" xlink:href=\"#mf20c30d07e\" y=\"53.008389\"/>\r\n     <use style=\"fill:#1f77b4;stroke:#1f77b4;\" x=\"173.011581\" xlink:href=\"#mf20c30d07e\" y=\"46.145946\"/>\r\n     <use style=\"fill:#1f77b4;stroke:#1f77b4;\" x=\"93.165074\" xlink:href=\"#mf20c30d07e\" y=\"102.609449\"/>\r\n     <use style=\"fill:#1f77b4;stroke:#1f77b4;\" x=\"114.672683\" xlink:href=\"#mf20c30d07e\" y=\"90.935323\"/>\r\n     <use style=\"fill:#1f77b4;stroke:#1f77b4;\" x=\"177.002086\" xlink:href=\"#mf20c30d07e\" y=\"30.261702\"/>\r\n     <use style=\"fill:#1f77b4;stroke:#1f77b4;\" x=\"82.380931\" xlink:href=\"#mf20c30d07e\" y=\"90.544742\"/>\r\n     <use style=\"fill:#1f77b4;stroke:#1f77b4;\" x=\"166.733538\" xlink:href=\"#mf20c30d07e\" y=\"36.48596\"/>\r\n     <use style=\"fill:#1f77b4;stroke:#1f77b4;\" x=\"112.213398\" xlink:href=\"#mf20c30d07e\" y=\"89.441578\"/>\r\n     <use style=\"fill:#1f77b4;stroke:#1f77b4;\" x=\"155.485093\" xlink:href=\"#mf20c30d07e\" y=\"53.782737\"/>\r\n     <use style=\"fill:#1f77b4;stroke:#1f77b4;\" x=\"100.07669\" xlink:href=\"#mf20c30d07e\" y=\"92.606986\"/>\r\n     <use style=\"fill:#1f77b4;stroke:#1f77b4;\" x=\"133.861159\" xlink:href=\"#mf20c30d07e\" y=\"74.700127\"/>\r\n     <use style=\"fill:#1f77b4;stroke:#1f77b4;\" x=\"155.372259\" xlink:href=\"#mf20c30d07e\" y=\"55.172662\"/>\r\n     <use style=\"fill:#1f77b4;stroke:#1f77b4;\" x=\"71.165973\" xlink:href=\"#mf20c30d07e\" y=\"89.8201\"/>\r\n     <use style=\"fill:#1f77b4;stroke:#1f77b4;\" x=\"130.326685\" xlink:href=\"#mf20c30d07e\" y=\"83.157533\"/>\r\n     <use style=\"fill:#1f77b4;stroke:#1f77b4;\" x=\"201.02368\" xlink:href=\"#mf20c30d07e\" y=\"29.06291\"/>\r\n     <use style=\"fill:#1f77b4;stroke:#1f77b4;\" x=\"57.721979\" xlink:href=\"#mf20c30d07e\" y=\"112.897195\"/>\r\n     <use style=\"fill:#1f77b4;stroke:#1f77b4;\" x=\"143.964329\" xlink:href=\"#mf20c30d07e\" y=\"75.845311\"/>\r\n     <use style=\"fill:#1f77b4;stroke:#1f77b4;\" x=\"150.033114\" xlink:href=\"#mf20c30d07e\" y=\"73.766731\"/>\r\n     <use style=\"fill:#1f77b4;stroke:#1f77b4;\" x=\"62.979936\" xlink:href=\"#mf20c30d07e\" y=\"114.725839\"/>\r\n     <use style=\"fill:#1f77b4;stroke:#1f77b4;\" x=\"153.124844\" xlink:href=\"#mf20c30d07e\" y=\"65.560321\"/>\r\n     <use style=\"fill:#1f77b4;stroke:#1f77b4;\" x=\"164.507556\" xlink:href=\"#mf20c30d07e\" y=\"63.84226\"/>\r\n     <use style=\"fill:#1f77b4;stroke:#1f77b4;\" x=\"136.137998\" xlink:href=\"#mf20c30d07e\" y=\"64.079161\"/>\r\n     <use style=\"fill:#1f77b4;stroke:#1f77b4;\" x=\"150.71603\" xlink:href=\"#mf20c30d07e\" y=\"57.824622\"/>\r\n     <use style=\"fill:#1f77b4;stroke:#1f77b4;\" x=\"195.638483\" xlink:href=\"#mf20c30d07e\" y=\"46.049183\"/>\r\n     <use style=\"fill:#1f77b4;stroke:#1f77b4;\" x=\"95.101794\" xlink:href=\"#mf20c30d07e\" y=\"102.603895\"/>\r\n     <use style=\"fill:#1f77b4;stroke:#1f77b4;\" x=\"125.317104\" xlink:href=\"#mf20c30d07e\" y=\"81.230082\"/>\r\n     <use style=\"fill:#1f77b4;stroke:#1f77b4;\" x=\"168.656125\" xlink:href=\"#mf20c30d07e\" y=\"37.703373\"/>\r\n     <use style=\"fill:#1f77b4;stroke:#1f77b4;\" x=\"88.422685\" xlink:href=\"#mf20c30d07e\" y=\"85.649315\"/>\r\n     <use style=\"fill:#1f77b4;stroke:#1f77b4;\" x=\"137.705946\" xlink:href=\"#mf20c30d07e\" y=\"61.909494\"/>\r\n     <use style=\"fill:#1f77b4;stroke:#1f77b4;\" x=\"121.229458\" xlink:href=\"#mf20c30d07e\" y=\"91.750941\"/>\r\n     <use style=\"fill:#1f77b4;stroke:#1f77b4;\" x=\"114.105795\" xlink:href=\"#mf20c30d07e\" y=\"85.499582\"/>\r\n     <use style=\"fill:#1f77b4;stroke:#1f77b4;\" x=\"103.14916\" xlink:href=\"#mf20c30d07e\" y=\"81.879388\"/>\r\n     <use style=\"fill:#1f77b4;stroke:#1f77b4;\" x=\"188.568229\" xlink:href=\"#mf20c30d07e\" y=\"43.405661\"/>\r\n    </g>\r\n   </g>\r\n   <g id=\"matplotlib.axis_1\">\r\n    <g id=\"xtick_1\">\r\n     <g id=\"line2d_1\">\r\n      <defs>\r\n       <path d=\"M 0 0 \r\nL 0 3.5 \r\n\" id=\"ma65e4f2920\" style=\"stroke:#000000;stroke-width:0.8;\"/>\r\n      </defs>\r\n      <g>\r\n       <use style=\"stroke:#000000;stroke-width:0.8;\" x=\"43.224442\" xlink:href=\"#ma65e4f2920\" y=\"143.1\"/>\r\n      </g>\r\n     </g>\r\n     <g id=\"text_1\">\r\n      <!-- −1 -->\r\n      <g transform=\"translate(35.853348 157.698438)scale(0.1 -0.1)\">\r\n       <defs>\r\n        <path d=\"M 10.59375 35.5 \r\nL 73.1875 35.5 \r\nL 73.1875 27.203125 \r\nL 10.59375 27.203125 \r\nz\r\n\" id=\"DejaVuSans-8722\"/>\r\n        <path d=\"M 12.40625 8.296875 \r\nL 28.515625 8.296875 \r\nL 28.515625 63.921875 \r\nL 10.984375 60.40625 \r\nL 10.984375 69.390625 \r\nL 28.421875 72.90625 \r\nL 38.28125 72.90625 \r\nL 38.28125 8.296875 \r\nL 54.390625 8.296875 \r\nL 54.390625 0 \r\nL 12.40625 0 \r\nz\r\n\" id=\"DejaVuSans-49\"/>\r\n       </defs>\r\n       <use xlink:href=\"#DejaVuSans-8722\"/>\r\n       <use x=\"83.789062\" xlink:href=\"#DejaVuSans-49\"/>\r\n      </g>\r\n     </g>\r\n    </g>\r\n    <g id=\"xtick_2\">\r\n     <g id=\"line2d_2\">\r\n      <g>\r\n       <use style=\"stroke:#000000;stroke-width:0.8;\" x=\"84.736548\" xlink:href=\"#ma65e4f2920\" y=\"143.1\"/>\r\n      </g>\r\n     </g>\r\n     <g id=\"text_2\">\r\n      <!-- 0 -->\r\n      <g transform=\"translate(81.555298 157.698438)scale(0.1 -0.1)\">\r\n       <defs>\r\n        <path d=\"M 31.78125 66.40625 \r\nQ 24.171875 66.40625 20.328125 58.90625 \r\nQ 16.5 51.421875 16.5 36.375 \r\nQ 16.5 21.390625 20.328125 13.890625 \r\nQ 24.171875 6.390625 31.78125 6.390625 \r\nQ 39.453125 6.390625 43.28125 13.890625 \r\nQ 47.125 21.390625 47.125 36.375 \r\nQ 47.125 51.421875 43.28125 58.90625 \r\nQ 39.453125 66.40625 31.78125 66.40625 \r\nz\r\nM 31.78125 74.21875 \r\nQ 44.046875 74.21875 50.515625 64.515625 \r\nQ 56.984375 54.828125 56.984375 36.375 \r\nQ 56.984375 17.96875 50.515625 8.265625 \r\nQ 44.046875 -1.421875 31.78125 -1.421875 \r\nQ 19.53125 -1.421875 13.0625 8.265625 \r\nQ 6.59375 17.96875 6.59375 36.375 \r\nQ 6.59375 54.828125 13.0625 64.515625 \r\nQ 19.53125 74.21875 31.78125 74.21875 \r\nz\r\n\" id=\"DejaVuSans-48\"/>\r\n       </defs>\r\n       <use xlink:href=\"#DejaVuSans-48\"/>\r\n      </g>\r\n     </g>\r\n    </g>\r\n    <g id=\"xtick_3\">\r\n     <g id=\"line2d_3\">\r\n      <g>\r\n       <use style=\"stroke:#000000;stroke-width:0.8;\" x=\"126.248654\" xlink:href=\"#ma65e4f2920\" y=\"143.1\"/>\r\n      </g>\r\n     </g>\r\n     <g id=\"text_3\">\r\n      <!-- 1 -->\r\n      <g transform=\"translate(123.067404 157.698438)scale(0.1 -0.1)\">\r\n       <use xlink:href=\"#DejaVuSans-49\"/>\r\n      </g>\r\n     </g>\r\n    </g>\r\n    <g id=\"xtick_4\">\r\n     <g id=\"line2d_4\">\r\n      <g>\r\n       <use style=\"stroke:#000000;stroke-width:0.8;\" x=\"167.76076\" xlink:href=\"#ma65e4f2920\" y=\"143.1\"/>\r\n      </g>\r\n     </g>\r\n     <g id=\"text_4\">\r\n      <!-- 2 -->\r\n      <g transform=\"translate(164.57951 157.698438)scale(0.1 -0.1)\">\r\n       <defs>\r\n        <path d=\"M 19.1875 8.296875 \r\nL 53.609375 8.296875 \r\nL 53.609375 0 \r\nL 7.328125 0 \r\nL 7.328125 8.296875 \r\nQ 12.9375 14.109375 22.625 23.890625 \r\nQ 32.328125 33.6875 34.8125 36.53125 \r\nQ 39.546875 41.84375 41.421875 45.53125 \r\nQ 43.3125 49.21875 43.3125 52.78125 \r\nQ 43.3125 58.59375 39.234375 62.25 \r\nQ 35.15625 65.921875 28.609375 65.921875 \r\nQ 23.96875 65.921875 18.8125 64.3125 \r\nQ 13.671875 62.703125 7.8125 59.421875 \r\nL 7.8125 69.390625 \r\nQ 13.765625 71.78125 18.9375 73 \r\nQ 24.125 74.21875 28.421875 74.21875 \r\nQ 39.75 74.21875 46.484375 68.546875 \r\nQ 53.21875 62.890625 53.21875 53.421875 \r\nQ 53.21875 48.921875 51.53125 44.890625 \r\nQ 49.859375 40.875 45.40625 35.40625 \r\nQ 44.1875 33.984375 37.640625 27.21875 \r\nQ 31.109375 20.453125 19.1875 8.296875 \r\nz\r\n\" id=\"DejaVuSans-50\"/>\r\n       </defs>\r\n       <use xlink:href=\"#DejaVuSans-50\"/>\r\n      </g>\r\n     </g>\r\n    </g>\r\n    <g id=\"xtick_5\">\r\n     <g id=\"line2d_5\">\r\n      <g>\r\n       <use style=\"stroke:#000000;stroke-width:0.8;\" x=\"209.272866\" xlink:href=\"#ma65e4f2920\" y=\"143.1\"/>\r\n      </g>\r\n     </g>\r\n     <g id=\"text_5\">\r\n      <!-- 3 -->\r\n      <g transform=\"translate(206.091616 157.698438)scale(0.1 -0.1)\">\r\n       <defs>\r\n        <path d=\"M 40.578125 39.3125 \r\nQ 47.65625 37.796875 51.625 33 \r\nQ 55.609375 28.21875 55.609375 21.1875 \r\nQ 55.609375 10.40625 48.1875 4.484375 \r\nQ 40.765625 -1.421875 27.09375 -1.421875 \r\nQ 22.515625 -1.421875 17.65625 -0.515625 \r\nQ 12.796875 0.390625 7.625 2.203125 \r\nL 7.625 11.71875 \r\nQ 11.71875 9.328125 16.59375 8.109375 \r\nQ 21.484375 6.890625 26.8125 6.890625 \r\nQ 36.078125 6.890625 40.9375 10.546875 \r\nQ 45.796875 14.203125 45.796875 21.1875 \r\nQ 45.796875 27.640625 41.28125 31.265625 \r\nQ 36.765625 34.90625 28.71875 34.90625 \r\nL 20.21875 34.90625 \r\nL 20.21875 43.015625 \r\nL 29.109375 43.015625 \r\nQ 36.375 43.015625 40.234375 45.921875 \r\nQ 44.09375 48.828125 44.09375 54.296875 \r\nQ 44.09375 59.90625 40.109375 62.90625 \r\nQ 36.140625 65.921875 28.71875 65.921875 \r\nQ 24.65625 65.921875 20.015625 65.03125 \r\nQ 15.375 64.15625 9.8125 62.3125 \r\nL 9.8125 71.09375 \r\nQ 15.4375 72.65625 20.34375 73.4375 \r\nQ 25.25 74.21875 29.59375 74.21875 \r\nQ 40.828125 74.21875 47.359375 69.109375 \r\nQ 53.90625 64.015625 53.90625 55.328125 \r\nQ 53.90625 49.265625 50.4375 45.09375 \r\nQ 46.96875 40.921875 40.578125 39.3125 \r\nz\r\n\" id=\"DejaVuSans-51\"/>\r\n       </defs>\r\n       <use xlink:href=\"#DejaVuSans-51\"/>\r\n      </g>\r\n     </g>\r\n    </g>\r\n   </g>\r\n   <g id=\"matplotlib.axis_2\">\r\n    <g id=\"ytick_1\">\r\n     <g id=\"line2d_6\">\r\n      <defs>\r\n       <path d=\"M 0 0 \r\nL -3.5 0 \r\n\" id=\"me505d2b815\" style=\"stroke:#000000;stroke-width:0.8;\"/>\r\n      </defs>\r\n      <g>\r\n       <use style=\"stroke:#000000;stroke-width:0.8;\" x=\"28.942188\" xlink:href=\"#me505d2b815\" y=\"127.709144\"/>\r\n      </g>\r\n     </g>\r\n     <g id=\"text_6\">\r\n      <!-- −2 -->\r\n      <g transform=\"translate(7.2 131.508363)scale(0.1 -0.1)\">\r\n       <use xlink:href=\"#DejaVuSans-8722\"/>\r\n       <use x=\"83.789062\" xlink:href=\"#DejaVuSans-50\"/>\r\n      </g>\r\n     </g>\r\n    </g>\r\n    <g id=\"ytick_2\">\r\n     <g id=\"line2d_7\">\r\n      <g>\r\n       <use style=\"stroke:#000000;stroke-width:0.8;\" x=\"28.942188\" xlink:href=\"#me505d2b815\" y=\"102.637833\"/>\r\n      </g>\r\n     </g>\r\n     <g id=\"text_7\">\r\n      <!-- 0 -->\r\n      <g transform=\"translate(15.579688 106.437052)scale(0.1 -0.1)\">\r\n       <use xlink:href=\"#DejaVuSans-48\"/>\r\n      </g>\r\n     </g>\r\n    </g>\r\n    <g id=\"ytick_3\">\r\n     <g id=\"line2d_8\">\r\n      <g>\r\n       <use style=\"stroke:#000000;stroke-width:0.8;\" x=\"28.942188\" xlink:href=\"#me505d2b815\" y=\"77.566522\"/>\r\n      </g>\r\n     </g>\r\n     <g id=\"text_8\">\r\n      <!-- 2 -->\r\n      <g transform=\"translate(15.579688 81.365741)scale(0.1 -0.1)\">\r\n       <use xlink:href=\"#DejaVuSans-50\"/>\r\n      </g>\r\n     </g>\r\n    </g>\r\n    <g id=\"ytick_4\">\r\n     <g id=\"line2d_9\">\r\n      <g>\r\n       <use style=\"stroke:#000000;stroke-width:0.8;\" x=\"28.942188\" xlink:href=\"#me505d2b815\" y=\"52.495211\"/>\r\n      </g>\r\n     </g>\r\n     <g id=\"text_9\">\r\n      <!-- 4 -->\r\n      <g transform=\"translate(15.579688 56.29443)scale(0.1 -0.1)\">\r\n       <defs>\r\n        <path d=\"M 37.796875 64.3125 \r\nL 12.890625 25.390625 \r\nL 37.796875 25.390625 \r\nz\r\nM 35.203125 72.90625 \r\nL 47.609375 72.90625 \r\nL 47.609375 25.390625 \r\nL 58.015625 25.390625 \r\nL 58.015625 17.1875 \r\nL 47.609375 17.1875 \r\nL 47.609375 0 \r\nL 37.796875 0 \r\nL 37.796875 17.1875 \r\nL 4.890625 17.1875 \r\nL 4.890625 26.703125 \r\nz\r\n\" id=\"DejaVuSans-52\"/>\r\n       </defs>\r\n       <use xlink:href=\"#DejaVuSans-52\"/>\r\n      </g>\r\n     </g>\r\n    </g>\r\n    <g id=\"ytick_5\">\r\n     <g id=\"line2d_10\">\r\n      <g>\r\n       <use style=\"stroke:#000000;stroke-width:0.8;\" x=\"28.942188\" xlink:href=\"#me505d2b815\" y=\"27.4239\"/>\r\n      </g>\r\n     </g>\r\n     <g id=\"text_10\">\r\n      <!-- 6 -->\r\n      <g transform=\"translate(15.579688 31.223119)scale(0.1 -0.1)\">\r\n       <defs>\r\n        <path d=\"M 33.015625 40.375 \r\nQ 26.375 40.375 22.484375 35.828125 \r\nQ 18.609375 31.296875 18.609375 23.390625 \r\nQ 18.609375 15.53125 22.484375 10.953125 \r\nQ 26.375 6.390625 33.015625 6.390625 \r\nQ 39.65625 6.390625 43.53125 10.953125 \r\nQ 47.40625 15.53125 47.40625 23.390625 \r\nQ 47.40625 31.296875 43.53125 35.828125 \r\nQ 39.65625 40.375 33.015625 40.375 \r\nz\r\nM 52.59375 71.296875 \r\nL 52.59375 62.3125 \r\nQ 48.875 64.0625 45.09375 64.984375 \r\nQ 41.3125 65.921875 37.59375 65.921875 \r\nQ 27.828125 65.921875 22.671875 59.328125 \r\nQ 17.53125 52.734375 16.796875 39.40625 \r\nQ 19.671875 43.65625 24.015625 45.921875 \r\nQ 28.375 48.1875 33.59375 48.1875 \r\nQ 44.578125 48.1875 50.953125 41.515625 \r\nQ 57.328125 34.859375 57.328125 23.390625 \r\nQ 57.328125 12.15625 50.6875 5.359375 \r\nQ 44.046875 -1.421875 33.015625 -1.421875 \r\nQ 20.359375 -1.421875 13.671875 8.265625 \r\nQ 6.984375 17.96875 6.984375 36.375 \r\nQ 6.984375 53.65625 15.1875 63.9375 \r\nQ 23.390625 74.21875 37.203125 74.21875 \r\nQ 40.921875 74.21875 44.703125 73.484375 \r\nQ 48.484375 72.75 52.59375 71.296875 \r\nz\r\n\" id=\"DejaVuSans-54\"/>\r\n       </defs>\r\n       <use xlink:href=\"#DejaVuSans-54\"/>\r\n      </g>\r\n     </g>\r\n    </g>\r\n   </g>\r\n   <g id=\"patch_3\">\r\n    <path d=\"M 28.942188 143.1 \r\nL 28.942188 7.2 \r\n\" style=\"fill:none;stroke:#000000;stroke-linecap:square;stroke-linejoin:miter;stroke-width:0.8;\"/>\r\n   </g>\r\n   <g id=\"patch_4\">\r\n    <path d=\"M 224.242188 143.1 \r\nL 224.242188 7.2 \r\n\" style=\"fill:none;stroke:#000000;stroke-linecap:square;stroke-linejoin:miter;stroke-width:0.8;\"/>\r\n   </g>\r\n   <g id=\"patch_5\">\r\n    <path d=\"M 28.942187 143.1 \r\nL 224.242188 143.1 \r\n\" style=\"fill:none;stroke:#000000;stroke-linecap:square;stroke-linejoin:miter;stroke-width:0.8;\"/>\r\n   </g>\r\n   <g id=\"patch_6\">\r\n    <path d=\"M 28.942187 7.2 \r\nL 224.242188 7.2 \r\n\" style=\"fill:none;stroke:#000000;stroke-linecap:square;stroke-linejoin:miter;stroke-width:0.8;\"/>\r\n   </g>\r\n  </g>\r\n </g>\r\n <defs>\r\n  <clipPath id=\"pdf62068710\">\r\n   <rect height=\"135.9\" width=\"195.3\" x=\"28.942188\" y=\"7.2\"/>\r\n  </clipPath>\r\n </defs>\r\n</svg>\r\n"
     },
     "metadata": {
      "needs_background": "light"
     }
    }
   ],
   "source": [
    "d2l.plt.scatter(data[:100, 0].numpy(), data[:100, 1].numpy())"
   ]
  },
  {
   "cell_type": "code",
   "execution_count": 18,
   "metadata": {},
   "outputs": [
    {
     "output_type": "display_data",
     "data": {
      "text/plain": "<Figure size 252x180 with 1 Axes>",
      "image/svg+xml": "<?xml version=\"1.0\" encoding=\"utf-8\" standalone=\"no\"?>\r\n<!DOCTYPE svg PUBLIC \"-//W3C//DTD SVG 1.1//EN\"\r\n  \"http://www.w3.org/Graphics/SVG/1.1/DTD/svg11.dtd\">\r\n<!-- Created with matplotlib (https://matplotlib.org/) -->\r\n<svg height=\"166.978125pt\" version=\"1.1\" viewBox=\"0 0 231.442187 166.978125\" width=\"231.442187pt\" xmlns=\"http://www.w3.org/2000/svg\" xmlns:xlink=\"http://www.w3.org/1999/xlink\">\r\n <metadata>\r\n  <rdf:RDF xmlns:cc=\"http://creativecommons.org/ns#\" xmlns:dc=\"http://purl.org/dc/elements/1.1/\" xmlns:rdf=\"http://www.w3.org/1999/02/22-rdf-syntax-ns#\">\r\n   <cc:Work>\r\n    <dc:type rdf:resource=\"http://purl.org/dc/dcmitype/StillImage\"/>\r\n    <dc:date>2020-08-06T18:58:25.295774</dc:date>\r\n    <dc:format>image/svg+xml</dc:format>\r\n    <dc:creator>\r\n     <cc:Agent>\r\n      <dc:title>Matplotlib v3.3.0, https://matplotlib.org/</dc:title>\r\n     </cc:Agent>\r\n    </dc:creator>\r\n   </cc:Work>\r\n  </rdf:RDF>\r\n </metadata>\r\n <defs>\r\n  <style type=\"text/css\">*{stroke-linecap:butt;stroke-linejoin:round;}</style>\r\n </defs>\r\n <g id=\"figure_1\">\r\n  <g id=\"patch_1\">\r\n   <path d=\"M 0 166.978125 \r\nL 231.442187 166.978125 \r\nL 231.442187 0 \r\nL 0 0 \r\nz\r\n\" style=\"fill:none;\"/>\r\n  </g>\r\n  <g id=\"axes_1\">\r\n   <g id=\"patch_2\">\r\n    <path d=\"M 28.942188 143.1 \r\nL 224.242188 143.1 \r\nL 224.242188 7.2 \r\nL 28.942188 7.2 \r\nz\r\n\" style=\"fill:#ffffff;\"/>\r\n   </g>\r\n   <g id=\"PathCollection_1\">\r\n    <defs>\r\n     <path d=\"M 0 3 \r\nC 0.795609 3 1.55874 2.683901 2.12132 2.12132 \r\nC 2.683901 1.55874 3 0.795609 3 0 \r\nC 3 -0.795609 2.683901 -1.55874 2.12132 -2.12132 \r\nC 1.55874 -2.683901 0.795609 -3 0 -3 \r\nC -0.795609 -3 -1.55874 -2.683901 -2.12132 -2.12132 \r\nC -2.683901 -1.55874 -3 -0.795609 -3 0 \r\nC -3 0.795609 -2.683901 1.55874 -2.12132 2.12132 \r\nC -1.55874 2.683901 -0.795609 3 0 3 \r\nz\r\n\" id=\"m8cb3683ed3\" style=\"stroke:#1f77b4;\"/>\r\n    </defs>\r\n    <g clip-path=\"url(#p35269131cc)\">\r\n     <use style=\"fill:#1f77b4;stroke:#1f77b4;\" x=\"78.087095\" xlink:href=\"#m8cb3683ed3\" y=\"94.607061\"/>\r\n     <use style=\"fill:#1f77b4;stroke:#1f77b4;\" x=\"103.97979\" xlink:href=\"#m8cb3683ed3\" y=\"68.685032\"/>\r\n     <use style=\"fill:#1f77b4;stroke:#1f77b4;\" x=\"112.748547\" xlink:href=\"#m8cb3683ed3\" y=\"82.793763\"/>\r\n     <use style=\"fill:#1f77b4;stroke:#1f77b4;\" x=\"158.026822\" xlink:href=\"#m8cb3683ed3\" y=\"63.101305\"/>\r\n     <use style=\"fill:#1f77b4;stroke:#1f77b4;\" x=\"152.95663\" xlink:href=\"#m8cb3683ed3\" y=\"72.86084\"/>\r\n     <use style=\"fill:#1f77b4;stroke:#1f77b4;\" x=\"215.364915\" xlink:href=\"#m8cb3683ed3\" y=\"13.377273\"/>\r\n     <use style=\"fill:#1f77b4;stroke:#1f77b4;\" x=\"151.390013\" xlink:href=\"#m8cb3683ed3\" y=\"68.541762\"/>\r\n     <use style=\"fill:#1f77b4;stroke:#1f77b4;\" x=\"126.485441\" xlink:href=\"#m8cb3683ed3\" y=\"75.989936\"/>\r\n     <use style=\"fill:#1f77b4;stroke:#1f77b4;\" x=\"172.175174\" xlink:href=\"#m8cb3683ed3\" y=\"56.399946\"/>\r\n     <use style=\"fill:#1f77b4;stroke:#1f77b4;\" x=\"144.962784\" xlink:href=\"#m8cb3683ed3\" y=\"76.332546\"/>\r\n     <use style=\"fill:#1f77b4;stroke:#1f77b4;\" x=\"66.548798\" xlink:href=\"#m8cb3683ed3\" y=\"115.605887\"/>\r\n     <use style=\"fill:#1f77b4;stroke:#1f77b4;\" x=\"100.746552\" xlink:href=\"#m8cb3683ed3\" y=\"95.054039\"/>\r\n     <use style=\"fill:#1f77b4;stroke:#1f77b4;\" x=\"126.964844\" xlink:href=\"#m8cb3683ed3\" y=\"89.930796\"/>\r\n     <use style=\"fill:#1f77b4;stroke:#1f77b4;\" x=\"126.006498\" xlink:href=\"#m8cb3683ed3\" y=\"85.776414\"/>\r\n     <use style=\"fill:#1f77b4;stroke:#1f77b4;\" x=\"205.126786\" xlink:href=\"#m8cb3683ed3\" y=\"24.434175\"/>\r\n     <use style=\"fill:#1f77b4;stroke:#1f77b4;\" x=\"110.369106\" xlink:href=\"#m8cb3683ed3\" y=\"73.904407\"/>\r\n     <use style=\"fill:#1f77b4;stroke:#1f77b4;\" x=\"166.201645\" xlink:href=\"#m8cb3683ed3\" y=\"51.265623\"/>\r\n     <use style=\"fill:#1f77b4;stroke:#1f77b4;\" x=\"110.290113\" xlink:href=\"#m8cb3683ed3\" y=\"90.184837\"/>\r\n     <use style=\"fill:#1f77b4;stroke:#1f77b4;\" x=\"71.531825\" xlink:href=\"#m8cb3683ed3\" y=\"107.3545\"/>\r\n     <use style=\"fill:#1f77b4;stroke:#1f77b4;\" x=\"152.105565\" xlink:href=\"#m8cb3683ed3\" y=\"57.668478\"/>\r\n     <use style=\"fill:#1f77b4;stroke:#1f77b4;\" x=\"117.958379\" xlink:href=\"#m8cb3683ed3\" y=\"78.630371\"/>\r\n     <use style=\"fill:#1f77b4;stroke:#1f77b4;\" x=\"125.739994\" xlink:href=\"#m8cb3683ed3\" y=\"73.968004\"/>\r\n     <use style=\"fill:#1f77b4;stroke:#1f77b4;\" x=\"104.938122\" xlink:href=\"#m8cb3683ed3\" y=\"96.111609\"/>\r\n     <use style=\"fill:#1f77b4;stroke:#1f77b4;\" x=\"184.84112\" xlink:href=\"#m8cb3683ed3\" y=\"43.158146\"/>\r\n     <use style=\"fill:#1f77b4;stroke:#1f77b4;\" x=\"205.319327\" xlink:href=\"#m8cb3683ed3\" y=\"24.427295\"/>\r\n     <use style=\"fill:#1f77b4;stroke:#1f77b4;\" x=\"43.803975\" xlink:href=\"#m8cb3683ed3\" y=\"136.922727\"/>\r\n     <use style=\"fill:#1f77b4;stroke:#1f77b4;\" x=\"189.213837\" xlink:href=\"#m8cb3683ed3\" y=\"37.614978\"/>\r\n     <use style=\"fill:#1f77b4;stroke:#1f77b4;\" x=\"200.045732\" xlink:href=\"#m8cb3683ed3\" y=\"42.517702\"/>\r\n     <use style=\"fill:#1f77b4;stroke:#1f77b4;\" x=\"157.33727\" xlink:href=\"#m8cb3683ed3\" y=\"62.082792\"/>\r\n     <use style=\"fill:#1f77b4;stroke:#1f77b4;\" x=\"93.173997\" xlink:href=\"#m8cb3683ed3\" y=\"107.983505\"/>\r\n     <use style=\"fill:#1f77b4;stroke:#1f77b4;\" x=\"125.428456\" xlink:href=\"#m8cb3683ed3\" y=\"60.936129\"/>\r\n     <use style=\"fill:#1f77b4;stroke:#1f77b4;\" x=\"138.612189\" xlink:href=\"#m8cb3683ed3\" y=\"67.374479\"/>\r\n     <use style=\"fill:#1f77b4;stroke:#1f77b4;\" x=\"125.842547\" xlink:href=\"#m8cb3683ed3\" y=\"74.387795\"/>\r\n     <use style=\"fill:#1f77b4;stroke:#1f77b4;\" x=\"108.903408\" xlink:href=\"#m8cb3683ed3\" y=\"91.492389\"/>\r\n     <use style=\"fill:#1f77b4;stroke:#1f77b4;\" x=\"167.981775\" xlink:href=\"#m8cb3683ed3\" y=\"49.320549\"/>\r\n     <use style=\"fill:#1f77b4;stroke:#1f77b4;\" x=\"122.8656\" xlink:href=\"#m8cb3683ed3\" y=\"88.646435\"/>\r\n     <use style=\"fill:#1f77b4;stroke:#1f77b4;\" x=\"145.285405\" xlink:href=\"#m8cb3683ed3\" y=\"53.404623\"/>\r\n     <use style=\"fill:#1f77b4;stroke:#1f77b4;\" x=\"163.952216\" xlink:href=\"#m8cb3683ed3\" y=\"49.466836\"/>\r\n     <use style=\"fill:#1f77b4;stroke:#1f77b4;\" x=\"142.672479\" xlink:href=\"#m8cb3683ed3\" y=\"76.132426\"/>\r\n     <use style=\"fill:#1f77b4;stroke:#1f77b4;\" x=\"81.519459\" xlink:href=\"#m8cb3683ed3\" y=\"113.167759\"/>\r\n     <use style=\"fill:#1f77b4;stroke:#1f77b4;\" x=\"185.323958\" xlink:href=\"#m8cb3683ed3\" y=\"47.715025\"/>\r\n     <use style=\"fill:#1f77b4;stroke:#1f77b4;\" x=\"73.14006\" xlink:href=\"#m8cb3683ed3\" y=\"122.134281\"/>\r\n     <use style=\"fill:#1f77b4;stroke:#1f77b4;\" x=\"113.510037\" xlink:href=\"#m8cb3683ed3\" y=\"78.918739\"/>\r\n     <use style=\"fill:#1f77b4;stroke:#1f77b4;\" x=\"194.02432\" xlink:href=\"#m8cb3683ed3\" y=\"32.115082\"/>\r\n     <use style=\"fill:#1f77b4;stroke:#1f77b4;\" x=\"153.324823\" xlink:href=\"#m8cb3683ed3\" y=\"53.522726\"/>\r\n     <use style=\"fill:#1f77b4;stroke:#1f77b4;\" x=\"180.674068\" xlink:href=\"#m8cb3683ed3\" y=\"45.740507\"/>\r\n     <use style=\"fill:#1f77b4;stroke:#1f77b4;\" x=\"134.385199\" xlink:href=\"#m8cb3683ed3\" y=\"50.740873\"/>\r\n     <use style=\"fill:#1f77b4;stroke:#1f77b4;\" x=\"105.865836\" xlink:href=\"#m8cb3683ed3\" y=\"72.433002\"/>\r\n     <use style=\"fill:#1f77b4;stroke:#1f77b4;\" x=\"126.998826\" xlink:href=\"#m8cb3683ed3\" y=\"63.128368\"/>\r\n     <use style=\"fill:#1f77b4;stroke:#1f77b4;\" x=\"162.334687\" xlink:href=\"#m8cb3683ed3\" y=\"42.386598\"/>\r\n     <use style=\"fill:#1f77b4;stroke:#1f77b4;\" x=\"134.403014\" xlink:href=\"#m8cb3683ed3\" y=\"90.294081\"/>\r\n     <use style=\"fill:#1f77b4;stroke:#1f77b4;\" x=\"152.12387\" xlink:href=\"#m8cb3683ed3\" y=\"77.517119\"/>\r\n     <use style=\"fill:#1f77b4;stroke:#1f77b4;\" x=\"105.770605\" xlink:href=\"#m8cb3683ed3\" y=\"86.154619\"/>\r\n     <use style=\"fill:#1f77b4;stroke:#1f77b4;\" x=\"127.555552\" xlink:href=\"#m8cb3683ed3\" y=\"72.845836\"/>\r\n     <use style=\"fill:#1f77b4;stroke:#1f77b4;\" x=\"139.721236\" xlink:href=\"#m8cb3683ed3\" y=\"71.032512\"/>\r\n     <use style=\"fill:#1f77b4;stroke:#1f77b4;\" x=\"59.771206\" xlink:href=\"#m8cb3683ed3\" y=\"112.736509\"/>\r\n     <use style=\"fill:#1f77b4;stroke:#1f77b4;\" x=\"155.828285\" xlink:href=\"#m8cb3683ed3\" y=\"55.781078\"/>\r\n     <use style=\"fill:#1f77b4;stroke:#1f77b4;\" x=\"152.878214\" xlink:href=\"#m8cb3683ed3\" y=\"56.691506\"/>\r\n     <use style=\"fill:#1f77b4;stroke:#1f77b4;\" x=\"92.405774\" xlink:href=\"#m8cb3683ed3\" y=\"114.44549\"/>\r\n     <use style=\"fill:#1f77b4;stroke:#1f77b4;\" x=\"195.744899\" xlink:href=\"#m8cb3683ed3\" y=\"41.989216\"/>\r\n     <use style=\"fill:#1f77b4;stroke:#1f77b4;\" x=\"37.81946\" xlink:href=\"#m8cb3683ed3\" y=\"136.544162\"/>\r\n     <use style=\"fill:#1f77b4;stroke:#1f77b4;\" x=\"121.162795\" xlink:href=\"#m8cb3683ed3\" y=\"76.609255\"/>\r\n     <use style=\"fill:#1f77b4;stroke:#1f77b4;\" x=\"149.964115\" xlink:href=\"#m8cb3683ed3\" y=\"44.50726\"/>\r\n     <use style=\"fill:#1f77b4;stroke:#1f77b4;\" x=\"65.911806\" xlink:href=\"#m8cb3683ed3\" y=\"110.69995\"/>\r\n     <use style=\"fill:#1f77b4;stroke:#1f77b4;\" x=\"87.384096\" xlink:href=\"#m8cb3683ed3\" y=\"111.05326\"/>\r\n     <use style=\"fill:#1f77b4;stroke:#1f77b4;\" x=\"76.453993\" xlink:href=\"#m8cb3683ed3\" y=\"123.572678\"/>\r\n     <use style=\"fill:#1f77b4;stroke:#1f77b4;\" x=\"182.683528\" xlink:href=\"#m8cb3683ed3\" y=\"50.458593\"/>\r\n     <use style=\"fill:#1f77b4;stroke:#1f77b4;\" x=\"155.734513\" xlink:href=\"#m8cb3683ed3\" y=\"53.008389\"/>\r\n     <use style=\"fill:#1f77b4;stroke:#1f77b4;\" x=\"173.011581\" xlink:href=\"#m8cb3683ed3\" y=\"46.145946\"/>\r\n     <use style=\"fill:#1f77b4;stroke:#1f77b4;\" x=\"93.165074\" xlink:href=\"#m8cb3683ed3\" y=\"102.609449\"/>\r\n     <use style=\"fill:#1f77b4;stroke:#1f77b4;\" x=\"114.672683\" xlink:href=\"#m8cb3683ed3\" y=\"90.935323\"/>\r\n     <use style=\"fill:#1f77b4;stroke:#1f77b4;\" x=\"177.002086\" xlink:href=\"#m8cb3683ed3\" y=\"30.261702\"/>\r\n     <use style=\"fill:#1f77b4;stroke:#1f77b4;\" x=\"82.380931\" xlink:href=\"#m8cb3683ed3\" y=\"90.544742\"/>\r\n     <use style=\"fill:#1f77b4;stroke:#1f77b4;\" x=\"166.733538\" xlink:href=\"#m8cb3683ed3\" y=\"36.48596\"/>\r\n     <use style=\"fill:#1f77b4;stroke:#1f77b4;\" x=\"112.213398\" xlink:href=\"#m8cb3683ed3\" y=\"89.441578\"/>\r\n     <use style=\"fill:#1f77b4;stroke:#1f77b4;\" x=\"155.485093\" xlink:href=\"#m8cb3683ed3\" y=\"53.782737\"/>\r\n     <use style=\"fill:#1f77b4;stroke:#1f77b4;\" x=\"100.07669\" xlink:href=\"#m8cb3683ed3\" y=\"92.606986\"/>\r\n     <use style=\"fill:#1f77b4;stroke:#1f77b4;\" x=\"133.861159\" xlink:href=\"#m8cb3683ed3\" y=\"74.700127\"/>\r\n     <use style=\"fill:#1f77b4;stroke:#1f77b4;\" x=\"155.372259\" xlink:href=\"#m8cb3683ed3\" y=\"55.172662\"/>\r\n     <use style=\"fill:#1f77b4;stroke:#1f77b4;\" x=\"71.165973\" xlink:href=\"#m8cb3683ed3\" y=\"89.8201\"/>\r\n     <use style=\"fill:#1f77b4;stroke:#1f77b4;\" x=\"130.326685\" xlink:href=\"#m8cb3683ed3\" y=\"83.157533\"/>\r\n     <use style=\"fill:#1f77b4;stroke:#1f77b4;\" x=\"201.02368\" xlink:href=\"#m8cb3683ed3\" y=\"29.06291\"/>\r\n     <use style=\"fill:#1f77b4;stroke:#1f77b4;\" x=\"57.721979\" xlink:href=\"#m8cb3683ed3\" y=\"112.897195\"/>\r\n     <use style=\"fill:#1f77b4;stroke:#1f77b4;\" x=\"143.964329\" xlink:href=\"#m8cb3683ed3\" y=\"75.845311\"/>\r\n     <use style=\"fill:#1f77b4;stroke:#1f77b4;\" x=\"150.033114\" xlink:href=\"#m8cb3683ed3\" y=\"73.766731\"/>\r\n     <use style=\"fill:#1f77b4;stroke:#1f77b4;\" x=\"62.979936\" xlink:href=\"#m8cb3683ed3\" y=\"114.725839\"/>\r\n     <use style=\"fill:#1f77b4;stroke:#1f77b4;\" x=\"153.124844\" xlink:href=\"#m8cb3683ed3\" y=\"65.560321\"/>\r\n     <use style=\"fill:#1f77b4;stroke:#1f77b4;\" x=\"164.507556\" xlink:href=\"#m8cb3683ed3\" y=\"63.84226\"/>\r\n     <use style=\"fill:#1f77b4;stroke:#1f77b4;\" x=\"136.137998\" xlink:href=\"#m8cb3683ed3\" y=\"64.079161\"/>\r\n     <use style=\"fill:#1f77b4;stroke:#1f77b4;\" x=\"150.71603\" xlink:href=\"#m8cb3683ed3\" y=\"57.824622\"/>\r\n     <use style=\"fill:#1f77b4;stroke:#1f77b4;\" x=\"195.638483\" xlink:href=\"#m8cb3683ed3\" y=\"46.049183\"/>\r\n     <use style=\"fill:#1f77b4;stroke:#1f77b4;\" x=\"95.101794\" xlink:href=\"#m8cb3683ed3\" y=\"102.603895\"/>\r\n     <use style=\"fill:#1f77b4;stroke:#1f77b4;\" x=\"125.317104\" xlink:href=\"#m8cb3683ed3\" y=\"81.230082\"/>\r\n     <use style=\"fill:#1f77b4;stroke:#1f77b4;\" x=\"168.656125\" xlink:href=\"#m8cb3683ed3\" y=\"37.703373\"/>\r\n     <use style=\"fill:#1f77b4;stroke:#1f77b4;\" x=\"88.422685\" xlink:href=\"#m8cb3683ed3\" y=\"85.649315\"/>\r\n     <use style=\"fill:#1f77b4;stroke:#1f77b4;\" x=\"137.705946\" xlink:href=\"#m8cb3683ed3\" y=\"61.909494\"/>\r\n     <use style=\"fill:#1f77b4;stroke:#1f77b4;\" x=\"121.229458\" xlink:href=\"#m8cb3683ed3\" y=\"91.750941\"/>\r\n     <use style=\"fill:#1f77b4;stroke:#1f77b4;\" x=\"114.105795\" xlink:href=\"#m8cb3683ed3\" y=\"85.499582\"/>\r\n     <use style=\"fill:#1f77b4;stroke:#1f77b4;\" x=\"103.14916\" xlink:href=\"#m8cb3683ed3\" y=\"81.879388\"/>\r\n     <use style=\"fill:#1f77b4;stroke:#1f77b4;\" x=\"188.568229\" xlink:href=\"#m8cb3683ed3\" y=\"43.405661\"/>\r\n    </g>\r\n   </g>\r\n   <g id=\"matplotlib.axis_1\">\r\n    <g id=\"xtick_1\">\r\n     <g id=\"line2d_1\">\r\n      <defs>\r\n       <path d=\"M 0 0 \r\nL 0 3.5 \r\n\" id=\"m6001f6ac30\" style=\"stroke:#000000;stroke-width:0.8;\"/>\r\n      </defs>\r\n      <g>\r\n       <use style=\"stroke:#000000;stroke-width:0.8;\" x=\"43.224442\" xlink:href=\"#m6001f6ac30\" y=\"143.1\"/>\r\n      </g>\r\n     </g>\r\n     <g id=\"text_1\">\r\n      <!-- −1 -->\r\n      <g transform=\"translate(35.853348 157.698438)scale(0.1 -0.1)\">\r\n       <defs>\r\n        <path d=\"M 10.59375 35.5 \r\nL 73.1875 35.5 \r\nL 73.1875 27.203125 \r\nL 10.59375 27.203125 \r\nz\r\n\" id=\"DejaVuSans-8722\"/>\r\n        <path d=\"M 12.40625 8.296875 \r\nL 28.515625 8.296875 \r\nL 28.515625 63.921875 \r\nL 10.984375 60.40625 \r\nL 10.984375 69.390625 \r\nL 28.421875 72.90625 \r\nL 38.28125 72.90625 \r\nL 38.28125 8.296875 \r\nL 54.390625 8.296875 \r\nL 54.390625 0 \r\nL 12.40625 0 \r\nz\r\n\" id=\"DejaVuSans-49\"/>\r\n       </defs>\r\n       <use xlink:href=\"#DejaVuSans-8722\"/>\r\n       <use x=\"83.789062\" xlink:href=\"#DejaVuSans-49\"/>\r\n      </g>\r\n     </g>\r\n    </g>\r\n    <g id=\"xtick_2\">\r\n     <g id=\"line2d_2\">\r\n      <g>\r\n       <use style=\"stroke:#000000;stroke-width:0.8;\" x=\"84.736548\" xlink:href=\"#m6001f6ac30\" y=\"143.1\"/>\r\n      </g>\r\n     </g>\r\n     <g id=\"text_2\">\r\n      <!-- 0 -->\r\n      <g transform=\"translate(81.555298 157.698438)scale(0.1 -0.1)\">\r\n       <defs>\r\n        <path d=\"M 31.78125 66.40625 \r\nQ 24.171875 66.40625 20.328125 58.90625 \r\nQ 16.5 51.421875 16.5 36.375 \r\nQ 16.5 21.390625 20.328125 13.890625 \r\nQ 24.171875 6.390625 31.78125 6.390625 \r\nQ 39.453125 6.390625 43.28125 13.890625 \r\nQ 47.125 21.390625 47.125 36.375 \r\nQ 47.125 51.421875 43.28125 58.90625 \r\nQ 39.453125 66.40625 31.78125 66.40625 \r\nz\r\nM 31.78125 74.21875 \r\nQ 44.046875 74.21875 50.515625 64.515625 \r\nQ 56.984375 54.828125 56.984375 36.375 \r\nQ 56.984375 17.96875 50.515625 8.265625 \r\nQ 44.046875 -1.421875 31.78125 -1.421875 \r\nQ 19.53125 -1.421875 13.0625 8.265625 \r\nQ 6.59375 17.96875 6.59375 36.375 \r\nQ 6.59375 54.828125 13.0625 64.515625 \r\nQ 19.53125 74.21875 31.78125 74.21875 \r\nz\r\n\" id=\"DejaVuSans-48\"/>\r\n       </defs>\r\n       <use xlink:href=\"#DejaVuSans-48\"/>\r\n      </g>\r\n     </g>\r\n    </g>\r\n    <g id=\"xtick_3\">\r\n     <g id=\"line2d_3\">\r\n      <g>\r\n       <use style=\"stroke:#000000;stroke-width:0.8;\" x=\"126.248654\" xlink:href=\"#m6001f6ac30\" y=\"143.1\"/>\r\n      </g>\r\n     </g>\r\n     <g id=\"text_3\">\r\n      <!-- 1 -->\r\n      <g transform=\"translate(123.067404 157.698438)scale(0.1 -0.1)\">\r\n       <use xlink:href=\"#DejaVuSans-49\"/>\r\n      </g>\r\n     </g>\r\n    </g>\r\n    <g id=\"xtick_4\">\r\n     <g id=\"line2d_4\">\r\n      <g>\r\n       <use style=\"stroke:#000000;stroke-width:0.8;\" x=\"167.76076\" xlink:href=\"#m6001f6ac30\" y=\"143.1\"/>\r\n      </g>\r\n     </g>\r\n     <g id=\"text_4\">\r\n      <!-- 2 -->\r\n      <g transform=\"translate(164.57951 157.698438)scale(0.1 -0.1)\">\r\n       <defs>\r\n        <path d=\"M 19.1875 8.296875 \r\nL 53.609375 8.296875 \r\nL 53.609375 0 \r\nL 7.328125 0 \r\nL 7.328125 8.296875 \r\nQ 12.9375 14.109375 22.625 23.890625 \r\nQ 32.328125 33.6875 34.8125 36.53125 \r\nQ 39.546875 41.84375 41.421875 45.53125 \r\nQ 43.3125 49.21875 43.3125 52.78125 \r\nQ 43.3125 58.59375 39.234375 62.25 \r\nQ 35.15625 65.921875 28.609375 65.921875 \r\nQ 23.96875 65.921875 18.8125 64.3125 \r\nQ 13.671875 62.703125 7.8125 59.421875 \r\nL 7.8125 69.390625 \r\nQ 13.765625 71.78125 18.9375 73 \r\nQ 24.125 74.21875 28.421875 74.21875 \r\nQ 39.75 74.21875 46.484375 68.546875 \r\nQ 53.21875 62.890625 53.21875 53.421875 \r\nQ 53.21875 48.921875 51.53125 44.890625 \r\nQ 49.859375 40.875 45.40625 35.40625 \r\nQ 44.1875 33.984375 37.640625 27.21875 \r\nQ 31.109375 20.453125 19.1875 8.296875 \r\nz\r\n\" id=\"DejaVuSans-50\"/>\r\n       </defs>\r\n       <use xlink:href=\"#DejaVuSans-50\"/>\r\n      </g>\r\n     </g>\r\n    </g>\r\n    <g id=\"xtick_5\">\r\n     <g id=\"line2d_5\">\r\n      <g>\r\n       <use style=\"stroke:#000000;stroke-width:0.8;\" x=\"209.272866\" xlink:href=\"#m6001f6ac30\" y=\"143.1\"/>\r\n      </g>\r\n     </g>\r\n     <g id=\"text_5\">\r\n      <!-- 3 -->\r\n      <g transform=\"translate(206.091616 157.698438)scale(0.1 -0.1)\">\r\n       <defs>\r\n        <path d=\"M 40.578125 39.3125 \r\nQ 47.65625 37.796875 51.625 33 \r\nQ 55.609375 28.21875 55.609375 21.1875 \r\nQ 55.609375 10.40625 48.1875 4.484375 \r\nQ 40.765625 -1.421875 27.09375 -1.421875 \r\nQ 22.515625 -1.421875 17.65625 -0.515625 \r\nQ 12.796875 0.390625 7.625 2.203125 \r\nL 7.625 11.71875 \r\nQ 11.71875 9.328125 16.59375 8.109375 \r\nQ 21.484375 6.890625 26.8125 6.890625 \r\nQ 36.078125 6.890625 40.9375 10.546875 \r\nQ 45.796875 14.203125 45.796875 21.1875 \r\nQ 45.796875 27.640625 41.28125 31.265625 \r\nQ 36.765625 34.90625 28.71875 34.90625 \r\nL 20.21875 34.90625 \r\nL 20.21875 43.015625 \r\nL 29.109375 43.015625 \r\nQ 36.375 43.015625 40.234375 45.921875 \r\nQ 44.09375 48.828125 44.09375 54.296875 \r\nQ 44.09375 59.90625 40.109375 62.90625 \r\nQ 36.140625 65.921875 28.71875 65.921875 \r\nQ 24.65625 65.921875 20.015625 65.03125 \r\nQ 15.375 64.15625 9.8125 62.3125 \r\nL 9.8125 71.09375 \r\nQ 15.4375 72.65625 20.34375 73.4375 \r\nQ 25.25 74.21875 29.59375 74.21875 \r\nQ 40.828125 74.21875 47.359375 69.109375 \r\nQ 53.90625 64.015625 53.90625 55.328125 \r\nQ 53.90625 49.265625 50.4375 45.09375 \r\nQ 46.96875 40.921875 40.578125 39.3125 \r\nz\r\n\" id=\"DejaVuSans-51\"/>\r\n       </defs>\r\n       <use xlink:href=\"#DejaVuSans-51\"/>\r\n      </g>\r\n     </g>\r\n    </g>\r\n   </g>\r\n   <g id=\"matplotlib.axis_2\">\r\n    <g id=\"ytick_1\">\r\n     <g id=\"line2d_6\">\r\n      <defs>\r\n       <path d=\"M 0 0 \r\nL -3.5 0 \r\n\" id=\"m0e7c2ef476\" style=\"stroke:#000000;stroke-width:0.8;\"/>\r\n      </defs>\r\n      <g>\r\n       <use style=\"stroke:#000000;stroke-width:0.8;\" x=\"28.942188\" xlink:href=\"#m0e7c2ef476\" y=\"127.709144\"/>\r\n      </g>\r\n     </g>\r\n     <g id=\"text_6\">\r\n      <!-- −2 -->\r\n      <g transform=\"translate(7.2 131.508363)scale(0.1 -0.1)\">\r\n       <use xlink:href=\"#DejaVuSans-8722\"/>\r\n       <use x=\"83.789062\" xlink:href=\"#DejaVuSans-50\"/>\r\n      </g>\r\n     </g>\r\n    </g>\r\n    <g id=\"ytick_2\">\r\n     <g id=\"line2d_7\">\r\n      <g>\r\n       <use style=\"stroke:#000000;stroke-width:0.8;\" x=\"28.942188\" xlink:href=\"#m0e7c2ef476\" y=\"102.637833\"/>\r\n      </g>\r\n     </g>\r\n     <g id=\"text_7\">\r\n      <!-- 0 -->\r\n      <g transform=\"translate(15.579688 106.437052)scale(0.1 -0.1)\">\r\n       <use xlink:href=\"#DejaVuSans-48\"/>\r\n      </g>\r\n     </g>\r\n    </g>\r\n    <g id=\"ytick_3\">\r\n     <g id=\"line2d_8\">\r\n      <g>\r\n       <use style=\"stroke:#000000;stroke-width:0.8;\" x=\"28.942188\" xlink:href=\"#m0e7c2ef476\" y=\"77.566522\"/>\r\n      </g>\r\n     </g>\r\n     <g id=\"text_8\">\r\n      <!-- 2 -->\r\n      <g transform=\"translate(15.579688 81.365741)scale(0.1 -0.1)\">\r\n       <use xlink:href=\"#DejaVuSans-50\"/>\r\n      </g>\r\n     </g>\r\n    </g>\r\n    <g id=\"ytick_4\">\r\n     <g id=\"line2d_9\">\r\n      <g>\r\n       <use style=\"stroke:#000000;stroke-width:0.8;\" x=\"28.942188\" xlink:href=\"#m0e7c2ef476\" y=\"52.495211\"/>\r\n      </g>\r\n     </g>\r\n     <g id=\"text_9\">\r\n      <!-- 4 -->\r\n      <g transform=\"translate(15.579688 56.29443)scale(0.1 -0.1)\">\r\n       <defs>\r\n        <path d=\"M 37.796875 64.3125 \r\nL 12.890625 25.390625 \r\nL 37.796875 25.390625 \r\nz\r\nM 35.203125 72.90625 \r\nL 47.609375 72.90625 \r\nL 47.609375 25.390625 \r\nL 58.015625 25.390625 \r\nL 58.015625 17.1875 \r\nL 47.609375 17.1875 \r\nL 47.609375 0 \r\nL 37.796875 0 \r\nL 37.796875 17.1875 \r\nL 4.890625 17.1875 \r\nL 4.890625 26.703125 \r\nz\r\n\" id=\"DejaVuSans-52\"/>\r\n       </defs>\r\n       <use xlink:href=\"#DejaVuSans-52\"/>\r\n      </g>\r\n     </g>\r\n    </g>\r\n    <g id=\"ytick_5\">\r\n     <g id=\"line2d_10\">\r\n      <g>\r\n       <use style=\"stroke:#000000;stroke-width:0.8;\" x=\"28.942188\" xlink:href=\"#m0e7c2ef476\" y=\"27.4239\"/>\r\n      </g>\r\n     </g>\r\n     <g id=\"text_10\">\r\n      <!-- 6 -->\r\n      <g transform=\"translate(15.579688 31.223119)scale(0.1 -0.1)\">\r\n       <defs>\r\n        <path d=\"M 33.015625 40.375 \r\nQ 26.375 40.375 22.484375 35.828125 \r\nQ 18.609375 31.296875 18.609375 23.390625 \r\nQ 18.609375 15.53125 22.484375 10.953125 \r\nQ 26.375 6.390625 33.015625 6.390625 \r\nQ 39.65625 6.390625 43.53125 10.953125 \r\nQ 47.40625 15.53125 47.40625 23.390625 \r\nQ 47.40625 31.296875 43.53125 35.828125 \r\nQ 39.65625 40.375 33.015625 40.375 \r\nz\r\nM 52.59375 71.296875 \r\nL 52.59375 62.3125 \r\nQ 48.875 64.0625 45.09375 64.984375 \r\nQ 41.3125 65.921875 37.59375 65.921875 \r\nQ 27.828125 65.921875 22.671875 59.328125 \r\nQ 17.53125 52.734375 16.796875 39.40625 \r\nQ 19.671875 43.65625 24.015625 45.921875 \r\nQ 28.375 48.1875 33.59375 48.1875 \r\nQ 44.578125 48.1875 50.953125 41.515625 \r\nQ 57.328125 34.859375 57.328125 23.390625 \r\nQ 57.328125 12.15625 50.6875 5.359375 \r\nQ 44.046875 -1.421875 33.015625 -1.421875 \r\nQ 20.359375 -1.421875 13.671875 8.265625 \r\nQ 6.984375 17.96875 6.984375 36.375 \r\nQ 6.984375 53.65625 15.1875 63.9375 \r\nQ 23.390625 74.21875 37.203125 74.21875 \r\nQ 40.921875 74.21875 44.703125 73.484375 \r\nQ 48.484375 72.75 52.59375 71.296875 \r\nz\r\n\" id=\"DejaVuSans-54\"/>\r\n       </defs>\r\n       <use xlink:href=\"#DejaVuSans-54\"/>\r\n      </g>\r\n     </g>\r\n    </g>\r\n   </g>\r\n   <g id=\"patch_3\">\r\n    <path d=\"M 28.942188 143.1 \r\nL 28.942188 7.2 \r\n\" style=\"fill:none;stroke:#000000;stroke-linecap:square;stroke-linejoin:miter;stroke-width:0.8;\"/>\r\n   </g>\r\n   <g id=\"patch_4\">\r\n    <path d=\"M 224.242188 143.1 \r\nL 224.242188 7.2 \r\n\" style=\"fill:none;stroke:#000000;stroke-linecap:square;stroke-linejoin:miter;stroke-width:0.8;\"/>\r\n   </g>\r\n   <g id=\"patch_5\">\r\n    <path d=\"M 28.942187 143.1 \r\nL 224.242188 143.1 \r\n\" style=\"fill:none;stroke:#000000;stroke-linecap:square;stroke-linejoin:miter;stroke-width:0.8;\"/>\r\n   </g>\r\n   <g id=\"patch_6\">\r\n    <path d=\"M 28.942187 7.2 \r\nL 224.242188 7.2 \r\n\" style=\"fill:none;stroke:#000000;stroke-linecap:square;stroke-linejoin:miter;stroke-width:0.8;\"/>\r\n   </g>\r\n  </g>\r\n </g>\r\n <defs>\r\n  <clipPath id=\"p35269131cc\">\r\n   <rect height=\"135.9\" width=\"195.3\" x=\"28.942188\" y=\"7.2\"/>\r\n  </clipPath>\r\n </defs>\r\n</svg>\r\n"
     },
     "metadata": {
      "needs_background": "light"
     }
    }
   ],
   "source": [
    "d2l.plt.scatter(data[:100, 0].numpy(), data[:100, 1].numpy());"
   ]
  },
  {
   "cell_type": "code",
   "execution_count": 19,
   "metadata": {
    "tags": []
   },
   "outputs": [
    {
     "output_type": "stream",
     "name": "stdout",
     "text": "The covariance matrix is\ntensor([[1.0100, 1.9500],\n        [1.9500, 4.2500]])\n"
    }
   ],
   "source": [
    "print(f'The covariance matrix is\\n{torch.mm(A.T, A)}')"
   ]
  },
  {
   "cell_type": "code",
   "execution_count": 20,
   "metadata": {},
   "outputs": [],
   "source": [
    "batch_size = 8\n",
    "data_iter = d2l.load_array((data,), batch_size)"
   ]
  },
  {
   "cell_type": "code",
   "execution_count": 21,
   "metadata": {},
   "outputs": [
    {
     "output_type": "error",
     "ename": "NameError",
     "evalue": "name 'nn' is not defined",
     "traceback": [
      "\u001b[1;31m---------------------------------------------------------------------------\u001b[0m",
      "\u001b[1;31mNameError\u001b[0m                                 Traceback (most recent call last)",
      "\u001b[1;32m<ipython-input-21-439d8ab57611>\u001b[0m in \u001b[0;36m<module>\u001b[1;34m\u001b[0m\n\u001b[1;32m----> 1\u001b[1;33m \u001b[0mnet_G\u001b[0m \u001b[1;33m=\u001b[0m \u001b[0mnn\u001b[0m\u001b[1;33m.\u001b[0m\u001b[0mSequential\u001b[0m\u001b[1;33m(\u001b[0m\u001b[1;33m)\u001b[0m\u001b[1;33m\u001b[0m\u001b[1;33m\u001b[0m\u001b[0m\n\u001b[0m\u001b[0;32m      2\u001b[0m \u001b[0mnet_G\u001b[0m\u001b[1;33m.\u001b[0m\u001b[0madd\u001b[0m\u001b[1;33m(\u001b[0m\u001b[0mnn\u001b[0m\u001b[1;33m.\u001b[0m\u001b[0mDense\u001b[0m\u001b[1;33m(\u001b[0m\u001b[1;36m2\u001b[0m\u001b[1;33m)\u001b[0m\u001b[1;33m)\u001b[0m\u001b[1;33m\u001b[0m\u001b[1;33m\u001b[0m\u001b[0m\n",
      "\u001b[1;31mNameError\u001b[0m: name 'nn' is not defined"
     ]
    }
   ],
   "source": [
    "net_G = nn.Sequential()\n",
    "net_G.add(nn.Dense(2))"
   ]
  },
  {
   "cell_type": "code",
   "execution_count": 22,
   "metadata": {},
   "outputs": [],
   "source": [
    "import torch.nn as nn"
   ]
  },
  {
   "cell_type": "markdown",
   "metadata": {},
   "source": [
    "https://pytorch.org/docs/master/generated/torch.nn.Sequential.html"
   ]
  },
  {
   "cell_type": "code",
   "execution_count": 23,
   "metadata": {},
   "outputs": [],
   "source": [
    "net_G = nn.Sequential()"
   ]
  },
  {
   "cell_type": "code",
   "execution_count": 24,
   "metadata": {},
   "outputs": [
    {
     "output_type": "error",
     "ename": "AttributeError",
     "evalue": "'Sequential' object has no attribute 'add'",
     "traceback": [
      "\u001b[1;31m---------------------------------------------------------------------------\u001b[0m",
      "\u001b[1;31mAttributeError\u001b[0m                            Traceback (most recent call last)",
      "\u001b[1;32m<ipython-input-24-a10719de175a>\u001b[0m in \u001b[0;36m<module>\u001b[1;34m\u001b[0m\n\u001b[1;32m----> 1\u001b[1;33m \u001b[0mnet_G\u001b[0m\u001b[1;33m.\u001b[0m\u001b[0madd\u001b[0m\u001b[1;33m(\u001b[0m\u001b[0mnn\u001b[0m\u001b[1;33m.\u001b[0m\u001b[0mDense\u001b[0m\u001b[1;33m(\u001b[0m\u001b[1;36m2\u001b[0m\u001b[1;33m)\u001b[0m\u001b[1;33m)\u001b[0m\u001b[1;33m\u001b[0m\u001b[1;33m\u001b[0m\u001b[0m\n\u001b[0m",
      "\u001b[1;32m~\\anaconda3\\envs\\pytorch\\lib\\site-packages\\torch\\nn\\modules\\module.py\u001b[0m in \u001b[0;36m__getattr__\u001b[1;34m(self, name)\u001b[0m\n\u001b[0;32m    591\u001b[0m             \u001b[1;32mif\u001b[0m \u001b[0mname\u001b[0m \u001b[1;32min\u001b[0m \u001b[0mmodules\u001b[0m\u001b[1;33m:\u001b[0m\u001b[1;33m\u001b[0m\u001b[1;33m\u001b[0m\u001b[0m\n\u001b[0;32m    592\u001b[0m                 \u001b[1;32mreturn\u001b[0m \u001b[0mmodules\u001b[0m\u001b[1;33m[\u001b[0m\u001b[0mname\u001b[0m\u001b[1;33m]\u001b[0m\u001b[1;33m\u001b[0m\u001b[1;33m\u001b[0m\u001b[0m\n\u001b[1;32m--> 593\u001b[1;33m         raise AttributeError(\"'{}' object has no attribute '{}'\".format(\n\u001b[0m\u001b[0;32m    594\u001b[0m             type(self).__name__, name))\n\u001b[0;32m    595\u001b[0m \u001b[1;33m\u001b[0m\u001b[0m\n",
      "\u001b[1;31mAttributeError\u001b[0m: 'Sequential' object has no attribute 'add'"
     ]
    }
   ],
   "source": [
    "net_G.add(nn.Dense(2))"
   ]
  },
  {
   "cell_type": "markdown",
   "metadata": {},
   "source": [
    "https://discuss.pytorch.org/t/add-sequential-model-to-sequential/71765"
   ]
  },
  {
   "cell_type": "code",
   "execution_count": 25,
   "metadata": {},
   "outputs": [
    {
     "output_type": "error",
     "ename": "SyntaxError",
     "evalue": "invalid syntax (<ipython-input-25-4081b43dc8a3>, line 1)",
     "traceback": [
      "\u001b[1;36m  File \u001b[1;32m\"<ipython-input-25-4081b43dc8a3>\"\u001b[1;36m, line \u001b[1;32m1\u001b[0m\n\u001b[1;33m    net_G..add_module(nn.Dense(2))\u001b[0m\n\u001b[1;37m          ^\u001b[0m\n\u001b[1;31mSyntaxError\u001b[0m\u001b[1;31m:\u001b[0m invalid syntax\n"
     ]
    }
   ],
   "source": [
    "net_G..add_module(nn.Dense(2))"
   ]
  },
  {
   "cell_type": "code",
   "execution_count": 26,
   "metadata": {},
   "outputs": [
    {
     "output_type": "error",
     "ename": "AttributeError",
     "evalue": "module 'torch.nn' has no attribute 'Dense'",
     "traceback": [
      "\u001b[1;31m---------------------------------------------------------------------------\u001b[0m",
      "\u001b[1;31mAttributeError\u001b[0m                            Traceback (most recent call last)",
      "\u001b[1;32m<ipython-input-26-832ac674afde>\u001b[0m in \u001b[0;36m<module>\u001b[1;34m\u001b[0m\n\u001b[1;32m----> 1\u001b[1;33m \u001b[0mnet_G\u001b[0m\u001b[1;33m.\u001b[0m\u001b[0madd_module\u001b[0m\u001b[1;33m(\u001b[0m\u001b[0mnn\u001b[0m\u001b[1;33m.\u001b[0m\u001b[0mDense\u001b[0m\u001b[1;33m(\u001b[0m\u001b[1;36m2\u001b[0m\u001b[1;33m)\u001b[0m\u001b[1;33m)\u001b[0m\u001b[1;33m\u001b[0m\u001b[1;33m\u001b[0m\u001b[0m\n\u001b[0m",
      "\u001b[1;31mAttributeError\u001b[0m: module 'torch.nn' has no attribute 'Dense'"
     ]
    }
   ],
   "source": [
    "net_G.add_module(nn.Dense(2))"
   ]
  },
  {
   "cell_type": "markdown",
   "metadata": {},
   "source": [
    "https://pytorch.org/hub/pytorch_vision_densenet/\n",
    "https://pypi.org/project/densenet-pytorch/\n",
    "\n",
    "https://mxnet.incubator.apache.org/versions/1.6/api/python/docs/api/gluon/nn/index.html\n",
    "https://discuss.pytorch.org/t/pytorch-equivalent-of-keras/29412\n",
    "\n",
    "PyTorch深度实践，GAN章节"
   ]
  },
  {
   "cell_type": "code",
   "execution_count": 27,
   "metadata": {},
   "outputs": [
    {
     "output_type": "error",
     "ename": "TypeError",
     "evalue": "__init__() missing 1 required positional argument: 'out_features'",
     "traceback": [
      "\u001b[1;31m---------------------------------------------------------------------------\u001b[0m",
      "\u001b[1;31mTypeError\u001b[0m                                 Traceback (most recent call last)",
      "\u001b[1;32m<ipython-input-27-cb7fb475a6f7>\u001b[0m in \u001b[0;36m<module>\u001b[1;34m\u001b[0m\n\u001b[1;32m----> 1\u001b[1;33m \u001b[0mnet_G\u001b[0m\u001b[1;33m.\u001b[0m\u001b[0madd_module\u001b[0m\u001b[1;33m(\u001b[0m\u001b[0mnn\u001b[0m\u001b[1;33m.\u001b[0m\u001b[0mLinear\u001b[0m\u001b[1;33m(\u001b[0m\u001b[1;36m2\u001b[0m\u001b[1;33m)\u001b[0m\u001b[1;33m)\u001b[0m\u001b[1;33m\u001b[0m\u001b[1;33m\u001b[0m\u001b[0m\n\u001b[0m",
      "\u001b[1;31mTypeError\u001b[0m: __init__() missing 1 required positional argument: 'out_features'"
     ]
    }
   ],
   "source": [
    "net_G.add_module(nn.Linear(2))"
   ]
  },
  {
   "cell_type": "code",
   "execution_count": 28,
   "metadata": {},
   "outputs": [
    {
     "output_type": "error",
     "ename": "NameError",
     "evalue": "name 'n_out' is not defined",
     "traceback": [
      "\u001b[1;31m---------------------------------------------------------------------------\u001b[0m",
      "\u001b[1;31mNameError\u001b[0m                                 Traceback (most recent call last)",
      "\u001b[1;32m<ipython-input-28-b81818d6ac3d>\u001b[0m in \u001b[0;36m<module>\u001b[1;34m\u001b[0m\n\u001b[1;32m----> 1\u001b[1;33m \u001b[0mnet_G\u001b[0m\u001b[1;33m.\u001b[0m\u001b[0madd_module\u001b[0m\u001b[1;33m(\u001b[0m\u001b[0mnn\u001b[0m\u001b[1;33m.\u001b[0m\u001b[0mLinear\u001b[0m\u001b[1;33m(\u001b[0m\u001b[1;36m2\u001b[0m\u001b[1;33m,\u001b[0m \u001b[0mn_out\u001b[0m\u001b[1;33m)\u001b[0m\u001b[1;33m)\u001b[0m\u001b[1;33m\u001b[0m\u001b[1;33m\u001b[0m\u001b[0m\n\u001b[0m",
      "\u001b[1;31mNameError\u001b[0m: name 'n_out' is not defined"
     ]
    }
   ],
   "source": [
    "net_G.add_module(nn.Linear(2, n_out))"
   ]
  },
  {
   "cell_type": "code",
   "execution_count": 30,
   "metadata": {},
   "outputs": [
    {
     "output_type": "error",
     "ename": "TypeError",
     "evalue": "add_module() missing 1 required positional argument: 'module'",
     "traceback": [
      "\u001b[1;31m---------------------------------------------------------------------------\u001b[0m",
      "\u001b[1;31mTypeError\u001b[0m                                 Traceback (most recent call last)",
      "\u001b[1;32m<ipython-input-30-9406985814c3>\u001b[0m in \u001b[0;36m<module>\u001b[1;34m\u001b[0m\n\u001b[1;32m----> 1\u001b[1;33m \u001b[0mnet_G\u001b[0m\u001b[1;33m.\u001b[0m\u001b[0madd_module\u001b[0m\u001b[1;33m(\u001b[0m\u001b[0mnn\u001b[0m\u001b[1;33m.\u001b[0m\u001b[0mLinear\u001b[0m\u001b[1;33m(\u001b[0m\u001b[1;36m2\u001b[0m\u001b[1;33m,\u001b[0m \u001b[1;36m1\u001b[0m\u001b[1;33m)\u001b[0m\u001b[1;33m)\u001b[0m\u001b[1;33m\u001b[0m\u001b[1;33m\u001b[0m\u001b[0m\n\u001b[0m",
      "\u001b[1;31mTypeError\u001b[0m: add_module() missing 1 required positional argument: 'module'"
     ]
    }
   ],
   "source": [
    "net_G.add_module(nn.Linear(2, 1))"
   ]
  },
  {
   "cell_type": "markdown",
   "metadata": {},
   "source": [
    ".add_module expects a name and module as the arguments.\n",
    "https://discuss.pytorch.org/t/add-module-missing-1-required-positional-argument-module/73999"
   ]
  },
  {
   "cell_type": "code",
   "execution_count": 31,
   "metadata": {},
   "outputs": [],
   "source": [
    "net_G.add_module(\"Linear\", nn.Linear(2, 1))"
   ]
  },
  {
   "cell_type": "markdown",
   "metadata": {},
   "source": [
    "TODO：net_G.add_module(nn.Linear(2, "
   ]
  },
  {
   "cell_type": "code",
   "execution_count": 29,
   "metadata": {},
   "outputs": [],
   "source": [
    "net_D = nn.Sequential()\n"
   ]
  },
  {
   "cell_type": "code",
   "execution_count": null,
   "metadata": {},
   "outputs": [],
   "source": [
    "https://pytorch.org/docs/master/generated/torch.nn.Sequential.html\n",
    "https://pytorch.org/docs/master/generated/torch.nn.Tanh.html"
   ]
  },
  {
   "cell_type": "code",
   "execution_count": 32,
   "metadata": {},
   "outputs": [
    {
     "output_type": "error",
     "ename": "TypeError",
     "evalue": "__init__() takes 1 positional argument but 3 were given",
     "traceback": [
      "\u001b[1;31m---------------------------------------------------------------------------\u001b[0m",
      "\u001b[1;31mTypeError\u001b[0m                                 Traceback (most recent call last)",
      "\u001b[1;32m<ipython-input-32-7e163c8110ac>\u001b[0m in \u001b[0;36m<module>\u001b[1;34m\u001b[0m\n\u001b[1;32m----> 1\u001b[1;33m net_D.add_module(nn.Tanh(5, 3),\n\u001b[0m\u001b[0;32m      2\u001b[0m           \u001b[0mnn\u001b[0m\u001b[1;33m.\u001b[0m\u001b[0mTanh\u001b[0m\u001b[1;33m(\u001b[0m\u001b[1;36m3\u001b[0m\u001b[1;33m,\u001b[0m \u001b[1;36m1\u001b[0m\u001b[1;33m)\u001b[0m\u001b[1;33m,\u001b[0m\u001b[1;33m\u001b[0m\u001b[1;33m\u001b[0m\u001b[0m\n\u001b[0;32m      3\u001b[0m           nn.Tanh(1))\n",
      "\u001b[1;31mTypeError\u001b[0m: __init__() takes 1 positional argument but 3 were given"
     ]
    }
   ],
   "source": [
    "net_D.add_module(nn.Tanh(5, 3),\n",
    "          nn.Tanh(3, 1),\n",
    "          nn.Tanh(1))"
   ]
  },
  {
   "cell_type": "code",
   "execution_count": 33,
   "metadata": {},
   "outputs": [
    {
     "output_type": "error",
     "ename": "TypeError",
     "evalue": "__init__() takes 1 positional argument but 3 were given",
     "traceback": [
      "\u001b[1;31m---------------------------------------------------------------------------\u001b[0m",
      "\u001b[1;31mTypeError\u001b[0m                                 Traceback (most recent call last)",
      "\u001b[1;32m<ipython-input-33-649539707699>\u001b[0m in \u001b[0;36m<module>\u001b[1;34m\u001b[0m\n\u001b[1;32m----> 1\u001b[1;33m \u001b[0mnet_D\u001b[0m\u001b[1;33m.\u001b[0m\u001b[0madd_module\u001b[0m\u001b[1;33m(\u001b[0m\u001b[1;34m\"Tanh1\"\u001b[0m\u001b[1;33m,\u001b[0m\u001b[0mnn\u001b[0m\u001b[1;33m.\u001b[0m\u001b[0mTanh\u001b[0m\u001b[1;33m(\u001b[0m\u001b[1;36m5\u001b[0m\u001b[1;33m,\u001b[0m \u001b[1;36m3\u001b[0m\u001b[1;33m)\u001b[0m\u001b[1;33m)\u001b[0m\u001b[1;33m\u001b[0m\u001b[1;33m\u001b[0m\u001b[0m\n\u001b[0m\u001b[0;32m      2\u001b[0m \u001b[0mnet_D\u001b[0m\u001b[1;33m.\u001b[0m\u001b[0madd_module\u001b[0m\u001b[1;33m(\u001b[0m\u001b[1;34m\"Tanh2\"\u001b[0m\u001b[1;33m,\u001b[0m\u001b[0mnn\u001b[0m\u001b[1;33m.\u001b[0m\u001b[0mTanh\u001b[0m\u001b[1;33m(\u001b[0m\u001b[1;36m3\u001b[0m\u001b[1;33m,\u001b[0m \u001b[1;36m1\u001b[0m\u001b[1;33m)\u001b[0m\u001b[1;33m)\u001b[0m\u001b[1;33m\u001b[0m\u001b[1;33m\u001b[0m\u001b[0m\n\u001b[0;32m      3\u001b[0m \u001b[0mnet_D\u001b[0m\u001b[1;33m.\u001b[0m\u001b[0madd_module\u001b[0m\u001b[1;33m(\u001b[0m\u001b[1;34m\"Tanh3\"\u001b[0m\u001b[1;33m,\u001b[0m\u001b[0mnn\u001b[0m\u001b[1;33m.\u001b[0m\u001b[0mTanh\u001b[0m\u001b[1;33m(\u001b[0m\u001b[1;36m1\u001b[0m\u001b[1;33m,\u001b[0m \u001b[1;36m1\u001b[0m\u001b[1;33m)\u001b[0m\u001b[1;33m)\u001b[0m\u001b[1;33m\u001b[0m\u001b[1;33m\u001b[0m\u001b[0m\n",
      "\u001b[1;31mTypeError\u001b[0m: __init__() takes 1 positional argument but 3 were given"
     ]
    }
   ],
   "source": [
    "net_D.add_module(\"Tanh1\",nn.Tanh(5, 3))\n",
    "net_D.add_module(\"Tanh2\",nn.Tanh(3, 1))\n",
    "net_D.add_module(\"Tanh3\",nn.Tanh(1, 1))"
   ]
  },
  {
   "cell_type": "code",
   "execution_count": 34,
   "metadata": {},
   "outputs": [
    {
     "output_type": "error",
     "ename": "TypeError",
     "evalue": "__init__() takes 1 positional argument but 2 were given",
     "traceback": [
      "\u001b[1;31m---------------------------------------------------------------------------\u001b[0m",
      "\u001b[1;31mTypeError\u001b[0m                                 Traceback (most recent call last)",
      "\u001b[1;32m<ipython-input-34-cea9161463d8>\u001b[0m in \u001b[0;36m<module>\u001b[1;34m\u001b[0m\n\u001b[1;32m----> 1\u001b[1;33m \u001b[0mnet_D\u001b[0m\u001b[1;33m.\u001b[0m\u001b[0madd_module\u001b[0m\u001b[1;33m(\u001b[0m\u001b[1;34m\"Tanh1\"\u001b[0m\u001b[1;33m,\u001b[0m\u001b[0mnn\u001b[0m\u001b[1;33m.\u001b[0m\u001b[0mTanh\u001b[0m\u001b[1;33m(\u001b[0m\u001b[1;36m5\u001b[0m\u001b[1;33m)\u001b[0m\u001b[1;33m)\u001b[0m\u001b[1;33m\u001b[0m\u001b[1;33m\u001b[0m\u001b[0m\n\u001b[0m\u001b[0;32m      2\u001b[0m \u001b[0mnet_D\u001b[0m\u001b[1;33m.\u001b[0m\u001b[0madd_module\u001b[0m\u001b[1;33m(\u001b[0m\u001b[1;34m\"Tanh2\"\u001b[0m\u001b[1;33m,\u001b[0m\u001b[0mnn\u001b[0m\u001b[1;33m.\u001b[0m\u001b[0mTanh\u001b[0m\u001b[1;33m(\u001b[0m\u001b[1;36m3\u001b[0m\u001b[1;33m)\u001b[0m\u001b[1;33m)\u001b[0m\u001b[1;33m\u001b[0m\u001b[1;33m\u001b[0m\u001b[0m\n\u001b[0;32m      3\u001b[0m \u001b[0mnet_D\u001b[0m\u001b[1;33m.\u001b[0m\u001b[0madd_module\u001b[0m\u001b[1;33m(\u001b[0m\u001b[1;34m\"Tanh3\"\u001b[0m\u001b[1;33m,\u001b[0m\u001b[0mnn\u001b[0m\u001b[1;33m.\u001b[0m\u001b[0mTanh\u001b[0m\u001b[1;33m(\u001b[0m\u001b[1;36m1\u001b[0m\u001b[1;33m)\u001b[0m\u001b[1;33m)\u001b[0m\u001b[1;33m\u001b[0m\u001b[1;33m\u001b[0m\u001b[0m\n",
      "\u001b[1;31mTypeError\u001b[0m: __init__() takes 1 positional argument but 2 were given"
     ]
    }
   ],
   "source": [
    "net_D.add_module(\"Tanh1\",nn.Tanh(5))\n",
    "net_D.add_module(\"Tanh2\",nn.Tanh(3))\n",
    "net_D.add_module(\"Tanh3\",nn.Tanh(1))"
   ]
  },
  {
   "cell_type": "code",
   "execution_count": 35,
   "metadata": {},
   "outputs": [
    {
     "output_type": "error",
     "ename": "TypeError",
     "evalue": "__init__() takes 1 positional argument but 2 were given",
     "traceback": [
      "\u001b[1;31m---------------------------------------------------------------------------\u001b[0m",
      "\u001b[1;31mTypeError\u001b[0m                                 Traceback (most recent call last)",
      "\u001b[1;32m<ipython-input-35-1747ec577406>\u001b[0m in \u001b[0;36m<module>\u001b[1;34m\u001b[0m\n\u001b[1;32m----> 1\u001b[1;33m \u001b[0mnet_D\u001b[0m\u001b[1;33m.\u001b[0m\u001b[0madd_module\u001b[0m\u001b[1;33m(\u001b[0m\u001b[0mnn\u001b[0m\u001b[1;33m.\u001b[0m\u001b[0mTanh\u001b[0m\u001b[1;33m(\u001b[0m\u001b[1;36m5\u001b[0m\u001b[1;33m)\u001b[0m\u001b[1;33m)\u001b[0m\u001b[1;33m\u001b[0m\u001b[1;33m\u001b[0m\u001b[0m\n\u001b[0m\u001b[0;32m      2\u001b[0m \u001b[0mnet_D\u001b[0m\u001b[1;33m.\u001b[0m\u001b[0madd_module\u001b[0m\u001b[1;33m(\u001b[0m\u001b[0mnn\u001b[0m\u001b[1;33m.\u001b[0m\u001b[0mTanh\u001b[0m\u001b[1;33m(\u001b[0m\u001b[1;36m3\u001b[0m\u001b[1;33m)\u001b[0m\u001b[1;33m)\u001b[0m\u001b[1;33m\u001b[0m\u001b[1;33m\u001b[0m\u001b[0m\n\u001b[0;32m      3\u001b[0m \u001b[0mnet_D\u001b[0m\u001b[1;33m.\u001b[0m\u001b[0madd_module\u001b[0m\u001b[1;33m(\u001b[0m\u001b[0mnn\u001b[0m\u001b[1;33m.\u001b[0m\u001b[0mTanh\u001b[0m\u001b[1;33m(\u001b[0m\u001b[1;36m1\u001b[0m\u001b[1;33m)\u001b[0m\u001b[1;33m)\u001b[0m\u001b[1;33m\u001b[0m\u001b[1;33m\u001b[0m\u001b[0m\n",
      "\u001b[1;31mTypeError\u001b[0m: __init__() takes 1 positional argument but 2 were given"
     ]
    }
   ],
   "source": [
    "net_D.add_module(nn.Tanh(5))\n",
    "net_D.add_module(nn.Tanh(3))\n",
    "net_D.add_module(nn.Tanh(1))"
   ]
  },
  {
   "cell_type": "code",
   "execution_count": 36,
   "metadata": {},
   "outputs": [
    {
     "output_type": "error",
     "ename": "TypeError",
     "evalue": "__init__() takes 1 positional argument but 2 were given",
     "traceback": [
      "\u001b[1;31m---------------------------------------------------------------------------\u001b[0m",
      "\u001b[1;31mTypeError\u001b[0m                                 Traceback (most recent call last)",
      "\u001b[1;32m<ipython-input-36-b441e4914b2c>\u001b[0m in \u001b[0;36m<module>\u001b[1;34m\u001b[0m\n\u001b[1;32m----> 1\u001b[1;33m \u001b[0mnn\u001b[0m\u001b[1;33m.\u001b[0m\u001b[0mTanh\u001b[0m\u001b[1;33m(\u001b[0m\u001b[1;36m5\u001b[0m\u001b[1;33m)\u001b[0m\u001b[1;33m\u001b[0m\u001b[1;33m\u001b[0m\u001b[0m\n\u001b[0m",
      "\u001b[1;31mTypeError\u001b[0m: __init__() takes 1 positional argument but 2 were given"
     ]
    }
   ],
   "source": [
    "nn.Tanh(5)"
   ]
  },
  {
   "cell_type": "markdown",
   "metadata": {},
   "source": [
    "给类的实例化传进来两个参数，一个是self，一个是input。所以会报错需要一个参数，却给了两个,https://blog.csdn.net/york1996/article/details/81875736"
   ]
  },
  {
   "cell_type": "code",
   "execution_count": 37,
   "metadata": {},
   "outputs": [
    {
     "output_type": "execute_result",
     "data": {
      "text/plain": "Tanh()"
     },
     "metadata": {},
     "execution_count": 37
    }
   ],
   "source": [
    "nn.Tanh()"
   ]
  },
  {
   "cell_type": "markdown",
   "metadata": {},
   "source": [
    "https://discuss.pytorch.org/t/torch-tanh-vs-torch-nn-functional-tanh/15897/2"
   ]
  },
  {
   "cell_type": "code",
   "execution_count": 38,
   "metadata": {},
   "outputs": [
    {
     "output_type": "error",
     "ename": "AttributeError",
     "evalue": "'int' object has no attribute 'tanh'",
     "traceback": [
      "\u001b[1;31m---------------------------------------------------------------------------\u001b[0m",
      "\u001b[1;31mAttributeError\u001b[0m                            Traceback (most recent call last)",
      "\u001b[1;32m<ipython-input-38-e92aa00d0645>\u001b[0m in \u001b[0;36m<module>\u001b[1;34m\u001b[0m\n\u001b[1;32m----> 1\u001b[1;33m \u001b[0mnn\u001b[0m\u001b[1;33m.\u001b[0m\u001b[0mfunctional\u001b[0m\u001b[1;33m.\u001b[0m\u001b[0mtanh\u001b[0m\u001b[1;33m(\u001b[0m\u001b[1;36m5\u001b[0m\u001b[1;33m)\u001b[0m\u001b[1;33m\u001b[0m\u001b[1;33m\u001b[0m\u001b[0m\n\u001b[0m",
      "\u001b[1;32m~\\anaconda3\\envs\\pytorch\\lib\\site-packages\\torch\\nn\\functional.py\u001b[0m in \u001b[0;36mtanh\u001b[1;34m(input)\u001b[0m\n\u001b[0;32m   1557\u001b[0m     \"\"\"\n\u001b[0;32m   1558\u001b[0m     \u001b[0mwarnings\u001b[0m\u001b[1;33m.\u001b[0m\u001b[0mwarn\u001b[0m\u001b[1;33m(\u001b[0m\u001b[1;34m\"nn.functional.tanh is deprecated. Use torch.tanh instead.\"\u001b[0m\u001b[1;33m)\u001b[0m\u001b[1;33m\u001b[0m\u001b[1;33m\u001b[0m\u001b[0m\n\u001b[1;32m-> 1559\u001b[1;33m     \u001b[1;32mreturn\u001b[0m \u001b[0minput\u001b[0m\u001b[1;33m.\u001b[0m\u001b[0mtanh\u001b[0m\u001b[1;33m(\u001b[0m\u001b[1;33m)\u001b[0m\u001b[1;33m\u001b[0m\u001b[1;33m\u001b[0m\u001b[0m\n\u001b[0m\u001b[0;32m   1560\u001b[0m \u001b[1;33m\u001b[0m\u001b[0m\n\u001b[0;32m   1561\u001b[0m \u001b[1;33m\u001b[0m\u001b[0m\n",
      "\u001b[1;31mAttributeError\u001b[0m: 'int' object has no attribute 'tanh'"
     ]
    }
   ],
   "source": [
    "nn.functional.tanh(5)"
   ]
  },
  {
   "cell_type": "code",
   "execution_count": 39,
   "metadata": {},
   "outputs": [
    {
     "output_type": "error",
     "ename": "AttributeError",
     "evalue": "module 'torch.nn' has no attribute 'tanh'",
     "traceback": [
      "\u001b[1;31m---------------------------------------------------------------------------\u001b[0m",
      "\u001b[1;31mAttributeError\u001b[0m                            Traceback (most recent call last)",
      "\u001b[1;32m<ipython-input-39-384cfdcc09b3>\u001b[0m in \u001b[0;36m<module>\u001b[1;34m\u001b[0m\n\u001b[1;32m----> 1\u001b[1;33m \u001b[0mnn\u001b[0m\u001b[1;33m.\u001b[0m\u001b[0mtanh\u001b[0m\u001b[1;33m(\u001b[0m\u001b[1;33m)\u001b[0m\u001b[1;33m(\u001b[0m\u001b[1;36m5\u001b[0m\u001b[1;33m)\u001b[0m\u001b[1;33m\u001b[0m\u001b[1;33m\u001b[0m\u001b[0m\n\u001b[0m",
      "\u001b[1;31mAttributeError\u001b[0m: module 'torch.nn' has no attribute 'tanh'"
     ]
    }
   ],
   "source": [
    "nn.tanh()(5)"
   ]
  },
  {
   "cell_type": "markdown",
   "metadata": {},
   "source": [
    "https://gist.github.com/zhanghang1989/3d646f71d60c17048cf8ad582393ac6c"
   ]
  },
  {
   "cell_type": "code",
   "execution_count": 40,
   "metadata": {},
   "outputs": [
    {
     "output_type": "error",
     "ename": "SyntaxError",
     "evalue": "invalid syntax (<ipython-input-40-695bb03d9167>, line 2)",
     "traceback": [
      "\u001b[1;36m  File \u001b[1;32m\"<ipython-input-40-695bb03d9167>\"\u001b[1;36m, line \u001b[1;32m2\u001b[0m\n\u001b[1;33m    net_D.add_module(\"Tanh2\",nn.Linear(3, nonlinearity='tanh')\u001b[0m\n\u001b[1;37m    ^\u001b[0m\n\u001b[1;31mSyntaxError\u001b[0m\u001b[1;31m:\u001b[0m invalid syntax\n"
     ]
    }
   ],
   "source": [
    "net_D.add_module(\"Tanh1\",nn.Linear(5, nonlinearity='tanh')\n",
    "net_D.add_module(\"Tanh2\",nn.Linear(3, nonlinearity='tanh')\n",
    "net_D.add_module(\"Tanh3\",nn.Linear(1, nonlinearity='tanh')"
   ]
  },
  {
   "cell_type": "code",
   "execution_count": 41,
   "metadata": {},
   "outputs": [
    {
     "output_type": "error",
     "ename": "SyntaxError",
     "evalue": "invalid syntax (<ipython-input-41-695bb03d9167>, line 2)",
     "traceback": [
      "\u001b[1;36m  File \u001b[1;32m\"<ipython-input-41-695bb03d9167>\"\u001b[1;36m, line \u001b[1;32m2\u001b[0m\n\u001b[1;33m    net_D.add_module(\"Tanh2\",nn.Linear(3, nonlinearity='tanh')\u001b[0m\n\u001b[1;37m    ^\u001b[0m\n\u001b[1;31mSyntaxError\u001b[0m\u001b[1;31m:\u001b[0m invalid syntax\n"
     ]
    }
   ],
   "source": [
    "net_D.add_module(\"Tanh1\",nn.Linear(5, nonlinearity='tanh')\n",
    "net_D.add_module(\"Tanh2\",nn.Linear(3, nonlinearity='tanh')\n",
    "net_D.add_module(\"Tanh3\",nn.Linear(1, nonlinearity='tanh')"
   ]
  },
  {
   "cell_type": "code",
   "execution_count": 42,
   "metadata": {},
   "outputs": [
    {
     "output_type": "error",
     "ename": "TypeError",
     "evalue": "__init__() got an unexpected keyword argument 'nonlinearity'",
     "traceback": [
      "\u001b[1;31m---------------------------------------------------------------------------\u001b[0m",
      "\u001b[1;31mTypeError\u001b[0m                                 Traceback (most recent call last)",
      "\u001b[1;32m<ipython-input-42-efa7849edbed>\u001b[0m in \u001b[0;36m<module>\u001b[1;34m\u001b[0m\n\u001b[1;32m----> 1\u001b[1;33m \u001b[0mnet_D\u001b[0m\u001b[1;33m.\u001b[0m\u001b[0madd_module\u001b[0m\u001b[1;33m(\u001b[0m\u001b[1;34m\"Tanh1\"\u001b[0m\u001b[1;33m,\u001b[0m\u001b[0mnn\u001b[0m\u001b[1;33m.\u001b[0m\u001b[0mLinear\u001b[0m\u001b[1;33m(\u001b[0m\u001b[1;36m5\u001b[0m\u001b[1;33m,\u001b[0m \u001b[0mnonlinearity\u001b[0m\u001b[1;33m=\u001b[0m\u001b[1;34m'tanh'\u001b[0m\u001b[1;33m)\u001b[0m\u001b[1;33m)\u001b[0m\u001b[1;33m\u001b[0m\u001b[1;33m\u001b[0m\u001b[0m\n\u001b[0m\u001b[0;32m      2\u001b[0m \u001b[0mnet_D\u001b[0m\u001b[1;33m.\u001b[0m\u001b[0madd_module\u001b[0m\u001b[1;33m(\u001b[0m\u001b[1;34m\"Tanh2\"\u001b[0m\u001b[1;33m,\u001b[0m\u001b[0mnn\u001b[0m\u001b[1;33m.\u001b[0m\u001b[0mLinear\u001b[0m\u001b[1;33m(\u001b[0m\u001b[1;36m3\u001b[0m\u001b[1;33m,\u001b[0m \u001b[0mnonlinearity\u001b[0m\u001b[1;33m=\u001b[0m\u001b[1;34m'tanh'\u001b[0m\u001b[1;33m)\u001b[0m\u001b[1;33m)\u001b[0m\u001b[1;33m\u001b[0m\u001b[1;33m\u001b[0m\u001b[0m\n\u001b[0;32m      3\u001b[0m \u001b[0mnet_D\u001b[0m\u001b[1;33m.\u001b[0m\u001b[0madd_module\u001b[0m\u001b[1;33m(\u001b[0m\u001b[1;34m\"Tanh3\"\u001b[0m\u001b[1;33m,\u001b[0m\u001b[0mnn\u001b[0m\u001b[1;33m.\u001b[0m\u001b[0mLinear\u001b[0m\u001b[1;33m(\u001b[0m\u001b[1;36m1\u001b[0m\u001b[1;33m,\u001b[0m \u001b[0mnonlinearity\u001b[0m\u001b[1;33m=\u001b[0m\u001b[1;34m'tanh'\u001b[0m\u001b[1;33m)\u001b[0m\u001b[1;33m)\u001b[0m\u001b[1;33m\u001b[0m\u001b[1;33m\u001b[0m\u001b[0m\n",
      "\u001b[1;31mTypeError\u001b[0m: __init__() got an unexpected keyword argument 'nonlinearity'"
     ]
    }
   ],
   "source": [
    "net_D.add_module(\"Tanh1\",nn.Linear(5, nonlinearity='tanh'))\n",
    "net_D.add_module(\"Tanh2\",nn.Linear(3, nonlinearity='tanh'))\n",
    "net_D.add_module(\"Tanh3\",nn.Linear(1, nonlinearity='tanh'))"
   ]
  },
  {
   "cell_type": "markdown",
   "metadata": {},
   "source": [
    "https://docs.dgl.ai/en/0.4.x/api/python/nn.pytorch.html"
   ]
  },
  {
   "cell_type": "code",
   "execution_count": 43,
   "metadata": {},
   "outputs": [
    {
     "output_type": "error",
     "ename": "TypeError",
     "evalue": "__init__() got an unexpected keyword argument 'activation'",
     "traceback": [
      "\u001b[1;31m---------------------------------------------------------------------------\u001b[0m",
      "\u001b[1;31mTypeError\u001b[0m                                 Traceback (most recent call last)",
      "\u001b[1;32m<ipython-input-43-859f06cee248>\u001b[0m in \u001b[0;36m<module>\u001b[1;34m\u001b[0m\n\u001b[1;32m----> 1\u001b[1;33m \u001b[0mnet_D\u001b[0m\u001b[1;33m.\u001b[0m\u001b[0madd_module\u001b[0m\u001b[1;33m(\u001b[0m\u001b[1;34m\"Tanh1\"\u001b[0m\u001b[1;33m,\u001b[0m\u001b[0mnn\u001b[0m\u001b[1;33m.\u001b[0m\u001b[0mLinear\u001b[0m\u001b[1;33m(\u001b[0m\u001b[1;36m5\u001b[0m\u001b[1;33m,\u001b[0m \u001b[0mactivation\u001b[0m\u001b[1;33m=\u001b[0m\u001b[1;34m'tanh'\u001b[0m\u001b[1;33m)\u001b[0m\u001b[1;33m)\u001b[0m\u001b[1;33m\u001b[0m\u001b[1;33m\u001b[0m\u001b[0m\n\u001b[0m\u001b[0;32m      2\u001b[0m \u001b[0mnet_D\u001b[0m\u001b[1;33m.\u001b[0m\u001b[0madd_module\u001b[0m\u001b[1;33m(\u001b[0m\u001b[1;34m\"Tanh2\"\u001b[0m\u001b[1;33m,\u001b[0m\u001b[0mnn\u001b[0m\u001b[1;33m.\u001b[0m\u001b[0mLinear\u001b[0m\u001b[1;33m(\u001b[0m\u001b[1;36m3\u001b[0m\u001b[1;33m,\u001b[0m \u001b[0mactivation\u001b[0m\u001b[1;33m=\u001b[0m\u001b[1;34m'tanh'\u001b[0m\u001b[1;33m)\u001b[0m\u001b[1;33m)\u001b[0m\u001b[1;33m\u001b[0m\u001b[1;33m\u001b[0m\u001b[0m\n\u001b[0;32m      3\u001b[0m \u001b[0mnet_D\u001b[0m\u001b[1;33m.\u001b[0m\u001b[0madd_module\u001b[0m\u001b[1;33m(\u001b[0m\u001b[1;34m\"Tanh3\"\u001b[0m\u001b[1;33m,\u001b[0m\u001b[0mnn\u001b[0m\u001b[1;33m.\u001b[0m\u001b[0mLinear\u001b[0m\u001b[1;33m(\u001b[0m\u001b[1;36m1\u001b[0m\u001b[1;33m,\u001b[0m \u001b[0mactivation\u001b[0m\u001b[1;33m=\u001b[0m\u001b[1;34m'tanh'\u001b[0m\u001b[1;33m)\u001b[0m\u001b[1;33m)\u001b[0m\u001b[1;33m\u001b[0m\u001b[1;33m\u001b[0m\u001b[0m\n",
      "\u001b[1;31mTypeError\u001b[0m: __init__() got an unexpected keyword argument 'activation'"
     ]
    }
   ],
   "source": [
    "net_D.add_module(\"Tanh1\",nn.Linear(5, activation='tanh'))\n",
    "net_D.add_module(\"Tanh2\",nn.Linear(3, activation='tanh'))\n",
    "net_D.add_module(\"Tanh3\",nn.Linear(1, activation='tanh'))"
   ]
  },
  {
   "cell_type": "markdown",
   "metadata": {},
   "source": [
    "https://discuss.pytorch.org/t/cant-recover-keras-results-using-pytorch/40035"
   ]
  },
  {
   "cell_type": "code",
   "execution_count": 44,
   "metadata": {},
   "outputs": [
    {
     "output_type": "error",
     "ename": "SyntaxError",
     "evalue": "unexpected EOF while parsing (<ipython-input-44-e89c0dc14f38>, line 1)",
     "traceback": [
      "\u001b[1;36m  File \u001b[1;32m\"<ipython-input-44-e89c0dc14f38>\"\u001b[1;36m, line \u001b[1;32m1\u001b[0m\n\u001b[1;33m    net_D.add_module(torch.tanh(nn.Linear(5, 3))\u001b[0m\n\u001b[1;37m                                                ^\u001b[0m\n\u001b[1;31mSyntaxError\u001b[0m\u001b[1;31m:\u001b[0m unexpected EOF while parsing\n"
     ]
    }
   ],
   "source": [
    "net_D.add_module(torch.tanh(nn.Linear(5, 3))"
   ]
  },
  {
   "cell_type": "code",
   "execution_count": 45,
   "metadata": {},
   "outputs": [
    {
     "output_type": "error",
     "ename": "TypeError",
     "evalue": "tanh(): argument 'input' (position 1) must be Tensor, not Linear",
     "traceback": [
      "\u001b[1;31m---------------------------------------------------------------------------\u001b[0m",
      "\u001b[1;31mTypeError\u001b[0m                                 Traceback (most recent call last)",
      "\u001b[1;32m<ipython-input-45-2fc3200c4ccf>\u001b[0m in \u001b[0;36m<module>\u001b[1;34m\u001b[0m\n\u001b[1;32m----> 1\u001b[1;33m \u001b[0mnet_D\u001b[0m\u001b[1;33m.\u001b[0m\u001b[0madd_module\u001b[0m\u001b[1;33m(\u001b[0m\u001b[0mtorch\u001b[0m\u001b[1;33m.\u001b[0m\u001b[0mtanh\u001b[0m\u001b[1;33m(\u001b[0m\u001b[0mnn\u001b[0m\u001b[1;33m.\u001b[0m\u001b[0mLinear\u001b[0m\u001b[1;33m(\u001b[0m\u001b[1;36m5\u001b[0m\u001b[1;33m,\u001b[0m \u001b[1;36m3\u001b[0m\u001b[1;33m)\u001b[0m\u001b[1;33m)\u001b[0m\u001b[1;33m)\u001b[0m\u001b[1;33m\u001b[0m\u001b[1;33m\u001b[0m\u001b[0m\n\u001b[0m",
      "\u001b[1;31mTypeError\u001b[0m: tanh(): argument 'input' (position 1) must be Tensor, not Linear"
     ]
    }
   ],
   "source": [
    "net_D.add_module(torch.tanh(nn.Linear(5, 3)))"
   ]
  },
  {
   "cell_type": "markdown",
   "metadata": {},
   "source": [
    "PyTorch深度学习 布拉马尼亚 DCGAN"
   ]
  },
  {
   "cell_type": "code",
   "execution_count": 46,
   "metadata": {},
   "outputs": [],
   "source": [
    "net_D.add_module(\"Linear1t\", nn.Linear(5, 3))"
   ]
  },
  {
   "cell_type": "code",
   "execution_count": 47,
   "metadata": {},
   "outputs": [],
   "source": [
    "net_D.add_module(\"1t\", nn.Tanh())"
   ]
  },
  {
   "cell_type": "code",
   "execution_count": 48,
   "metadata": {},
   "outputs": [],
   "source": [
    "net_D.add_module(\"Linear2t\", nn.Linear(3, 1))\n",
    "net_D.add_module(\"2t\", nn.Tanh())"
   ]
  },
  {
   "cell_type": "code",
   "execution_count": 49,
   "metadata": {},
   "outputs": [],
   "source": [
    "net_D.add_module(\"Linear3t\", nn.Linear(1, 1))\n",
    "net_D.add_module(\"3t\", nn.Tanh())"
   ]
  },
  {
   "cell_type": "markdown",
   "metadata": {},
   "source": [
    "net_D.add(nn.Dense(5, activation='tanh'),\n",
    "          nn.Dense(3, activation='tanh'),\n",
    "          nn.Dense(1))"
   ]
  },
  {
   "cell_type": "code",
   "execution_count": null,
   "metadata": {},
   "outputs": [],
   "source": []
  },
  {
   "cell_type": "code",
   "execution_count": null,
   "metadata": {},
   "outputs": [],
   "source": [
    "#@save\n",
    "def update_D(X, Z, net_D, net_G, loss, trainer_D):\n",
    "    \"\"\"Update discriminator.\"\"\"\n",
    "    batch_size = X.shape[0]\n",
    "    ones = np.ones((batch_size,), ctx=X.ctx)\n",
    "    zeros = np.zeros((batch_size,), ctx=X.ctx)\n",
    "    with autograd.record():\n",
    "        real_Y = net_D(X)\n",
    "        fake_X = net_G(Z)\n",
    "        # Do not need to compute gradient for `net_G`, detach it from\n",
    "        # computing gradients.\n",
    "        fake_Y = net_D(fake_X.detach())\n",
    "        loss_D = (loss(real_Y, ones) + loss(fake_Y, zeros)) / 2\n",
    "    loss_D.backward()\n",
    "    trainer_D.step(batch_size)\n",
    "    return float(loss_D.sum())"
   ]
  }
 ]
}