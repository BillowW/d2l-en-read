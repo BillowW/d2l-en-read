{
 "metadata": {
  "language_info": {
   "codemirror_mode": {
    "name": "ipython",
    "version": 3
   },
   "file_extension": ".py",
   "mimetype": "text/x-python",
   "name": "python",
   "nbconvert_exporter": "python",
   "pygments_lexer": "ipython3",
   "version": "3.8.3-final"
  },
  "orig_nbformat": 2,
  "kernelspec": {
   "name": "python38364bitpytorchconda70fdc7f787194f4c972bb3207dd25917",
   "display_name": "Python 3.8.3 64-bit ('pytorch': conda)"
  }
 },
 "nbformat": 4,
 "nbformat_minor": 2,
 "cells": [
  {
   "cell_type": "code",
   "execution_count": 1,
   "metadata": {},
   "outputs": [],
   "source": [
    "%matplotlib inline\n",
    "from d2l import torch as d2l\n",
    "import torch\n",
    "from torch.utils.data import DataLoader\n",
    "from torch.autograd import Variable\n",
    "from torch import nn"
   ]
  },
  {
   "cell_type": "code",
   "execution_count": 2,
   "metadata": {},
   "outputs": [],
   "source": [
    "X = torch.normal(0.0, 1, (1000, 2))\n",
    "A = torch.tensor([[1, 2], [-0.1, 0.5]])\n",
    "b = torch.tensor([1, 2])\n",
    "data = torch.mm(X, A) + b"
   ]
  },
  {
   "cell_type": "code",
   "execution_count": 3,
   "metadata": {
    "tags": []
   },
   "outputs": [
    {
     "output_type": "stream",
     "name": "stdout",
     "text": "The covariance matrix is\ntensor([[1.0100, 1.9500],\n        [1.9500, 4.2500]])\n"
    },
    {
     "output_type": "display_data",
     "data": {
      "text/plain": "<Figure size 252x180 with 1 Axes>",
      "image/svg+xml": "<?xml version=\"1.0\" encoding=\"utf-8\" standalone=\"no\"?>\r\n<!DOCTYPE svg PUBLIC \"-//W3C//DTD SVG 1.1//EN\"\r\n  \"http://www.w3.org/Graphics/SVG/1.1/DTD/svg11.dtd\">\r\n<!-- Created with matplotlib (https://matplotlib.org/) -->\r\n<svg height=\"166.978125pt\" version=\"1.1\" viewBox=\"0 0 231.442188 166.978125\" width=\"231.442188pt\" xmlns=\"http://www.w3.org/2000/svg\" xmlns:xlink=\"http://www.w3.org/1999/xlink\">\r\n <metadata>\r\n  <rdf:RDF xmlns:cc=\"http://creativecommons.org/ns#\" xmlns:dc=\"http://purl.org/dc/elements/1.1/\" xmlns:rdf=\"http://www.w3.org/1999/02/22-rdf-syntax-ns#\">\r\n   <cc:Work>\r\n    <dc:type rdf:resource=\"http://purl.org/dc/dcmitype/StillImage\"/>\r\n    <dc:date>2020-08-06T22:49:52.943740</dc:date>\r\n    <dc:format>image/svg+xml</dc:format>\r\n    <dc:creator>\r\n     <cc:Agent>\r\n      <dc:title>Matplotlib v3.3.0, https://matplotlib.org/</dc:title>\r\n     </cc:Agent>\r\n    </dc:creator>\r\n   </cc:Work>\r\n  </rdf:RDF>\r\n </metadata>\r\n <defs>\r\n  <style type=\"text/css\">*{stroke-linecap:butt;stroke-linejoin:round;}</style>\r\n </defs>\r\n <g id=\"figure_1\">\r\n  <g id=\"patch_1\">\r\n   <path d=\"M 0 166.978125 \r\nL 231.442188 166.978125 \r\nL 231.442188 0 \r\nL 0 0 \r\nz\r\n\" style=\"fill:none;\"/>\r\n  </g>\r\n  <g id=\"axes_1\">\r\n   <g id=\"patch_2\">\r\n    <path d=\"M 28.942188 143.1 \r\nL 224.242188 143.1 \r\nL 224.242188 7.2 \r\nL 28.942188 7.2 \r\nz\r\n\" style=\"fill:#ffffff;\"/>\r\n   </g>\r\n   <g id=\"PathCollection_1\">\r\n    <defs>\r\n     <path d=\"M 0 3 \r\nC 0.795609 3 1.55874 2.683901 2.12132 2.12132 \r\nC 2.683901 1.55874 3 0.795609 3 0 \r\nC 3 -0.795609 2.683901 -1.55874 2.12132 -2.12132 \r\nC 1.55874 -2.683901 0.795609 -3 0 -3 \r\nC -0.795609 -3 -1.55874 -2.683901 -2.12132 -2.12132 \r\nC -2.683901 -1.55874 -3 -0.795609 -3 0 \r\nC -3 0.795609 -2.683901 1.55874 -2.12132 2.12132 \r\nC -1.55874 2.683901 -0.795609 3 0 3 \r\nz\r\n\" id=\"m931ff9a090\" style=\"stroke:#1f77b4;\"/>\r\n    </defs>\r\n    <g clip-path=\"url(#p66b1c13715)\">\r\n     <use style=\"fill:#1f77b4;stroke:#1f77b4;\" x=\"204.317769\" xlink:href=\"#m931ff9a090\" y=\"23.564361\"/>\r\n     <use style=\"fill:#1f77b4;stroke:#1f77b4;\" x=\"125.494873\" xlink:href=\"#m931ff9a090\" y=\"67.85935\"/>\r\n     <use style=\"fill:#1f77b4;stroke:#1f77b4;\" x=\"100.629754\" xlink:href=\"#m931ff9a090\" y=\"96.200899\"/>\r\n     <use style=\"fill:#1f77b4;stroke:#1f77b4;\" x=\"181.010287\" xlink:href=\"#m931ff9a090\" y=\"53.080113\"/>\r\n     <use style=\"fill:#1f77b4;stroke:#1f77b4;\" x=\"161.841252\" xlink:href=\"#m931ff9a090\" y=\"52.586895\"/>\r\n     <use style=\"fill:#1f77b4;stroke:#1f77b4;\" x=\"62.743454\" xlink:href=\"#m931ff9a090\" y=\"131.214059\"/>\r\n     <use style=\"fill:#1f77b4;stroke:#1f77b4;\" x=\"99.622973\" xlink:href=\"#m931ff9a090\" y=\"101.832522\"/>\r\n     <use style=\"fill:#1f77b4;stroke:#1f77b4;\" x=\"129.85471\" xlink:href=\"#m931ff9a090\" y=\"66.531151\"/>\r\n     <use style=\"fill:#1f77b4;stroke:#1f77b4;\" x=\"166.900461\" xlink:href=\"#m931ff9a090\" y=\"38.638876\"/>\r\n     <use style=\"fill:#1f77b4;stroke:#1f77b4;\" x=\"83.576177\" xlink:href=\"#m931ff9a090\" y=\"102.644424\"/>\r\n     <use style=\"fill:#1f77b4;stroke:#1f77b4;\" x=\"129.174312\" xlink:href=\"#m931ff9a090\" y=\"73.228002\"/>\r\n     <use style=\"fill:#1f77b4;stroke:#1f77b4;\" x=\"155.336239\" xlink:href=\"#m931ff9a090\" y=\"68.503313\"/>\r\n     <use style=\"fill:#1f77b4;stroke:#1f77b4;\" x=\"82.818931\" xlink:href=\"#m931ff9a090\" y=\"98.680497\"/>\r\n     <use style=\"fill:#1f77b4;stroke:#1f77b4;\" x=\"93.680864\" xlink:href=\"#m931ff9a090\" y=\"91.515323\"/>\r\n     <use style=\"fill:#1f77b4;stroke:#1f77b4;\" x=\"81.75659\" xlink:href=\"#m931ff9a090\" y=\"98.80283\"/>\r\n     <use style=\"fill:#1f77b4;stroke:#1f77b4;\" x=\"110.64491\" xlink:href=\"#m931ff9a090\" y=\"91.685626\"/>\r\n     <use style=\"fill:#1f77b4;stroke:#1f77b4;\" x=\"140.926469\" xlink:href=\"#m931ff9a090\" y=\"53.022812\"/>\r\n     <use style=\"fill:#1f77b4;stroke:#1f77b4;\" x=\"134.089134\" xlink:href=\"#m931ff9a090\" y=\"72.680067\"/>\r\n     <use style=\"fill:#1f77b4;stroke:#1f77b4;\" x=\"102.427412\" xlink:href=\"#m931ff9a090\" y=\"108.212353\"/>\r\n     <use style=\"fill:#1f77b4;stroke:#1f77b4;\" x=\"120.477609\" xlink:href=\"#m931ff9a090\" y=\"73.054004\"/>\r\n     <use style=\"fill:#1f77b4;stroke:#1f77b4;\" x=\"109.770812\" xlink:href=\"#m931ff9a090\" y=\"91.962979\"/>\r\n     <use style=\"fill:#1f77b4;stroke:#1f77b4;\" x=\"98.984513\" xlink:href=\"#m931ff9a090\" y=\"80.346024\"/>\r\n     <use style=\"fill:#1f77b4;stroke:#1f77b4;\" x=\"112.446822\" xlink:href=\"#m931ff9a090\" y=\"93.69298\"/>\r\n     <use style=\"fill:#1f77b4;stroke:#1f77b4;\" x=\"120.873898\" xlink:href=\"#m931ff9a090\" y=\"77.640336\"/>\r\n     <use style=\"fill:#1f77b4;stroke:#1f77b4;\" x=\"134.652128\" xlink:href=\"#m931ff9a090\" y=\"57.203594\"/>\r\n     <use style=\"fill:#1f77b4;stroke:#1f77b4;\" x=\"141.761263\" xlink:href=\"#m931ff9a090\" y=\"67.714755\"/>\r\n     <use style=\"fill:#1f77b4;stroke:#1f77b4;\" x=\"192.782161\" xlink:href=\"#m931ff9a090\" y=\"50.131176\"/>\r\n     <use style=\"fill:#1f77b4;stroke:#1f77b4;\" x=\"184.709113\" xlink:href=\"#m931ff9a090\" y=\"44.025795\"/>\r\n     <use style=\"fill:#1f77b4;stroke:#1f77b4;\" x=\"200.870536\" xlink:href=\"#m931ff9a090\" y=\"30.583573\"/>\r\n     <use style=\"fill:#1f77b4;stroke:#1f77b4;\" x=\"164.681472\" xlink:href=\"#m931ff9a090\" y=\"56.406458\"/>\r\n     <use style=\"fill:#1f77b4;stroke:#1f77b4;\" x=\"104.06572\" xlink:href=\"#m931ff9a090\" y=\"80.684381\"/>\r\n     <use style=\"fill:#1f77b4;stroke:#1f77b4;\" x=\"157.244944\" xlink:href=\"#m931ff9a090\" y=\"60.664319\"/>\r\n     <use style=\"fill:#1f77b4;stroke:#1f77b4;\" x=\"186.30126\" xlink:href=\"#m931ff9a090\" y=\"32.565899\"/>\r\n     <use style=\"fill:#1f77b4;stroke:#1f77b4;\" x=\"149.350929\" xlink:href=\"#m931ff9a090\" y=\"63.597725\"/>\r\n     <use style=\"fill:#1f77b4;stroke:#1f77b4;\" x=\"88.548053\" xlink:href=\"#m931ff9a090\" y=\"106.17902\"/>\r\n     <use style=\"fill:#1f77b4;stroke:#1f77b4;\" x=\"107.740094\" xlink:href=\"#m931ff9a090\" y=\"98.852227\"/>\r\n     <use style=\"fill:#1f77b4;stroke:#1f77b4;\" x=\"68.794952\" xlink:href=\"#m931ff9a090\" y=\"109.828897\"/>\r\n     <use style=\"fill:#1f77b4;stroke:#1f77b4;\" x=\"77.996449\" xlink:href=\"#m931ff9a090\" y=\"95.916367\"/>\r\n     <use style=\"fill:#1f77b4;stroke:#1f77b4;\" x=\"93.444593\" xlink:href=\"#m931ff9a090\" y=\"81.925994\"/>\r\n     <use style=\"fill:#1f77b4;stroke:#1f77b4;\" x=\"215.364915\" xlink:href=\"#m931ff9a090\" y=\"17.531764\"/>\r\n     <use style=\"fill:#1f77b4;stroke:#1f77b4;\" x=\"116.478713\" xlink:href=\"#m931ff9a090\" y=\"70.552725\"/>\r\n     <use style=\"fill:#1f77b4;stroke:#1f77b4;\" x=\"128.123668\" xlink:href=\"#m931ff9a090\" y=\"68.996399\"/>\r\n     <use style=\"fill:#1f77b4;stroke:#1f77b4;\" x=\"130.437843\" xlink:href=\"#m931ff9a090\" y=\"76.784282\"/>\r\n     <use style=\"fill:#1f77b4;stroke:#1f77b4;\" x=\"126.382268\" xlink:href=\"#m931ff9a090\" y=\"91.254442\"/>\r\n     <use style=\"fill:#1f77b4;stroke:#1f77b4;\" x=\"184.578183\" xlink:href=\"#m931ff9a090\" y=\"49.93567\"/>\r\n     <use style=\"fill:#1f77b4;stroke:#1f77b4;\" x=\"81.151814\" xlink:href=\"#m931ff9a090\" y=\"105.310151\"/>\r\n     <use style=\"fill:#1f77b4;stroke:#1f77b4;\" x=\"98.290925\" xlink:href=\"#m931ff9a090\" y=\"93.24731\"/>\r\n     <use style=\"fill:#1f77b4;stroke:#1f77b4;\" x=\"113.905672\" xlink:href=\"#m931ff9a090\" y=\"84.905434\"/>\r\n     <use style=\"fill:#1f77b4;stroke:#1f77b4;\" x=\"138.593558\" xlink:href=\"#m931ff9a090\" y=\"61.918316\"/>\r\n     <use style=\"fill:#1f77b4;stroke:#1f77b4;\" x=\"63.92716\" xlink:href=\"#m931ff9a090\" y=\"110.077585\"/>\r\n     <use style=\"fill:#1f77b4;stroke:#1f77b4;\" x=\"146.669772\" xlink:href=\"#m931ff9a090\" y=\"57.577541\"/>\r\n     <use style=\"fill:#1f77b4;stroke:#1f77b4;\" x=\"137.484034\" xlink:href=\"#m931ff9a090\" y=\"69.204127\"/>\r\n     <use style=\"fill:#1f77b4;stroke:#1f77b4;\" x=\"166.792288\" xlink:href=\"#m931ff9a090\" y=\"27.439845\"/>\r\n     <use style=\"fill:#1f77b4;stroke:#1f77b4;\" x=\"97.784364\" xlink:href=\"#m931ff9a090\" y=\"93.154806\"/>\r\n     <use style=\"fill:#1f77b4;stroke:#1f77b4;\" x=\"124.718123\" xlink:href=\"#m931ff9a090\" y=\"83.868062\"/>\r\n     <use style=\"fill:#1f77b4;stroke:#1f77b4;\" x=\"73.441635\" xlink:href=\"#m931ff9a090\" y=\"95.838015\"/>\r\n     <use style=\"fill:#1f77b4;stroke:#1f77b4;\" x=\"135.217554\" xlink:href=\"#m931ff9a090\" y=\"68.994594\"/>\r\n     <use style=\"fill:#1f77b4;stroke:#1f77b4;\" x=\"104.335432\" xlink:href=\"#m931ff9a090\" y=\"87.774886\"/>\r\n     <use style=\"fill:#1f77b4;stroke:#1f77b4;\" x=\"174.581525\" xlink:href=\"#m931ff9a090\" y=\"53.598435\"/>\r\n     <use style=\"fill:#1f77b4;stroke:#1f77b4;\" x=\"75.106431\" xlink:href=\"#m931ff9a090\" y=\"101.329272\"/>\r\n     <use style=\"fill:#1f77b4;stroke:#1f77b4;\" x=\"162.835488\" xlink:href=\"#m931ff9a090\" y=\"48.660206\"/>\r\n     <use style=\"fill:#1f77b4;stroke:#1f77b4;\" x=\"110.533882\" xlink:href=\"#m931ff9a090\" y=\"72.216935\"/>\r\n     <use style=\"fill:#1f77b4;stroke:#1f77b4;\" x=\"50.740423\" xlink:href=\"#m931ff9a090\" y=\"136.922727\"/>\r\n     <use style=\"fill:#1f77b4;stroke:#1f77b4;\" x=\"155.946252\" xlink:href=\"#m931ff9a090\" y=\"42.954776\"/>\r\n     <use style=\"fill:#1f77b4;stroke:#1f77b4;\" x=\"136.448785\" xlink:href=\"#m931ff9a090\" y=\"76.765113\"/>\r\n     <use style=\"fill:#1f77b4;stroke:#1f77b4;\" x=\"103.130863\" xlink:href=\"#m931ff9a090\" y=\"88.790697\"/>\r\n     <use style=\"fill:#1f77b4;stroke:#1f77b4;\" x=\"60.366301\" xlink:href=\"#m931ff9a090\" y=\"110.34651\"/>\r\n     <use style=\"fill:#1f77b4;stroke:#1f77b4;\" x=\"99.604747\" xlink:href=\"#m931ff9a090\" y=\"101.042385\"/>\r\n     <use style=\"fill:#1f77b4;stroke:#1f77b4;\" x=\"63.348733\" xlink:href=\"#m931ff9a090\" y=\"112.33566\"/>\r\n     <use style=\"fill:#1f77b4;stroke:#1f77b4;\" x=\"122.058497\" xlink:href=\"#m931ff9a090\" y=\"72.676703\"/>\r\n     <use style=\"fill:#1f77b4;stroke:#1f77b4;\" x=\"110.229851\" xlink:href=\"#m931ff9a090\" y=\"95.811081\"/>\r\n     <use style=\"fill:#1f77b4;stroke:#1f77b4;\" x=\"193.006723\" xlink:href=\"#m931ff9a090\" y=\"13.377273\"/>\r\n     <use style=\"fill:#1f77b4;stroke:#1f77b4;\" x=\"166.717577\" xlink:href=\"#m931ff9a090\" y=\"39.846763\"/>\r\n     <use style=\"fill:#1f77b4;stroke:#1f77b4;\" x=\"133.672573\" xlink:href=\"#m931ff9a090\" y=\"68.09802\"/>\r\n     <use style=\"fill:#1f77b4;stroke:#1f77b4;\" x=\"143.5033\" xlink:href=\"#m931ff9a090\" y=\"60.883408\"/>\r\n     <use style=\"fill:#1f77b4;stroke:#1f77b4;\" x=\"110.362476\" xlink:href=\"#m931ff9a090\" y=\"84.667733\"/>\r\n     <use style=\"fill:#1f77b4;stroke:#1f77b4;\" x=\"110.930571\" xlink:href=\"#m931ff9a090\" y=\"89.639528\"/>\r\n     <use style=\"fill:#1f77b4;stroke:#1f77b4;\" x=\"152.531252\" xlink:href=\"#m931ff9a090\" y=\"66.430147\"/>\r\n     <use style=\"fill:#1f77b4;stroke:#1f77b4;\" x=\"87.001505\" xlink:href=\"#m931ff9a090\" y=\"86.383941\"/>\r\n     <use style=\"fill:#1f77b4;stroke:#1f77b4;\" x=\"103.748635\" xlink:href=\"#m931ff9a090\" y=\"94.407427\"/>\r\n     <use style=\"fill:#1f77b4;stroke:#1f77b4;\" x=\"125.589108\" xlink:href=\"#m931ff9a090\" y=\"70.134395\"/>\r\n     <use style=\"fill:#1f77b4;stroke:#1f77b4;\" x=\"100.922365\" xlink:href=\"#m931ff9a090\" y=\"94.617265\"/>\r\n     <use style=\"fill:#1f77b4;stroke:#1f77b4;\" x=\"132.150363\" xlink:href=\"#m931ff9a090\" y=\"74.885322\"/>\r\n     <use style=\"fill:#1f77b4;stroke:#1f77b4;\" x=\"136.45622\" xlink:href=\"#m931ff9a090\" y=\"66.996712\"/>\r\n     <use style=\"fill:#1f77b4;stroke:#1f77b4;\" x=\"72.552235\" xlink:href=\"#m931ff9a090\" y=\"115.929341\"/>\r\n     <use style=\"fill:#1f77b4;stroke:#1f77b4;\" x=\"139.928513\" xlink:href=\"#m931ff9a090\" y=\"74.231019\"/>\r\n     <use style=\"fill:#1f77b4;stroke:#1f77b4;\" x=\"109.08192\" xlink:href=\"#m931ff9a090\" y=\"76.870696\"/>\r\n     <use style=\"fill:#1f77b4;stroke:#1f77b4;\" x=\"115.971644\" xlink:href=\"#m931ff9a090\" y=\"79.329821\"/>\r\n     <use style=\"fill:#1f77b4;stroke:#1f77b4;\" x=\"108.006458\" xlink:href=\"#m931ff9a090\" y=\"87.889987\"/>\r\n     <use style=\"fill:#1f77b4;stroke:#1f77b4;\" x=\"101.875433\" xlink:href=\"#m931ff9a090\" y=\"84.644056\"/>\r\n     <use style=\"fill:#1f77b4;stroke:#1f77b4;\" x=\"61.705733\" xlink:href=\"#m931ff9a090\" y=\"119.682094\"/>\r\n     <use style=\"fill:#1f77b4;stroke:#1f77b4;\" x=\"37.81946\" xlink:href=\"#m931ff9a090\" y=\"124.577048\"/>\r\n     <use style=\"fill:#1f77b4;stroke:#1f77b4;\" x=\"153.327583\" xlink:href=\"#m931ff9a090\" y=\"49.938144\"/>\r\n     <use style=\"fill:#1f77b4;stroke:#1f77b4;\" x=\"93.031552\" xlink:href=\"#m931ff9a090\" y=\"98.826846\"/>\r\n     <use style=\"fill:#1f77b4;stroke:#1f77b4;\" x=\"168.627355\" xlink:href=\"#m931ff9a090\" y=\"56.970111\"/>\r\n     <use style=\"fill:#1f77b4;stroke:#1f77b4;\" x=\"121.038682\" xlink:href=\"#m931ff9a090\" y=\"81.727966\"/>\r\n     <use style=\"fill:#1f77b4;stroke:#1f77b4;\" x=\"143.356189\" xlink:href=\"#m931ff9a090\" y=\"75.504217\"/>\r\n     <use style=\"fill:#1f77b4;stroke:#1f77b4;\" x=\"76.954697\" xlink:href=\"#m931ff9a090\" y=\"109.246062\"/>\r\n     <use style=\"fill:#1f77b4;stroke:#1f77b4;\" x=\"102.514609\" xlink:href=\"#m931ff9a090\" y=\"98.112393\"/>\r\n     <use style=\"fill:#1f77b4;stroke:#1f77b4;\" x=\"143.402121\" xlink:href=\"#m931ff9a090\" y=\"63.17424\"/>\r\n    </g>\r\n   </g>\r\n   <g id=\"matplotlib.axis_1\">\r\n    <g id=\"xtick_1\">\r\n     <g id=\"line2d_1\">\r\n      <defs>\r\n       <path d=\"M 0 0 \r\nL 0 3.5 \r\n\" id=\"m4e77436974\" style=\"stroke:#000000;stroke-width:0.8;\"/>\r\n      </defs>\r\n      <g>\r\n       <use style=\"stroke:#000000;stroke-width:0.8;\" x=\"40.716564\" xlink:href=\"#m4e77436974\" y=\"143.1\"/>\r\n      </g>\r\n     </g>\r\n     <g id=\"text_1\">\r\n      <!-- −1 -->\r\n      <g transform=\"translate(33.345471 157.698438)scale(0.1 -0.1)\">\r\n       <defs>\r\n        <path d=\"M 10.59375 35.5 \r\nL 73.1875 35.5 \r\nL 73.1875 27.203125 \r\nL 10.59375 27.203125 \r\nz\r\n\" id=\"DejaVuSans-8722\"/>\r\n        <path d=\"M 12.40625 8.296875 \r\nL 28.515625 8.296875 \r\nL 28.515625 63.921875 \r\nL 10.984375 60.40625 \r\nL 10.984375 69.390625 \r\nL 28.421875 72.90625 \r\nL 38.28125 72.90625 \r\nL 38.28125 8.296875 \r\nL 54.390625 8.296875 \r\nL 54.390625 0 \r\nL 12.40625 0 \r\nz\r\n\" id=\"DejaVuSans-49\"/>\r\n       </defs>\r\n       <use xlink:href=\"#DejaVuSans-8722\"/>\r\n       <use x=\"83.789062\" xlink:href=\"#DejaVuSans-49\"/>\r\n      </g>\r\n     </g>\r\n    </g>\r\n    <g id=\"xtick_2\">\r\n     <g id=\"line2d_2\">\r\n      <g>\r\n       <use style=\"stroke:#000000;stroke-width:0.8;\" x=\"81.455401\" xlink:href=\"#m4e77436974\" y=\"143.1\"/>\r\n      </g>\r\n     </g>\r\n     <g id=\"text_2\">\r\n      <!-- 0 -->\r\n      <g transform=\"translate(78.274151 157.698438)scale(0.1 -0.1)\">\r\n       <defs>\r\n        <path d=\"M 31.78125 66.40625 \r\nQ 24.171875 66.40625 20.328125 58.90625 \r\nQ 16.5 51.421875 16.5 36.375 \r\nQ 16.5 21.390625 20.328125 13.890625 \r\nQ 24.171875 6.390625 31.78125 6.390625 \r\nQ 39.453125 6.390625 43.28125 13.890625 \r\nQ 47.125 21.390625 47.125 36.375 \r\nQ 47.125 51.421875 43.28125 58.90625 \r\nQ 39.453125 66.40625 31.78125 66.40625 \r\nz\r\nM 31.78125 74.21875 \r\nQ 44.046875 74.21875 50.515625 64.515625 \r\nQ 56.984375 54.828125 56.984375 36.375 \r\nQ 56.984375 17.96875 50.515625 8.265625 \r\nQ 44.046875 -1.421875 31.78125 -1.421875 \r\nQ 19.53125 -1.421875 13.0625 8.265625 \r\nQ 6.59375 17.96875 6.59375 36.375 \r\nQ 6.59375 54.828125 13.0625 64.515625 \r\nQ 19.53125 74.21875 31.78125 74.21875 \r\nz\r\n\" id=\"DejaVuSans-48\"/>\r\n       </defs>\r\n       <use xlink:href=\"#DejaVuSans-48\"/>\r\n      </g>\r\n     </g>\r\n    </g>\r\n    <g id=\"xtick_3\">\r\n     <g id=\"line2d_3\">\r\n      <g>\r\n       <use style=\"stroke:#000000;stroke-width:0.8;\" x=\"122.194237\" xlink:href=\"#m4e77436974\" y=\"143.1\"/>\r\n      </g>\r\n     </g>\r\n     <g id=\"text_3\">\r\n      <!-- 1 -->\r\n      <g transform=\"translate(119.012987 157.698438)scale(0.1 -0.1)\">\r\n       <use xlink:href=\"#DejaVuSans-49\"/>\r\n      </g>\r\n     </g>\r\n    </g>\r\n    <g id=\"xtick_4\">\r\n     <g id=\"line2d_4\">\r\n      <g>\r\n       <use style=\"stroke:#000000;stroke-width:0.8;\" x=\"162.933073\" xlink:href=\"#m4e77436974\" y=\"143.1\"/>\r\n      </g>\r\n     </g>\r\n     <g id=\"text_4\">\r\n      <!-- 2 -->\r\n      <g transform=\"translate(159.751823 157.698438)scale(0.1 -0.1)\">\r\n       <defs>\r\n        <path d=\"M 19.1875 8.296875 \r\nL 53.609375 8.296875 \r\nL 53.609375 0 \r\nL 7.328125 0 \r\nL 7.328125 8.296875 \r\nQ 12.9375 14.109375 22.625 23.890625 \r\nQ 32.328125 33.6875 34.8125 36.53125 \r\nQ 39.546875 41.84375 41.421875 45.53125 \r\nQ 43.3125 49.21875 43.3125 52.78125 \r\nQ 43.3125 58.59375 39.234375 62.25 \r\nQ 35.15625 65.921875 28.609375 65.921875 \r\nQ 23.96875 65.921875 18.8125 64.3125 \r\nQ 13.671875 62.703125 7.8125 59.421875 \r\nL 7.8125 69.390625 \r\nQ 13.765625 71.78125 18.9375 73 \r\nQ 24.125 74.21875 28.421875 74.21875 \r\nQ 39.75 74.21875 46.484375 68.546875 \r\nQ 53.21875 62.890625 53.21875 53.421875 \r\nQ 53.21875 48.921875 51.53125 44.890625 \r\nQ 49.859375 40.875 45.40625 35.40625 \r\nQ 44.1875 33.984375 37.640625 27.21875 \r\nQ 31.109375 20.453125 19.1875 8.296875 \r\nz\r\n\" id=\"DejaVuSans-50\"/>\r\n       </defs>\r\n       <use xlink:href=\"#DejaVuSans-50\"/>\r\n      </g>\r\n     </g>\r\n    </g>\r\n    <g id=\"xtick_5\">\r\n     <g id=\"line2d_5\">\r\n      <g>\r\n       <use style=\"stroke:#000000;stroke-width:0.8;\" x=\"203.67191\" xlink:href=\"#m4e77436974\" y=\"143.1\"/>\r\n      </g>\r\n     </g>\r\n     <g id=\"text_5\">\r\n      <!-- 3 -->\r\n      <g transform=\"translate(200.49066 157.698438)scale(0.1 -0.1)\">\r\n       <defs>\r\n        <path d=\"M 40.578125 39.3125 \r\nQ 47.65625 37.796875 51.625 33 \r\nQ 55.609375 28.21875 55.609375 21.1875 \r\nQ 55.609375 10.40625 48.1875 4.484375 \r\nQ 40.765625 -1.421875 27.09375 -1.421875 \r\nQ 22.515625 -1.421875 17.65625 -0.515625 \r\nQ 12.796875 0.390625 7.625 2.203125 \r\nL 7.625 11.71875 \r\nQ 11.71875 9.328125 16.59375 8.109375 \r\nQ 21.484375 6.890625 26.8125 6.890625 \r\nQ 36.078125 6.890625 40.9375 10.546875 \r\nQ 45.796875 14.203125 45.796875 21.1875 \r\nQ 45.796875 27.640625 41.28125 31.265625 \r\nQ 36.765625 34.90625 28.71875 34.90625 \r\nL 20.21875 34.90625 \r\nL 20.21875 43.015625 \r\nL 29.109375 43.015625 \r\nQ 36.375 43.015625 40.234375 45.921875 \r\nQ 44.09375 48.828125 44.09375 54.296875 \r\nQ 44.09375 59.90625 40.109375 62.90625 \r\nQ 36.140625 65.921875 28.71875 65.921875 \r\nQ 24.65625 65.921875 20.015625 65.03125 \r\nQ 15.375 64.15625 9.8125 62.3125 \r\nL 9.8125 71.09375 \r\nQ 15.4375 72.65625 20.34375 73.4375 \r\nQ 25.25 74.21875 29.59375 74.21875 \r\nQ 40.828125 74.21875 47.359375 69.109375 \r\nQ 53.90625 64.015625 53.90625 55.328125 \r\nQ 53.90625 49.265625 50.4375 45.09375 \r\nQ 46.96875 40.921875 40.578125 39.3125 \r\nz\r\n\" id=\"DejaVuSans-51\"/>\r\n       </defs>\r\n       <use xlink:href=\"#DejaVuSans-51\"/>\r\n      </g>\r\n     </g>\r\n    </g>\r\n   </g>\r\n   <g id=\"matplotlib.axis_2\">\r\n    <g id=\"ytick_1\">\r\n     <g id=\"line2d_6\">\r\n      <defs>\r\n       <path d=\"M 0 0 \r\nL -3.5 0 \r\n\" id=\"mffe5fea196\" style=\"stroke:#000000;stroke-width:0.8;\"/>\r\n      </defs>\r\n      <g>\r\n       <use style=\"stroke:#000000;stroke-width:0.8;\" x=\"28.942188\" xlink:href=\"#mffe5fea196\" y=\"131.899328\"/>\r\n      </g>\r\n     </g>\r\n     <g id=\"text_6\">\r\n      <!-- −2 -->\r\n      <g transform=\"translate(7.2 135.698547)scale(0.1 -0.1)\">\r\n       <use xlink:href=\"#DejaVuSans-8722\"/>\r\n       <use x=\"83.789062\" xlink:href=\"#DejaVuSans-50\"/>\r\n      </g>\r\n     </g>\r\n    </g>\r\n    <g id=\"ytick_2\">\r\n     <g id=\"line2d_7\">\r\n      <g>\r\n       <use style=\"stroke:#000000;stroke-width:0.8;\" x=\"28.942188\" xlink:href=\"#mffe5fea196\" y=\"104.869265\"/>\r\n      </g>\r\n     </g>\r\n     <g id=\"text_7\">\r\n      <!-- 0 -->\r\n      <g transform=\"translate(15.579688 108.668484)scale(0.1 -0.1)\">\r\n       <use xlink:href=\"#DejaVuSans-48\"/>\r\n      </g>\r\n     </g>\r\n    </g>\r\n    <g id=\"ytick_3\">\r\n     <g id=\"line2d_8\">\r\n      <g>\r\n       <use style=\"stroke:#000000;stroke-width:0.8;\" x=\"28.942188\" xlink:href=\"#mffe5fea196\" y=\"77.839203\"/>\r\n      </g>\r\n     </g>\r\n     <g id=\"text_8\">\r\n      <!-- 2 -->\r\n      <g transform=\"translate(15.579688 81.638422)scale(0.1 -0.1)\">\r\n       <use xlink:href=\"#DejaVuSans-50\"/>\r\n      </g>\r\n     </g>\r\n    </g>\r\n    <g id=\"ytick_4\">\r\n     <g id=\"line2d_9\">\r\n      <g>\r\n       <use style=\"stroke:#000000;stroke-width:0.8;\" x=\"28.942188\" xlink:href=\"#mffe5fea196\" y=\"50.80914\"/>\r\n      </g>\r\n     </g>\r\n     <g id=\"text_9\">\r\n      <!-- 4 -->\r\n      <g transform=\"translate(15.579688 54.608359)scale(0.1 -0.1)\">\r\n       <defs>\r\n        <path d=\"M 37.796875 64.3125 \r\nL 12.890625 25.390625 \r\nL 37.796875 25.390625 \r\nz\r\nM 35.203125 72.90625 \r\nL 47.609375 72.90625 \r\nL 47.609375 25.390625 \r\nL 58.015625 25.390625 \r\nL 58.015625 17.1875 \r\nL 47.609375 17.1875 \r\nL 47.609375 0 \r\nL 37.796875 0 \r\nL 37.796875 17.1875 \r\nL 4.890625 17.1875 \r\nL 4.890625 26.703125 \r\nz\r\n\" id=\"DejaVuSans-52\"/>\r\n       </defs>\r\n       <use xlink:href=\"#DejaVuSans-52\"/>\r\n      </g>\r\n     </g>\r\n    </g>\r\n    <g id=\"ytick_5\">\r\n     <g id=\"line2d_10\">\r\n      <g>\r\n       <use style=\"stroke:#000000;stroke-width:0.8;\" x=\"28.942188\" xlink:href=\"#mffe5fea196\" y=\"23.779078\"/>\r\n      </g>\r\n     </g>\r\n     <g id=\"text_10\">\r\n      <!-- 6 -->\r\n      <g transform=\"translate(15.579688 27.578296)scale(0.1 -0.1)\">\r\n       <defs>\r\n        <path d=\"M 33.015625 40.375 \r\nQ 26.375 40.375 22.484375 35.828125 \r\nQ 18.609375 31.296875 18.609375 23.390625 \r\nQ 18.609375 15.53125 22.484375 10.953125 \r\nQ 26.375 6.390625 33.015625 6.390625 \r\nQ 39.65625 6.390625 43.53125 10.953125 \r\nQ 47.40625 15.53125 47.40625 23.390625 \r\nQ 47.40625 31.296875 43.53125 35.828125 \r\nQ 39.65625 40.375 33.015625 40.375 \r\nz\r\nM 52.59375 71.296875 \r\nL 52.59375 62.3125 \r\nQ 48.875 64.0625 45.09375 64.984375 \r\nQ 41.3125 65.921875 37.59375 65.921875 \r\nQ 27.828125 65.921875 22.671875 59.328125 \r\nQ 17.53125 52.734375 16.796875 39.40625 \r\nQ 19.671875 43.65625 24.015625 45.921875 \r\nQ 28.375 48.1875 33.59375 48.1875 \r\nQ 44.578125 48.1875 50.953125 41.515625 \r\nQ 57.328125 34.859375 57.328125 23.390625 \r\nQ 57.328125 12.15625 50.6875 5.359375 \r\nQ 44.046875 -1.421875 33.015625 -1.421875 \r\nQ 20.359375 -1.421875 13.671875 8.265625 \r\nQ 6.984375 17.96875 6.984375 36.375 \r\nQ 6.984375 53.65625 15.1875 63.9375 \r\nQ 23.390625 74.21875 37.203125 74.21875 \r\nQ 40.921875 74.21875 44.703125 73.484375 \r\nQ 48.484375 72.75 52.59375 71.296875 \r\nz\r\n\" id=\"DejaVuSans-54\"/>\r\n       </defs>\r\n       <use xlink:href=\"#DejaVuSans-54\"/>\r\n      </g>\r\n     </g>\r\n    </g>\r\n   </g>\r\n   <g id=\"patch_3\">\r\n    <path d=\"M 28.942188 143.1 \r\nL 28.942188 7.2 \r\n\" style=\"fill:none;stroke:#000000;stroke-linecap:square;stroke-linejoin:miter;stroke-width:0.8;\"/>\r\n   </g>\r\n   <g id=\"patch_4\">\r\n    <path d=\"M 224.242188 143.1 \r\nL 224.242188 7.2 \r\n\" style=\"fill:none;stroke:#000000;stroke-linecap:square;stroke-linejoin:miter;stroke-width:0.8;\"/>\r\n   </g>\r\n   <g id=\"patch_5\">\r\n    <path d=\"M 28.942188 143.1 \r\nL 224.242188 143.1 \r\n\" style=\"fill:none;stroke:#000000;stroke-linecap:square;stroke-linejoin:miter;stroke-width:0.8;\"/>\r\n   </g>\r\n   <g id=\"patch_6\">\r\n    <path d=\"M 28.942188 7.2 \r\nL 224.242188 7.2 \r\n\" style=\"fill:none;stroke:#000000;stroke-linecap:square;stroke-linejoin:miter;stroke-width:0.8;\"/>\r\n   </g>\r\n  </g>\r\n </g>\r\n <defs>\r\n  <clipPath id=\"p66b1c13715\">\r\n   <rect height=\"135.9\" width=\"195.3\" x=\"28.942188\" y=\"7.2\"/>\r\n  </clipPath>\r\n </defs>\r\n</svg>\r\n"
     },
     "metadata": {
      "needs_background": "light"
     }
    }
   ],
   "source": [
    "d2l.set_figsize()\n",
    "d2l.plt.scatter(data[:100, 0].numpy(), data[:100, 1].numpy());\n",
    "print(f'The covariance matrix is\\n{torch.mm(A.T, A)}')"
   ]
  },
  {
   "cell_type": "code",
   "execution_count": 4,
   "metadata": {},
   "outputs": [],
   "source": [
    "batch_size = 8\n",
    "data_iter = DataLoader(data, batch_size=batch_size)"
   ]
  },
  {
   "cell_type": "code",
   "execution_count": 5,
   "metadata": {},
   "outputs": [],
   "source": [
    "net_G = nn.Sequential()\n",
    "net_G.add_module(\"Linear\", nn.Linear(2, 2))"
   ]
  },
  {
   "cell_type": "code",
   "execution_count": 6,
   "metadata": {},
   "outputs": [],
   "source": [
    "net_D = nn.Sequential()\n",
    "net_D.add_module(\"Linear1t\", nn.Linear(2, 5))\n",
    "net_D.add_module(\"Tanh1\", nn.Tanh())\n",
    "net_D.add_module(\"Linear2t\", nn.Linear(5, 3))\n",
    "net_D.add_module(\"Tanh2\", nn.Tanh())\n",
    "net_D.add_module(\"Linear3\", nn.Linear(3, 1))\n",
    "net_D.add_module(\"Sigmoid\", nn.Sigmoid())\n"
   ]
  },
  {
   "cell_type": "code",
   "execution_count": 7,
   "metadata": {},
   "outputs": [],
   "source": [
    "#@save\n",
    "def update_D(X, Z, net_D, net_G, loss, trainer_D):\n",
    "    \"\"\"Update discriminator.\"\"\"\n",
    "    batch_size = X.shape[0]\n",
    "    ones = torch.ones(batch_size)\n",
    "    zeros = torch.zeros(batch_size)\n",
    "    trainer_D.zero_grad()\n",
    "    real_Y = net_D(X)\n",
    "    fake_X = net_G(Z)\n",
    "    # Do not need to compute gradient for `net_G`, detach it from\n",
    "    # computing gradients.\n",
    "    fake_Y = net_D(fake_X.detach())\n",
    "    loss_D = (loss(real_Y, ones) + loss(fake_Y, zeros)) / 2\n",
    "    loss_D.backward()\n",
    "    trainer_D.step()\n",
    "    return float(loss_D.sum())"
   ]
  },
  {
   "cell_type": "code",
   "execution_count": 8,
   "metadata": {},
   "outputs": [],
   "source": [
    "#@save\n",
    "def update_G(Z, net_D, net_G, loss, trainer_G):\n",
    "    \"\"\"Update generator.\"\"\"\n",
    "    batch_size = Z.shape[0]\n",
    "    ones = torch.ones(batch_size)\n",
    "    trainer_D.zero_grad()\n",
    "    # We could reuse `fake_X` from `update_D` to save computation\n",
    "    fake_X = net_G(Z)\n",
    "    # Recomputing `fake_Y` is needed since `net_D` is changed\n",
    "    fake_Y = net_D(fake_X)\n",
    "    loss_G = (loss(real_Y, ones) + loss(fake_Y, zeros)) / 2\n",
    "    loss_G.backward()\n",
    "    trainer_G.step()\n",
    "    return float(loss_G.sum())"
   ]
  },
  {
   "cell_type": "code",
   "execution_count": 9,
   "metadata": {},
   "outputs": [],
   "source": [
    "def train(net_D, net_G, data_iter, num_epochs, lr_D, lr_G, latent_dim, data):\n",
    "    loss = nn.BCELoss()\n",
    "    for w in net_D.parameters():\n",
    "        nn.init.normal_(w, 0, 0.02)\n",
    "    for w in net_G.parameters():\n",
    "        nn.init.normal_(w, 0, 0.02)\n",
    "    trainer_D = torch.optim.Adam(net_D.parameters(), lr=lr_D)\n",
    "    trainer_G = torch.optim.Adam(net_G.parameters(), lr=lr_G)\n",
    "    animator = d2l.Animator(xlabel='epoch', ylabel='loss',\n",
    "                            xlim=[1, num_epochs], nrows=2, figsize=(5, 5),\n",
    "                            legend=['generator', 'discriminator'])\n",
    "    animator.fig.subplots_adjust(hspace=0.3)\n",
    "    for epoch in range(num_epochs):\n",
    "        # Train one epoch\n",
    "        timer = d2l.Timer()\n",
    "        metric = d2l.Accumulator(3)  # loss_D, loss_G, num_examples\n",
    "        for X in data_iter:\n",
    "            X = Variable(X)\n",
    "            batch_size = X.shape[0]\n",
    "            Z = torch.normal(0, 1, size=(batch_size, latent_dim))\n",
    "            metric.add(update_D(X, Z, net_D, net_G, loss, trainer_D),\n",
    "                       update_G(Z, net_D, net_G, loss, trainer_G),\n",
    "                       batch_size)\n",
    "        # Visualize generated examples\n",
    "        Z = torch.normal(0, 1, size=(100, latent_dim))\n",
    "        fake_X = net_G(Z).numpy()\n",
    "        animator.axes[1].cla()\n",
    "        animator.axes[1].scatter(data[:, 0], data[:, 1])\n",
    "        animator.axes[1].scatter(fake_X[:, 0], fake_X[:, 1])\n",
    "        animator.axes[1].legend(['real', 'generated'])\n",
    "        # Show the losses\n",
    "        loss_D, loss_G = metric[0]/metric[2], metric[1]/metric[2]\n",
    "        animator.add(epoch + 1, (loss_D, loss_G))\n",
    "    print(f'loss_D {loss_D:.3f}, loss_G {loss_G:.3f}, '\n",
    "          f'{metric[2] / timer.stop():.1f} examples/sec')"
   ]
  },
  {
   "cell_type": "code",
   "execution_count": 10,
   "metadata": {},
   "outputs": [
    {
     "output_type": "error",
     "ename": "NameError",
     "evalue": "name 'trainer_D' is not defined",
     "traceback": [
      "\u001b[1;31m---------------------------------------------------------------------------\u001b[0m",
      "\u001b[1;31mNameError\u001b[0m                                 Traceback (most recent call last)",
      "\u001b[1;32m<ipython-input-10-46803ce9c191>\u001b[0m in \u001b[0;36m<module>\u001b[1;34m\u001b[0m\n\u001b[0;32m      1\u001b[0m \u001b[0mlr_D\u001b[0m\u001b[1;33m,\u001b[0m \u001b[0mlr_G\u001b[0m\u001b[1;33m,\u001b[0m \u001b[0mlatent_dim\u001b[0m\u001b[1;33m,\u001b[0m \u001b[0mnum_epochs\u001b[0m \u001b[1;33m=\u001b[0m \u001b[1;36m0.05\u001b[0m\u001b[1;33m,\u001b[0m \u001b[1;36m0.005\u001b[0m\u001b[1;33m,\u001b[0m \u001b[1;36m2\u001b[0m\u001b[1;33m,\u001b[0m \u001b[1;36m20\u001b[0m\u001b[1;33m\u001b[0m\u001b[1;33m\u001b[0m\u001b[0m\n\u001b[1;32m----> 2\u001b[1;33m train(net_D, net_G, data_iter, num_epochs, lr_D, lr_G,\n\u001b[0m\u001b[0;32m      3\u001b[0m       latent_dim, data[:100].numpy())\n",
      "\u001b[1;32m<ipython-input-9-af00191c3363>\u001b[0m in \u001b[0;36mtrain\u001b[1;34m(net_D, net_G, data_iter, num_epochs, lr_D, lr_G, latent_dim, data)\u001b[0m\n\u001b[0;32m     20\u001b[0m             \u001b[0mZ\u001b[0m \u001b[1;33m=\u001b[0m \u001b[0mtorch\u001b[0m\u001b[1;33m.\u001b[0m\u001b[0mnormal\u001b[0m\u001b[1;33m(\u001b[0m\u001b[1;36m0\u001b[0m\u001b[1;33m,\u001b[0m \u001b[1;36m1\u001b[0m\u001b[1;33m,\u001b[0m \u001b[0msize\u001b[0m\u001b[1;33m=\u001b[0m\u001b[1;33m(\u001b[0m\u001b[0mbatch_size\u001b[0m\u001b[1;33m,\u001b[0m \u001b[0mlatent_dim\u001b[0m\u001b[1;33m)\u001b[0m\u001b[1;33m)\u001b[0m\u001b[1;33m\u001b[0m\u001b[1;33m\u001b[0m\u001b[0m\n\u001b[0;32m     21\u001b[0m             metric.add(update_D(X, Z, net_D, net_G, loss, trainer_D),\n\u001b[1;32m---> 22\u001b[1;33m                        \u001b[0mupdate_G\u001b[0m\u001b[1;33m(\u001b[0m\u001b[0mZ\u001b[0m\u001b[1;33m,\u001b[0m \u001b[0mnet_D\u001b[0m\u001b[1;33m,\u001b[0m \u001b[0mnet_G\u001b[0m\u001b[1;33m,\u001b[0m \u001b[0mloss\u001b[0m\u001b[1;33m,\u001b[0m \u001b[0mtrainer_G\u001b[0m\u001b[1;33m)\u001b[0m\u001b[1;33m,\u001b[0m\u001b[1;33m\u001b[0m\u001b[1;33m\u001b[0m\u001b[0m\n\u001b[0m\u001b[0;32m     23\u001b[0m                        batch_size)\n\u001b[0;32m     24\u001b[0m         \u001b[1;31m# Visualize generated examples\u001b[0m\u001b[1;33m\u001b[0m\u001b[1;33m\u001b[0m\u001b[1;33m\u001b[0m\u001b[0m\n",
      "\u001b[1;32m<ipython-input-8-7a7b7003a18d>\u001b[0m in \u001b[0;36mupdate_G\u001b[1;34m(Z, net_D, net_G, loss, trainer_G)\u001b[0m\n\u001b[0;32m      4\u001b[0m     \u001b[0mbatch_size\u001b[0m \u001b[1;33m=\u001b[0m \u001b[0mZ\u001b[0m\u001b[1;33m.\u001b[0m\u001b[0mshape\u001b[0m\u001b[1;33m[\u001b[0m\u001b[1;36m0\u001b[0m\u001b[1;33m]\u001b[0m\u001b[1;33m\u001b[0m\u001b[1;33m\u001b[0m\u001b[0m\n\u001b[0;32m      5\u001b[0m     \u001b[0mones\u001b[0m \u001b[1;33m=\u001b[0m \u001b[0mtorch\u001b[0m\u001b[1;33m.\u001b[0m\u001b[0mones\u001b[0m\u001b[1;33m(\u001b[0m\u001b[0mbatch_size\u001b[0m\u001b[1;33m)\u001b[0m\u001b[1;33m\u001b[0m\u001b[1;33m\u001b[0m\u001b[0m\n\u001b[1;32m----> 6\u001b[1;33m     \u001b[0mtrainer_D\u001b[0m\u001b[1;33m.\u001b[0m\u001b[0mzero_grad\u001b[0m\u001b[1;33m(\u001b[0m\u001b[1;33m)\u001b[0m\u001b[1;33m\u001b[0m\u001b[1;33m\u001b[0m\u001b[0m\n\u001b[0m\u001b[0;32m      7\u001b[0m     \u001b[1;31m# We could reuse `fake_X` from `update_D` to save computation\u001b[0m\u001b[1;33m\u001b[0m\u001b[1;33m\u001b[0m\u001b[1;33m\u001b[0m\u001b[0m\n\u001b[0;32m      8\u001b[0m     \u001b[0mfake_X\u001b[0m \u001b[1;33m=\u001b[0m \u001b[0mnet_G\u001b[0m\u001b[1;33m(\u001b[0m\u001b[0mZ\u001b[0m\u001b[1;33m)\u001b[0m\u001b[1;33m\u001b[0m\u001b[1;33m\u001b[0m\u001b[0m\n",
      "\u001b[1;31mNameError\u001b[0m: name 'trainer_D' is not defined"
     ]
    }
   ],
   "source": [
    "lr_D, lr_G, latent_dim, num_epochs = 0.05, 0.005, 2, 20\n",
    "train(net_D, net_G, data_iter, num_epochs, lr_D, lr_G,\n",
    "      latent_dim, data[:100].numpy())"
   ]
  },
  {
   "cell_type": "code",
   "execution_count": null,
   "metadata": {},
   "outputs": [],
   "source": []
  }
 ]
}