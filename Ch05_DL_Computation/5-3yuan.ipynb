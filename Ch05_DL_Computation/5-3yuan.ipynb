{
 "cells": [
  {
   "cell_type": "markdown",
   "metadata": {},
   "source": [
    "https://github.com/dsgiitr/d2l-pytorch/pull/13/commits\n",
    "\n",
    "https://render.githubusercontent.com/view/ipynb?commit=9a2b9f31e5933f89e3ed9d8fb5ffd38a9fc3900d&enc_url=68747470733a2f2f7261772e67697468756275736572636f6e74656e742e636f6d2f647367696974722f64326c2d7079746f7263682f396132623966333165353933336638396533656439643866623566666433386139666333393030642f436830375f446565705f4c6561726e696e675f436f6d7075746174696f6e2f44656665727265645f496e697469616c697a6174696f6e2e6970796e62&nwo=dsgiitr%2Fd2l-pytorch&path=Ch07_Deep_Learning_Computation%2FDeferred_Initialization.ipynb&repository_id=186088004&repository_type=Repository#Deferred-Initialization"
   ]
  },
  {
   "cell_type": "code",
   "execution_count": 1,
   "metadata": {},
   "outputs": [],
   "source": [
    "import torch\n",
    "import torch.nn as nn"
   ]
  },
  {
   "cell_type": "code",
   "execution_count": 2,
   "metadata": {},
   "outputs": [],
   "source": [
    "\n",
    "def getnet(in_features,out_features):\n",
    "    net=nn.Sequential(\n",
    "    nn.Linear(in_features,256),\n",
    "    nn.ReLU(),\n",
    "    nn.Linear(256,out_features))\n",
    "    \n",
    "    return net\n",
    "\n",
    "net=getnet(20,10)\n"
   ]
  },
  {
   "cell_type": "code",
   "execution_count": 3,
   "metadata": {
    "tags": []
   },
   "outputs": [
    {
     "output_type": "stream",
     "name": "stdout",
     "text": "0.weight torch.Size([256, 20])\n0.bias torch.Size([256])\n2.weight torch.Size([10, 256])\n2.bias torch.Size([10])\n"
    }
   ],
   "source": [
    "for name,param in net.named_parameters():\n",
    "    print(name,param.shape)"
   ]
  },
  {
   "cell_type": "code",
   "execution_count": 4,
   "metadata": {
    "tags": []
   },
   "outputs": [
    {
     "output_type": "stream",
     "name": "stdout",
     "text": "Init Linear(in_features=20, out_features=256, bias=True)\nInit ReLU()\nInit Linear(in_features=256, out_features=10, bias=True)\nInit Sequential(\n  (0): Linear(in_features=20, out_features=256, bias=True)\n  (1): ReLU()\n  (2): Linear(in_features=256, out_features=10, bias=True)\n)\nParameter containing:\ntensor([[ 0.0040,  0.1503,  0.2099,  ...,  0.0333,  0.1891, -0.1229],\n        [-0.0730, -0.1172,  0.1534,  ..., -0.0358,  0.1658,  0.2179],\n        [ 0.1391, -0.1067, -0.1563,  ...,  0.0288, -0.0185, -0.1814],\n        ...,\n        [-0.0590,  0.2086, -0.1386,  ..., -0.0699,  0.0427,  0.1795],\n        [-0.0741, -0.0845,  0.1744,  ..., -0.0323,  0.0050,  0.1605],\n        [ 0.0305,  0.0158, -0.0566,  ..., -0.1727, -0.0606,  0.2017]],\n       requires_grad=True)\nParameter containing:\ntensor([[-0.0546,  0.0091,  0.0222,  ...,  0.0157,  0.0368,  0.0350],\n        [-0.0244, -0.0574, -0.0106,  ...,  0.0100,  0.0228,  0.0155],\n        [ 0.0324, -0.0243,  0.0564,  ..., -0.0400,  0.0428,  0.0472],\n        ...,\n        [-0.0288,  0.0461,  0.0431,  ..., -0.0008, -0.0118,  0.0161],\n        [ 0.0553, -0.0434, -0.0409,  ...,  0.0168, -0.0552, -0.0310],\n        [-0.0503, -0.0525, -0.0008,  ..., -0.0319,  0.0572,  0.0263]],\n       requires_grad=True)\n"
    }
   ],
   "source": [
    "def init_weights(m):\n",
    "    print(\"Init\",m)\n",
    "    \n",
    "net.apply(init_weights)\n",
    "\n",
    "print(net[0].weight)\n",
    "print(net[2].weight)"
   ]
  },
  {
   "cell_type": "code",
   "execution_count": 5,
   "metadata": {
    "tags": []
   },
   "outputs": [
    {
     "output_type": "stream",
     "name": "stdout",
     "text": "Sequential(\n  (Linear1): Linear(in_features=20, out_features=256, bias=True)\n  (Linear2): Linear(in_features=256, out_features=10, bias=True)\n)\n"
    }
   ],
   "source": [
    "net1=nn.Sequential()\n",
    "net1.add_module(\"Linear1\",nn.Linear(20,256))\n",
    "net1.add_module(\"Linear2\",nn.Linear(256,10))\n",
    "print(net1)"
   ]
  },
  {
   "cell_type": "code",
   "execution_count": 6,
   "metadata": {},
   "outputs": [],
   "source": [
    "def init_weights_forced(m):\n",
    "    if type(m) == nn.Linear:\n",
    "        torch.nn.init.xavier_uniform_(m.weight)"
   ]
  },
  {
   "cell_type": "code",
   "execution_count": 7,
   "metadata": {
    "tags": []
   },
   "outputs": [
    {
     "output_type": "stream",
     "name": "stdout",
     "text": "Linear1.weight torch.Size([256, 20])\nLinear1.bias torch.Size([256])\nLinear2.weight torch.Size([10, 256])\nLinear2.bias torch.Size([10])\n"
    }
   ],
   "source": [
    "net1.apply(init_weights_forced)\n",
    "for name,param in net1.named_parameters():\n",
    "    print(name,param.shape)"
   ]
  },
  {
   "cell_type": "code",
   "execution_count": null,
   "metadata": {},
   "outputs": [],
   "source": []
  }
 ],
 "metadata": {
  "language_info": {
   "codemirror_mode": {
    "name": "ipython",
    "version": 3
   },
   "file_extension": ".py",
   "mimetype": "text/x-python",
   "name": "python",
   "nbconvert_exporter": "python",
   "pygments_lexer": "ipython3",
   "version": "3.7.6-final"
  },
  "orig_nbformat": 2,
  "kernelspec": {
   "name": "python37664bitpytorchconda0cdad03962454fdfb22b6d3ea1ad8fae",
   "display_name": "Python 3.7.6 64-bit ('pytorch': conda)"
  }
 },
 "nbformat": 4,
 "nbformat_minor": 2
}