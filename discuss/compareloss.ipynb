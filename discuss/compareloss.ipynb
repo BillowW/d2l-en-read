{
 "cells": [
  {
   "cell_type": "markdown",
   "metadata": {},
   "source": [
    "NumPy init"
   ]
  },
  {
   "cell_type": "code",
   "execution_count": 1,
   "metadata": {},
   "outputs": [],
   "source": [
    "import numpy as np    \n",
    "from copy import deepcopy\n",
    "np.random.seed(99)"
   ]
  },
  {
   "cell_type": "code",
   "execution_count": 2,
   "metadata": {},
   "outputs": [],
   "source": [
    "# N is batch size; D_in is input dimension;\n",
    "# H is hidden dimension; D_out is output dimension.\n",
    "N, D_in, H, D_out = 16, 100, 10, 2"
   ]
  },
  {
   "cell_type": "code",
   "execution_count": 3,
   "metadata": {},
   "outputs": [],
   "source": [
    "# Create random input and output data\n",
    "x = np.random.randn(N, D_in)\n",
    "y = np.random.randn(N, D_out)"
   ]
  },
  {
   "cell_type": "code",
   "execution_count": 4,
   "metadata": {},
   "outputs": [],
   "source": [
    "xx = np.random.randn(D_in, H)\n",
    "yy = np.random.randn(H, D_out)"
   ]
  },
  {
   "cell_type": "code",
   "execution_count": 5,
   "metadata": {},
   "outputs": [],
   "source": [
    "w1 = deepcopy(xx)\n",
    "w2 = deepcopy(yy)"
   ]
  },
  {
   "cell_type": "markdown",
   "metadata": {},
   "source": [
    "PyTorch init"
   ]
  },
  {
   "cell_type": "code",
   "execution_count": 6,
   "metadata": {},
   "outputs": [],
   "source": [
    "import torch\n",
    "import torch.nn as nn\n",
    "from torch.autograd import Variable"
   ]
  },
  {
   "cell_type": "code",
   "execution_count": 7,
   "metadata": {},
   "outputs": [],
   "source": [
    "x_ = torch.from_numpy(x).type(torch.float64)\n",
    "y_ = torch.from_numpy(y).type(torch.float64)"
   ]
  },
  {
   "cell_type": "code",
   "execution_count": 8,
   "metadata": {},
   "outputs": [],
   "source": [
    "w1_ = torch.from_numpy(deepcopy(xx)).type(torch.float64)\n",
    "w2_ = torch.from_numpy(deepcopy(yy)).type(torch.float64)"
   ]
  },
  {
   "cell_type": "code",
   "execution_count": 9,
   "metadata": {},
   "outputs": [],
   "source": [
    "w1_ = Variable(w1_, requires_grad=True)\n",
    "w2_ = Variable(w2_, requires_grad=True)"
   ]
  },
  {
   "cell_type": "markdown",
   "metadata": {},
   "source": [
    "Numpy train"
   ]
  },
  {
   "cell_type": "code",
   "execution_count": 10,
   "metadata": {},
   "outputs": [],
   "source": [
    "def softmax(x):\n",
    "    func = np.exp(x)\n",
    "    return func / func.sum(axis=0)"
   ]
  },
  {
   "cell_type": "code",
   "execution_count": 11,
   "metadata": {
    "tags": []
   },
   "outputs": [
    {
     "output_type": "stream",
     "name": "stdout",
     "text": "Epoch [  0/500] Loss: 29.7599750339\nEpoch [ 50/500] Loss: 29.7568945381\nEpoch [100/500] Loss: 29.7530540477\nEpoch [150/500] Loss: 29.7481408013\nEpoch [200/500] Loss: 29.7416476795\nEpoch [250/500] Loss: 29.7326987989\nEpoch [300/500] Loss: 29.7196529397\nEpoch [350/500] Loss: 29.6990826814\nEpoch [400/500] Loss: 29.6626811106\nEpoch [450/500] Loss: 29.5857445210\n"
    }
   ],
   "source": [
    "learning_rate = 1e-4\n",
    "for t in range(500):\n",
    "    # Forward pass: compute predicted y\n",
    "    h = np.dot(x, w1)\n",
    "    u = np.maximum(h, 0)\n",
    "\n",
    "    z = np.dot(u, w2)\n",
    "    y_pred = softmax(z)\n",
    "\n",
    "    # Compute and print loss\n",
    "    loss = np.square(y_pred - y).sum()\n",
    "    if t % 50 == 0:\n",
    "        print(\"Epoch [{:3d}/{:3d}] Loss: {:.10f}\".format(t, 500, loss))\n",
    "\n",
    "    # Backprop to compute gradients of w1 and w2 with respect to loss\n",
    "    grad_y_pred = 2.0 * (y_pred - y)\n",
    "    grad_z = y_pred * (1 - y_pred) * grad_y_pred\n",
    "    grad_w2 = np.dot(u.T, grad_z)\n",
    "    grad_u = grad_z.dot(w2.T)\n",
    "    grad_h = grad_u.copy()\n",
    "    grad_h[h < 0] = 0\n",
    "    grad_w1 = x.T.dot(grad_h)\n",
    "\n",
    "    # Update weights\n",
    "    w1 -= learning_rate * grad_w1\n",
    "    w2 -= learning_rate * grad_w2"
   ]
  },
  {
   "cell_type": "markdown",
   "metadata": {},
   "source": [
    "PyTorch train"
   ]
  },
  {
   "cell_type": "code",
   "execution_count": 12,
   "metadata": {},
   "outputs": [],
   "source": [
    "m = nn.Softmax(dim=0)"
   ]
  },
  {
   "cell_type": "code",
   "execution_count": 13,
   "metadata": {
    "tags": []
   },
   "outputs": [
    {
     "output_type": "stream",
     "name": "stdout",
     "text": "Epoch [  0/500] Loss: 29.7599750339\nEpoch [ 50/500] Loss: 29.7555138011\nEpoch [100/500] Loss: 29.7493562321\nEpoch [150/500] Loss: 29.7403440862\nEpoch [200/500] Loss: 29.7260022571\nEpoch [250/500] Loss: 29.7000586454\nEpoch [300/500] Loss: 29.6418893830\nEpoch [350/500] Loss: 29.4537482662\nEpoch [400/500] Loss: 28.9717000115\nEpoch [450/500] Loss: 28.8537886818\n"
    }
   ],
   "source": [
    "for t in range(500):\n",
    "    h_ = x_.mm(w1_)\n",
    "    u_ = h_.clamp(min = 0)\n",
    "    z = u_.mm(w2_)\n",
    "    y_pred = m(z)\n",
    "\n",
    "    loss_ = (y_pred - y_).pow(2).sum()\n",
    "    if t % 50 == 0:\n",
    "        print(\"Epoch [{:3d}/{:3d}] Loss: {:.10f}\".format(t, 500, loss_.item()))\n",
    "    loss_.backward()\n",
    "\n",
    "    with torch.no_grad():\n",
    "        w1_ -= learning_rate * w1_.grad\n",
    "        w2_ -= learning_rate * w2_.grad\n",
    "    \n",
    "        w1_.grad.zero_()\n",
    "        w2_.grad.zero_()"
   ]
  },
  {
   "cell_type": "code",
   "execution_count": null,
   "metadata": {},
   "outputs": [],
   "source": []
  }
 ],
 "metadata": {
  "language_info": {
   "codemirror_mode": {
    "name": "ipython",
    "version": 3
   },
   "file_extension": ".py",
   "mimetype": "text/x-python",
   "name": "python",
   "nbconvert_exporter": "python",
   "pygments_lexer": "ipython3",
   "version": "3.8.3-final"
  },
  "orig_nbformat": 2,
  "kernelspec": {
   "name": "python37664bitpytorchconda0cdad03962454fdfb22b6d3ea1ad8fae",
   "display_name": "Python 3.7.6 64-bit ('pytorch': conda)"
  }
 },
 "nbformat": 4,
 "nbformat_minor": 2
}