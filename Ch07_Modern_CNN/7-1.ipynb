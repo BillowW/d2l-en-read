{
 "cells": [
  {
   "cell_type": "code",
   "execution_count": 1,
   "metadata": {},
   "outputs": [],
   "source": [
    "from d2l import torch as d2l\n",
    "import torch\n",
    "from torch import nn\n",
    "\n",
    "net = nn.Sequential(\n",
    "    nn.Conv2d(1, 96, kernel_size=11, stride=4, padding=1), nn.ReLU(),\n",
    "    nn.MaxPool2d(kernel_size=3, stride=2),\n",
    "    nn.Conv2d(96, 256, kernel_size=5, padding=2), nn.ReLU(),\n",
    "    nn.MaxPool2d(kernel_size=3, stride=2),\n",
    "    nn.Conv2d(256, 384, kernel_size=3, padding=1), nn.ReLU(),\n",
    "    nn.Conv2d(384, 384, kernel_size=3, padding=1), nn.ReLU(),\n",
    "    nn.Conv2d(384, 256, kernel_size=3, padding=1), nn.ReLU(),\n",
    "    nn.MaxPool2d(kernel_size=3, stride=2),\n",
    "    nn.Flatten(),\n",
    "    nn.Dropout(p=0.5),\n",
    "    nn.Linear(6400, 4096), nn.ReLU(),\n",
    "    nn.Dropout(p=0.5),\n",
    "    nn.Linear(4096, 4096), nn.ReLU(),\n",
    "    nn.Linear(4096, 10))"
   ]
  },
  {
   "cell_type": "code",
   "execution_count": 2,
   "metadata": {
    "tags": []
   },
   "outputs": [
    {
     "output_type": "stream",
     "name": "stdout",
     "text": "Conv2d Output shape:\t torch.Size([1, 96, 54, 54])\nReLU Output shape:\t torch.Size([1, 96, 54, 54])\nMaxPool2d Output shape:\t torch.Size([1, 96, 26, 26])\nConv2d Output shape:\t torch.Size([1, 256, 26, 26])\nReLU Output shape:\t torch.Size([1, 256, 26, 26])\nMaxPool2d Output shape:\t torch.Size([1, 256, 12, 12])\nConv2d Output shape:\t torch.Size([1, 384, 12, 12])\nReLU Output shape:\t torch.Size([1, 384, 12, 12])\nConv2d Output shape:\t torch.Size([1, 384, 12, 12])\nReLU Output shape:\t torch.Size([1, 384, 12, 12])\nConv2d Output shape:\t torch.Size([1, 256, 12, 12])\nReLU Output shape:\t torch.Size([1, 256, 12, 12])\nMaxPool2d Output shape:\t torch.Size([1, 256, 5, 5])\nFlatten Output shape:\t torch.Size([1, 6400])\nDropout Output shape:\t torch.Size([1, 6400])\nLinear Output shape:\t torch.Size([1, 4096])\nReLU Output shape:\t torch.Size([1, 4096])\nDropout Output shape:\t torch.Size([1, 4096])\nLinear Output shape:\t torch.Size([1, 4096])\nReLU Output shape:\t torch.Size([1, 4096])\nLinear Output shape:\t torch.Size([1, 10])\n"
    }
   ],
   "source": [
    "X = torch.randn(1, 1, 224, 224)\n",
    "for layer in net:\n",
    "    X=layer(X)\n",
    "    print(layer.__class__.__name__,'Output shape:\\t',X.shape)"
   ]
  },
  {
   "cell_type": "code",
   "execution_count": 3,
   "metadata": {},
   "outputs": [],
   "source": [
    "batch_size = 128\n",
    "train_iter, test_iter = d2l.load_data_fashion_mnist(batch_size, resize=224)"
   ]
  },
  {
   "cell_type": "code",
   "execution_count": null,
   "metadata": {},
   "outputs": [],
   "source": [
    "lr, num_epochs = 0.01, 10\n",
    "d2l.train_ch6(net, train_iter, test_iter, num_epochs, lr)"
   ]
  },
  {
   "cell_type": "code",
   "execution_count": null,
   "metadata": {},
   "outputs": [],
   "source": []
  }
 ],
 "metadata": {
  "language_info": {
   "codemirror_mode": {
    "name": "ipython",
    "version": 3
   },
   "file_extension": ".py",
   "mimetype": "text/x-python",
   "name": "python",
   "nbconvert_exporter": "python",
   "pygments_lexer": "ipython3",
   "version": "3.7.6-final"
  },
  "orig_nbformat": 2,
  "kernelspec": {
   "name": "python37664bitpytorchconda0cdad03962454fdfb22b6d3ea1ad8fae",
   "display_name": "Python 3.7.6 64-bit ('pytorch': conda)"
  }
 },
 "nbformat": 4,
 "nbformat_minor": 2
}