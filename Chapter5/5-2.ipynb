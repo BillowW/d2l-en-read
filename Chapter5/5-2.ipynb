{
 "cells": [
  {
   "cell_type": "code",
   "execution_count": 1,
   "metadata": {},
   "outputs": [
    {
     "output_type": "execute_result",
     "data": {
      "text/plain": "tensor([[0.1026],\n        [0.2560]], grad_fn=<AddmmBackward>)"
     },
     "metadata": {},
     "execution_count": 1
    }
   ],
   "source": [
    "import torch\n",
    "from torch import nn\n",
    "\n",
    "net = nn.Sequential(nn.Linear(4, 8), nn.ReLU(), nn.Linear(8, 1))\n",
    "x = torch.randn(2, 4)\n",
    "net(x)"
   ]
  },
  {
   "cell_type": "code",
   "execution_count": 2,
   "metadata": {
    "tags": []
   },
   "outputs": [
    {
     "output_type": "stream",
     "name": "stdout",
     "text": "OrderedDict([('weight', tensor([[-0.2463,  0.1331,  0.0854,  0.3286, -0.1736, -0.1401,  0.0085,  0.0750]])), ('bias', tensor([0.1254]))])\n"
    }
   ],
   "source": [
    "print(net[2].state_dict())"
   ]
  },
  {
   "cell_type": "code",
   "execution_count": 3,
   "metadata": {
    "tags": []
   },
   "outputs": [
    {
     "output_type": "stream",
     "name": "stdout",
     "text": "<class 'torch.nn.parameter.Parameter'>\nParameter containing:\ntensor([0.1254], requires_grad=True)\ntensor([0.1254])\n"
    }
   ],
   "source": [
    "print(type(net[2].bias))\n",
    "print(net[2].bias)\n",
    "print(net[2].bias.data)"
   ]
  },
  {
   "cell_type": "code",
   "execution_count": 4,
   "metadata": {},
   "outputs": [
    {
     "output_type": "execute_result",
     "data": {
      "text/plain": "True"
     },
     "metadata": {},
     "execution_count": 4
    }
   ],
   "source": [
    "net[0].weight.grad == None"
   ]
  },
  {
   "cell_type": "code",
   "execution_count": 5,
   "metadata": {
    "tags": []
   },
   "outputs": [
    {
     "output_type": "stream",
     "name": "stdout",
     "text": "OrderedDict([('weight', tensor([[-0.0361,  0.4743,  0.2479, -0.0250],\n        [-0.4142, -0.1750, -0.3655, -0.0489],\n        [-0.3259,  0.4776,  0.4030,  0.1075],\n        [-0.3833,  0.2880,  0.2671,  0.1117],\n        [ 0.3833,  0.0776,  0.2841, -0.1086],\n        [ 0.0166, -0.0705, -0.1538,  0.3901],\n        [ 0.1596,  0.1052,  0.1528, -0.3148],\n        [-0.3958, -0.0730,  0.4796, -0.0929]])), ('bias', tensor([ 0.4232, -0.3991, -0.4424,  0.3359,  0.0816, -0.0917,  0.4837, -0.3605]))])\nOrderedDict([('0.weight', tensor([[-0.0361,  0.4743,  0.2479, -0.0250],\n        [-0.4142, -0.1750, -0.3655, -0.0489],\n        [-0.3259,  0.4776,  0.4030,  0.1075],\n        [-0.3833,  0.2880,  0.2671,  0.1117],\n        [ 0.3833,  0.0776,  0.2841, -0.1086],\n        [ 0.0166, -0.0705, -0.1538,  0.3901],\n        [ 0.1596,  0.1052,  0.1528, -0.3148],\n        [-0.3958, -0.0730,  0.4796, -0.0929]])), ('0.bias', tensor([ 0.4232, -0.3991, -0.4424,  0.3359,  0.0816, -0.0917,  0.4837, -0.3605])), ('2.weight', tensor([[-0.2463,  0.1331,  0.0854,  0.3286, -0.1736, -0.1401,  0.0085,  0.0750]])), ('2.bias', tensor([0.1254]))])\n"
    }
   ],
   "source": [
    "# parameters only for the first layer\n",
    "print(net[0].state_dict())\n",
    "# parameters of the entire network\n",
    "print(net.state_dict())"
   ]
  },
  {
   "cell_type": "code",
   "execution_count": 6,
   "metadata": {},
   "outputs": [
    {
     "output_type": "execute_result",
     "data": {
      "text/plain": "tensor([0.1254])"
     },
     "metadata": {},
     "execution_count": 6
    }
   ],
   "source": [
    "net.state_dict()['2.bias'].data"
   ]
  },
  {
   "cell_type": "code",
   "execution_count": 7,
   "metadata": {},
   "outputs": [
    {
     "output_type": "execute_result",
     "data": {
      "text/plain": "tensor([[0.0417],\n        [0.0417]], grad_fn=<AddmmBackward>)"
     },
     "metadata": {},
     "execution_count": 7
    }
   ],
   "source": [
    "def block1():\n",
    "    return nn.Sequential(nn.Linear(4, 8), nn.ReLU(),\n",
    "                         nn.Linear(8, 4), nn.ReLU())\n",
    "\n",
    "def block2():\n",
    "    net = nn.Sequential()\n",
    "    for i in range(4):\n",
    "        net.add_module(f'block {i}', block1())\n",
    "    return net\n",
    "\n",
    "rgnet = nn.Sequential(block2(), nn.Linear(4, 1))\n",
    "rgnet(x)"
   ]
  },
  {
   "cell_type": "code",
   "execution_count": 8,
   "metadata": {},
   "outputs": [
    {
     "output_type": "execute_result",
     "data": {
      "text/plain": "tensor([[-0.4420],\n        [-0.4412]], grad_fn=<AddmmBackward>)"
     },
     "metadata": {},
     "execution_count": 8
    }
   ],
   "source": [
    "def block1():\n",
    "    return nn.Sequential(nn.Linear(4, 8), nn.ReLU(),\n",
    "                         nn.Linear(8, 4), nn.ReLU())\n",
    "\n",
    "def block2():\n",
    "    net = nn.Sequential()\n",
    "    for i in range(4):\n",
    "        net.add_module(f'block {i}', block1())\n",
    "    return net\n",
    "\n",
    "rgnet = nn.Sequential(block2(), nn.Linear(4, 1))\n",
    "rgnet(x)"
   ]
  },
  {
   "cell_type": "code",
   "execution_count": 9,
   "metadata": {},
   "outputs": [
    {
     "output_type": "execute_result",
     "data": {
      "text/plain": "tensor([ 0.2937, -0.1031, -0.0230,  0.4057, -0.1909, -0.1828, -0.2487, -0.4858])"
     },
     "metadata": {},
     "execution_count": 9
    }
   ],
   "source": [
    "rgnet[0][1][0].bias.data"
   ]
  },
  {
   "cell_type": "code",
   "execution_count": null,
   "metadata": {},
   "outputs": [],
   "source": []
  },
  {
   "cell_type": "code",
   "execution_count": 10,
   "metadata": {},
   "outputs": [
    {
     "output_type": "execute_result",
     "data": {
      "text/plain": "(tensor([ 0.0107, -0.0058, -0.0089,  0.0032]), tensor(0.))"
     },
     "metadata": {},
     "execution_count": 10
    }
   ],
   "source": [
    "def init_normal(m):\n",
    "    if type(m) == nn.Linear:\n",
    "        nn.init.normal_(net[0].weight, mean=0, std=0.01)\n",
    "        nn.init.zeros_(net[0].bias)\n",
    "net.apply(init_normal)\n",
    "net[0].weight.data[0], net[0].bias.data[0]"
   ]
  },
  {
   "cell_type": "code",
   "execution_count": 11,
   "metadata": {},
   "outputs": [
    {
     "output_type": "execute_result",
     "data": {
      "text/plain": "(tensor([1., 1., 1., 1.]), tensor(0.))"
     },
     "metadata": {},
     "execution_count": 11
    }
   ],
   "source": [
    "def init_normal(m):\n",
    "    if type(m) == nn.Linear:\n",
    "        nn.init.constant_(net[0].weight, 1)\n",
    "        nn.init.zeros_(net[0].bias)\n",
    "net.apply(init_normal)\n",
    "net[0].weight.data[0], net[0].bias.data[0]"
   ]
  },
  {
   "cell_type": "code",
   "execution_count": 12,
   "metadata": {
    "tags": []
   },
   "outputs": [
    {
     "output_type": "stream",
     "name": "stdout",
     "text": "tensor([-0.6599,  0.1358,  0.4828,  0.5439])\ntensor([[42., 42., 42., 42., 42., 42., 42., 42.]])\n"
    }
   ],
   "source": [
    "def xavier(m):\n",
    "    if type(m) == nn.Linear:\n",
    "        torch.nn.init.xavier_uniform_(m.weight)\n",
    "def init_42(m):\n",
    "    if type(m) == nn.Linear:\n",
    "        torch.nn.init.constant_(m.weight, 42)\n",
    "\n",
    "net[0].apply(xavier)\n",
    "net[2].apply(init_42)\n",
    "print(net[0].weight.data[0])\n",
    "print(net[2].weight.data)"
   ]
  },
  {
   "cell_type": "code",
   "execution_count": 13,
   "metadata": {},
   "outputs": [
    {
     "output_type": "execute_result",
     "data": {
      "text/plain": "tensor([[-0.0000, -0.0000,  7.5924,  0.0000],\n        [-5.6645, -0.0000, -8.7134, -7.9989]], grad_fn=<SliceBackward>)"
     },
     "metadata": {},
     "execution_count": 13
    }
   ],
   "source": [
    "def my_init(m):\n",
    "    if type(m) == nn.Linear:\n",
    "        nn.init.uniform_(m.weight, -10, 10)\n",
    "        m.weight.data *= m.weight.data.abs() >= 5\n",
    "\n",
    "net.apply(my_init)\n",
    "net[0].weight[0:2]"
   ]
  },
  {
   "cell_type": "code",
   "execution_count": 14,
   "metadata": {},
   "outputs": [
    {
     "output_type": "execute_result",
     "data": {
      "text/plain": "tensor([42.0000,  1.0000,  8.5924,  1.0000])"
     },
     "metadata": {},
     "execution_count": 14
    }
   ],
   "source": [
    "net[0].weight.data[:] += 1\n",
    "net[0].weight.data[0, 0] = 42\n",
    "net[0].weight.data[0]"
   ]
  },
  {
   "cell_type": "code",
   "execution_count": 15,
   "metadata": {
    "tags": []
   },
   "outputs": [
    {
     "output_type": "stream",
     "name": "stdout",
     "text": "tensor([True, True, True, True, True, True, True, True])\ntensor([True, True, True, True, True, True, True, True])\n"
    }
   ],
   "source": [
    "# We need to give the shared layer a name such that we can reference its\n",
    "# parameters\n",
    "shared = nn.Linear(8, 8)\n",
    "net = nn.Sequential(nn.Linear(4, 8), nn.ReLU(),\n",
    "                    shared, nn.ReLU(),\n",
    "                    shared, nn.ReLU(),\n",
    "                    nn.Linear(8, 1))\n",
    "net(x)\n",
    "# Check whether the parameters are the same\n",
    "print(net[2].weight.data[0] == net[4].weight.data[0])\n",
    "net[2].weight.data[0, 0] = 100\n",
    "# Make sure that they are actually the same object rather than just having the\n",
    "# same value\n",
    "print(net[2].weight.data[0] == net[4].weight.data[0])"
   ]
  },
  {
   "cell_type": "code",
   "execution_count": null,
   "metadata": {},
   "outputs": [],
   "source": []
  }
 ],
 "metadata": {
  "language_info": {
   "codemirror_mode": {
    "name": "ipython",
    "version": 3
   },
   "file_extension": ".py",
   "mimetype": "text/x-python",
   "name": "python",
   "nbconvert_exporter": "python",
   "pygments_lexer": "ipython3",
   "version": "3.7.6-final"
  },
  "orig_nbformat": 2,
  "kernelspec": {
   "name": "python37664bitpytorchconda0cdad03962454fdfb22b6d3ea1ad8fae",
   "display_name": "Python 3.7.6 64-bit ('pytorch': conda)"
  }
 },
 "nbformat": 4,
 "nbformat_minor": 2
}