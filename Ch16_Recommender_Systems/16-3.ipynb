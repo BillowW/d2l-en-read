{
 "metadata": {
  "language_info": {
   "codemirror_mode": {
    "name": "ipython",
    "version": 3
   },
   "file_extension": ".py",
   "mimetype": "text/x-python",
   "name": "python",
   "nbconvert_exporter": "python",
   "pygments_lexer": "ipython3",
   "version": "3.7.8-final"
  },
  "orig_nbformat": 2,
  "kernelspec": {
   "name": "python37864bitmxnetconda84e8bee5b66a4c7fa50e670e85772498",
   "display_name": "Python 3.7.8 64-bit ('mxnet': conda)"
  }
 },
 "nbformat": 4,
 "nbformat_minor": 2,
 "cells": [
  {
   "cell_type": "code",
   "execution_count": 1,
   "metadata": {},
   "outputs": [],
   "source": [
    "from d2l import mxnet as d2l\n",
    "from mxnet import autograd, gluon, np, npx\n",
    "from mxnet.gluon import nn\n",
    "import mxnet as mx\n",
    "npx.set_np()"
   ]
  },
  {
   "cell_type": "code",
   "execution_count": null,
   "metadata": {},
   "outputs": [],
   "source": [
    "class MF(nn.Block):\n",
    "    def __init__(self, num_factors, num_users, num_items, **kwargs):\n",
    "        super(MF, self).__init__(**kwargs)\n",
    "        self.P = nn.Embedding(input_dim=num_users, output_dim=num_factors)\n",
    "        self.Q = nn.Embedding(input_dim=num_items, output_dim=num_factors)\n",
    "        self.user_bias = nn.Embedding(num_users, 1)\n",
    "        self.item_bias = nn.Embedding(num_items, 1)\n",
    "\n",
    "    def forward(self, user_id, item_id):\n",
    "        P_u = self.P(user_id)\n",
    "        Q_i = self.Q(item_id)\n",
    "        b_u = self.user_bias(user_id)\n",
    "        b_i = self.item_bias(item_id)\n",
    "        outputs = (P_u * Q_i).sum(axis=1) + np.squeeze(b_u) + np.squeeze(b_i)\n",
    "        return outputs.flatten()"
   ]
  },
  {
   "cell_type": "code",
   "execution_count": null,
   "metadata": {},
   "outputs": [],
   "source": [
    "def evaluator(net, test_iter, devices):\n",
    "    rmse = mx.metric.RMSE()  # Get the RMSE\n",
    "    rmse_list = []\n",
    "    for idx, (users, items, ratings) in enumerate(test_iter):\n",
    "        u = gluon.utils.split_and_load(users, devices, even_split=False)\n",
    "        i = gluon.utils.split_and_load(items, devices, even_split=False)\n",
    "        r_ui = gluon.utils.split_and_load(ratings, devices, even_split=False)\n",
    "        r_hat = [net(u, i) for u, i in zip(u, i)]\n",
    "        rmse.update(labels=r_ui, preds=r_hat)\n",
    "        rmse_list.append(rmse.get()[1])\n",
    "    return float(np.mean(np.array(rmse_list)))"
   ]
  },
  {
   "cell_type": "code",
   "execution_count": null,
   "metadata": {},
   "outputs": [],
   "source": [
    "#@save\n",
    "def train_recsys_rating(net, train_iter, test_iter, loss, trainer, num_epochs,\n",
    "                        devices=d2l.try_all_gpus(), evaluator=None,\n",
    "                        **kwargs):\n",
    "    timer = d2l.Timer()\n",
    "    animator = d2l.Animator(xlabel='epoch', xlim=[1, num_epochs], ylim=[0, 2],\n",
    "                            legend=['train loss', 'test RMSE'])\n",
    "    for epoch in range(num_epochs):\n",
    "        metric, l = d2l.Accumulator(3), 0.\n",
    "        for i, values in enumerate(train_iter):\n",
    "            timer.start()\n",
    "            input_data = []\n",
    "            values = values if isinstance(values, list) else [values]\n",
    "            for v in values:\n",
    "                input_data.append(gluon.utils.split_and_load(v, devices))\n",
    "            train_feat = input_data[0:-1] if len(values) > 1 else input_data\n",
    "            train_label = input_data[-1]\n",
    "            with autograd.record():\n",
    "                preds = [net(*t) for t in zip(*train_feat)]\n",
    "                ls = [loss(p, s) for p, s in zip(preds, train_label)]\n",
    "            [l.backward() for l in ls]\n",
    "            l += sum([l.asnumpy() for l in ls]).mean() / len(devices)\n",
    "            trainer.step(values[0].shape[0])\n",
    "            metric.add(l, values[0].shape[0], values[0].size)\n",
    "            timer.stop()\n",
    "        if len(kwargs) > 0:  # It will be used in section AutoRec\n",
    "            test_rmse = evaluator(net, test_iter, kwargs['inter_mat'],\n",
    "                                  devices)\n",
    "        else:\n",
    "            test_rmse = evaluator(net, test_iter, devices)\n",
    "        train_l = l / (i + 1)\n",
    "        animator.add(epoch + 1, (train_l, test_rmse))\n",
    "    print(f'train loss {metric[0] / metric[1]:.3f}, '\n",
    "          f'test RMSE {test_rmse:.3f}')\n",
    "    print(f'{metric[2] * num_epochs / timer.sum():.1f} examples/sec '\n",
    "          f'on {str(devices)}')"
   ]
  },
  {
   "cell_type": "code",
   "execution_count": null,
   "metadata": {},
   "outputs": [],
   "source": [
    "devices = d2l.try_all_gpus()\n",
    "num_users, num_items, train_iter, test_iter = d2l.split_and_load_ml100k(\n",
    "    test_ratio=0.1, batch_size=512)\n",
    "net = MF(30, num_users, num_items)\n",
    "net.initialize(ctx=devices, force_reinit=True, init=mx.init.Normal(0.01))\n",
    "lr, num_epochs, wd, optimizer = 0.002, 20, 1e-5, 'adam'\n",
    "loss = gluon.loss.L2Loss()\n",
    "trainer = gluon.Trainer(net.collect_params(), optimizer,\n",
    "                        {\"learning_rate\": lr, 'wd': wd})\n",
    "train_recsys_rating(net, train_iter, test_iter, loss, trainer, num_epochs,\n",
    "                    devices, evaluator)"
   ]
  },
  {
   "cell_type": "code",
   "execution_count": null,
   "metadata": {},
   "outputs": [],
   "source": [
    "scores = net(np.array([20], dtype='int', ctx=devices[0]),\n",
    "             np.array([30], dtype='int', ctx=devices[0]))\n",
    "scores"
   ]
  }
 ]
}